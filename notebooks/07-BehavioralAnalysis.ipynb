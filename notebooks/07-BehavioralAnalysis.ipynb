{
 "cells": [
  {
   "cell_type": "markdown",
   "id": "adf4f044",
   "metadata": {},
   "source": [
    "# Behavioral Analysis\n",
    "\n",
    "This notebook analyze the behavioral performance of individual sessions."
   ]
  },
  {
   "cell_type": "code",
   "execution_count": 1,
   "id": "ff6679b7",
   "metadata": {},
   "outputs": [],
   "source": [
    "%config Completer.use_jedi = False"
   ]
  },
  {
   "cell_type": "code",
   "execution_count": 40,
   "id": "3fefd95c",
   "metadata": {},
   "outputs": [],
   "source": [
    "from collections import Counter\n",
    "import numpy as np\n",
    "import matplotlib.pyplot as plt\n",
    "from scipy.stats import sem\n",
    "\n",
    "from convnwb.io import load_nwbfile\n",
    "from convnwb.io import get_files, save_json\n",
    "\n",
    "from spiketools.plts.utils import make_axes, save_figure\n",
    "from spiketools.plts.data import plot_bar, plot_hist\n",
    "from spiketools.plts.style import drop_spines\n",
    "from spiketools.utils.base import count_elements"
   ]
  },
  {
   "cell_type": "code",
   "execution_count": 4,
   "id": "6ba38e2e",
   "metadata": {},
   "outputs": [],
   "source": [
    "import sys\n",
    "sys.path.append('../code')\n",
    "from utils import (compute_recall_percent, get_confidence_response)\n",
    "# from plts import plot_distance_error, plot_recall_correctness, plot_confidence_response"
   ]
  },
  {
   "cell_type": "code",
   "execution_count": 5,
   "id": "ce30d089",
   "metadata": {},
   "outputs": [],
   "source": [
    "import seaborn as sns\n",
    "sns.set_context('talk')"
   ]
  },
  {
   "cell_type": "markdown",
   "id": "f3e19428",
   "metadata": {},
   "source": [
    "## Settings"
   ]
  },
  {
   "cell_type": "code",
   "execution_count": 15,
   "id": "dc82ae4f",
   "metadata": {},
   "outputs": [],
   "source": [
    "# Define the base data folder\n",
    "data_folder = '/Users/clairehan/Documents/Data/JacobsLab/WVTH/NWB'"
   ]
  },
  {
   "cell_type": "markdown",
   "id": "4d8e5270",
   "metadata": {},
   "source": [
    "## Load data"
   ]
  },
  {
   "cell_type": "code",
   "execution_count": 16,
   "id": "4a4bb444",
   "metadata": {},
   "outputs": [
    {
     "data": {
      "text/plain": [
       "['THF_wv001_session_0.nwb',\n",
       " 'THF_wv001_session_2.nwb',\n",
       " 'THF_wv001_session_3.nwb',\n",
       " 'THF_wv001_session_4.nwb',\n",
       " 'THF_wv002_session_0.nwb',\n",
       " 'THF_wv002_session_1.nwb',\n",
       " 'THF_wv003_session_0.nwb',\n",
       " 'THF_wv004_session_0.nwb',\n",
       " 'THF_wv004_session_1.nwb',\n",
       " 'THF_wv005_session_0.nwb',\n",
       " 'THO_wv001_session_0.nwb',\n",
       " 'THO_wv001_session_2.nwb',\n",
       " 'THO_wv002_session_0.nwb',\n",
       " 'THO_wv002_session_1.nwb',\n",
       " 'THO_wv002_session_2.nwb',\n",
       " 'THO_wv003_session_0.nwb',\n",
       " 'THO_wv003_session_1.nwb',\n",
       " 'THO_wv004_session_0.nwb',\n",
       " 'THO_wv004_session_1.nwb',\n",
       " 'THO_wv004_session_2.nwb',\n",
       " 'THO_wv004_session_3.nwb',\n",
       " 'THO_wv005_session_0.nwb']"
      ]
     },
     "execution_count": 16,
     "metadata": {},
     "output_type": "execute_result"
    }
   ],
   "source": [
    "# Get the list of NWB files\n",
    "nwbfiles = get_files(data_folder)\n",
    "nwbfiles"
   ]
  },
  {
   "cell_type": "code",
   "execution_count": 17,
   "id": "36eff07b",
   "metadata": {},
   "outputs": [],
   "source": [
    "# Get the list of NWB files running THO, THF respectively\n",
    "nwbfiles_THF = get_files(data_folder, select='THF')\n",
    "nwbfiles_THO = get_files(data_folder, select='THO')"
   ]
  },
  {
   "cell_type": "code",
   "execution_count": 18,
   "id": "18c0fba4",
   "metadata": {},
   "outputs": [],
   "source": [
    "# Define session information\n",
    "session = {\n",
    "    'experiment' : 'THF',\n",
    "    'subject' : 'wv001',\n",
    "    'session' : 0\n",
    "}"
   ]
  },
  {
   "cell_type": "code",
   "execution_count": 19,
   "id": "8939179a",
   "metadata": {},
   "outputs": [],
   "source": [
    "# Load example NWB file\n",
    "nwbfile = load_nwbfile(session, data_folder)"
   ]
  },
  {
   "cell_type": "markdown",
   "id": "49858686",
   "metadata": {},
   "source": [
    "## Units per task"
   ]
  },
  {
   "cell_type": "code",
   "execution_count": 20,
   "id": "a7e59fa9",
   "metadata": {},
   "outputs": [],
   "source": [
    "# Get the number of keep units per session \n",
    "units_session = np.zeros(len(nwbfiles))\n",
    "for ind, nwbfile in enumerate(nwbfiles):\n",
    "    nwbfile, io = load_nwbfile(nwbfile, data_folder, return_io=True)\n",
    "    units_session[ind] = len(np.where(nwbfile.units.keep[:])[0])"
   ]
  },
  {
   "cell_type": "code",
   "execution_count": 26,
   "id": "27ec3a25",
   "metadata": {},
   "outputs": [
    {
     "data": {
      "image/png": "[encoded data removed]",
      "text/plain": [
       "<Figure size 360x288 with 1 Axes>"
      ]
     },
     "metadata": {
      "needs_background": "light"
     },
     "output_type": "display_data"
    }
   ],
   "source": [
    "_, ax = plt.subplots(figsize=(5, 4))\n",
    "plot_bar([sum(units_session), sum(units_session[1:10]), sum(units_session[11:22])], ['Total', 'Face', 'Object'], \n",
    "         color=['silver','#0F7AC0', '#D95319'], title='Uints per task', ax=ax)\n",
    "drop_spines(ax, ['top', 'right']) \n",
    "save_figure('units_task'+'.svg', '/Users/clairehan/Desktop/paper_fig', close=False, bbox_inches='tight')"
   ]
  },
  {
   "cell_type": "markdown",
   "id": "7b641a0b",
   "metadata": {},
   "source": [
    "## Units per brain region & hemisphere"
   ]
  },
  {
   "cell_type": "code",
   "execution_count": 27,
   "id": "070bcd36",
   "metadata": {},
   "outputs": [],
   "source": [
    "# Get the number of units per brain region\n",
    "labels = ['LAH', 'RAH', 'LA', 'RA', 'RAH', 'RPH']\n",
    "unit_all = []\n",
    "for ind, nwbfile in enumerate(nwbfiles):\n",
    "    nwbfile, io = load_nwbfile(nwbfile, data_folder, return_io=True)\n",
    "    unit = nwbfile.units['location'].data[:]\n",
    "    unit_all.append(unit)\n",
    "\n",
    "unit_all = np.concatenate(unit_all).ravel()\n",
    "unit_counts = count_elements(unit_all, labels=labels)"
   ]
  },
  {
   "cell_type": "code",
   "execution_count": 32,
   "id": "b71067a6",
   "metadata": {},
   "outputs": [
    {
     "data": {
      "image/png": "[encoded data removed]",
      "text/plain": [
       "<Figure size 576x288 with 2 Axes>"
      ]
     },
     "metadata": {
      "needs_background": "light"
     },
     "output_type": "display_data"
    }
   ],
   "source": [
    "ax1, ax2 = make_axes(2, 2, figsize=(8, 4), wspace=0.3)\n",
    "plot_bar([unit_counts['LAH'] + unit_counts['RAH'], unit_counts['LPH'] + unit_counts['RPH'], unit_counts['LA'] + \n",
    "          unit_counts['RA']], ['AH', 'PH', 'AMG'], title='Units per region', color='silver', ax=ax1)\n",
    "plot_bar([unit_counts['LAH'] + unit_counts['LPH'] + unit_counts['LA'], unit_counts['RAH'] + unit_counts['RPH'] \n",
    "          + unit_counts['RA']], ['Left', 'Right'], title='Units per hemisphere', color='silver', ax=ax2)\n",
    "# plot_bar([unit_counts['LAH'] + unit_counts['RAH'], unit_counts['LPH'] + unit_counts['RPH'], unit_counts['LA'] + \n",
    "#           unit_counts['RA']], ['AH', 'PH', 'AMG'], fill = False, edgecolor = 'black', ax=ax1)\n",
    "# plot_bar([unit_counts['LAH'] + unit_counts['LPH'] + unit_counts['LA'], unit_counts['RAH'] + unit_counts['RPH'] \n",
    "#           + unit_counts['RA']], ['Left', 'Right'], fill = False, edgecolor = 'red', ax=ax2)\n",
    "drop_spines(ax1, ['top', 'right'])\n",
    "drop_spines(ax2, ['top', 'right'])\n",
    "save_figure('units_region'+'.svg', '/Users/clairehan/Desktop/paper_fig', close=False, bbox_inches='tight')"
   ]
  },
  {
   "cell_type": "code",
   "execution_count": null,
   "id": "0af18d32",
   "metadata": {},
   "outputs": [],
   "source": [
    "# {\"LAH\": 81, \"LPH\": 120, \"LA\": 224, \"RA\": 60, \"RAH\": 36, \"RPH\": 26}\n",
    "# {\"LAH\": 112, \"LPH\": 118, \"LA\": 229, \"RA\": 103, \"RAH\": 56, \"RPH\": 25}"
   ]
  },
  {
   "cell_type": "markdown",
   "id": "c1d4047f",
   "metadata": {},
   "source": [
    "## Recall correctness"
   ]
  },
  {
   "cell_type": "code",
   "execution_count": 33,
   "id": "250c6c86",
   "metadata": {},
   "outputs": [],
   "source": [
    "# plot % of recall for one-back data\n",
    "behav_nback = sio.loadmat('/Users/clairehan/Desktop/research/WVTH/BehAcc.mat')\n",
    "correct_OBF = (behav_nback['AccCel'][0])*100\n",
    "correct_OBO = (behav_nback['AccImg'][0])*100"
   ]
  },
  {
   "cell_type": "code",
   "execution_count": 34,
   "id": "00ca2a21",
   "metadata": {},
   "outputs": [],
   "source": [
    "# Compute the percentage of recall for all data, and for each task\n",
    "# correct_all = compute_recall_percent(nwbfiles, data_folder)\n",
    "correct_THF = compute_recall_percent(nwbfiles_THF, data_folder)\n",
    "correct_THO = compute_recall_percent(nwbfiles_THO, data_folder)"
   ]
  },
  {
   "cell_type": "code",
   "execution_count": 43,
   "id": "a269b9bf",
   "metadata": {},
   "outputs": [
    {
     "data": {
      "image/png": "[encoded data removed]",
      "text/plain": [
       "<Figure size 576x288 with 2 Axes>"
      ]
     },
     "metadata": {
      "needs_background": "light"
     },
     "output_type": "display_data"
    }
   ],
   "source": [
    "ax1, ax2 = make_axes(2, 2, figsize=(8,4))\n",
    "drop_spines(ax1, ['top', 'right'])\n",
    "drop_spines(ax2, ['top', 'right'])\n",
    "\n",
    "plot_bar([correct_OBF.mean(0), correct_OBO.mean(0)], ['Face', 'Object'], ylabel='Recall (%)', title='One-Back',\n",
    "         yerr=[sem(correct_OBF, 0), sem(correct_OBO, 0)], ax=ax1, color=['#0F7AC0', '#D95319'], zorder=0)\n",
    "plot_bar([correct_THF.mean(0), correct_THO.mean(0)], ['Face', 'Object'], title='Treasure Hunt',\n",
    "         yerr=[sem(correct_THF, 0), sem(correct_THO, 0)], ax=ax2, color=['#0F7AC0', '#D95319'], zorder=0)\n",
    "\n",
    "x = [0,1]\n",
    "y_OB = [correct_OBF, correct_OBO]\n",
    "y_TH = [correct_THF, correct_THO]\n",
    "w=0.7\n",
    "\n",
    "for i in range(len(x)):\n",
    "    ax1.scatter(x[i] + np.random.random(y_OB[i].size) * w - w / 2, y_OB[i], color='black', marker='^', s=20)\n",
    "    ax2.scatter(x[i] + np.random.random(y_TH[i].size) * w - w / 2, y_TH[i], color='black', marker='^', s=20)\n",
    "\n",
    "save_figure('behav'+'.svg', '/Users/clairehan/Desktop/paper_fig', close=False, bbox_inches='tight')"
   ]
  },
  {
   "cell_type": "markdown",
   "id": "a2bae000",
   "metadata": {},
   "source": [
    "## Confidence response"
   ]
  },
  {
   "cell_type": "code",
   "execution_count": 32,
   "id": "4ba4e0e5",
   "metadata": {},
   "outputs": [],
   "source": [
    "# Count the number of confidence response in each category across sessions\n",
    "[conf_all, conf_THF, conf_THO] = Counter({'yes': 0, 'maybe':0, 'no':0})\n",
    "labels = ['yes', 'maybe', 'no']\n",
    "\n",
    "# conf_all = get_confidence_response(nwbfiles, data_folder, labels)\n",
    "conf_THF = get_confidence_response(nwbfiles_THF, data_folder, labels)\n",
    "conf_THO = get_confidence_response(nwbfiles_THO, data_folder, labels)"
   ]
  },
  {
   "cell_type": "code",
   "execution_count": 110,
   "id": "a3cd3079",
   "metadata": {},
   "outputs": [
    {
     "data": {
      "image/png": "[encoded data removed]",
      "text/plain": [
       "<Figure size 720x288 with 2 Axes>"
      ]
     },
     "metadata": {
      "needs_background": "light"
     },
     "output_type": "display_data"
    }
   ],
   "source": [
    "ax1, ax2 = make_axes(2, 2, figsize=(10, 4))\n",
    "plot_bar(conf_THF.values(), labels=conf_THF.keys(), ylabel='confidence response count', title='THF', ax=ax1, color='C0')\n",
    "plot_bar(conf_THO.values(), labels=conf_THO.keys(), title='THO', ax=ax2, color='C1')\n",
    "\n",
    "drop_spines(ax1, ['top', 'right'])\n",
    "drop_spines(ax2, ['top', 'right'])"
   ]
  },
  {
   "cell_type": "markdown",
   "id": "7dc92bc6",
   "metadata": {},
   "source": [
    "## Successful vs. Unsuccessful recall\n",
    "To-Dos:\n",
    "* add behavioral analysis for successful vs. unsuccessful recall"
   ]
  },
  {
   "cell_type": "code",
   "execution_count": null,
   "id": "02981038",
   "metadata": {},
   "outputs": [],
   "source": []
  }
 ],
 "metadata": {
  "kernelspec": {
   "display_name": "Python 3 (ipykernel)",
   "language": "python",
   "name": "python3"
  },
  "language_info": {
   "codemirror_mode": {
    "name": "ipython",
    "version": 3
   },
   "file_extension": ".py",
   "mimetype": "text/x-python",
   "name": "python",
   "nbconvert_exporter": "python",
   "pygments_lexer": "ipython3",
   "version": "3.9.12"
  }
 },
 "nbformat": 4,
 "nbformat_minor": 5
}
