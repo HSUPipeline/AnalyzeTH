{
 "cells": [
  {
   "cell_type": "markdown",
   "id": "052f6584",
   "metadata": {},
   "source": [
    "# Example Place Cells Visualization\n",
    "\n",
    "This notebook contains plots of example cells from the place cell analysis. "
   ]
  },
  {
   "cell_type": "code",
   "execution_count": 1,
   "id": "4ad5775a",
   "metadata": {},
   "outputs": [],
   "source": [
    "%config Completer.use_jedi = False"
   ]
  },
  {
   "cell_type": "code",
   "execution_count": 2,
   "id": "fea97af9",
   "metadata": {},
   "outputs": [],
   "source": [
    "import warnings\n",
    "warnings.filterwarnings(\"ignore\")\n",
    "\n",
    "import numpy as np\n",
    "import pandas as pd\n",
    "import matplotlib.pyplot as plt\n",
    "\n",
    "from convnwb.io import load_nwbfile\n",
    "from convnwb.io import get_files #, save_json\n",
    "\n",
    "from spiketools.measures.trials import compute_segment_frs\n",
    "from spiketools.measures.spikes import compute_firing_rate\n",
    "from spiketools.measures.conversions import convert_times_to_rates\n",
    "from spiketools.spatial.occupancy import (compute_bin_counts_assgn, compute_bin_edges, \n",
    "                                          compute_bin_assignment, normalize_bin_counts)\n",
    "from spiketools.spatial.place import (compute_occupancy, compute_bin_counts_pos,\n",
    "                                      compute_place_bins, compute_trial_place_bins)\n",
    "from spiketools.spatial.utils import compute_nbins, compute_pos_ranges, convert_2dindices\n",
    "from spiketools.spatial.target import compute_target_bins\n",
    "from spiketools.stats.shuffle import shuffle_spikes\n",
    "from spiketools.stats.permutations import compute_surrogate_stats\n",
    "from spiketools.utils.extract import get_values_by_times\n",
    "from spiketools.utils.epoch import epoch_data_by_range\n",
    "from spiketools.plts.spatial import plot_heatmap #, plot_positions, create_heat_title"
   ]
  },
  {
   "cell_type": "code",
   "execution_count": 3,
   "id": "e0d3bb7c",
   "metadata": {},
   "outputs": [],
   "source": [
    "import sys\n",
    "sys.path.append('../code')\n",
    "from models import * \n",
    "from utils import *\n",
    "from plts import *"
   ]
  },
  {
   "cell_type": "code",
   "execution_count": 4,
   "id": "201a2df5",
   "metadata": {},
   "outputs": [],
   "source": [
    "import seaborn as sns\n",
    "sns.set_context('talk')"
   ]
  },
  {
   "cell_type": "markdown",
   "id": "74139f62",
   "metadata": {},
   "source": [
    "## Settings"
   ]
  },
  {
   "cell_type": "code",
   "execution_count": 5,
   "id": "d7314952",
   "metadata": {},
   "outputs": [],
   "source": [
    "# Define the base data folder\n",
    "data_folder = '/Users/clairehan/Documents/Data/JacobsLab/WVTH/nwb'"
   ]
  },
  {
   "cell_type": "code",
   "execution_count": 6,
   "id": "5a7c1b82",
   "metadata": {},
   "outputs": [],
   "source": [
    "# Define session information\n",
    "session = {\n",
    "    'experiment' : 'THF',\n",
    "    'subject' : 'wv001',\n",
    "    'session' : 4\n",
    "}"
   ]
  },
  {
   "cell_type": "code",
   "execution_count": 7,
   "id": "8ab258bd",
   "metadata": {},
   "outputs": [],
   "source": [
    "# Set which example unit to extract\n",
    "uind = 52"
   ]
  },
  {
   "cell_type": "code",
   "execution_count": 8,
   "id": "fe8fa868",
   "metadata": {},
   "outputs": [],
   "source": [
    "# Define binning for chests (spatial target)\n",
    "chest_bins = [5, 8]\n",
    "bins = [7, 10]\n",
    "\n",
    "n_bins = compute_nbins(chest_bins)"
   ]
  },
  {
   "cell_type": "code",
   "execution_count": 9,
   "id": "9bc11857",
   "metadata": {},
   "outputs": [],
   "source": [
    "# Define occupancy settings: minimum required occupancy (in seconds) & speed threshold\n",
    "min_occ = 1\n",
    "speed_thresh = 5e-6\n",
    "time_thresh = 0.25\n",
    "\n",
    "occ_kwargs = {'minimum' : min_occ, 'normalize' : False, 'set_nan' : True}"
   ]
  },
  {
   "cell_type": "code",
   "execution_count": 10,
   "id": "e3bbc7fc",
   "metadata": {},
   "outputs": [],
   "source": [
    "# Shuffle Settings\n",
    "shuffle_approach = 'CIRCULAR'\n",
    "# shuffle_approach = 'BINCIRC'\n",
    "n_surrogates = 25\n",
    "\n",
    "if shuffle_approach == 'CIRCULAR':\n",
    "    shuffle_kwargs = {}\n",
    "if shuffle_approach == 'BINCIRC':\n",
    "    shuffle_kwargs = {'shuffle_min' : 20000}"
   ]
  },
  {
   "cell_type": "code",
   "execution_count": 11,
   "id": "3c428d29",
   "metadata": {},
   "outputs": [],
   "source": [
    "# Set which analysis method to run\n",
    "METHOD = 'ANOVA'"
   ]
  },
  {
   "cell_type": "markdown",
   "id": "93032792",
   "metadata": {},
   "source": [
    "## Load data"
   ]
  },
  {
   "cell_type": "code",
   "execution_count": 12,
   "id": "2a4a6120",
   "metadata": {},
   "outputs": [],
   "source": [
    "# Get the list of NWB files\n",
    "nwbfiles = get_files(data_folder)"
   ]
  },
  {
   "cell_type": "code",
   "execution_count": 13,
   "id": "91d3bfce",
   "metadata": {},
   "outputs": [],
   "source": [
    "# Load example NWB file\n",
    "nwbfile = load_nwbfile(session, data_folder)"
   ]
  },
  {
   "cell_type": "markdown",
   "id": "127bf13b",
   "metadata": {},
   "source": [
    "### Get trial data"
   ]
  },
  {
   "cell_type": "code",
   "execution_count": 14,
   "id": "8f34d443",
   "metadata": {},
   "outputs": [
    {
     "name": "stdout",
     "output_type": "stream",
     "text": [
      "Number of trials: 40\n"
     ]
    }
   ],
   "source": [
    "# Get the number of trials\n",
    "n_trials = len(nwbfile.trials)\n",
    "print('Number of trials: {}'.format(n_trials))"
   ]
  },
  {
   "cell_type": "code",
   "execution_count": 15,
   "id": "8fcb9ade",
   "metadata": {},
   "outputs": [],
   "source": [
    "nav_starts = nwbfile.trials.navigation_start[:]\n",
    "nav_stops = nwbfile.trials.navigation_stop[:]\n",
    "chest_openings = nwbfile.trials['chest_opening_time'][:]\n",
    "ch_openings_all = np.array(chest_openings).reshape(-1,1)"
   ]
  },
  {
   "cell_type": "markdown",
   "id": "b9fe4cfc",
   "metadata": {},
   "source": [
    "### Get spike data"
   ]
  },
  {
   "cell_type": "code",
   "execution_count": 16,
   "id": "7808eba4",
   "metadata": {},
   "outputs": [
    {
     "name": "stdout",
     "output_type": "stream",
     "text": [
      "Number of units: 93\n",
      "Number to keep:  51\n"
     ]
    }
   ],
   "source": [
    "# Check the number of units & keep indices\n",
    "n_units = len(nwbfile.units)\n",
    "keep_inds = np.where(nwbfile.units.keep[:])[0]\n",
    "n_keep = len(keep_inds)\n",
    "print('Number of units: {}'.format(n_units))\n",
    "print('Number to keep:  {}'.format(n_keep))"
   ]
  },
  {
   "cell_type": "code",
   "execution_count": 17,
   "id": "a573b104",
   "metadata": {},
   "outputs": [],
   "source": [
    "# Get spikes\n",
    "spikes = nwbfile.units.get_unit_spike_times(uind)"
   ]
  },
  {
   "cell_type": "markdown",
   "id": "60f21c48",
   "metadata": {},
   "source": [
    "### Get position data"
   ]
  },
  {
   "cell_type": "code",
   "execution_count": 18,
   "id": "a05a691c",
   "metadata": {},
   "outputs": [],
   "source": [
    "# Get area ranges, adding a buffer to the z-range (for tower transport)\n",
    "area_range = [nwbfile.acquisition['boundaries']['x_range'].data[:],\n",
    "              nwbfile.acquisition['boundaries']['z_range'].data[:]]\n",
    "area_range = [[area_range[0][0], area_range[0][1]], [area_range[1][0], area_range[1][1]]]"
   ]
  },
  {
   "cell_type": "code",
   "execution_count": 19,
   "id": "21c4f743",
   "metadata": {},
   "outputs": [],
   "source": [
    "# Get position & speed information\n",
    "positions = nwbfile.acquisition['position']['player_position'].data[:].T\n",
    "ptimes = nwbfile.acquisition['position']['player_position'].timestamps[:]\n",
    "stimes = nwbfile.processing['position_measures']['speed'].timestamps[:]\n",
    "speed = nwbfile.processing['position_measures']['speed'].data[:]"
   ]
  },
  {
   "cell_type": "code",
   "execution_count": 20,
   "id": "e2b091fe",
   "metadata": {},
   "outputs": [],
   "source": [
    "# Get position data for navigation segments\n",
    "ptimes_trials, positions_trials = epoch_data_by_range(ptimes, positions, nav_starts, nav_stops)\n",
    "stimes_trials, speed_trials = epoch_data_by_range(stimes, speed, nav_starts, nav_stops)\n",
    "\n",
    "# Recombine position data across selected navigation trials\n",
    "ptimes = np.hstack(ptimes_trials)\n",
    "positions = np.hstack(positions_trials)\n",
    "stimes = np.hstack(stimes_trials)\n",
    "speed = np.hstack(speed_trials)\n",
    "\n",
    "spike_positions = get_values_by_times(ptimes, positions, spikes, threshold=0.1)"
   ]
  },
  {
   "cell_type": "code",
   "execution_count": 21,
   "id": "f94679c8",
   "metadata": {},
   "outputs": [],
   "source": [
    "# Define the segment times of interest\n",
    "seg_times = np.insert(np.array(chest_openings), 0, nav_starts, axis=1)"
   ]
  },
  {
   "cell_type": "markdown",
   "id": "dd5e0716",
   "metadata": {},
   "source": [
    "## Subject position"
   ]
  },
  {
   "cell_type": "code",
   "execution_count": 22,
   "id": "1e6727a6",
   "metadata": {},
   "outputs": [],
   "source": [
    "# Check binning\n",
    "x_bin_edges, y_bin_edges = compute_bin_edges(positions, bins, area_range)\n",
    "\n",
    "# Compute place occupancy\n",
    "occ = compute_occupancy(positions, ptimes, bins, area_range,\n",
    "                        speed, speed_thresh, time_thresh, **occ_kwargs)"
   ]
  },
  {
   "cell_type": "code",
   "execution_count": 23,
   "id": "310d5d6c",
   "metadata": {},
   "outputs": [],
   "source": [
    "# Compute summary map of bin firing\n",
    "bin_firing = compute_bin_counts_pos(spike_positions, bins, area_range)\n",
    "\n",
    "# Normalize bin firing by occupancy\n",
    "normed_bin_firing = normalize_bin_counts(bin_firing, occ)"
   ]
  },
  {
   "cell_type": "markdown",
   "id": "0b0e80a8",
   "metadata": {},
   "source": [
    "## Chest position"
   ]
  },
  {
   "cell_type": "code",
   "execution_count": 24,
   "id": "24b7690c",
   "metadata": {},
   "outputs": [],
   "source": [
    "# Define the area range for chest appearance \n",
    "area_range_chest = [[360, 410], [320, 400]]\n",
    "\n",
    "# Get chest positions\n",
    "chest_xs, chest_ys = nwbfile.acquisition['stimuli']['chest_positions'].data[:].T\n",
    "chest_trials = nwbfile.trials.chest_trials[:]\n",
    "\n",
    "# Compute edges for chest binning\n",
    "x_edges, y_edges = compute_bin_edges(positions, chest_bins, area_range=area_range_chest)\n",
    "\n",
    "# Assign each chest to a bin\n",
    "chest_pos = np.array([chest_xs, chest_ys])\n",
    "ch_xbin, ch_ybin = compute_bin_assignment(chest_pos, x_edges, y_edges)\n",
    "\n",
    "# Compute the 1d equivalent of the 2d indices\n",
    "chbins = convert_2dindices(ch_xbin, ch_ybin, chest_bins)\n",
    "\n",
    "chest_trial_number = np.array(list(range(len(chest_trials)))).reshape(n_trials,4)"
   ]
  },
  {
   "cell_type": "code",
   "execution_count": 25,
   "id": "02a5f87a",
   "metadata": {},
   "outputs": [],
   "source": [
    "# Compute chest occupancy\n",
    "chest_occupancy = compute_bin_counts_assgn(chest_bins, ch_xbin, ch_ybin)\n",
    "\n",
    "# Compute the segment firing rate per chest segment, per trial\n",
    "target_frs = compute_segment_frs(spikes, seg_times)\n",
    "\n",
    "# Compute the average firing across spatial target bins\n",
    "target_bins = compute_target_bins(target_frs, chest_bins, ch_xbin, ch_ybin, chest_occupancy)\n",
    "target_bins_reshaped = reshape_bins(target_bins, bins)"
   ]
  },
  {
   "cell_type": "markdown",
   "id": "d7c624dc",
   "metadata": {},
   "source": [
    "## One example place cell"
   ]
  },
  {
   "cell_type": "code",
   "execution_count": 27,
   "id": "ce1b1688",
   "metadata": {
    "scrolled": false
   },
   "outputs": [
    {
     "data": {
      "image/png": "[encoded data removed]",
      "text/plain": [
       "<Figure size 360x432 with 2 Axes>"
      ]
     },
     "metadata": {
      "needs_background": "light"
     },
     "output_type": "display_data"
    }
   ],
   "source": [
    "plot_heatmap(normed_bin_firing, title='FR by subject position', aspect='auto', cbar=True, figsize=(5,6))"
   ]
  },
  {
   "cell_type": "markdown",
   "id": "7f6b0dcb",
   "metadata": {},
   "source": [
    "## Place vs. target cell comparison"
   ]
  },
  {
   "cell_type": "markdown",
   "id": "48acefff",
   "metadata": {},
   "source": [
    "#### Statistical analysis (place)"
   ]
  },
  {
   "cell_type": "code",
   "execution_count": 28,
   "id": "a9f8331e",
   "metadata": {},
   "outputs": [],
   "source": [
    "# Create shuffled time series for comparison\n",
    "times_shuffle = shuffle_spikes(spikes, shuffle_approach, n_surrogates)"
   ]
  },
  {
   "cell_type": "code",
   "execution_count": 29,
   "id": "be0e64fe",
   "metadata": {},
   "outputs": [],
   "source": [
    "# Collect place firing, organized per trial\n",
    "place_trial = compute_trial_place_bins(spikes, positions, ptimes, bins, nav_starts, nav_stops, \n",
    "                                       area_range, speed, speed_thresh, time_thresh,\n",
    "                                       flatten=True, **occ_kwargs)"
   ]
  },
  {
   "cell_type": "code",
   "execution_count": 30,
   "id": "05bf3649",
   "metadata": {},
   "outputs": [],
   "source": [
    "# Create the dataframe\n",
    "df = create_df_place(place_trial, dropna=True)"
   ]
  },
  {
   "cell_type": "code",
   "execution_count": 31,
   "id": "f44dbd3f",
   "metadata": {},
   "outputs": [],
   "source": [
    "# Fit the ANOVA, and get the f-value\n",
    "f_val = fit_anova_place(df)"
   ]
  },
  {
   "cell_type": "code",
   "execution_count": 32,
   "id": "ed4aef28",
   "metadata": {},
   "outputs": [],
   "source": [
    "# Compute measures on surrogates\n",
    "surrogates = np.zeros(n_surrogates)\n",
    "for ind, shuffle in enumerate(times_shuffle):\n",
    "    place_trial = compute_trial_place_bins(shuffle, positions, ptimes, bins, nav_starts, nav_stops,\n",
    "                                           area_range, speed, speed_thresh, time_thresh,\n",
    "                                           flatten=True, **occ_kwargs)\n",
    "    surrogates[ind] = fit_anova_place(create_df_place(place_trial))"
   ]
  },
  {
   "cell_type": "code",
   "execution_count": 33,
   "id": "cb96a157",
   "metadata": {},
   "outputs": [
    {
     "name": "stdout",
     "output_type": "stream",
     "text": [
      "p-value: 0.00\n",
      "z-score: 2.75\n"
     ]
    }
   ],
   "source": [
    "# Compute statistics on the surrogates\n",
    "p_val, z_score = compute_surrogate_stats(f_val, surrogates, verbose=True)"
   ]
  },
  {
   "cell_type": "markdown",
   "id": "0eea5c68",
   "metadata": {},
   "source": [
    "#### Statistical analysis (target)"
   ]
  },
  {
   "cell_type": "code",
   "execution_count": 34,
   "id": "3f09e396",
   "metadata": {},
   "outputs": [],
   "source": [
    "# Create dataframe, with 1d (flattened) spatial bin labels\n",
    "df_target = create_df_target({'trial' : chest_trials,\n",
    "                       'target_bin' : chbins,\n",
    "                       'fr' : target_frs.flatten()})"
   ]
  },
  {
   "cell_type": "code",
   "execution_count": 35,
   "id": "4d8fc775",
   "metadata": {},
   "outputs": [],
   "source": [
    "# Fit the ANOVA, and get the f-value\n",
    "f_val_target = fit_anova_target(df_target)"
   ]
  },
  {
   "cell_type": "code",
   "execution_count": 36,
   "id": "96c40752",
   "metadata": {},
   "outputs": [],
   "source": [
    "# Compute measures on surrogates\n",
    "surrogates_target = np.zeros(n_surrogates)\n",
    "for ind, shuffle in enumerate(times_shuffle):\n",
    "    df_target = create_df_target({'trial' : chest_trials, 'target_bin' : chbins,\n",
    "                           'fr' :compute_segment_frs(shuffle, seg_times).flatten()})\n",
    "    surrogates_target[ind] = fit_anova_target(df_target)"
   ]
  },
  {
   "cell_type": "code",
   "execution_count": 37,
   "id": "b7bfa5ec",
   "metadata": {},
   "outputs": [
    {
     "name": "stdout",
     "output_type": "stream",
     "text": [
      "p-value: 0.08\n",
      "z-score: 1.73\n"
     ]
    }
   ],
   "source": [
    "# Compute statistics on the surrogates\n",
    "p_val_target, z_score_target = compute_surrogate_stats(f_val_target, surrogates_target, verbose=True)"
   ]
  },
  {
   "cell_type": "markdown",
   "id": "cd68ab8a",
   "metadata": {},
   "source": [
    "#### Plot with surrogates distributions"
   ]
  },
  {
   "cell_type": "code",
   "execution_count": 38,
   "id": "58fe9c19",
   "metadata": {},
   "outputs": [
    {
     "data": {
      "image/png": "[encoded data removed]",
      "text/plain": [
       "<Figure size 720x576 with 6 Axes>"
      ]
     },
     "metadata": {
      "needs_background": "light"
     },
     "output_type": "display_data"
    }
   ],
   "source": [
    "plot_place_target_comparison(normed_bin_firing, target_bins_reshaped, surrogates, surrogates_target, 8, \n",
    "                            f_val, f_val_target, p_val, p_val_target)"
   ]
  },
  {
   "cell_type": "markdown",
   "id": "9f8c7431",
   "metadata": {},
   "source": [
    "## All significant cells"
   ]
  },
  {
   "cell_type": "code",
   "execution_count": null,
   "id": "2d08d230",
   "metadata": {},
   "outputs": [],
   "source": [
    "# Load & merge the results sheets of THF & THO\n",
    "df_THF = pd.read_excel(\"/Users/clairehan/Desktop/research/WVTH/THF_all_results.xlsx\")\n",
    "df_THO = pd.read_excel(\"/Users/clairehan/Desktop/research/WVTH/THO_all_results.xlsx\")\n",
    "df = df_THF.append(df_THO)"
   ]
  },
  {
   "cell_type": "code",
   "execution_count": null,
   "id": "b60377e0",
   "metadata": {},
   "outputs": [],
   "source": [
    "# Create a dataframe for significant spatial target cells\n",
    "df_place = df[df.is_place_cell]\n",
    "df_place.head()"
   ]
  },
  {
   "cell_type": "code",
   "execution_count": null,
   "id": "c3302e9d",
   "metadata": {},
   "outputs": [],
   "source": [
    "# # Plot the visualization for all significant place cells\n",
    "# for nwbfile in nwbfiles:\n",
    "#     nwbfile, io = load_nwbfile(nwbfile, data_folder, return_io=True)\n",
    "#     name = nwbfile.session_id\n",
    "    \n",
    "#     # Get indices of significant target cell from each session\n",
    "#     inds = np.where(df_place.session == name)[0]\n",
    "#     inds_uid = df_place.uid.iloc[inds].values\n",
    "    \n",
    "#     # Get trial information \n",
    "#     n_trials = len(nwbfile.trials)\n",
    "#     nav_starts = nwbfile.trials.navigation_start[:]\n",
    "#     nav_stops = nwbfile.trials.navigation_stop[:]\n",
    "#     chest_openings = nwbfile.trials['chest_opening_time'][:]\n",
    "#     ch_openings_all = np.array(chest_openings).reshape(-1,1)\n",
    "\n",
    "#     # Get area ranges, adding a buffer to the z-range (for tower transport)\n",
    "#     area_range = [nwbfile.acquisition['boundaries']['x_range'].data[:],\n",
    "#                   nwbfile.acquisition['boundaries']['z_range'].data[:]]\n",
    "#     area_range_chest = [[360, 410], [320, 400]]\n",
    "    \n",
    "#     # Get position & speed information\n",
    "#     positions = nwbfile.acquisition['position']['player_position'].data[:].T\n",
    "#     ptimes = nwbfile.acquisition['position']['player_position'].timestamps[:]\n",
    "#     stimes = nwbfile.processing['position_measures']['speed'].timestamps[:]\n",
    "#     speed = nwbfile.processing['position_measures']['speed'].data[:]\n",
    "\n",
    "#     # Get position data for navigation segments\n",
    "#     ptimes_trials, positions_trials = epoch_data_by_range(ptimes, positions, nav_starts, nav_stops)\n",
    "#     stimes_trials, speed_trials = epoch_data_by_range(stimes, speed, nav_starts, nav_stops)\n",
    "\n",
    "#     # Recombine position data across selected navigation trials\n",
    "#     ptimes = np.hstack(ptimes_trials)\n",
    "#     positions = np.hstack(positions_trials)\n",
    "#     stimes = np.hstack(stimes_trials)\n",
    "#     speed = np.hstack(speed_trials)\n",
    "\n",
    "#     # Get chest positions\n",
    "#     chest_xs, chest_ys = nwbfile.acquisition['stimuli']['chest_positions'].data[:].T\n",
    "#     chest_trials = nwbfile.trials.chest_trials[:]\n",
    "#     chest_trial_number = np.array(list(range(len(chest_trials)))).reshape(n_trials,4)\n",
    "    \n",
    "#     # Compute edges for chest binning\n",
    "#     x_edges, y_edges = compute_bin_edges(positions, chest_bins, area_range=area_range_chest)\n",
    "    \n",
    "#     # Check binning\n",
    "#     x_bin_edges, y_bin_edges = compute_bin_edges(positions, bins, area_range)\n",
    "\n",
    "#     # Assign each chest to a bin\n",
    "#     chest_pos = np.array([chest_xs, chest_ys])\n",
    "#     ch_xbin, ch_ybin = compute_bin_assignment(chest_pos, x_edges, y_edges)\n",
    "    \n",
    "#     # Compute the 1d equivalent of the 2d indices\n",
    "#     chbins = convert_2dindices(ch_xbin, ch_ybin, chest_bins)\n",
    "\n",
    "#     # Compute chest & place occupancy\n",
    "#     chest_occupancy = compute_bin_counts_assgn(chest_bins, ch_xbin, ch_ybin)\n",
    "#     occ = compute_occupancy(positions, ptimes, bins, area_range,\n",
    "#                             speed, speed_thresh, time_thresh, **occ_kwargs)\n",
    "    \n",
    "#     # Define the segment times of interest\n",
    "#     seg_times = np.insert(np.array(chest_openings), 0, nav_starts, axis=1)\n",
    "    \n",
    "#     for ind in inds_uid: \n",
    "#         name_ind = nwbfile.session_id + '_U' + str(ind).zfill(2)\n",
    "        \n",
    "#         # Get spike data for each significant unit\n",
    "#         spikes = nwbfile.units.get_unit_spike_times(ind)\n",
    "#         spike_positions = get_values_by_times(ptimes, positions, spikes, threshold=0.1)\n",
    "        \n",
    "#         # Compute firing rate per spatial target bin\n",
    "#         target_frs = compute_segment_frs(spikes, seg_times)\n",
    "#         target_bins = compute_target_bins(target_frs, chest_bins, ch_xbin, ch_ybin, chest_occupancy)\n",
    "#         target_bins_reshaped = reshape_bins(target_bins, bins)\n",
    "        \n",
    "#         # Compute summary map of bin firing\n",
    "#         bin_firing = compute_bin_counts_pos(spike_positions, bins, area_range)\n",
    "\n",
    "#         # Normalize bin firing by occupancy\n",
    "#         normed_bin_firing = normalize_bin_counts(bin_firing, occ)\n",
    "        \n",
    "#         # Create shuffled time series for comparison\n",
    "#         times_shuffle = shuffle_spikes(spikes, shuffle_approach, n_surrogates)\n",
    "        \n",
    "#         # Collect place firing, organized per trial\n",
    "#         place_trial = compute_trial_place_bins(spikes, positions, ptimes, bins, nav_starts, nav_stops, \n",
    "#                                                area_range, speed, speed_thresh, time_thresh,\n",
    "#                                                flatten=True, **occ_kwargs)\n",
    "#         # Create the dataframes\n",
    "#         df = create_df_place(place_trial, dropna=True)\n",
    "#         df_target = create_df_target({'trial' : chest_trials, 'target_bin' : chbins,\n",
    "#                                       'fr' : target_frs.flatten()})\n",
    "        \n",
    "#         # Fit the ANOVA, and get the f-value\n",
    "#         f_val = fit_anova_place(df)\n",
    "#         f_val_target = fit_anova_target(df_target)\n",
    "        \n",
    "#         # Compute measures on surrogates\n",
    "#         surrogates = np.zeros(n_surrogates)\n",
    "#         surrogates_target = np.zeros(n_surrogates)\n",
    "#         for ind, shuffle in enumerate(times_shuffle):\n",
    "#             place_trial = compute_trial_place_bins(shuffle, positions, ptimes, bins, nav_starts, nav_stops,\n",
    "#                                                    area_range, speed, speed_thresh, time_thresh,\n",
    "#                                                    flatten=True, **occ_kwargs)\n",
    "#             surrogates[ind] = fit_anova_place(create_df_place(place_trial))\n",
    "            \n",
    "#             df_target = create_df_target({'trial' : chest_trials, 'target_bin' : chbins,\n",
    "#                                           'fr' :compute_segment_frs(shuffle, seg_times).flatten()})\n",
    "#             surrogates_target[ind] = fit_anova_target(df_target)\n",
    "        \n",
    "#         # Compute statistics on the surrogates\n",
    "#         p_val, z_score = compute_surrogate_stats(f_val, surrogates, verbose=False)\n",
    "#         p_val_target, z_score_target = compute_surrogate_stats(f_val_target, surrogates_target, verbose=False)\n",
    "        \n",
    "#         # Plot place & target side by side with surrogates distribution\n",
    "#         plot_place_target_comparison(normed_bin_firing, target_bins_reshaped, surrogates, \n",
    "#                                      surrogates_target, 10, f_val, f_val_target, p_val, p_val_target)"
   ]
  }
 ],
 "metadata": {
  "kernelspec": {
   "display_name": "Python 3 (ipykernel)",
   "language": "python",
   "name": "python3"
  },
  "language_info": {
   "codemirror_mode": {
    "name": "ipython",
    "version": 3
   },
   "file_extension": ".py",
   "mimetype": "text/x-python",
   "name": "python",
   "nbconvert_exporter": "python",
   "pygments_lexer": "ipython3",
   "version": "3.9.12"
  }
 },
 "nbformat": 4,
 "nbformat_minor": 5
}
