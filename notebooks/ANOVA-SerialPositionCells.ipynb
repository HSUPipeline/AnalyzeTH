{
 "cells": [
  {
   "cell_type": "markdown",
   "id": "be2a4891",
   "metadata": {},
   "source": [
    "# Serial Position Cell Analysis"
   ]
  },
  {
   "cell_type": "markdown",
   "id": "f000beec",
   "metadata": {},
   "source": [
    "Analyze TH data for serial positon cells. \n",
    "\n",
    "Cells of interest:\n",
    "- 74 looks to be a serial position cell (not sure which session...)"
   ]
  },
  {
   "cell_type": "code",
   "execution_count": 1,
   "id": "2708f16b",
   "metadata": {},
   "outputs": [],
   "source": [
    "%config Completer.use_jedi = False"
   ]
  },
  {
   "cell_type": "code",
   "execution_count": 2,
   "id": "ad74661d",
   "metadata": {},
   "outputs": [],
   "source": [
    "from pathlib import Path\n",
    "from collections import Counter\n",
    "\n",
    "import numpy as np\n",
    "import pandas as pd\n",
    "from scipy.stats import sem\n",
    "import matplotlib.pyplot as plt\n",
    "import statsmodels.api as sm\n",
    "import statsmodels.formula.api as smf\n",
    "from statsmodels.formula.api import ols\n",
    "from statsmodels.stats.anova import anova_lm\n",
    "\n",
    "from pynwb import NWBHDF5IO\n",
    "\n",
    "from spiketools.stats.shuffle import shuffle_spikes\n",
    "from spiketools.stats.permutations import zscore_to_surrogates, compute_empirical_pvalue\n",
    "from spiketools.plts.space import plot_positions\n",
    "from spiketools.plts.stats import plot_surrogates\n",
    "from spiketools.plts.utils import make_axes\n",
    "from spiketools.plts.data import plot_bar\n",
    "from spiketools.utils import restrict_range\n",
    "from spiketools.utils.data import get_value_by_time, get_value_by_time_range"
   ]
  },
  {
   "cell_type": "code",
   "execution_count": 3,
   "id": "f8e78125",
   "metadata": {},
   "outputs": [],
   "source": [
    "import seaborn as sns\n",
    "sns.set_context('talk')\n",
    "\n",
    "import warnings\n",
    "warnings.filterwarnings('ignore')"
   ]
  },
  {
   "cell_type": "code",
   "execution_count": 4,
   "id": "2c5573e7",
   "metadata": {
    "scrolled": true
   },
   "outputs": [],
   "source": [
    "import sys\n",
    "sys.path.append('../code')\n",
    "from analysis import get_spike_positions\n",
    "from target import compute_serial_position_fr"
   ]
  },
  {
   "cell_type": "markdown",
   "id": "001d9c0d",
   "metadata": {},
   "source": [
    "# Settings"
   ]
  },
  {
   "cell_type": "code",
   "execution_count": 5,
   "id": "0f597e26",
   "metadata": {},
   "outputs": [],
   "source": [
    "# Define the base data folder\n",
    "#data_folder = Path('/Users/Claire_han/Documents/Data/JacobsLab/TH/')\n",
    "data_folder = Path('/Users/tom/Documents/Data/JacobsLab/TH/')"
   ]
  },
  {
   "cell_type": "code",
   "execution_count": 6,
   "id": "c914bdee",
   "metadata": {},
   "outputs": [],
   "source": [
    "# Define subject information\n",
    "task = 'THF'\n",
    "subj = 'wv001'\n",
    "session = 2"
   ]
  },
  {
   "cell_type": "code",
   "execution_count": 7,
   "id": "a4768b1f",
   "metadata": {},
   "outputs": [],
   "source": [
    "# Shuffle Settings\n",
    "# shuffle_approach = 'BINCIRC'\n",
    "\n",
    "shuffle_approach = 'CIRCULAR'\n",
    "n_surrogates = 100"
   ]
  },
  {
   "cell_type": "code",
   "execution_count": 8,
   "id": "00786cf5",
   "metadata": {},
   "outputs": [],
   "source": [
    "# Set example unit to analyze\n",
    "uind = 74"
   ]
  },
  {
   "cell_type": "markdown",
   "id": "e1d39784",
   "metadata": {},
   "source": [
    "# Load Data"
   ]
  },
  {
   "cell_type": "code",
   "execution_count": 9,
   "id": "2bbf7489",
   "metadata": {},
   "outputs": [],
   "source": [
    "# Define expected NWB file name & full path\n",
    "file_name = '_'.join([task, subj, 'session_' + str(session)]) + '.nwb'\n",
    "full_path = data_folder / 'NWB' / file_name"
   ]
  },
  {
   "cell_type": "code",
   "execution_count": 10,
   "id": "3142a31f",
   "metadata": {},
   "outputs": [],
   "source": [
    "# Load NWB file\n",
    "io = NWBHDF5IO(str(full_path), 'r')\n",
    "nwbfile = io.read()"
   ]
  },
  {
   "cell_type": "markdown",
   "id": "c36ca17f",
   "metadata": {},
   "source": [
    "#### Get Trial Data"
   ]
  },
  {
   "cell_type": "code",
   "execution_count": 11,
   "id": "94f0c03a",
   "metadata": {},
   "outputs": [
    {
     "name": "stdout",
     "output_type": "stream",
     "text": [
      "Number of trials: 24\n"
     ]
    }
   ],
   "source": [
    "# Get the number of trials\n",
    "n_trials = len(nwbfile.trials)\n",
    "print('Number of trials: {}'.format(n_trials))"
   ]
  },
  {
   "cell_type": "code",
   "execution_count": 12,
   "id": "26354040",
   "metadata": {},
   "outputs": [],
   "source": [
    "# Extract behavioural markers of interest\n",
    "nav_starts = nwbfile.trials['navigation_start'].data[:]\n",
    "chest_openings = nwbfile.trials['chest_opening_time'][:]"
   ]
  },
  {
   "cell_type": "markdown",
   "id": "c377f6a8",
   "metadata": {},
   "source": [
    "#### Get Unit Data"
   ]
  },
  {
   "cell_type": "code",
   "execution_count": 13,
   "id": "0c25c622",
   "metadata": {
    "scrolled": true
   },
   "outputs": [
    {
     "name": "stdout",
     "output_type": "stream",
     "text": [
      "Number of units: 81\n",
      "Number to keep:  57\n"
     ]
    }
   ],
   "source": [
    "# Check the number of units & keep indices\n",
    "n_units = len(nwbfile.units)\n",
    "keep_inds = np.where(nwbfile.units.keep[:])[0]\n",
    "n_keep = len(keep_inds)\n",
    "print('Number of units: {}'.format(n_units))\n",
    "print('Number to keep:  {}'.format(n_keep))"
   ]
  },
  {
   "cell_type": "code",
   "execution_count": 14,
   "id": "0a704dd6",
   "metadata": {},
   "outputs": [],
   "source": [
    "# Get spikes\n",
    "spikes = nwbfile.units.get_unit_spike_times(uind)"
   ]
  },
  {
   "cell_type": "markdown",
   "id": "3a2129b6",
   "metadata": {},
   "source": [
    "#### Get Position Data"
   ]
  },
  {
   "cell_type": "code",
   "execution_count": 15,
   "id": "9956705e",
   "metadata": {},
   "outputs": [],
   "source": [
    "# Extract the position data\n",
    "ptimes = nwbfile.acquisition['position']['player_position'].timestamps[:]\n",
    "positions = nwbfile.acquisition['position']['player_position'].data[:].T"
   ]
  },
  {
   "cell_type": "code",
   "execution_count": 16,
   "id": "805c75c6",
   "metadata": {},
   "outputs": [],
   "source": [
    "# Get the chest positions & trial indices\n",
    "chest_xs, chest_ys = nwbfile.acquisition['stimuli']['chest_positions'].data[:].T\n",
    "chest_trials = nwbfile.trials.chest_trials[:]"
   ]
  },
  {
   "cell_type": "markdown",
   "id": "3d9708ec",
   "metadata": {},
   "source": [
    "# ANOVA Test\n",
    "\n",
    "Use fr ~ C(segment), real data"
   ]
  },
  {
   "cell_type": "markdown",
   "id": "c98bb323",
   "metadata": {},
   "source": [
    "## Single Trial"
   ]
  },
  {
   "cell_type": "code",
   "execution_count": 17,
   "id": "6ed0b976",
   "metadata": {},
   "outputs": [],
   "source": [
    "# Get trial information\n",
    "t_ind = 10\n",
    "#t_st = nwbfile.trials['start_time'][t_ind]\n",
    "t_st = nwbfile.trials['navigation_start'][t_ind]\n",
    "ch_openings = nwbfile.trials['chest_opening_time'][t_ind]\n",
    "t_en = ch_openings[-1]"
   ]
  },
  {
   "cell_type": "code",
   "execution_count": 18,
   "id": "fa8f7544",
   "metadata": {},
   "outputs": [],
   "source": [
    "# Get the chests for the current trial\n",
    "t_mask = chest_trials == t_ind"
   ]
  },
  {
   "cell_type": "code",
   "execution_count": 19,
   "id": "eb2d7e5c",
   "metadata": {},
   "outputs": [],
   "source": [
    "# Select chest openings for the current trial\n",
    "t_time, t_pos = get_value_by_time_range(ptimes, positions, t_st, t_en)\n",
    "ch_times = [get_value_by_time(t_time, t_pos, ch_op) for ch_op in ch_openings]"
   ]
  },
  {
   "cell_type": "code",
   "execution_count": 20,
   "id": "ae6729f9",
   "metadata": {},
   "outputs": [],
   "source": [
    "# Restrict spikes to the selected trial\n",
    "t_spikes = restrict_range(spikes, t_st, t_en)\n",
    "t_spike_xs, t_spike_ys = get_spike_positions(t_spikes, t_time, t_pos)\n",
    "spike_positions = np.array([t_spike_xs, t_spike_ys])"
   ]
  },
  {
   "cell_type": "code",
   "execution_count": 21,
   "id": "108357fd",
   "metadata": {},
   "outputs": [
    {
     "data": {
      "text/plain": [
       "[<matplotlib.lines.Line2D at 0x7fa5c447abb0>]"
      ]
     },
     "execution_count": 21,
     "metadata": {},
     "output_type": "execute_result"
    },
    {
     "data": {
      "image/png": "[encoded data removed]",
      "text/plain": [
       "<Figure size 360x504 with 1 Axes>"
      ]
     },
     "metadata": {
      "needs_background": "light"
     },
     "output_type": "display_data"
    }
   ],
   "source": [
    "# Plot an encoding trial: with traversals, chest locations, and spike firing\n",
    "plot_positions(t_pos, alpha=0.85, figsize=(5, 7))\n",
    "ax = plt.gca()\n",
    "ax.plot(*t_pos[:, 0], 'b.', ms=15)\n",
    "[ax.plot(*cht, 'y.', ms=15) for cht in ch_times];\n",
    "ax.plot(chest_xs[t_mask], chest_ys[t_mask], '.g', ms=50, alpha=0.25)\n",
    "ax.plot(t_spike_xs, t_spike_ys, '.r', alpha=0.75,)"
   ]
  },
  {
   "cell_type": "code",
   "execution_count": 22,
   "id": "57b1ee99",
   "metadata": {},
   "outputs": [],
   "source": [
    "# Get the length of time between segments (chest openings)\n",
    "seg_times = np.diff(np.insert(ch_openings, 0, t_time[0]))"
   ]
  },
  {
   "cell_type": "code",
   "execution_count": 23,
   "id": "60f52a8b",
   "metadata": {},
   "outputs": [],
   "source": [
    "# Count firing in each segment, and compute firing rate\n",
    "count = Counter({0 : 0, 1 : 0, 2 : 0, 3 : 0})\n",
    "count.update(np.digitize(t_spikes, ch_openings))\n",
    "frs = np.array(list(count.values())) / seg_times"
   ]
  },
  {
   "cell_type": "code",
   "execution_count": 24,
   "id": "70522438",
   "metadata": {},
   "outputs": [
    {
     "data": {
      "image/png": "[encoded data removed]",
      "text/plain": [
       "<Figure size 432x288 with 1 Axes>"
      ]
     },
     "metadata": {
      "needs_background": "light"
     },
     "output_type": "display_data"
    }
   ],
   "source": [
    "# Plot firing rate per segment (single trial)\n",
    "plot_bar(frs, count.keys())"
   ]
  },
  {
   "cell_type": "code",
   "execution_count": 25,
   "id": "778c6a49",
   "metadata": {},
   "outputs": [],
   "source": [
    "# Compute firing rates per segment for each trial\n",
    "all_frs = compute_serial_position_fr(spikes, nav_starts, chest_openings, chest_trials, ptimes, positions)"
   ]
  },
  {
   "cell_type": "code",
   "execution_count": 26,
   "id": "45fe4bad",
   "metadata": {
    "scrolled": false
   },
   "outputs": [
    {
     "data": {
      "image/png": "[encoded data removed]",
      "text/plain": [
       "<Figure size 432x288 with 1 Axes>"
      ]
     },
     "metadata": {
      "needs_background": "light"
     },
     "output_type": "display_data"
    }
   ],
   "source": [
    "# Plot firing rates per segment across all trials\n",
    "plot_bar(all_frs.mean(0), count.keys(), yerr=sem(all_frs, 0))"
   ]
  },
  {
   "cell_type": "code",
   "execution_count": 27,
   "id": "85945461",
   "metadata": {},
   "outputs": [],
   "source": [
    "# create segment label\n",
    "all_frs_1d = all_frs.flatten()\n",
    "segment_label = np.array(range(0, 4))\n",
    "segment_label = np.tile(segment_label,n_trials)\n",
    "\n",
    "merged_array = np.transpose(np.vstack([segment_label,all_frs_1d]))\n",
    "df = pd.DataFrame(merged_array,columns=['segment', 'fr'])"
   ]
  },
  {
   "cell_type": "code",
   "execution_count": 28,
   "id": "2f09ea27",
   "metadata": {
    "scrolled": true
   },
   "outputs": [
    {
     "data": {
      "text/html": [
       "<div>\n",
       "<style scoped>\n",
       "    .dataframe tbody tr th:only-of-type {\n",
       "        vertical-align: middle;\n",
       "    }\n",
       "\n",
       "    .dataframe tbody tr th {\n",
       "        vertical-align: top;\n",
       "    }\n",
       "\n",
       "    .dataframe thead th {\n",
       "        text-align: right;\n",
       "    }\n",
       "</style>\n",
       "<table border=\"1\" class=\"dataframe\">\n",
       "  <thead>\n",
       "    <tr style=\"text-align: right;\">\n",
       "      <th></th>\n",
       "      <th>segment</th>\n",
       "      <th>fr</th>\n",
       "    </tr>\n",
       "  </thead>\n",
       "  <tbody>\n",
       "    <tr>\n",
       "      <th>0</th>\n",
       "      <td>0.0</td>\n",
       "      <td>5.020511</td>\n",
       "    </tr>\n",
       "    <tr>\n",
       "      <th>1</th>\n",
       "      <td>1.0</td>\n",
       "      <td>3.369822</td>\n",
       "    </tr>\n",
       "    <tr>\n",
       "      <th>2</th>\n",
       "      <td>2.0</td>\n",
       "      <td>3.412338</td>\n",
       "    </tr>\n",
       "    <tr>\n",
       "      <th>3</th>\n",
       "      <td>3.0</td>\n",
       "      <td>4.148399</td>\n",
       "    </tr>\n",
       "    <tr>\n",
       "      <th>4</th>\n",
       "      <td>0.0</td>\n",
       "      <td>12.629948</td>\n",
       "    </tr>\n",
       "    <tr>\n",
       "      <th>5</th>\n",
       "      <td>1.0</td>\n",
       "      <td>1.626008</td>\n",
       "    </tr>\n",
       "    <tr>\n",
       "      <th>6</th>\n",
       "      <td>2.0</td>\n",
       "      <td>3.435894</td>\n",
       "    </tr>\n",
       "    <tr>\n",
       "      <th>7</th>\n",
       "      <td>3.0</td>\n",
       "      <td>4.959912</td>\n",
       "    </tr>\n",
       "    <tr>\n",
       "      <th>8</th>\n",
       "      <td>0.0</td>\n",
       "      <td>20.379373</td>\n",
       "    </tr>\n",
       "    <tr>\n",
       "      <th>9</th>\n",
       "      <td>1.0</td>\n",
       "      <td>4.685548</td>\n",
       "    </tr>\n",
       "  </tbody>\n",
       "</table>\n",
       "</div>"
      ],
      "text/plain": [
       "   segment         fr\n",
       "0      0.0   5.020511\n",
       "1      1.0   3.369822\n",
       "2      2.0   3.412338\n",
       "3      3.0   4.148399\n",
       "4      0.0  12.629948\n",
       "5      1.0   1.626008\n",
       "6      2.0   3.435894\n",
       "7      3.0   4.959912\n",
       "8      0.0  20.379373\n",
       "9      1.0   4.685548"
      ]
     },
     "execution_count": 28,
     "metadata": {},
     "output_type": "execute_result"
    }
   ],
   "source": [
    "df.head(10)"
   ]
  },
  {
   "cell_type": "code",
   "execution_count": 29,
   "id": "7c83818c",
   "metadata": {},
   "outputs": [
    {
     "name": "stdout",
     "output_type": "stream",
     "text": [
      "                sum_sq    df          F        PR(>F)\n",
      "C(segment)  301.660849   3.0  16.750739  9.186460e-09\n",
      "Residual    552.270129  92.0        NaN           NaN\n"
     ]
    }
   ],
   "source": [
    "# build the ANOVA model\n",
    "model = smf.ols('fr ~ C(segment)', data=df).fit()\n",
    "aov_table = anova_lm(model, typ=2)\n",
    "print(aov_table)"
   ]
  },
  {
   "cell_type": "code",
   "execution_count": 30,
   "id": "039a7de0",
   "metadata": {},
   "outputs": [
    {
     "name": "stdout",
     "output_type": "stream",
     "text": [
      "16.750738855323217\n"
     ]
    }
   ],
   "source": [
    "# get the F-value from ANOVA model\n",
    "f_val = aov_table['F']['C(segment)']\n",
    "print(f_val)"
   ]
  },
  {
   "cell_type": "code",
   "execution_count": 31,
   "id": "8e184776",
   "metadata": {
    "scrolled": false
   },
   "outputs": [
    {
     "data": {
      "text/html": [
       "<table class=\"simpletable\">\n",
       "<caption>OLS Regression Results</caption>\n",
       "<tr>\n",
       "  <th>Dep. Variable:</th>           <td>fr</td>        <th>  R-squared:         </th> <td>   0.353</td>\n",
       "</tr>\n",
       "<tr>\n",
       "  <th>Model:</th>                   <td>OLS</td>       <th>  Adj. R-squared:    </th> <td>   0.332</td>\n",
       "</tr>\n",
       "<tr>\n",
       "  <th>Method:</th>             <td>Least Squares</td>  <th>  F-statistic:       </th> <td>   16.75</td>\n",
       "</tr>\n",
       "<tr>\n",
       "  <th>Date:</th>             <td>Mon, 25 Apr 2022</td> <th>  Prob (F-statistic):</th> <td>9.19e-09</td>\n",
       "</tr>\n",
       "<tr>\n",
       "  <th>Time:</th>                 <td>10:37:03</td>     <th>  Log-Likelihood:    </th> <td> -220.20</td>\n",
       "</tr>\n",
       "<tr>\n",
       "  <th>No. Observations:</th>      <td>    96</td>      <th>  AIC:               </th> <td>   448.4</td>\n",
       "</tr>\n",
       "<tr>\n",
       "  <th>Df Residuals:</th>          <td>    92</td>      <th>  BIC:               </th> <td>   458.7</td>\n",
       "</tr>\n",
       "<tr>\n",
       "  <th>Df Model:</th>              <td>     3</td>      <th>                     </th>     <td> </td>   \n",
       "</tr>\n",
       "<tr>\n",
       "  <th>Covariance Type:</th>      <td>nonrobust</td>    <th>                     </th>     <td> </td>   \n",
       "</tr>\n",
       "</table>\n",
       "<table class=\"simpletable\">\n",
       "<tr>\n",
       "          <td></td>             <th>coef</th>     <th>std err</th>      <th>t</th>      <th>P>|t|</th>  <th>[0.025</th>    <th>0.975]</th>  \n",
       "</tr>\n",
       "<tr>\n",
       "  <th>Intercept</th>         <td>    6.2583</td> <td>    0.500</td> <td>   12.514</td> <td> 0.000</td> <td>    5.265</td> <td>    7.252</td>\n",
       "</tr>\n",
       "<tr>\n",
       "  <th>C(segment)[T.1.0]</th> <td>   -4.3184</td> <td>    0.707</td> <td>   -6.106</td> <td> 0.000</td> <td>   -5.723</td> <td>   -2.914</td>\n",
       "</tr>\n",
       "<tr>\n",
       "  <th>C(segment)[T.2.0]</th> <td>   -3.9707</td> <td>    0.707</td> <td>   -5.614</td> <td> 0.000</td> <td>   -5.375</td> <td>   -2.566</td>\n",
       "</tr>\n",
       "<tr>\n",
       "  <th>C(segment)[T.3.0]</th> <td>   -3.9503</td> <td>    0.707</td> <td>   -5.585</td> <td> 0.000</td> <td>   -5.355</td> <td>   -2.546</td>\n",
       "</tr>\n",
       "</table>\n",
       "<table class=\"simpletable\">\n",
       "<tr>\n",
       "  <th>Omnibus:</th>       <td>67.053</td> <th>  Durbin-Watson:     </th> <td>   1.408</td> \n",
       "</tr>\n",
       "<tr>\n",
       "  <th>Prob(Omnibus):</th> <td> 0.000</td> <th>  Jarque-Bera (JB):  </th> <td> 600.319</td> \n",
       "</tr>\n",
       "<tr>\n",
       "  <th>Skew:</th>          <td> 1.998</td> <th>  Prob(JB):          </th> <td>4.39e-131</td>\n",
       "</tr>\n",
       "<tr>\n",
       "  <th>Kurtosis:</th>      <td>14.580</td> <th>  Cond. No.          </th> <td>    4.79</td> \n",
       "</tr>\n",
       "</table><br/><br/>Notes:<br/>[1] Standard Errors assume that the covariance matrix of the errors is correctly specified."
      ],
      "text/plain": [
       "<class 'statsmodels.iolib.summary.Summary'>\n",
       "\"\"\"\n",
       "                            OLS Regression Results                            \n",
       "==============================================================================\n",
       "Dep. Variable:                     fr   R-squared:                       0.353\n",
       "Model:                            OLS   Adj. R-squared:                  0.332\n",
       "Method:                 Least Squares   F-statistic:                     16.75\n",
       "Date:                Mon, 25 Apr 2022   Prob (F-statistic):           9.19e-09\n",
       "Time:                        10:37:03   Log-Likelihood:                -220.20\n",
       "No. Observations:                  96   AIC:                             448.4\n",
       "Df Residuals:                      92   BIC:                             458.7\n",
       "Df Model:                           3                                         \n",
       "Covariance Type:            nonrobust                                         \n",
       "=====================================================================================\n",
       "                        coef    std err          t      P>|t|      [0.025      0.975]\n",
       "-------------------------------------------------------------------------------------\n",
       "Intercept             6.2583      0.500     12.514      0.000       5.265       7.252\n",
       "C(segment)[T.1.0]    -4.3184      0.707     -6.106      0.000      -5.723      -2.914\n",
       "C(segment)[T.2.0]    -3.9707      0.707     -5.614      0.000      -5.375      -2.566\n",
       "C(segment)[T.3.0]    -3.9503      0.707     -5.585      0.000      -5.355      -2.546\n",
       "==============================================================================\n",
       "Omnibus:                       67.053   Durbin-Watson:                   1.408\n",
       "Prob(Omnibus):                  0.000   Jarque-Bera (JB):              600.319\n",
       "Skew:                           1.998   Prob(JB):                    4.39e-131\n",
       "Kurtosis:                      14.580   Cond. No.                         4.79\n",
       "==============================================================================\n",
       "\n",
       "Notes:\n",
       "[1] Standard Errors assume that the covariance matrix of the errors is correctly specified.\n",
       "\"\"\""
      ]
     },
     "execution_count": 31,
     "metadata": {},
     "output_type": "execute_result"
    }
   ],
   "source": [
    "model.summary()"
   ]
  },
  {
   "cell_type": "markdown",
   "id": "215e4b87",
   "metadata": {},
   "source": [
    "## All trials"
   ]
  },
  {
   "cell_type": "code",
   "execution_count": 32,
   "id": "97e2ab25",
   "metadata": {},
   "outputs": [],
   "source": [
    "# Get the firing rate per bin, per trial\n",
    "all_frs = np.zeros([n_trials, 4])\n",
    "for ind in range(n_trials):\n",
    "    \n",
    "    # Get trial information\n",
    "    t_st = nwbfile.trials['navigation_start'][ind]\n",
    "    ch_openings = nwbfile.trials['chest_opening_time'][ind]\n",
    "    t_en = ch_openings[-1]\n",
    "    t_mask = chest_trials == ind\n",
    "\n",
    "    t_time, t_pos = get_value_by_time_range(ptimes, positions, t_st, t_en)\n",
    "    ch_times = [get_value_by_time(t_time, t_pos, ch_op) for ch_op in ch_openings]\n",
    "\n",
    "    t_spikes = restrict_range(spikes, t_st, t_en)\n",
    "    t_spike_xs, t_spike_ys = get_spike_positions(t_spikes, t_time, t_pos)\n",
    "\n",
    "    # Get the length of time between segments (chest openings)\n",
    "    seg_times = np.diff(np.insert(ch_openings, 0, t_time[0]))\n",
    "    # Count firing in each segment, and compute firing rate\n",
    "    count = Counter({0 : 0, 1 : 0, 2 : 0, 3 : 0})\n",
    "    count.update(np.digitize(t_spikes, ch_openings))\n",
    "    frs = np.array(list(count.values())) / seg_times\n",
    "\n",
    "    # Compute firing rates per segment for each trial\n",
    "    all_frs = compute_serial_position_fr(spikes, nav_starts, chest_openings, \n",
    "                                         chest_trials, ptimes, positions)\n",
    "\n",
    "# create segment label\n",
    "all_frs_1d = all_frs.flatten()\n",
    "segment_label = np.array(range(0, 4))\n",
    "segment_label = np.tile(segment_label,n_trials)\n",
    "\n",
    "merged_array = np.transpose(np.vstack([segment_label,all_frs_1d]))\n",
    "df = pd.DataFrame(merged_array,columns=['segment', 'fr'])"
   ]
  },
  {
   "cell_type": "code",
   "execution_count": 33,
   "id": "1156327f",
   "metadata": {},
   "outputs": [
    {
     "name": "stdout",
     "output_type": "stream",
     "text": [
      "                sum_sq    df          F        PR(>F)\n",
      "C(segment)  301.660849   3.0  16.750739  9.186460e-09\n",
      "Residual    552.270129  92.0        NaN           NaN\n"
     ]
    }
   ],
   "source": [
    "# build the ANOVA model\n",
    "model = smf.ols('fr ~ C(segment)', data=df).fit()\n",
    "aov_table = anova_lm(model, typ=2)\n",
    "print(aov_table)"
   ]
  },
  {
   "cell_type": "code",
   "execution_count": 34,
   "id": "6088b357",
   "metadata": {},
   "outputs": [],
   "source": [
    "# get the F-value from ANOVA model\n",
    "f_val_surrs = aov_table['F']['C(segment)']"
   ]
  },
  {
   "cell_type": "code",
   "execution_count": 35,
   "id": "c8dd03ac",
   "metadata": {},
   "outputs": [
    {
     "data": {
      "text/html": [
       "<table class=\"simpletable\">\n",
       "<caption>OLS Regression Results</caption>\n",
       "<tr>\n",
       "  <th>Dep. Variable:</th>           <td>fr</td>        <th>  R-squared:         </th> <td>   0.353</td>\n",
       "</tr>\n",
       "<tr>\n",
       "  <th>Model:</th>                   <td>OLS</td>       <th>  Adj. R-squared:    </th> <td>   0.332</td>\n",
       "</tr>\n",
       "<tr>\n",
       "  <th>Method:</th>             <td>Least Squares</td>  <th>  F-statistic:       </th> <td>   16.75</td>\n",
       "</tr>\n",
       "<tr>\n",
       "  <th>Date:</th>             <td>Mon, 25 Apr 2022</td> <th>  Prob (F-statistic):</th> <td>9.19e-09</td>\n",
       "</tr>\n",
       "<tr>\n",
       "  <th>Time:</th>                 <td>10:37:03</td>     <th>  Log-Likelihood:    </th> <td> -220.20</td>\n",
       "</tr>\n",
       "<tr>\n",
       "  <th>No. Observations:</th>      <td>    96</td>      <th>  AIC:               </th> <td>   448.4</td>\n",
       "</tr>\n",
       "<tr>\n",
       "  <th>Df Residuals:</th>          <td>    92</td>      <th>  BIC:               </th> <td>   458.7</td>\n",
       "</tr>\n",
       "<tr>\n",
       "  <th>Df Model:</th>              <td>     3</td>      <th>                     </th>     <td> </td>   \n",
       "</tr>\n",
       "<tr>\n",
       "  <th>Covariance Type:</th>      <td>nonrobust</td>    <th>                     </th>     <td> </td>   \n",
       "</tr>\n",
       "</table>\n",
       "<table class=\"simpletable\">\n",
       "<tr>\n",
       "          <td></td>             <th>coef</th>     <th>std err</th>      <th>t</th>      <th>P>|t|</th>  <th>[0.025</th>    <th>0.975]</th>  \n",
       "</tr>\n",
       "<tr>\n",
       "  <th>Intercept</th>         <td>    6.2583</td> <td>    0.500</td> <td>   12.514</td> <td> 0.000</td> <td>    5.265</td> <td>    7.252</td>\n",
       "</tr>\n",
       "<tr>\n",
       "  <th>C(segment)[T.1.0]</th> <td>   -4.3184</td> <td>    0.707</td> <td>   -6.106</td> <td> 0.000</td> <td>   -5.723</td> <td>   -2.914</td>\n",
       "</tr>\n",
       "<tr>\n",
       "  <th>C(segment)[T.2.0]</th> <td>   -3.9707</td> <td>    0.707</td> <td>   -5.614</td> <td> 0.000</td> <td>   -5.375</td> <td>   -2.566</td>\n",
       "</tr>\n",
       "<tr>\n",
       "  <th>C(segment)[T.3.0]</th> <td>   -3.9503</td> <td>    0.707</td> <td>   -5.585</td> <td> 0.000</td> <td>   -5.355</td> <td>   -2.546</td>\n",
       "</tr>\n",
       "</table>\n",
       "<table class=\"simpletable\">\n",
       "<tr>\n",
       "  <th>Omnibus:</th>       <td>67.053</td> <th>  Durbin-Watson:     </th> <td>   1.408</td> \n",
       "</tr>\n",
       "<tr>\n",
       "  <th>Prob(Omnibus):</th> <td> 0.000</td> <th>  Jarque-Bera (JB):  </th> <td> 600.319</td> \n",
       "</tr>\n",
       "<tr>\n",
       "  <th>Skew:</th>          <td> 1.998</td> <th>  Prob(JB):          </th> <td>4.39e-131</td>\n",
       "</tr>\n",
       "<tr>\n",
       "  <th>Kurtosis:</th>      <td>14.580</td> <th>  Cond. No.          </th> <td>    4.79</td> \n",
       "</tr>\n",
       "</table><br/><br/>Notes:<br/>[1] Standard Errors assume that the covariance matrix of the errors is correctly specified."
      ],
      "text/plain": [
       "<class 'statsmodels.iolib.summary.Summary'>\n",
       "\"\"\"\n",
       "                            OLS Regression Results                            \n",
       "==============================================================================\n",
       "Dep. Variable:                     fr   R-squared:                       0.353\n",
       "Model:                            OLS   Adj. R-squared:                  0.332\n",
       "Method:                 Least Squares   F-statistic:                     16.75\n",
       "Date:                Mon, 25 Apr 2022   Prob (F-statistic):           9.19e-09\n",
       "Time:                        10:37:03   Log-Likelihood:                -220.20\n",
       "No. Observations:                  96   AIC:                             448.4\n",
       "Df Residuals:                      92   BIC:                             458.7\n",
       "Df Model:                           3                                         \n",
       "Covariance Type:            nonrobust                                         \n",
       "=====================================================================================\n",
       "                        coef    std err          t      P>|t|      [0.025      0.975]\n",
       "-------------------------------------------------------------------------------------\n",
       "Intercept             6.2583      0.500     12.514      0.000       5.265       7.252\n",
       "C(segment)[T.1.0]    -4.3184      0.707     -6.106      0.000      -5.723      -2.914\n",
       "C(segment)[T.2.0]    -3.9707      0.707     -5.614      0.000      -5.375      -2.566\n",
       "C(segment)[T.3.0]    -3.9503      0.707     -5.585      0.000      -5.355      -2.546\n",
       "==============================================================================\n",
       "Omnibus:                       67.053   Durbin-Watson:                   1.408\n",
       "Prob(Omnibus):                  0.000   Jarque-Bera (JB):              600.319\n",
       "Skew:                           1.998   Prob(JB):                    4.39e-131\n",
       "Kurtosis:                      14.580   Cond. No.                         4.79\n",
       "==============================================================================\n",
       "\n",
       "Notes:\n",
       "[1] Standard Errors assume that the covariance matrix of the errors is correctly specified.\n",
       "\"\"\""
      ]
     },
     "execution_count": 35,
     "metadata": {},
     "output_type": "execute_result"
    }
   ],
   "source": [
    "model.summary()"
   ]
  },
  {
   "cell_type": "markdown",
   "id": "a37bce7e",
   "metadata": {},
   "source": [
    "# ANOVA Surrogate\n",
    "\n",
    "Use fr ~ C(segment), 100 surrogates"
   ]
  },
  {
   "cell_type": "code",
   "execution_count": 36,
   "id": "cf2ce241",
   "metadata": {},
   "outputs": [],
   "source": [
    "# Create shuffled time series for comparison\n",
    "times_shuffle = shuffle_spikes(spikes, shuffle_approach, n_surrogates, shuffle_min=20000) #regular circular shuffle\n",
    "surrogates = []\n",
    "\n",
    "for i, j in enumerate (times_shuffle):\n",
    "    all_frs = np.zeros([n_trials, 4])\n",
    "    \n",
    "    for ind in range(n_trials):\n",
    "        \n",
    "        # Get trial information\n",
    "        t_st = nav_starts[ind]\n",
    "        ch_openings = chest_openings[ind]\n",
    "        t_en = ch_openings[-1]\n",
    "\n",
    "        t_mask = chest_trials == ind\n",
    "\n",
    "        t_time, t_pos = get_value_by_time_range(ptimes, positions, t_st, t_en)\n",
    "        ch_times = [get_value_by_time(t_time, t_pos, ch_op) for ch_op in ch_openings]\n",
    "\n",
    "        t_spikes = restrict_range(times_shuffle[i], t_st, t_en)\n",
    "        t_spike_xs, t_spike_ys = get_spike_positions(t_spikes, t_time, t_pos)\n",
    "        \n",
    "        # Get the length of time between segments (chest openings)\n",
    "        seg_times = np.diff(np.insert(ch_openings, 0, t_time[0]))\n",
    "        # Count firing in each segment, and compute firing rate\n",
    "        count = Counter({0 : 0, 1 : 0, 2 : 0, 3 : 0})\n",
    "        count.update(np.digitize(t_spikes, ch_openings))\n",
    "        frs = np.array(list(count.values())) / seg_times\n",
    "\n",
    "        # Compute firing rates per segment for each trial\n",
    "        all_frs = compute_serial_position_fr(times_shuffle[i], nav_starts, chest_openings, \n",
    "                                             chest_trials, ptimes, positions)\n",
    "\n",
    "    # create segment label\n",
    "    all_frs_1d = all_frs.flatten()\n",
    "    segment_label = np.array(range(0, 4))\n",
    "    segment_label = np.tile(segment_label,n_trials)\n",
    "\n",
    "    merged_array = np.transpose(np.vstack([segment_label,all_frs_1d]))\n",
    "    df = pd.DataFrame(merged_array,columns=['segment', 'fr'])\n",
    "\n",
    "    # build the ANOVA model\n",
    "    model = smf.ols('fr ~ C(segment)', data=df).fit()\n",
    "    aov_table = anova_lm(model, typ=2)\n",
    "\n",
    "    # get the F-value from ANOVA model\n",
    "    f_val_surrs = aov_table['F']['C(segment)']\n",
    "    \n",
    "    surrogates.append(f_val_surrs)"
   ]
  },
  {
   "cell_type": "code",
   "execution_count": 37,
   "id": "f4845153",
   "metadata": {},
   "outputs": [
    {
     "data": {
      "text/html": [
       "<table class=\"simpletable\">\n",
       "<caption>OLS Regression Results</caption>\n",
       "<tr>\n",
       "  <th>Dep. Variable:</th>           <td>fr</td>        <th>  R-squared:         </th> <td>   0.270</td>\n",
       "</tr>\n",
       "<tr>\n",
       "  <th>Model:</th>                   <td>OLS</td>       <th>  Adj. R-squared:    </th> <td>   0.246</td>\n",
       "</tr>\n",
       "<tr>\n",
       "  <th>Method:</th>             <td>Least Squares</td>  <th>  F-statistic:       </th> <td>   11.33</td>\n",
       "</tr>\n",
       "<tr>\n",
       "  <th>Date:</th>             <td>Mon, 25 Apr 2022</td> <th>  Prob (F-statistic):</th> <td>2.16e-06</td>\n",
       "</tr>\n",
       "<tr>\n",
       "  <th>Time:</th>                 <td>10:37:16</td>     <th>  Log-Likelihood:    </th> <td> -213.98</td>\n",
       "</tr>\n",
       "<tr>\n",
       "  <th>No. Observations:</th>      <td>    96</td>      <th>  AIC:               </th> <td>   436.0</td>\n",
       "</tr>\n",
       "<tr>\n",
       "  <th>Df Residuals:</th>          <td>    92</td>      <th>  BIC:               </th> <td>   446.2</td>\n",
       "</tr>\n",
       "<tr>\n",
       "  <th>Df Model:</th>              <td>     3</td>      <th>                     </th>     <td> </td>   \n",
       "</tr>\n",
       "<tr>\n",
       "  <th>Covariance Type:</th>      <td>nonrobust</td>    <th>                     </th>     <td> </td>   \n",
       "</tr>\n",
       "</table>\n",
       "<table class=\"simpletable\">\n",
       "<tr>\n",
       "          <td></td>             <th>coef</th>     <th>std err</th>      <th>t</th>      <th>P>|t|</th>  <th>[0.025</th>    <th>0.975]</th>  \n",
       "</tr>\n",
       "<tr>\n",
       "  <th>Intercept</th>         <td>    5.1634</td> <td>    0.469</td> <td>   11.015</td> <td> 0.000</td> <td>    4.232</td> <td>    6.094</td>\n",
       "</tr>\n",
       "<tr>\n",
       "  <th>C(segment)[T.1.0]</th> <td>   -2.9826</td> <td>    0.663</td> <td>   -4.499</td> <td> 0.000</td> <td>   -4.299</td> <td>   -1.666</td>\n",
       "</tr>\n",
       "<tr>\n",
       "  <th>C(segment)[T.2.0]</th> <td>   -3.1258</td> <td>    0.663</td> <td>   -4.715</td> <td> 0.000</td> <td>   -4.442</td> <td>   -1.809</td>\n",
       "</tr>\n",
       "<tr>\n",
       "  <th>C(segment)[T.3.0]</th> <td>   -3.3206</td> <td>    0.663</td> <td>   -5.009</td> <td> 0.000</td> <td>   -4.637</td> <td>   -2.004</td>\n",
       "</tr>\n",
       "</table>\n",
       "<table class=\"simpletable\">\n",
       "<tr>\n",
       "  <th>Omnibus:</th>       <td>22.389</td> <th>  Durbin-Watson:     </th> <td>   1.447</td>\n",
       "</tr>\n",
       "<tr>\n",
       "  <th>Prob(Omnibus):</th> <td> 0.000</td> <th>  Jarque-Bera (JB):  </th> <td>  44.318</td>\n",
       "</tr>\n",
       "<tr>\n",
       "  <th>Skew:</th>          <td> 0.887</td> <th>  Prob(JB):          </th> <td>2.38e-10</td>\n",
       "</tr>\n",
       "<tr>\n",
       "  <th>Kurtosis:</th>      <td> 5.816</td> <th>  Cond. No.          </th> <td>    4.79</td>\n",
       "</tr>\n",
       "</table><br/><br/>Notes:<br/>[1] Standard Errors assume that the covariance matrix of the errors is correctly specified."
      ],
      "text/plain": [
       "<class 'statsmodels.iolib.summary.Summary'>\n",
       "\"\"\"\n",
       "                            OLS Regression Results                            \n",
       "==============================================================================\n",
       "Dep. Variable:                     fr   R-squared:                       0.270\n",
       "Model:                            OLS   Adj. R-squared:                  0.246\n",
       "Method:                 Least Squares   F-statistic:                     11.33\n",
       "Date:                Mon, 25 Apr 2022   Prob (F-statistic):           2.16e-06\n",
       "Time:                        10:37:16   Log-Likelihood:                -213.98\n",
       "No. Observations:                  96   AIC:                             436.0\n",
       "Df Residuals:                      92   BIC:                             446.2\n",
       "Df Model:                           3                                         \n",
       "Covariance Type:            nonrobust                                         \n",
       "=====================================================================================\n",
       "                        coef    std err          t      P>|t|      [0.025      0.975]\n",
       "-------------------------------------------------------------------------------------\n",
       "Intercept             5.1634      0.469     11.015      0.000       4.232       6.094\n",
       "C(segment)[T.1.0]    -2.9826      0.663     -4.499      0.000      -4.299      -1.666\n",
       "C(segment)[T.2.0]    -3.1258      0.663     -4.715      0.000      -4.442      -1.809\n",
       "C(segment)[T.3.0]    -3.3206      0.663     -5.009      0.000      -4.637      -2.004\n",
       "==============================================================================\n",
       "Omnibus:                       22.389   Durbin-Watson:                   1.447\n",
       "Prob(Omnibus):                  0.000   Jarque-Bera (JB):               44.318\n",
       "Skew:                           0.887   Prob(JB):                     2.38e-10\n",
       "Kurtosis:                       5.816   Cond. No.                         4.79\n",
       "==============================================================================\n",
       "\n",
       "Notes:\n",
       "[1] Standard Errors assume that the covariance matrix of the errors is correctly specified.\n",
       "\"\"\""
      ]
     },
     "execution_count": 37,
     "metadata": {},
     "output_type": "execute_result"
    }
   ],
   "source": [
    "model.summary()"
   ]
  },
  {
   "cell_type": "code",
   "execution_count": 38,
   "id": "e3e52d6d",
   "metadata": {},
   "outputs": [
    {
     "name": "stdout",
     "output_type": "stream",
     "text": [
      "p-value: 0.14\n",
      "z-score: 0.64\n"
     ]
    },
    {
     "data": {
      "image/png": "[encoded data removed]",
      "text/plain": [
       "<Figure size 432x288 with 1 Axes>"
      ]
     },
     "metadata": {
      "needs_background": "light"
     },
     "output_type": "display_data"
    }
   ],
   "source": [
    "# Compute the empirical p-value based on surrogates\n",
    "surr_p_val = compute_empirical_pvalue(f_val, surrogates)\n",
    "\n",
    "# Compute z-score of the real F-value compared to surrogates\n",
    "z_score = zscore_to_surrogates(f_val, surrogates)\n",
    "\n",
    "# Print out the compute p-value and z-scored information\n",
    "print('p-value: {:4.2f}'.format(surr_p_val))\n",
    "print('z-score: {:4.2f}'.format(z_score))\n",
    "\n",
    "# Plot the distribution of surrogates, comparing to real F-value\n",
    "plot_surrogates(surrogates, f_val, surr_p_val)"
   ]
  },
  {
   "cell_type": "markdown",
   "id": "c9759235",
   "metadata": {},
   "source": [
    "# All Cells"
   ]
  },
  {
   "cell_type": "code",
   "execution_count": 39,
   "id": "87d52b9d",
   "metadata": {
    "scrolled": false
   },
   "outputs": [],
   "source": [
    "# # Plot the firing rate per segment across trials for all units \n",
    "# for ii, ax in zip(keep_inds, make_axes(n_keep, hspace=0.4, wspace=0.4)):\n",
    "\n",
    "#     spikes = nwbfile.units.get_unit_spike_times(ii)\n",
    "#     # Create shuffled time series for comparison\n",
    "#     times_shuffle = shuffle_spikes(spikes, shuffle_approach, n_surrogates, shuffle_min=20000) #regular circular shuffle\n",
    "#     surrogates = []\n",
    "\n",
    "#     for i, j in enumerate (times_shuffle):\n",
    "#         all_frs = np.zeros([n_trials, 4])\n",
    "\n",
    "#         for ind in range(n_trials):\n",
    "\n",
    "#             # Get trial information\n",
    "#             t_st = nav_starts[t_ind]\n",
    "#             ch_openings = chest_openings[t_ind]\n",
    "#             t_en = ch_openings[-1]\n",
    "\n",
    "#             t_mask = chest_trials == t_ind\n",
    "\n",
    "#             t_time, t_pos = get_value_by_time_range(ptimes, positions, t_st, t_en)\n",
    "#             ch_times = [get_value_by_time(t_time, t_pos, ch_op) for ch_op in ch_openings]\n",
    "\n",
    "#             t_spikes = restrict_range(times_shuffle[i], t_st, t_en)\n",
    "#             t_spike_xs, t_spike_ys = get_spike_positions(t_spikes, t_time, t_pos)\n",
    "\n",
    "#             # Get the length of time between segments (chest openings)\n",
    "#             seg_times = np.diff(np.insert(ch_openings, 0, t_time[0]))\n",
    "#             # Count firing in each segment, and compute firing rate\n",
    "#             count = Counter({0 : 0, 1 : 0, 2 : 0, 3 : 0})\n",
    "#             count.update(np.digitize(t_spikes, ch_openings))\n",
    "#             frs = np.array(list(count.values())) / seg_times\n",
    "\n",
    "#             # Compute firing rates per segment for each trial\n",
    "#             all_frs = compute_serial_position_fr(times_shuffle[i], nav_starts, chest_openings, \n",
    "#                                                  chest_trials, ptimes, positions)\n",
    "\n",
    "#         # create segment label\n",
    "#         all_frs_1d = all_frs.flatten()\n",
    "#         segment_label = np.array(range(0, 4))\n",
    "#         segment_label = np.tile(segment_label,n_trials)\n",
    "\n",
    "#         merged_array = np.transpose(np.vstack([segment_label,all_frs_1d]))\n",
    "#         df = pd.DataFrame(merged_array,columns=['segment', 'fr'])\n",
    "\n",
    "#         # build the ANOVA model\n",
    "#         model = smf.ols('fr ~ C(segment)', data=df).fit()\n",
    "#         aov_table = anova_lm(model, typ=2)\n",
    "\n",
    "#         # get the F-value from ANOVA model\n",
    "#         f_val_surrs = aov_table['F']['C(segment)']\n",
    "\n",
    "#         surrogates.append(f_val_surrs)\n",
    "            \n",
    "#     # Compute the empirical p-value based on surrogates\n",
    "#     surr_p_val = compute_empirical_pvalue(f_val, surrogates)\n",
    "\n",
    "#     # Compute z-score of the real F-value compared to surrogates\n",
    "#     z_score = zscore_to_surrogates(f_val, surrogates)\n",
    "\n",
    "#     # Plot the distribution of surrogates, comparing to real F-value\n",
    "#     plot_surrogates(surrogates, f_val, surr_p_val, ax=ax)\n",
    "    \n",
    "#     color = 'red' if surr_p_val < 0.05 else 'black'\n",
    "#     title = 'U{} \\n z-{:1.2f}, p-{:1.2f}'.format(ii, z_score, surr_p_val)\n",
    "#     ax.set_title(title, fontdict={'fontsize' : 12}, color=color)\n",
    "        \n",
    "# #     # Plot firing rates per segment across all trials, and indicate significance\n",
    "# #     plot_bar(all_frs.mean(0), count.keys(), yerr=sem(all_frs, 0), ax=ax)\n",
    "# #     title = 'U{}'.format(ii)\n",
    "# #     ax.set_title(title, fontdict={'fontsize' : 12})\n",
    "# #     for ind, p_val in enumerate(surr_p_vals):\n",
    "# #         if p_val < 0.05:\n",
    "# #             ax.text(ind, ax.get_ylim()[1]-0.15*ax.get_ylim()[1],\n",
    "# #                     '*', c='red', fontdict={'fontsize' : 25}, ha='center')"
   ]
  }
 ],
 "metadata": {
  "kernelspec": {
   "display_name": "Python 3 (ipykernel)",
   "language": "python",
   "name": "python3"
  },
  "language_info": {
   "codemirror_mode": {
    "name": "ipython",
    "version": 3
   },
   "file_extension": ".py",
   "mimetype": "text/x-python",
   "name": "python",
   "nbconvert_exporter": "python",
   "pygments_lexer": "ipython3",
   "version": "3.8.11"
  }
 },
 "nbformat": 4,
 "nbformat_minor": 5
}
