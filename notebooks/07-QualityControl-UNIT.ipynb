{
 "cells": [
  {
   "cell_type": "markdown",
   "id": "31d4b18b",
   "metadata": {},
   "source": [
    "# Quality Control Reports\n",
    "\n",
    "Create a report quality checking an individual unit."
   ]
  },
  {
   "cell_type": "code",
   "execution_count": 1,
   "id": "84f3da1e",
   "metadata": {},
   "outputs": [],
   "source": [
    "%config Completer.use_jedi = False"
   ]
  },
  {
   "cell_type": "code",
   "execution_count": 2,
   "id": "72b02b0b",
   "metadata": {},
   "outputs": [],
   "source": [
    "import warnings\n",
    "warnings.filterwarnings(\"ignore\")\n",
    "\n",
    "import numpy as np\n",
    "import matplotlib.pyplot as plt\n",
    "\n",
    "from convnwb.io import load_nwbfile\n",
    "from convnwb.io import get_files, save_json\n",
    "\n",
    "from spiketools.measures.trials import compute_segment_frs\n",
    "from spiketools.measures.spikes import compute_firing_rate\n",
    "from spiketools.utils.extract import get_range\n",
    "from spiketools.utils.epoch import epoch_spikes_by_range, epoch_spikes_by_event\n",
    "from spiketools.plts.utils import save_figure"
   ]
  },
  {
   "cell_type": "code",
   "execution_count": 3,
   "id": "a2260b44",
   "metadata": {},
   "outputs": [],
   "source": [
    "import sys\n",
    "sys.path.append('../code')\n",
    "from plts import *"
   ]
  },
  {
   "cell_type": "code",
   "execution_count": 4,
   "id": "7e433455",
   "metadata": {},
   "outputs": [],
   "source": [
    "import seaborn as sns\n",
    "sns.set_context('talk')"
   ]
  },
  {
   "cell_type": "markdown",
   "id": "9742c45f",
   "metadata": {},
   "source": [
    "## Settings"
   ]
  },
  {
   "cell_type": "code",
   "execution_count": 5,
   "id": "badce73f",
   "metadata": {},
   "outputs": [],
   "source": [
    "# Define the base data folder\n",
    "data_folder = '/Users/Claire_han/Documents/Data/JacobsLab/WVTH/nwb'"
   ]
  },
  {
   "cell_type": "code",
   "execution_count": 6,
   "id": "1ebcc558",
   "metadata": {},
   "outputs": [],
   "source": [
    "# Define session information\n",
    "session = {\n",
    "    'experiment' : 'THO',\n",
    "    'subject' : 'wv001',\n",
    "    'session' : 2\n",
    "}"
   ]
  },
  {
   "cell_type": "code",
   "execution_count": 7,
   "id": "097dd0b4",
   "metadata": {},
   "outputs": [],
   "source": [
    "# Set which example unit to extract\n",
    "uind = 0"
   ]
  },
  {
   "cell_type": "markdown",
   "id": "cc005716",
   "metadata": {},
   "source": [
    "## Load data"
   ]
  },
  {
   "cell_type": "code",
   "execution_count": 8,
   "id": "d4bb1fcf",
   "metadata": {
    "scrolled": true
   },
   "outputs": [
    {
     "data": {
      "text/plain": [
       "['THF_wv001_session_0.nwb',\n",
       " 'THF_wv001_session_2.nwb',\n",
       " 'THF_wv001_session_3.nwb',\n",
       " 'THF_wv001_session_4.nwb',\n",
       " 'THF_wv002_session_0.nwb',\n",
       " 'THF_wv002_session_1.nwb',\n",
       " 'THF_wv003_session_0.nwb',\n",
       " 'THF_wv004_session_0.nwb',\n",
       " 'THF_wv004_session_1.nwb',\n",
       " 'THF_wv005_session_0.nwb',\n",
       " 'THO_wv001_session_0.nwb',\n",
       " 'THO_wv001_session_2.nwb',\n",
       " 'THO_wv002_session_0.nwb',\n",
       " 'THO_wv002_session_2.nwb',\n",
       " 'THO_wv003_session_0.nwb',\n",
       " 'THO_wv003_session_1.nwb',\n",
       " 'THO_wv004_session_0.nwb',\n",
       " 'THO_wv004_session_1.nwb',\n",
       " 'THO_wv004_session_2.nwb',\n",
       " 'THO_wv004_session_3.nwb',\n",
       " 'THO_wv005_session_0.nwb']"
      ]
     },
     "execution_count": 8,
     "metadata": {},
     "output_type": "execute_result"
    }
   ],
   "source": [
    "# Get the list of NWB files\n",
    "nwbfiles = get_files(data_folder)\n",
    "nwbfiles"
   ]
  },
  {
   "cell_type": "code",
   "execution_count": 9,
   "id": "7644f787",
   "metadata": {},
   "outputs": [],
   "source": [
    "# Load example NWB file\n",
    "nwbfile = load_nwbfile(session, data_folder)"
   ]
  },
  {
   "cell_type": "code",
   "execution_count": 10,
   "id": "5ad199c6",
   "metadata": {},
   "outputs": [],
   "source": [
    "# Get the trail information\n",
    "nav_starts = nwbfile.trials.navigation_start[:]\n",
    "nav_stops = nwbfile.trials.navigation_stop[:]\n",
    "chest_openings = nwbfile.trials['chest_opening_time'][:]\n",
    "openings = nwbfile.trials.chest_opening_time[:]"
   ]
  },
  {
   "cell_type": "code",
   "execution_count": 11,
   "id": "1a97e8e6",
   "metadata": {},
   "outputs": [],
   "source": [
    "# Reset nav_stops per trial\n",
    "nav_stops_trial = [nav_stops[ind] - nav_starts[ind] for ind in range(len(nav_stops))]"
   ]
  },
  {
   "cell_type": "code",
   "execution_count": 12,
   "id": "53047718",
   "metadata": {},
   "outputs": [],
   "source": [
    "# Get the spikes\n",
    "spikes = nwbfile.units.get_unit_spike_times(uind)"
   ]
  },
  {
   "cell_type": "markdown",
   "id": "88bea7b9",
   "metadata": {},
   "source": [
    "## Example unit"
   ]
  },
  {
   "cell_type": "code",
   "execution_count": 13,
   "id": "2c674d1a",
   "metadata": {},
   "outputs": [],
   "source": [
    "# Epoch & reset spikes within each navigation period per trial\n",
    "name = nwbfile.session_id + '_U' + str(uind).zfill(2)\n",
    "spikes_trial = epoch_spikes_by_range(spikes, nav_starts, nav_stops, reset=True)"
   ]
  },
  {
   "cell_type": "code",
   "execution_count": 14,
   "id": "9af0681d",
   "metadata": {},
   "outputs": [],
   "source": [
    "# Compute the firing rate per trial\n",
    "nav_spikes = []\n",
    "frs = np.zeros(len(spikes_trial))\n",
    "for ind in range(len(spikes_trial)): \n",
    "    t_spikes = get_range(spikes, nav_starts[ind], nav_stops[ind])\n",
    "    nav_spikes.append(t_spikes)\n",
    "    nav_spikes_all = np.concatenate(nav_spikes).ravel()\n",
    "    \n",
    "    frs[ind] = compute_firing_rate(spikes_trial[ind])"
   ]
  },
  {
   "cell_type": "code",
   "execution_count": 15,
   "id": "5d40a65e",
   "metadata": {},
   "outputs": [],
   "source": [
    "# Add hlines for each block of trials\n",
    "if (len(nav_starts) > 16) and (len(nav_starts) <= 24):\n",
    "    hlines = [7.5, 15.5]\n",
    "elif len(nav_starts) > 24:\n",
    "    hlines = [7.5, 15.5, 23.5]"
   ]
  },
  {
   "cell_type": "code",
   "execution_count": 16,
   "id": "821df900",
   "metadata": {
    "scrolled": false
   },
   "outputs": [
    {
     "ename": "AttributeError",
     "evalue": "'Rectangle' object has no property 'xlabel'",
     "output_type": "error",
     "traceback": [
      "\u001b[0;31m---------------------------------------------------------------------------\u001b[0m",
      "\u001b[0;31mAttributeError\u001b[0m                            Traceback (most recent call last)",
      "\u001b[0;32m<ipython-input-16-0a1f3752d03b>\u001b[0m in \u001b[0;36m<module>\u001b[0;34m\u001b[0m\n\u001b[1;32m      1\u001b[0m \u001b[0;31m# Plot the unit report\u001b[0m\u001b[0;34m\u001b[0m\u001b[0;34m\u001b[0m\u001b[0;34m\u001b[0m\u001b[0m\n\u001b[0;32m----> 2\u001b[0;31m plot_spikes_trial(spikes, spikes_trial, nav_stops_trial, nav_spikes_all, nav_starts, \n\u001b[0m\u001b[1;32m      3\u001b[0m                       nav_stops, openings, name, frs, hlines)\n",
      "\u001b[0;32m~/Desktop/research/TH-WVU/AnalyzeTH/code/plts.py\u001b[0m in \u001b[0;36mplot_spikes_trial\u001b[0;34m(spikes, spikes_trial, nav_stops_trial, nav_spikes_all, nav_starts, nav_stops, openings, name, frs, hlines, ax, **plt_kwargs)\u001b[0m\n\u001b[1;32m     59\u001b[0m \u001b[0;31m#     ax1.barh(y_pos, frs) # update to use spiketools\u001b[0m\u001b[0;34m\u001b[0m\u001b[0;34m\u001b[0m\u001b[0;34m\u001b[0m\u001b[0m\n\u001b[1;32m     60\u001b[0m \u001b[0;31m#     ax1.set(xlabel=\"FR\")\u001b[0m\u001b[0;34m\u001b[0m\u001b[0;34m\u001b[0m\u001b[0;34m\u001b[0m\u001b[0m\n\u001b[0;32m---> 61\u001b[0;31m     \u001b[0max1\u001b[0m\u001b[0;34m.\u001b[0m\u001b[0mbarh\u001b[0m\u001b[0;34m(\u001b[0m\u001b[0my_pos\u001b[0m\u001b[0;34m,\u001b[0m \u001b[0mfrs\u001b[0m\u001b[0;34m,\u001b[0m \u001b[0mxlabel\u001b[0m\u001b[0;34m=\u001b[0m\u001b[0;34m\"FR\"\u001b[0m\u001b[0;34m)\u001b[0m\u001b[0;34m\u001b[0m\u001b[0;34m\u001b[0m\u001b[0m\n\u001b[0m\u001b[1;32m     62\u001b[0m \u001b[0;34m\u001b[0m\u001b[0m\n\u001b[1;32m     63\u001b[0m     \u001b[0mplot_rasters\u001b[0m\u001b[0;34m(\u001b[0m\u001b[0mspikes\u001b[0m\u001b[0;34m,\u001b[0m \u001b[0max\u001b[0m\u001b[0;34m=\u001b[0m\u001b[0max2\u001b[0m\u001b[0;34m,\u001b[0m \u001b[0mshow_axis\u001b[0m\u001b[0;34m=\u001b[0m\u001b[0;32mTrue\u001b[0m\u001b[0;34m,\u001b[0m \u001b[0mylabel\u001b[0m\u001b[0;34m=\u001b[0m\u001b[0;34m'spikes from whole session'\u001b[0m\u001b[0;34m,\u001b[0m \u001b[0myticks\u001b[0m\u001b[0;34m=\u001b[0m\u001b[0;34m[\u001b[0m\u001b[0;34m]\u001b[0m\u001b[0;34m)\u001b[0m\u001b[0;34m\u001b[0m\u001b[0;34m\u001b[0m\u001b[0m\n",
      "\u001b[0;32m~/Applications/anaconda3/lib/python3.8/site-packages/matplotlib/axes/_axes.py\u001b[0m in \u001b[0;36mbarh\u001b[0;34m(self, y, width, height, left, align, **kwargs)\u001b[0m\n\u001b[1;32m   2511\u001b[0m         \"\"\"\n\u001b[1;32m   2512\u001b[0m         \u001b[0mkwargs\u001b[0m\u001b[0;34m.\u001b[0m\u001b[0msetdefault\u001b[0m\u001b[0;34m(\u001b[0m\u001b[0;34m'orientation'\u001b[0m\u001b[0;34m,\u001b[0m \u001b[0;34m'horizontal'\u001b[0m\u001b[0;34m)\u001b[0m\u001b[0;34m\u001b[0m\u001b[0;34m\u001b[0m\u001b[0m\n\u001b[0;32m-> 2513\u001b[0;31m         patches = self.bar(x=left, height=height, width=width, bottom=y,\n\u001b[0m\u001b[1;32m   2514\u001b[0m                            align=align, **kwargs)\n\u001b[1;32m   2515\u001b[0m         \u001b[0;32mreturn\u001b[0m \u001b[0mpatches\u001b[0m\u001b[0;34m\u001b[0m\u001b[0;34m\u001b[0m\u001b[0m\n",
      "\u001b[0;32m~/Applications/anaconda3/lib/python3.8/site-packages/matplotlib/__init__.py\u001b[0m in \u001b[0;36minner\u001b[0;34m(ax, data, *args, **kwargs)\u001b[0m\n\u001b[1;32m   1359\u001b[0m     \u001b[0;32mdef\u001b[0m \u001b[0minner\u001b[0m\u001b[0;34m(\u001b[0m\u001b[0max\u001b[0m\u001b[0;34m,\u001b[0m \u001b[0;34m*\u001b[0m\u001b[0margs\u001b[0m\u001b[0;34m,\u001b[0m \u001b[0mdata\u001b[0m\u001b[0;34m=\u001b[0m\u001b[0;32mNone\u001b[0m\u001b[0;34m,\u001b[0m \u001b[0;34m**\u001b[0m\u001b[0mkwargs\u001b[0m\u001b[0;34m)\u001b[0m\u001b[0;34m:\u001b[0m\u001b[0;34m\u001b[0m\u001b[0;34m\u001b[0m\u001b[0m\n\u001b[1;32m   1360\u001b[0m         \u001b[0;32mif\u001b[0m \u001b[0mdata\u001b[0m \u001b[0;32mis\u001b[0m \u001b[0;32mNone\u001b[0m\u001b[0;34m:\u001b[0m\u001b[0;34m\u001b[0m\u001b[0;34m\u001b[0m\u001b[0m\n\u001b[0;32m-> 1361\u001b[0;31m             \u001b[0;32mreturn\u001b[0m \u001b[0mfunc\u001b[0m\u001b[0;34m(\u001b[0m\u001b[0max\u001b[0m\u001b[0;34m,\u001b[0m \u001b[0;34m*\u001b[0m\u001b[0mmap\u001b[0m\u001b[0;34m(\u001b[0m\u001b[0msanitize_sequence\u001b[0m\u001b[0;34m,\u001b[0m \u001b[0margs\u001b[0m\u001b[0;34m)\u001b[0m\u001b[0;34m,\u001b[0m \u001b[0;34m**\u001b[0m\u001b[0mkwargs\u001b[0m\u001b[0;34m)\u001b[0m\u001b[0;34m\u001b[0m\u001b[0;34m\u001b[0m\u001b[0m\n\u001b[0m\u001b[1;32m   1362\u001b[0m \u001b[0;34m\u001b[0m\u001b[0m\n\u001b[1;32m   1363\u001b[0m         \u001b[0mbound\u001b[0m \u001b[0;34m=\u001b[0m \u001b[0mnew_sig\u001b[0m\u001b[0;34m.\u001b[0m\u001b[0mbind\u001b[0m\u001b[0;34m(\u001b[0m\u001b[0max\u001b[0m\u001b[0;34m,\u001b[0m \u001b[0;34m*\u001b[0m\u001b[0margs\u001b[0m\u001b[0;34m,\u001b[0m \u001b[0;34m**\u001b[0m\u001b[0mkwargs\u001b[0m\u001b[0;34m)\u001b[0m\u001b[0;34m\u001b[0m\u001b[0;34m\u001b[0m\u001b[0m\n",
      "\u001b[0;32m~/Applications/anaconda3/lib/python3.8/site-packages/matplotlib/axes/_axes.py\u001b[0m in \u001b[0;36mbar\u001b[0;34m(self, x, height, width, bottom, align, **kwargs)\u001b[0m\n\u001b[1;32m   2363\u001b[0m                 \u001b[0mhatch\u001b[0m\u001b[0;34m=\u001b[0m\u001b[0mhtch\u001b[0m\u001b[0;34m,\u001b[0m\u001b[0;34m\u001b[0m\u001b[0;34m\u001b[0m\u001b[0m\n\u001b[1;32m   2364\u001b[0m                 )\n\u001b[0;32m-> 2365\u001b[0;31m             \u001b[0mr\u001b[0m\u001b[0;34m.\u001b[0m\u001b[0mupdate\u001b[0m\u001b[0;34m(\u001b[0m\u001b[0mkwargs\u001b[0m\u001b[0;34m)\u001b[0m\u001b[0;34m\u001b[0m\u001b[0;34m\u001b[0m\u001b[0m\n\u001b[0m\u001b[1;32m   2366\u001b[0m             \u001b[0mr\u001b[0m\u001b[0;34m.\u001b[0m\u001b[0mget_path\u001b[0m\u001b[0;34m(\u001b[0m\u001b[0;34m)\u001b[0m\u001b[0;34m.\u001b[0m\u001b[0m_interpolation_steps\u001b[0m \u001b[0;34m=\u001b[0m \u001b[0;36m100\u001b[0m\u001b[0;34m\u001b[0m\u001b[0;34m\u001b[0m\u001b[0m\n\u001b[1;32m   2367\u001b[0m             \u001b[0;32mif\u001b[0m \u001b[0morientation\u001b[0m \u001b[0;34m==\u001b[0m \u001b[0;34m'vertical'\u001b[0m\u001b[0;34m:\u001b[0m\u001b[0;34m\u001b[0m\u001b[0;34m\u001b[0m\u001b[0m\n",
      "\u001b[0;32m~/Applications/anaconda3/lib/python3.8/site-packages/matplotlib/artist.py\u001b[0m in \u001b[0;36mupdate\u001b[0;34m(self, props)\u001b[0m\n\u001b[1;32m   1060\u001b[0m                     \u001b[0mfunc\u001b[0m \u001b[0;34m=\u001b[0m \u001b[0mgetattr\u001b[0m\u001b[0;34m(\u001b[0m\u001b[0mself\u001b[0m\u001b[0;34m,\u001b[0m \u001b[0;34mf\"set_{k}\"\u001b[0m\u001b[0;34m,\u001b[0m \u001b[0;32mNone\u001b[0m\u001b[0;34m)\u001b[0m\u001b[0;34m\u001b[0m\u001b[0;34m\u001b[0m\u001b[0m\n\u001b[1;32m   1061\u001b[0m                     \u001b[0;32mif\u001b[0m \u001b[0;32mnot\u001b[0m \u001b[0mcallable\u001b[0m\u001b[0;34m(\u001b[0m\u001b[0mfunc\u001b[0m\u001b[0;34m)\u001b[0m\u001b[0;34m:\u001b[0m\u001b[0;34m\u001b[0m\u001b[0;34m\u001b[0m\u001b[0m\n\u001b[0;32m-> 1062\u001b[0;31m                         raise AttributeError(f\"{type(self).__name__!r} object \"\n\u001b[0m\u001b[1;32m   1063\u001b[0m                                              f\"has no property {k!r}\")\n\u001b[1;32m   1064\u001b[0m                     \u001b[0mret\u001b[0m\u001b[0;34m.\u001b[0m\u001b[0mappend\u001b[0m\u001b[0;34m(\u001b[0m\u001b[0mfunc\u001b[0m\u001b[0;34m(\u001b[0m\u001b[0mv\u001b[0m\u001b[0;34m)\u001b[0m\u001b[0;34m)\u001b[0m\u001b[0;34m\u001b[0m\u001b[0;34m\u001b[0m\u001b[0m\n",
      "\u001b[0;31mAttributeError\u001b[0m: 'Rectangle' object has no property 'xlabel'"
     ]
    },
    {
     "data": {
      "image/png": "[encoded data removed]",
      "text/plain": [
       "<Figure size 1296x1440 with 4 Axes>"
      ]
     },
     "metadata": {
      "needs_background": "light"
     },
     "output_type": "display_data"
    }
   ],
   "source": [
    "# Plot the unit report\n",
    "plot_spikes_trial(spikes, spikes_trial, nav_stops_trial, nav_spikes_all, nav_starts, \n",
    "                      nav_stops, openings, name, frs, hlines)"
   ]
  },
  {
   "cell_type": "markdown",
   "id": "c1bf0e69",
   "metadata": {},
   "source": [
    "## All units"
   ]
  },
  {
   "cell_type": "code",
   "execution_count": null,
   "id": "27309276",
   "metadata": {},
   "outputs": [],
   "source": [
    "for nwbfile in nwbfiles:\n",
    "    nwbfile, io = load_nwbfile(nwbfile, data_folder, return_io=True)\n",
    "    \n",
    "    # Check the number of units & keep indices\n",
    "    n_units = len(nwbfile.units)\n",
    "    keep_inds = np.where(nwbfile.units.keep[:])[0]\n",
    "    \n",
    "    # Drop sessions with 8 or fewer trials   \n",
    "    n_trials = len(nwbfile.trials)\n",
    "    if n_trials > 8: \n",
    "        nav_starts = nwbfile.trials.navigation_start[:]\n",
    "        nav_stops = nwbfile.trials.navigation_stop[:]\n",
    "        chest_openings = nwbfile.trials['chest_opening_time'][:]\n",
    "        openings = nwbfile.trials.chest_opening_time[:]\n",
    "\n",
    "        # Reset nav_stops per trial\n",
    "        nav_stops_trial = [nav_stops[ind] - nav_starts[ind] for ind in range(len(nav_stops))]\n",
    "\n",
    "        # Add hlines for each block of trials\n",
    "        if (len(nav_starts) > 16) and (len(nav_starts) <= 24):\n",
    "            hlines = [7.5, 15.5]\n",
    "        elif len(nav_starts) > 24:\n",
    "            hlines = [7.5, 15.5, 23.5]\n",
    "\n",
    "        for index in keep_inds:\n",
    "            name = nwbfile.session_id + '_U' + str(index).zfill(2)\n",
    "            spikes = nwbfile.units.get_unit_spike_times(index)\n",
    "            spikes_trial = epoch_spikes_by_range(spikes, nav_starts, nav_stops, reset=True)\n",
    "            tc_spikes = epoch_spikes_by_range(spikes, nav_starts, nav_stops, reset=False)\n",
    "\n",
    "            # Compute the overall firing rate and apply the 0.5 Hz threshold \n",
    "            fr_overall = compute_firing_rate(spikes)\n",
    "            if fr_overall > 0.5:\n",
    "\n",
    "                # Compute the firing rate per trial\n",
    "                nav_spikes = []\n",
    "                frs = np.zeros(len(spikes_trial))\n",
    "                for ind in range(len(spikes_trial)): \n",
    "                    t_spikes = get_range(spikes, nav_starts[ind], nav_stops[ind])\n",
    "                    nav_spikes.append(t_spikes)\n",
    "                    nav_spikes_all = np.concatenate(nav_spikes).ravel()\n",
    "                    if len(tc_spikes[ind]) != 0: \n",
    "                        frs[ind] = compute_firing_rate(tc_spikes[ind], start_time=nav_starts[ind], \n",
    "                                                        stop_time=nav_stops[ind])\n",
    "                    else:\n",
    "                        frs[ind] = 0\n",
    "                        \n",
    "                # Plot the unit report\n",
    "                plot_spikes_trial(spikes, spikes_trial, nav_stops_trial, nav_spikes_all, nav_starts, \n",
    "                                  nav_stops, openings, name, frs, hlines)\n",
    "                save_figure('unit_report_' + name + '.pdf', '../reports/threshold+trial', close=True)"
   ]
  }
 ],
 "metadata": {
  "kernelspec": {
   "display_name": "Python 3",
   "language": "python",
   "name": "python3"
  },
  "language_info": {
   "codemirror_mode": {
    "name": "ipython",
    "version": 3
   },
   "file_extension": ".py",
   "mimetype": "text/x-python",
   "name": "python",
   "nbconvert_exporter": "python",
   "pygments_lexer": "ipython3",
   "version": "3.8.8"
  }
 },
 "nbformat": 4,
 "nbformat_minor": 5
}
