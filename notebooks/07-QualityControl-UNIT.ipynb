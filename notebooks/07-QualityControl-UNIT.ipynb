{
 "cells": [
  {
   "cell_type": "markdown",
   "id": "31d4b18b",
   "metadata": {},
   "source": [
    "# Quality Control Reports\n",
    "\n",
    "Create a report quality checking an individual unit."
   ]
  },
  {
   "cell_type": "code",
   "execution_count": 1,
   "id": "84f3da1e",
   "metadata": {},
   "outputs": [],
   "source": [
    "%config Completer.use_jedi = False"
   ]
  },
  {
   "cell_type": "code",
   "execution_count": 2,
   "id": "72b02b0b",
   "metadata": {},
   "outputs": [],
   "source": [
    "import warnings\n",
    "warnings.filterwarnings(\"ignore\")\n",
    "\n",
    "from pathlib import Path\n",
    "from collections import Counter\n",
    "from pynwb import NWBHDF5IO\n",
    "\n",
    "import numpy as np\n",
    "import matplotlib.pyplot as plt\n",
    "\n",
    "from convnwb.io import load_nwbfile\n",
    "from convnwb.io import get_files, save_json\n",
    "\n",
    "from spiketools.measures.trials import compute_segment_frs\n",
    "from spiketools.measures.measures import compute_firing_rate\n",
    "from spiketools.utils import set_random_seed\n",
    "from spiketools.utils.extract import get_range\n",
    "from spiketools.utils.epoch import (epoch_spikes_by_range, epoch_spikes_by_event)\n"
   ]
  },
  {
   "cell_type": "code",
   "execution_count": 3,
   "id": "a2260b44",
   "metadata": {},
   "outputs": [],
   "source": [
    "import sys\n",
    "sys.path.append('../code')\n",
    "from reports import *\n",
    "from plts import plot_spikes_trial"
   ]
  },
  {
   "cell_type": "code",
   "execution_count": 4,
   "id": "7e433455",
   "metadata": {},
   "outputs": [],
   "source": [
    "import seaborn as sns\n",
    "sns.set_context('talk')"
   ]
  },
  {
   "cell_type": "markdown",
   "id": "9742c45f",
   "metadata": {},
   "source": [
    "## Settings"
   ]
  },
  {
   "cell_type": "code",
   "execution_count": 5,
   "id": "badce73f",
   "metadata": {},
   "outputs": [],
   "source": [
    "BASE_PATH = Path('/Users/Claire_han/Documents/Data/JacobsLab/TH/')\n",
    "DATA_PATH = BASE_PATH / 'NWB'\n",
    "\n",
    "PATHS = {\n",
    "    'BASE' : BASE_PATH,\n",
    "    'DATA' : DATA_PATH\n",
    "}"
   ]
  },
  {
   "cell_type": "code",
   "execution_count": 6,
   "id": "06497187",
   "metadata": {},
   "outputs": [],
   "source": [
    "# Define the base data folder\n",
    "data_folder = '/Users/Claire_han/Documents/Data/JacobsLab/TH/NWB'\n",
    "#data_folder = '/scratch/tom.donoghue/TH/'"
   ]
  },
  {
   "cell_type": "code",
   "execution_count": 7,
   "id": "1ebcc558",
   "metadata": {},
   "outputs": [],
   "source": [
    "# Define session information\n",
    "session = {\n",
    "    'experiment' : 'THO',\n",
    "    'subject' : 'wv001',\n",
    "    'session' : 2\n",
    "}"
   ]
  },
  {
   "cell_type": "code",
   "execution_count": 8,
   "id": "097dd0b4",
   "metadata": {},
   "outputs": [],
   "source": [
    "# Set which example unit to extract\n",
    "uind = 0"
   ]
  },
  {
   "cell_type": "markdown",
   "id": "cc005716",
   "metadata": {},
   "source": [
    "## Load data"
   ]
  },
  {
   "cell_type": "code",
   "execution_count": 9,
   "id": "d4bb1fcf",
   "metadata": {},
   "outputs": [],
   "source": [
    "# Load NWB file\n",
    "nwbfiles = get_files(PATHS['DATA'])\n",
    "nwbfile = load_nwbfile(session, data_folder)"
   ]
  },
  {
   "cell_type": "code",
   "execution_count": 10,
   "id": "5ad199c6",
   "metadata": {},
   "outputs": [],
   "source": [
    "# Get the trail information\n",
    "nav_starts = nwbfile.trials.navigation_start[:]\n",
    "nav_stops = nwbfile.trials.navigation_stop[:]\n",
    "chest_openings = nwbfile.trials['chest_opening_time'][:]\n",
    "openings = nwbfile.trials.chest_opening_time[:]"
   ]
  },
  {
   "cell_type": "code",
   "execution_count": 11,
   "id": "1a97e8e6",
   "metadata": {},
   "outputs": [],
   "source": [
    "# Reset nav_stops per trial\n",
    "nav_stops_trial = [nav_stops[ind+1] - nav_stops[ind] for ind in range(len(nav_stops)-1)]\n",
    "nav_stops_trial = [nav_stops[0]] + nav_stops_trial"
   ]
  },
  {
   "cell_type": "code",
   "execution_count": 12,
   "id": "53047718",
   "metadata": {},
   "outputs": [],
   "source": [
    "# Get the spikes\n",
    "spikes = nwbfile.units.get_unit_spike_times(uind)"
   ]
  },
  {
   "cell_type": "markdown",
   "id": "88bea7b9",
   "metadata": {},
   "source": [
    "## Example unit"
   ]
  },
  {
   "cell_type": "code",
   "execution_count": 13,
   "id": "80bbd1e0",
   "metadata": {
    "scrolled": true
   },
   "outputs": [],
   "source": [
    "def plot_spikes_trial(spikes, spikes_trial, nav_stops_trial, nav_spikes_all, nav_starts, \n",
    "                      nav_stops, openings, name, frs, hlines, ax=None, **plt_kwargs):\n",
    "    fig = plt.figure(figsize=(18,20))\n",
    "    gs = gridspec.GridSpec(3, 2, width_ratios=[5, 1]) \n",
    "    ax0 = plt.subplot(gs[2,0])\n",
    "    ax1 = plt.subplot(gs[2,1], sharey = ax0)\n",
    "    ax2 = plt.subplot(gs[0,:])\n",
    "    ax3 = plt.subplot(gs[1,:])\n",
    "    plt.subplots_adjust(wspace=0.1, hspace=0.2)\n",
    "\n",
    "    y_pos = np.arange(len(spikes_trial))\n",
    "    plot_rasters(spikes_trial, show_axis=True, ax=ax0)\n",
    "    _add_box_shades(nav_stops_trial, np.arange(len(spikes_trial)), x_range=0.1, y_range=0.5, ax=ax0)\n",
    "    _add_hlines(hlines, ax=ax0, color='green', alpha=0.4)\n",
    "    ax1.barh(y_pos, frs)\n",
    "\n",
    "    plot_rasters(spikes, ax=ax2, show_axis=True, ylabel='spikes from whole session')\n",
    "    _add_vlines(nav_stops, ax=ax2, color='purple') #navigation starts\n",
    "    _add_vlines(nav_starts, ax=ax2, color='orange')#navigation stops \n",
    "\n",
    "    plot_rasters(nav_spikes_all, vline=openings, show_axis=True, ax=ax3, ylabel='Spikes from navigation periods')\n",
    "\n",
    "    ax0.set(xlabel='Spike times', ylabel=\"Trial number\", yticks=range(0,len(spikes_trial)))\n",
    "    ax0.spines.right.set_visible(False)\n",
    "    ax0.spines.top.set_visible(False)\n",
    "    ax1.spines.left.set_visible(False)\n",
    "    ax1.spines.right.set_visible(False)\n",
    "    ax1.spines.top.set_visible(False)\n",
    "\n",
    "    ax0.xaxis.set_ticks_position('bottom')\n",
    "    ax1.xaxis.set_ticks_position('bottom')\n",
    "    ax1.tick_params(left = False)\n",
    "    ax1.set(xlabel=\"FR\")\n",
    "\n",
    "    ax2.spines.right.set_visible(False)\n",
    "    ax2.spines.left.set_visible(False)\n",
    "    ax2.spines.top.set_visible(False)\n",
    "    ax3.spines.right.set_visible(False)\n",
    "    ax3.spines.left.set_visible(False)\n",
    "    ax3.spines.top.set_visible(False)\n",
    "    ax2.tick_params(left = False)\n",
    "    ax3.tick_params(left = False)\n",
    "    ax2.set(yticks=[])\n",
    "    ax3.set(yticks=[])\n",
    "\n",
    "    fig.suptitle(create_heat_title('{}'.format(name), frs), fontsize=20)"
   ]
  },
  {
   "cell_type": "code",
   "execution_count": 13,
   "id": "2c674d1a",
   "metadata": {},
   "outputs": [],
   "source": [
    "# Epoch & reset spikes within each navigation period per trial\n",
    "name = nwbfile.session_id + '_U' + str(uind).zfill(2)\n",
    "spikes_trial = epoch_spikes_by_range(spikes, nav_starts, nav_stops, reset=True)"
   ]
  },
  {
   "cell_type": "code",
   "execution_count": 14,
   "id": "9af0681d",
   "metadata": {},
   "outputs": [],
   "source": [
    "# Compute the firing rate per trial\n",
    "nav_spikes = []\n",
    "frs = np.zeros(len(spikes_trial))\n",
    "for ind in range(len(spikes_trial)): \n",
    "    t_spikes = get_range(spikes, nav_starts[ind], nav_stops[ind])\n",
    "    nav_spikes.append(t_spikes)\n",
    "    nav_spikes_all = np.concatenate(nav_spikes).ravel()\n",
    "    \n",
    "    frs[ind] = compute_firing_rate(spikes_trial[ind])"
   ]
  },
  {
   "cell_type": "code",
   "execution_count": 15,
   "id": "5d40a65e",
   "metadata": {},
   "outputs": [],
   "source": [
    "# Add hlines for each block of trials\n",
    "hlines = []\n",
    "if (len(nav_starts) >= 8) and (len(nav_starts) <= 16):\n",
    "    hlines = [7.5]\n",
    "elif (len(nav_starts) > 16) and (len(nav_starts) <= 24):\n",
    "    hlines = [7.5, 15.5]\n",
    "elif len(nav_starts) > 24:\n",
    "    hlines = [7.5, 15.5, 23.5]"
   ]
  },
  {
   "cell_type": "code",
   "execution_count": 16,
   "id": "821df900",
   "metadata": {
    "scrolled": true
   },
   "outputs": [
    {
     "data": {
      "image/png": "[encoded data removed]",
      "text/plain": [
       "<Figure size 1296x1440 with 4 Axes>"
      ]
     },
     "metadata": {
      "needs_background": "light"
     },
     "output_type": "display_data"
    }
   ],
   "source": [
    "# Plot the unit report\n",
    "plot_spikes_trial(spikes, spikes_trial, nav_stops_trial, nav_spikes_all, nav_starts, \n",
    "                      nav_stops, openings, name, frs, hlines)"
   ]
  },
  {
   "cell_type": "markdown",
   "id": "c1bf0e69",
   "metadata": {},
   "source": [
    "## All units"
   ]
  },
  {
   "cell_type": "code",
   "execution_count": null,
   "id": "27309276",
   "metadata": {},
   "outputs": [],
   "source": [
    "for nwbfilename in nwbfiles:\n",
    "    nwbfile = NWBHDF5IO(str(PATHS['DATA'] / nwbfilename), 'r').read()\n",
    "    \n",
    "    nav_starts = nwbfile.trials.navigation_start[:]\n",
    "    nav_stops = nwbfile.trials.navigation_stop[:]\n",
    "    chest_openings = nwbfile.trials['chest_opening_time'][:]\n",
    "    openings = nwbfile.trials.chest_opening_time[:]\n",
    "    \n",
    "    # Reset nav_stops per trial\n",
    "    nav_stops_trial = [nav_stops[ind+1] - nav_stops[ind] for ind in range(len(nav_stops)-1)]\n",
    "    nav_stops_trial = [nav_stops[0]] + nav_stops_trial\n",
    "    \n",
    "    # Check the number of units & keep indices\n",
    "    n_units = len(nwbfile.units)\n",
    "    keep_inds = np.where(nwbfile.units.keep[:])[0]\n",
    "    n_keep = len(keep_inds)\n",
    "    \n",
    "    # Add hlines for each block of trials\n",
    "    hlines = []\n",
    "    if (len(nav_starts) >= 8) and (len(nav_starts) <= 16):\n",
    "        hlines = [7.5]\n",
    "    elif (len(nav_starts) > 16) and (len(nav_starts) <= 24):\n",
    "        hlines = [7.5, 15.5]\n",
    "    elif len(nav_starts) > 24:\n",
    "        hlines = [7.5, 15.5, 23.5]\n",
    "    \n",
    "    for index in keep_inds:\n",
    "        name = nwbfile.session_id + '_U' + str(index).zfill(2)\n",
    "        spikes = nwbfile.units.get_unit_spike_times(index)\n",
    "        spikes_trial = epoch_spikes_by_range(spikes, nav_starts, nav_stops, reset=True)\n",
    "        tc_spikes = epoch_spikes_by_range(spikes, nav_starts, nav_stops, reset=False)\n",
    "        \n",
    "        # Compute the firing rate per trial\n",
    "        nav_spikes = []\n",
    "        frs = np.zeros(len(spikes_trial))\n",
    "        for ind in range(len(spikes_trial)): \n",
    "            t_spikes = get_range(spikes, nav_starts[ind], nav_stops[ind])\n",
    "            nav_spikes.append(t_spikes)\n",
    "            nav_spikes_all = np.concatenate(nav_spikes).ravel()\n",
    "            if len(tc_spikes[ind]) != 0: \n",
    "                frs[ind] = compute_firing_rate(tc_spikes[ind], start_time=nav_starts[ind], \n",
    "                                                stop_time=nav_stops[ind])\n",
    "            else:\n",
    "                frs[ind] = 0\n",
    "        # Plot the unit report\n",
    "        plot_spikes_trial(spikes, spikes_trial, nav_stops_trial, nav_spikes_all, nav_starts, \n",
    "                          nav_stops, openings, name, frs, hlines)"
   ]
  }
 ],
 "metadata": {
  "kernelspec": {
   "display_name": "Python 3",
   "language": "python",
   "name": "python3"
  },
  "language_info": {
   "codemirror_mode": {
    "name": "ipython",
    "version": 3
   },
   "file_extension": ".py",
   "mimetype": "text/x-python",
   "name": "python",
   "nbconvert_exporter": "python",
   "pygments_lexer": "ipython3",
   "version": "3.8.8"
  }
 },
 "nbformat": 4,
 "nbformat_minor": 5
}
