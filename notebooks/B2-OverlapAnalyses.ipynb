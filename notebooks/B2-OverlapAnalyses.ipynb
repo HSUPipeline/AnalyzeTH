{
 "cells": [
  {
   "cell_type": "markdown",
   "id": "c0fa1b69",
   "metadata": {},
   "source": [
    "# Examine Results"
   ]
  },
  {
   "cell_type": "code",
   "execution_count": 395,
   "id": "51e5da01",
   "metadata": {},
   "outputs": [],
   "source": [
    "%matplotlib inline\n",
    "\n",
    "import numpy as np\n",
    "import pandas as pd\n",
    "import matplotlib.pyplot as plt\n",
    "from scipy.stats import binom_test, chi2_contingency\n",
    "import seaborn as sns\n",
    "\n",
    "from convnwb.paths import Paths\n",
    "from convnwb.io import get_files, load_json, load_jsons_to_df, load_matfile\n",
    "\n",
    "from spiketools.plts.data import plot_hist, plot_bar\n",
    "from spiketools.plts.utils import make_axes, save_figure\n",
    "from spiketools.plts.annotate import add_hlines"
   ]
  },
  {
   "cell_type": "code",
   "execution_count": 396,
   "id": "e9dfcac0",
   "metadata": {},
   "outputs": [],
   "source": [
    "import seaborn as sns\n",
    "sns.set_context('talk')"
   ]
  },
  {
   "cell_type": "code",
   "execution_count": 397,
   "id": "89ac456b-67e0-4230-a9ae-5700df11878b",
   "metadata": {},
   "outputs": [],
   "source": [
    "# Set pandas display options\n",
    "pd.options.display.max_columns = None"
   ]
  },
  {
   "cell_type": "markdown",
   "id": "bc5919e2",
   "metadata": {},
   "source": [
    "## Settings"
   ]
  },
  {
   "cell_type": "code",
   "execution_count": 468,
   "id": "0a0177e3",
   "metadata": {},
   "outputs": [],
   "source": [
    "# Set which experiment version to run\n",
    "experiment = 'THO'"
   ]
  },
  {
   "cell_type": "code",
   "execution_count": 469,
   "id": "efca497e-edc6-413a-9e4c-8420306a54f8",
   "metadata": {},
   "outputs": [],
   "source": [
    "# Define list of analyses\n",
    "th_analyses = [#'allchest', 'fullchest', 'emptychest',\n",
    "               'chest', 'place', 'target', 'serial']\n",
    "\n",
    "# Collect names of analysis columns\n",
    "th_analysis_columns = ['is_' + analysis for analysis in th_analyses]"
   ]
  },
  {
   "cell_type": "code",
   "execution_count": 470,
   "id": "153c1373",
   "metadata": {},
   "outputs": [],
   "source": [
    "# Set the folder to load results from\n",
    "data_path = '../results/units/' + experiment"
   ]
  },
  {
   "cell_type": "markdown",
   "id": "383451dd-190d-4390-beb6-16e8efa506cb",
   "metadata": {},
   "source": [
    "## Check Files"
   ]
  },
  {
   "cell_type": "code",
   "execution_count": 471,
   "id": "8f155f37",
   "metadata": {},
   "outputs": [],
   "source": [
    "# Get the list of files\n",
    "res_files = get_files(data_path, select='session')"
   ]
  },
  {
   "cell_type": "code",
   "execution_count": 472,
   "id": "ca61f7a9-82fa-4e54-94c3-499a08ee316e",
   "metadata": {},
   "outputs": [],
   "source": [
    "# # Drop a specific set of files\n",
    "# res_files = [file for file in res_files if 'wv003' not in file]"
   ]
  },
  {
   "cell_type": "code",
   "execution_count": 473,
   "id": "6bdb7533-4201-4bf8-ac45-9ce194c6eb39",
   "metadata": {},
   "outputs": [],
   "source": [
    "# # Select a specific set of files\n",
    "# res_files = [file for file in res_files if 'wv001' in file]"
   ]
  },
  {
   "cell_type": "code",
   "execution_count": 474,
   "id": "bc42d46d-62d6-4634-843d-ea2d385908fd",
   "metadata": {},
   "outputs": [
    {
     "data": {
      "text/plain": [
       "608"
      ]
     },
     "execution_count": 474,
     "metadata": {},
     "output_type": "execute_result"
    }
   ],
   "source": [
    "# Check the number of available files\n",
    "n_files = len(res_files)\n",
    "n_files"
   ]
  },
  {
   "cell_type": "markdown",
   "id": "38fa09de",
   "metadata": {},
   "source": [
    "## Load Example File"
   ]
  },
  {
   "cell_type": "code",
   "execution_count": 475,
   "id": "38ac3696",
   "metadata": {},
   "outputs": [],
   "source": [
    "# Load an example file\n",
    "file = res_files[0]\n",
    "data = load_json(file, folder=str(data_path))"
   ]
  },
  {
   "cell_type": "code",
   "execution_count": 476,
   "id": "638db8f2",
   "metadata": {},
   "outputs": [],
   "source": [
    "# # Check example file\n",
    "# data"
   ]
  },
  {
   "cell_type": "markdown",
   "id": "1045e2f8",
   "metadata": {},
   "source": [
    "## Collect Results"
   ]
  },
  {
   "cell_type": "code",
   "execution_count": 477,
   "id": "c31a3fa1",
   "metadata": {},
   "outputs": [],
   "source": [
    "# Collect all unit results together into a dataframe\n",
    "all_results = load_jsons_to_df(res_files, folder=data_path)"
   ]
  },
  {
   "cell_type": "code",
   "execution_count": 478,
   "id": "b5396cac",
   "metadata": {},
   "outputs": [],
   "source": [
    "# # Clean up some datatypes - cast integers\n",
    "# set_ints = ['uid', 'wvID', 'keep', 'cluster', 'n_spikes']\n",
    "# all_results[set_ints] = all_results[set_ints].astype('int')"
   ]
  },
  {
   "cell_type": "code",
   "execution_count": 479,
   "id": "62db4a29",
   "metadata": {},
   "outputs": [
    {
     "data": {
      "text/plain": [
       "Index(['uid', 'session_id', 'subject_id', 'wvID', 'keep', 'n_spikes',\n",
       "       'firing_rate', 'presence_ratio', 'cluster', 'channel', 'location',\n",
       "       'fr_t_val_all', 'fr_p_val_all', 'fr_t_val_empt', 'fr_p_val_empt',\n",
       "       'fr_t_val_full', 'fr_p_val_full', 'place_anova', 'target_anova',\n",
       "       'serial_anova', 'place_anova_surr_p_val', 'place_anova_surr_z_score',\n",
       "       'target_anova_surr_p_val', 'target_anova_surr_z_score',\n",
       "       'serial_anova_surr_p_val', 'serial_anova_surr_z_score'],\n",
       "      dtype='object')"
      ]
     },
     "execution_count": 479,
     "metadata": {},
     "output_type": "execute_result"
    }
   ],
   "source": [
    "# Check the columns\n",
    "all_results.columns"
   ]
  },
  {
   "cell_type": "code",
   "execution_count": 480,
   "id": "df60560e",
   "metadata": {},
   "outputs": [
    {
     "data": {
      "text/html": [
       "<div>\n",
       "<style scoped>\n",
       "    .dataframe tbody tr th:only-of-type {\n",
       "        vertical-align: middle;\n",
       "    }\n",
       "\n",
       "    .dataframe tbody tr th {\n",
       "        vertical-align: top;\n",
       "    }\n",
       "\n",
       "    .dataframe thead th {\n",
       "        text-align: right;\n",
       "    }\n",
       "</style>\n",
       "<table border=\"1\" class=\"dataframe\">\n",
       "  <thead>\n",
       "    <tr style=\"text-align: right;\">\n",
       "      <th></th>\n",
       "      <th>uid</th>\n",
       "      <th>session_id</th>\n",
       "      <th>subject_id</th>\n",
       "      <th>wvID</th>\n",
       "      <th>keep</th>\n",
       "      <th>n_spikes</th>\n",
       "      <th>firing_rate</th>\n",
       "      <th>presence_ratio</th>\n",
       "      <th>cluster</th>\n",
       "      <th>channel</th>\n",
       "      <th>location</th>\n",
       "      <th>fr_t_val_all</th>\n",
       "      <th>fr_p_val_all</th>\n",
       "      <th>fr_t_val_empt</th>\n",
       "      <th>fr_p_val_empt</th>\n",
       "      <th>fr_t_val_full</th>\n",
       "      <th>fr_p_val_full</th>\n",
       "      <th>place_anova</th>\n",
       "      <th>target_anova</th>\n",
       "      <th>serial_anova</th>\n",
       "      <th>place_anova_surr_p_val</th>\n",
       "      <th>place_anova_surr_z_score</th>\n",
       "      <th>target_anova_surr_p_val</th>\n",
       "      <th>target_anova_surr_z_score</th>\n",
       "      <th>serial_anova_surr_p_val</th>\n",
       "      <th>serial_anova_surr_z_score</th>\n",
       "    </tr>\n",
       "  </thead>\n",
       "  <tbody>\n",
       "    <tr>\n",
       "      <th>0</th>\n",
       "      <td>0</td>\n",
       "      <td>THO_wv001_session_0</td>\n",
       "      <td>wv001</td>\n",
       "      <td>1</td>\n",
       "      <td>True</td>\n",
       "      <td>595</td>\n",
       "      <td>0.402114</td>\n",
       "      <td>0.821918</td>\n",
       "      <td>5169</td>\n",
       "      <td>A10</td>\n",
       "      <td>LAH</td>\n",
       "      <td>0.096174</td>\n",
       "      <td>0.923585</td>\n",
       "      <td>-0.627103</td>\n",
       "      <td>0.534661</td>\n",
       "      <td>0.607628</td>\n",
       "      <td>0.545766</td>\n",
       "      <td>0.536361</td>\n",
       "      <td>0.511021</td>\n",
       "      <td>0.676014</td>\n",
       "      <td>0.856</td>\n",
       "      <td>-0.842366</td>\n",
       "      <td>0.856</td>\n",
       "      <td>-0.938975</td>\n",
       "      <td>0.607</td>\n",
       "      <td>-0.427371</td>\n",
       "    </tr>\n",
       "    <tr>\n",
       "      <th>1</th>\n",
       "      <td>2</td>\n",
       "      <td>THO_wv001_session_0</td>\n",
       "      <td>wv001</td>\n",
       "      <td>3</td>\n",
       "      <td>True</td>\n",
       "      <td>22559</td>\n",
       "      <td>15.259095</td>\n",
       "      <td>1.000000</td>\n",
       "      <td>5200</td>\n",
       "      <td>A10</td>\n",
       "      <td>LAH</td>\n",
       "      <td>0.532078</td>\n",
       "      <td>0.595914</td>\n",
       "      <td>1.401202</td>\n",
       "      <td>0.169959</td>\n",
       "      <td>-0.540276</td>\n",
       "      <td>0.591040</td>\n",
       "      <td>1.205246</td>\n",
       "      <td>2.266768</td>\n",
       "      <td>1.098669</td>\n",
       "      <td>0.287</td>\n",
       "      <td>0.404469</td>\n",
       "      <td>0.040</td>\n",
       "      <td>2.090485</td>\n",
       "      <td>0.381</td>\n",
       "      <td>0.009386</td>\n",
       "    </tr>\n",
       "    <tr>\n",
       "      <th>2</th>\n",
       "      <td>3</td>\n",
       "      <td>THO_wv001_session_0</td>\n",
       "      <td>wv001</td>\n",
       "      <td>4</td>\n",
       "      <td>True</td>\n",
       "      <td>4583</td>\n",
       "      <td>3.115527</td>\n",
       "      <td>1.000000</td>\n",
       "      <td>5203</td>\n",
       "      <td>A10</td>\n",
       "      <td>LAH</td>\n",
       "      <td>1.323994</td>\n",
       "      <td>0.188682</td>\n",
       "      <td>0.117595</td>\n",
       "      <td>0.907061</td>\n",
       "      <td>1.616886</td>\n",
       "      <td>0.111238</td>\n",
       "      <td>1.488245</td>\n",
       "      <td>1.687129</td>\n",
       "      <td>2.034143</td>\n",
       "      <td>0.134</td>\n",
       "      <td>1.117659</td>\n",
       "      <td>0.158</td>\n",
       "      <td>1.002798</td>\n",
       "      <td>0.091</td>\n",
       "      <td>1.325692</td>\n",
       "    </tr>\n",
       "    <tr>\n",
       "      <th>3</th>\n",
       "      <td>4</td>\n",
       "      <td>THO_wv001_session_0</td>\n",
       "      <td>wv001</td>\n",
       "      <td>5</td>\n",
       "      <td>True</td>\n",
       "      <td>990</td>\n",
       "      <td>0.675442</td>\n",
       "      <td>0.958904</td>\n",
       "      <td>2248</td>\n",
       "      <td>A12</td>\n",
       "      <td>LAH</td>\n",
       "      <td>0.000000</td>\n",
       "      <td>1.000000</td>\n",
       "      <td>-0.597614</td>\n",
       "      <td>0.553945</td>\n",
       "      <td>0.433472</td>\n",
       "      <td>0.666253</td>\n",
       "      <td>0.362834</td>\n",
       "      <td>0.788821</td>\n",
       "      <td>0.686159</td>\n",
       "      <td>0.973</td>\n",
       "      <td>-1.240125</td>\n",
       "      <td>0.623</td>\n",
       "      <td>-0.458876</td>\n",
       "      <td>0.630</td>\n",
       "      <td>-0.475896</td>\n",
       "    </tr>\n",
       "    <tr>\n",
       "      <th>4</th>\n",
       "      <td>5</td>\n",
       "      <td>THO_wv001_session_0</td>\n",
       "      <td>wv001</td>\n",
       "      <td>6</td>\n",
       "      <td>True</td>\n",
       "      <td>5965</td>\n",
       "      <td>4.060187</td>\n",
       "      <td>1.000000</td>\n",
       "      <td>2303</td>\n",
       "      <td>A12</td>\n",
       "      <td>LAH</td>\n",
       "      <td>-1.315754</td>\n",
       "      <td>0.191423</td>\n",
       "      <td>0.828417</td>\n",
       "      <td>0.413048</td>\n",
       "      <td>-2.313347</td>\n",
       "      <td>0.024208</td>\n",
       "      <td>0.553021</td>\n",
       "      <td>1.297559</td>\n",
       "      <td>0.678876</td>\n",
       "      <td>0.868</td>\n",
       "      <td>-0.972511</td>\n",
       "      <td>0.210</td>\n",
       "      <td>0.723683</td>\n",
       "      <td>0.417</td>\n",
       "      <td>-0.035455</td>\n",
       "    </tr>\n",
       "  </tbody>\n",
       "</table>\n",
       "</div>"
      ],
      "text/plain": [
       "   uid           session_id subject_id  wvID  keep  n_spikes  firing_rate  \\\n",
       "0    0  THO_wv001_session_0      wv001     1  True       595     0.402114   \n",
       "1    2  THO_wv001_session_0      wv001     3  True     22559    15.259095   \n",
       "2    3  THO_wv001_session_0      wv001     4  True      4583     3.115527   \n",
       "3    4  THO_wv001_session_0      wv001     5  True       990     0.675442   \n",
       "4    5  THO_wv001_session_0      wv001     6  True      5965     4.060187   \n",
       "\n",
       "   presence_ratio  cluster channel location  fr_t_val_all  fr_p_val_all  \\\n",
       "0        0.821918     5169     A10      LAH      0.096174      0.923585   \n",
       "1        1.000000     5200     A10      LAH      0.532078      0.595914   \n",
       "2        1.000000     5203     A10      LAH      1.323994      0.188682   \n",
       "3        0.958904     2248     A12      LAH      0.000000      1.000000   \n",
       "4        1.000000     2303     A12      LAH     -1.315754      0.191423   \n",
       "\n",
       "   fr_t_val_empt  fr_p_val_empt  fr_t_val_full  fr_p_val_full  place_anova  \\\n",
       "0      -0.627103       0.534661       0.607628       0.545766     0.536361   \n",
       "1       1.401202       0.169959      -0.540276       0.591040     1.205246   \n",
       "2       0.117595       0.907061       1.616886       0.111238     1.488245   \n",
       "3      -0.597614       0.553945       0.433472       0.666253     0.362834   \n",
       "4       0.828417       0.413048      -2.313347       0.024208     0.553021   \n",
       "\n",
       "   target_anova  serial_anova  place_anova_surr_p_val  \\\n",
       "0      0.511021      0.676014                   0.856   \n",
       "1      2.266768      1.098669                   0.287   \n",
       "2      1.687129      2.034143                   0.134   \n",
       "3      0.788821      0.686159                   0.973   \n",
       "4      1.297559      0.678876                   0.868   \n",
       "\n",
       "   place_anova_surr_z_score  target_anova_surr_p_val  \\\n",
       "0                 -0.842366                    0.856   \n",
       "1                  0.404469                    0.040   \n",
       "2                  1.117659                    0.158   \n",
       "3                 -1.240125                    0.623   \n",
       "4                 -0.972511                    0.210   \n",
       "\n",
       "   target_anova_surr_z_score  serial_anova_surr_p_val  \\\n",
       "0                  -0.938975                    0.607   \n",
       "1                   2.090485                    0.381   \n",
       "2                   1.002798                    0.091   \n",
       "3                  -0.458876                    0.630   \n",
       "4                   0.723683                    0.417   \n",
       "\n",
       "   serial_anova_surr_z_score  \n",
       "0                  -0.427371  \n",
       "1                   0.009386  \n",
       "2                   1.325692  \n",
       "3                  -0.475896  \n",
       "4                  -0.035455  "
      ]
     },
     "execution_count": 480,
     "metadata": {},
     "output_type": "execute_result"
    }
   ],
   "source": [
    "# Check the head of the results\n",
    "all_results.head()"
   ]
  },
  {
   "cell_type": "markdown",
   "id": "f4f3b797-c8f3-4142-a870-a06ca527cc3e",
   "metadata": {},
   "source": [
    "### Unit Checks"
   ]
  },
  {
   "cell_type": "code",
   "execution_count": 481,
   "id": "b7517c00-71d3-4d4f-be23-4dd92fc5baca",
   "metadata": {},
   "outputs": [
    {
     "name": "stdout",
     "output_type": "stream",
     "text": [
      "# neurons fr < 0.15: \t 43\n",
      "# neurons fr < 0.50: \t 188\n"
     ]
    }
   ],
   "source": [
    "# Firing rate threshold checks\n",
    "print('# neurons fr < 0.15: \\t', sum(all_results.firing_rate < 0.15))\n",
    "print('# neurons fr < 0.50: \\t', sum(all_results.firing_rate < 0.50))"
   ]
  },
  {
   "cell_type": "code",
   "execution_count": 482,
   "id": "cfd4eb39-40a0-4732-9c46-b1d87ca1fef0",
   "metadata": {},
   "outputs": [],
   "source": [
    "# # Plot the distribution of firing rates\n",
    "# plot_hist(all_results['firing_rate'].values)"
   ]
  },
  {
   "cell_type": "code",
   "execution_count": 483,
   "id": "cf8aff0f-bdce-4dc3-91da-302c0fd61bdb",
   "metadata": {},
   "outputs": [],
   "source": [
    "# Add a marker for firing rate threshold in the TH experiment\n",
    "all_results['keep_th'] = (all_results['firing_rate'] > 0.15).values"
   ]
  },
  {
   "cell_type": "code",
   "execution_count": 484,
   "id": "0fd48eed-5f63-4772-a315-b8e9178810bb",
   "metadata": {},
   "outputs": [],
   "source": [
    "#\n",
    "all_results = all_results[all_results['keep_th']]"
   ]
  },
  {
   "cell_type": "code",
   "execution_count": 485,
   "id": "8591f64f-bb4c-4733-a5f9-cef97cf9e976",
   "metadata": {},
   "outputs": [
    {
     "name": "stdout",
     "output_type": "stream",
     "text": [
      "# neurons:  565\n"
     ]
    }
   ],
   "source": [
    "# Check number of neurons\n",
    "n_units = len(all_results)\n",
    "print('# neurons: ', n_units)"
   ]
  },
  {
   "cell_type": "markdown",
   "id": "3e423866-1009-4799-b4c2-ea3350c8b953",
   "metadata": {},
   "source": [
    "### Location Checks"
   ]
  },
  {
   "cell_type": "code",
   "execution_count": 486,
   "id": "a12f7832-8094-4014-ab3c-60fe9278f4cb",
   "metadata": {},
   "outputs": [
    {
     "data": {
      "text/plain": [
       "{'LA', 'LAH', 'LPH', 'RA', 'RAH', 'RPH'}"
      ]
     },
     "execution_count": 486,
     "metadata": {},
     "output_type": "execute_result"
    }
   ],
   "source": [
    "# Check the set of sampled locations\n",
    "locations = set(all_results['location'])\n",
    "locations"
   ]
  },
  {
   "cell_type": "code",
   "execution_count": 487,
   "id": "35e6c348-5369-4136-ad96-11355ac5f1ee",
   "metadata": {},
   "outputs": [
    {
     "data": {
      "text/plain": [
       "LA     234\n",
       "LPH    116\n",
       "LAH     79\n",
       "RA      72\n",
       "RAH     34\n",
       "RPH     30\n",
       "Name: location, dtype: int64"
      ]
     },
     "execution_count": 487,
     "metadata": {},
     "output_type": "execute_result"
    }
   ],
   "source": [
    "# Check location counts\n",
    "all_results['location'].value_counts()"
   ]
  },
  {
   "cell_type": "code",
   "execution_count": 488,
   "id": "9cd107f0-1569-4f5e-a13c-cc191db4460b",
   "metadata": {},
   "outputs": [
    {
     "data": {
      "text/plain": [
       "<AxesSubplot:>"
      ]
     },
     "execution_count": 488,
     "metadata": {},
     "output_type": "execute_result"
    },
    {
     "data": {
      "image/png": "[encoded data removed]",
      "text/plain": [
       "<Figure size 640x480 with 1 Axes>"
      ]
     },
     "metadata": {},
     "output_type": "display_data"
    }
   ],
   "source": [
    "# Plot the counts per location\n",
    "all_results['location'].value_counts().plot(kind='bar')"
   ]
  },
  {
   "cell_type": "code",
   "execution_count": 489,
   "id": "9ec576df-4188-45bb-a99f-4c64d65c73be",
   "metadata": {},
   "outputs": [],
   "source": [
    "# Define location map\n",
    "locmap = {'LA' : 'AMY',\n",
    "          'RA' : 'AMY',\n",
    "          'LAH' : 'AH',\n",
    "          'RAH' : 'AH',\n",
    "          'LPH' : 'PH',\n",
    "          'RPH' : 'PH'}"
   ]
  },
  {
   "cell_type": "code",
   "execution_count": 490,
   "id": "acbcb438-37ab-4dc1-9749-64931edc7744",
   "metadata": {},
   "outputs": [],
   "source": [
    "# Set and collect which area each unit it is\n",
    "all_results['region'] = all_results['location'].map(locmap)"
   ]
  },
  {
   "cell_type": "code",
   "execution_count": 491,
   "id": "dacec96f-47ab-411b-b276-134cfda86663",
   "metadata": {},
   "outputs": [
    {
     "data": {
      "text/plain": [
       "AMY    306\n",
       "PH     146\n",
       "AH     113\n",
       "Name: region, dtype: int64"
      ]
     },
     "execution_count": 491,
     "metadata": {},
     "output_type": "execute_result"
    }
   ],
   "source": [
    "# Check area counts\n",
    "all_results['region'].value_counts()"
   ]
  },
  {
   "cell_type": "code",
   "execution_count": 492,
   "id": "3e8a717f-b7cb-45fd-8dee-4c3d13efe5f6",
   "metadata": {},
   "outputs": [
    {
     "data": {
      "text/plain": [
       "<AxesSubplot:>"
      ]
     },
     "execution_count": 492,
     "metadata": {},
     "output_type": "execute_result"
    },
    {
     "data": {
      "image/png": "[encoded data removed]",
      "text/plain": [
       "<Figure size 640x480 with 1 Axes>"
      ]
     },
     "metadata": {},
     "output_type": "display_data"
    }
   ],
   "source": [
    "# Plot the counts per area\n",
    "all_results['region'].value_counts().plot(kind='bar')"
   ]
  },
  {
   "cell_type": "code",
   "execution_count": 493,
   "id": "184b6d91-ddd9-49b6-8fc2-224f73138af8",
   "metadata": {},
   "outputs": [
    {
     "data": {
      "text/plain": [
       "{'AH', 'AMY', 'PH'}"
      ]
     },
     "execution_count": 493,
     "metadata": {},
     "output_type": "execute_result"
    }
   ],
   "source": [
    "# Check the set of sampled areas\n",
    "regions = set(all_results['region'])\n",
    "regions"
   ]
  },
  {
   "cell_type": "markdown",
   "id": "dcb9e8b4",
   "metadata": {},
   "source": [
    "### Binary labels"
   ]
  },
  {
   "cell_type": "code",
   "execution_count": 494,
   "id": "fa6acef8",
   "metadata": {},
   "outputs": [],
   "source": [
    "# Set significance level\n",
    "ALPHA_LEVEL = 0.05"
   ]
  },
  {
   "cell_type": "code",
   "execution_count": 495,
   "id": "82809db3",
   "metadata": {},
   "outputs": [],
   "source": [
    "# Add binary labels for statistical tests\n",
    "#all_results['is_allchest'] = all_results['fr_p_val_all'] < ALPHA_LEVEL\n",
    "all_results['is_chest'] = all_results['fr_p_val_full'] < ALPHA_LEVEL\n",
    "#all_results['is_emptychest'] = all_results['fr_p_val_empt'] < ALPHA_LEVEL\n",
    "all_results['is_place'] = all_results['place_anova_surr_p_val'] < ALPHA_LEVEL\n",
    "all_results['is_target'] = all_results['target_anova_surr_p_val'] < ALPHA_LEVEL\n",
    "all_results['is_serial'] = all_results['serial_anova_surr_p_val'] < ALPHA_LEVEL"
   ]
  },
  {
   "cell_type": "markdown",
   "id": "62b53e5b",
   "metadata": {},
   "source": [
    "### Check numbers"
   ]
  },
  {
   "cell_type": "code",
   "execution_count": 496,
   "id": "a47918ce",
   "metadata": {},
   "outputs": [],
   "source": [
    "# # Check the total number of cells\n",
    "# print('Total number of cells: {}'.format(n_files))"
   ]
  },
  {
   "cell_type": "markdown",
   "id": "acbab1b8",
   "metadata": {},
   "source": [
    "## Check Results"
   ]
  },
  {
   "cell_type": "code",
   "execution_count": 497,
   "id": "c9d253e3-3547-4d0d-84d1-d01d34162bfe",
   "metadata": {},
   "outputs": [],
   "source": [
    "# Get total number of units\n",
    "n_units = len(all_results)"
   ]
  },
  {
   "cell_type": "code",
   "execution_count": 498,
   "id": "7e1eed77-69cf-4032-8e98-4b3c1710b5e3",
   "metadata": {},
   "outputs": [],
   "source": [
    "# Collect numbers of significant cells\n",
    "results = {}\n",
    "for analysis in th_analyses:\n",
    "    results[analysis] = sum(all_results['is_' + analysis])"
   ]
  },
  {
   "cell_type": "code",
   "execution_count": 499,
   "id": "c7bb4864-c3d4-4653-a675-070d723ed66f",
   "metadata": {},
   "outputs": [
    {
     "name": "stderr",
     "output_type": "stream",
     "text": [
      "/home1/tom.donoghue/.conda/envs/thproj/lib/python3.8/site-packages/scipy/stats/_discrete_distns.py:67: RuntimeWarning: divide by zero encountered in _binom_pdf\n",
      "  return _boost._binom_pdf(x, n, p)\n"
     ]
    }
   ],
   "source": [
    "# Compute significance of the counts of detected neurons\n",
    "stats = {}\n",
    "for analysis in th_analyses:\n",
    "    stats[analysis] = binom_test(results[analysis], n_units, ALPHA_LEVEL)"
   ]
  },
  {
   "cell_type": "code",
   "execution_count": 500,
   "id": "dce5b4d7-a7a0-4fc5-bbf3-9d567d022fac",
   "metadata": {},
   "outputs": [
    {
     "name": "stdout",
     "output_type": "stream",
     "text": [
      "THO - total cells: 565\n",
      "\n",
      "# chest cells:     \t\t 61  (10.80%) \t\t 0.0000\n",
      "# place cells:     \t\t 28  ( 4.96%) \t\t 1.0000\n",
      "# target cells:     \t\t 40  ( 7.08%) \t\t 0.0328\n",
      "# serial cells:     \t\t 77  (13.63%) \t\t 0.0000\n"
     ]
    }
   ],
   "source": [
    "# Check the number & percent of significant cells per analysis\n",
    "print('{} - total cells: {}\\n'.format(experiment, n_units))\n",
    "for analysis in th_analyses:\n",
    "    print('# {} cells:     \\t\\t{:3d}  ({:5.2f}%) \\t\\t {:.4f}'.format(\\\n",
    "        analysis, results[analysis], results[analysis] / n_units * 100, stats[analysis]))"
   ]
  },
  {
   "cell_type": "markdown",
   "id": "1240acf7-a291-4681-8a63-74e8628d2026",
   "metadata": {},
   "source": [
    "## Save out results"
   ]
  },
  {
   "cell_type": "code",
   "execution_count": 501,
   "id": "bf1ce6ee-8d1b-4600-90cb-3e42cea53059",
   "metadata": {},
   "outputs": [],
   "source": [
    "# Save out of CSV\n",
    "#all_results.to_csv(experiment + '_all_results.csv')"
   ]
  },
  {
   "cell_type": "code",
   "execution_count": 502,
   "id": "2dbdfa17-0276-4c07-833c-989c7360a6cd",
   "metadata": {},
   "outputs": [],
   "source": [
    "# # TEMP - SAVE DF\n",
    "# all_results.to_csv(experiment + '_all_results_nov3.csv')"
   ]
  },
  {
   "cell_type": "markdown",
   "id": "8460d7c3-27ab-4066-993e-df58fca9505a",
   "metadata": {},
   "source": [
    "## Check Results by Subject / Session"
   ]
  },
  {
   "cell_type": "code",
   "execution_count": 503,
   "id": "2a9b9028-2689-4ad3-867c-34c9bd801666",
   "metadata": {},
   "outputs": [
    {
     "data": {
      "text/html": [
       "<div>\n",
       "<style scoped>\n",
       "    .dataframe tbody tr th:only-of-type {\n",
       "        vertical-align: middle;\n",
       "    }\n",
       "\n",
       "    .dataframe tbody tr th {\n",
       "        vertical-align: top;\n",
       "    }\n",
       "\n",
       "    .dataframe thead th {\n",
       "        text-align: right;\n",
       "    }\n",
       "</style>\n",
       "<table border=\"1\" class=\"dataframe\">\n",
       "  <thead>\n",
       "    <tr style=\"text-align: right;\">\n",
       "      <th></th>\n",
       "      <th>is_chest</th>\n",
       "      <th>is_place</th>\n",
       "      <th>is_serial</th>\n",
       "      <th>is_target</th>\n",
       "    </tr>\n",
       "    <tr>\n",
       "      <th>subject_id</th>\n",
       "      <th></th>\n",
       "      <th></th>\n",
       "      <th></th>\n",
       "      <th></th>\n",
       "    </tr>\n",
       "  </thead>\n",
       "  <tbody>\n",
       "    <tr>\n",
       "      <th>wv001</th>\n",
       "      <td>14</td>\n",
       "      <td>8</td>\n",
       "      <td>19</td>\n",
       "      <td>8</td>\n",
       "    </tr>\n",
       "    <tr>\n",
       "      <th>wv002</th>\n",
       "      <td>6</td>\n",
       "      <td>2</td>\n",
       "      <td>12</td>\n",
       "      <td>10</td>\n",
       "    </tr>\n",
       "    <tr>\n",
       "      <th>wv003</th>\n",
       "      <td>4</td>\n",
       "      <td>1</td>\n",
       "      <td>3</td>\n",
       "      <td>2</td>\n",
       "    </tr>\n",
       "    <tr>\n",
       "      <th>wv004</th>\n",
       "      <td>36</td>\n",
       "      <td>16</td>\n",
       "      <td>38</td>\n",
       "      <td>18</td>\n",
       "    </tr>\n",
       "    <tr>\n",
       "      <th>wv005</th>\n",
       "      <td>1</td>\n",
       "      <td>1</td>\n",
       "      <td>5</td>\n",
       "      <td>2</td>\n",
       "    </tr>\n",
       "  </tbody>\n",
       "</table>\n",
       "</div>"
      ],
      "text/plain": [
       "            is_chest  is_place  is_serial  is_target\n",
       "subject_id                                          \n",
       "wv001             14         8         19          8\n",
       "wv002              6         2         12         10\n",
       "wv003              4         1          3          2\n",
       "wv004             36        16         38         18\n",
       "wv005              1         1          5          2"
      ]
     },
     "execution_count": 503,
     "metadata": {},
     "output_type": "execute_result"
    }
   ],
   "source": [
    "# Check the number of detected cells per subject\n",
    "pd.pivot_table(all_results, th_analysis_columns, index='subject_id', aggfunc=np.sum)"
   ]
  },
  {
   "cell_type": "code",
   "execution_count": 504,
   "id": "cbcdd04a-3810-4a5c-b96e-209cc4afc7f7",
   "metadata": {},
   "outputs": [
    {
     "data": {
      "text/html": [
       "<div>\n",
       "<style scoped>\n",
       "    .dataframe tbody tr th:only-of-type {\n",
       "        vertical-align: middle;\n",
       "    }\n",
       "\n",
       "    .dataframe tbody tr th {\n",
       "        vertical-align: top;\n",
       "    }\n",
       "\n",
       "    .dataframe thead th {\n",
       "        text-align: right;\n",
       "    }\n",
       "</style>\n",
       "<table border=\"1\" class=\"dataframe\">\n",
       "  <thead>\n",
       "    <tr style=\"text-align: right;\">\n",
       "      <th></th>\n",
       "      <th></th>\n",
       "      <th>is_chest</th>\n",
       "      <th>is_place</th>\n",
       "      <th>is_serial</th>\n",
       "      <th>is_target</th>\n",
       "    </tr>\n",
       "    <tr>\n",
       "      <th>subject_id</th>\n",
       "      <th>session_id</th>\n",
       "      <th></th>\n",
       "      <th></th>\n",
       "      <th></th>\n",
       "      <th></th>\n",
       "    </tr>\n",
       "  </thead>\n",
       "  <tbody>\n",
       "    <tr>\n",
       "      <th rowspan=\"2\" valign=\"top\">wv001</th>\n",
       "      <th>THO_wv001_session_0</th>\n",
       "      <td>5</td>\n",
       "      <td>1</td>\n",
       "      <td>7</td>\n",
       "      <td>2</td>\n",
       "    </tr>\n",
       "    <tr>\n",
       "      <th>THO_wv001_session_2</th>\n",
       "      <td>9</td>\n",
       "      <td>7</td>\n",
       "      <td>12</td>\n",
       "      <td>6</td>\n",
       "    </tr>\n",
       "    <tr>\n",
       "      <th rowspan=\"3\" valign=\"top\">wv002</th>\n",
       "      <th>THO_wv002_session_0</th>\n",
       "      <td>1</td>\n",
       "      <td>0</td>\n",
       "      <td>1</td>\n",
       "      <td>1</td>\n",
       "    </tr>\n",
       "    <tr>\n",
       "      <th>THO_wv002_session_1</th>\n",
       "      <td>4</td>\n",
       "      <td>1</td>\n",
       "      <td>10</td>\n",
       "      <td>4</td>\n",
       "    </tr>\n",
       "    <tr>\n",
       "      <th>THO_wv002_session_2</th>\n",
       "      <td>1</td>\n",
       "      <td>1</td>\n",
       "      <td>1</td>\n",
       "      <td>5</td>\n",
       "    </tr>\n",
       "    <tr>\n",
       "      <th rowspan=\"2\" valign=\"top\">wv003</th>\n",
       "      <th>THO_wv003_session_0</th>\n",
       "      <td>1</td>\n",
       "      <td>0</td>\n",
       "      <td>0</td>\n",
       "      <td>2</td>\n",
       "    </tr>\n",
       "    <tr>\n",
       "      <th>THO_wv003_session_1</th>\n",
       "      <td>3</td>\n",
       "      <td>1</td>\n",
       "      <td>3</td>\n",
       "      <td>0</td>\n",
       "    </tr>\n",
       "    <tr>\n",
       "      <th rowspan=\"4\" valign=\"top\">wv004</th>\n",
       "      <th>THO_wv004_session_0</th>\n",
       "      <td>18</td>\n",
       "      <td>5</td>\n",
       "      <td>19</td>\n",
       "      <td>5</td>\n",
       "    </tr>\n",
       "    <tr>\n",
       "      <th>THO_wv004_session_1</th>\n",
       "      <td>6</td>\n",
       "      <td>4</td>\n",
       "      <td>5</td>\n",
       "      <td>7</td>\n",
       "    </tr>\n",
       "    <tr>\n",
       "      <th>THO_wv004_session_2</th>\n",
       "      <td>5</td>\n",
       "      <td>4</td>\n",
       "      <td>3</td>\n",
       "      <td>1</td>\n",
       "    </tr>\n",
       "    <tr>\n",
       "      <th>THO_wv004_session_3</th>\n",
       "      <td>7</td>\n",
       "      <td>3</td>\n",
       "      <td>11</td>\n",
       "      <td>5</td>\n",
       "    </tr>\n",
       "    <tr>\n",
       "      <th>wv005</th>\n",
       "      <th>THO_wv005_session_0</th>\n",
       "      <td>1</td>\n",
       "      <td>1</td>\n",
       "      <td>5</td>\n",
       "      <td>2</td>\n",
       "    </tr>\n",
       "  </tbody>\n",
       "</table>\n",
       "</div>"
      ],
      "text/plain": [
       "                                is_chest  is_place  is_serial  is_target\n",
       "subject_id session_id                                                   \n",
       "wv001      THO_wv001_session_0         5         1          7          2\n",
       "           THO_wv001_session_2         9         7         12          6\n",
       "wv002      THO_wv002_session_0         1         0          1          1\n",
       "           THO_wv002_session_1         4         1         10          4\n",
       "           THO_wv002_session_2         1         1          1          5\n",
       "wv003      THO_wv003_session_0         1         0          0          2\n",
       "           THO_wv003_session_1         3         1          3          0\n",
       "wv004      THO_wv004_session_0        18         5         19          5\n",
       "           THO_wv004_session_1         6         4          5          7\n",
       "           THO_wv004_session_2         5         4          3          1\n",
       "           THO_wv004_session_3         7         3         11          5\n",
       "wv005      THO_wv005_session_0         1         1          5          2"
      ]
     },
     "execution_count": 504,
     "metadata": {},
     "output_type": "execute_result"
    }
   ],
   "source": [
    "# Check the number of detected cells per session\n",
    "pd.pivot_table(all_results, th_analysis_columns, index=['subject_id', 'session_id'], aggfunc=np.sum)"
   ]
  },
  {
   "cell_type": "markdown",
   "id": "e8897842-ec5d-434d-b643-313fcae9bddc",
   "metadata": {},
   "source": [
    "## Check Correlations"
   ]
  },
  {
   "cell_type": "code",
   "execution_count": 505,
   "id": "0790939d-2892-43e1-8bc7-e669dd46422c",
   "metadata": {},
   "outputs": [
    {
     "data": {
      "text/html": [
       "<div>\n",
       "<style scoped>\n",
       "    .dataframe tbody tr th:only-of-type {\n",
       "        vertical-align: middle;\n",
       "    }\n",
       "\n",
       "    .dataframe tbody tr th {\n",
       "        vertical-align: top;\n",
       "    }\n",
       "\n",
       "    .dataframe thead th {\n",
       "        text-align: right;\n",
       "    }\n",
       "</style>\n",
       "<table border=\"1\" class=\"dataframe\">\n",
       "  <thead>\n",
       "    <tr style=\"text-align: right;\">\n",
       "      <th></th>\n",
       "      <th>fr_t_val_full</th>\n",
       "      <th>fr_t_val_all</th>\n",
       "      <th>fr_t_val_empt</th>\n",
       "      <th>target_anova</th>\n",
       "      <th>serial_anova</th>\n",
       "      <th>firing_rate</th>\n",
       "    </tr>\n",
       "  </thead>\n",
       "  <tbody>\n",
       "    <tr>\n",
       "      <th>fr_t_val_full</th>\n",
       "      <td>1.000000</td>\n",
       "      <td>0.872368</td>\n",
       "      <td>0.191501</td>\n",
       "      <td>-0.014463</td>\n",
       "      <td>-0.067919</td>\n",
       "      <td>0.070443</td>\n",
       "    </tr>\n",
       "    <tr>\n",
       "      <th>fr_t_val_all</th>\n",
       "      <td>0.872368</td>\n",
       "      <td>1.000000</td>\n",
       "      <td>0.639775</td>\n",
       "      <td>0.002627</td>\n",
       "      <td>-0.064521</td>\n",
       "      <td>0.079217</td>\n",
       "    </tr>\n",
       "    <tr>\n",
       "      <th>fr_t_val_empt</th>\n",
       "      <td>0.191501</td>\n",
       "      <td>0.639775</td>\n",
       "      <td>1.000000</td>\n",
       "      <td>0.025653</td>\n",
       "      <td>-0.019955</td>\n",
       "      <td>0.045008</td>\n",
       "    </tr>\n",
       "    <tr>\n",
       "      <th>target_anova</th>\n",
       "      <td>-0.014463</td>\n",
       "      <td>0.002627</td>\n",
       "      <td>0.025653</td>\n",
       "      <td>1.000000</td>\n",
       "      <td>0.068938</td>\n",
       "      <td>0.015823</td>\n",
       "    </tr>\n",
       "    <tr>\n",
       "      <th>serial_anova</th>\n",
       "      <td>-0.067919</td>\n",
       "      <td>-0.064521</td>\n",
       "      <td>-0.019955</td>\n",
       "      <td>0.068938</td>\n",
       "      <td>1.000000</td>\n",
       "      <td>0.115191</td>\n",
       "    </tr>\n",
       "    <tr>\n",
       "      <th>firing_rate</th>\n",
       "      <td>0.070443</td>\n",
       "      <td>0.079217</td>\n",
       "      <td>0.045008</td>\n",
       "      <td>0.015823</td>\n",
       "      <td>0.115191</td>\n",
       "      <td>1.000000</td>\n",
       "    </tr>\n",
       "  </tbody>\n",
       "</table>\n",
       "</div>"
      ],
      "text/plain": [
       "               fr_t_val_full  fr_t_val_all  fr_t_val_empt  target_anova  \\\n",
       "fr_t_val_full       1.000000      0.872368       0.191501     -0.014463   \n",
       "fr_t_val_all        0.872368      1.000000       0.639775      0.002627   \n",
       "fr_t_val_empt       0.191501      0.639775       1.000000      0.025653   \n",
       "target_anova       -0.014463      0.002627       0.025653      1.000000   \n",
       "serial_anova       -0.067919     -0.064521      -0.019955      0.068938   \n",
       "firing_rate         0.070443      0.079217       0.045008      0.015823   \n",
       "\n",
       "               serial_anova  firing_rate  \n",
       "fr_t_val_full     -0.067919     0.070443  \n",
       "fr_t_val_all      -0.064521     0.079217  \n",
       "fr_t_val_empt     -0.019955     0.045008  \n",
       "target_anova       0.068938     0.015823  \n",
       "serial_anova       1.000000     0.115191  \n",
       "firing_rate        0.115191     1.000000  "
      ]
     },
     "execution_count": 505,
     "metadata": {},
     "output_type": "execute_result"
    }
   ],
   "source": [
    "# Check correlation within / between real data measures and firing rate\n",
    "cols = ['fr_t_val_full', 'fr_t_val_all', 'fr_t_val_empt',\n",
    "        'target_anova', 'serial_anova', 'firing_rate']\n",
    "extracted = all_results[cols]\n",
    "extracted.corr()"
   ]
  },
  {
   "cell_type": "code",
   "execution_count": 506,
   "id": "a5a9af31-4ec2-40dd-abf3-dd7a72648a37",
   "metadata": {},
   "outputs": [
    {
     "data": {
      "text/html": [
       "<div>\n",
       "<style scoped>\n",
       "    .dataframe tbody tr th:only-of-type {\n",
       "        vertical-align: middle;\n",
       "    }\n",
       "\n",
       "    .dataframe tbody tr th {\n",
       "        vertical-align: top;\n",
       "    }\n",
       "\n",
       "    .dataframe thead th {\n",
       "        text-align: right;\n",
       "    }\n",
       "</style>\n",
       "<table border=\"1\" class=\"dataframe\">\n",
       "  <thead>\n",
       "    <tr style=\"text-align: right;\">\n",
       "      <th></th>\n",
       "      <th>target_anova_surr_z_score</th>\n",
       "      <th>target_anova_surr_p_val</th>\n",
       "      <th>serial_anova_surr_z_score</th>\n",
       "      <th>serial_anova_surr_p_val</th>\n",
       "      <th>firing_rate</th>\n",
       "    </tr>\n",
       "  </thead>\n",
       "  <tbody>\n",
       "    <tr>\n",
       "      <th>target_anova_surr_z_score</th>\n",
       "      <td>1.000000</td>\n",
       "      <td>-0.928980</td>\n",
       "      <td>0.038215</td>\n",
       "      <td>-0.028085</td>\n",
       "      <td>0.038422</td>\n",
       "    </tr>\n",
       "    <tr>\n",
       "      <th>target_anova_surr_p_val</th>\n",
       "      <td>-0.928980</td>\n",
       "      <td>1.000000</td>\n",
       "      <td>-0.059818</td>\n",
       "      <td>0.039731</td>\n",
       "      <td>-0.007232</td>\n",
       "    </tr>\n",
       "    <tr>\n",
       "      <th>serial_anova_surr_z_score</th>\n",
       "      <td>0.038215</td>\n",
       "      <td>-0.059818</td>\n",
       "      <td>1.000000</td>\n",
       "      <td>-0.810542</td>\n",
       "      <td>0.131348</td>\n",
       "    </tr>\n",
       "    <tr>\n",
       "      <th>serial_anova_surr_p_val</th>\n",
       "      <td>-0.028085</td>\n",
       "      <td>0.039731</td>\n",
       "      <td>-0.810542</td>\n",
       "      <td>1.000000</td>\n",
       "      <td>-0.147876</td>\n",
       "    </tr>\n",
       "    <tr>\n",
       "      <th>firing_rate</th>\n",
       "      <td>0.038422</td>\n",
       "      <td>-0.007232</td>\n",
       "      <td>0.131348</td>\n",
       "      <td>-0.147876</td>\n",
       "      <td>1.000000</td>\n",
       "    </tr>\n",
       "  </tbody>\n",
       "</table>\n",
       "</div>"
      ],
      "text/plain": [
       "                           target_anova_surr_z_score  target_anova_surr_p_val  \\\n",
       "target_anova_surr_z_score                   1.000000                -0.928980   \n",
       "target_anova_surr_p_val                    -0.928980                 1.000000   \n",
       "serial_anova_surr_z_score                   0.038215                -0.059818   \n",
       "serial_anova_surr_p_val                    -0.028085                 0.039731   \n",
       "firing_rate                                 0.038422                -0.007232   \n",
       "\n",
       "                           serial_anova_surr_z_score  serial_anova_surr_p_val  \\\n",
       "target_anova_surr_z_score                   0.038215                -0.028085   \n",
       "target_anova_surr_p_val                    -0.059818                 0.039731   \n",
       "serial_anova_surr_z_score                   1.000000                -0.810542   \n",
       "serial_anova_surr_p_val                    -0.810542                 1.000000   \n",
       "firing_rate                                 0.131348                -0.147876   \n",
       "\n",
       "                           firing_rate  \n",
       "target_anova_surr_z_score     0.038422  \n",
       "target_anova_surr_p_val      -0.007232  \n",
       "serial_anova_surr_z_score     0.131348  \n",
       "serial_anova_surr_p_val      -0.147876  \n",
       "firing_rate                   1.000000  "
      ]
     },
     "execution_count": 506,
     "metadata": {},
     "output_type": "execute_result"
    }
   ],
   "source": [
    "# Check correlation within / between surrogate data measures and firing rate\n",
    "cols = ['target_anova_surr_z_score', 'target_anova_surr_p_val',\n",
    "        'serial_anova_surr_z_score', 'serial_anova_surr_p_val', \n",
    "        'firing_rate']\n",
    "extracted = all_results[cols]\n",
    "extracted.corr()"
   ]
  },
  {
   "cell_type": "markdown",
   "id": "94658f99-7a9a-42ea-a4cb-d316565845df",
   "metadata": {},
   "source": [
    "## Results by Area\n",
    "\n",
    "Analyze the results split up by area\n",
    "\n",
    "Anatomical organization:\n",
    "- 'region': a brain region, collapsing across left & right\n",
    "- 'location': a specific location, split up by left & right"
   ]
  },
  {
   "cell_type": "code",
   "execution_count": 507,
   "id": "1f9f8707-efb4-4334-b9c9-e106215de305",
   "metadata": {},
   "outputs": [],
   "source": [
    "# Collect different area organizations together\n",
    "places = {'region' : regions,\n",
    "          'location' : locations}"
   ]
  },
  {
   "cell_type": "code",
   "execution_count": 508,
   "id": "0545854e-72d0-425c-8f11-1876bd68abb1",
   "metadata": {},
   "outputs": [],
   "source": [
    "# Define which area organization to use\n",
    "place = 'region'"
   ]
  },
  {
   "cell_type": "code",
   "execution_count": 509,
   "id": "cf6c9978-3484-44e3-8291-4387cc3bf2b9",
   "metadata": {},
   "outputs": [
    {
     "data": {
      "image/png": "[encoded data removed]",
      "text/plain": [
       "<Figure size 1800x1000 with 6 Axes>"
      ]
     },
     "metadata": {},
     "output_type": "display_data"
    }
   ],
   "source": [
    "axes = make_axes(len(th_analyses), 3, hspace=0.35, figsize=(18, 10))\n",
    "for analysis, ax in zip(th_analyses, axes):\n",
    "\n",
    "    out = {}\n",
    "    out['all'] = results[analysis] / n_units\n",
    "\n",
    "    for value in places[place]:\n",
    "        temp = all_results[all_results[place] == value]\n",
    "        out[value] = sum(temp['is_' + analysis]) / len(temp)\n",
    "\n",
    "    plot_bar(out.values(), out.keys(), title=analysis, ylim=[0, 0.30], ax=ax)\n",
    "    add_hlines(0.05, linestyle='--', color='black', ax=ax)"
   ]
  },
  {
   "cell_type": "markdown",
   "id": "4245d408-a3cd-4bba-96f3-0b765c8fa41c",
   "metadata": {},
   "source": [
    "## Within Task Overlap\n",
    "\n",
    "Compute the overlap of labels within TH task"
   ]
  },
  {
   "cell_type": "code",
   "execution_count": 510,
   "id": "ee2434f0-e33b-49a2-9b7d-5edbb72b2f96",
   "metadata": {},
   "outputs": [],
   "source": [
    "# Compute overlap between labels within TH task\n",
    "over = np.zeros([len(th_analysis_columns), len(th_analysis_columns)])\n",
    "for i1, acol1 in enumerate(th_analysis_columns):\n",
    "    a1res = set(all_results[all_results[acol1]].wvID.values)\n",
    "    \n",
    "    for i2, acol2 in enumerate(th_analysis_columns):\n",
    "        a2res = set(all_results[all_results[acol2]].wvID.values)\n",
    "        \n",
    "        over[i1, i2] = len(a1res.intersection(a2res)) / len(a1res)"
   ]
  },
  {
   "cell_type": "code",
   "execution_count": 511,
   "id": "40b1c360-c1c5-4260-ae86-bf4e64255952",
   "metadata": {},
   "outputs": [
    {
     "data": {
      "image/png": "[encoded data removed]",
      "text/plain": [
       "<Figure size 640x480 with 2 Axes>"
      ]
     },
     "metadata": {},
     "output_type": "display_data"
    }
   ],
   "source": [
    "# Plot the overlap between TH labels\n",
    "ax = sns.heatmap(over, xticklabels=th_analyses, yticklabels=th_analyses)\n",
    "ax.invert_yaxis()"
   ]
  },
  {
   "cell_type": "markdown",
   "id": "b8b281bb-a37b-4f5e-b4c8-57905ed2d79c",
   "metadata": {},
   "source": [
    "## Distributions"
   ]
  },
  {
   "cell_type": "code",
   "execution_count": 512,
   "id": "a50ddaee-ca71-4673-80cb-f08ae707a9ac",
   "metadata": {},
   "outputs": [],
   "source": [
    "# Plot settings\n",
    "bins = 35"
   ]
  },
  {
   "cell_type": "markdown",
   "id": "293b387d-d30f-43b8-bb98-76a28491d38d",
   "metadata": {},
   "source": [
    "### Chest Measures"
   ]
  },
  {
   "cell_type": "code",
   "execution_count": 513,
   "id": "4ad3fc56-2d3b-46ca-8015-973365c8ea6f",
   "metadata": {},
   "outputs": [
    {
     "data": {
      "image/png": "[encoded data removed]",
      "text/plain": [
       "<Figure size 1500x400 with 3 Axes>"
      ]
     },
     "metadata": {},
     "output_type": "display_data"
    }
   ],
   "source": [
    "# Plot t-values of the chest measures\n",
    "axes = make_axes(3, 3, figsize=(15, 4))\n",
    "plot_hist(all_results.fr_t_val_all.values, title='Chests (all) - t values', bins=bins, ax=axes[0])\n",
    "plot_hist(all_results.fr_t_val_full.values, title='Chests (full) - t values', bins=bins, ax=axes[1])\n",
    "plot_hist(all_results.fr_t_val_empt.values, title='Chests (empty) - t values', bins=bins, ax=axes[2])"
   ]
  },
  {
   "cell_type": "code",
   "execution_count": 514,
   "id": "e9393a84-16ec-408d-8427-82528249fe17",
   "metadata": {},
   "outputs": [
    {
     "data": {
      "image/png": "[encoded data removed]",
      "text/plain": [
       "<Figure size 1500x400 with 3 Axes>"
      ]
     },
     "metadata": {},
     "output_type": "display_data"
    }
   ],
   "source": [
    "# Plot p-values of the chest measures\n",
    "axes = make_axes(3, 3, figsize=(15, 4))\n",
    "plot_hist(all_results.fr_p_val_all.values, title='Chests (all) - p values', bins=bins, ax=axes[0])\n",
    "plot_hist(all_results.fr_p_val_full.values, title='Chests (full) - p values', bins=bins, ax=axes[1])\n",
    "plot_hist(all_results.fr_p_val_empt.values, title='Chests (empty) - p values', bins=bins, ax=axes[2])"
   ]
  },
  {
   "cell_type": "markdown",
   "id": "915fbc4b-ba22-4758-8991-61559dace9cb",
   "metadata": {},
   "source": [
    "### Position & Sequence Measures"
   ]
  },
  {
   "cell_type": "code",
   "execution_count": 515,
   "id": "2083a365",
   "metadata": {},
   "outputs": [
    {
     "data": {
      "image/png": "[encoded data removed]",
      "text/plain": [
       "<Figure size 1500x400 with 3 Axes>"
      ]
     },
     "metadata": {},
     "output_type": "display_data"
    }
   ],
   "source": [
    "# Plot measure values of the position & sequence measures\n",
    "axes = make_axes(3, 3, figsize=(15, 4), hspace=0.35)\n",
    "plot_hist(all_results.place_anova.values, title='Place - anova', bins=bins, ax=axes[0])\n",
    "plot_hist(all_results.target_anova.values, title='Target - anova', bins=bins, ax=axes[1])\n",
    "plot_hist(all_results.serial_anova.values, title='Serial Position - anova', bins=bins, ax=axes[2])"
   ]
  },
  {
   "cell_type": "code",
   "execution_count": 516,
   "id": "2b9d0bc6-7a2d-4bba-ba88-27d31accbf9e",
   "metadata": {},
   "outputs": [
    {
     "data": {
      "image/png": "[encoded data removed]",
      "text/plain": [
       "<Figure size 1500x400 with 3 Axes>"
      ]
     },
     "metadata": {},
     "output_type": "display_data"
    }
   ],
   "source": [
    "# Plot surrogate z-scores of the position & sequence measures\n",
    "axes = make_axes(3, 3, figsize=(15, 4), hspace=0.35)\n",
    "plot_hist(all_results.place_anova_surr_z_score.values, title='Place - anova z score', ax=axes[0])\n",
    "plot_hist(all_results.target_anova_surr_z_score.values, title='Target - anova z score', ax=axes[1])\n",
    "plot_hist(all_results.serial_anova_surr_z_score.values, title='Serial Position - anova z score', ax=axes[2])"
   ]
  },
  {
   "cell_type": "code",
   "execution_count": 517,
   "id": "5f88d74f-69d0-47cd-84e6-e9c362d6a9da",
   "metadata": {},
   "outputs": [],
   "source": [
    "#bins=50"
   ]
  },
  {
   "cell_type": "code",
   "execution_count": 518,
   "id": "c359d31c-7715-45fb-a9c8-852b54645c9c",
   "metadata": {},
   "outputs": [
    {
     "data": {
      "image/png": "[encoded data removed]",
      "text/plain": [
       "<Figure size 1500x400 with 3 Axes>"
      ]
     },
     "metadata": {},
     "output_type": "display_data"
    }
   ],
   "source": [
    "# Plot p values of the position & sequence measures\n",
    "axes = make_axes(3, 3, figsize=(15, 4), hspace=0.35)\n",
    "plot_hist(all_results.place_anova_surr_p_val.values, title='Place - anova p values', bins=bins, ax=axes[0])\n",
    "plot_hist(all_results.target_anova_surr_p_val.values, title='Target - anova p values', bins=bins, ax=axes[1])\n",
    "plot_hist(all_results.serial_anova_surr_p_val.values, title='Serial Position - anova p values', bins=bins, ax=axes[2])"
   ]
  },
  {
   "cell_type": "markdown",
   "id": "2f595b27-6c3e-4d66-86d3-36dd9b22529d",
   "metadata": {},
   "source": [
    "## Task Overlap Analysis"
   ]
  },
  {
   "cell_type": "code",
   "execution_count": 519,
   "id": "4c0e3862-e4e4-4f9c-9adb-140036c5ee80",
   "metadata": {},
   "outputs": [],
   "source": [
    "# Define base project path\n",
    "project_path = '/data12/jacobs_lab/WVTH/'"
   ]
  },
  {
   "cell_type": "code",
   "execution_count": 520,
   "id": "cdebff81-b4c7-44b5-ab9b-70a5d514811b",
   "metadata": {},
   "outputs": [],
   "source": [
    "# Create paths object\n",
    "paths = Paths(project_path)"
   ]
  },
  {
   "cell_type": "markdown",
   "id": "c2ad063a-9ae0-4d6e-88d7-45bbb9f99240",
   "metadata": {},
   "source": [
    "### Identity Neuron\n",
    "\n",
    "Identity neuron fields:\n",
    "- ID_neuron: identity neuron\n",
    "- MI_neuron: multiple identity neuron\n",
    "- SI_neuron: single identity neuron"
   ]
  },
  {
   "cell_type": "code",
   "execution_count": 521,
   "id": "0a618546-42e8-4a11-859a-14f6284b1924",
   "metadata": {},
   "outputs": [],
   "source": [
    "# Define the file path for the relevant nback results file\n",
    "if experiment == 'THF':\n",
    "    id_file_name = 'ID neuron CelebA_NavSelect MeanResponse 2SD.mat'\n",
    "if experiment == 'THO':\n",
    "    id_file_name = 'ID neuron ImageNet_NavSelect MeanResponse 2SD.mat'"
   ]
  },
  {
   "cell_type": "code",
   "execution_count": 522,
   "id": "7adbe1d1-3d1a-4a3e-836a-bc1de52d3654",
   "metadata": {},
   "outputs": [],
   "source": [
    "# Load nback results data\n",
    "nback_data = load_matfile(id_file_name, folder=paths.info / 'nback', squeeze_me=True)"
   ]
  },
  {
   "cell_type": "code",
   "execution_count": 523,
   "id": "fa63a061-9263-4940-bbe7-a21377b1bd43",
   "metadata": {},
   "outputs": [
    {
     "data": {
      "text/plain": [
       "['CodeID', 'CodeIDNum', 'ID_neuron', 'MI_neuron', 'SI_neuron', 'selMethod']"
      ]
     },
     "execution_count": 523,
     "metadata": {},
     "output_type": "execute_result"
    }
   ],
   "source": [
    "# Check the available keys in the loaded nback data\n",
    "keys = [key for key in nback_data.keys() if key[0] != '_']\n",
    "keys"
   ]
  },
  {
   "cell_type": "markdown",
   "id": "52754515-2479-460d-a19d-f8a26c557f94",
   "metadata": {},
   "source": [
    "### Baseline firing"
   ]
  },
  {
   "cell_type": "code",
   "execution_count": 524,
   "id": "cf9d9ff1-ec09-4488-8a2b-4cb9c92dfa37",
   "metadata": {},
   "outputs": [],
   "source": [
    "# Define the file path for the relevant nback results file\n",
    "if experiment == 'THF':\n",
    "    file_name = 'SortedFRCelebA_Nav.mat'\n",
    "if experiment == 'THO':\n",
    "    file_name = 'SortedFRImageNet_Nav.mat'"
   ]
  },
  {
   "cell_type": "code",
   "execution_count": 525,
   "id": "a6006f70-3816-477e-aa4d-af8fdacfe372",
   "metadata": {},
   "outputs": [],
   "source": [
    "# Load the data file\n",
    "fr_data = load_matfile(file_name, folder=paths.info / 'nback', squeeze_me=True)"
   ]
  },
  {
   "cell_type": "code",
   "execution_count": 526,
   "id": "35f9a88d-9a72-43b2-b05d-1b3421223182",
   "metadata": {},
   "outputs": [
    {
     "name": "stdout",
     "output_type": "stream",
     "text": [
      "['FR', 'FR_sort', 'areaCell', 'beh', 'binStep', 'binW', 'pAnova', 'pBase', 'periodsAll', 'sessions', 'timestampsOfCellAll', 'vAnova', 'vBase', 'vCell', 'vCh', 'vClusterID', 'vImg', 'vKeep', 'vReject', 'vWire']\n"
     ]
    }
   ],
   "source": [
    "# Check the available keys in the metadata file\n",
    "print([el for el in fr_data.keys() if el[0] != '_'])"
   ]
  },
  {
   "cell_type": "code",
   "execution_count": 527,
   "id": "8ee80d40-2165-404d-9e6a-cf567b5f96ef",
   "metadata": {},
   "outputs": [],
   "source": [
    "# Add the baseline response firing analysis to collection of analyses\n",
    "nback_data['vBase'] = fr_data['vBase']"
   ]
  },
  {
   "cell_type": "markdown",
   "id": "d9767c02-bb58-4a41-973a-769261968f6a",
   "metadata": {},
   "source": [
    "#### Overlap Within nBack"
   ]
  },
  {
   "cell_type": "code",
   "execution_count": 528,
   "id": "7bd78438-859b-410e-9b66-7c57abc2b47e",
   "metadata": {},
   "outputs": [],
   "source": [
    "# Define list of nback analyses\n",
    "nback_analyses = ['ID_neuron', 'MI_neuron', 'SI_neuron', 'vBase']"
   ]
  },
  {
   "cell_type": "code",
   "execution_count": 529,
   "id": "a4b23d43-691f-41bd-acf8-f05fadccf05d",
   "metadata": {},
   "outputs": [],
   "source": [
    "# Compute overlap between labels within nBack task\n",
    "over = np.zeros([len(nback_analyses), len(nback_analyses)])\n",
    "for i1, acol1 in enumerate(nback_analyses):\n",
    "    a1res = set(nback_data[acol1])\n",
    "    \n",
    "    for i2, acol2 in enumerate(nback_analyses):\n",
    "        a2res = set(nback_data[acol2])\n",
    "        \n",
    "        over[i1, i2] = len(a1res.intersection(a2res)) / len(a1res)"
   ]
  },
  {
   "cell_type": "code",
   "execution_count": 530,
   "id": "61d9e01b-adbe-4ea7-831c-7e1fa30c96d0",
   "metadata": {},
   "outputs": [
    {
     "data": {
      "image/png": "[encoded data removed]",
      "text/plain": [
       "<Figure size 640x480 with 2 Axes>"
      ]
     },
     "metadata": {},
     "output_type": "display_data"
    }
   ],
   "source": [
    "# Plot the overlap between nBack labels\n",
    "ax = sns.heatmap(over, xticklabels=nback_analyses, yticklabels=nback_analyses)\n",
    "ax.invert_yaxis()"
   ]
  },
  {
   "cell_type": "markdown",
   "id": "9160cef9-0dc6-489d-8f03-73f1fa992bd3",
   "metadata": {},
   "source": [
    "# Compute Between Task Overlap"
   ]
  },
  {
   "cell_type": "code",
   "execution_count": 531,
   "id": "25aba3bf-212f-4c3d-9981-8c0cf77c06db",
   "metadata": {},
   "outputs": [],
   "source": [
    "# Set which nBack analysis to compare to\n",
    "nb_analysis = 'base'  # 'base', 'ID'"
   ]
  },
  {
   "cell_type": "code",
   "execution_count": 532,
   "id": "a7b99f84-505a-4807-a1a2-01baef8e2122",
   "metadata": {},
   "outputs": [],
   "source": [
    "if nb_analysis == 'ID':\n",
    "    nb_data = nback_data['ID_neuron']\n",
    "    #nb_data = nback_data['SI_neuron']\n",
    "if nb_analysis == 'base':\n",
    "    nb_data = nback_data['vBase']"
   ]
  },
  {
   "cell_type": "code",
   "execution_count": 533,
   "id": "96570326-961b-4d0f-90a1-d9e171bba7e4",
   "metadata": {},
   "outputs": [
    {
     "name": "stdout",
     "output_type": "stream",
     "text": [
      "THO  -  base \n",
      "\n",
      "\t #NB \t #TH \t #Over \t %Over \t\t pval \t\texp\n",
      "chest \t 72 \t 61 \t 15 \t 20.83% \t 0.0033 \t  8\n",
      "place \t 72 \t 28 \t 7 \t  9.72% \t 0.0460 \t  4\n",
      "target \t 72 \t 40 \t 7 \t  9.72% \t 0.3493 \t  5\n",
      "serial \t 72 \t 77 \t 17 \t 23.61% \t 0.0082 \t 10\n"
     ]
    }
   ],
   "source": [
    "print(experiment, ' - ', nb_analysis, '\\n')\n",
    "print('\\t {} \\t {} \\t {} \\t {} \\t\\t {} \\t\\t{}'.format('#NB', '#TH', '#Over', '%Over', 'pval', 'exp'))\n",
    "for analysis in th_analyses:\n",
    "\n",
    "    th_data = all_results[all_results['is_' + analysis]].wvID.values\n",
    "    n_th = len(th_data)\n",
    "\n",
    "    n_nb = len(nb_data)\n",
    "    \n",
    "    inter = len(set(th_data).intersection(set(nb_data)))\n",
    "    \n",
    "    arr = np.array([[inter, n_th-inter],\n",
    "                    [n_nb-inter, n_units-n_th-n_nb+inter]])\n",
    "    tstat, pval, dof, exp = chi2_contingency(arr, False)\n",
    "\n",
    "    print('{} \\t {} \\t {} \\t {} \\t {:5.2f}% \\t {:5.4f} \\t {:2d}'.format(\\\n",
    "        analysis, n_nb, n_th, inter, (inter / n_nb) * 100, pval, round(exp[0][0])))"
   ]
  },
  {
   "cell_type": "markdown",
   "id": "004773d8-48a5-4b2a-b14a-4508f33ee810",
   "metadata": {},
   "source": [
    "## Combine Between Tasks"
   ]
  },
  {
   "cell_type": "code",
   "execution_count": null,
   "id": "0c54b316-953f-4e98-9553-dac666328d89",
   "metadata": {},
   "outputs": [],
   "source": [
    "# Check that all the IDs line up\n",
    "for nb_analysis in ['ID_neuron', 'vBase']:\n",
    "    for wvid in nback_data[nb_analysis]:\n",
    "        if wvid not in all_results.wvID.values:\n",
    "            assert wvid in all_results.wvID.values"
   ]
  },
  {
   "cell_type": "code",
   "execution_count": null,
   "id": "a5de6a9c-bf31-49d0-b24c-cdba9544ccb0",
   "metadata": {},
   "outputs": [],
   "source": [
    "# Add columns to overall dataframe for nback task labels\n",
    "all_results['is_ID_cell'] = False\n",
    "all_results['is_baseline_cell'] = False"
   ]
  },
  {
   "cell_type": "code",
   "execution_count": null,
   "id": "aabaedd4-6589-408b-b3b2-2804f8e6add7",
   "metadata": {},
   "outputs": [],
   "source": [
    "# Add in results from nback analyses listing which cells are nback task active cells\n",
    "for wvid in all_results.wvID.values:\n",
    "    if wvid in nback_data['ID_neuron']:\n",
    "        all_results.loc[all_results[all_results.wvID == wvid].index[0], 'is_ID_cell'] = True\n",
    "    if wvid in nback_data['vBase']:\n",
    "        all_results.loc[all_results[all_results.wvID == wvid].index[0], 'is_baseline_cell'] = True"
   ]
  },
  {
   "cell_type": "code",
   "execution_count": null,
   "id": "d3457269-ec5a-4a0a-a8c0-1c592935a085",
   "metadata": {},
   "outputs": [],
   "source": [
    "# Check that the alignment worked\n",
    "assert set(nback_data['vBase']) == set(all_results[all_results.is_baseline_cell].wvID.values)\n",
    "assert set(nback_data['ID_neuron']) == set(all_results[all_results.is_ID_cell].wvID.values)"
   ]
  },
  {
   "cell_type": "markdown",
   "id": "135816b0-0731-4d09-9382-544621c47f2c",
   "metadata": {},
   "source": [
    "#### Check the distribution of cells in nBack"
   ]
  },
  {
   "cell_type": "code",
   "execution_count": null,
   "id": "60d9e036-57ff-4ebc-a602-8df0bf6294bf",
   "metadata": {},
   "outputs": [],
   "source": [
    "# Define nback label columns to add\n",
    "nback_analysis_columns = ['is_ID_cell', 'is_baseline_cell']"
   ]
  },
  {
   "cell_type": "code",
   "execution_count": null,
   "id": "93666e3a-dd4c-4fc9-8197-7708f041c78e",
   "metadata": {},
   "outputs": [],
   "source": [
    "# Check the number of detected cells per session\n",
    "pd.pivot_table(all_results, nback_analysis_columns, index=['subject_id', 'session_id'], aggfunc=np.sum)"
   ]
  },
  {
   "cell_type": "code",
   "execution_count": null,
   "id": "781a1a7c-23e8-4c14-aad2-022848166c32",
   "metadata": {},
   "outputs": [],
   "source": [
    "# # Example: make a new column for overlap cells\n",
    "# all_results['sp_base_overlap'] = all_results['is_sp_cell'] & all_results['is_baseline_cell']"
   ]
  },
  {
   "cell_type": "code",
   "execution_count": null,
   "id": "31d72160-6f2b-41c8-a75b-60f314ee0f5f",
   "metadata": {},
   "outputs": [],
   "source": [
    "# # Save out the combined results file\n",
    "# all_results.to_csv(experiment + '_combined_all_results.csv')"
   ]
  },
  {
   "cell_type": "markdown",
   "id": "cebba706-0b24-4129-a6b8-ae75be007f40",
   "metadata": {},
   "source": [
    "## Overlap Stats"
   ]
  },
  {
   "cell_type": "code",
   "execution_count": null,
   "id": "df52f77c-4479-4138-a225-4cee3067a6c6",
   "metadata": {},
   "outputs": [],
   "source": [
    "# Define the file path for the relevant nback results file\n",
    "if experiment == 'THF':\n",
    "    stats_filename = 'vID_vBase_Selection_CelebA_Nav.csv'\n",
    "if experiment == 'THO':\n",
    "    stats_filename = 'vID_vBase_Selection_ImageNet_Nav.csv'"
   ]
  },
  {
   "cell_type": "code",
   "execution_count": null,
   "id": "d971f832-717a-4625-9a5d-720595a64f47",
   "metadata": {},
   "outputs": [],
   "source": [
    "# Load n-back stats\n",
    "nback_stats = pd.read_csv(paths.info / 'nback' / stats_filename)"
   ]
  },
  {
   "cell_type": "code",
   "execution_count": null,
   "id": "90a9ff47-5290-426a-8061-d04e78f69148",
   "metadata": {},
   "outputs": [],
   "source": [
    "# Rename the CellIndex column -> WvID\n",
    "new_names = {'CellIndex' : 'wvID', 'Fvalue-anova' : 'id_fvalue', 'TValue-baseline' : 'baseline_tvalue', \n",
    "             'IDNeuron' : 'is_id', 'vBaseline' : 'is_baseline'}\n",
    "nback_stats.rename(columns=new_names, inplace=True)"
   ]
  },
  {
   "cell_type": "code",
   "execution_count": null,
   "id": "7ecb2f9b-1e22-45e6-a92a-02441cffbc1d",
   "metadata": {},
   "outputs": [],
   "source": [
    "# Sub-select only stats columns\n",
    "nback_stats = nback_stats[['wvID', 'id_fvalue', 'baseline_tvalue', 'is_id', 'is_baseline']]"
   ]
  },
  {
   "cell_type": "code",
   "execution_count": null,
   "id": "58ec61ad-ff1e-4338-bb4b-d9bc6115fecb",
   "metadata": {},
   "outputs": [],
   "source": [
    "# Create merged df\n",
    "all_results = all_results.merge(nback_stats)"
   ]
  },
  {
   "cell_type": "code",
   "execution_count": null,
   "id": "b33cce00-5a7c-4082-a106-c28faef67d37",
   "metadata": {},
   "outputs": [],
   "source": [
    "# Create absolute value'd version of t-distributions\n",
    "all_results['baseline_tvalue_abs'] = np.abs(all_results['baseline_tvalue'])\n",
    "all_results['fr_t_val_full_abs'] = np.abs(all_results['fr_t_val_full'])"
   ]
  },
  {
   "cell_type": "markdown",
   "id": "22bfac0d-d27c-4ebf-8580-82939cb154ab",
   "metadata": {},
   "source": [
    "## FUNCS"
   ]
  },
  {
   "cell_type": "code",
   "execution_count": null,
   "id": "e6471102-d8f0-41bd-add1-4bc008f3b620",
   "metadata": {},
   "outputs": [],
   "source": [
    "MAP = {\n",
    "    # 1-back Task\n",
    "    'nback_stimulus' : {'stat' : 'baseline_tvalue_abs',\n",
    "                        'label' : '1B Stimulus t-value',\n",
    "                        'sig' : 'is_baseline'},\n",
    "    \n",
    "    'nback_id' : {'stat' : 'id_fvalue',\n",
    "                  'label' : '1B Identity F-value',\n",
    "                  'sig' : 'is_id'},\n",
    "    \n",
    "    # TH task\n",
    "    'th_stimulus' : {'stat' : 'fr_t_val_full_abs',\n",
    "                    'label' : 'TH Stimulus t-value',\n",
    "                    'sig' : 'is_fullchest'},\n",
    "    \n",
    "    'th_serial' : {'stat' : 'serial_anova',\n",
    "                   'label' : 'TH Serial F-value',\n",
    "                   'sig' : 'is_serial'},\n",
    "    \n",
    "    'th_target' : {'stat' : 'target_anova',\n",
    "                   'label' : 'TH Target F-value',\n",
    "                   'sig' : 'is_target'},\n",
    "}"
   ]
  },
  {
   "cell_type": "code",
   "execution_count": null,
   "id": "b9396a8b-b553-4755-9924-2837e3306fc3",
   "metadata": {},
   "outputs": [],
   "source": [
    "from scipy.stats import spearmanr\n",
    "\n",
    "def corr_stats(df, nb, th):\n",
    "    \"\"\"Calculate correlations between statistic measures.\"\"\"\n",
    "    \n",
    "    sig = df[MAP[nb]['sig']].astype(int) + df[MAP[th]['sig']] * 2\n",
    "    keys = {0 : 'null', 1 : 'NB', 2 : 'TH', 3 : 'both'}\n",
    "    \n",
    "    results = {}\n",
    "    \n",
    "    results['all'] = spearmanr(df[MAP[nb]['stat']].values,\n",
    "                               df[MAP[th]['stat']].values, \n",
    "                               nan_policy='omit')\n",
    "    \n",
    "    for value in set(sig):\n",
    "        results[keys[value]] = spearmanr(df[MAP[nb]['stat']].values[sig == value],\n",
    "                                         df[MAP[th]['stat']].values[sig == value],\n",
    "                                         nan_policy='omit')\n",
    "\n",
    "    return results    "
   ]
  },
  {
   "cell_type": "code",
   "execution_count": null,
   "id": "9ef51b88-3e01-48f1-b6aa-23b4b786b777",
   "metadata": {},
   "outputs": [],
   "source": [
    "def print_corrs(stats, label=None):\n",
    "    \"\"\"Print out stats correlatins.\"\"\"\n",
    "    if label:\n",
    "        print(label)\n",
    "    for key, val in stats.items():\n",
    "        print('\\t {} \\t- r = {:+1.2f} \\t p = {:1.2f}'.format(key, val.correlation, val.pvalue))"
   ]
  },
  {
   "cell_type": "code",
   "execution_count": null,
   "id": "6ec4cd74-a9ca-447b-aaa0-01751e069839",
   "metadata": {},
   "outputs": [],
   "source": [
    "import matplotlib.cm as cm\n",
    "\n",
    "from spiketools.plts.data import plot_dots\n",
    "from spiketools.plts.utils import check_ax\n",
    "\n",
    "def plot_stats_dots(df, nb, th, ax=None, title=None):\n",
    "    \"\"\"Plot scatter plots across the statistics for different measures.\"\"\"\n",
    "\n",
    "    labels = ['null', '1B', 'TH', 'Both']\n",
    "    #colors = cm.magma_r(np.linspace(0.05, 1, 4))\n",
    "    #colors = cm.cubehelix_r(np.linspace(0.15, 1, 4))\n",
    "    \n",
    "    colors = [[9.91332e-01, 9.05763e-01, 6.61309e-01, 1.00000e+00],\n",
    "              'purple', 'green', 'black']\n",
    "    \n",
    "    sig = df[MAP[nb]['sig']].astype(int) + df[MAP[th]['sig']] * 2\n",
    "    \n",
    "    ax = check_ax(ax, figsize=(5, 4))\n",
    "    for value, label, color in zip(set(sig), labels, colors):\n",
    "        plot_dots(df[MAP[nb]['stat']].values[sig == value],\n",
    "                  df[MAP[th]['stat']].values[sig == value],\n",
    "                  xlabel=MAP[nb]['label'], ylabel=MAP[th]['label'],\n",
    "                  title=title, label=label, color=color, alpha=0.75,\n",
    "                  ax=ax)\n",
    "    ax.legend(prop={'size': 10}, loc=7)\n",
    "    \n",
    "    stats = corr_stats(df, nb, th)\n",
    "    ax.text(0.85, 0.05, 'r={:1.3f}'.format(stats['all'].correlation),\n",
    "            horizontalalignment='center', verticalalignment='center',\n",
    "            fontsize=12, transform=ax.transAxes)"
   ]
  },
  {
   "cell_type": "code",
   "execution_count": null,
   "id": "60f5806e-a4f8-48d6-8f52-e42024a590cc",
   "metadata": {},
   "outputs": [],
   "source": [
    "colors = cm.magma_r(np.linspace(0.05, 1, 4))"
   ]
  },
  {
   "cell_type": "code",
   "execution_count": null,
   "id": "2c72c939-ad35-42d3-a645-6839a6f9e405",
   "metadata": {},
   "outputs": [],
   "source": [
    "colors"
   ]
  },
  {
   "cell_type": "code",
   "execution_count": null,
   "id": "69ee0617-954a-4172-a938-f4f00bf57155",
   "metadata": {},
   "outputs": [],
   "source": [
    "SAVE_FIG = False"
   ]
  },
  {
   "cell_type": "code",
   "execution_count": null,
   "id": "a530ce9a-25a4-4388-a9e2-458a238a8767",
   "metadata": {},
   "outputs": [],
   "source": [
    "axes = make_axes(3, 3, wspace=0.3, figsize=(14, 4))\n",
    "plot_stats_dots(all_results, 'nback_stimulus', 'th_stimulus', ax=axes[0])\n",
    "plot_stats_dots(all_results, 'nback_stimulus', 'th_serial', ax=axes[1])\n",
    "plot_stats_dots(all_results, 'nback_stimulus', 'th_target', ax=axes[2])\n",
    "if SAVE_FIG: save_figure(experiment + '_stim_stats.pdf', bbox_inches='tight')"
   ]
  },
  {
   "cell_type": "code",
   "execution_count": null,
   "id": "12c7936e-711d-4bdd-afd8-8c6f670bdfa2",
   "metadata": {},
   "outputs": [],
   "source": [
    "print_corrs(corr_stats(all_results, 'nback_stimulus', 'th_stimulus'), 'Stimulus / Stimulus')\n",
    "print_corrs(corr_stats(all_results, 'nback_stimulus', 'th_serial'), 'Stimulus / Serial')\n",
    "print_corrs(corr_stats(all_results, 'nback_stimulus', 'th_target'), 'Stimulus / Serial')"
   ]
  },
  {
   "cell_type": "code",
   "execution_count": null,
   "id": "4654195e-0358-4d0a-a801-a2de00a76896",
   "metadata": {},
   "outputs": [],
   "source": [
    "axes = make_axes(3, 3, wspace=0.3, figsize=(14, 4))\n",
    "plot_stats_dots(all_results, 'nback_id', 'th_stimulus', ax=axes[0])\n",
    "plot_stats_dots(all_results, 'nback_id', 'th_serial', ax=axes[1])\n",
    "plot_stats_dots(all_results, 'nback_id', 'th_target', ax=axes[2])\n",
    "if experiment == 'THO':\n",
    "    for ax in axes: ax.set_xlim([-0.2, 6])\n",
    "save_figure(experiment + '_id_stats.pdf', bbox_inches='tight')"
   ]
  },
  {
   "cell_type": "code",
   "execution_count": null,
   "id": "45b8bf57-9d02-46f7-8e40-22a1ca063b56",
   "metadata": {},
   "outputs": [],
   "source": [
    "print_corrs(corr_stats(all_results, 'nback_id', 'th_stimulus'), 'Stimulus / Stimulus')\n",
    "print_corrs(corr_stats(all_results, 'nback_id', 'th_serial'), 'Stimulus / Serial')\n",
    "print_corrs(corr_stats(all_results, 'nback_id', 'th_target'), 'Stimulus / Serial')"
   ]
  },
  {
   "cell_type": "markdown",
   "id": "95122d62-8b53-4dde-b55d-075b581bf177",
   "metadata": {},
   "source": [
    "## XX"
   ]
  },
  {
   "cell_type": "code",
   "execution_count": null,
   "id": "def900e2-5a2a-4c9d-94fe-3a34a00a6ce5",
   "metadata": {},
   "outputs": [],
   "source": [
    "#raise ValueError"
   ]
  },
  {
   "cell_type": "code",
   "execution_count": null,
   "id": "8d9e9f7a-d1cb-4112-a8e2-e2c680511000",
   "metadata": {},
   "outputs": [],
   "source": [
    "#all_results_tho = all_results\n",
    "#all_results_thf = all_results"
   ]
  },
  {
   "cell_type": "code",
   "execution_count": null,
   "id": "b83845fb-a550-4819-b0f9-61778248123e",
   "metadata": {},
   "outputs": [],
   "source": [
    "SAVE_FIG = False"
   ]
  },
  {
   "cell_type": "code",
   "execution_count": null,
   "id": "7185ca26-23be-4d6d-9445-3eae3d69e65b",
   "metadata": {},
   "outputs": [],
   "source": [
    "axes = make_axes(4, 4, wspace=0.3, figsize=(18, 4))\n",
    "plot_stats_dots(all_results_thf, 'nback_stimulus', 'th_stimulus', \n",
    "                title='Face: Stimulus-Stimulus', ax=axes[0])\n",
    "plot_stats_dots(all_results_tho, 'nback_stimulus', 'th_stimulus',\n",
    "                title='Object: Stimulus-Stimulus', ax=axes[1])\n",
    "plot_stats_dots(all_results_thf, 'nback_stimulus', 'th_serial',\n",
    "                title='Face: Stimulus-Serial', ax=axes[2])\n",
    "plot_stats_dots(all_results_tho, 'nback_stimulus', 'th_serial',\n",
    "                title='Object: Stimulus-Serial', ax=axes[3])\n",
    "if SAVE_FIG:\n",
    "    save_figure('group_stats.pdf', bbox_inches='tight')"
   ]
  }
 ],
 "metadata": {
  "kernelspec": {
   "display_name": "thproj",
   "language": "python",
   "name": "thproj"
  },
  "language_info": {
   "codemirror_mode": {
    "name": "ipython",
    "version": 3
   },
   "file_extension": ".py",
   "mimetype": "text/x-python",
   "name": "python",
   "nbconvert_exporter": "python",
   "pygments_lexer": "ipython3",
   "version": "3.8.13"
  }
 },
 "nbformat": 4,
 "nbformat_minor": 5
}
