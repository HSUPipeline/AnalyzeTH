{
 "cells": [
  {
   "cell_type": "markdown",
   "id": "c0fa1b69",
   "metadata": {},
   "source": [
    "# Examine Results"
   ]
  },
  {
   "cell_type": "code",
   "execution_count": 1,
   "id": "51e5da01",
   "metadata": {},
   "outputs": [],
   "source": [
    "%matplotlib inline\n",
    "\n",
    "from pathlib import Path\n",
    "\n",
    "import numpy as np\n",
    "import pandas as pd\n",
    "import matplotlib.pyplot as plt\n",
    "from scipy.stats import binom_test, chi2_contingency\n",
    "\n",
    "from convnwb.paths import Paths\n",
    "\n",
    "from spiketools.plts.data import plot_hist, plot_bar\n",
    "from spiketools.plts.utils import make_axes, save_figure\n",
    "from spiketools.plts.annotate import add_hlines"
   ]
  },
  {
   "cell_type": "code",
   "execution_count": 2,
   "id": "e9dfcac0",
   "metadata": {},
   "outputs": [],
   "source": [
    "import seaborn as sns\n",
    "sns.set_context('talk', font_scale=0.9)"
   ]
  },
  {
   "cell_type": "code",
   "execution_count": 3,
   "id": "89ac456b-67e0-4230-a9ae-5700df11878b",
   "metadata": {},
   "outputs": [],
   "source": [
    "# Set pandas display options\n",
    "pd.options.display.max_columns = None"
   ]
  },
  {
   "cell_type": "markdown",
   "id": "bc5919e2",
   "metadata": {},
   "source": [
    "## Settings"
   ]
  },
  {
   "cell_type": "code",
   "execution_count": 4,
   "id": "57ba7fcb-3750-4e27-9156-1e621c3510f2",
   "metadata": {},
   "outputs": [],
   "source": [
    "# Set data path to load from\n",
    "results_path = Path('../results/units/all/')"
   ]
  },
  {
   "cell_type": "code",
   "execution_count": 5,
   "id": "bacf9ad8-6372-4307-b48f-f75b7046db9b",
   "metadata": {},
   "outputs": [],
   "source": [
    "# Set which experiment version to run\n",
    "stimulus_version = 'face'   # 'face', 'object'"
   ]
  },
  {
   "cell_type": "code",
   "execution_count": 6,
   "id": "24de5356-286a-4d3f-8c6f-72c3ca591a8b",
   "metadata": {},
   "outputs": [],
   "source": [
    "# Get the filename for the combined results file\n",
    "results_fname = 'all_results-' + stimulus_version + '.csv'"
   ]
  },
  {
   "cell_type": "code",
   "execution_count": 7,
   "id": "d5ade19e-b667-4558-bd9d-9fe7cd55b997",
   "metadata": {},
   "outputs": [],
   "source": [
    "# Define a list of analyses\n",
    "th_analyses = ['chest', 'place', 'target', 'serial'] \n",
    "nb_analyses = ['baseline', 'id']\n",
    "analyses = th_analyses + nb_analyses"
   ]
  },
  {
   "cell_type": "code",
   "execution_count": 20,
   "id": "a786b16e-c3cd-4b94-9d9f-ea1c5d935f9d",
   "metadata": {},
   "outputs": [],
   "source": [
    "# Statistics settings\n",
    "alpha_level = 0.05\n",
    "binom_sidedness = 'greater'    # 'two-sided', 'greater', 'less'"
   ]
  },
  {
   "cell_type": "markdown",
   "id": "1045e2f8",
   "metadata": {},
   "source": [
    "## Load Results"
   ]
  },
  {
   "cell_type": "code",
   "execution_count": 9,
   "id": "fac8203f-9054-43cb-be14-efa42363047c",
   "metadata": {},
   "outputs": [],
   "source": [
    "# Load results\n",
    "all_results = pd.read_csv(results_path / results_fname)"
   ]
  },
  {
   "cell_type": "code",
   "execution_count": 10,
   "id": "df60560e",
   "metadata": {},
   "outputs": [
    {
     "data": {
      "text/html": [
       "<div>\n",
       "<style scoped>\n",
       "    .dataframe tbody tr th:only-of-type {\n",
       "        vertical-align: middle;\n",
       "    }\n",
       "\n",
       "    .dataframe tbody tr th {\n",
       "        vertical-align: top;\n",
       "    }\n",
       "\n",
       "    .dataframe thead th {\n",
       "        text-align: right;\n",
       "    }\n",
       "</style>\n",
       "<table border=\"1\" class=\"dataframe\">\n",
       "  <thead>\n",
       "    <tr style=\"text-align: right;\">\n",
       "      <th></th>\n",
       "      <th>uid</th>\n",
       "      <th>session_id</th>\n",
       "      <th>subject_id</th>\n",
       "      <th>wvID</th>\n",
       "      <th>keep</th>\n",
       "      <th>n_spikes</th>\n",
       "      <th>firing_rate</th>\n",
       "      <th>presence_ratio</th>\n",
       "      <th>cluster</th>\n",
       "      <th>channel</th>\n",
       "      <th>location</th>\n",
       "      <th>fr_t_val_all</th>\n",
       "      <th>fr_p_val_all</th>\n",
       "      <th>fr_t_val_empt</th>\n",
       "      <th>fr_p_val_empt</th>\n",
       "      <th>fr_t_val_full</th>\n",
       "      <th>fr_p_val_full</th>\n",
       "      <th>place_anova</th>\n",
       "      <th>target_anova</th>\n",
       "      <th>serial_anova</th>\n",
       "      <th>place_anova_surr_p_val</th>\n",
       "      <th>place_anova_surr_z_score</th>\n",
       "      <th>target_anova_surr_p_val</th>\n",
       "      <th>target_anova_surr_z_score</th>\n",
       "      <th>serial_anova_surr_p_val</th>\n",
       "      <th>serial_anova_surr_z_score</th>\n",
       "      <th>is_chest</th>\n",
       "      <th>is_place</th>\n",
       "      <th>is_target</th>\n",
       "      <th>is_serial</th>\n",
       "      <th>region</th>\n",
       "      <th>side</th>\n",
       "      <th>id_fvalue</th>\n",
       "      <th>baseline_tvalue</th>\n",
       "      <th>is_id</th>\n",
       "      <th>is_baseline</th>\n",
       "      <th>id_type</th>\n",
       "      <th>baseline_tvalue_abs</th>\n",
       "      <th>fr_t_val_full_abs</th>\n",
       "      <th>keep_th</th>\n",
       "    </tr>\n",
       "  </thead>\n",
       "  <tbody>\n",
       "    <tr>\n",
       "      <th>0</th>\n",
       "      <td>0</td>\n",
       "      <td>THF_wv001_session_0</td>\n",
       "      <td>wv001</td>\n",
       "      <td>1</td>\n",
       "      <td>True</td>\n",
       "      <td>630</td>\n",
       "      <td>0.511243</td>\n",
       "      <td>0.651822</td>\n",
       "      <td>2229</td>\n",
       "      <td>A10</td>\n",
       "      <td>LAH</td>\n",
       "      <td>0.838964</td>\n",
       "      <td>0.405121</td>\n",
       "      <td>-1.156732</td>\n",
       "      <td>0.261719</td>\n",
       "      <td>1.310645</td>\n",
       "      <td>0.198513</td>\n",
       "      <td>0.296563</td>\n",
       "      <td>1.591088</td>\n",
       "      <td>0.966072</td>\n",
       "      <td>0.989</td>\n",
       "      <td>-0.706820</td>\n",
       "      <td>0.145</td>\n",
       "      <td>0.926736</td>\n",
       "      <td>0.367</td>\n",
       "      <td>0.140749</td>\n",
       "      <td>False</td>\n",
       "      <td>False</td>\n",
       "      <td>False</td>\n",
       "      <td>False</td>\n",
       "      <td>AH</td>\n",
       "      <td>left</td>\n",
       "      <td>1.076359</td>\n",
       "      <td>0.922175</td>\n",
       "      <td>False</td>\n",
       "      <td>False</td>\n",
       "      <td>NaN</td>\n",
       "      <td>0.922175</td>\n",
       "      <td>1.310645</td>\n",
       "      <td>True</td>\n",
       "    </tr>\n",
       "    <tr>\n",
       "      <th>1</th>\n",
       "      <td>1</td>\n",
       "      <td>THF_wv001_session_0</td>\n",
       "      <td>wv001</td>\n",
       "      <td>2</td>\n",
       "      <td>True</td>\n",
       "      <td>454</td>\n",
       "      <td>0.368420</td>\n",
       "      <td>0.676113</td>\n",
       "      <td>2360</td>\n",
       "      <td>A10</td>\n",
       "      <td>LAH</td>\n",
       "      <td>0.747516</td>\n",
       "      <td>0.457936</td>\n",
       "      <td>-1.071432</td>\n",
       "      <td>0.297397</td>\n",
       "      <td>2.223143</td>\n",
       "      <td>0.032760</td>\n",
       "      <td>1.295190</td>\n",
       "      <td>0.931677</td>\n",
       "      <td>1.034851</td>\n",
       "      <td>0.335</td>\n",
       "      <td>-0.059906</td>\n",
       "      <td>0.484</td>\n",
       "      <td>-0.198605</td>\n",
       "      <td>0.347</td>\n",
       "      <td>0.164065</td>\n",
       "      <td>True</td>\n",
       "      <td>False</td>\n",
       "      <td>False</td>\n",
       "      <td>False</td>\n",
       "      <td>AH</td>\n",
       "      <td>left</td>\n",
       "      <td>1.168815</td>\n",
       "      <td>1.011120</td>\n",
       "      <td>False</td>\n",
       "      <td>False</td>\n",
       "      <td>NaN</td>\n",
       "      <td>1.011120</td>\n",
       "      <td>2.223143</td>\n",
       "      <td>True</td>\n",
       "    </tr>\n",
       "    <tr>\n",
       "      <th>2</th>\n",
       "      <td>2</td>\n",
       "      <td>THF_wv001_session_0</td>\n",
       "      <td>wv001</td>\n",
       "      <td>3</td>\n",
       "      <td>True</td>\n",
       "      <td>580</td>\n",
       "      <td>0.469046</td>\n",
       "      <td>0.797571</td>\n",
       "      <td>2421</td>\n",
       "      <td>A10</td>\n",
       "      <td>LAH</td>\n",
       "      <td>0.659236</td>\n",
       "      <td>0.512495</td>\n",
       "      <td>0.281954</td>\n",
       "      <td>0.781027</td>\n",
       "      <td>0.680864</td>\n",
       "      <td>0.500437</td>\n",
       "      <td>0.615918</td>\n",
       "      <td>0.810753</td>\n",
       "      <td>1.183255</td>\n",
       "      <td>0.775</td>\n",
       "      <td>-0.527601</td>\n",
       "      <td>0.510</td>\n",
       "      <td>-0.243767</td>\n",
       "      <td>0.203</td>\n",
       "      <td>0.666446</td>\n",
       "      <td>False</td>\n",
       "      <td>False</td>\n",
       "      <td>False</td>\n",
       "      <td>False</td>\n",
       "      <td>AH</td>\n",
       "      <td>left</td>\n",
       "      <td>1.241980</td>\n",
       "      <td>-0.115789</td>\n",
       "      <td>False</td>\n",
       "      <td>False</td>\n",
       "      <td>NaN</td>\n",
       "      <td>0.115789</td>\n",
       "      <td>0.680864</td>\n",
       "      <td>True</td>\n",
       "    </tr>\n",
       "    <tr>\n",
       "      <th>3</th>\n",
       "      <td>3</td>\n",
       "      <td>THF_wv001_session_0</td>\n",
       "      <td>wv001</td>\n",
       "      <td>4</td>\n",
       "      <td>True</td>\n",
       "      <td>2164</td>\n",
       "      <td>1.748777</td>\n",
       "      <td>1.000000</td>\n",
       "      <td>2556</td>\n",
       "      <td>A10</td>\n",
       "      <td>LAH</td>\n",
       "      <td>-0.051453</td>\n",
       "      <td>0.959151</td>\n",
       "      <td>1.046558</td>\n",
       "      <td>0.308436</td>\n",
       "      <td>-0.739510</td>\n",
       "      <td>0.464529</td>\n",
       "      <td>0.675223</td>\n",
       "      <td>2.017667</td>\n",
       "      <td>1.482066</td>\n",
       "      <td>0.743</td>\n",
       "      <td>-0.610637</td>\n",
       "      <td>0.060</td>\n",
       "      <td>1.581672</td>\n",
       "      <td>0.133</td>\n",
       "      <td>0.883660</td>\n",
       "      <td>False</td>\n",
       "      <td>False</td>\n",
       "      <td>False</td>\n",
       "      <td>False</td>\n",
       "      <td>AH</td>\n",
       "      <td>left</td>\n",
       "      <td>0.956436</td>\n",
       "      <td>-2.624513</td>\n",
       "      <td>False</td>\n",
       "      <td>True</td>\n",
       "      <td>NaN</td>\n",
       "      <td>2.624513</td>\n",
       "      <td>0.739510</td>\n",
       "      <td>True</td>\n",
       "    </tr>\n",
       "    <tr>\n",
       "      <th>4</th>\n",
       "      <td>4</td>\n",
       "      <td>THF_wv001_session_0</td>\n",
       "      <td>wv001</td>\n",
       "      <td>5</td>\n",
       "      <td>True</td>\n",
       "      <td>342</td>\n",
       "      <td>0.265360</td>\n",
       "      <td>0.526316</td>\n",
       "      <td>774</td>\n",
       "      <td>A15</td>\n",
       "      <td>LAH</td>\n",
       "      <td>-0.850696</td>\n",
       "      <td>0.398627</td>\n",
       "      <td>-0.842344</td>\n",
       "      <td>0.410074</td>\n",
       "      <td>-0.320374</td>\n",
       "      <td>0.750590</td>\n",
       "      <td>6.803619</td>\n",
       "      <td>0.974146</td>\n",
       "      <td>0.667268</td>\n",
       "      <td>0.014</td>\n",
       "      <td>1.232447</td>\n",
       "      <td>0.372</td>\n",
       "      <td>-0.016482</td>\n",
       "      <td>0.442</td>\n",
       "      <td>-0.160701</td>\n",
       "      <td>False</td>\n",
       "      <td>True</td>\n",
       "      <td>False</td>\n",
       "      <td>False</td>\n",
       "      <td>AH</td>\n",
       "      <td>left</td>\n",
       "      <td>1.086618</td>\n",
       "      <td>1.893768</td>\n",
       "      <td>False</td>\n",
       "      <td>False</td>\n",
       "      <td>NaN</td>\n",
       "      <td>1.893768</td>\n",
       "      <td>0.320374</td>\n",
       "      <td>True</td>\n",
       "    </tr>\n",
       "  </tbody>\n",
       "</table>\n",
       "</div>"
      ],
      "text/plain": [
       "   uid           session_id subject_id  wvID  keep  n_spikes  firing_rate  \\\n",
       "0    0  THF_wv001_session_0      wv001     1  True       630     0.511243   \n",
       "1    1  THF_wv001_session_0      wv001     2  True       454     0.368420   \n",
       "2    2  THF_wv001_session_0      wv001     3  True       580     0.469046   \n",
       "3    3  THF_wv001_session_0      wv001     4  True      2164     1.748777   \n",
       "4    4  THF_wv001_session_0      wv001     5  True       342     0.265360   \n",
       "\n",
       "   presence_ratio  cluster channel location  fr_t_val_all  fr_p_val_all  \\\n",
       "0        0.651822     2229     A10      LAH      0.838964      0.405121   \n",
       "1        0.676113     2360     A10      LAH      0.747516      0.457936   \n",
       "2        0.797571     2421     A10      LAH      0.659236      0.512495   \n",
       "3        1.000000     2556     A10      LAH     -0.051453      0.959151   \n",
       "4        0.526316      774     A15      LAH     -0.850696      0.398627   \n",
       "\n",
       "   fr_t_val_empt  fr_p_val_empt  fr_t_val_full  fr_p_val_full  place_anova  \\\n",
       "0      -1.156732       0.261719       1.310645       0.198513     0.296563   \n",
       "1      -1.071432       0.297397       2.223143       0.032760     1.295190   \n",
       "2       0.281954       0.781027       0.680864       0.500437     0.615918   \n",
       "3       1.046558       0.308436      -0.739510       0.464529     0.675223   \n",
       "4      -0.842344       0.410074      -0.320374       0.750590     6.803619   \n",
       "\n",
       "   target_anova  serial_anova  place_anova_surr_p_val  \\\n",
       "0      1.591088      0.966072                   0.989   \n",
       "1      0.931677      1.034851                   0.335   \n",
       "2      0.810753      1.183255                   0.775   \n",
       "3      2.017667      1.482066                   0.743   \n",
       "4      0.974146      0.667268                   0.014   \n",
       "\n",
       "   place_anova_surr_z_score  target_anova_surr_p_val  \\\n",
       "0                 -0.706820                    0.145   \n",
       "1                 -0.059906                    0.484   \n",
       "2                 -0.527601                    0.510   \n",
       "3                 -0.610637                    0.060   \n",
       "4                  1.232447                    0.372   \n",
       "\n",
       "   target_anova_surr_z_score  serial_anova_surr_p_val  \\\n",
       "0                   0.926736                    0.367   \n",
       "1                  -0.198605                    0.347   \n",
       "2                  -0.243767                    0.203   \n",
       "3                   1.581672                    0.133   \n",
       "4                  -0.016482                    0.442   \n",
       "\n",
       "   serial_anova_surr_z_score  is_chest  is_place  is_target  is_serial region  \\\n",
       "0                   0.140749     False     False      False      False     AH   \n",
       "1                   0.164065      True     False      False      False     AH   \n",
       "2                   0.666446     False     False      False      False     AH   \n",
       "3                   0.883660     False     False      False      False     AH   \n",
       "4                  -0.160701     False      True      False      False     AH   \n",
       "\n",
       "   side  id_fvalue  baseline_tvalue  is_id  is_baseline id_type  \\\n",
       "0  left   1.076359         0.922175  False        False     NaN   \n",
       "1  left   1.168815         1.011120  False        False     NaN   \n",
       "2  left   1.241980        -0.115789  False        False     NaN   \n",
       "3  left   0.956436        -2.624513  False         True     NaN   \n",
       "4  left   1.086618         1.893768  False        False     NaN   \n",
       "\n",
       "   baseline_tvalue_abs  fr_t_val_full_abs  keep_th  \n",
       "0             0.922175           1.310645     True  \n",
       "1             1.011120           2.223143     True  \n",
       "2             0.115789           0.680864     True  \n",
       "3             2.624513           0.739510     True  \n",
       "4             1.893768           0.320374     True  "
      ]
     },
     "execution_count": 10,
     "metadata": {},
     "output_type": "execute_result"
    }
   ],
   "source": [
    "# Check the head of the results\n",
    "all_results.head()"
   ]
  },
  {
   "cell_type": "code",
   "execution_count": 11,
   "id": "85fb8907-17ef-4cfe-bef1-de5713832e64",
   "metadata": {},
   "outputs": [
    {
     "data": {
      "text/plain": [
       "Index(['uid', 'session_id', 'subject_id', 'wvID', 'keep', 'n_spikes',\n",
       "       'firing_rate', 'presence_ratio', 'cluster', 'channel', 'location',\n",
       "       'fr_t_val_all', 'fr_p_val_all', 'fr_t_val_empt', 'fr_p_val_empt',\n",
       "       'fr_t_val_full', 'fr_p_val_full', 'place_anova', 'target_anova',\n",
       "       'serial_anova', 'place_anova_surr_p_val', 'place_anova_surr_z_score',\n",
       "       'target_anova_surr_p_val', 'target_anova_surr_z_score',\n",
       "       'serial_anova_surr_p_val', 'serial_anova_surr_z_score', 'is_chest',\n",
       "       'is_place', 'is_target', 'is_serial', 'region', 'side', 'id_fvalue',\n",
       "       'baseline_tvalue', 'is_id', 'is_baseline', 'id_type',\n",
       "       'baseline_tvalue_abs', 'fr_t_val_full_abs', 'keep_th'],\n",
       "      dtype='object')"
      ]
     },
     "execution_count": 11,
     "metadata": {},
     "output_type": "execute_result"
    }
   ],
   "source": [
    "# Check the columns in the loaded file\n",
    "all_results.columns"
   ]
  },
  {
   "cell_type": "markdown",
   "id": "3e423866-1009-4799-b4c2-ea3350c8b953",
   "metadata": {},
   "source": [
    "### Location Checks"
   ]
  },
  {
   "cell_type": "code",
   "execution_count": 12,
   "id": "24f5a169-6b83-46ad-bb9a-53dd2a14e384",
   "metadata": {},
   "outputs": [
    {
     "data": {
      "image/png": "[encoded data removed]",
      "text/plain": [
       "<Figure size 1200x300 with 3 Axes>"
      ]
     },
     "metadata": {},
     "output_type": "display_data"
    }
   ],
   "source": [
    "# Plot the unit counts per location\n",
    "axes = make_axes(3, 3, figsize=(12, 3), wspace=0.3)\n",
    "all_results['location'].value_counts().plot(kind='bar', ax=axes[0]);\n",
    "all_results['region'].value_counts().plot(kind='bar', ax=axes[1]);\n",
    "all_results['side'].value_counts().plot(kind='bar', ax=axes[2]);"
   ]
  },
  {
   "cell_type": "code",
   "execution_count": 13,
   "id": "acbcb438-37ab-4dc1-9749-64931edc7744",
   "metadata": {},
   "outputs": [],
   "source": [
    "# # Check location counts\n",
    "# all_results['location'].value_counts()"
   ]
  },
  {
   "cell_type": "code",
   "execution_count": 14,
   "id": "dacec96f-47ab-411b-b276-134cfda86663",
   "metadata": {},
   "outputs": [],
   "source": [
    "# # Check area counts\n",
    "# all_results['region'].value_counts()"
   ]
  },
  {
   "cell_type": "code",
   "execution_count": 15,
   "id": "cfa969b1-fb99-4bf9-8925-3dd665a354a2",
   "metadata": {},
   "outputs": [],
   "source": [
    "# # Check area counts\n",
    "# all_results['side'].value_counts()"
   ]
  },
  {
   "cell_type": "markdown",
   "id": "acbab1b8",
   "metadata": {},
   "source": [
    "## Check Results"
   ]
  },
  {
   "cell_type": "code",
   "execution_count": 16,
   "id": "c9d253e3-3547-4d0d-84d1-d01d34162bfe",
   "metadata": {},
   "outputs": [
    {
     "name": "stdout",
     "output_type": "stream",
     "text": [
      "Total number of cells: 608\n"
     ]
    }
   ],
   "source": [
    "# Get total number of units\n",
    "n_units = len(all_results)\n",
    "print('Total number of cells: {}'.format(n_units))"
   ]
  },
  {
   "cell_type": "code",
   "execution_count": 17,
   "id": "7e1eed77-69cf-4032-8e98-4b3c1710b5e3",
   "metadata": {},
   "outputs": [],
   "source": [
    "# Collect numbers of significant cells\n",
    "results = {}\n",
    "for analysis in analyses:\n",
    "    results[analysis] = sum(all_results['is_' + analysis])"
   ]
  },
  {
   "cell_type": "code",
   "execution_count": 21,
   "id": "c7bb4864-c3d4-4653-a675-070d723ed66f",
   "metadata": {},
   "outputs": [],
   "source": [
    "# Compute significance of the counts of detected neurons\n",
    "stats = {}\n",
    "for analysis in analyses:\n",
    "    stats[analysis] = binom_test(results[analysis], n_units, alpha_level, binom_sidedness)"
   ]
  },
  {
   "cell_type": "code",
   "execution_count": 22,
   "id": "221e6fb4-bd7b-445c-a0b4-2dc88d1ea683",
   "metadata": {},
   "outputs": [
    {
     "name": "stdout",
     "output_type": "stream",
     "text": [
      "face - total cells: 608\n",
      "\n",
      "# chest cells:     \t\t108  (17.76%) \t\t 0.0000\n",
      "# place cells:     \t\t 28  ( 4.61%) \t\t 0.6983\n",
      "# target cells:     \t\t 43  ( 7.07%) \t\t 0.0155\n",
      "# serial cells:     \t\t 98  (16.12%) \t\t 0.0000\n",
      "# baseline cells:     \t\t102  (16.78%) \t\t 0.0000\n",
      "# id cells:     \t\t 51  ( 8.39%) \t\t 0.0003\n"
     ]
    }
   ],
   "source": [
    "# Check the number & percent of significant cells per analysis\n",
    "print('{} - total cells: {}\\n'.format(stimulus_version, n_units))\n",
    "for analysis in analyses:\n",
    "    print('# {} cells:     \\t\\t{:3d}  ({:5.2f}%) \\t\\t {:.4f}'.format(\\\n",
    "        analysis, results[analysis], results[analysis] / n_units * 100, stats[analysis]))"
   ]
  },
  {
   "cell_type": "markdown",
   "id": "07434759-6637-440f-bb87-aa544e0ec792",
   "metadata": {},
   "source": [
    "#### Drop non-significant analyses"
   ]
  },
  {
   "cell_type": "code",
   "execution_count": 23,
   "id": "c649237d-d3be-4aff-9648-367db2dde20d",
   "metadata": {},
   "outputs": [],
   "source": [
    "# # ...\n",
    "# remove = ['place']\n",
    "# for el in remove:\n",
    "#     if el in th_analyses:\n",
    "#         th_analyses.remove(el)"
   ]
  },
  {
   "cell_type": "markdown",
   "id": "8460d7c3-27ab-4066-993e-df58fca9505a",
   "metadata": {},
   "source": [
    "## Check Results by Subject / Session"
   ]
  },
  {
   "cell_type": "code",
   "execution_count": 24,
   "id": "2a9b9028-2689-4ad3-867c-34c9bd801666",
   "metadata": {},
   "outputs": [
    {
     "data": {
      "text/html": [
       "<div>\n",
       "<style scoped>\n",
       "    .dataframe tbody tr th:only-of-type {\n",
       "        vertical-align: middle;\n",
       "    }\n",
       "\n",
       "    .dataframe tbody tr th {\n",
       "        vertical-align: top;\n",
       "    }\n",
       "\n",
       "    .dataframe thead th {\n",
       "        text-align: right;\n",
       "    }\n",
       "</style>\n",
       "<table border=\"1\" class=\"dataframe\">\n",
       "  <thead>\n",
       "    <tr style=\"text-align: right;\">\n",
       "      <th></th>\n",
       "      <th>is_baseline</th>\n",
       "      <th>is_chest</th>\n",
       "      <th>is_id</th>\n",
       "      <th>is_place</th>\n",
       "      <th>is_serial</th>\n",
       "      <th>is_target</th>\n",
       "    </tr>\n",
       "    <tr>\n",
       "      <th>subject_id</th>\n",
       "      <th></th>\n",
       "      <th></th>\n",
       "      <th></th>\n",
       "      <th></th>\n",
       "      <th></th>\n",
       "      <th></th>\n",
       "    </tr>\n",
       "  </thead>\n",
       "  <tbody>\n",
       "    <tr>\n",
       "      <th>wv001</th>\n",
       "      <td>51</td>\n",
       "      <td>47</td>\n",
       "      <td>25</td>\n",
       "      <td>13</td>\n",
       "      <td>34</td>\n",
       "      <td>20</td>\n",
       "    </tr>\n",
       "    <tr>\n",
       "      <th>wv002</th>\n",
       "      <td>15</td>\n",
       "      <td>16</td>\n",
       "      <td>6</td>\n",
       "      <td>7</td>\n",
       "      <td>20</td>\n",
       "      <td>7</td>\n",
       "    </tr>\n",
       "    <tr>\n",
       "      <th>wv003</th>\n",
       "      <td>0</td>\n",
       "      <td>5</td>\n",
       "      <td>0</td>\n",
       "      <td>1</td>\n",
       "      <td>1</td>\n",
       "      <td>0</td>\n",
       "    </tr>\n",
       "    <tr>\n",
       "      <th>wv004</th>\n",
       "      <td>29</td>\n",
       "      <td>40</td>\n",
       "      <td>19</td>\n",
       "      <td>6</td>\n",
       "      <td>40</td>\n",
       "      <td>14</td>\n",
       "    </tr>\n",
       "    <tr>\n",
       "      <th>wv005</th>\n",
       "      <td>7</td>\n",
       "      <td>0</td>\n",
       "      <td>1</td>\n",
       "      <td>1</td>\n",
       "      <td>3</td>\n",
       "      <td>2</td>\n",
       "    </tr>\n",
       "  </tbody>\n",
       "</table>\n",
       "</div>"
      ],
      "text/plain": [
       "            is_baseline  is_chest  is_id  is_place  is_serial  is_target\n",
       "subject_id                                                              \n",
       "wv001                51        47     25        13         34         20\n",
       "wv002                15        16      6         7         20          7\n",
       "wv003                 0         5      0         1          1          0\n",
       "wv004                29        40     19         6         40         14\n",
       "wv005                 7         0      1         1          3          2"
      ]
     },
     "execution_count": 24,
     "metadata": {},
     "output_type": "execute_result"
    }
   ],
   "source": [
    "# Check the number of detected cells per subject\n",
    "pd.pivot_table(all_results, ['is_' + el for el in analyses], index='subject_id', aggfunc=np.sum)"
   ]
  },
  {
   "cell_type": "code",
   "execution_count": 25,
   "id": "cbcdd04a-3810-4a5c-b96e-209cc4afc7f7",
   "metadata": {},
   "outputs": [
    {
     "data": {
      "text/html": [
       "<div>\n",
       "<style scoped>\n",
       "    .dataframe tbody tr th:only-of-type {\n",
       "        vertical-align: middle;\n",
       "    }\n",
       "\n",
       "    .dataframe tbody tr th {\n",
       "        vertical-align: top;\n",
       "    }\n",
       "\n",
       "    .dataframe thead th {\n",
       "        text-align: right;\n",
       "    }\n",
       "</style>\n",
       "<table border=\"1\" class=\"dataframe\">\n",
       "  <thead>\n",
       "    <tr style=\"text-align: right;\">\n",
       "      <th></th>\n",
       "      <th></th>\n",
       "      <th>is_baseline</th>\n",
       "      <th>is_chest</th>\n",
       "      <th>is_id</th>\n",
       "      <th>is_place</th>\n",
       "      <th>is_serial</th>\n",
       "      <th>is_target</th>\n",
       "    </tr>\n",
       "    <tr>\n",
       "      <th>subject_id</th>\n",
       "      <th>session_id</th>\n",
       "      <th></th>\n",
       "      <th></th>\n",
       "      <th></th>\n",
       "      <th></th>\n",
       "      <th></th>\n",
       "      <th></th>\n",
       "    </tr>\n",
       "  </thead>\n",
       "  <tbody>\n",
       "    <tr>\n",
       "      <th rowspan=\"4\" valign=\"top\">wv001</th>\n",
       "      <th>THF_wv001_session_0</th>\n",
       "      <td>15</td>\n",
       "      <td>15</td>\n",
       "      <td>10</td>\n",
       "      <td>7</td>\n",
       "      <td>5</td>\n",
       "      <td>11</td>\n",
       "    </tr>\n",
       "    <tr>\n",
       "      <th>THF_wv001_session_2</th>\n",
       "      <td>17</td>\n",
       "      <td>12</td>\n",
       "      <td>5</td>\n",
       "      <td>1</td>\n",
       "      <td>8</td>\n",
       "      <td>2</td>\n",
       "    </tr>\n",
       "    <tr>\n",
       "      <th>THF_wv001_session_3</th>\n",
       "      <td>11</td>\n",
       "      <td>12</td>\n",
       "      <td>9</td>\n",
       "      <td>2</td>\n",
       "      <td>8</td>\n",
       "      <td>5</td>\n",
       "    </tr>\n",
       "    <tr>\n",
       "      <th>THF_wv001_session_4</th>\n",
       "      <td>8</td>\n",
       "      <td>8</td>\n",
       "      <td>1</td>\n",
       "      <td>3</td>\n",
       "      <td>13</td>\n",
       "      <td>2</td>\n",
       "    </tr>\n",
       "    <tr>\n",
       "      <th rowspan=\"2\" valign=\"top\">wv002</th>\n",
       "      <th>THF_wv002_session_0</th>\n",
       "      <td>9</td>\n",
       "      <td>13</td>\n",
       "      <td>3</td>\n",
       "      <td>6</td>\n",
       "      <td>13</td>\n",
       "      <td>3</td>\n",
       "    </tr>\n",
       "    <tr>\n",
       "      <th>THF_wv002_session_1</th>\n",
       "      <td>6</td>\n",
       "      <td>3</td>\n",
       "      <td>3</td>\n",
       "      <td>1</td>\n",
       "      <td>7</td>\n",
       "      <td>4</td>\n",
       "    </tr>\n",
       "    <tr>\n",
       "      <th>wv003</th>\n",
       "      <th>THF_wv003_session_0</th>\n",
       "      <td>0</td>\n",
       "      <td>5</td>\n",
       "      <td>0</td>\n",
       "      <td>1</td>\n",
       "      <td>1</td>\n",
       "      <td>0</td>\n",
       "    </tr>\n",
       "    <tr>\n",
       "      <th rowspan=\"2\" valign=\"top\">wv004</th>\n",
       "      <th>THF_wv004_session_0</th>\n",
       "      <td>17</td>\n",
       "      <td>26</td>\n",
       "      <td>11</td>\n",
       "      <td>4</td>\n",
       "      <td>16</td>\n",
       "      <td>5</td>\n",
       "    </tr>\n",
       "    <tr>\n",
       "      <th>THF_wv004_session_1</th>\n",
       "      <td>12</td>\n",
       "      <td>14</td>\n",
       "      <td>8</td>\n",
       "      <td>2</td>\n",
       "      <td>24</td>\n",
       "      <td>9</td>\n",
       "    </tr>\n",
       "    <tr>\n",
       "      <th>wv005</th>\n",
       "      <th>THF_wv005_session_0</th>\n",
       "      <td>7</td>\n",
       "      <td>0</td>\n",
       "      <td>1</td>\n",
       "      <td>1</td>\n",
       "      <td>3</td>\n",
       "      <td>2</td>\n",
       "    </tr>\n",
       "  </tbody>\n",
       "</table>\n",
       "</div>"
      ],
      "text/plain": [
       "                                is_baseline  is_chest  is_id  is_place  \\\n",
       "subject_id session_id                                                    \n",
       "wv001      THF_wv001_session_0           15        15     10         7   \n",
       "           THF_wv001_session_2           17        12      5         1   \n",
       "           THF_wv001_session_3           11        12      9         2   \n",
       "           THF_wv001_session_4            8         8      1         3   \n",
       "wv002      THF_wv002_session_0            9        13      3         6   \n",
       "           THF_wv002_session_1            6         3      3         1   \n",
       "wv003      THF_wv003_session_0            0         5      0         1   \n",
       "wv004      THF_wv004_session_0           17        26     11         4   \n",
       "           THF_wv004_session_1           12        14      8         2   \n",
       "wv005      THF_wv005_session_0            7         0      1         1   \n",
       "\n",
       "                                is_serial  is_target  \n",
       "subject_id session_id                                 \n",
       "wv001      THF_wv001_session_0          5         11  \n",
       "           THF_wv001_session_2          8          2  \n",
       "           THF_wv001_session_3          8          5  \n",
       "           THF_wv001_session_4         13          2  \n",
       "wv002      THF_wv002_session_0         13          3  \n",
       "           THF_wv002_session_1          7          4  \n",
       "wv003      THF_wv003_session_0          1          0  \n",
       "wv004      THF_wv004_session_0         16          5  \n",
       "           THF_wv004_session_1         24          9  \n",
       "wv005      THF_wv005_session_0          3          2  "
      ]
     },
     "execution_count": 25,
     "metadata": {},
     "output_type": "execute_result"
    }
   ],
   "source": [
    "# Check the number of detected cells per session\n",
    "pd.pivot_table(all_results, ['is_' + el for el in analyses], index=['subject_id', 'session_id'], aggfunc=np.sum)"
   ]
  },
  {
   "cell_type": "markdown",
   "id": "94658f99-7a9a-42ea-a4cb-d316565845df",
   "metadata": {},
   "source": [
    "## Results by Area\n",
    "\n",
    "Analyze the results split up by area\n",
    "\n",
    "Anatomical organization:\n",
    "- 'region': a brain region, collapsing across left & right\n",
    "- 'location': a specific location, split up by left & right"
   ]
  },
  {
   "cell_type": "code",
   "execution_count": 26,
   "id": "1f9f8707-efb4-4334-b9c9-e106215de305",
   "metadata": {},
   "outputs": [],
   "source": [
    "# Collect different area organizations together\n",
    "places = {'region' : set(all_results['region']),\n",
    "          'location' : set(all_results['location'])}"
   ]
  },
  {
   "cell_type": "code",
   "execution_count": 27,
   "id": "0545854e-72d0-425c-8f11-1876bd68abb1",
   "metadata": {},
   "outputs": [],
   "source": [
    "# Define which area organization to use\n",
    "place = 'region'"
   ]
  },
  {
   "cell_type": "code",
   "execution_count": 28,
   "id": "cf6c9978-3484-44e3-8291-4387cc3bf2b9",
   "metadata": {},
   "outputs": [],
   "source": [
    "#\n",
    "region_results = {}\n",
    "for analysis in analyses:\n",
    "\n",
    "    region_results[analysis] = {}\n",
    "    \n",
    "    region_results[analysis]['all'] = {}\n",
    "    region_results[analysis]['all']['count'] = results[analysis] \n",
    "    region_results[analysis]['all']['percent'] = results[analysis] / n_units\n",
    "\n",
    "    for cplace in places[place]:\n",
    "        temp = all_results[all_results[place] == cplace]\n",
    "        \n",
    "        region_results[analysis][cplace] = {}\n",
    "        region_results[analysis][cplace]['count'] = sum(temp['is_' + analysis])\n",
    "        region_results[analysis][cplace]['percent'] = sum(temp['is_' + analysis]) / len(temp)"
   ]
  },
  {
   "cell_type": "code",
   "execution_count": 29,
   "id": "5fc449f7-8422-41b8-a784-7dbd68db8754",
   "metadata": {},
   "outputs": [
    {
     "data": {
      "image/png": "[encoded data removed]",
      "text/plain": [
       "<Figure size 1200x700 with 6 Axes>"
      ]
     },
     "metadata": {},
     "output_type": "display_data"
    }
   ],
   "source": [
    "axes = make_axes(len(analyses), 3, hspace=0.35, wspace=0.35, figsize=(12, 7))\n",
    "for analysis, ax in zip(analyses, axes):\n",
    "    labels = list(region_results[analysis].keys())\n",
    "    values = [region_results[analysis][label]['percent'] for label in labels]\n",
    "    plot_bar(values, labels, title=analysis, ylim=[0, 0.30], ax=ax)\n",
    "    add_hlines(0.05, linestyle='--', color='black', ax=ax)"
   ]
  },
  {
   "cell_type": "code",
   "execution_count": 30,
   "id": "f43d6c5e-2552-426f-9004-2377e5f6908a",
   "metadata": {},
   "outputs": [],
   "source": [
    "region_counts = all_results['region'].value_counts().to_dict()\n",
    "region_counts['all'] = n_units"
   ]
  },
  {
   "cell_type": "code",
   "execution_count": 32,
   "id": "f8e38ad8-30df-496a-b8c6-febb4d3d145c",
   "metadata": {},
   "outputs": [],
   "source": [
    "for canalysis, cregion_dict in region_results.items():\n",
    "    for cregion, cdict in cregion_dict.items():\n",
    "        region_results[canalysis][cregion]['p_value'] = \\\n",
    "            binom_test(cdict['count'], region_counts[cregion], alpha_level, binom_sidedness)"
   ]
  },
  {
   "cell_type": "code",
   "execution_count": 33,
   "id": "9bbfa982-f795-41dd-8ea5-3bf564aa8b16",
   "metadata": {},
   "outputs": [],
   "source": [
    "# Check full set of results\n",
    "#region_results"
   ]
  },
  {
   "cell_type": "markdown",
   "id": "4245d408-a3cd-4bba-96f3-0b765c8fa41c",
   "metadata": {},
   "source": [
    "## Within Task Overlap\n",
    "\n",
    "Check overlap of having multiple labels within each task."
   ]
  },
  {
   "cell_type": "markdown",
   "id": "6ebe689c-5c53-43ea-90b1-d4d08264000c",
   "metadata": {},
   "source": [
    "### Treasure Hunt\n",
    "\n",
    "Compute the overlap of labels within TH task"
   ]
  },
  {
   "cell_type": "code",
   "execution_count": 34,
   "id": "ee2434f0-e33b-49a2-9b7d-5edbb72b2f96",
   "metadata": {},
   "outputs": [],
   "source": [
    "# Compute overlap between labels within TH task\n",
    "over = np.zeros([len(th_analyses), len(th_analyses)])\n",
    "for i1, acol1 in enumerate(th_analyses):\n",
    "    a1res = set(all_results[all_results['is_' + acol1]].wvID.values)\n",
    "    \n",
    "    for i2, acol2 in enumerate(th_analyses):\n",
    "        a2res = set(all_results[all_results['is_' + acol2]].wvID.values)\n",
    "        \n",
    "        over[i1, i2] = len(a1res.intersection(a2res)) / len(a1res)"
   ]
  },
  {
   "cell_type": "code",
   "execution_count": 35,
   "id": "40b1c360-c1c5-4260-ae86-bf4e64255952",
   "metadata": {},
   "outputs": [
    {
     "data": {
      "image/png": "[encoded data removed]",
      "text/plain": [
       "<Figure size 640x480 with 2 Axes>"
      ]
     },
     "metadata": {},
     "output_type": "display_data"
    }
   ],
   "source": [
    "# Plot the overlap between TH labels\n",
    "ax = sns.heatmap(over, xticklabels=th_analyses, yticklabels=th_analyses)\n",
    "ax.invert_yaxis()"
   ]
  },
  {
   "cell_type": "markdown",
   "id": "d9767c02-bb58-4a41-973a-769261968f6a",
   "metadata": {},
   "source": [
    "### nBack"
   ]
  },
  {
   "cell_type": "code",
   "execution_count": 36,
   "id": "89c73567-857f-4b63-a7eb-8d554ba758ad",
   "metadata": {},
   "outputs": [
    {
     "name": "stdout",
     "output_type": "stream",
     "text": [
      "1B overlap: 0.1765%\n"
     ]
    }
   ],
   "source": [
    "# Check overlap of baseline and ID within nback\n",
    "a1_nb = set(all_results[all_results['is_baseline']].wvID.values)\n",
    "a2_nb = set(all_results[all_results['is_id']].wvID.values)\n",
    "nb_over = len(a1_nb.intersection(a2_nb)) / len(a1_nb)\n",
    "print('1B overlap: {:1.4f}%'.format(nb_over))"
   ]
  },
  {
   "cell_type": "markdown",
   "id": "9160cef9-0dc6-489d-8f03-73f1fa992bd3",
   "metadata": {},
   "source": [
    "# Compute Between Task Overlap"
   ]
  },
  {
   "cell_type": "code",
   "execution_count": 37,
   "id": "c9164830-e1fa-4620-966f-07f0e36d4b8a",
   "metadata": {},
   "outputs": [
    {
     "name": "stdout",
     "output_type": "stream",
     "text": [
      "\n",
      " face  -  baseline \n",
      "\n",
      "\t #NB \t #TH \t #Over \t %Over \t\t pval \t\texp\n",
      "chest \t 102 \t 108 \t 31 \t 30.39% \t 0.0003 \t 18\n",
      "place \t 102 \t 28 \t 4 \t  3.92% \t 0.7180 \t  5\n",
      "target \t 102 \t 43 \t 7 \t  6.86% \t 0.9279 \t  7\n",
      "serial \t 102 \t 98 \t 18 \t 17.65% \t 0.6453 \t 16\n",
      "\n",
      " face  -  id \n",
      "\n",
      "\t #NB \t #TH \t #Over \t %Over \t\t pval \t\texp\n",
      "chest \t 51 \t 108 \t 14 \t 27.45% \t 0.0586 \t  9\n",
      "place \t 51 \t 28 \t 3 \t  5.88% \t 0.6494 \t  2\n",
      "target \t 51 \t 43 \t 2 \t  3.92% \t 0.3591 \t  4\n",
      "serial \t 51 \t 98 \t 9 \t 17.65% \t 0.7564 \t  8\n"
     ]
    }
   ],
   "source": [
    "for nb_analysis in nb_analyses:\n",
    "    \n",
    "    print('\\n', stimulus_version, ' - ', nb_analysis, '\\n')\n",
    "    print('\\t {} \\t {} \\t {} \\t {} \\t\\t {} \\t\\t{}'.format('#NB', '#TH', '#Over', '%Over', 'pval', 'exp'))\n",
    "    \n",
    "    nb_data = all_results[all_results['is_' + nb_analysis]].wvID.values\n",
    "\n",
    "    for analysis in th_analyses:\n",
    "\n",
    "        th_data = all_results[all_results['is_' + analysis]].wvID.values\n",
    "        n_th = len(th_data)\n",
    "        n_nb = len(nb_data)\n",
    "\n",
    "        inter = len(set(th_data).intersection(set(nb_data)))\n",
    "\n",
    "        arr = np.array([[inter, n_th-inter],\n",
    "                        [n_nb-inter, n_units-n_th-n_nb+inter]])\n",
    "        tstat, pval, dof, exp = chi2_contingency(arr, False)\n",
    "\n",
    "        print('{} \\t {} \\t {} \\t {} \\t {:5.2f}% \\t {:5.4f} \\t {:2d}'.format(\\\n",
    "            analysis, n_nb, n_th, inter, (inter / n_nb) * 100, pval, round(exp[0][0])))"
   ]
  }
 ],
 "metadata": {
  "kernelspec": {
   "display_name": "thproj",
   "language": "python",
   "name": "thproj"
  },
  "language_info": {
   "codemirror_mode": {
    "name": "ipython",
    "version": 3
   },
   "file_extension": ".py",
   "mimetype": "text/x-python",
   "name": "python",
   "nbconvert_exporter": "python",
   "pygments_lexer": "ipython3",
   "version": "3.8.13"
  }
 },
 "nbformat": 4,
 "nbformat_minor": 5
}
