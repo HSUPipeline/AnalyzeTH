{
 "cells": [
  {
   "cell_type": "markdown",
   "id": "31d4b18b",
   "metadata": {},
   "source": [
    "# Quality Control Reports\n",
    "\n",
    "Create a report quality checking an individual unit.\n",
    "Unit exclusion criteria:\n",
    "* firing rate < 0.15 Hz\n",
    "* presence ration < 50%\n",
    "* any bad unit identified from visual inspection"
   ]
  },
  {
   "cell_type": "code",
   "execution_count": 1,
   "id": "84f3da1e",
   "metadata": {},
   "outputs": [],
   "source": [
    "%config Completer.use_jedi = False"
   ]
  },
  {
   "cell_type": "code",
   "execution_count": 2,
   "id": "72b02b0b",
   "metadata": {},
   "outputs": [],
   "source": [
    "import warnings\n",
    "warnings.filterwarnings(\"ignore\")\n",
    "\n",
    "import numpy as np\n",
    "import matplotlib.pyplot as plt\n",
    "\n",
    "from convnwb.io import load_nwbfile\n",
    "from convnwb.io import get_files, save_json\n",
    "\n",
    "from spiketools.measures.trials import compute_segment_frs\n",
    "from spiketools.measures.spikes import compute_firing_rate\n",
    "from spiketools.utils.extract import get_range\n",
    "from spiketools.utils.epoch import epoch_spikes_by_range, epoch_spikes_by_event\n",
    "from spiketools.plts.utils import save_figure"
   ]
  },
  {
   "cell_type": "code",
   "execution_count": 3,
   "id": "a2260b44",
   "metadata": {},
   "outputs": [],
   "source": [
    "import sys\n",
    "sys.path.append('../code')\n",
    "from plts import *"
   ]
  },
  {
   "cell_type": "code",
   "execution_count": 4,
   "id": "7e433455",
   "metadata": {},
   "outputs": [],
   "source": [
    "import seaborn as sns\n",
    "sns.set_context('talk')"
   ]
  },
  {
   "cell_type": "markdown",
   "id": "9742c45f",
   "metadata": {},
   "source": [
    "## Settings"
   ]
  },
  {
   "cell_type": "code",
   "execution_count": 5,
   "id": "badce73f",
   "metadata": {},
   "outputs": [],
   "source": [
    "# Define the base data folder\n",
    "data_folder = '/Users/clairehan/Documents/Data/JacobsLab/WVTH/nwb'"
   ]
  },
  {
   "cell_type": "code",
   "execution_count": 6,
   "id": "1ebcc558",
   "metadata": {},
   "outputs": [],
   "source": [
    "# Define session information\n",
    "session = {\n",
    "    'experiment' : 'THO',\n",
    "    'subject' : 'wv001',\n",
    "    'session' : 2\n",
    "}"
   ]
  },
  {
   "cell_type": "code",
   "execution_count": 7,
   "id": "097dd0b4",
   "metadata": {},
   "outputs": [],
   "source": [
    "# Set which example unit to extract\n",
    "uind = 0"
   ]
  },
  {
   "cell_type": "markdown",
   "id": "cc005716",
   "metadata": {},
   "source": [
    "## Load data"
   ]
  },
  {
   "cell_type": "code",
   "execution_count": 8,
   "id": "d4bb1fcf",
   "metadata": {
    "scrolled": true
   },
   "outputs": [],
   "source": [
    "# Get the list of NWB files\n",
    "nwbfiles = get_files(data_folder)"
   ]
  },
  {
   "cell_type": "code",
   "execution_count": 9,
   "id": "7644f787",
   "metadata": {},
   "outputs": [],
   "source": [
    "# Load example NWB file\n",
    "nwbfile = load_nwbfile(session, data_folder)"
   ]
  },
  {
   "cell_type": "code",
   "execution_count": 10,
   "id": "5ad199c6",
   "metadata": {},
   "outputs": [],
   "source": [
    "# Get the trail information\n",
    "nav_starts = nwbfile.trials.navigation_start[:]\n",
    "nav_stops = nwbfile.trials.navigation_stop[:]\n",
    "chest_openings = nwbfile.trials['chest_opening_time'][:]\n",
    "openings = nwbfile.trials.chest_opening_time[:]"
   ]
  },
  {
   "cell_type": "code",
   "execution_count": 11,
   "id": "1a97e8e6",
   "metadata": {},
   "outputs": [],
   "source": [
    "# Reset nav_stops per trial\n",
    "nav_stops_trial = [nav_stops[ind] - nav_starts[ind] for ind in range(len(nav_stops))]"
   ]
  },
  {
   "cell_type": "code",
   "execution_count": 12,
   "id": "53047718",
   "metadata": {},
   "outputs": [],
   "source": [
    "# Get the spikes\n",
    "spikes = nwbfile.units.get_unit_spike_times(uind)"
   ]
  },
  {
   "cell_type": "markdown",
   "id": "88bea7b9",
   "metadata": {},
   "source": [
    "## Example unit"
   ]
  },
  {
   "cell_type": "code",
   "execution_count": 13,
   "id": "2c674d1a",
   "metadata": {},
   "outputs": [],
   "source": [
    "# Epoch & reset spikes within each navigation period per trial\n",
    "name = nwbfile.session_id + '_U' + str(uind).zfill(2)\n",
    "spikes_trial = epoch_spikes_by_range(spikes, nav_starts, nav_stops, reset=True)"
   ]
  },
  {
   "cell_type": "code",
   "execution_count": 14,
   "id": "9af0681d",
   "metadata": {},
   "outputs": [],
   "source": [
    "# Compute the firing rate per trial\n",
    "nav_spikes = []\n",
    "frs = np.zeros(len(spikes_trial))\n",
    "for ind in range(len(spikes_trial)): \n",
    "    t_spikes = get_range(spikes, nav_starts[ind], nav_stops[ind])\n",
    "    nav_spikes.append(t_spikes)\n",
    "    nav_spikes_all = np.concatenate(nav_spikes).ravel()\n",
    "    \n",
    "    frs[ind] = compute_firing_rate(spikes_trial[ind])"
   ]
  },
  {
   "cell_type": "code",
   "execution_count": 15,
   "id": "5d40a65e",
   "metadata": {},
   "outputs": [],
   "source": [
    "# Add hlines for each block of trials\n",
    "if (len(nav_starts) > 16) and (len(nav_starts) <= 24):\n",
    "    hlines = [7.5, 15.5]\n",
    "elif len(nav_starts) > 24:\n",
    "    hlines = [7.5, 15.5, 23.5]"
   ]
  },
  {
   "cell_type": "code",
   "execution_count": 16,
   "id": "a7878318",
   "metadata": {},
   "outputs": [],
   "source": [
    "# def plot_spikes_trial(spikes, spikes_trial, nav_stops_trial, nav_spikes_all, nav_starts, \n",
    "#                       nav_stops, openings, frs, hlines, name, ax=None, **plt_kwargs):\n",
    "#     \"\"\"Plot the spike raster for whole session, navigation periods and individual trials.\"\"\"\n",
    "    \n",
    "#     fig = plt.figure(figsize=(18,20))\n",
    "#     gs = gridspec.GridSpec(3, 2, width_ratios=[5, 1]) \n",
    "    \n",
    "#     ax0 = plt.subplot(gs[2,0])\n",
    "#     ax1 = plt.subplot(gs[2,1], sharey = ax0)\n",
    "#     ax2 = plt.subplot(gs[0,:])\n",
    "#     ax3 = plt.subplot(gs[1,:])\n",
    "#     plt.subplots_adjust(wspace=0.1, hspace=0.2)\n",
    "\n",
    "#     ypos = (np.arange(len(spikes_trial))).tolist()\n",
    "#     plot_rasters(spikes_trial, show_axis=True, ax=ax0, xlabel='Spike times', \n",
    "#                  ylabel=\"Trial number\", yticks=range(0,len(spikes_trial)))\n",
    "#     add_box_shades(nav_stops_trial, np.arange(len(spikes_trial)), x_range=0.1, y_range=0.5, ax=ax0)\n",
    "#     add_hlines(hlines, ax=ax0, color='green', alpha=0.4)\n",
    "    \n",
    "#     plot_barh(frs, ypos, ax=ax1, xlabel=\"FR\")\n",
    "\n",
    "#     plot_rasters(spikes, ax=ax2, show_axis=True, ylabel='spikes from whole session', yticks=[],\n",
    "#                  title=create_heat_title('{}'.format(name), frs))\n",
    "#     add_vlines(nav_stops, ax=ax2, color='purple') # navigation starts\n",
    "#     add_vlines(nav_starts, ax=ax2, color='orange')# navigation stops \n",
    "\n",
    "#     plot_rasters(nav_spikes_all, vline=openings, show_axis=True, ax=ax3, \n",
    "#                  ylabel='Spikes from navigation periods', yticks=[])\n",
    "    \n",
    "#     drop_spines(ax0, ['top', 'right'])\n",
    "#     drop_spines(ax1, ['top', 'right'])\n",
    "#     drop_spines(ax2, ['top', 'right'])\n",
    "#     drop_spines(ax3, ['top', 'right'])\n",
    "\n",
    "#     ax1.tick_params(left=False)\n",
    "#     ax2.tick_params(left=False)\n",
    "#     ax3.tick_params(left=False)"
   ]
  },
  {
   "cell_type": "code",
   "execution_count": 27,
   "id": "7a042e5e",
   "metadata": {},
   "outputs": [],
   "source": [
    "def plot_spikes_trial(spikes, tspikes, nav_spikes, nav_starts, nav_stops, tnav_stops, \n",
    "                      openings, frs, title, hlines=None, **plt_kwargs):\n",
    "    \"\"\"Plot the spike raster for whole session, navigation periods and individual trials.\"\"\"\n",
    "    \n",
    "    fig = plt.figure(figsize=(18,20))\n",
    "    gs = gridspec.GridSpec(3, 2, width_ratios=[5, 1]) \n",
    "    \n",
    "    ax0 = plt.subplot(gs[2,0])\n",
    "    ax1 = plt.subplot(gs[2,1], sharey = ax0)\n",
    "    ax2 = plt.subplot(gs[0,:])\n",
    "    ax3 = plt.subplot(gs[1,:])\n",
    "    plt.subplots_adjust(wspace=0.1, hspace=0.2)\n",
    "\n",
    "    ypos = (np.arange(len(tspikes))).tolist()\n",
    "    plot_rasters(tspikes, show_axis=True, ax=ax0, xlabel='Spike times', \n",
    "                 ylabel=\"Trial number\", yticks=range(0,len(tspikes)))\n",
    "    add_box_shades(tnav_stops, np.arange(len(tspikes)), x_range=0.1, y_range=0.5, ax=ax0)\n",
    "    \n",
    "    plot_barh(frs, ypos, ax=ax1, xlabel=\"FR\")\n",
    "    plot_rasters(spikes, ax=ax2, show_axis=True, ylabel='spikes from whole session', yticks=[],\n",
    "                 title=create_heat_title('{}'.format(name), frs))\n",
    "    add_vlines(nav_stops, ax=ax2, color='purple') # navigation starts\n",
    "    add_vlines(nav_starts, ax=ax2, color='orange')# navigation stops \n",
    "\n",
    "    plot_rasters(nav_spikes, vline=openings, show_axis=True, ax=ax3, \n",
    "                 ylabel='Spikes from navigation periods', yticks=[])\n",
    "    \n",
    "    if hlines: \n",
    "        add_hlines(hlines, ax=ax0, color='green', alpha=0.4)\n",
    "    \n",
    "    drop_spines(ax0, ['top', 'right'])\n",
    "    drop_spines(ax1, ['top', 'right'])\n",
    "    drop_spines(ax2, ['top', 'right'])\n",
    "    drop_spines(ax3, ['top', 'right'])"
   ]
  },
  {
   "cell_type": "code",
   "execution_count": 29,
   "id": "821df900",
   "metadata": {
    "scrolled": false
   },
   "outputs": [
    {
     "data": {
      "image/png": "[encoded data removed]",
      "text/plain": [
       "<Figure size 1296x1440 with 4 Axes>"
      ]
     },
     "metadata": {
      "needs_background": "light"
     },
     "output_type": "display_data"
    }
   ],
   "source": [
    "# Plot the unit report for one example unit \n",
    "plot_spikes_trial(spikes, spikes_trial, nav_spikes_all, nav_starts, nav_stops, \n",
    "                  nav_stops_trial, openings, frs, name, hlines)"
   ]
  },
  {
   "cell_type": "markdown",
   "id": "c1bf0e69",
   "metadata": {},
   "source": [
    "## All units"
   ]
  },
  {
   "cell_type": "code",
   "execution_count": null,
   "id": "27309276",
   "metadata": {},
   "outputs": [],
   "source": [
    "for nwbfile in nwbfiles:\n",
    "    nwbfile, io = load_nwbfile(nwbfile, data_folder, return_io=True)\n",
    "    \n",
    "    # Check the number of units & keep indices\n",
    "    n_units = len(nwbfile.units)\n",
    "    keep_inds = np.where(nwbfile.units.keep[:])[0]\n",
    "    \n",
    "    # Drop sessions with 8 or fewer trials   \n",
    "    n_trials = len(nwbfile.trials)\n",
    "    if n_trials > 8: \n",
    "        nav_starts = nwbfile.trials.navigation_start[:]\n",
    "        nav_stops = nwbfile.trials.navigation_stop[:]\n",
    "        chest_openings = nwbfile.trials['chest_opening_time'][:]\n",
    "        openings = nwbfile.trials.chest_opening_time[:]\n",
    "\n",
    "        # Reset nav_stops per trial\n",
    "        nav_stops_trial = [nav_stops[ind] - nav_starts[ind] for ind in range(len(nav_stops))]\n",
    "\n",
    "        # Add hlines for each block of trials\n",
    "        if (len(nav_starts) > 16) and (len(nav_starts) <= 24):\n",
    "            hlines = [7.5, 15.5]\n",
    "        elif len(nav_starts) > 24:\n",
    "            hlines = [7.5, 15.5, 23.5]\n",
    "\n",
    "        for index in keep_inds:\n",
    "            name = nwbfile.session_id + '_U' + str(index).zfill(2)\n",
    "            spikes = nwbfile.units.get_unit_spike_times(index)\n",
    "            spikes_trial = epoch_spikes_by_range(spikes, nav_starts, nav_stops, reset=True)\n",
    "            tc_spikes = epoch_spikes_by_range(spikes, nav_starts, nav_stops, reset=False)\n",
    "\n",
    "            # Compute the overall firing rate and apply the 0.5 Hz threshold \n",
    "            fr_overall = compute_firing_rate(spikes)\n",
    "            if fr_overall > 0.5:\n",
    "\n",
    "                # Compute the firing rate per trial\n",
    "                nav_spikes = []\n",
    "                frs = np.zeros(len(spikes_trial))\n",
    "                for ind in range(len(spikes_trial)): \n",
    "                    t_spikes = get_range(spikes, nav_starts[ind], nav_stops[ind])\n",
    "                    nav_spikes.append(t_spikes)\n",
    "                    nav_spikes_all = np.concatenate(nav_spikes).ravel()\n",
    "                    if len(tc_spikes[ind]) != 0: \n",
    "                        frs[ind] = compute_firing_rate(tc_spikes[ind], start_time=nav_starts[ind], \n",
    "                                                        stop_time=nav_stops[ind])\n",
    "                    else:\n",
    "                        frs[ind] = 0\n",
    "                        \n",
    "                # Plot the unit report\n",
    "                plot_spikes_trial(spikes, spikes_trial, nav_stops_trial, nav_spikes_all, nav_starts, \n",
    "                                  nav_stops, openings, name, frs, hlines)\n",
    "                save_figure('unit_report_' + name + '.pdf', '../reports/threshold+trial', close=True)"
   ]
  }
 ],
 "metadata": {
  "kernelspec": {
   "display_name": "Python 3 (ipykernel)",
   "language": "python",
   "name": "python3"
  },
  "language_info": {
   "codemirror_mode": {
    "name": "ipython",
    "version": 3
   },
   "file_extension": ".py",
   "mimetype": "text/x-python",
   "name": "python",
   "nbconvert_exporter": "python",
   "pygments_lexer": "ipython3",
   "version": "3.9.12"
  }
 },
 "nbformat": 4,
 "nbformat_minor": 5
}
