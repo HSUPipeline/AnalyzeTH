{
 "cells": [
  {
   "cell_type": "code",
   "execution_count": 1,
   "id": "b6890bc9",
   "metadata": {},
   "outputs": [],
   "source": [
    "from collections import Counter\n",
    "\n",
    "from convnwb.io import load_json, save_json\n",
    "from convnwb.io.utils import get_files"
   ]
  },
  {
   "cell_type": "code",
   "execution_count": null,
   "id": "1b0e2f76",
   "metadata": {},
   "outputs": [],
   "source": []
  },
  {
   "cell_type": "code",
   "execution_count": 2,
   "id": "1a756eed",
   "metadata": {},
   "outputs": [],
   "source": [
    "experiment = 'THO'"
   ]
  },
  {
   "cell_type": "code",
   "execution_count": 3,
   "id": "e6515ccd",
   "metadata": {},
   "outputs": [],
   "source": [
    "file_path = '../results/sessions/' + experiment"
   ]
  },
  {
   "cell_type": "code",
   "execution_count": 4,
   "id": "bf1928e9",
   "metadata": {},
   "outputs": [],
   "source": [
    "files = get_files(file_path, select=experiment)"
   ]
  },
  {
   "cell_type": "code",
   "execution_count": null,
   "id": "48d9a6b7",
   "metadata": {},
   "outputs": [],
   "source": []
  },
  {
   "cell_type": "code",
   "execution_count": 5,
   "id": "1e441f8d",
   "metadata": {},
   "outputs": [],
   "source": [
    "counter = Counter()\n",
    "for file in files:\n",
    "    data = load_json(file, file_path)\n",
    "    counter.update(data)"
   ]
  },
  {
   "cell_type": "code",
   "execution_count": 6,
   "id": "72e671b1",
   "metadata": {},
   "outputs": [],
   "source": [
    "n_unit_channels = counter.pop('n_unit_channels')"
   ]
  },
  {
   "cell_type": "code",
   "execution_count": 7,
   "id": "b98282e0",
   "metadata": {},
   "outputs": [
    {
     "data": {
      "text/plain": [
       "Counter({'LAH': 81, 'LPH': 120, 'LA': 224, 'RA': 60, 'RAH': 36, 'RPH': 26})"
      ]
     },
     "execution_count": 7,
     "metadata": {},
     "output_type": "execute_result"
    }
   ],
   "source": [
    "counter"
   ]
  },
  {
   "cell_type": "code",
   "execution_count": 8,
   "id": "2f723772",
   "metadata": {},
   "outputs": [],
   "source": [
    "save_json(counter, experiment + '_area_counts')"
   ]
  },
  {
   "cell_type": "code",
   "execution_count": null,
   "id": "270d41bc",
   "metadata": {},
   "outputs": [],
   "source": []
  }
 ],
 "metadata": {
  "kernelspec": {
   "display_name": "Python 3 (ipykernel)",
   "language": "python",
   "name": "python3"
  },
  "language_info": {
   "codemirror_mode": {
    "name": "ipython",
    "version": 3
   },
   "file_extension": ".py",
   "mimetype": "text/x-python",
   "name": "python",
   "nbconvert_exporter": "python",
   "pygments_lexer": "ipython3",
   "version": "3.8.11"
  }
 },
 "nbformat": 4,
 "nbformat_minor": 5
}
