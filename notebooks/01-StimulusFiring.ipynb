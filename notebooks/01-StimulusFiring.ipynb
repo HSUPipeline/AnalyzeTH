{
 "cells": [
  {
   "cell_type": "markdown",
   "id": "friendly-caution",
   "metadata": {},
   "source": [
    "# Stimulus Response Analyses\n",
    "\n",
    "This notebook explores stimulus response analysis to stimuli & events of interest. \n",
    "\n",
    "Investigated events:\n",
    "- chest opening, including splitting by full and empty chests\n",
    "- recall confidence prompt, which includes the image of the stimuli\n",
    "- button response\n",
    "\n",
    "#### Cells of interest \n",
    "\n",
    "THF-wv001-session_2:\n",
    "- Neuron 51: maybe cares about full chests (non-specifically)"
   ]
  },
  {
   "cell_type": "code",
   "execution_count": 118,
   "id": "positive-yield",
   "metadata": {},
   "outputs": [],
   "source": [
    "%config Completer.use_jedi = False"
   ]
  },
  {
   "cell_type": "code",
   "execution_count": 119,
   "id": "fluid-march",
   "metadata": {},
   "outputs": [],
   "source": [
    "import numpy as np\n",
    "import matplotlib.pyplot as plt\n",
    "\n",
    "from scipy import stats\n",
    "from matplotlib.lines import Line2D\n",
    "\n",
    "from convnwb.io import load_nwbfile\n",
    "\n",
    "from spiketools.plts.trials import plot_rate_by_time\n",
    "from spiketools.plts.annotate import add_vlines\n",
    "from spiketools.plts.style import drop_spines\n",
    "from spiketools.plts.trials import plot_rasters, create_raster_title\n",
    "from spiketools.plts.utils import make_axes, save_figure, make_grid, get_grid_subplot\n",
    "from spiketools.utils.epoch import epoch_spikes_by_event\n",
    "from spiketools.utils.base import select_from_list\n",
    "from spiketools.measures.trials import compute_trial_frs\n",
    "from spiketools.stats.trials import compare_pre_post_activity"
   ]
  },
  {
   "cell_type": "code",
   "execution_count": 120,
   "id": "d75aca74",
   "metadata": {},
   "outputs": [],
   "source": [
    "import seaborn as sns\n",
    "sns.set_context('talk')"
   ]
  },
  {
   "cell_type": "markdown",
   "id": "748e8322",
   "metadata": {},
   "source": [
    "## Settings"
   ]
  },
  {
   "cell_type": "code",
   "execution_count": 121,
   "id": "81d08fb8",
   "metadata": {},
   "outputs": [],
   "source": [
    "# Define the base data folder\n",
    "data_folder = '/Users/clairehan/Documents/Data/JacobsLab/WVTH/nwb'\n",
    "#data_folder = '/data12/jacobs_lab/WVTH/nwb'"
   ]
  },
  {
   "cell_type": "code",
   "execution_count": 122,
   "id": "a9b3d4e8",
   "metadata": {},
   "outputs": [],
   "source": [
    "# Define session information\n",
    "session = {\n",
    "    'experiment' : 'THO',\n",
    "    'subject' : 'wv004',\n",
    "    'session' : 0\n",
    "}"
   ]
  },
  {
   "cell_type": "code",
   "execution_count": 123,
   "id": "ab196c2e",
   "metadata": {},
   "outputs": [],
   "source": [
    "# Set a unit of interest to select\n",
    "uind = 60"
   ]
  },
  {
   "cell_type": "code",
   "execution_count": 124,
   "id": "067697af",
   "metadata": {},
   "outputs": [],
   "source": [
    "# Set the time range to analyze, and pre & post trial windows (in seconds)\n",
    "trial_range = [-1, 1]\n",
    "pre_window = [-1, 0]\n",
    "post_window = [0, 1]"
   ]
  },
  {
   "cell_type": "markdown",
   "id": "signal-ladder",
   "metadata": {},
   "source": [
    "## Load Data"
   ]
  },
  {
   "cell_type": "code",
   "execution_count": 125,
   "id": "b9bd1b47",
   "metadata": {},
   "outputs": [],
   "source": [
    "# Load NWB file\n",
    "nwbfile = load_nwbfile(session, data_folder)"
   ]
  },
  {
   "cell_type": "code",
   "execution_count": 126,
   "id": "2e334766",
   "metadata": {},
   "outputs": [],
   "source": [
    "# Get the chest trial indices & stimuli information\n",
    "chest_trials = nwbfile.trials.chest_trials[:]"
   ]
  },
  {
   "cell_type": "code",
   "execution_count": 127,
   "id": "d0598ebd",
   "metadata": {},
   "outputs": [
    {
     "name": "stdout",
     "output_type": "stream",
     "text": [
      "Number of units: 138\n",
      "Number to keep:  90\n"
     ]
    }
   ],
   "source": [
    "# Check the number of units & keep indices\n",
    "n_units = len(nwbfile.units)\n",
    "keep_inds = np.where(nwbfile.units.keep[:])[0]\n",
    "n_keep = len(keep_inds)\n",
    "print('Number of units: {}'.format(n_units))\n",
    "print('Number to keep:  {}'.format(n_keep))"
   ]
  },
  {
   "cell_type": "code",
   "execution_count": 128,
   "id": "1fd5e80a",
   "metadata": {},
   "outputs": [],
   "source": [
    "# Get spikes for unit of interest\n",
    "spikes = nwbfile.units.get_unit_spike_times(uind)"
   ]
  },
  {
   "cell_type": "markdown",
   "id": "be4b4ebb",
   "metadata": {},
   "source": [
    "## Chest Opening"
   ]
  },
  {
   "cell_type": "code",
   "execution_count": 129,
   "id": "53224c09",
   "metadata": {},
   "outputs": [],
   "source": [
    "# Get times of chest opening\n",
    "openings = nwbfile.trials.chest_opening_time[:]"
   ]
  },
  {
   "cell_type": "code",
   "execution_count": 130,
   "id": "b4557ae9",
   "metadata": {},
   "outputs": [
    {
     "name": "stdout",
     "output_type": "stream",
     "text": [
      "Number of chests: 128\n"
     ]
    }
   ],
   "source": [
    "# Check the number of chests\n",
    "n_chests = len(openings)\n",
    "print('Number of chests: {}'.format(n_chests))"
   ]
  },
  {
   "cell_type": "code",
   "execution_count": 131,
   "id": "21a06ccd",
   "metadata": {},
   "outputs": [],
   "source": [
    "# Gather neural data around trials of interest\n",
    "all_trials_chest = epoch_spikes_by_event(spikes, openings, trial_range)"
   ]
  },
  {
   "cell_type": "code",
   "execution_count": 132,
   "id": "437679ba",
   "metadata": {},
   "outputs": [],
   "source": [
    "# Compute averages & statistical comparison of pre / post window firing rates\n",
    "avg_pre, avg_post, t_val, p_val = compare_pre_post_activity(all_trials_chest, pre_window, post_window)"
   ]
  },
  {
   "cell_type": "markdown",
   "id": "505dd02a",
   "metadata": {},
   "source": [
    "## Chest Opening - Split by Stimulus Content"
   ]
  },
  {
   "cell_type": "code",
   "execution_count": 133,
   "id": "2faab08a",
   "metadata": {},
   "outputs": [],
   "source": [
    "# Create masks to sub-select full & empty chests\n",
    "full_mask = nwbfile.trials.full_chest.data[:]\n",
    "empty_mask = np.invert(full_mask)"
   ]
  },
  {
   "cell_type": "code",
   "execution_count": 134,
   "id": "b3445e70",
   "metadata": {},
   "outputs": [],
   "source": [
    "# Calculate how many full/empty chests there are\n",
    "n_empty = sum(empty_mask)\n",
    "n_full = sum(full_mask)"
   ]
  },
  {
   "cell_type": "code",
   "execution_count": 135,
   "id": "c712dd77",
   "metadata": {},
   "outputs": [
    {
     "name": "stdout",
     "output_type": "stream",
     "text": [
      "Number of empty chests: \t48\n",
      "Number of full chests: \t\t80\n"
     ]
    }
   ],
   "source": [
    "# Check how many full/empty chests there are\n",
    "print('Number of empty chests: \\t{}'.format(n_empty))\n",
    "print('Number of full chests: \\t\\t{}'.format(n_full))"
   ]
  },
  {
   "cell_type": "code",
   "execution_count": 136,
   "id": "8a082647",
   "metadata": {},
   "outputs": [],
   "source": [
    "# Sub-select full & empty chest trials\n",
    "empty_trials = select_from_list(all_trials_chest, empty_mask)\n",
    "full_trials = select_from_list(all_trials_chest, full_mask)"
   ]
  },
  {
   "cell_type": "code",
   "execution_count": 137,
   "id": "c84ffd08",
   "metadata": {},
   "outputs": [],
   "source": [
    "# Compute averages & statistical comparison of pre / post window firing rates\n",
    "avg_pre_e, avg_post_e, t_val_e, p_val_e = compare_pre_post_activity(empty_trials, pre_window, post_window)\n",
    "avg_pre_f, avg_post_f, t_val_f, p_val_f = compare_pre_post_activity(full_trials, pre_window, post_window)"
   ]
  },
  {
   "cell_type": "code",
   "execution_count": 138,
   "id": "e90b9b36",
   "metadata": {},
   "outputs": [],
   "source": [
    "tbins = np.arange(-1, 1 + 0.1, 0.1)"
   ]
  },
  {
   "cell_type": "code",
   "execution_count": 139,
   "id": "89d4288a",
   "metadata": {},
   "outputs": [],
   "source": [
    "full_frs_trial = compute_trial_frs(full_trials, 0.1, time_range=[-1,1])\n",
    "empty_frs_trial = compute_trial_frs(empty_trials, 0.1, time_range=[-1,1])"
   ]
  },
  {
   "cell_type": "code",
   "execution_count": 140,
   "id": "2fcb4c53",
   "metadata": {
    "scrolled": false
   },
   "outputs": [
    {
     "data": {
      "image/png": "[encoded data removed]",
      "text/plain": [
       "<Figure size 576x360 with 2 Axes>"
      ]
     },
     "metadata": {
      "needs_background": "light"
     },
     "output_type": "display_data"
    }
   ],
   "source": [
    "# Plot a comparison of full and empty trials\n",
    "grid = make_grid(3, 1, figsize=(8, 5), hspace=0)\n",
    "plot_rasters([full_trials, empty_trials], xlim=trial_range, vline=0, ax=get_grid_subplot(grid, slice(0, 2), 0), \n",
    "             colors=['#D95319', 'purple'])\n",
    "plot_rate_by_time(tbins[:-1], [full_frs_trial.mean(0), empty_frs_trial.mean(0)], shade='sem', \n",
    "                  ax=get_grid_subplot(grid, 2, 0), colors=['#D95319', 'purple'])\n",
    "add_vlines(0, ax=get_grid_subplot(grid, 2,0), color='green', lw=2.5, alpha=0.5)\n",
    "get_grid_subplot(grid, 2, 0).set(xlim=[-1,1])\n",
    "get_grid_subplot(grid, 2, 0).set(xlabel='Time (s)', ylabel='FR')\n",
    "\n",
    "legend_elements = [Line2D([0], [0], color='#D95319', lw=2.5, label='Full Chests'),\n",
    "                  Line2D([0], [0], color='purple', lw=2.5, label='Empty Chests')]\n",
    "plt.legend(handles=legend_elements, loc='best', ncol=1, fontsize=12)\n",
    "drop_spines(get_grid_subplot(grid, 2, 0), ['top', 'right'])\n",
    "\n",
    "# save_figure('fig2_chestface'+'.svg','/Users/clairehan/Desktop/paper_fig', close=False, bbox_inches='tight')"
   ]
  },
  {
   "cell_type": "markdown",
   "id": "f58dafec",
   "metadata": {},
   "source": [
    "## Recall Events"
   ]
  },
  {
   "cell_type": "code",
   "execution_count": 23,
   "id": "ee123a19",
   "metadata": {},
   "outputs": [],
   "source": [
    "# Get the response times of interest\n",
    "prompts = nwbfile.trials.confidence_prompt_time[:]\n",
    "responses = nwbfile.trials.response_time[:]"
   ]
  },
  {
   "cell_type": "code",
   "execution_count": 24,
   "id": "5546a083",
   "metadata": {},
   "outputs": [
    {
     "name": "stdout",
     "output_type": "stream",
     "text": [
      "Number of recall events: 60\n"
     ]
    }
   ],
   "source": [
    "# Check the number of recall events\n",
    "assert len(prompts) == len(responses)\n",
    "n_recalls = len(prompts)\n",
    "print('Number of recall events: {}'.format(n_recalls))"
   ]
  },
  {
   "cell_type": "markdown",
   "id": "f1dfa60e",
   "metadata": {},
   "source": [
    "### Response Prompt"
   ]
  },
  {
   "cell_type": "code",
   "execution_count": 25,
   "id": "174c5102",
   "metadata": {},
   "outputs": [],
   "source": [
    "# Gather neural data around trials of interest\n",
    "all_trials_prompt = epoch_spikes_by_event(spikes, prompts, trial_range)"
   ]
  },
  {
   "cell_type": "code",
   "execution_count": 26,
   "id": "ad28d4f3",
   "metadata": {},
   "outputs": [],
   "source": [
    "# Compute averages & statistical comparison of pre / post window firing rates\n",
    "avg_pre, avg_post, t_val, p_val = compare_pre_post_activity(all_trials_prompt, pre_window, post_window)"
   ]
  },
  {
   "cell_type": "code",
   "execution_count": 27,
   "id": "d8f2a766",
   "metadata": {},
   "outputs": [
    {
     "data": {
      "image/png": "[encoded data removed]",
      "text/plain": [
       "<Figure size 720x504 with 1 Axes>"
      ]
     },
     "metadata": {
      "needs_background": "light"
     },
     "output_type": "display_data"
    }
   ],
   "source": [
    "# Plot raster across all response prompts\n",
    "plot_rasters(all_trials_prompt, xlim=trial_range, vline=0, figsize=(10, 7), \n",
    "             title=create_raster_title('All Trials', avg_pre, avg_post, t_val, p_val))"
   ]
  },
  {
   "cell_type": "markdown",
   "id": "c89fc70e",
   "metadata": {},
   "source": [
    "### Response Button Press"
   ]
  },
  {
   "cell_type": "code",
   "execution_count": 28,
   "id": "b0e7858e",
   "metadata": {},
   "outputs": [],
   "source": [
    "# Gather neural data around trials of interest\n",
    "all_trials_response = epoch_spikes_by_event(spikes, responses, trial_range)"
   ]
  },
  {
   "cell_type": "code",
   "execution_count": 29,
   "id": "30bc5594",
   "metadata": {},
   "outputs": [],
   "source": [
    "# Compute averages & statistical comparison of pre / post window firing rates\n",
    "avg_pre, avg_post, t_val, p_val = compare_pre_post_activity(all_trials_response, pre_window, post_window)"
   ]
  },
  {
   "cell_type": "code",
   "execution_count": 30,
   "id": "16d7dac5",
   "metadata": {},
   "outputs": [
    {
     "data": {
      "image/png": "[encoded data removed]",
      "text/plain": [
       "<Figure size 720x504 with 1 Axes>"
      ]
     },
     "metadata": {
      "needs_background": "light"
     },
     "output_type": "display_data"
    }
   ],
   "source": [
    "# Plot raster across all response button presses\n",
    "plot_rasters(all_trials_response, xlim=trial_range, vline=0, figsize=(10, 7), \n",
    "             title=create_raster_title('All Trials', avg_pre, avg_post, t_val, p_val))"
   ]
  },
  {
   "cell_type": "markdown",
   "id": "560a0692",
   "metadata": {},
   "source": [
    "### Check All Cells"
   ]
  },
  {
   "cell_type": "code",
   "execution_count": 31,
   "id": "6f644bd0",
   "metadata": {},
   "outputs": [],
   "source": [
    "# Set which set of events to run\n",
    "event_label = 'openings' # 'openings', 'prompts', 'responses'"
   ]
  },
  {
   "cell_type": "code",
   "execution_count": 32,
   "id": "433686ba",
   "metadata": {
    "scrolled": false
   },
   "outputs": [],
   "source": [
    "# # Run across all cells\n",
    "# events = {'openings' : openings, 'prompts' : prompts, 'responses' : responses}[event_label]\n",
    "# for uind in keep_inds:\n",
    "\n",
    "#     spikes = nwbfile.units.get_unit_spike_times(uind)        \n",
    "#     all_trials = epoch_spikes_by_event(spikes, events, trial_range)\n",
    "    \n",
    "#     avg_pre, avg_post, t_val, p_val = compare_pre_post_activity(all_trials, pre_window, post_window)\n",
    "    \n",
    "#     # Plot all trials together\n",
    "#     plot_rasters(all_trials, xlim=trial_range, vline=0, figsize=(10, 7),\n",
    "#                  title=create_raster_title(f'Neuron #{uind}', avg_pre, avg_post, t_val, p_val))\n",
    "\n",
    "#     # Plot separate rasters for full and empty trials\n",
    "#     if event_label == 'openings':\n",
    "#         axes = make_axes(2, 2, wspace=0.1, figsize=(16, 5),\n",
    "#                          title='Neuron #{}'.format(uind), title_y=1.05)\n",
    "        \n",
    "#         empty_trials = select_from_list(all_trials, empty_mask)\n",
    "#         avg_pre_e, avg_post_e, t_val_e, p_val_e = compare_pre_post_activity(empty_trials, pre_window, post_window)\n",
    "#         plot_rasters(empty_trials, xlim=trial_range, vline=0, ax=axes[0],\n",
    "#                      title=create_raster_title(f'Neuron #{uind}', avg_pre_e, avg_post_e, t_val_e, p_val_e))\n",
    "        \n",
    "#         full_trials = select_from_list(all_trials, full_mask)\n",
    "#         avg_pre_f, avg_post_f, t_val_f, p_val_f = compare_pre_post_activity(full_trials, pre_window, post_window)\n",
    "#         plot_rasters(full_trials, xlim=trial_range, vline=0, ax=axes[1],\n",
    "#                      title=create_raster_title(f'Neuron #{uind}', avg_pre_f, avg_post_f, t_val_f, p_val_f))"
   ]
  }
 ],
 "metadata": {
  "kernelspec": {
   "display_name": "Python 3 (ipykernel)",
   "language": "python",
   "name": "python3"
  },
  "language_info": {
   "codemirror_mode": {
    "name": "ipython",
    "version": 3
   },
   "file_extension": ".py",
   "mimetype": "text/x-python",
   "name": "python",
   "nbconvert_exporter": "python",
   "pygments_lexer": "ipython3",
   "version": "3.9.12"
  }
 },
 "nbformat": 4,
 "nbformat_minor": 5
}
