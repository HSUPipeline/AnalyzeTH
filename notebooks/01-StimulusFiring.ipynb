{
 "cells": [
  {
   "cell_type": "markdown",
   "id": "friendly-caution",
   "metadata": {},
   "source": [
    "# Stimulus Response Analyses\n",
    "\n",
    "Analyze neuron responses to stimuli of interest.\n",
    "\n",
    "Cells of interest:\n",
    "- Neuron 4: seems to have a chest / stimulus it really cares about\n",
    "- Neuron 7: seems to care about full chests (non-specifically)\n",
    "- Neuron 51: maybe cares about full chests (non-specifically)\n",
    "\n",
    "Other time points of interest:\n",
    "- When the face is shown during recall"
   ]
  },
  {
   "cell_type": "code",
   "execution_count": 1,
   "id": "positive-yield",
   "metadata": {},
   "outputs": [],
   "source": [
    "%config Completer.use_jedi = False"
   ]
  },
  {
   "cell_type": "code",
   "execution_count": 27,
   "id": "fluid-march",
   "metadata": {},
   "outputs": [],
   "source": [
    "from pathlib import Path\n",
    "\n",
    "from pynwb import NWBHDF5IO\n",
    "\n",
    "import numpy as np\n",
    "import matplotlib.pyplot as plt\n",
    "from scipy.stats import ttest_rel\n",
    "\n",
    "from spiketools.plts.trials import plot_rasters\n",
    "from spiketools.utils import restrict_range"
   ]
  },
  {
   "cell_type": "code",
   "execution_count": 3,
   "id": "d75aca74",
   "metadata": {},
   "outputs": [],
   "source": [
    "import seaborn as sns\n",
    "sns.set_context('talk')"
   ]
  },
  {
   "cell_type": "code",
   "execution_count": 4,
   "id": "732c5a0c",
   "metadata": {},
   "outputs": [],
   "source": [
    "import sys\n",
    "sys.path.append('../code')\n",
    "from utils import select_from_list\n",
    "from analysis import calc_trial_frs"
   ]
  },
  {
   "cell_type": "markdown",
   "id": "748e8322",
   "metadata": {},
   "source": [
    "## Settings"
   ]
  },
  {
   "cell_type": "code",
   "execution_count": 5,
   "id": "6e270d9f",
   "metadata": {},
   "outputs": [],
   "source": [
    "# Set which task to analyze\n",
    "task = 'THF'"
   ]
  },
  {
   "cell_type": "code",
   "execution_count": 6,
   "id": "81d08fb8",
   "metadata": {},
   "outputs": [],
   "source": [
    "# Define the base data folder\n",
    "data_folder = Path('/Users/tom/Documents/Data/JacobsLab/TH/' + task)"
   ]
  },
  {
   "cell_type": "code",
   "execution_count": 7,
   "id": "a9b3d4e8",
   "metadata": {},
   "outputs": [],
   "source": [
    "# Define subject information\n",
    "subj = 'wv001'\n",
    "session = 2"
   ]
  },
  {
   "cell_type": "code",
   "execution_count": 8,
   "id": "ab196c2e",
   "metadata": {},
   "outputs": [],
   "source": [
    "# Set a unit of interest to select\n",
    "uind = 70"
   ]
  },
  {
   "cell_type": "code",
   "execution_count": 9,
   "id": "067697af",
   "metadata": {},
   "outputs": [],
   "source": [
    "# Set the time range to analyze\n",
    "trial_range = [-1000, 1000]"
   ]
  },
  {
   "cell_type": "markdown",
   "id": "signal-ladder",
   "metadata": {},
   "source": [
    "## Load Data"
   ]
  },
  {
   "cell_type": "code",
   "execution_count": 10,
   "id": "72756a6f",
   "metadata": {},
   "outputs": [],
   "source": [
    "# Define expected NWB file name & full path\n",
    "file_name = '_'.join([subj, 'session_' + str(session)]) + '.nwb'\n",
    "full_path = data_folder / 'NWB' / file_name"
   ]
  },
  {
   "cell_type": "code",
   "execution_count": 11,
   "id": "technical-swedish",
   "metadata": {},
   "outputs": [],
   "source": [
    "# Load NWB file\n",
    "io = NWBHDF5IO(str(full_path), 'r')\n",
    "nwbfile = io.read()"
   ]
  },
  {
   "cell_type": "code",
   "execution_count": 12,
   "id": "3f12e8d8",
   "metadata": {},
   "outputs": [
    {
     "name": "stdout",
     "output_type": "stream",
     "text": [
      "('start_time', 'stop_time', 'chest_opening', 'confidence', 'correct', 'distractor_end', 'distractor_start', 'encoding_end', 'encoding_start', 'error', 'full_chest', 'num_chests', 'num_treasures', 'recall_end', 'recall_start', 'response', 'stimulus')\n"
     ]
    }
   ],
   "source": [
    "# Check event names\n",
    "event_names = nwbfile.trials.colnames\n",
    "print(event_names)"
   ]
  },
  {
   "cell_type": "code",
   "execution_count": 13,
   "id": "2e334766",
   "metadata": {},
   "outputs": [],
   "source": [
    "# Get the chest trial indices & stimuli information\n",
    "chest_trials = nwbfile.acquisition['chest_trials']['chest_trials'].data[:]"
   ]
  },
  {
   "cell_type": "code",
   "execution_count": 14,
   "id": "dominant-location",
   "metadata": {},
   "outputs": [],
   "source": [
    "# Get times of chest opening\n",
    "openings = nwbfile.trials.chest_opening[:]"
   ]
  },
  {
   "cell_type": "code",
   "execution_count": 15,
   "id": "a8219beb",
   "metadata": {},
   "outputs": [
    {
     "name": "stdout",
     "output_type": "stream",
     "text": [
      "Number of chests: 92\n"
     ]
    }
   ],
   "source": [
    "# Check the number of chests\n",
    "n_chests = len(openings)\n",
    "print('Number of chests: {}'.format(n_chests))"
   ]
  },
  {
   "cell_type": "code",
   "execution_count": 16,
   "id": "d0598ebd",
   "metadata": {},
   "outputs": [
    {
     "name": "stdout",
     "output_type": "stream",
     "text": [
      "Number of units: 81\n"
     ]
    }
   ],
   "source": [
    "# Check the number of units\n",
    "n_units = len(nwbfile.units)\n",
    "print('Number of units: {}'.format(n_units))"
   ]
  },
  {
   "cell_type": "code",
   "execution_count": 17,
   "id": "1fd5e80a",
   "metadata": {},
   "outputs": [],
   "source": [
    "# Get spikes\n",
    "spikes = nwbfile.units.get_unit_spike_times(uind)\n",
    "spikes = spikes / 1000"
   ]
  },
  {
   "cell_type": "markdown",
   "id": "be4b4ebb",
   "metadata": {},
   "source": [
    "## Chest Opening"
   ]
  },
  {
   "cell_type": "code",
   "execution_count": 30,
   "id": "21a06ccd",
   "metadata": {},
   "outputs": [],
   "source": [
    "# Gather neural data around trials of interest\n",
    "all_trials = []\n",
    "for opening in openings:\n",
    "    all_trials.append(restrict_range(spikes, opening + trial_range[0], opening + trial_range[1]) - opening)"
   ]
  },
  {
   "cell_type": "code",
   "execution_count": 31,
   "id": "aa61ed5e",
   "metadata": {},
   "outputs": [],
   "source": [
    "# Compute statistical test\n",
    "t_val, p_val = ttest_rel(*calc_trial_frs(all_trials, average=False))"
   ]
  },
  {
   "cell_type": "code",
   "execution_count": 32,
   "id": "b604fbe2",
   "metadata": {},
   "outputs": [],
   "source": [
    "# Calculate firing rate pre & post chest opening\n",
    "fr_pre, fr_post = calc_trial_frs(all_trials)"
   ]
  },
  {
   "cell_type": "code",
   "execution_count": 35,
   "id": "6ac454ea",
   "metadata": {},
   "outputs": [
    {
     "data": {
      "image/png": "[encoded data removed]",
      "text/plain": [
       "<Figure size 720x504 with 1 Axes>"
      ]
     },
     "metadata": {
      "needs_background": "light"
     },
     "output_type": "display_data"
    }
   ],
   "source": [
    "# Plot raster across \n",
    "plot_rasters(all_trials, xlim=trial_range, vline=0, figsize=(10, 7), \n",
    "             title='All Trials - Pre: {:1.2f} - Pos: {:1.2f} (t:{:1.2f}, p:{:1.2f})'.format(fr_pre, fr_post, t_val, p_val))"
   ]
  },
  {
   "cell_type": "markdown",
   "id": "505dd02a",
   "metadata": {},
   "source": [
    "## Stimuli"
   ]
  },
  {
   "cell_type": "code",
   "execution_count": 21,
   "id": "2faab08a",
   "metadata": {},
   "outputs": [],
   "source": [
    "# Create masks to sub-select full & empty chests\n",
    "full_mask = nwbfile.trials.full_chest.data[:]\n",
    "empty_mask = np.invert(full_mask)"
   ]
  },
  {
   "cell_type": "code",
   "execution_count": 22,
   "id": "b3445e70",
   "metadata": {},
   "outputs": [],
   "source": [
    "# Calculate how many full/empty chests there are\n",
    "n_empty = sum(empty_mask)\n",
    "n_full = sum(full_mask)"
   ]
  },
  {
   "cell_type": "code",
   "execution_count": 23,
   "id": "c712dd77",
   "metadata": {},
   "outputs": [
    {
     "name": "stdout",
     "output_type": "stream",
     "text": [
      "Number of empty chests: \t58\n",
      "Number of full chests: \t\t34\n"
     ]
    }
   ],
   "source": [
    "# Check how many full/empty chests there are\n",
    "print('Number of empty chests: \\t{}'.format(n_empty))\n",
    "print('Number of full chests: \\t\\t{}'.format(n_full))"
   ]
  },
  {
   "cell_type": "code",
   "execution_count": 24,
   "id": "8a082647",
   "metadata": {},
   "outputs": [],
   "source": [
    "# Sub-select full & empty chest trials\n",
    "empty_trials = select_from_list(all_trials, empty_mask)\n",
    "full_trials = select_from_list(all_trials, full_mask)"
   ]
  },
  {
   "cell_type": "code",
   "execution_count": 25,
   "id": "692c5ae2",
   "metadata": {},
   "outputs": [],
   "source": [
    "# Calculate firing rate pre & post chest opening\n",
    "fr_pre_e, fr_post_e = calc_trial_frs(empty_trials)\n",
    "fr_pre_f, fr_post_f = calc_trial_frs(full_trials)"
   ]
  },
  {
   "cell_type": "code",
   "execution_count": 26,
   "id": "2fcb4c53",
   "metadata": {},
   "outputs": [
    {
     "data": {
      "image/png": "[encoded data removed]",
      "text/plain": [
       "<Figure size 1152x360 with 2 Axes>"
      ]
     },
     "metadata": {
      "needs_background": "light"
     },
     "output_type": "display_data"
    }
   ],
   "source": [
    "# Plot a comparison of full and empty trials\n",
    "_, axes = plt.subplots(1, 2, figsize=(16, 5))\n",
    "plot_rasters(empty_trials, xlim=trial_range, vline=0, ax=axes[0], \n",
    "             title='Empty Chests - Pre: {:1.2f} - Pos: {:1.2f}'.format(fr_pre_e, fr_post_e))\n",
    "plot_rasters(full_trials, xlim=trial_range, vline=0, ax=axes[1],\n",
    "             title='Full Chests - Pre: {:1.2f} - Pos: {:1.2f}'.format(fr_pre_f, fr_post_f))\n",
    "plt.subplots_adjust(wspace=0.1)"
   ]
  },
  {
   "cell_type": "markdown",
   "id": "560a0692",
   "metadata": {},
   "source": [
    "### Check All Cells"
   ]
  },
  {
   "cell_type": "code",
   "execution_count": 27,
   "id": "433686ba",
   "metadata": {
    "scrolled": false
   },
   "outputs": [],
   "source": [
    "# for uind in range(n_units):\n",
    "\n",
    "#     spikes = nwbfile.units.get_unit_spike_times(uind) / 1000\n",
    "    \n",
    "#     all_trials = []\n",
    "#     for opening in openings:\n",
    "#         all_trials.append(restrict_range(spikes, opening + trial_range[0], opening + trial_range[1]) - opening)    \n",
    "    \n",
    "#     # Plot all trials together\n",
    "#     #plot_trial_rasters(all_trials, xlim=trial_range, figsize=(10, 7))\n",
    "\n",
    "#     # Plot separate rasters for full and empty trials\n",
    "#     _, axes = plt.subplots(1, 2, figsize=(16, 5))\n",
    "#     empty_trials = select_from_list(all_trials, empty_mask)\n",
    "#     plot_rasters(empty_trials, xlim=trial_range, vline=0,\n",
    "#                  title='Empty Chests - Pre: {:1.2f} - Pos: {:1.2f}'.format(*calc_trial_frs(empty_trials)),\n",
    "#                  ax=axes[0])\n",
    "#     full_trials = select_from_list(all_trials, full_mask)\n",
    "#     plot_rasters(full_trials, xlim=trial_range, vline=0,\n",
    "#                  title='Full Chests - Pre: {:1.2f} - Pos: {:1.2f}'.format(*calc_trial_frs(full_trials)),\n",
    "#                  ax=axes[1])\n",
    "#     plt.subplots_adjust(wspace=0.1)\n",
    "#     plt.suptitle('Neuron #{}'.format(uind))"
   ]
  }
 ],
 "metadata": {
  "kernelspec": {
   "display_name": "Python 3 (ipykernel)",
   "language": "python",
   "name": "python3"
  },
  "language_info": {
   "codemirror_mode": {
    "name": "ipython",
    "version": 3
   },
   "file_extension": ".py",
   "mimetype": "text/x-python",
   "name": "python",
   "nbconvert_exporter": "python",
   "pygments_lexer": "ipython3",
   "version": "3.8.11"
  }
 },
 "nbformat": 4,
 "nbformat_minor": 5
}
