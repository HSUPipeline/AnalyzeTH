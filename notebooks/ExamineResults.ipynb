{
 "cells": [
  {
   "cell_type": "markdown",
   "id": "c0fa1b69",
   "metadata": {},
   "source": [
    "# Examine Results"
   ]
  },
  {
   "cell_type": "code",
   "execution_count": 1,
   "id": "51e5da01",
   "metadata": {},
   "outputs": [],
   "source": [
    "from pathlib import Path\n",
    "\n",
    "import numpy as np\n",
    "import pandas as pd\n",
    "\n",
    "from convnwb.io import get_files, load_json, load_jsons_to_df\n",
    "\n",
    "from spiketools.plts.data import plot_hist, plot_bar \n",
    "from spiketools.plts.utils import make_axes"
   ]
  },
  {
   "cell_type": "code",
   "execution_count": 2,
   "id": "e9dfcac0",
   "metadata": {},
   "outputs": [],
   "source": [
    "import seaborn as sns\n",
    "sns.set_context('talk')"
   ]
  },
  {
   "cell_type": "markdown",
   "id": "bc5919e2",
   "metadata": {},
   "source": [
    "## Settings"
   ]
  },
  {
   "cell_type": "code",
   "execution_count": 3,
   "id": "0a0177e3",
   "metadata": {},
   "outputs": [],
   "source": [
    "# Set which task to run\n",
    "task = 'THF'"
   ]
  },
  {
   "cell_type": "code",
   "execution_count": 4,
   "id": "153c1373",
   "metadata": {},
   "outputs": [],
   "source": [
    "# Set the folder to load results from\n",
    "base_path = Path('../results/units/')\n",
    "data_path = base_path / task"
   ]
  },
  {
   "cell_type": "code",
   "execution_count": 5,
   "id": "8f155f37",
   "metadata": {},
   "outputs": [],
   "source": [
    "# Get the list of files\n",
    "res_files = get_files(data_path, select='json')"
   ]
  },
  {
   "cell_type": "code",
   "execution_count": 6,
   "id": "d4aac3b0",
   "metadata": {},
   "outputs": [],
   "source": [
    "# Check the number of available files\n",
    "n_files = len(res_files)"
   ]
  },
  {
   "cell_type": "markdown",
   "id": "38fa09de",
   "metadata": {},
   "source": [
    "## Load Example File"
   ]
  },
  {
   "cell_type": "code",
   "execution_count": 7,
   "id": "38ac3696",
   "metadata": {},
   "outputs": [],
   "source": [
    "# Load an example file\n",
    "file = res_files[0]\n",
    "data = load_json(file, folder=str(data_path))"
   ]
  },
  {
   "cell_type": "code",
   "execution_count": 8,
   "id": "638db8f2",
   "metadata": {},
   "outputs": [
    {
     "data": {
      "text/plain": [
       "{'session': 'THF_wv001_session_0',\n",
       " 'uid': 10,\n",
       " 'wvID': 11,\n",
       " 'keep': True,\n",
       " 'cluster': 1571,\n",
       " 'channel': 'A16',\n",
       " 'location': 'LAH',\n",
       " 'n_spikes': 2291,\n",
       " 'firing_rate': 1838.7560066057742,\n",
       " 'fr_t_val': -0.335561371762666,\n",
       " 'fr_p_val': 0.7384783239796033,\n",
       " 'place_info': 1.6642444829739589,\n",
       " 'place_p_val': 0.36,\n",
       " 'place_z_score': 0.5161622973139365,\n",
       " 'target_info': 3.773372526428895,\n",
       " 'target_p_val': 0.39,\n",
       " 'target_z_score': 0.3905937249743087,\n",
       " 'hd_z_val': 4.319161772293733,\n",
       " 'hd_p_val': 0.013246385441277002,\n",
       " 'hd_surr_p': 0.13,\n",
       " 'hd_surr_z': 1.0980174132116776}"
      ]
     },
     "execution_count": 8,
     "metadata": {},
     "output_type": "execute_result"
    }
   ],
   "source": [
    "# Check example file\n",
    "data"
   ]
  },
  {
   "cell_type": "markdown",
   "id": "1045e2f8",
   "metadata": {},
   "source": [
    "## Collect Results"
   ]
  },
  {
   "cell_type": "code",
   "execution_count": 9,
   "id": "c31a3fa1",
   "metadata": {},
   "outputs": [],
   "source": [
    "# Collect all unit results together into a dataframe\n",
    "all_results = load_jsons_to_df(res_files, folder=data_path)"
   ]
  },
  {
   "cell_type": "code",
   "execution_count": 10,
   "id": "b5396cac",
   "metadata": {},
   "outputs": [],
   "source": [
    "# Clean up some datatypes - cast integers\n",
    "set_ints = ['uid', 'wvID', 'keep', 'cluster', 'n_spikes']\n",
    "all_results[set_ints] = all_results[set_ints].astype('int')"
   ]
  },
  {
   "cell_type": "code",
   "execution_count": 11,
   "id": "62db4a29",
   "metadata": {},
   "outputs": [
    {
     "data": {
      "text/plain": [
       "Index(['session', 'uid', 'wvID', 'keep', 'cluster', 'channel', 'location',\n",
       "       'n_spikes', 'firing_rate', 'fr_t_val', 'fr_p_val', 'place_info',\n",
       "       'place_p_val', 'place_z_score', 'target_info', 'target_p_val',\n",
       "       'target_z_score', 'hd_z_val', 'hd_p_val', 'hd_surr_p', 'hd_surr_z',\n",
       "       'fr_p_val_all', 'fr_p_val_empt', 'fr_p_val_full', 'fr_t_val_all',\n",
       "       'fr_t_val_empt', 'fr_t_val_full', 'sp_p_val_0', 'sp_p_val_1',\n",
       "       'sp_p_val_2', 'sp_p_val_3', 'sp_z_score_0', 'sp_z_score_1',\n",
       "       'sp_z_score_2', 'sp_z_score_3'],\n",
       "      dtype='object')"
      ]
     },
     "execution_count": 11,
     "metadata": {},
     "output_type": "execute_result"
    }
   ],
   "source": [
    "# Check the columns\n",
    "all_results.columns"
   ]
  },
  {
   "cell_type": "code",
   "execution_count": 12,
   "id": "df60560e",
   "metadata": {},
   "outputs": [
    {
     "data": {
      "text/html": [
       "<div>\n",
       "<style scoped>\n",
       "    .dataframe tbody tr th:only-of-type {\n",
       "        vertical-align: middle;\n",
       "    }\n",
       "\n",
       "    .dataframe tbody tr th {\n",
       "        vertical-align: top;\n",
       "    }\n",
       "\n",
       "    .dataframe thead th {\n",
       "        text-align: right;\n",
       "    }\n",
       "</style>\n",
       "<table border=\"1\" class=\"dataframe\">\n",
       "  <thead>\n",
       "    <tr style=\"text-align: right;\">\n",
       "      <th></th>\n",
       "      <th>session</th>\n",
       "      <th>uid</th>\n",
       "      <th>wvID</th>\n",
       "      <th>keep</th>\n",
       "      <th>cluster</th>\n",
       "      <th>channel</th>\n",
       "      <th>location</th>\n",
       "      <th>n_spikes</th>\n",
       "      <th>firing_rate</th>\n",
       "      <th>fr_t_val</th>\n",
       "      <th>...</th>\n",
       "      <th>fr_t_val_empt</th>\n",
       "      <th>fr_t_val_full</th>\n",
       "      <th>sp_p_val_0</th>\n",
       "      <th>sp_p_val_1</th>\n",
       "      <th>sp_p_val_2</th>\n",
       "      <th>sp_p_val_3</th>\n",
       "      <th>sp_z_score_0</th>\n",
       "      <th>sp_z_score_1</th>\n",
       "      <th>sp_z_score_2</th>\n",
       "      <th>sp_z_score_3</th>\n",
       "    </tr>\n",
       "  </thead>\n",
       "  <tbody>\n",
       "    <tr>\n",
       "      <th>0</th>\n",
       "      <td>THF_wv001_session_0</td>\n",
       "      <td>10</td>\n",
       "      <td>11</td>\n",
       "      <td>1</td>\n",
       "      <td>1571</td>\n",
       "      <td>A16</td>\n",
       "      <td>LAH</td>\n",
       "      <td>2291</td>\n",
       "      <td>1838.756007</td>\n",
       "      <td>-0.335561</td>\n",
       "      <td>...</td>\n",
       "      <td>NaN</td>\n",
       "      <td>NaN</td>\n",
       "      <td>NaN</td>\n",
       "      <td>NaN</td>\n",
       "      <td>NaN</td>\n",
       "      <td>NaN</td>\n",
       "      <td>NaN</td>\n",
       "      <td>NaN</td>\n",
       "      <td>NaN</td>\n",
       "      <td>NaN</td>\n",
       "    </tr>\n",
       "    <tr>\n",
       "      <th>1</th>\n",
       "      <td>THF_wv001_session_0</td>\n",
       "      <td>11</td>\n",
       "      <td>12</td>\n",
       "      <td>1</td>\n",
       "      <td>2044</td>\n",
       "      <td>A17</td>\n",
       "      <td>LPH</td>\n",
       "      <td>1400</td>\n",
       "      <td>1110.418593</td>\n",
       "      <td>-0.204255</td>\n",
       "      <td>...</td>\n",
       "      <td>NaN</td>\n",
       "      <td>NaN</td>\n",
       "      <td>NaN</td>\n",
       "      <td>NaN</td>\n",
       "      <td>NaN</td>\n",
       "      <td>NaN</td>\n",
       "      <td>NaN</td>\n",
       "      <td>NaN</td>\n",
       "      <td>NaN</td>\n",
       "      <td>NaN</td>\n",
       "    </tr>\n",
       "    <tr>\n",
       "      <th>2</th>\n",
       "      <td>THF_wv001_session_0</td>\n",
       "      <td>12</td>\n",
       "      <td>13</td>\n",
       "      <td>1</td>\n",
       "      <td>2130</td>\n",
       "      <td>A17</td>\n",
       "      <td>LPH</td>\n",
       "      <td>702</td>\n",
       "      <td>555.959172</td>\n",
       "      <td>-0.448272</td>\n",
       "      <td>...</td>\n",
       "      <td>NaN</td>\n",
       "      <td>NaN</td>\n",
       "      <td>NaN</td>\n",
       "      <td>NaN</td>\n",
       "      <td>NaN</td>\n",
       "      <td>NaN</td>\n",
       "      <td>NaN</td>\n",
       "      <td>NaN</td>\n",
       "      <td>NaN</td>\n",
       "      <td>NaN</td>\n",
       "    </tr>\n",
       "    <tr>\n",
       "      <th>3</th>\n",
       "      <td>THF_wv001_session_0</td>\n",
       "      <td>13</td>\n",
       "      <td>14</td>\n",
       "      <td>1</td>\n",
       "      <td>2195</td>\n",
       "      <td>A17</td>\n",
       "      <td>LPH</td>\n",
       "      <td>635</td>\n",
       "      <td>502.897181</td>\n",
       "      <td>0.360277</td>\n",
       "      <td>...</td>\n",
       "      <td>NaN</td>\n",
       "      <td>NaN</td>\n",
       "      <td>NaN</td>\n",
       "      <td>NaN</td>\n",
       "      <td>NaN</td>\n",
       "      <td>NaN</td>\n",
       "      <td>NaN</td>\n",
       "      <td>NaN</td>\n",
       "      <td>NaN</td>\n",
       "      <td>NaN</td>\n",
       "    </tr>\n",
       "    <tr>\n",
       "      <th>4</th>\n",
       "      <td>THF_wv001_session_0</td>\n",
       "      <td>14</td>\n",
       "      <td>15</td>\n",
       "      <td>1</td>\n",
       "      <td>2207</td>\n",
       "      <td>A17</td>\n",
       "      <td>LPH</td>\n",
       "      <td>1135</td>\n",
       "      <td>898.879457</td>\n",
       "      <td>-3.039444</td>\n",
       "      <td>...</td>\n",
       "      <td>NaN</td>\n",
       "      <td>NaN</td>\n",
       "      <td>NaN</td>\n",
       "      <td>NaN</td>\n",
       "      <td>NaN</td>\n",
       "      <td>NaN</td>\n",
       "      <td>NaN</td>\n",
       "      <td>NaN</td>\n",
       "      <td>NaN</td>\n",
       "      <td>NaN</td>\n",
       "    </tr>\n",
       "  </tbody>\n",
       "</table>\n",
       "<p>5 rows × 35 columns</p>\n",
       "</div>"
      ],
      "text/plain": [
       "               session  uid  wvID  keep  cluster channel location  n_spikes  \\\n",
       "0  THF_wv001_session_0   10    11     1     1571     A16      LAH      2291   \n",
       "1  THF_wv001_session_0   11    12     1     2044     A17      LPH      1400   \n",
       "2  THF_wv001_session_0   12    13     1     2130     A17      LPH       702   \n",
       "3  THF_wv001_session_0   13    14     1     2195     A17      LPH       635   \n",
       "4  THF_wv001_session_0   14    15     1     2207     A17      LPH      1135   \n",
       "\n",
       "   firing_rate  fr_t_val  ...  fr_t_val_empt  fr_t_val_full  sp_p_val_0  \\\n",
       "0  1838.756007 -0.335561  ...            NaN            NaN         NaN   \n",
       "1  1110.418593 -0.204255  ...            NaN            NaN         NaN   \n",
       "2   555.959172 -0.448272  ...            NaN            NaN         NaN   \n",
       "3   502.897181  0.360277  ...            NaN            NaN         NaN   \n",
       "4   898.879457 -3.039444  ...            NaN            NaN         NaN   \n",
       "\n",
       "   sp_p_val_1  sp_p_val_2  sp_p_val_3  sp_z_score_0  sp_z_score_1  \\\n",
       "0         NaN         NaN         NaN           NaN           NaN   \n",
       "1         NaN         NaN         NaN           NaN           NaN   \n",
       "2         NaN         NaN         NaN           NaN           NaN   \n",
       "3         NaN         NaN         NaN           NaN           NaN   \n",
       "4         NaN         NaN         NaN           NaN           NaN   \n",
       "\n",
       "   sp_z_score_2  sp_z_score_3  \n",
       "0           NaN           NaN  \n",
       "1           NaN           NaN  \n",
       "2           NaN           NaN  \n",
       "3           NaN           NaN  \n",
       "4           NaN           NaN  \n",
       "\n",
       "[5 rows x 35 columns]"
      ]
     },
     "execution_count": 12,
     "metadata": {},
     "output_type": "execute_result"
    }
   ],
   "source": [
    "# Check the head of the results\n",
    "all_results.head()"
   ]
  },
  {
   "cell_type": "markdown",
   "id": "3e423866-1009-4799-b4c2-ea3350c8b953",
   "metadata": {},
   "source": [
    "### Location Checks"
   ]
  },
  {
   "cell_type": "code",
   "execution_count": 13,
   "id": "a12f7832-8094-4014-ab3c-60fe9278f4cb",
   "metadata": {},
   "outputs": [
    {
     "data": {
      "text/plain": [
       "{'LA', 'LAH', 'LPH', 'RA', 'RAH'}"
      ]
     },
     "execution_count": 13,
     "metadata": {},
     "output_type": "execute_result"
    }
   ],
   "source": [
    "# Check the set of sampled locations\n",
    "locations = set(all_results['location'])\n",
    "locations"
   ]
  },
  {
   "cell_type": "code",
   "execution_count": 14,
   "id": "35e6c348-5369-4136-ad96-11355ac5f1ee",
   "metadata": {},
   "outputs": [
    {
     "data": {
      "text/plain": [
       "LPH    27\n",
       "LAH    19\n",
       "RA      9\n",
       "RAH     9\n",
       "LA      8\n",
       "Name: location, dtype: int64"
      ]
     },
     "execution_count": 14,
     "metadata": {},
     "output_type": "execute_result"
    }
   ],
   "source": [
    "# Check location counts\n",
    "all_results['location'].value_counts()"
   ]
  },
  {
   "cell_type": "code",
   "execution_count": 15,
   "id": "9cd107f0-1569-4f5e-a13c-cc191db4460b",
   "metadata": {},
   "outputs": [
    {
     "data": {
      "text/plain": [
       "<AxesSubplot:>"
      ]
     },
     "execution_count": 15,
     "metadata": {},
     "output_type": "execute_result"
    },
    {
     "data": {
      "image/png": "[encoded data removed]",
      "text/plain": [
       "<Figure size 432x288 with 1 Axes>"
      ]
     },
     "metadata": {
      "needs_background": "light"
     },
     "output_type": "display_data"
    }
   ],
   "source": [
    "# Plot the counts per location\n",
    "all_results['location'].value_counts().plot(kind='bar')"
   ]
  },
  {
   "cell_type": "code",
   "execution_count": 16,
   "id": "9ec576df-4188-45bb-a99f-4c64d65c73be",
   "metadata": {},
   "outputs": [],
   "source": [
    "# Define location map\n",
    "locmap = {'LA' : 'amygdala',\n",
    "          'RA' : 'amygdala',\n",
    "          'LAH' : 'ant hipp',\n",
    "          'RAH' : 'ant hipp',\n",
    "          'LPH' : 'post hipp',\n",
    "          'RPH' : 'post hipp'}"
   ]
  },
  {
   "cell_type": "code",
   "execution_count": 17,
   "id": "acbcb438-37ab-4dc1-9749-64931edc7744",
   "metadata": {},
   "outputs": [],
   "source": [
    "# Set and collect which area each unit it is\n",
    "all_results['area'] = all_results['location'].map(locmap)"
   ]
  },
  {
   "cell_type": "code",
   "execution_count": 18,
   "id": "dacec96f-47ab-411b-b276-134cfda86663",
   "metadata": {},
   "outputs": [
    {
     "data": {
      "text/plain": [
       "ant hipp     28\n",
       "post hipp    27\n",
       "amygdala     17\n",
       "Name: area, dtype: int64"
      ]
     },
     "execution_count": 18,
     "metadata": {},
     "output_type": "execute_result"
    }
   ],
   "source": [
    "# Check area counts\n",
    "all_results['area'].value_counts()"
   ]
  },
  {
   "cell_type": "code",
   "execution_count": 19,
   "id": "3e8a717f-b7cb-45fd-8dee-4c3d13efe5f6",
   "metadata": {},
   "outputs": [
    {
     "data": {
      "text/plain": [
       "<AxesSubplot:>"
      ]
     },
     "execution_count": 19,
     "metadata": {},
     "output_type": "execute_result"
    },
    {
     "data": {
      "image/png": "[encoded data removed]",
      "text/plain": [
       "<Figure size 432x288 with 1 Axes>"
      ]
     },
     "metadata": {
      "needs_background": "light"
     },
     "output_type": "display_data"
    }
   ],
   "source": [
    "# Plot the counts per area\n",
    "all_results['area'].value_counts().plot(kind='bar')"
   ]
  },
  {
   "cell_type": "code",
   "execution_count": 20,
   "id": "184b6d91-ddd9-49b6-8fc2-224f73138af8",
   "metadata": {},
   "outputs": [
    {
     "data": {
      "text/plain": [
       "{'amygdala', 'ant hipp', 'post hipp'}"
      ]
     },
     "execution_count": 20,
     "metadata": {},
     "output_type": "execute_result"
    }
   ],
   "source": [
    "# Check the set of sampled areas\n",
    "areas = set(all_results['area'])\n",
    "areas"
   ]
  },
  {
   "cell_type": "markdown",
   "id": "ec813f2d",
   "metadata": {},
   "source": [
    "### Firing Rate Checks"
   ]
  },
  {
   "cell_type": "code",
   "execution_count": 21,
   "id": "1fb61e88-1874-4cdd-85ae-3a389072324c",
   "metadata": {},
   "outputs": [],
   "source": [
    "# Note: is an inf value for firing rate..."
   ]
  },
  {
   "cell_type": "code",
   "execution_count": 22,
   "id": "df210ef1-0990-4e9d-a31f-dcfd09d4d150",
   "metadata": {},
   "outputs": [],
   "source": [
    "# Plot the distribution of firing rates\n",
    "#plot_hist(all_results['firing_rate'].values)"
   ]
  },
  {
   "cell_type": "code",
   "execution_count": 25,
   "id": "63ee9111",
   "metadata": {},
   "outputs": [],
   "source": [
    "# Add a marker for firing rate threshold in our task\n",
    "all_results['fr_keep_th'] = (all_results['firing_rate'] < 0.5).values"
   ]
  },
  {
   "cell_type": "markdown",
   "id": "dcb9e8b4",
   "metadata": {},
   "source": [
    "### Binary labels"
   ]
  },
  {
   "cell_type": "code",
   "execution_count": 26,
   "id": "fa6acef8",
   "metadata": {},
   "outputs": [],
   "source": [
    "# Set significance level\n",
    "ALPHA_LEVEL = 0.05"
   ]
  },
  {
   "cell_type": "code",
   "execution_count": 28,
   "id": "82809db3",
   "metadata": {},
   "outputs": [],
   "source": [
    "# Add binary labels for statistical tests\n",
    "all_results['is_chest_cell'] = all_results['fr_p_val_all'] < ALPHA_LEVEL\n",
    "all_results['is_full_cell'] = all_results['fr_p_val_full'] < ALPHA_LEVEL\n",
    "all_results['is_empty_cell'] = all_results['fr_p_val_empt'] < ALPHA_LEVEL\n",
    "all_results['is_place_cell'] = all_results['place_p_val'] < ALPHA_LEVEL\n",
    "all_results['is_target_cell'] = all_results['target_p_val'] < ALPHA_LEVEL\n",
    "all_results['is_sp_cell'] = all_results['sp_p_val'] < ALPHA_LEVEL\n",
    "#all_results['is_head_direction_cell'] = all_results['hd_p_val'] < ALPHA_LEVEL"
   ]
  },
  {
   "cell_type": "markdown",
   "id": "62b53e5b",
   "metadata": {},
   "source": [
    "### Check numbers"
   ]
  },
  {
   "cell_type": "code",
   "execution_count": 26,
   "id": "a47918ce",
   "metadata": {},
   "outputs": [
    {
     "name": "stdout",
     "output_type": "stream",
     "text": [
      "Total number of cells: 602\n"
     ]
    }
   ],
   "source": [
    "# Check the total number of cells\n",
    "print('Total number of cells: {}'.format(n_files))"
   ]
  },
  {
   "cell_type": "markdown",
   "id": "acbab1b8",
   "metadata": {},
   "source": [
    "## Check Results"
   ]
  },
  {
   "cell_type": "code",
   "execution_count": 27,
   "id": "23c525ac-5fed-4035-bd9f-196733b41e44",
   "metadata": {},
   "outputs": [],
   "source": [
    "# Define list of analyses\n",
    "analyses = ['chest', 'full', 'empty', 'place', 'target', 'sp']"
   ]
  },
  {
   "cell_type": "code",
   "execution_count": 28,
   "id": "c9d253e3-3547-4d0d-84d1-d01d34162bfe",
   "metadata": {},
   "outputs": [],
   "source": [
    "# Get total number of units\n",
    "n_units = len(all_results)"
   ]
  },
  {
   "cell_type": "code",
   "execution_count": 29,
   "id": "7e1eed77-69cf-4032-8e98-4b3c1710b5e3",
   "metadata": {},
   "outputs": [],
   "source": [
    "# Collect numbers of significant cells\n",
    "results = {}\n",
    "for analysis in analyses:\n",
    "    results[analysis] = sum(all_results['is_' + analysis + '_cell'])"
   ]
  },
  {
   "cell_type": "code",
   "execution_count": 30,
   "id": "dce5b4d7-a7a0-4fc5-bbf3-9d567d022fac",
   "metadata": {},
   "outputs": [
    {
     "name": "stdout",
     "output_type": "stream",
     "text": [
      "THF - total cells: 602\n",
      "\n",
      "# chest cells:     \t\t 81  (13.46%)\n",
      "# full cells:     \t\t108  (17.94%)\n",
      "# empty cells:     \t\t 40  ( 6.64%)\n",
      "# place cells:     \t\t 28  ( 4.65%)\n",
      "# target cells:     \t\t 89  (14.78%)\n",
      "# sp cells:     \t\t118  (19.60%)\n"
     ]
    }
   ],
   "source": [
    "# Check the number & percent of significant cells per analysis\n",
    "print('{} - total cells: {}\\n'.format(task, n_units))\n",
    "for analysis in analyses:\n",
    "    print('# {} cells:     \\t\\t{:3d}  ({:5.2f}%)'.format(analysis, results[analysis], results[analysis] / n_units * 100))"
   ]
  },
  {
   "cell_type": "markdown",
   "id": "94658f99-7a9a-42ea-a4cb-d316565845df",
   "metadata": {},
   "source": [
    "### Results by Area"
   ]
  },
  {
   "cell_type": "code",
   "execution_count": 31,
   "id": "8a41b71a-1f6e-44b1-b3bb-27b4936e72b3",
   "metadata": {},
   "outputs": [],
   "source": [
    "#location"
   ]
  },
  {
   "cell_type": "code",
   "execution_count": 32,
   "id": "1f9f8707-efb4-4334-b9c9-e106215de305",
   "metadata": {},
   "outputs": [],
   "source": [
    "places = {'area' : areas, 'location' : locations}\n",
    "place = 'area'"
   ]
  },
  {
   "cell_type": "code",
   "execution_count": 33,
   "id": "cf6c9978-3484-44e3-8291-4387cc3bf2b9",
   "metadata": {},
   "outputs": [
    {
     "data": {
      "image/png": "[encoded data removed]",
      "text/plain": [
       "<Figure size 1296x720 with 6 Axes>"
      ]
     },
     "metadata": {
      "needs_background": "light"
     },
     "output_type": "display_data"
    }
   ],
   "source": [
    "axes = make_axes(len(analyses), 3, hspace=0.35, figsize=(18, 10))\n",
    "for analysis, ax in zip(analyses, axes):\n",
    "\n",
    "    out = {}\n",
    "    out['all'] = results[analysis] / n_units\n",
    "\n",
    "    for value in places[place]:\n",
    "        temp = all_results[all_results[place] == value]\n",
    "        out[value] = sum(temp['is_' + analysis + '_cell']) / len(temp)\n",
    "\n",
    "    plot_bar(out.values(), out.keys(), title=analysis, ylim=[0, 0.30], ax=ax)\n",
    "    ax.axhline(0.05, linestyle='--', color='black')"
   ]
  },
  {
   "cell_type": "code",
   "execution_count": 34,
   "id": "33fb00c9-862e-44ff-88c7-77d3111e8c06",
   "metadata": {},
   "outputs": [],
   "source": [
    "import matplotlib.pyplot as plt"
   ]
  },
  {
   "cell_type": "markdown",
   "id": "b8b281bb-a37b-4f5e-b4c8-57905ed2d79c",
   "metadata": {},
   "source": [
    "## Distributions"
   ]
  },
  {
   "cell_type": "code",
   "execution_count": 35,
   "id": "a50ddaee-ca71-4673-80cb-f08ae707a9ac",
   "metadata": {},
   "outputs": [],
   "source": [
    "# Plot settings\n",
    "bins = 25"
   ]
  },
  {
   "cell_type": "markdown",
   "id": "293b387d-d30f-43b8-bb98-76a28491d38d",
   "metadata": {},
   "source": [
    "### Chest Measures"
   ]
  },
  {
   "cell_type": "code",
   "execution_count": 36,
   "id": "4ad3fc56-2d3b-46ca-8015-973365c8ea6f",
   "metadata": {},
   "outputs": [
    {
     "data": {
      "image/png": "[encoded data removed]",
      "text/plain": [
       "<Figure size 1080x288 with 3 Axes>"
      ]
     },
     "metadata": {
      "needs_background": "light"
     },
     "output_type": "display_data"
    }
   ],
   "source": [
    "# Plot t-values of the chest measures\n",
    "axes = make_axes(3, 3, figsize=(15, 4))\n",
    "plot_hist(all_results.fr_t_val_all.values, title='Chests (all) - t values', bins=bins, ax=axes[0])\n",
    "plot_hist(all_results.fr_t_val_full.values, title='Chests (full) - t values', bins=bins, ax=axes[1])\n",
    "plot_hist(all_results.fr_t_val_empt.values, title='Chests (empty) - t values', bins=bins, ax=axes[2])"
   ]
  },
  {
   "cell_type": "code",
   "execution_count": 37,
   "id": "e9393a84-16ec-408d-8427-82528249fe17",
   "metadata": {},
   "outputs": [
    {
     "data": {
      "image/png": "[encoded data removed]",
      "text/plain": [
       "<Figure size 1080x288 with 3 Axes>"
      ]
     },
     "metadata": {
      "needs_background": "light"
     },
     "output_type": "display_data"
    }
   ],
   "source": [
    "# Plot p-values of the chest measures\n",
    "axes = make_axes(3, 3, figsize=(15, 4))\n",
    "plot_hist(all_results.fr_p_val_all.values, title='Chests (all) - p values', bins=bins, ax=axes[0])\n",
    "plot_hist(all_results.fr_p_val_full.values, title='Chests (full) - p values', bins=bins, ax=axes[1])\n",
    "plot_hist(all_results.fr_p_val_empt.values, title='Chests (empty) - p values', bins=bins, ax=axes[2])"
   ]
  },
  {
   "cell_type": "markdown",
   "id": "915fbc4b-ba22-4758-8991-61559dace9cb",
   "metadata": {},
   "source": [
    "### Position & Sequence Measures"
   ]
  },
  {
   "cell_type": "code",
   "execution_count": 38,
   "id": "2083a365",
   "metadata": {},
   "outputs": [
    {
     "data": {
      "image/png": "[encoded data removed]",
      "text/plain": [
       "<Figure size 1080x288 with 3 Axes>"
      ]
     },
     "metadata": {
      "needs_background": "light"
     },
     "output_type": "display_data"
    }
   ],
   "source": [
    "# Plot measure values of the position & sequence measures\n",
    "axes = make_axes(3, 3, figsize=(15, 4))\n",
    "plot_hist(all_results.place_value.values, title='Place - measures', bins=bins, ax=axes[0])\n",
    "plot_hist(all_results.target_value.values, title='Target - measures', bins=bins, ax=axes[1])\n",
    "plot_hist(all_results.sp_value.values, title='Serial Position - measures', bins=bins, ax=axes[2])"
   ]
  },
  {
   "cell_type": "code",
   "execution_count": 39,
   "id": "2b9d0bc6-7a2d-4bba-ba88-27d31accbf9e",
   "metadata": {},
   "outputs": [
    {
     "data": {
      "image/png": "[encoded data removed]",
      "text/plain": [
       "<Figure size 1080x288 with 3 Axes>"
      ]
     },
     "metadata": {
      "needs_background": "light"
     },
     "output_type": "display_data"
    }
   ],
   "source": [
    "# Plot surrogate z-scores of the position & sequence measures\n",
    "axes = make_axes(3, 3, figsize=(15, 4))\n",
    "plot_hist(all_results.place_z_score.values, title='Place - z score', ax=axes[0])\n",
    "plot_hist(all_results.target_z_score.values, title='Target - z score', ax=axes[1])\n",
    "plot_hist(all_results.sp_z_score.values, title='Serial Position - z score', ax=axes[2])"
   ]
  },
  {
   "cell_type": "code",
   "execution_count": 40,
   "id": "c359d31c-7715-45fb-a9c8-852b54645c9c",
   "metadata": {},
   "outputs": [
    {
     "data": {
      "image/png": "[encoded data removed]",
      "text/plain": [
       "<Figure size 1080x288 with 3 Axes>"
      ]
     },
     "metadata": {
      "needs_background": "light"
     },
     "output_type": "display_data"
    }
   ],
   "source": [
    "# Plot p values of the position & sequence measures\n",
    "axes = make_axes(3, 3, figsize=(15, 4))\n",
    "plot_hist(all_results.place_p_val.values, title='Place - p values', bins=bins, ax=axes[0])\n",
    "plot_hist(all_results.target_p_val.values, title='Target - p values', bins=bins, ax=axes[1])\n",
    "plot_hist(all_results.sp_p_val.values, title='Serial Position - p values', bins=bins, ax=axes[2])"
   ]
  },
  {
   "cell_type": "markdown",
   "id": "702c2040",
   "metadata": {},
   "source": [
    "## Save out results"
   ]
  },
  {
   "cell_type": "code",
   "execution_count": 41,
   "id": "928207ef",
   "metadata": {},
   "outputs": [],
   "source": [
    "# Save out of CSV\n",
    "#all_results.to_csv(task + '_all_results.csv')"
   ]
  }
 ],
 "metadata": {
  "kernelspec": {
   "display_name": "Python 3 (ipykernel)",
   "language": "python",
   "name": "python3"
  },
  "language_info": {
   "codemirror_mode": {
    "name": "ipython",
    "version": 3
   },
   "file_extension": ".py",
   "mimetype": "text/x-python",
   "name": "python",
   "nbconvert_exporter": "python",
   "pygments_lexer": "ipython3",
   "version": "3.8.11"
  }
 },
 "nbformat": 4,
 "nbformat_minor": 5
}
