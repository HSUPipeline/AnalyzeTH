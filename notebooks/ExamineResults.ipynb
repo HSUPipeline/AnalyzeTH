{
 "cells": [
  {
   "cell_type": "markdown",
   "id": "c0fa1b69",
   "metadata": {},
   "source": [
    "# Examine Results"
   ]
  },
  {
   "cell_type": "code",
   "execution_count": 1,
   "id": "51e5da01",
   "metadata": {},
   "outputs": [],
   "source": [
    "from pathlib import Path\n",
    "\n",
    "from convnwb.io import get_files, load_json\n",
    "\n",
    "from spiketools.plts.data import plot_hist\n",
    "from spiketools.plts.utils import make_axes"
   ]
  },
  {
   "cell_type": "code",
   "execution_count": 2,
   "id": "e9dfcac0",
   "metadata": {},
   "outputs": [],
   "source": [
    "import seaborn as sns\n",
    "sns.set_context('talk')"
   ]
  },
  {
   "cell_type": "markdown",
   "id": "bc5919e2",
   "metadata": {},
   "source": [
    "## Settings"
   ]
  },
  {
   "cell_type": "code",
   "execution_count": 3,
   "id": "0a0177e3",
   "metadata": {},
   "outputs": [],
   "source": [
    "# Set which task to run\n",
    "task = 'THO'"
   ]
  },
  {
   "cell_type": "code",
   "execution_count": 4,
   "id": "153c1373",
   "metadata": {},
   "outputs": [],
   "source": [
    "# Set the folder to load results from\n",
    "base_path = Path('../results/units/')\n",
    "data_path = base_path / task"
   ]
  },
  {
   "cell_type": "code",
   "execution_count": 5,
   "id": "8f155f37",
   "metadata": {},
   "outputs": [],
   "source": [
    "# Get the list of files\n",
    "res_files = get_files(data_path)"
   ]
  },
  {
   "cell_type": "code",
   "execution_count": 6,
   "id": "d4aac3b0",
   "metadata": {},
   "outputs": [],
   "source": [
    "# Check the number of available files\n",
    "n_files = len(res_files)"
   ]
  },
  {
   "cell_type": "markdown",
   "id": "38fa09de",
   "metadata": {},
   "source": [
    "## Load Example File"
   ]
  },
  {
   "cell_type": "code",
   "execution_count": 7,
   "id": "38ac3696",
   "metadata": {},
   "outputs": [],
   "source": [
    "# Load an example file\n",
    "file = res_files[0]\n",
    "data = load_json(file, folder=str(data_path))"
   ]
  },
  {
   "cell_type": "code",
   "execution_count": 8,
   "id": "638db8f2",
   "metadata": {},
   "outputs": [
    {
     "data": {
      "text/plain": [
       "{'fr_t_val': -0.3947023007073317,\n",
       " 'fr_p_val': 0.6939861807765166,\n",
       " 'place_info': 0.43189928805257255,\n",
       " 'place_p_val': 0.56,\n",
       " 'place_z_score': -0.20535034209947725,\n",
       " 'target_info': 0.24662650398405545,\n",
       " 'target_p_val': 0.19,\n",
       " 'target_z_score': 0.7952972807765772,\n",
       " 'hd_z_val': 6.11964449834782,\n",
       " 'hd_p_val': 0.002182346089050063,\n",
       " 'hd_surr_p': 0.54,\n",
       " 'hd_surr_z': -0.23933356216641574}"
      ]
     },
     "execution_count": 8,
     "metadata": {},
     "output_type": "execute_result"
    }
   ],
   "source": [
    "# Check example file\n",
    "data"
   ]
  },
  {
   "cell_type": "markdown",
   "id": "a709eb65",
   "metadata": {},
   "source": [
    "## Collect Results"
   ]
  },
  {
   "cell_type": "code",
   "execution_count": 9,
   "id": "7c50a196",
   "metadata": {},
   "outputs": [],
   "source": [
    "vals = {'chest' : [], 'place' : [], 'target' : [], 'head' : []}\n",
    "sig = {'chest' : 0, 'place' : 0, 'target' : 0, 'head' : 0}\n",
    "files = {'chest' : [], 'place' : [], 'target' : [], 'head' : []}\n",
    "\n",
    "for file in res_files:\n",
    "    \n",
    "    data = load_json(file, folder=data_path)\n",
    "        \n",
    "    # Collect general values\n",
    "    vals['chest'].append(data['fr_t_val'])\n",
    "    vals['place'].append(data['place_info'])\n",
    "    vals['target'].append(data['target_info'])\n",
    "    vals['head'].append(data['hd_z_val'])\n",
    "    \n",
    "    # Collect counts of significant cells\n",
    "    if data['fr_p_val'] < 0.05:\n",
    "        sig['chest'] += 1\n",
    "        files['chest'].append(file)\n",
    "    if data['place_p_val'] < 0.05:\n",
    "        sig['place'] += 1\n",
    "        files['place'].append(file)\n",
    "    if data['target_p_val'] < 0.05:\n",
    "        sig['target'] += 1\n",
    "        files['target'].append(file)\n",
    "    if data['hd_p_val'] < 0.05:\n",
    "        sig['head'] += 1\n",
    "        files['head'].append(file)"
   ]
  },
  {
   "cell_type": "markdown",
   "id": "acbab1b8",
   "metadata": {},
   "source": [
    "## Check Results"
   ]
  },
  {
   "cell_type": "code",
   "execution_count": 10,
   "id": "e52ace2a",
   "metadata": {},
   "outputs": [
    {
     "name": "stdout",
     "output_type": "stream",
     "text": [
      "Total number of cells: 333\n"
     ]
    }
   ],
   "source": [
    "# Check the total number of cells\n",
    "print('Total number of cells: {}'.format(n_files))"
   ]
  },
  {
   "cell_type": "code",
   "execution_count": 11,
   "id": "2083a365",
   "metadata": {},
   "outputs": [
    {
     "data": {
      "image/png": "[encoded data removed]",
      "text/plain": [
       "<Figure size 864x720 with 4 Axes>"
      ]
     },
     "metadata": {
      "needs_background": "light"
     },
     "output_type": "display_data"
    }
   ],
   "source": [
    "# Plot the distributions of measured values\n",
    "axes = make_axes(4, 2, figsize=(12, 10), hspace=0.5)\n",
    "plot_hist(vals['chest'], title='Chest - t-values', ax=axes[0])\n",
    "plot_hist(vals['place'], title='Place - info values', ax=axes[1])\n",
    "plot_hist(vals['target'], title='Target - info values', ax=axes[2])\n",
    "plot_hist(vals['head'], title='Head - z values', ax=axes[3])"
   ]
  },
  {
   "cell_type": "code",
   "execution_count": 12,
   "id": "e2274b2d",
   "metadata": {
    "scrolled": true
   },
   "outputs": [
    {
     "name": "stdout",
     "output_type": "stream",
     "text": [
      " 39 chest   cells (11.71%)\n",
      " 12 place   cells (3.60%)\n",
      " 13 target  cells (3.90%)\n",
      "186 head    cells (55.86%)\n"
     ]
    }
   ],
   "source": [
    "# Check number of significant cells\n",
    "for key, val in sig.items():\n",
    "    print('{:3d} {:7s} cells ({:1.2f}%)'.format(val, key, val/n_files * 100))"
   ]
  }
 ],
 "metadata": {
  "kernelspec": {
   "display_name": "Python 3 (ipykernel)",
   "language": "python",
   "name": "python3"
  },
  "language_info": {
   "codemirror_mode": {
    "name": "ipython",
    "version": 3
   },
   "file_extension": ".py",
   "mimetype": "text/x-python",
   "name": "python",
   "nbconvert_exporter": "python",
   "pygments_lexer": "ipython3",
   "version": "3.8.11"
  }
 },
 "nbformat": 4,
 "nbformat_minor": 5
}
