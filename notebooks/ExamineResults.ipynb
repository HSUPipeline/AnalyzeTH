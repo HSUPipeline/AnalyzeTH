{
 "cells": [
  {
   "cell_type": "markdown",
   "id": "c0fa1b69",
   "metadata": {},
   "source": [
    "# Examine Results"
   ]
  },
  {
   "cell_type": "code",
   "execution_count": 26,
   "id": "51e5da01",
   "metadata": {},
   "outputs": [],
   "source": [
    "from pathlib import Path\n",
    "\n",
    "import numpy as np\n",
    "import pandas as pd\n",
    "\n",
    "from convnwb.io import get_files, load_json\n",
    "\n",
    "from spiketools.plts.data import plot_hist\n",
    "from spiketools.plts.utils import make_axes"
   ]
  },
  {
   "cell_type": "code",
   "execution_count": 27,
   "id": "e9dfcac0",
   "metadata": {},
   "outputs": [],
   "source": [
    "import seaborn as sns\n",
    "sns.set_context('talk')"
   ]
  },
  {
   "cell_type": "markdown",
   "id": "bc5919e2",
   "metadata": {},
   "source": [
    "## Settings"
   ]
  },
  {
   "cell_type": "code",
   "execution_count": 124,
   "id": "0a0177e3",
   "metadata": {},
   "outputs": [],
   "source": [
    "# Set which task to run\n",
    "task = 'THF'"
   ]
  },
  {
   "cell_type": "code",
   "execution_count": 125,
   "id": "153c1373",
   "metadata": {},
   "outputs": [],
   "source": [
    "# Set the folder to load results from\n",
    "base_path = Path('../results/units/')\n",
    "data_path = base_path / task"
   ]
  },
  {
   "cell_type": "code",
   "execution_count": 126,
   "id": "8f155f37",
   "metadata": {},
   "outputs": [],
   "source": [
    "# Get the list of files\n",
    "res_files = get_files(data_path, select='json')"
   ]
  },
  {
   "cell_type": "code",
   "execution_count": 127,
   "id": "d4aac3b0",
   "metadata": {},
   "outputs": [],
   "source": [
    "# Check the number of available files\n",
    "n_files = len(res_files)"
   ]
  },
  {
   "cell_type": "markdown",
   "id": "38fa09de",
   "metadata": {},
   "source": [
    "## Load Example File"
   ]
  },
  {
   "cell_type": "code",
   "execution_count": 128,
   "id": "38ac3696",
   "metadata": {},
   "outputs": [],
   "source": [
    "# Load an example file\n",
    "file = res_files[0]\n",
    "data = load_json(file, folder=str(data_path))"
   ]
  },
  {
   "cell_type": "code",
   "execution_count": 129,
   "id": "638db8f2",
   "metadata": {},
   "outputs": [
    {
     "data": {
      "text/plain": [
       "{'session': 'THF_wv001_session_0',\n",
       " 'uid': 0,\n",
       " 'wvID': 1,\n",
       " 'keep': True,\n",
       " 'cluster': 2229,\n",
       " 'channel': 'A10',\n",
       " 'location': 'LAH',\n",
       " 'n_spikes': 630,\n",
       " 'firing_rate': 0.5209363104557019,\n",
       " 'fr_t_val_all': 0.8389638796320972,\n",
       " 'fr_p_val_all': 0.40512130494096255,\n",
       " 'fr_t_val_empt': -1.1567316754606853,\n",
       " 'fr_p_val_empt': 0.26171909017147665,\n",
       " 'fr_t_val_full': 1.3106454177400326,\n",
       " 'fr_p_val_full': 0.19851310673361375,\n",
       " 'place_value': 2.8305826115091426,\n",
       " 'place_p_val': 0.46,\n",
       " 'place_z_score': -0.0766708783269144,\n",
       " 'target_value': 3.6817438133936484,\n",
       " 'target_p_val': 0.35,\n",
       " 'target_z_score': 0.35394001116174667,\n",
       " 'sp_p_val': 0.56,\n",
       " 'sp_z_score': -0.23936511422130538}"
      ]
     },
     "execution_count": 129,
     "metadata": {},
     "output_type": "execute_result"
    }
   ],
   "source": [
    "# Check example file\n",
    "data"
   ]
  },
  {
   "cell_type": "markdown",
   "id": "1045e2f8",
   "metadata": {},
   "source": [
    "## Collect Results"
   ]
  },
  {
   "cell_type": "code",
   "execution_count": 130,
   "id": "b268abd8",
   "metadata": {},
   "outputs": [],
   "source": [
    "# Collect all unit results together into a dataframe\n",
    "all_results = pd.DataFrame()\n",
    "for file in res_files:\n",
    "    cur_results = load_json(file, folder=data_path)\n",
    "    all_results = all_results.append(cur_results, ignore_index=True)"
   ]
  },
  {
   "cell_type": "code",
   "execution_count": 131,
   "id": "b5396cac",
   "metadata": {},
   "outputs": [],
   "source": [
    "# Clean up some datatypes - cast integers\n",
    "set_ints = ['uid', 'wvID', 'keep', 'cluster', 'n_spikes']\n",
    "all_results[set_ints] = all_results[set_ints].astype('int')"
   ]
  },
  {
   "cell_type": "code",
   "execution_count": 132,
   "id": "62db4a29",
   "metadata": {},
   "outputs": [
    {
     "data": {
      "text/plain": [
       "Index(['session', 'uid', 'wvID', 'keep', 'cluster', 'channel', 'location',\n",
       "       'n_spikes', 'firing_rate', 'fr_t_val_all', 'fr_p_val_all',\n",
       "       'fr_t_val_empt', 'fr_p_val_empt', 'fr_t_val_full', 'fr_p_val_full',\n",
       "       'place_value', 'place_p_val', 'place_z_score', 'target_value',\n",
       "       'target_p_val', 'target_z_score', 'sp_p_val', 'sp_z_score'],\n",
       "      dtype='object')"
      ]
     },
     "execution_count": 132,
     "metadata": {},
     "output_type": "execute_result"
    }
   ],
   "source": [
    "# Check the columns\n",
    "all_results.columns"
   ]
  },
  {
   "cell_type": "code",
   "execution_count": 133,
   "id": "df60560e",
   "metadata": {},
   "outputs": [
    {
     "data": {
      "text/html": [
       "<div>\n",
       "<style scoped>\n",
       "    .dataframe tbody tr th:only-of-type {\n",
       "        vertical-align: middle;\n",
       "    }\n",
       "\n",
       "    .dataframe tbody tr th {\n",
       "        vertical-align: top;\n",
       "    }\n",
       "\n",
       "    .dataframe thead th {\n",
       "        text-align: right;\n",
       "    }\n",
       "</style>\n",
       "<table border=\"1\" class=\"dataframe\">\n",
       "  <thead>\n",
       "    <tr style=\"text-align: right;\">\n",
       "      <th></th>\n",
       "      <th>session</th>\n",
       "      <th>uid</th>\n",
       "      <th>wvID</th>\n",
       "      <th>keep</th>\n",
       "      <th>cluster</th>\n",
       "      <th>channel</th>\n",
       "      <th>location</th>\n",
       "      <th>n_spikes</th>\n",
       "      <th>firing_rate</th>\n",
       "      <th>fr_t_val_all</th>\n",
       "      <th>...</th>\n",
       "      <th>fr_t_val_full</th>\n",
       "      <th>fr_p_val_full</th>\n",
       "      <th>place_value</th>\n",
       "      <th>place_p_val</th>\n",
       "      <th>place_z_score</th>\n",
       "      <th>target_value</th>\n",
       "      <th>target_p_val</th>\n",
       "      <th>target_z_score</th>\n",
       "      <th>sp_p_val</th>\n",
       "      <th>sp_z_score</th>\n",
       "    </tr>\n",
       "  </thead>\n",
       "  <tbody>\n",
       "    <tr>\n",
       "      <th>0</th>\n",
       "      <td>THF_wv001_session_0</td>\n",
       "      <td>0</td>\n",
       "      <td>1</td>\n",
       "      <td>1</td>\n",
       "      <td>2229</td>\n",
       "      <td>A10</td>\n",
       "      <td>LAH</td>\n",
       "      <td>630</td>\n",
       "      <td>0.520936</td>\n",
       "      <td>0.838964</td>\n",
       "      <td>...</td>\n",
       "      <td>1.310645</td>\n",
       "      <td>0.198513</td>\n",
       "      <td>2.830583</td>\n",
       "      <td>0.460</td>\n",
       "      <td>-0.076671</td>\n",
       "      <td>3.681744</td>\n",
       "      <td>0.350</td>\n",
       "      <td>0.353940</td>\n",
       "      <td>0.560</td>\n",
       "      <td>-0.239365</td>\n",
       "    </tr>\n",
       "    <tr>\n",
       "      <th>1</th>\n",
       "      <td>THF_wv001_session_0</td>\n",
       "      <td>1</td>\n",
       "      <td>2</td>\n",
       "      <td>1</td>\n",
       "      <td>2360</td>\n",
       "      <td>A10</td>\n",
       "      <td>LAH</td>\n",
       "      <td>454</td>\n",
       "      <td>0.371356</td>\n",
       "      <td>0.747516</td>\n",
       "      <td>...</td>\n",
       "      <td>2.223143</td>\n",
       "      <td>0.032760</td>\n",
       "      <td>0.823905</td>\n",
       "      <td>0.460</td>\n",
       "      <td>-0.099138</td>\n",
       "      <td>2.939554</td>\n",
       "      <td>0.790</td>\n",
       "      <td>-0.783387</td>\n",
       "      <td>0.374</td>\n",
       "      <td>0.334731</td>\n",
       "    </tr>\n",
       "    <tr>\n",
       "      <th>2</th>\n",
       "      <td>THF_wv001_session_0</td>\n",
       "      <td>2</td>\n",
       "      <td>3</td>\n",
       "      <td>1</td>\n",
       "      <td>2421</td>\n",
       "      <td>A10</td>\n",
       "      <td>LAH</td>\n",
       "      <td>580</td>\n",
       "      <td>0.468688</td>\n",
       "      <td>0.659236</td>\n",
       "      <td>...</td>\n",
       "      <td>0.680864</td>\n",
       "      <td>0.500437</td>\n",
       "      <td>0.718185</td>\n",
       "      <td>0.490</td>\n",
       "      <td>-0.238432</td>\n",
       "      <td>2.197244</td>\n",
       "      <td>0.774</td>\n",
       "      <td>-0.781913</td>\n",
       "      <td>0.456</td>\n",
       "      <td>0.055521</td>\n",
       "    </tr>\n",
       "    <tr>\n",
       "      <th>3</th>\n",
       "      <td>THF_wv001_session_0</td>\n",
       "      <td>3</td>\n",
       "      <td>4</td>\n",
       "      <td>1</td>\n",
       "      <td>2556</td>\n",
       "      <td>A10</td>\n",
       "      <td>LAH</td>\n",
       "      <td>2164</td>\n",
       "      <td>1.734822</td>\n",
       "      <td>-0.051453</td>\n",
       "      <td>...</td>\n",
       "      <td>-0.739510</td>\n",
       "      <td>0.464529</td>\n",
       "      <td>1.384430</td>\n",
       "      <td>0.136</td>\n",
       "      <td>1.097652</td>\n",
       "      <td>2.738234</td>\n",
       "      <td>0.790</td>\n",
       "      <td>-0.797969</td>\n",
       "      <td>0.456</td>\n",
       "      <td>0.045387</td>\n",
       "    </tr>\n",
       "    <tr>\n",
       "      <th>4</th>\n",
       "      <td>THF_wv001_session_0</td>\n",
       "      <td>4</td>\n",
       "      <td>5</td>\n",
       "      <td>1</td>\n",
       "      <td>774</td>\n",
       "      <td>A15</td>\n",
       "      <td>LAH</td>\n",
       "      <td>342</td>\n",
       "      <td>0.276226</td>\n",
       "      <td>-0.850696</td>\n",
       "      <td>...</td>\n",
       "      <td>-0.320374</td>\n",
       "      <td>0.750590</td>\n",
       "      <td>1.140394</td>\n",
       "      <td>0.364</td>\n",
       "      <td>-0.085948</td>\n",
       "      <td>2.538141</td>\n",
       "      <td>0.240</td>\n",
       "      <td>0.654623</td>\n",
       "      <td>0.582</td>\n",
       "      <td>-0.268768</td>\n",
       "    </tr>\n",
       "  </tbody>\n",
       "</table>\n",
       "<p>5 rows × 23 columns</p>\n",
       "</div>"
      ],
      "text/plain": [
       "               session  uid  wvID  keep  cluster channel location  n_spikes  \\\n",
       "0  THF_wv001_session_0    0     1     1     2229     A10      LAH       630   \n",
       "1  THF_wv001_session_0    1     2     1     2360     A10      LAH       454   \n",
       "2  THF_wv001_session_0    2     3     1     2421     A10      LAH       580   \n",
       "3  THF_wv001_session_0    3     4     1     2556     A10      LAH      2164   \n",
       "4  THF_wv001_session_0    4     5     1      774     A15      LAH       342   \n",
       "\n",
       "   firing_rate  fr_t_val_all  ...  fr_t_val_full  fr_p_val_full  place_value  \\\n",
       "0     0.520936      0.838964  ...       1.310645       0.198513     2.830583   \n",
       "1     0.371356      0.747516  ...       2.223143       0.032760     0.823905   \n",
       "2     0.468688      0.659236  ...       0.680864       0.500437     0.718185   \n",
       "3     1.734822     -0.051453  ...      -0.739510       0.464529     1.384430   \n",
       "4     0.276226     -0.850696  ...      -0.320374       0.750590     1.140394   \n",
       "\n",
       "   place_p_val  place_z_score  target_value  target_p_val  target_z_score  \\\n",
       "0        0.460      -0.076671      3.681744         0.350        0.353940   \n",
       "1        0.460      -0.099138      2.939554         0.790       -0.783387   \n",
       "2        0.490      -0.238432      2.197244         0.774       -0.781913   \n",
       "3        0.136       1.097652      2.738234         0.790       -0.797969   \n",
       "4        0.364      -0.085948      2.538141         0.240        0.654623   \n",
       "\n",
       "   sp_p_val  sp_z_score  \n",
       "0     0.560   -0.239365  \n",
       "1     0.374    0.334731  \n",
       "2     0.456    0.055521  \n",
       "3     0.456    0.045387  \n",
       "4     0.582   -0.268768  \n",
       "\n",
       "[5 rows x 23 columns]"
      ]
     },
     "execution_count": 133,
     "metadata": {},
     "output_type": "execute_result"
    }
   ],
   "source": [
    "# Check the head of the results\n",
    "all_results.head()"
   ]
  },
  {
   "cell_type": "markdown",
   "id": "3e423866-1009-4799-b4c2-ea3350c8b953",
   "metadata": {},
   "source": [
    "### Location Checks"
   ]
  },
  {
   "cell_type": "code",
   "execution_count": 134,
   "id": "a12f7832-8094-4014-ab3c-60fe9278f4cb",
   "metadata": {},
   "outputs": [
    {
     "data": {
      "text/plain": [
       "{'LA', 'LAH', 'LPH', 'RA', 'RAH', 'RPH'}"
      ]
     },
     "execution_count": 134,
     "metadata": {},
     "output_type": "execute_result"
    }
   ],
   "source": [
    "# Check the set of sampled locations\n",
    "set(all_results['location'])"
   ]
  },
  {
   "cell_type": "code",
   "execution_count": 135,
   "id": "9cd107f0-1569-4f5e-a13c-cc191db4460b",
   "metadata": {},
   "outputs": [
    {
     "data": {
      "text/plain": [
       "<AxesSubplot:>"
      ]
     },
     "execution_count": 135,
     "metadata": {},
     "output_type": "execute_result"
    },
    {
     "data": {
      "image/png": "[encoded data removed]",
      "text/plain": [
       "<Figure size 432x288 with 1 Axes>"
      ]
     },
     "metadata": {
      "needs_background": "light"
     },
     "output_type": "display_data"
    }
   ],
   "source": [
    "# Plot the counts per location\n",
    "all_results['location'].value_counts().plot(kind='bar')"
   ]
  },
  {
   "cell_type": "markdown",
   "id": "ec813f2d",
   "metadata": {},
   "source": [
    "### Firing Rate Checks"
   ]
  },
  {
   "cell_type": "code",
   "execution_count": 136,
   "id": "1fb61e88-1874-4cdd-85ae-3a389072324c",
   "metadata": {},
   "outputs": [],
   "source": [
    "# Note: is an inf value for firing rate..."
   ]
  },
  {
   "cell_type": "code",
   "execution_count": 137,
   "id": "df210ef1-0990-4e9d-a31f-dcfd09d4d150",
   "metadata": {},
   "outputs": [],
   "source": [
    "# Plot the distribution of firing rates\n",
    "#plot_hist(all_results['firing_rate'].values)"
   ]
  },
  {
   "cell_type": "code",
   "execution_count": 138,
   "id": "63ee9111",
   "metadata": {},
   "outputs": [],
   "source": [
    "# Add a marker for firing rate threshold in our task\n",
    "all_results['frhisteep_th'] = (all_results['firing_rate'] < 0.5).values"
   ]
  },
  {
   "cell_type": "markdown",
   "id": "dcb9e8b4",
   "metadata": {},
   "source": [
    "### Binary labels"
   ]
  },
  {
   "cell_type": "code",
   "execution_count": 139,
   "id": "fa6acef8",
   "metadata": {},
   "outputs": [],
   "source": [
    "# Set significance level\n",
    "ALPHA_LEVEL = 0.05"
   ]
  },
  {
   "cell_type": "code",
   "execution_count": 140,
   "id": "82809db3",
   "metadata": {},
   "outputs": [],
   "source": [
    "# Add binary labels for statistical tests\n",
    "all_results['is_chest_cell'] = all_results['fr_p_val_all'] < ALPHA_LEVEL\n",
    "all_results['is_full_cell'] = all_results['fr_p_val_full'] < ALPHA_LEVEL\n",
    "all_results['is_empty_cell'] = all_results['fr_p_val_empt'] < ALPHA_LEVEL\n",
    "all_results['is_place_cell'] = all_results['place_p_val'] < ALPHA_LEVEL\n",
    "all_results['is_target_cell'] = all_results['target_p_val'] < ALPHA_LEVEL\n",
    "all_results['is_sp_cell'] = all_results['sp_p_val'] < ALPHA_LEVEL\n",
    "#all_results['is_head_direction_cell'] = all_results['hd_p_val'] < ALPHA_LEVEL"
   ]
  },
  {
   "cell_type": "markdown",
   "id": "62b53e5b",
   "metadata": {},
   "source": [
    "### Check numbers"
   ]
  },
  {
   "cell_type": "code",
   "execution_count": 141,
   "id": "a47918ce",
   "metadata": {},
   "outputs": [
    {
     "name": "stdout",
     "output_type": "stream",
     "text": [
      "Total number of cells: 602\n"
     ]
    }
   ],
   "source": [
    "# Check the total number of cells\n",
    "print('Total number of cells: {}'.format(n_files))"
   ]
  },
  {
   "cell_type": "markdown",
   "id": "acbab1b8",
   "metadata": {},
   "source": [
    "## Check Results"
   ]
  },
  {
   "cell_type": "code",
   "execution_count": 142,
   "id": "c9d253e3-3547-4d0d-84d1-d01d34162bfe",
   "metadata": {},
   "outputs": [],
   "source": [
    "n_cells = len(all_results)"
   ]
  },
  {
   "cell_type": "code",
   "execution_count": 143,
   "id": "eeff0160-2bd8-4fcc-bccc-dbb5f50b45f6",
   "metadata": {},
   "outputs": [],
   "source": [
    "n_chest_cells = sum(all_results['is_chest_cell'])\n",
    "n_full_cells = sum(all_results['is_full_cell'])\n",
    "n_empty_cells = sum(all_results['is_empty_cell'])\n",
    "n_place_cells = sum(all_results['is_place_cell'])\n",
    "n_target_cells = sum(all_results['is_target_cell'])\n",
    "n_sp_cells = sum(all_results['is_sp_cell'])"
   ]
  },
  {
   "cell_type": "code",
   "execution_count": 144,
   "id": "c99d744b-7c56-4adc-ab19-d2b46cbfb668",
   "metadata": {},
   "outputs": [
    {
     "name": "stdout",
     "output_type": "stream",
     "text": [
      "THF - total cells: 602\n",
      "\n",
      "# chest cells: \t\t81 (0.13)\n",
      "# full cells:  \t\t108 (0.18)\n",
      "# empty cells: \t\t40 (0.07)\n",
      "# place cells: \t\t 9 (0.01)\n",
      "# target cells:\t\t 4 (0.01)\n",
      "# sp cells:\t\t 1 (0.00)\n"
     ]
    }
   ],
   "source": [
    "print('{} - total cells: {}\\n'.format(task, n_cells))\n",
    "print('# chest cells: \\t\\t{:2d} ({:1.2f})'.format(n_chest_cells, n_chest_cells / n_cells))\n",
    "print('# full cells:  \\t\\t{:2d} ({:1.2f})'.format(n_full_cells, n_full_cells / n_cells))\n",
    "print('# empty cells: \\t\\t{:2d} ({:1.2f})'.format(n_empty_cells, n_empty_cells / n_cells))\n",
    "print('# place cells: \\t\\t{:2d} ({:1.2f})'.format(n_place_cells, n_place_cells / n_cells))\n",
    "print('# target cells:\\t\\t{:2d} ({:1.2f})'.format(n_target_cells, n_target_cells / n_cells))\n",
    "print('# sp cells:\\t\\t{:2d} ({:1.2f})'.format(n_sp_cells, n_sp_cells / n_cells))"
   ]
  },
  {
   "cell_type": "markdown",
   "id": "b8b281bb-a37b-4f5e-b4c8-57905ed2d79c",
   "metadata": {},
   "source": [
    "## Distributions"
   ]
  },
  {
   "cell_type": "code",
   "execution_count": 145,
   "id": "a50ddaee-ca71-4673-80cb-f08ae707a9ac",
   "metadata": {},
   "outputs": [],
   "source": [
    "# Plot settings\n",
    "bins = 25"
   ]
  },
  {
   "cell_type": "markdown",
   "id": "293b387d-d30f-43b8-bb98-76a28491d38d",
   "metadata": {},
   "source": [
    "### Chest Measures"
   ]
  },
  {
   "cell_type": "code",
   "execution_count": 146,
   "id": "4ad3fc56-2d3b-46ca-8015-973365c8ea6f",
   "metadata": {},
   "outputs": [
    {
     "data": {
      "image/png": "[encoded data removed]",
      "text/plain": [
       "<Figure size 1080x288 with 3 Axes>"
      ]
     },
     "metadata": {
      "needs_background": "light"
     },
     "output_type": "display_data"
    }
   ],
   "source": [
    "# Plot t-values of the chest measures\n",
    "axes = make_axes(3, 3, figsize=(15, 4))\n",
    "plot_hist(all_results.fr_t_val_all.values, title='Chests (all) - t values', bins=bins, ax=axes[0])\n",
    "plot_hist(all_results.fr_t_val_full.values, title='Chests (full) - t values', bins=bins, ax=axes[1])\n",
    "plot_hist(all_results.fr_t_val_empt.values, title='Chests (empty) - t values', bins=bins, ax=axes[2])"
   ]
  },
  {
   "cell_type": "code",
   "execution_count": 147,
   "id": "e9393a84-16ec-408d-8427-82528249fe17",
   "metadata": {},
   "outputs": [
    {
     "data": {
      "image/png": "[encoded data removed]",
      "text/plain": [
       "<Figure size 1080x288 with 3 Axes>"
      ]
     },
     "metadata": {
      "needs_background": "light"
     },
     "output_type": "display_data"
    }
   ],
   "source": [
    "# Plot p-values of the chest measures\n",
    "axes = make_axes(3, 3, figsize=(15, 4))\n",
    "plot_hist(all_results.fr_p_val_all.values, title='Chests (all) - p values', bins=bins, ax=axes[0])\n",
    "plot_hist(all_results.fr_p_val_full.values, title='Chests (full) - p values', bins=bins, ax=axes[1])\n",
    "plot_hist(all_results.fr_p_val_empt.values, title='Chests (empty) - p values', bins=bins, ax=axes[2])"
   ]
  },
  {
   "cell_type": "markdown",
   "id": "915fbc4b-ba22-4758-8991-61559dace9cb",
   "metadata": {},
   "source": [
    "### Position & Sequence Measures"
   ]
  },
  {
   "cell_type": "code",
   "execution_count": 148,
   "id": "2083a365",
   "metadata": {},
   "outputs": [
    {
     "data": {
      "image/png": "[encoded data removed]",
      "text/plain": [
       "<Figure size 1080x288 with 3 Axes>"
      ]
     },
     "metadata": {
      "needs_background": "light"
     },
     "output_type": "display_data"
    }
   ],
   "source": [
    "# Plot measure values of the position & sequence measures\n",
    "axes = make_axes(3, 3, figsize=(15, 4))\n",
    "plot_hist(all_results.place_value.values, title='Place - measures', bins=bins, ax=axes[0])\n",
    "plot_hist(all_results.target_value.values, title='Target - measures', bins=bins, ax=axes[1])\n",
    "#plot_hist(all_results.sp_value.values, title='Serial Position - measures', bins=bins, ax=axes[2])"
   ]
  },
  {
   "cell_type": "code",
   "execution_count": 149,
   "id": "2b9d0bc6-7a2d-4bba-ba88-27d31accbf9e",
   "metadata": {},
   "outputs": [
    {
     "data": {
      "image/png": "[encoded data removed]",
      "text/plain": [
       "<Figure size 1080x288 with 3 Axes>"
      ]
     },
     "metadata": {
      "needs_background": "light"
     },
     "output_type": "display_data"
    }
   ],
   "source": [
    "# Plot surrogate z-scores of the position & sequence measures\n",
    "axes = make_axes(3, 3, figsize=(15, 4))\n",
    "plot_hist(all_results.place_z_score.values, title='Place - z score', ax=axes[0])\n",
    "plot_hist(all_results.target_z_score.values, title='Target - z score', ax=axes[1])\n",
    "plot_hist(all_results.sp_z_score.values, title='Serial Position - z score', ax=axes[2])"
   ]
  },
  {
   "cell_type": "code",
   "execution_count": 150,
   "id": "c359d31c-7715-45fb-a9c8-852b54645c9c",
   "metadata": {},
   "outputs": [
    {
     "data": {
      "image/png": "[encoded data removed]",
      "text/plain": [
       "<Figure size 1080x288 with 3 Axes>"
      ]
     },
     "metadata": {
      "needs_background": "light"
     },
     "output_type": "display_data"
    }
   ],
   "source": [
    "# Plot p values of the position & sequence measures\n",
    "axes = make_axes(3, 3, figsize=(15, 4))\n",
    "plot_hist(all_results.place_p_val.values, title='Place - p values', bins=bins, ax=axes[0])\n",
    "plot_hist(all_results.target_p_val.values, title='Target - p values', bins=bins, ax=axes[1])\n",
    "plot_hist(all_results.sp_p_val.values, title='Serial Position - p values', bins=bins, ax=axes[2])"
   ]
  },
  {
   "cell_type": "markdown",
   "id": "702c2040",
   "metadata": {},
   "source": [
    "## Save out results"
   ]
  },
  {
   "cell_type": "code",
   "execution_count": 22,
   "id": "928207ef",
   "metadata": {},
   "outputs": [],
   "source": [
    "# Save out of CSV\n",
    "all_results.to_csv(task + '_all_results.csv')"
   ]
  }
 ],
 "metadata": {
  "kernelspec": {
   "display_name": "spike",
   "language": "python",
   "name": "spike"
  },
  "language_info": {
   "codemirror_mode": {
    "name": "ipython",
    "version": 3
   },
   "file_extension": ".py",
   "mimetype": "text/x-python",
   "name": "python",
   "nbconvert_exporter": "python",
   "pygments_lexer": "ipython3",
   "version": "3.8.12"
  }
 },
 "nbformat": 4,
 "nbformat_minor": 5
}
