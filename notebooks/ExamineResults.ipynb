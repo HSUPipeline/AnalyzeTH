{
 "cells": [
  {
   "cell_type": "markdown",
   "id": "c0fa1b69",
   "metadata": {},
   "source": [
    "# Examine Results"
   ]
  },
  {
   "cell_type": "code",
   "execution_count": 1,
   "id": "51e5da01",
   "metadata": {},
   "outputs": [],
   "source": [
    "%matplotlib inline\n",
    "\n",
    "import numpy as np\n",
    "import pandas as pd\n",
    "import matplotlib.pyplot as plt\n",
    "from scipy.stats import binom_test, chi2_contingency\n",
    "import seaborn as sns\n",
    "\n",
    "from convnwb.paths import Paths\n",
    "from convnwb.io import get_files, load_json, load_jsons_to_df, load_matfile\n",
    "\n",
    "from spiketools.plts.data import plot_hist, plot_bar\n",
    "from spiketools.plts.utils import make_axes\n",
    "from spiketools.plts.annotate import add_hlines"
   ]
  },
  {
   "cell_type": "code",
   "execution_count": 2,
   "id": "e9dfcac0",
   "metadata": {},
   "outputs": [],
   "source": [
    "import seaborn as sns\n",
    "sns.set_context('talk')"
   ]
  },
  {
   "cell_type": "code",
   "execution_count": 3,
   "id": "89ac456b-67e0-4230-a9ae-5700df11878b",
   "metadata": {},
   "outputs": [],
   "source": [
    "# Set pandas display options\n",
    "pd.options.display.max_columns = None"
   ]
  },
  {
   "cell_type": "markdown",
   "id": "bc5919e2",
   "metadata": {},
   "source": [
    "## Settings"
   ]
  },
  {
   "cell_type": "code",
   "execution_count": 4,
   "id": "0a0177e3",
   "metadata": {},
   "outputs": [],
   "source": [
    "# Set which experiment version to run\n",
    "experiment = 'THF'"
   ]
  },
  {
   "cell_type": "code",
   "execution_count": 5,
   "id": "efca497e-edc6-413a-9e4c-8420306a54f8",
   "metadata": {},
   "outputs": [],
   "source": [
    "# Define list of analyses\n",
    "analyses = ['chest', 'full', 'empty',\n",
    "            #'place',\n",
    "            'target',\n",
    "            'sp']\n",
    "\n",
    "# Collect names of analysis columns\n",
    "analysis_columns = ['is_' + analysis + '_cell' for analysis in analyses]"
   ]
  },
  {
   "cell_type": "code",
   "execution_count": 6,
   "id": "153c1373",
   "metadata": {},
   "outputs": [],
   "source": [
    "# Set the folder to load results from\n",
    "data_path = '../results/units/' + experiment"
   ]
  },
  {
   "cell_type": "markdown",
   "id": "383451dd-190d-4390-beb6-16e8efa506cb",
   "metadata": {},
   "source": [
    "## Check Files"
   ]
  },
  {
   "cell_type": "code",
   "execution_count": 7,
   "id": "8f155f37",
   "metadata": {},
   "outputs": [],
   "source": [
    "# Get the list of files\n",
    "res_files = get_files(data_path, select='session')"
   ]
  },
  {
   "cell_type": "code",
   "execution_count": 8,
   "id": "ca61f7a9-82fa-4e54-94c3-499a08ee316e",
   "metadata": {},
   "outputs": [],
   "source": [
    "# # Drop a specific set of files\n",
    "# res_files = [file for file in res_files if 'wv003' not in file]"
   ]
  },
  {
   "cell_type": "code",
   "execution_count": 9,
   "id": "6bdb7533-4201-4bf8-ac45-9ce194c6eb39",
   "metadata": {},
   "outputs": [],
   "source": [
    "# # Select a specific set of files\n",
    "# res_files = [file for file in res_files if 'wv001' in file]"
   ]
  },
  {
   "cell_type": "code",
   "execution_count": 10,
   "id": "bc42d46d-62d6-4634-843d-ea2d385908fd",
   "metadata": {},
   "outputs": [
    {
     "data": {
      "text/plain": [
       "643"
      ]
     },
     "execution_count": 10,
     "metadata": {},
     "output_type": "execute_result"
    }
   ],
   "source": [
    "# Check the number of available files\n",
    "n_files = len(res_files)\n",
    "n_files"
   ]
  },
  {
   "cell_type": "markdown",
   "id": "38fa09de",
   "metadata": {},
   "source": [
    "## Load Example File"
   ]
  },
  {
   "cell_type": "code",
   "execution_count": 11,
   "id": "38ac3696",
   "metadata": {},
   "outputs": [],
   "source": [
    "# Load an example file\n",
    "file = res_files[0]\n",
    "data = load_json(file, folder=str(data_path))"
   ]
  },
  {
   "cell_type": "code",
   "execution_count": 12,
   "id": "638db8f2",
   "metadata": {},
   "outputs": [],
   "source": [
    "# # Check example file\n",
    "# data"
   ]
  },
  {
   "cell_type": "markdown",
   "id": "1045e2f8",
   "metadata": {},
   "source": [
    "## Collect Results"
   ]
  },
  {
   "cell_type": "code",
   "execution_count": 13,
   "id": "c31a3fa1",
   "metadata": {},
   "outputs": [],
   "source": [
    "# Collect all unit results together into a dataframe\n",
    "all_results = load_jsons_to_df(res_files, folder=data_path)"
   ]
  },
  {
   "cell_type": "code",
   "execution_count": 14,
   "id": "b5396cac",
   "metadata": {},
   "outputs": [],
   "source": [
    "# # Clean up some datatypes - cast integers\n",
    "# set_ints = ['uid', 'wvID', 'keep', 'cluster', 'n_spikes']\n",
    "# all_results[set_ints] = all_results[set_ints].astype('int')"
   ]
  },
  {
   "cell_type": "code",
   "execution_count": 15,
   "id": "62db4a29",
   "metadata": {},
   "outputs": [
    {
     "data": {
      "text/plain": [
       "Index(['uid', 'session_id', 'subject_id', 'wvID', 'keep', 'n_spikes',\n",
       "       'firing_rate', 'cluster', 'channel', 'location', 'fr_t_val_all',\n",
       "       'fr_p_val_all', 'fr_t_val_empt', 'fr_p_val_empt', 'fr_t_val_full',\n",
       "       'fr_p_val_full', 'target_anova', 'serial_anova',\n",
       "       'target_anova_surr_p_val', 'target_anova_surr_z_score',\n",
       "       'serial_anova_surr_p_val', 'serial_anova_surr_z_score'],\n",
       "      dtype='object')"
      ]
     },
     "execution_count": 15,
     "metadata": {},
     "output_type": "execute_result"
    }
   ],
   "source": [
    "# Check the columns\n",
    "all_results.columns"
   ]
  },
  {
   "cell_type": "code",
   "execution_count": 16,
   "id": "df60560e",
   "metadata": {},
   "outputs": [
    {
     "data": {
      "text/html": [
       "<div>\n",
       "<style scoped>\n",
       "    .dataframe tbody tr th:only-of-type {\n",
       "        vertical-align: middle;\n",
       "    }\n",
       "\n",
       "    .dataframe tbody tr th {\n",
       "        vertical-align: top;\n",
       "    }\n",
       "\n",
       "    .dataframe thead th {\n",
       "        text-align: right;\n",
       "    }\n",
       "</style>\n",
       "<table border=\"1\" class=\"dataframe\">\n",
       "  <thead>\n",
       "    <tr style=\"text-align: right;\">\n",
       "      <th></th>\n",
       "      <th>uid</th>\n",
       "      <th>session_id</th>\n",
       "      <th>subject_id</th>\n",
       "      <th>wvID</th>\n",
       "      <th>keep</th>\n",
       "      <th>n_spikes</th>\n",
       "      <th>firing_rate</th>\n",
       "      <th>cluster</th>\n",
       "      <th>channel</th>\n",
       "      <th>location</th>\n",
       "      <th>fr_t_val_all</th>\n",
       "      <th>fr_p_val_all</th>\n",
       "      <th>fr_t_val_empt</th>\n",
       "      <th>fr_p_val_empt</th>\n",
       "      <th>fr_t_val_full</th>\n",
       "      <th>fr_p_val_full</th>\n",
       "      <th>target_anova</th>\n",
       "      <th>serial_anova</th>\n",
       "      <th>target_anova_surr_p_val</th>\n",
       "      <th>target_anova_surr_z_score</th>\n",
       "      <th>serial_anova_surr_p_val</th>\n",
       "      <th>serial_anova_surr_z_score</th>\n",
       "    </tr>\n",
       "  </thead>\n",
       "  <tbody>\n",
       "    <tr>\n",
       "      <th>0</th>\n",
       "      <td>0</td>\n",
       "      <td>THF_wv001_session_0</td>\n",
       "      <td>wv001</td>\n",
       "      <td>1</td>\n",
       "      <td>True</td>\n",
       "      <td>630</td>\n",
       "      <td>0.520936</td>\n",
       "      <td>2229</td>\n",
       "      <td>A10</td>\n",
       "      <td>LAH</td>\n",
       "      <td>0.838964</td>\n",
       "      <td>0.405121</td>\n",
       "      <td>-1.156732</td>\n",
       "      <td>0.261719</td>\n",
       "      <td>1.310645</td>\n",
       "      <td>0.198513</td>\n",
       "      <td>1.591088</td>\n",
       "      <td>0.966072</td>\n",
       "      <td>0.149</td>\n",
       "      <td>0.973302</td>\n",
       "      <td>0.395</td>\n",
       "      <td>-0.024754</td>\n",
       "    </tr>\n",
       "    <tr>\n",
       "      <th>1</th>\n",
       "      <td>1</td>\n",
       "      <td>THF_wv001_session_0</td>\n",
       "      <td>wv001</td>\n",
       "      <td>2</td>\n",
       "      <td>True</td>\n",
       "      <td>454</td>\n",
       "      <td>0.371356</td>\n",
       "      <td>2360</td>\n",
       "      <td>A10</td>\n",
       "      <td>LAH</td>\n",
       "      <td>0.747516</td>\n",
       "      <td>0.457936</td>\n",
       "      <td>-1.071432</td>\n",
       "      <td>0.297397</td>\n",
       "      <td>2.223143</td>\n",
       "      <td>0.032760</td>\n",
       "      <td>0.931677</td>\n",
       "      <td>1.034851</td>\n",
       "      <td>0.464</td>\n",
       "      <td>-0.183516</td>\n",
       "      <td>0.383</td>\n",
       "      <td>0.031135</td>\n",
       "    </tr>\n",
       "    <tr>\n",
       "      <th>2</th>\n",
       "      <td>2</td>\n",
       "      <td>THF_wv001_session_0</td>\n",
       "      <td>wv001</td>\n",
       "      <td>3</td>\n",
       "      <td>True</td>\n",
       "      <td>580</td>\n",
       "      <td>0.468688</td>\n",
       "      <td>2421</td>\n",
       "      <td>A10</td>\n",
       "      <td>LAH</td>\n",
       "      <td>0.659236</td>\n",
       "      <td>0.512495</td>\n",
       "      <td>0.281954</td>\n",
       "      <td>0.781027</td>\n",
       "      <td>0.680864</td>\n",
       "      <td>0.500437</td>\n",
       "      <td>0.810753</td>\n",
       "      <td>1.183255</td>\n",
       "      <td>0.526</td>\n",
       "      <td>-0.262694</td>\n",
       "      <td>0.196</td>\n",
       "      <td>0.562684</td>\n",
       "    </tr>\n",
       "    <tr>\n",
       "      <th>3</th>\n",
       "      <td>3</td>\n",
       "      <td>THF_wv001_session_0</td>\n",
       "      <td>wv001</td>\n",
       "      <td>4</td>\n",
       "      <td>True</td>\n",
       "      <td>2164</td>\n",
       "      <td>1.734822</td>\n",
       "      <td>2556</td>\n",
       "      <td>A10</td>\n",
       "      <td>LAH</td>\n",
       "      <td>-0.051453</td>\n",
       "      <td>0.959151</td>\n",
       "      <td>1.046558</td>\n",
       "      <td>0.308436</td>\n",
       "      <td>-0.739510</td>\n",
       "      <td>0.464529</td>\n",
       "      <td>2.017667</td>\n",
       "      <td>1.482066</td>\n",
       "      <td>0.061</td>\n",
       "      <td>1.680190</td>\n",
       "      <td>0.166</td>\n",
       "      <td>0.635558</td>\n",
       "    </tr>\n",
       "    <tr>\n",
       "      <th>4</th>\n",
       "      <td>4</td>\n",
       "      <td>THF_wv001_session_0</td>\n",
       "      <td>wv001</td>\n",
       "      <td>5</td>\n",
       "      <td>True</td>\n",
       "      <td>342</td>\n",
       "      <td>0.276226</td>\n",
       "      <td>774</td>\n",
       "      <td>A15</td>\n",
       "      <td>LAH</td>\n",
       "      <td>-0.850696</td>\n",
       "      <td>0.398627</td>\n",
       "      <td>-0.842344</td>\n",
       "      <td>0.410074</td>\n",
       "      <td>-0.320374</td>\n",
       "      <td>0.750590</td>\n",
       "      <td>0.974146</td>\n",
       "      <td>0.667268</td>\n",
       "      <td>0.377</td>\n",
       "      <td>-0.051683</td>\n",
       "      <td>0.530</td>\n",
       "      <td>-0.298415</td>\n",
       "    </tr>\n",
       "  </tbody>\n",
       "</table>\n",
       "</div>"
      ],
      "text/plain": [
       "   uid           session_id subject_id  wvID  keep  n_spikes  firing_rate  \\\n",
       "0    0  THF_wv001_session_0      wv001     1  True       630     0.520936   \n",
       "1    1  THF_wv001_session_0      wv001     2  True       454     0.371356   \n",
       "2    2  THF_wv001_session_0      wv001     3  True       580     0.468688   \n",
       "3    3  THF_wv001_session_0      wv001     4  True      2164     1.734822   \n",
       "4    4  THF_wv001_session_0      wv001     5  True       342     0.276226   \n",
       "\n",
       "   cluster channel location  fr_t_val_all  fr_p_val_all  fr_t_val_empt  \\\n",
       "0     2229     A10      LAH      0.838964      0.405121      -1.156732   \n",
       "1     2360     A10      LAH      0.747516      0.457936      -1.071432   \n",
       "2     2421     A10      LAH      0.659236      0.512495       0.281954   \n",
       "3     2556     A10      LAH     -0.051453      0.959151       1.046558   \n",
       "4      774     A15      LAH     -0.850696      0.398627      -0.842344   \n",
       "\n",
       "   fr_p_val_empt  fr_t_val_full  fr_p_val_full  target_anova  serial_anova  \\\n",
       "0       0.261719       1.310645       0.198513      1.591088      0.966072   \n",
       "1       0.297397       2.223143       0.032760      0.931677      1.034851   \n",
       "2       0.781027       0.680864       0.500437      0.810753      1.183255   \n",
       "3       0.308436      -0.739510       0.464529      2.017667      1.482066   \n",
       "4       0.410074      -0.320374       0.750590      0.974146      0.667268   \n",
       "\n",
       "   target_anova_surr_p_val  target_anova_surr_z_score  \\\n",
       "0                    0.149                   0.973302   \n",
       "1                    0.464                  -0.183516   \n",
       "2                    0.526                  -0.262694   \n",
       "3                    0.061                   1.680190   \n",
       "4                    0.377                  -0.051683   \n",
       "\n",
       "   serial_anova_surr_p_val  serial_anova_surr_z_score  \n",
       "0                    0.395                  -0.024754  \n",
       "1                    0.383                   0.031135  \n",
       "2                    0.196                   0.562684  \n",
       "3                    0.166                   0.635558  \n",
       "4                    0.530                  -0.298415  "
      ]
     },
     "execution_count": 16,
     "metadata": {},
     "output_type": "execute_result"
    }
   ],
   "source": [
    "# Check the head of the results\n",
    "all_results.head()"
   ]
  },
  {
   "cell_type": "markdown",
   "id": "f4f3b797-c8f3-4142-a870-a06ca527cc3e",
   "metadata": {},
   "source": [
    "### Unit Checks"
   ]
  },
  {
   "cell_type": "code",
   "execution_count": 17,
   "id": "b7517c00-71d3-4d4f-be23-4dd92fc5baca",
   "metadata": {},
   "outputs": [
    {
     "name": "stdout",
     "output_type": "stream",
     "text": [
      "# neurons fr < 0.15: \t 40\n",
      "# neurons fr < 0.50: \t 225\n"
     ]
    }
   ],
   "source": [
    "# Firing rate threshold checks\n",
    "print('# neurons fr < 0.15: \\t', sum(all_results.firing_rate < 0.15))\n",
    "print('# neurons fr < 0.50: \\t', sum(all_results.firing_rate < 0.50))"
   ]
  },
  {
   "cell_type": "code",
   "execution_count": 18,
   "id": "cfd4eb39-40a0-4732-9c46-b1d87ca1fef0",
   "metadata": {},
   "outputs": [],
   "source": [
    "# # Plot the distribution of firing rates\n",
    "# plot_hist(all_results['firing_rate'].values)"
   ]
  },
  {
   "cell_type": "code",
   "execution_count": 19,
   "id": "cf8aff0f-bdce-4dc3-91da-302c0fd61bdb",
   "metadata": {},
   "outputs": [],
   "source": [
    "# Add a marker for firing rate threshold in the TH experiment\n",
    "all_results['keep_th'] = (all_results['firing_rate'] < 0.15).values"
   ]
  },
  {
   "cell_type": "code",
   "execution_count": 20,
   "id": "0fd48eed-5f63-4772-a315-b8e9178810bb",
   "metadata": {},
   "outputs": [],
   "source": [
    "# #\n",
    "# all_results = all_results[all_results.firing_rate > 0.15]"
   ]
  },
  {
   "cell_type": "code",
   "execution_count": 21,
   "id": "8591f64f-bb4c-4733-a5f9-cef97cf9e976",
   "metadata": {},
   "outputs": [
    {
     "name": "stdout",
     "output_type": "stream",
     "text": [
      "# neurons:  643\n"
     ]
    }
   ],
   "source": [
    "# Check number of neurons\n",
    "n_units = len(all_results)\n",
    "print('# neurons: ', n_units)"
   ]
  },
  {
   "cell_type": "markdown",
   "id": "3e423866-1009-4799-b4c2-ea3350c8b953",
   "metadata": {},
   "source": [
    "### Location Checks"
   ]
  },
  {
   "cell_type": "code",
   "execution_count": 22,
   "id": "a12f7832-8094-4014-ab3c-60fe9278f4cb",
   "metadata": {},
   "outputs": [
    {
     "data": {
      "text/plain": [
       "{'LA', 'LAH', 'LPH', 'RA', 'RAH', 'RPH'}"
      ]
     },
     "execution_count": 22,
     "metadata": {},
     "output_type": "execute_result"
    }
   ],
   "source": [
    "# Check the set of sampled locations\n",
    "locations = set(all_results['location'])\n",
    "locations"
   ]
  },
  {
   "cell_type": "code",
   "execution_count": 23,
   "id": "35e6c348-5369-4136-ad96-11355ac5f1ee",
   "metadata": {},
   "outputs": [
    {
     "data": {
      "text/plain": [
       "LA     229\n",
       "LPH    118\n",
       "LAH    112\n",
       "RA     103\n",
       "RAH     56\n",
       "RPH     25\n",
       "Name: location, dtype: int64"
      ]
     },
     "execution_count": 23,
     "metadata": {},
     "output_type": "execute_result"
    }
   ],
   "source": [
    "# Check location counts\n",
    "all_results['location'].value_counts()"
   ]
  },
  {
   "cell_type": "code",
   "execution_count": 24,
   "id": "9cd107f0-1569-4f5e-a13c-cc191db4460b",
   "metadata": {},
   "outputs": [
    {
     "data": {
      "text/plain": [
       "<AxesSubplot:>"
      ]
     },
     "execution_count": 24,
     "metadata": {},
     "output_type": "execute_result"
    },
    {
     "data": {
      "image/png": "[encoded data removed]",
      "text/plain": [
       "<Figure size 640x480 with 1 Axes>"
      ]
     },
     "metadata": {},
     "output_type": "display_data"
    }
   ],
   "source": [
    "# Plot the counts per location\n",
    "all_results['location'].value_counts().plot(kind='bar')"
   ]
  },
  {
   "cell_type": "code",
   "execution_count": 25,
   "id": "9ec576df-4188-45bb-a99f-4c64d65c73be",
   "metadata": {},
   "outputs": [],
   "source": [
    "# Define location map\n",
    "locmap = {'LA' : 'AMY',\n",
    "          'RA' : 'AMY',\n",
    "          'LAH' : 'AH',\n",
    "          'RAH' : 'AH',\n",
    "          'LPH' : 'PH',\n",
    "          'RPH' : 'PH'}"
   ]
  },
  {
   "cell_type": "code",
   "execution_count": 26,
   "id": "acbcb438-37ab-4dc1-9749-64931edc7744",
   "metadata": {},
   "outputs": [],
   "source": [
    "# Set and collect which area each unit it is\n",
    "all_results['region'] = all_results['location'].map(locmap)"
   ]
  },
  {
   "cell_type": "code",
   "execution_count": 27,
   "id": "dacec96f-47ab-411b-b276-134cfda86663",
   "metadata": {},
   "outputs": [
    {
     "data": {
      "text/plain": [
       "AMY    332\n",
       "AH     168\n",
       "PH     143\n",
       "Name: region, dtype: int64"
      ]
     },
     "execution_count": 27,
     "metadata": {},
     "output_type": "execute_result"
    }
   ],
   "source": [
    "# Check area counts\n",
    "all_results['region'].value_counts()"
   ]
  },
  {
   "cell_type": "code",
   "execution_count": 28,
   "id": "3e8a717f-b7cb-45fd-8dee-4c3d13efe5f6",
   "metadata": {},
   "outputs": [
    {
     "data": {
      "text/plain": [
       "<AxesSubplot:>"
      ]
     },
     "execution_count": 28,
     "metadata": {},
     "output_type": "execute_result"
    },
    {
     "data": {
      "image/png": "[encoded data removed]",
      "text/plain": [
       "<Figure size 640x480 with 1 Axes>"
      ]
     },
     "metadata": {},
     "output_type": "display_data"
    }
   ],
   "source": [
    "# Plot the counts per area\n",
    "all_results['region'].value_counts().plot(kind='bar')"
   ]
  },
  {
   "cell_type": "code",
   "execution_count": 29,
   "id": "184b6d91-ddd9-49b6-8fc2-224f73138af8",
   "metadata": {},
   "outputs": [
    {
     "data": {
      "text/plain": [
       "{'AH', 'AMY', 'PH'}"
      ]
     },
     "execution_count": 29,
     "metadata": {},
     "output_type": "execute_result"
    }
   ],
   "source": [
    "# Check the set of sampled areas\n",
    "regions = set(all_results['region'])\n",
    "regions"
   ]
  },
  {
   "cell_type": "markdown",
   "id": "dcb9e8b4",
   "metadata": {},
   "source": [
    "### Binary labels"
   ]
  },
  {
   "cell_type": "code",
   "execution_count": 30,
   "id": "fa6acef8",
   "metadata": {},
   "outputs": [],
   "source": [
    "# Set significance level\n",
    "ALPHA_LEVEL = 0.05"
   ]
  },
  {
   "cell_type": "code",
   "execution_count": 31,
   "id": "82809db3",
   "metadata": {},
   "outputs": [],
   "source": [
    "# Add binary labels for statistical tests\n",
    "all_results['is_chest_cell'] = all_results['fr_p_val_all'] < ALPHA_LEVEL\n",
    "all_results['is_full_cell'] = all_results['fr_p_val_full'] < ALPHA_LEVEL\n",
    "all_results['is_empty_cell'] = all_results['fr_p_val_empt'] < ALPHA_LEVEL\n",
    "#all_results['is_place_cell'] = all_results['place_anova_surr_p_val'] < ALPHA_LEVEL\n",
    "all_results['is_target_cell'] = all_results['target_anova_surr_p_val'] < ALPHA_LEVEL\n",
    "all_results['is_sp_cell'] = all_results['serial_anova_surr_p_val'] < ALPHA_LEVEL"
   ]
  },
  {
   "cell_type": "code",
   "execution_count": 32,
   "id": "31486753-2870-4877-8000-2eaf644da641",
   "metadata": {},
   "outputs": [],
   "source": [
    "# all_results['is_place_cell'] = all_results['place_info_surr_p_val'] < ALPHA_LEVEL\n",
    "# all_results['is_target_cell'] = all_results['target_info_surr_p_val'] < ALPHA_LEVEL"
   ]
  },
  {
   "cell_type": "markdown",
   "id": "62b53e5b",
   "metadata": {},
   "source": [
    "### Check numbers"
   ]
  },
  {
   "cell_type": "code",
   "execution_count": 33,
   "id": "a47918ce",
   "metadata": {},
   "outputs": [
    {
     "name": "stdout",
     "output_type": "stream",
     "text": [
      "Total number of cells: 643\n"
     ]
    }
   ],
   "source": [
    "# Check the total number of cells\n",
    "print('Total number of cells: {}'.format(n_files))"
   ]
  },
  {
   "cell_type": "markdown",
   "id": "acbab1b8",
   "metadata": {},
   "source": [
    "## Check Results"
   ]
  },
  {
   "cell_type": "code",
   "execution_count": 34,
   "id": "c9d253e3-3547-4d0d-84d1-d01d34162bfe",
   "metadata": {},
   "outputs": [],
   "source": [
    "# Get total number of units\n",
    "n_units = len(all_results)"
   ]
  },
  {
   "cell_type": "code",
   "execution_count": 35,
   "id": "7e1eed77-69cf-4032-8e98-4b3c1710b5e3",
   "metadata": {},
   "outputs": [],
   "source": [
    "# Collect numbers of significant cells\n",
    "results = {}\n",
    "for analysis in analyses:\n",
    "    results[analysis] = sum(all_results['is_' + analysis + '_cell'])"
   ]
  },
  {
   "cell_type": "code",
   "execution_count": 36,
   "id": "c7bb4864-c3d4-4653-a675-070d723ed66f",
   "metadata": {},
   "outputs": [],
   "source": [
    "# Compute significance of the counts of detected neurons\n",
    "stats = {}\n",
    "for analysis in analyses:\n",
    "    stats[analysis] = binom_test(results[analysis], n_units, ALPHA_LEVEL)"
   ]
  },
  {
   "cell_type": "code",
   "execution_count": 37,
   "id": "dce5b4d7-a7a0-4fc5-bbf3-9d567d022fac",
   "metadata": {},
   "outputs": [
    {
     "name": "stdout",
     "output_type": "stream",
     "text": [
      "THF - total cells: 643\n",
      "\n",
      "# chest cells:     \t\t 82  (12.75%) \t\t 0.0000\n",
      "# full cells:     \t\t108  (16.80%) \t\t 0.0000\n",
      "# empty cells:     \t\t 42  ( 6.53%) \t\t 0.0846\n",
      "# target cells:     \t\t 43  ( 6.69%) \t\t 0.0567\n",
      "# sp cells:     \t\t121  (18.82%) \t\t 0.0000\n"
     ]
    }
   ],
   "source": [
    "# Check the number & percent of significant cells per analysis\n",
    "print('{} - total cells: {}\\n'.format(experiment, n_units))\n",
    "for analysis in analyses:\n",
    "    print('# {} cells:     \\t\\t{:3d}  ({:5.2f}%) \\t\\t {:.4f}'.format(\\\n",
    "        analysis, results[analysis], results[analysis] / n_units * 100, stats[analysis]))"
   ]
  },
  {
   "cell_type": "markdown",
   "id": "1240acf7-a291-4681-8a63-74e8628d2026",
   "metadata": {},
   "source": [
    "## Save out results"
   ]
  },
  {
   "cell_type": "code",
   "execution_count": 38,
   "id": "bf1ce6ee-8d1b-4600-90cb-3e42cea53059",
   "metadata": {},
   "outputs": [],
   "source": [
    "# Save out of CSV\n",
    "#all_results.to_csv(experiment + '_all_results.csv')"
   ]
  },
  {
   "cell_type": "code",
   "execution_count": 39,
   "id": "2dbdfa17-0276-4c07-833c-989c7360a6cd",
   "metadata": {},
   "outputs": [],
   "source": [
    "# # TEMP - SAVE DF\n",
    "# all_results.to_csv(experiment + '_all_results_nov3.csv')"
   ]
  },
  {
   "cell_type": "markdown",
   "id": "8460d7c3-27ab-4066-993e-df58fca9505a",
   "metadata": {},
   "source": [
    "## Check Results by Subject / Session"
   ]
  },
  {
   "cell_type": "code",
   "execution_count": 40,
   "id": "2a9b9028-2689-4ad3-867c-34c9bd801666",
   "metadata": {},
   "outputs": [
    {
     "data": {
      "text/html": [
       "<div>\n",
       "<style scoped>\n",
       "    .dataframe tbody tr th:only-of-type {\n",
       "        vertical-align: middle;\n",
       "    }\n",
       "\n",
       "    .dataframe tbody tr th {\n",
       "        vertical-align: top;\n",
       "    }\n",
       "\n",
       "    .dataframe thead th {\n",
       "        text-align: right;\n",
       "    }\n",
       "</style>\n",
       "<table border=\"1\" class=\"dataframe\">\n",
       "  <thead>\n",
       "    <tr style=\"text-align: right;\">\n",
       "      <th></th>\n",
       "      <th>is_chest_cell</th>\n",
       "      <th>is_empty_cell</th>\n",
       "      <th>is_full_cell</th>\n",
       "      <th>is_sp_cell</th>\n",
       "      <th>is_target_cell</th>\n",
       "    </tr>\n",
       "    <tr>\n",
       "      <th>subject_id</th>\n",
       "      <th></th>\n",
       "      <th></th>\n",
       "      <th></th>\n",
       "      <th></th>\n",
       "      <th></th>\n",
       "    </tr>\n",
       "  </thead>\n",
       "  <tbody>\n",
       "    <tr>\n",
       "      <th>wv001</th>\n",
       "      <td>33</td>\n",
       "      <td>12</td>\n",
       "      <td>47</td>\n",
       "      <td>45</td>\n",
       "      <td>20</td>\n",
       "    </tr>\n",
       "    <tr>\n",
       "      <th>wv002</th>\n",
       "      <td>11</td>\n",
       "      <td>8</td>\n",
       "      <td>16</td>\n",
       "      <td>28</td>\n",
       "      <td>6</td>\n",
       "    </tr>\n",
       "    <tr>\n",
       "      <th>wv003</th>\n",
       "      <td>3</td>\n",
       "      <td>0</td>\n",
       "      <td>5</td>\n",
       "      <td>1</td>\n",
       "      <td>1</td>\n",
       "    </tr>\n",
       "    <tr>\n",
       "      <th>wv004</th>\n",
       "      <td>34</td>\n",
       "      <td>20</td>\n",
       "      <td>40</td>\n",
       "      <td>43</td>\n",
       "      <td>14</td>\n",
       "    </tr>\n",
       "    <tr>\n",
       "      <th>wv005</th>\n",
       "      <td>1</td>\n",
       "      <td>2</td>\n",
       "      <td>0</td>\n",
       "      <td>4</td>\n",
       "      <td>2</td>\n",
       "    </tr>\n",
       "  </tbody>\n",
       "</table>\n",
       "</div>"
      ],
      "text/plain": [
       "            is_chest_cell  is_empty_cell  is_full_cell  is_sp_cell  \\\n",
       "subject_id                                                           \n",
       "wv001                  33             12            47          45   \n",
       "wv002                  11              8            16          28   \n",
       "wv003                   3              0             5           1   \n",
       "wv004                  34             20            40          43   \n",
       "wv005                   1              2             0           4   \n",
       "\n",
       "            is_target_cell  \n",
       "subject_id                  \n",
       "wv001                   20  \n",
       "wv002                    6  \n",
       "wv003                    1  \n",
       "wv004                   14  \n",
       "wv005                    2  "
      ]
     },
     "execution_count": 40,
     "metadata": {},
     "output_type": "execute_result"
    }
   ],
   "source": [
    "# Check the number of detected cells per subject\n",
    "pd.pivot_table(all_results, analysis_columns, index='subject_id', aggfunc=np.sum)"
   ]
  },
  {
   "cell_type": "code",
   "execution_count": 41,
   "id": "cbcdd04a-3810-4a5c-b96e-209cc4afc7f7",
   "metadata": {},
   "outputs": [
    {
     "data": {
      "text/html": [
       "<div>\n",
       "<style scoped>\n",
       "    .dataframe tbody tr th:only-of-type {\n",
       "        vertical-align: middle;\n",
       "    }\n",
       "\n",
       "    .dataframe tbody tr th {\n",
       "        vertical-align: top;\n",
       "    }\n",
       "\n",
       "    .dataframe thead th {\n",
       "        text-align: right;\n",
       "    }\n",
       "</style>\n",
       "<table border=\"1\" class=\"dataframe\">\n",
       "  <thead>\n",
       "    <tr style=\"text-align: right;\">\n",
       "      <th></th>\n",
       "      <th></th>\n",
       "      <th>is_chest_cell</th>\n",
       "      <th>is_empty_cell</th>\n",
       "      <th>is_full_cell</th>\n",
       "      <th>is_sp_cell</th>\n",
       "      <th>is_target_cell</th>\n",
       "    </tr>\n",
       "    <tr>\n",
       "      <th>subject_id</th>\n",
       "      <th>session_id</th>\n",
       "      <th></th>\n",
       "      <th></th>\n",
       "      <th></th>\n",
       "      <th></th>\n",
       "      <th></th>\n",
       "    </tr>\n",
       "  </thead>\n",
       "  <tbody>\n",
       "    <tr>\n",
       "      <th rowspan=\"4\" valign=\"top\">wv001</th>\n",
       "      <th>THF_wv001_session_0</th>\n",
       "      <td>5</td>\n",
       "      <td>3</td>\n",
       "      <td>15</td>\n",
       "      <td>5</td>\n",
       "      <td>11</td>\n",
       "    </tr>\n",
       "    <tr>\n",
       "      <th>THF_wv001_session_2</th>\n",
       "      <td>9</td>\n",
       "      <td>3</td>\n",
       "      <td>12</td>\n",
       "      <td>7</td>\n",
       "      <td>2</td>\n",
       "    </tr>\n",
       "    <tr>\n",
       "      <th>THF_wv001_session_3</th>\n",
       "      <td>11</td>\n",
       "      <td>2</td>\n",
       "      <td>12</td>\n",
       "      <td>17</td>\n",
       "      <td>5</td>\n",
       "    </tr>\n",
       "    <tr>\n",
       "      <th>THF_wv001_session_4</th>\n",
       "      <td>8</td>\n",
       "      <td>4</td>\n",
       "      <td>8</td>\n",
       "      <td>16</td>\n",
       "      <td>2</td>\n",
       "    </tr>\n",
       "    <tr>\n",
       "      <th rowspan=\"2\" valign=\"top\">wv002</th>\n",
       "      <th>THF_wv002_session_0</th>\n",
       "      <td>7</td>\n",
       "      <td>5</td>\n",
       "      <td>13</td>\n",
       "      <td>13</td>\n",
       "      <td>3</td>\n",
       "    </tr>\n",
       "    <tr>\n",
       "      <th>THF_wv002_session_1</th>\n",
       "      <td>4</td>\n",
       "      <td>3</td>\n",
       "      <td>3</td>\n",
       "      <td>15</td>\n",
       "      <td>3</td>\n",
       "    </tr>\n",
       "    <tr>\n",
       "      <th>wv003</th>\n",
       "      <th>THF_wv003_session_0</th>\n",
       "      <td>3</td>\n",
       "      <td>0</td>\n",
       "      <td>5</td>\n",
       "      <td>1</td>\n",
       "      <td>1</td>\n",
       "    </tr>\n",
       "    <tr>\n",
       "      <th rowspan=\"2\" valign=\"top\">wv004</th>\n",
       "      <th>THF_wv004_session_0</th>\n",
       "      <td>24</td>\n",
       "      <td>14</td>\n",
       "      <td>26</td>\n",
       "      <td>17</td>\n",
       "      <td>4</td>\n",
       "    </tr>\n",
       "    <tr>\n",
       "      <th>THF_wv004_session_1</th>\n",
       "      <td>10</td>\n",
       "      <td>6</td>\n",
       "      <td>14</td>\n",
       "      <td>26</td>\n",
       "      <td>10</td>\n",
       "    </tr>\n",
       "    <tr>\n",
       "      <th>wv005</th>\n",
       "      <th>THF_wv005_session_0</th>\n",
       "      <td>1</td>\n",
       "      <td>2</td>\n",
       "      <td>0</td>\n",
       "      <td>4</td>\n",
       "      <td>2</td>\n",
       "    </tr>\n",
       "  </tbody>\n",
       "</table>\n",
       "</div>"
      ],
      "text/plain": [
       "                                is_chest_cell  is_empty_cell  is_full_cell  \\\n",
       "subject_id session_id                                                        \n",
       "wv001      THF_wv001_session_0              5              3            15   \n",
       "           THF_wv001_session_2              9              3            12   \n",
       "           THF_wv001_session_3             11              2            12   \n",
       "           THF_wv001_session_4              8              4             8   \n",
       "wv002      THF_wv002_session_0              7              5            13   \n",
       "           THF_wv002_session_1              4              3             3   \n",
       "wv003      THF_wv003_session_0              3              0             5   \n",
       "wv004      THF_wv004_session_0             24             14            26   \n",
       "           THF_wv004_session_1             10              6            14   \n",
       "wv005      THF_wv005_session_0              1              2             0   \n",
       "\n",
       "                                is_sp_cell  is_target_cell  \n",
       "subject_id session_id                                       \n",
       "wv001      THF_wv001_session_0           5              11  \n",
       "           THF_wv001_session_2           7               2  \n",
       "           THF_wv001_session_3          17               5  \n",
       "           THF_wv001_session_4          16               2  \n",
       "wv002      THF_wv002_session_0          13               3  \n",
       "           THF_wv002_session_1          15               3  \n",
       "wv003      THF_wv003_session_0           1               1  \n",
       "wv004      THF_wv004_session_0          17               4  \n",
       "           THF_wv004_session_1          26              10  \n",
       "wv005      THF_wv005_session_0           4               2  "
      ]
     },
     "execution_count": 41,
     "metadata": {},
     "output_type": "execute_result"
    }
   ],
   "source": [
    "# Check the number of detected cells per session\n",
    "pd.pivot_table(all_results, analysis_columns, index=['subject_id', 'session_id'], aggfunc=np.sum)"
   ]
  },
  {
   "cell_type": "markdown",
   "id": "e8897842-ec5d-434d-b643-313fcae9bddc",
   "metadata": {},
   "source": [
    "## Check Correlations"
   ]
  },
  {
   "cell_type": "code",
   "execution_count": 42,
   "id": "0790939d-2892-43e1-8bc7-e669dd46422c",
   "metadata": {},
   "outputs": [
    {
     "data": {
      "text/html": [
       "<div>\n",
       "<style scoped>\n",
       "    .dataframe tbody tr th:only-of-type {\n",
       "        vertical-align: middle;\n",
       "    }\n",
       "\n",
       "    .dataframe tbody tr th {\n",
       "        vertical-align: top;\n",
       "    }\n",
       "\n",
       "    .dataframe thead th {\n",
       "        text-align: right;\n",
       "    }\n",
       "</style>\n",
       "<table border=\"1\" class=\"dataframe\">\n",
       "  <thead>\n",
       "    <tr style=\"text-align: right;\">\n",
       "      <th></th>\n",
       "      <th>fr_t_val_full</th>\n",
       "      <th>fr_t_val_all</th>\n",
       "      <th>fr_t_val_empt</th>\n",
       "      <th>target_anova</th>\n",
       "      <th>serial_anova</th>\n",
       "      <th>firing_rate</th>\n",
       "    </tr>\n",
       "  </thead>\n",
       "  <tbody>\n",
       "    <tr>\n",
       "      <th>fr_t_val_full</th>\n",
       "      <td>1.000000</td>\n",
       "      <td>0.871778</td>\n",
       "      <td>0.090527</td>\n",
       "      <td>-0.047567</td>\n",
       "      <td>-0.042429</td>\n",
       "      <td>-0.067410</td>\n",
       "    </tr>\n",
       "    <tr>\n",
       "      <th>fr_t_val_all</th>\n",
       "      <td>0.871778</td>\n",
       "      <td>1.000000</td>\n",
       "      <td>0.559026</td>\n",
       "      <td>-0.041558</td>\n",
       "      <td>-0.050204</td>\n",
       "      <td>-0.080532</td>\n",
       "    </tr>\n",
       "    <tr>\n",
       "      <th>fr_t_val_empt</th>\n",
       "      <td>0.090527</td>\n",
       "      <td>0.559026</td>\n",
       "      <td>1.000000</td>\n",
       "      <td>0.007642</td>\n",
       "      <td>-0.024159</td>\n",
       "      <td>-0.039346</td>\n",
       "    </tr>\n",
       "    <tr>\n",
       "      <th>target_anova</th>\n",
       "      <td>-0.047567</td>\n",
       "      <td>-0.041558</td>\n",
       "      <td>0.007642</td>\n",
       "      <td>1.000000</td>\n",
       "      <td>0.039574</td>\n",
       "      <td>-0.027814</td>\n",
       "    </tr>\n",
       "    <tr>\n",
       "      <th>serial_anova</th>\n",
       "      <td>-0.042429</td>\n",
       "      <td>-0.050204</td>\n",
       "      <td>-0.024159</td>\n",
       "      <td>0.039574</td>\n",
       "      <td>1.000000</td>\n",
       "      <td>0.145332</td>\n",
       "    </tr>\n",
       "    <tr>\n",
       "      <th>firing_rate</th>\n",
       "      <td>-0.067410</td>\n",
       "      <td>-0.080532</td>\n",
       "      <td>-0.039346</td>\n",
       "      <td>-0.027814</td>\n",
       "      <td>0.145332</td>\n",
       "      <td>1.000000</td>\n",
       "    </tr>\n",
       "  </tbody>\n",
       "</table>\n",
       "</div>"
      ],
      "text/plain": [
       "               fr_t_val_full  fr_t_val_all  fr_t_val_empt  target_anova  \\\n",
       "fr_t_val_full       1.000000      0.871778       0.090527     -0.047567   \n",
       "fr_t_val_all        0.871778      1.000000       0.559026     -0.041558   \n",
       "fr_t_val_empt       0.090527      0.559026       1.000000      0.007642   \n",
       "target_anova       -0.047567     -0.041558       0.007642      1.000000   \n",
       "serial_anova       -0.042429     -0.050204      -0.024159      0.039574   \n",
       "firing_rate        -0.067410     -0.080532      -0.039346     -0.027814   \n",
       "\n",
       "               serial_anova  firing_rate  \n",
       "fr_t_val_full     -0.042429    -0.067410  \n",
       "fr_t_val_all      -0.050204    -0.080532  \n",
       "fr_t_val_empt     -0.024159    -0.039346  \n",
       "target_anova       0.039574    -0.027814  \n",
       "serial_anova       1.000000     0.145332  \n",
       "firing_rate        0.145332     1.000000  "
      ]
     },
     "execution_count": 42,
     "metadata": {},
     "output_type": "execute_result"
    }
   ],
   "source": [
    "# Check correlation within / between real data measures and firing rate\n",
    "cols = ['fr_t_val_full', 'fr_t_val_all', 'fr_t_val_empt',\n",
    "        'target_anova', 'serial_anova', 'firing_rate']\n",
    "extracted = all_results[cols]\n",
    "extracted.corr()"
   ]
  },
  {
   "cell_type": "code",
   "execution_count": 43,
   "id": "a5a9af31-4ec2-40dd-abf3-dd7a72648a37",
   "metadata": {},
   "outputs": [
    {
     "data": {
      "text/html": [
       "<div>\n",
       "<style scoped>\n",
       "    .dataframe tbody tr th:only-of-type {\n",
       "        vertical-align: middle;\n",
       "    }\n",
       "\n",
       "    .dataframe tbody tr th {\n",
       "        vertical-align: top;\n",
       "    }\n",
       "\n",
       "    .dataframe thead th {\n",
       "        text-align: right;\n",
       "    }\n",
       "</style>\n",
       "<table border=\"1\" class=\"dataframe\">\n",
       "  <thead>\n",
       "    <tr style=\"text-align: right;\">\n",
       "      <th></th>\n",
       "      <th>target_anova_surr_z_score</th>\n",
       "      <th>target_anova_surr_p_val</th>\n",
       "      <th>serial_anova_surr_z_score</th>\n",
       "      <th>serial_anova_surr_p_val</th>\n",
       "      <th>firing_rate</th>\n",
       "    </tr>\n",
       "  </thead>\n",
       "  <tbody>\n",
       "    <tr>\n",
       "      <th>target_anova_surr_z_score</th>\n",
       "      <td>1.000000</td>\n",
       "      <td>-0.879061</td>\n",
       "      <td>0.051134</td>\n",
       "      <td>-0.061452</td>\n",
       "      <td>0.014231</td>\n",
       "    </tr>\n",
       "    <tr>\n",
       "      <th>target_anova_surr_p_val</th>\n",
       "      <td>-0.879061</td>\n",
       "      <td>1.000000</td>\n",
       "      <td>-0.050696</td>\n",
       "      <td>0.069944</td>\n",
       "      <td>-0.018133</td>\n",
       "    </tr>\n",
       "    <tr>\n",
       "      <th>serial_anova_surr_z_score</th>\n",
       "      <td>0.051134</td>\n",
       "      <td>-0.050696</td>\n",
       "      <td>1.000000</td>\n",
       "      <td>-0.694378</td>\n",
       "      <td>0.197203</td>\n",
       "    </tr>\n",
       "    <tr>\n",
       "      <th>serial_anova_surr_p_val</th>\n",
       "      <td>-0.061452</td>\n",
       "      <td>0.069944</td>\n",
       "      <td>-0.694378</td>\n",
       "      <td>1.000000</td>\n",
       "      <td>-0.138361</td>\n",
       "    </tr>\n",
       "    <tr>\n",
       "      <th>firing_rate</th>\n",
       "      <td>0.014231</td>\n",
       "      <td>-0.018133</td>\n",
       "      <td>0.197203</td>\n",
       "      <td>-0.138361</td>\n",
       "      <td>1.000000</td>\n",
       "    </tr>\n",
       "  </tbody>\n",
       "</table>\n",
       "</div>"
      ],
      "text/plain": [
       "                           target_anova_surr_z_score  target_anova_surr_p_val  \\\n",
       "target_anova_surr_z_score                   1.000000                -0.879061   \n",
       "target_anova_surr_p_val                    -0.879061                 1.000000   \n",
       "serial_anova_surr_z_score                   0.051134                -0.050696   \n",
       "serial_anova_surr_p_val                    -0.061452                 0.069944   \n",
       "firing_rate                                 0.014231                -0.018133   \n",
       "\n",
       "                           serial_anova_surr_z_score  serial_anova_surr_p_val  \\\n",
       "target_anova_surr_z_score                   0.051134                -0.061452   \n",
       "target_anova_surr_p_val                    -0.050696                 0.069944   \n",
       "serial_anova_surr_z_score                   1.000000                -0.694378   \n",
       "serial_anova_surr_p_val                    -0.694378                 1.000000   \n",
       "firing_rate                                 0.197203                -0.138361   \n",
       "\n",
       "                           firing_rate  \n",
       "target_anova_surr_z_score     0.014231  \n",
       "target_anova_surr_p_val      -0.018133  \n",
       "serial_anova_surr_z_score     0.197203  \n",
       "serial_anova_surr_p_val      -0.138361  \n",
       "firing_rate                   1.000000  "
      ]
     },
     "execution_count": 43,
     "metadata": {},
     "output_type": "execute_result"
    }
   ],
   "source": [
    "# Check correlation within / between surrogate data measures and firing rate\n",
    "cols = ['target_anova_surr_z_score', 'target_anova_surr_p_val',\n",
    "        'serial_anova_surr_z_score', 'serial_anova_surr_p_val', \n",
    "        'firing_rate']\n",
    "extracted = all_results[cols]\n",
    "extracted.corr()"
   ]
  },
  {
   "cell_type": "markdown",
   "id": "94658f99-7a9a-42ea-a4cb-d316565845df",
   "metadata": {},
   "source": [
    "## Results by Area\n",
    "\n",
    "Analyze the results split up by area\n",
    "\n",
    "Anatomical organization:\n",
    "- 'region': a brain region, collapsing across left & right\n",
    "- 'location': a specific location, split up by left & right"
   ]
  },
  {
   "cell_type": "code",
   "execution_count": 44,
   "id": "1f9f8707-efb4-4334-b9c9-e106215de305",
   "metadata": {},
   "outputs": [],
   "source": [
    "# Collect different area organizations together\n",
    "places = {'region' : regions,\n",
    "          'location' : locations}"
   ]
  },
  {
   "cell_type": "code",
   "execution_count": 45,
   "id": "0545854e-72d0-425c-8f11-1876bd68abb1",
   "metadata": {},
   "outputs": [],
   "source": [
    "# Define which area organization to use\n",
    "place = 'region'"
   ]
  },
  {
   "cell_type": "code",
   "execution_count": 46,
   "id": "cf6c9978-3484-44e3-8291-4387cc3bf2b9",
   "metadata": {},
   "outputs": [
    {
     "data": {
      "image/png": "[encoded data removed]",
      "text/plain": [
       "<Figure size 1800x1000 with 6 Axes>"
      ]
     },
     "metadata": {},
     "output_type": "display_data"
    }
   ],
   "source": [
    "axes = make_axes(len(analyses), 3, hspace=0.35, figsize=(18, 10))\n",
    "for analysis, ax in zip(analyses, axes):\n",
    "\n",
    "    out = {}\n",
    "    out['all'] = results[analysis] / n_units\n",
    "\n",
    "    for value in places[place]:\n",
    "        temp = all_results[all_results[place] == value]\n",
    "        out[value] = sum(temp['is_' + analysis + '_cell']) / len(temp)\n",
    "\n",
    "    plot_bar(out.values(), out.keys(), title=analysis, ylim=[0, 0.30], ax=ax)\n",
    "    add_hlines(0.05, linestyle='--', color='black', ax=ax)"
   ]
  },
  {
   "cell_type": "markdown",
   "id": "4245d408-a3cd-4bba-96f3-0b765c8fa41c",
   "metadata": {},
   "source": [
    "## Within Task Overlap\n",
    "\n",
    "Compute the overlap of labels within TH task"
   ]
  },
  {
   "cell_type": "code",
   "execution_count": 47,
   "id": "ee2434f0-e33b-49a2-9b7d-5edbb72b2f96",
   "metadata": {},
   "outputs": [],
   "source": [
    "# Compute overlap between labels within TH task\n",
    "over = np.zeros([len(analysis_columns), len(analysis_columns)])\n",
    "for i1, acol1 in enumerate(analysis_columns):\n",
    "    a1res = set(all_results[all_results[acol1]].wvID.values)\n",
    "    \n",
    "    for i2, acol2 in enumerate(analysis_columns):\n",
    "        a2res = set(all_results[all_results[acol2]].wvID.values)\n",
    "        \n",
    "        over[i1, i2] = len(a1res.intersection(a2res)) / len(a1res)"
   ]
  },
  {
   "cell_type": "code",
   "execution_count": 48,
   "id": "40b1c360-c1c5-4260-ae86-bf4e64255952",
   "metadata": {},
   "outputs": [
    {
     "data": {
      "image/png": "[encoded data removed]",
      "text/plain": [
       "<Figure size 640x480 with 2 Axes>"
      ]
     },
     "metadata": {},
     "output_type": "display_data"
    }
   ],
   "source": [
    "# Plot the overlap between TH labels\n",
    "ax = sns.heatmap(over, xticklabels=analyses, yticklabels=analyses)\n",
    "ax.invert_yaxis()"
   ]
  },
  {
   "cell_type": "markdown",
   "id": "b8b281bb-a37b-4f5e-b4c8-57905ed2d79c",
   "metadata": {},
   "source": [
    "## Distributions"
   ]
  },
  {
   "cell_type": "code",
   "execution_count": 49,
   "id": "a50ddaee-ca71-4673-80cb-f08ae707a9ac",
   "metadata": {},
   "outputs": [],
   "source": [
    "# Plot settings\n",
    "bins = 35"
   ]
  },
  {
   "cell_type": "markdown",
   "id": "293b387d-d30f-43b8-bb98-76a28491d38d",
   "metadata": {},
   "source": [
    "### Chest Measures"
   ]
  },
  {
   "cell_type": "code",
   "execution_count": 50,
   "id": "4ad3fc56-2d3b-46ca-8015-973365c8ea6f",
   "metadata": {},
   "outputs": [
    {
     "data": {
      "image/png": "[encoded data removed]",
      "text/plain": [
       "<Figure size 1500x400 with 3 Axes>"
      ]
     },
     "metadata": {},
     "output_type": "display_data"
    }
   ],
   "source": [
    "# Plot t-values of the chest measures\n",
    "axes = make_axes(3, 3, figsize=(15, 4))\n",
    "plot_hist(all_results.fr_t_val_all.values, title='Chests (all) - t values', bins=bins, ax=axes[0])\n",
    "plot_hist(all_results.fr_t_val_full.values, title='Chests (full) - t values', bins=bins, ax=axes[1])\n",
    "plot_hist(all_results.fr_t_val_empt.values, title='Chests (empty) - t values', bins=bins, ax=axes[2])"
   ]
  },
  {
   "cell_type": "code",
   "execution_count": 51,
   "id": "e9393a84-16ec-408d-8427-82528249fe17",
   "metadata": {},
   "outputs": [
    {
     "data": {
      "image/png": "[encoded data removed]",
      "text/plain": [
       "<Figure size 1500x400 with 3 Axes>"
      ]
     },
     "metadata": {},
     "output_type": "display_data"
    }
   ],
   "source": [
    "# Plot p-values of the chest measures\n",
    "axes = make_axes(3, 3, figsize=(15, 4))\n",
    "plot_hist(all_results.fr_p_val_all.values, title='Chests (all) - p values', bins=bins, ax=axes[0])\n",
    "plot_hist(all_results.fr_p_val_full.values, title='Chests (full) - p values', bins=bins, ax=axes[1])\n",
    "plot_hist(all_results.fr_p_val_empt.values, title='Chests (empty) - p values', bins=bins, ax=axes[2])"
   ]
  },
  {
   "cell_type": "markdown",
   "id": "915fbc4b-ba22-4758-8991-61559dace9cb",
   "metadata": {},
   "source": [
    "### Position & Sequence Measures"
   ]
  },
  {
   "cell_type": "code",
   "execution_count": 52,
   "id": "2083a365",
   "metadata": {},
   "outputs": [
    {
     "data": {
      "image/png": "[encoded data removed]",
      "text/plain": [
       "<Figure size 1500x800 with 6 Axes>"
      ]
     },
     "metadata": {},
     "output_type": "display_data"
    }
   ],
   "source": [
    "# Plot measure values of the position & sequence measures\n",
    "axes = make_axes(6, 3, figsize=(15, 8), hspace=0.35)\n",
    "#plot_hist(all_results.place_anova.values, title='Place - anova', bins=bins, ax=axes[0])\n",
    "plot_hist(all_results.target_anova.values, title='Target - anova', bins=bins, ax=axes[1])\n",
    "plot_hist(all_results.serial_anova.values, title='Serial Position - anova', bins=bins, ax=axes[2])\n",
    "#plot_hist(all_results.place_info.values, title='Place - info', bins=bins, ax=axes[3])\n",
    "#plot_hist(all_results.target_info.values, title='Target - info', bins=bins, ax=axes[4])\n",
    "axes[5].set_axis_off()"
   ]
  },
  {
   "cell_type": "code",
   "execution_count": 53,
   "id": "2b9d0bc6-7a2d-4bba-ba88-27d31accbf9e",
   "metadata": {},
   "outputs": [
    {
     "data": {
      "image/png": "[encoded data removed]",
      "text/plain": [
       "<Figure size 1500x800 with 6 Axes>"
      ]
     },
     "metadata": {},
     "output_type": "display_data"
    }
   ],
   "source": [
    "# Plot surrogate z-scores of the position & sequence measures\n",
    "axes = make_axes(6, 3, figsize=(15, 8), hspace=0.35)\n",
    "#plot_hist(all_results.place_anova_surr_z_score.values, title='Place - anova z score', ax=axes[0])\n",
    "plot_hist(all_results.target_anova_surr_z_score.values, title='Target - anova z score', ax=axes[1])\n",
    "plot_hist(all_results.serial_anova_surr_z_score.values, title='Serial Position - anova z score', ax=axes[2])\n",
    "#plot_hist(all_results.place_info_surr_z_score.values, title='Place - info z score', ax=axes[3])\n",
    "#plot_hist(all_results.target_info_surr_z_score.values, title='Target - info z score', ax=axes[4])\n",
    "axes[5].set_axis_off()"
   ]
  },
  {
   "cell_type": "code",
   "execution_count": 54,
   "id": "5f88d74f-69d0-47cd-84e6-e9c362d6a9da",
   "metadata": {},
   "outputs": [],
   "source": [
    "#bins=50"
   ]
  },
  {
   "cell_type": "code",
   "execution_count": 55,
   "id": "c359d31c-7715-45fb-a9c8-852b54645c9c",
   "metadata": {},
   "outputs": [
    {
     "data": {
      "image/png": "[encoded data removed]",
      "text/plain": [
       "<Figure size 1500x800 with 6 Axes>"
      ]
     },
     "metadata": {},
     "output_type": "display_data"
    }
   ],
   "source": [
    "# Plot p values of the position & sequence measures\n",
    "axes = make_axes(6, 3, figsize=(15, 8), hspace=0.35)\n",
    "#plot_hist(all_results.place_anova_surr_p_val.values, title='Place - anova p values', bins=bins, ax=axes[0])\n",
    "plot_hist(all_results.target_anova_surr_p_val.values, title='Target - anova p values', bins=bins, ax=axes[1])\n",
    "plot_hist(all_results.serial_anova_surr_p_val.values, title='Serial Position - anova p values', bins=bins, ax=axes[2])\n",
    "#plot_hist(all_results.place_info_surr_p_val.values, title='Place - info p values', bins=bins, ax=axes[3])\n",
    "#plot_hist(all_results.target_info_surr_p_val.values, title='Target - info p values', bins=bins, ax=axes[4])\n",
    "axes[5].set_axis_off()"
   ]
  },
  {
   "cell_type": "markdown",
   "id": "2f595b27-6c3e-4d66-86d3-36dd9b22529d",
   "metadata": {},
   "source": [
    "## Task Overlap Analysis"
   ]
  },
  {
   "cell_type": "code",
   "execution_count": 56,
   "id": "4c0e3862-e4e4-4f9c-9adb-140036c5ee80",
   "metadata": {},
   "outputs": [],
   "source": [
    "# Define base project path\n",
    "project_path = '/data12/jacobs_lab/WVTH/'"
   ]
  },
  {
   "cell_type": "code",
   "execution_count": 57,
   "id": "cdebff81-b4c7-44b5-ab9b-70a5d514811b",
   "metadata": {},
   "outputs": [],
   "source": [
    "# Create paths object\n",
    "paths = Paths(project_path)"
   ]
  },
  {
   "cell_type": "markdown",
   "id": "c2ad063a-9ae0-4d6e-88d7-45bbb9f99240",
   "metadata": {},
   "source": [
    "### Identity Neuron\n",
    "\n",
    "Identity neuron fields:\n",
    "- ID_neuron: identity neuron\n",
    "- MI_neuron: multiple identity neuron\n",
    "- SI_neuron: single identity neuron"
   ]
  },
  {
   "cell_type": "code",
   "execution_count": 58,
   "id": "0a618546-42e8-4a11-859a-14f6284b1924",
   "metadata": {},
   "outputs": [],
   "source": [
    "# Define the file path for the relevant nback results file\n",
    "if experiment == 'THF':\n",
    "    id_file_name = 'ID neuron CelebA_NavSelect MeanResponse 2SD.mat'\n",
    "if experiment == 'THO':\n",
    "    id_file_name = 'ID neuron ImageNet_NavSelect MeanResponse 2SD.mat'"
   ]
  },
  {
   "cell_type": "code",
   "execution_count": 59,
   "id": "7adbe1d1-3d1a-4a3e-836a-bc1de52d3654",
   "metadata": {},
   "outputs": [],
   "source": [
    "# Load nback results data\n",
    "nback_data = load_matfile(id_file_name, folder=paths.info / 'nback', squeeze_me=True)"
   ]
  },
  {
   "cell_type": "code",
   "execution_count": 60,
   "id": "fa63a061-9263-4940-bbe7-a21377b1bd43",
   "metadata": {},
   "outputs": [
    {
     "data": {
      "text/plain": [
       "['CodeID', 'CodeIDNum', 'ID_neuron', 'MI_neuron', 'SI_neuron', 'selMethod']"
      ]
     },
     "execution_count": 60,
     "metadata": {},
     "output_type": "execute_result"
    }
   ],
   "source": [
    "# Check the available keys in the loaded nback data\n",
    "keys = [key for key in nback_data.keys() if key[0] != '_']\n",
    "keys"
   ]
  },
  {
   "cell_type": "markdown",
   "id": "52754515-2479-460d-a19d-f8a26c557f94",
   "metadata": {},
   "source": [
    "### Baseline firing"
   ]
  },
  {
   "cell_type": "code",
   "execution_count": 61,
   "id": "cf9d9ff1-ec09-4488-8a2b-4cb9c92dfa37",
   "metadata": {},
   "outputs": [],
   "source": [
    "# Define the file path for the relevant nback results file\n",
    "if experiment == 'THF':\n",
    "    file_name = 'SortedFRCelebA_Nav.mat'\n",
    "if experiment == 'THO':\n",
    "    file_name = 'SortedFRImageNet_Nav.mat'"
   ]
  },
  {
   "cell_type": "code",
   "execution_count": 62,
   "id": "a6006f70-3816-477e-aa4d-af8fdacfe372",
   "metadata": {},
   "outputs": [],
   "source": [
    "# Load the data file\n",
    "fr_data = load_matfile(file_name, folder=paths.info / 'nback', squeeze_me=True)"
   ]
  },
  {
   "cell_type": "code",
   "execution_count": 63,
   "id": "35f9a88d-9a72-43b2-b05d-1b3421223182",
   "metadata": {},
   "outputs": [
    {
     "name": "stdout",
     "output_type": "stream",
     "text": [
      "['sessions', 'timestampsOfCellAll', 'vCell', 'areaCell', 'vCh', 'vClusterID', 'vWire', 'periodsAll', 'binW', 'binStep', 'FR', 'beh', 'FR_sort', 'vReject', 'vKeep', 'pBase', 'pAnova', 'vAnova', 'vBase']\n"
     ]
    }
   ],
   "source": [
    "# Check the available keys in the metadata file\n",
    "print([el for el in fr_data.keys() if el[0] != '_'])"
   ]
  },
  {
   "cell_type": "code",
   "execution_count": 64,
   "id": "8ee80d40-2165-404d-9e6a-cf567b5f96ef",
   "metadata": {},
   "outputs": [],
   "source": [
    "# Add the baseline response firing analysis to collection of analyses\n",
    "nback_data['vBase'] = fr_data['vBase']"
   ]
  },
  {
   "cell_type": "markdown",
   "id": "d9767c02-bb58-4a41-973a-769261968f6a",
   "metadata": {},
   "source": [
    "#### Overlap Within nBack"
   ]
  },
  {
   "cell_type": "code",
   "execution_count": 65,
   "id": "7bd78438-859b-410e-9b66-7c57abc2b47e",
   "metadata": {},
   "outputs": [],
   "source": [
    "# Define list of nback analyses\n",
    "nback_analyses = ['ID_neuron', 'MI_neuron', 'SI_neuron', 'vBase']"
   ]
  },
  {
   "cell_type": "code",
   "execution_count": 66,
   "id": "a4b23d43-691f-41bd-acf8-f05fadccf05d",
   "metadata": {},
   "outputs": [],
   "source": [
    "# Compute overlap between labels within nBack task\n",
    "over = np.zeros([len(nback_analyses), len(nback_analyses)])\n",
    "for i1, acol1 in enumerate(nback_analyses):\n",
    "    a1res = set(nback_data[acol1])\n",
    "    \n",
    "    for i2, acol2 in enumerate(nback_analyses):\n",
    "        a2res = set(nback_data[acol2])\n",
    "        \n",
    "        over[i1, i2] = len(a1res.intersection(a2res)) / len(a1res)"
   ]
  },
  {
   "cell_type": "code",
   "execution_count": 67,
   "id": "61d9e01b-adbe-4ea7-831c-7e1fa30c96d0",
   "metadata": {},
   "outputs": [
    {
     "data": {
      "image/png": "[encoded data removed]",
      "text/plain": [
       "<Figure size 640x480 with 2 Axes>"
      ]
     },
     "metadata": {},
     "output_type": "display_data"
    }
   ],
   "source": [
    "# Plot the overlap between nBack labels\n",
    "ax = sns.heatmap(over, xticklabels=nback_analyses, yticklabels=nback_analyses)\n",
    "ax.invert_yaxis()"
   ]
  },
  {
   "cell_type": "markdown",
   "id": "9160cef9-0dc6-489d-8f03-73f1fa992bd3",
   "metadata": {},
   "source": [
    "# Compute Between Task Overlap"
   ]
  },
  {
   "cell_type": "code",
   "execution_count": 68,
   "id": "25aba3bf-212f-4c3d-9981-8c0cf77c06db",
   "metadata": {},
   "outputs": [],
   "source": [
    "# Set which nBack analysis to compare to\n",
    "nb_analysis = 'base'  # 'base', 'ID'"
   ]
  },
  {
   "cell_type": "code",
   "execution_count": 69,
   "id": "a7b99f84-505a-4807-a1a2-01baef8e2122",
   "metadata": {},
   "outputs": [],
   "source": [
    "if nb_analysis == 'ID':\n",
    "    nb_data = nback_data['ID_neuron']\n",
    "    #nb_data = nback_data['SI_neuron']\n",
    "if nb_analysis == 'base':\n",
    "    nb_data = nback_data['vBase']"
   ]
  },
  {
   "cell_type": "code",
   "execution_count": 70,
   "id": "96570326-961b-4d0f-90a1-d9e171bba7e4",
   "metadata": {},
   "outputs": [
    {
     "name": "stdout",
     "output_type": "stream",
     "text": [
      "THF  -  base \n",
      "\n",
      "\t #TH \t #NB \t #Over \t %Over \t\t pval \t\texp\n",
      "chest \t 82 \t 106 \t 26 \t 24.53% \t 0.0001 \t 14\n",
      "full \t 108 \t 106 \t 31 \t 29.25% \t 0.0002 \t 18\n",
      "empty \t 42 \t 106 \t 9 \t  8.49% \t 0.3718 \t  7\n",
      "target \t 43 \t 106 \t 8 \t  7.55% \t 0.6982 \t  7\n",
      "sp \t 121 \t 106 \t 22 \t 20.75% \t 0.5767 \t 20\n"
     ]
    }
   ],
   "source": [
    "print(experiment, ' - ', nb_analysis, '\\n')\n",
    "print('\\t {} \\t {} \\t {} \\t {} \\t\\t {} \\t\\t{}'.format('#TH', '#NB', '#Over', '%Over', 'pval', 'exp'))\n",
    "for analysis in analyses:\n",
    "\n",
    "    th_data = all_results[all_results['is_' + analysis + '_cell']].wvID.values\n",
    "    n_th = len(th_data)\n",
    "\n",
    "    n_nb = len(nb_data)\n",
    "    \n",
    "    inter = len(set(th_data).intersection(set(nb_data)))\n",
    "    \n",
    "    arr = np.array([[inter, n_th-inter],\n",
    "                    [n_nb-inter, n_units-n_th-n_nb+inter]])\n",
    "    tstat, pval, dof, exp = chi2_contingency(arr, False)\n",
    "\n",
    "    print('{} \\t {} \\t {} \\t {} \\t {:5.2f}% \\t {:5.4f} \\t {:2d}'.format(\\\n",
    "        analysis, n_th, n_nb, inter, (inter / n_nb) * 100, pval, round(exp[0][0])))"
   ]
  },
  {
   "cell_type": "markdown",
   "id": "004773d8-48a5-4b2a-b14a-4508f33ee810",
   "metadata": {},
   "source": [
    "## Combine Between Tasks"
   ]
  },
  {
   "cell_type": "code",
   "execution_count": 71,
   "id": "0c54b316-953f-4e98-9553-dac666328d89",
   "metadata": {},
   "outputs": [],
   "source": [
    "# Check that all the IDs line up\n",
    "for nb_analysis in ['ID_neuron', 'vBase']:\n",
    "    for wvid in nback_data[nb_analysis]:\n",
    "        if wvid not in all_results.wvID.values:\n",
    "            assert wvid in all_results.wvID.values"
   ]
  },
  {
   "cell_type": "code",
   "execution_count": 72,
   "id": "a5de6a9c-bf31-49d0-b24c-cdba9544ccb0",
   "metadata": {},
   "outputs": [],
   "source": [
    "# Add columns to overall dataframe for nback task labels\n",
    "all_results['is_ID_cell'] = False\n",
    "all_results['is_baseline_cell'] = False"
   ]
  },
  {
   "cell_type": "code",
   "execution_count": 73,
   "id": "aabaedd4-6589-408b-b3b2-2804f8e6add7",
   "metadata": {},
   "outputs": [],
   "source": [
    "# Add in results from nback analyses listing which cells are nback task active cells\n",
    "for wvid in all_results.wvID.values:\n",
    "    if wvid in nback_data['ID_neuron']:\n",
    "        all_results.loc[all_results[all_results.wvID == wvid].index[0], 'is_ID_cell'] = True\n",
    "    if wvid in nback_data['vBase']:\n",
    "        all_results.loc[all_results[all_results.wvID == wvid].index[0], 'is_baseline_cell'] = True"
   ]
  },
  {
   "cell_type": "code",
   "execution_count": 74,
   "id": "d3457269-ec5a-4a0a-a8c0-1c592935a085",
   "metadata": {},
   "outputs": [],
   "source": [
    "# Check that the alignment worked\n",
    "assert set(nback_data['vBase']) == set(all_results[all_results.is_baseline_cell].wvID.values)\n",
    "assert set(nback_data['ID_neuron']) == set(all_results[all_results.is_ID_cell].wvID.values)"
   ]
  },
  {
   "cell_type": "markdown",
   "id": "135816b0-0731-4d09-9382-544621c47f2c",
   "metadata": {},
   "source": [
    "#### Check the distribution of cells in nBack"
   ]
  },
  {
   "cell_type": "code",
   "execution_count": 75,
   "id": "60d9e036-57ff-4ebc-a602-8df0bf6294bf",
   "metadata": {},
   "outputs": [],
   "source": [
    "# Define nback label columns to add\n",
    "nback_analysis_columns = ['is_ID_cell', 'is_baseline_cell']"
   ]
  },
  {
   "cell_type": "code",
   "execution_count": 76,
   "id": "93666e3a-dd4c-4fc9-8197-7708f041c78e",
   "metadata": {},
   "outputs": [
    {
     "data": {
      "text/html": [
       "<div>\n",
       "<style scoped>\n",
       "    .dataframe tbody tr th:only-of-type {\n",
       "        vertical-align: middle;\n",
       "    }\n",
       "\n",
       "    .dataframe tbody tr th {\n",
       "        vertical-align: top;\n",
       "    }\n",
       "\n",
       "    .dataframe thead th {\n",
       "        text-align: right;\n",
       "    }\n",
       "</style>\n",
       "<table border=\"1\" class=\"dataframe\">\n",
       "  <thead>\n",
       "    <tr style=\"text-align: right;\">\n",
       "      <th></th>\n",
       "      <th></th>\n",
       "      <th>is_ID_cell</th>\n",
       "      <th>is_baseline_cell</th>\n",
       "    </tr>\n",
       "    <tr>\n",
       "      <th>subject_id</th>\n",
       "      <th>session_id</th>\n",
       "      <th></th>\n",
       "      <th></th>\n",
       "    </tr>\n",
       "  </thead>\n",
       "  <tbody>\n",
       "    <tr>\n",
       "      <th rowspan=\"4\" valign=\"top\">wv001</th>\n",
       "      <th>THF_wv001_session_0</th>\n",
       "      <td>11</td>\n",
       "      <td>15</td>\n",
       "    </tr>\n",
       "    <tr>\n",
       "      <th>THF_wv001_session_2</th>\n",
       "      <td>5</td>\n",
       "      <td>17</td>\n",
       "    </tr>\n",
       "    <tr>\n",
       "      <th>THF_wv001_session_3</th>\n",
       "      <td>9</td>\n",
       "      <td>12</td>\n",
       "    </tr>\n",
       "    <tr>\n",
       "      <th>THF_wv001_session_4</th>\n",
       "      <td>1</td>\n",
       "      <td>9</td>\n",
       "    </tr>\n",
       "    <tr>\n",
       "      <th rowspan=\"2\" valign=\"top\">wv002</th>\n",
       "      <th>THF_wv002_session_0</th>\n",
       "      <td>3</td>\n",
       "      <td>9</td>\n",
       "    </tr>\n",
       "    <tr>\n",
       "      <th>THF_wv002_session_1</th>\n",
       "      <td>4</td>\n",
       "      <td>6</td>\n",
       "    </tr>\n",
       "    <tr>\n",
       "      <th>wv003</th>\n",
       "      <th>THF_wv003_session_0</th>\n",
       "      <td>0</td>\n",
       "      <td>0</td>\n",
       "    </tr>\n",
       "    <tr>\n",
       "      <th rowspan=\"2\" valign=\"top\">wv004</th>\n",
       "      <th>THF_wv004_session_0</th>\n",
       "      <td>11</td>\n",
       "      <td>18</td>\n",
       "    </tr>\n",
       "    <tr>\n",
       "      <th>THF_wv004_session_1</th>\n",
       "      <td>8</td>\n",
       "      <td>13</td>\n",
       "    </tr>\n",
       "    <tr>\n",
       "      <th>wv005</th>\n",
       "      <th>THF_wv005_session_0</th>\n",
       "      <td>1</td>\n",
       "      <td>7</td>\n",
       "    </tr>\n",
       "  </tbody>\n",
       "</table>\n",
       "</div>"
      ],
      "text/plain": [
       "                                is_ID_cell  is_baseline_cell\n",
       "subject_id session_id                                       \n",
       "wv001      THF_wv001_session_0          11                15\n",
       "           THF_wv001_session_2           5                17\n",
       "           THF_wv001_session_3           9                12\n",
       "           THF_wv001_session_4           1                 9\n",
       "wv002      THF_wv002_session_0           3                 9\n",
       "           THF_wv002_session_1           4                 6\n",
       "wv003      THF_wv003_session_0           0                 0\n",
       "wv004      THF_wv004_session_0          11                18\n",
       "           THF_wv004_session_1           8                13\n",
       "wv005      THF_wv005_session_0           1                 7"
      ]
     },
     "execution_count": 76,
     "metadata": {},
     "output_type": "execute_result"
    }
   ],
   "source": [
    "# Check the number of detected cells per session\n",
    "pd.pivot_table(all_results, nback_analysis_columns, index=['subject_id', 'session_id'], aggfunc=np.sum)"
   ]
  },
  {
   "cell_type": "code",
   "execution_count": 77,
   "id": "781a1a7c-23e8-4c14-aad2-022848166c32",
   "metadata": {},
   "outputs": [],
   "source": [
    "# # Example: make a new column for overlap cells\n",
    "# all_results['sp_base_overlap'] = all_results['is_sp_cell'] & all_results['is_baseline_cell']"
   ]
  },
  {
   "cell_type": "code",
   "execution_count": 78,
   "id": "31d72160-6f2b-41c8-a75b-60f314ee0f5f",
   "metadata": {},
   "outputs": [],
   "source": [
    "# Save out the combined results file\n",
    "all_results.to_csv(experiment + '_combined_all_results.csv')"
   ]
  }
 ],
 "metadata": {
  "kernelspec": {
   "display_name": "thproj",
   "language": "python",
   "name": "thproj"
  },
  "language_info": {
   "codemirror_mode": {
    "name": "ipython",
    "version": 3
   },
   "file_extension": ".py",
   "mimetype": "text/x-python",
   "name": "python",
   "nbconvert_exporter": "python",
   "pygments_lexer": "ipython3",
   "version": "3.8.13"
  }
 },
 "nbformat": 4,
 "nbformat_minor": 5
}
