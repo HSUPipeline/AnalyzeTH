{
 "cells": [
  {
   "cell_type": "markdown",
   "id": "c0fa1b69",
   "metadata": {},
   "source": [
    "# Examine Results"
   ]
  },
  {
   "cell_type": "code",
   "execution_count": 1,
   "id": "51e5da01",
   "metadata": {},
   "outputs": [],
   "source": [
    "from pathlib import Path\n",
    "\n",
    "import numpy as np\n",
    "import pandas as pd\n",
    "\n",
    "from convnwb.io import get_files, load_json\n",
    "\n",
    "from spiketools.plts.data import plot_hist\n",
    "from spiketools.plts.utils import make_axes"
   ]
  },
  {
   "cell_type": "code",
   "execution_count": 2,
   "id": "e9dfcac0",
   "metadata": {},
   "outputs": [],
   "source": [
    "import seaborn as sns\n",
    "sns.set_context('talk')"
   ]
  },
  {
   "cell_type": "markdown",
   "id": "bc5919e2",
   "metadata": {},
   "source": [
    "## Settings"
   ]
  },
  {
   "cell_type": "code",
   "execution_count": 3,
   "id": "0a0177e3",
   "metadata": {},
   "outputs": [],
   "source": [
    "# Set which task to run\n",
    "task = 'THO'"
   ]
  },
  {
   "cell_type": "code",
   "execution_count": 4,
   "id": "153c1373",
   "metadata": {},
   "outputs": [],
   "source": [
    "# Set the folder to load results from\n",
    "base_path = Path('../results/units/')\n",
    "data_path = base_path / task"
   ]
  },
  {
   "cell_type": "code",
   "execution_count": 5,
   "id": "8f155f37",
   "metadata": {},
   "outputs": [],
   "source": [
    "# Get the list of files\n",
    "res_files = get_files(data_path, select='json')"
   ]
  },
  {
   "cell_type": "code",
   "execution_count": 6,
   "id": "d4aac3b0",
   "metadata": {},
   "outputs": [],
   "source": [
    "# Check the number of available files\n",
    "n_files = len(res_files)"
   ]
  },
  {
   "cell_type": "markdown",
   "id": "38fa09de",
   "metadata": {},
   "source": [
    "## Load Example File"
   ]
  },
  {
   "cell_type": "code",
   "execution_count": 7,
   "id": "38ac3696",
   "metadata": {},
   "outputs": [],
   "source": [
    "# Load an example file\n",
    "file = res_files[0]\n",
    "data = load_json(file, folder=str(data_path))"
   ]
  },
  {
   "cell_type": "code",
   "execution_count": 8,
   "id": "638db8f2",
   "metadata": {},
   "outputs": [
    {
     "data": {
      "text/plain": [
       "{'session': 'THO_wv001_session_0',\n",
       " 'uid': 0,\n",
       " 'wvID': 1,\n",
       " 'keep': True,\n",
       " 'cluster': 5169,\n",
       " 'channel': 'A10',\n",
       " 'location': 'LAH',\n",
       " 'n_spikes': 595,\n",
       " 'firing_rate': 0.4031300246544839,\n",
       " 'fr_t_val_all': 0.0961735036787835,\n",
       " 'fr_p_val_all': 0.9235853647300167,\n",
       " 'fr_t_val_empt': -0.6271032028034079,\n",
       " 'fr_p_val_empt': 0.5346613282915866,\n",
       " 'fr_t_val_full': 0.6076277761862037,\n",
       " 'fr_p_val_full': 0.545766122653963,\n",
       " 'place_info': 1.320879435006318,\n",
       " 'place_p_val': 0.816,\n",
       " 'place_z_score': -0.8725235092697694,\n",
       " 'target_info': 0.5613856765708625,\n",
       " 'target_p_val': 0.302,\n",
       " 'target_z_score': 0.44216001099834257,\n",
       " 'sp_p_val_0': 0.678,\n",
       " 'sp_p_val_1': 0.612,\n",
       " 'sp_p_val_2': 0.196,\n",
       " 'sp_p_val_3': 0.82,\n",
       " 'sp_z_score_0': -0.5068916523558201,\n",
       " 'sp_z_score_1': -0.29865502103879604,\n",
       " 'sp_z_score_2': 0.8379074552561443,\n",
       " 'sp_z_score_3': -0.9260815441275602}"
      ]
     },
     "execution_count": 8,
     "metadata": {},
     "output_type": "execute_result"
    }
   ],
   "source": [
    "# Check example file\n",
    "data"
   ]
  },
  {
   "cell_type": "markdown",
   "id": "1045e2f8",
   "metadata": {},
   "source": [
    "## Collect Results"
   ]
  },
  {
   "cell_type": "code",
   "execution_count": 9,
   "id": "b268abd8",
   "metadata": {},
   "outputs": [],
   "source": [
    "# Collect all unit results together into a dataframe\n",
    "all_results = pd.DataFrame()\n",
    "for file in res_files:\n",
    "    cur_results = load_json(file, folder=data_path)\n",
    "    all_results = all_results.append(cur_results, ignore_index=True)"
   ]
  },
  {
   "cell_type": "code",
   "execution_count": 10,
   "id": "b5396cac",
   "metadata": {},
   "outputs": [],
   "source": [
    "# Clean up some datatypes - cast integers\n",
    "set_ints = ['uid', 'wvID', 'keep', 'cluster', 'n_spikes']\n",
    "all_results[set_ints] = all_results[set_ints].astype('int')"
   ]
  },
  {
   "cell_type": "code",
   "execution_count": 11,
   "id": "62db4a29",
   "metadata": {},
   "outputs": [
    {
     "data": {
      "text/plain": [
       "Index(['session', 'uid', 'wvID', 'keep', 'cluster', 'channel', 'location',\n",
       "       'n_spikes', 'firing_rate', 'fr_t_val_all', 'fr_p_val_all',\n",
       "       'fr_t_val_empt', 'fr_p_val_empt', 'fr_t_val_full', 'fr_p_val_full',\n",
       "       'place_info', 'place_p_val', 'place_z_score', 'target_info',\n",
       "       'target_p_val', 'target_z_score', 'sp_p_val_0', 'sp_p_val_1',\n",
       "       'sp_p_val_2', 'sp_p_val_3', 'sp_z_score_0', 'sp_z_score_1',\n",
       "       'sp_z_score_2', 'sp_z_score_3'],\n",
       "      dtype='object')"
      ]
     },
     "execution_count": 11,
     "metadata": {},
     "output_type": "execute_result"
    }
   ],
   "source": [
    "# Check the columns\n",
    "all_results.columns"
   ]
  },
  {
   "cell_type": "code",
   "execution_count": 12,
   "id": "df60560e",
   "metadata": {},
   "outputs": [
    {
     "data": {
      "text/html": [
       "<div>\n",
       "<style scoped>\n",
       "    .dataframe tbody tr th:only-of-type {\n",
       "        vertical-align: middle;\n",
       "    }\n",
       "\n",
       "    .dataframe tbody tr th {\n",
       "        vertical-align: top;\n",
       "    }\n",
       "\n",
       "    .dataframe thead th {\n",
       "        text-align: right;\n",
       "    }\n",
       "</style>\n",
       "<table border=\"1\" class=\"dataframe\">\n",
       "  <thead>\n",
       "    <tr style=\"text-align: right;\">\n",
       "      <th></th>\n",
       "      <th>session</th>\n",
       "      <th>uid</th>\n",
       "      <th>wvID</th>\n",
       "      <th>keep</th>\n",
       "      <th>cluster</th>\n",
       "      <th>channel</th>\n",
       "      <th>location</th>\n",
       "      <th>n_spikes</th>\n",
       "      <th>firing_rate</th>\n",
       "      <th>fr_t_val_all</th>\n",
       "      <th>...</th>\n",
       "      <th>target_p_val</th>\n",
       "      <th>target_z_score</th>\n",
       "      <th>sp_p_val_0</th>\n",
       "      <th>sp_p_val_1</th>\n",
       "      <th>sp_p_val_2</th>\n",
       "      <th>sp_p_val_3</th>\n",
       "      <th>sp_z_score_0</th>\n",
       "      <th>sp_z_score_1</th>\n",
       "      <th>sp_z_score_2</th>\n",
       "      <th>sp_z_score_3</th>\n",
       "    </tr>\n",
       "  </thead>\n",
       "  <tbody>\n",
       "    <tr>\n",
       "      <th>0</th>\n",
       "      <td>THO_wv001_session_0</td>\n",
       "      <td>0</td>\n",
       "      <td>1</td>\n",
       "      <td>1</td>\n",
       "      <td>5169</td>\n",
       "      <td>A10</td>\n",
       "      <td>LAH</td>\n",
       "      <td>595</td>\n",
       "      <td>0.403130</td>\n",
       "      <td>0.096174</td>\n",
       "      <td>...</td>\n",
       "      <td>0.302</td>\n",
       "      <td>0.442160</td>\n",
       "      <td>0.678</td>\n",
       "      <td>0.612</td>\n",
       "      <td>0.196</td>\n",
       "      <td>0.820</td>\n",
       "      <td>-0.506892</td>\n",
       "      <td>-0.298655</td>\n",
       "      <td>0.837907</td>\n",
       "      <td>-0.926082</td>\n",
       "    </tr>\n",
       "    <tr>\n",
       "      <th>1</th>\n",
       "      <td>THO_wv001_session_0</td>\n",
       "      <td>2</td>\n",
       "      <td>3</td>\n",
       "      <td>1</td>\n",
       "      <td>5200</td>\n",
       "      <td>A10</td>\n",
       "      <td>LAH</td>\n",
       "      <td>22559</td>\n",
       "      <td>15.211009</td>\n",
       "      <td>0.532078</td>\n",
       "      <td>...</td>\n",
       "      <td>0.550</td>\n",
       "      <td>-0.165489</td>\n",
       "      <td>0.618</td>\n",
       "      <td>0.420</td>\n",
       "      <td>0.638</td>\n",
       "      <td>0.356</td>\n",
       "      <td>-0.244624</td>\n",
       "      <td>0.201325</td>\n",
       "      <td>-0.307028</td>\n",
       "      <td>0.367370</td>\n",
       "    </tr>\n",
       "    <tr>\n",
       "      <th>2</th>\n",
       "      <td>THO_wv001_session_0</td>\n",
       "      <td>3</td>\n",
       "      <td>4</td>\n",
       "      <td>1</td>\n",
       "      <td>5203</td>\n",
       "      <td>A10</td>\n",
       "      <td>LAH</td>\n",
       "      <td>4583</td>\n",
       "      <td>3.092074</td>\n",
       "      <td>1.323994</td>\n",
       "      <td>...</td>\n",
       "      <td>0.494</td>\n",
       "      <td>0.054754</td>\n",
       "      <td>0.202</td>\n",
       "      <td>0.680</td>\n",
       "      <td>0.290</td>\n",
       "      <td>0.658</td>\n",
       "      <td>0.895174</td>\n",
       "      <td>-0.480168</td>\n",
       "      <td>0.585059</td>\n",
       "      <td>-0.446647</td>\n",
       "    </tr>\n",
       "    <tr>\n",
       "      <th>3</th>\n",
       "      <td>THO_wv001_session_0</td>\n",
       "      <td>4</td>\n",
       "      <td>5</td>\n",
       "      <td>1</td>\n",
       "      <td>2248</td>\n",
       "      <td>A12</td>\n",
       "      <td>LAH</td>\n",
       "      <td>990</td>\n",
       "      <td>0.673605</td>\n",
       "      <td>0.000000</td>\n",
       "      <td>...</td>\n",
       "      <td>0.626</td>\n",
       "      <td>-0.363051</td>\n",
       "      <td>0.820</td>\n",
       "      <td>0.230</td>\n",
       "      <td>0.440</td>\n",
       "      <td>0.432</td>\n",
       "      <td>-0.925193</td>\n",
       "      <td>0.714770</td>\n",
       "      <td>0.182159</td>\n",
       "      <td>0.188107</td>\n",
       "    </tr>\n",
       "    <tr>\n",
       "      <th>4</th>\n",
       "      <td>THO_wv001_session_0</td>\n",
       "      <td>5</td>\n",
       "      <td>6</td>\n",
       "      <td>1</td>\n",
       "      <td>2303</td>\n",
       "      <td>A12</td>\n",
       "      <td>LAH</td>\n",
       "      <td>5965</td>\n",
       "      <td>4.031982</td>\n",
       "      <td>-1.315754</td>\n",
       "      <td>...</td>\n",
       "      <td>0.846</td>\n",
       "      <td>-1.047380</td>\n",
       "      <td>0.570</td>\n",
       "      <td>0.626</td>\n",
       "      <td>0.548</td>\n",
       "      <td>0.494</td>\n",
       "      <td>-0.148099</td>\n",
       "      <td>-0.329891</td>\n",
       "      <td>-0.172912</td>\n",
       "      <td>-0.039285</td>\n",
       "    </tr>\n",
       "  </tbody>\n",
       "</table>\n",
       "<p>5 rows × 29 columns</p>\n",
       "</div>"
      ],
      "text/plain": [
       "               session  uid  wvID  keep  cluster channel location  n_spikes  \\\n",
       "0  THO_wv001_session_0    0     1     1     5169     A10      LAH       595   \n",
       "1  THO_wv001_session_0    2     3     1     5200     A10      LAH     22559   \n",
       "2  THO_wv001_session_0    3     4     1     5203     A10      LAH      4583   \n",
       "3  THO_wv001_session_0    4     5     1     2248     A12      LAH       990   \n",
       "4  THO_wv001_session_0    5     6     1     2303     A12      LAH      5965   \n",
       "\n",
       "   firing_rate  fr_t_val_all  ...  target_p_val  target_z_score  sp_p_val_0  \\\n",
       "0     0.403130      0.096174  ...         0.302        0.442160       0.678   \n",
       "1    15.211009      0.532078  ...         0.550       -0.165489       0.618   \n",
       "2     3.092074      1.323994  ...         0.494        0.054754       0.202   \n",
       "3     0.673605      0.000000  ...         0.626       -0.363051       0.820   \n",
       "4     4.031982     -1.315754  ...         0.846       -1.047380       0.570   \n",
       "\n",
       "   sp_p_val_1  sp_p_val_2  sp_p_val_3  sp_z_score_0  sp_z_score_1  \\\n",
       "0       0.612       0.196       0.820     -0.506892     -0.298655   \n",
       "1       0.420       0.638       0.356     -0.244624      0.201325   \n",
       "2       0.680       0.290       0.658      0.895174     -0.480168   \n",
       "3       0.230       0.440       0.432     -0.925193      0.714770   \n",
       "4       0.626       0.548       0.494     -0.148099     -0.329891   \n",
       "\n",
       "   sp_z_score_2  sp_z_score_3  \n",
       "0      0.837907     -0.926082  \n",
       "1     -0.307028      0.367370  \n",
       "2      0.585059     -0.446647  \n",
       "3      0.182159      0.188107  \n",
       "4     -0.172912     -0.039285  \n",
       "\n",
       "[5 rows x 29 columns]"
      ]
     },
     "execution_count": 12,
     "metadata": {},
     "output_type": "execute_result"
    }
   ],
   "source": [
    "# Check the head of the results\n",
    "all_results.head()"
   ]
  },
  {
   "cell_type": "markdown",
   "id": "3e423866-1009-4799-b4c2-ea3350c8b953",
   "metadata": {},
   "source": [
    "### Location Checks"
   ]
  },
  {
   "cell_type": "code",
   "execution_count": 13,
   "id": "a12f7832-8094-4014-ab3c-60fe9278f4cb",
   "metadata": {},
   "outputs": [
    {
     "data": {
      "text/plain": [
       "{'LA', 'LAH', 'LPH', 'RA', 'RAH', 'RPH'}"
      ]
     },
     "execution_count": 13,
     "metadata": {},
     "output_type": "execute_result"
    }
   ],
   "source": [
    "set(all_results['location'])"
   ]
  },
  {
   "cell_type": "markdown",
   "id": "ec813f2d",
   "metadata": {},
   "source": [
    "### Firing Rate Checks"
   ]
  },
  {
   "cell_type": "code",
   "execution_count": 14,
   "id": "63ee9111",
   "metadata": {},
   "outputs": [],
   "source": [
    "# Add a marker for firing rate threshold in our task\n",
    "all_results['fr_keep_th'] = (all_results['firing_rate'] < 0.5).values"
   ]
  },
  {
   "cell_type": "markdown",
   "id": "dcb9e8b4",
   "metadata": {},
   "source": [
    "### Binary labels"
   ]
  },
  {
   "cell_type": "code",
   "execution_count": 15,
   "id": "fa6acef8",
   "metadata": {},
   "outputs": [],
   "source": [
    "# Set significance level\n",
    "ALPHA_LEVEL = 0.05"
   ]
  },
  {
   "cell_type": "code",
   "execution_count": 16,
   "id": "82809db3",
   "metadata": {},
   "outputs": [],
   "source": [
    "# Add binary labels for statistical tests\n",
    "all_results['is_chest_cell'] = all_results['fr_p_val_all'] < ALPHA_LEVEL\n",
    "all_results['is_full_cell'] = all_results['fr_p_val_full'] < ALPHA_LEVEL\n",
    "all_results['is_empty_cell'] = all_results['fr_p_val_empt'] < ALPHA_LEVEL\n",
    "all_results['is_place_cell'] = all_results['place_p_val'] < ALPHA_LEVEL\n",
    "all_results['is_target_cell'] = all_results['target_p_val'] < ALPHA_LEVEL\n",
    "all_results['is_sp_cell'] = np.logical_or.reduce((all_results['sp_p_val_0'] < ALPHA_LEVEL,\n",
    "                                                  all_results['sp_p_val_1'] < ALPHA_LEVEL,\n",
    "                                                  all_results['sp_p_val_2'] < ALPHA_LEVEL,\n",
    "                                                  all_results['sp_p_val_3'] < ALPHA_LEVEL))\n",
    "#all_results['is_head_direction_cell'] = all_results['hd_p_val'] < ALPHA_LEVEL"
   ]
  },
  {
   "cell_type": "markdown",
   "id": "62b53e5b",
   "metadata": {},
   "source": [
    "### Check numbers"
   ]
  },
  {
   "cell_type": "code",
   "execution_count": 17,
   "id": "a47918ce",
   "metadata": {},
   "outputs": [
    {
     "name": "stdout",
     "output_type": "stream",
     "text": [
      "Total number of cells: 456\n"
     ]
    }
   ],
   "source": [
    "# Check the total number of cells\n",
    "print('Total number of cells: {}'.format(n_files))"
   ]
  },
  {
   "cell_type": "markdown",
   "id": "acbab1b8",
   "metadata": {},
   "source": [
    "## Check Results"
   ]
  },
  {
   "cell_type": "code",
   "execution_count": 18,
   "id": "c9d253e3-3547-4d0d-84d1-d01d34162bfe",
   "metadata": {},
   "outputs": [],
   "source": [
    "n_cells = len(all_results)"
   ]
  },
  {
   "cell_type": "code",
   "execution_count": 19,
   "id": "eeff0160-2bd8-4fcc-bccc-dbb5f50b45f6",
   "metadata": {},
   "outputs": [],
   "source": [
    "n_chest_cells = sum(all_results['is_chest_cell'])\n",
    "n_full_cells = sum(all_results['is_full_cell'])\n",
    "n_empty_cells = sum(all_results['is_empty_cell'])\n",
    "n_place_cells = sum(all_results['is_place_cell'])\n",
    "n_target_cells = sum(all_results['is_target_cell'])\n",
    "n_sp_cells = sum(all_results['is_sp_cell'])"
   ]
  },
  {
   "cell_type": "code",
   "execution_count": 20,
   "id": "c99d744b-7c56-4adc-ab19-d2b46cbfb668",
   "metadata": {},
   "outputs": [
    {
     "name": "stdout",
     "output_type": "stream",
     "text": [
      "THO - total cells: 456\n",
      "\n",
      "# chest cells: \t\t60 (0.13)\n",
      "# full cells:  \t\t53 (0.12)\n",
      "# empty cells: \t\t36 (0.08)\n",
      "# place cells: \t\t 8 (0.02)\n",
      "# target cells:\t\t14 (0.03)\n",
      "# sp cells:\t\t11 (0.02)\n"
     ]
    }
   ],
   "source": [
    "print('{} - total cells: {}\\n'.format(task, n_cells))\n",
    "print('# chest cells: \\t\\t{:2d} ({:1.2f})'.format(n_chest_cells, n_chest_cells / n_cells))\n",
    "print('# full cells:  \\t\\t{:2d} ({:1.2f})'.format(n_full_cells, n_full_cells / n_cells))\n",
    "print('# empty cells: \\t\\t{:2d} ({:1.2f})'.format(n_empty_cells, n_empty_cells / n_cells))\n",
    "print('# place cells: \\t\\t{:2d} ({:1.2f})'.format(n_place_cells, n_place_cells / n_cells))\n",
    "print('# target cells:\\t\\t{:2d} ({:1.2f})'.format(n_target_cells, n_target_cells / n_cells))\n",
    "print('# sp cells:\\t\\t{:2d} ({:1.2f})'.format(n_sp_cells, n_sp_cells / n_cells))"
   ]
  },
  {
   "cell_type": "code",
   "execution_count": 21,
   "id": "2083a365",
   "metadata": {},
   "outputs": [
    {
     "data": {
      "image/png": "[encoded data removed]",
      "text/plain": [
       "<Figure size 1080x288 with 3 Axes>"
      ]
     },
     "metadata": {
      "needs_background": "light"
     },
     "output_type": "display_data"
    }
   ],
   "source": [
    "# Plot the distributions of measured values\n",
    "axes = make_axes(3, 3, figsize=(15, 4))\n",
    "plot_hist(all_results.fr_t_val_all.values, title='Chest - t-values', ax=axes[0])\n",
    "plot_hist(all_results.place_info.values, title='Place - info values', ax=axes[1])\n",
    "plot_hist(all_results.target_info.values, title='Target - info values', ax=axes[2])"
   ]
  },
  {
   "cell_type": "markdown",
   "id": "702c2040",
   "metadata": {},
   "source": [
    "## Save out results"
   ]
  },
  {
   "cell_type": "code",
   "execution_count": 22,
   "id": "928207ef",
   "metadata": {},
   "outputs": [],
   "source": [
    "# Save out of CSV\n",
    "all_results.to_csv(task + '_all_results.csv')"
   ]
  }
 ],
 "metadata": {
  "kernelspec": {
   "display_name": "spike",
   "language": "python",
   "name": "spike"
  },
  "language_info": {
   "codemirror_mode": {
    "name": "ipython",
    "version": 3
   },
   "file_extension": ".py",
   "mimetype": "text/x-python",
   "name": "python",
   "nbconvert_exporter": "python",
   "pygments_lexer": "ipython3",
   "version": "3.8.12"
  }
 },
 "nbformat": 4,
 "nbformat_minor": 5
}
