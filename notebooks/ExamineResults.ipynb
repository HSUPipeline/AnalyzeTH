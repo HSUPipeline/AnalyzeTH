{
 "cells": [
  {
   "cell_type": "markdown",
   "id": "c0fa1b69",
   "metadata": {},
   "source": [
    "# Examine Results"
   ]
  },
  {
   "cell_type": "code",
   "execution_count": 1,
   "id": "51e5da01",
   "metadata": {},
   "outputs": [],
   "source": [
    "from pathlib import Path\n",
    "\n",
    "import pandas as pd\n",
    "\n",
    "from convnwb.io import get_files, load_json\n",
    "\n",
    "from spiketools.plts.data import plot_hist\n",
    "from spiketools.plts.utils import make_axes"
   ]
  },
  {
   "cell_type": "code",
   "execution_count": 2,
   "id": "e9dfcac0",
   "metadata": {},
   "outputs": [],
   "source": [
    "import seaborn as sns\n",
    "sns.set_context('talk')"
   ]
  },
  {
   "cell_type": "markdown",
   "id": "bc5919e2",
   "metadata": {},
   "source": [
    "## Settings"
   ]
  },
  {
   "cell_type": "code",
   "execution_count": 3,
   "id": "0a0177e3",
   "metadata": {},
   "outputs": [],
   "source": [
    "# Set which task to run\n",
    "task = 'THF'"
   ]
  },
  {
   "cell_type": "code",
   "execution_count": 4,
   "id": "153c1373",
   "metadata": {},
   "outputs": [],
   "source": [
    "# Set the folder to load results from\n",
    "base_path = Path('../results/units/')\n",
    "data_path = base_path / task"
   ]
  },
  {
   "cell_type": "code",
   "execution_count": 5,
   "id": "8f155f37",
   "metadata": {},
   "outputs": [],
   "source": [
    "# Get the list of files\n",
    "res_files = get_files(data_path, select='json')"
   ]
  },
  {
   "cell_type": "code",
   "execution_count": 6,
   "id": "d4aac3b0",
   "metadata": {},
   "outputs": [],
   "source": [
    "# Check the number of available files\n",
    "n_files = len(res_files)"
   ]
  },
  {
   "cell_type": "markdown",
   "id": "38fa09de",
   "metadata": {},
   "source": [
    "## Load Example File"
   ]
  },
  {
   "cell_type": "code",
   "execution_count": 7,
   "id": "38ac3696",
   "metadata": {},
   "outputs": [],
   "source": [
    "# Load an example file\n",
    "file = res_files[0]\n",
    "data = load_json(file, folder=str(data_path))"
   ]
  },
  {
   "cell_type": "code",
   "execution_count": 8,
   "id": "638db8f2",
   "metadata": {},
   "outputs": [
    {
     "data": {
      "text/plain": [
       "{'session': 'THF_wv001_session_0',\n",
       " 'uid': 10,\n",
       " 'wvID': 11,\n",
       " 'keep': True,\n",
       " 'cluster': 1571,\n",
       " 'channel': 'A16',\n",
       " 'location': 'LAH',\n",
       " 'n_spikes': 2291,\n",
       " 'firing_rate': 1838.7560066057742,\n",
       " 'fr_t_val': -0.335561371762666,\n",
       " 'fr_p_val': 0.7384783239796033,\n",
       " 'place_info': 1.6642444829739589,\n",
       " 'place_p_val': 0.36,\n",
       " 'place_z_score': 0.5161622973139365,\n",
       " 'target_info': 3.773372526428895,\n",
       " 'target_p_val': 0.39,\n",
       " 'target_z_score': 0.3905937249743087,\n",
       " 'hd_z_val': 4.319161772293733,\n",
       " 'hd_p_val': 0.013246385441277002,\n",
       " 'hd_surr_p': 0.13,\n",
       " 'hd_surr_z': 1.0980174132116776}"
      ]
     },
     "execution_count": 8,
     "metadata": {},
     "output_type": "execute_result"
    }
   ],
   "source": [
    "# Check example file\n",
    "data"
   ]
  },
  {
   "cell_type": "markdown",
   "id": "1045e2f8",
   "metadata": {},
   "source": [
    "## Collect Results\n",
    "\n",
    "NOTES:\n",
    "- "
   ]
  },
  {
   "cell_type": "code",
   "execution_count": 9,
   "id": "b268abd8",
   "metadata": {},
   "outputs": [],
   "source": [
    "# Collect all unit results together into a dataframe\n",
    "all_results = pd.DataFrame()\n",
    "for file in res_files:\n",
    "    cur_results = load_json(file, folder=data_path)\n",
    "    all_results = all_results.append(cur_results, ignore_index=True)"
   ]
  },
  {
   "cell_type": "code",
   "execution_count": 10,
   "id": "b5396cac",
   "metadata": {},
   "outputs": [],
   "source": [
    "# Clean up some datatypes - cast integers\n",
    "set_ints = ['uid', 'wvID', 'keep', 'cluster', 'n_spikes']\n",
    "all_results[set_ints] = all_results[set_ints].astype('int')"
   ]
  },
  {
   "cell_type": "code",
   "execution_count": 11,
   "id": "62db4a29",
   "metadata": {},
   "outputs": [
    {
     "data": {
      "text/plain": [
       "Index(['session', 'uid', 'wvID', 'keep', 'cluster', 'channel', 'location',\n",
       "       'n_spikes', 'firing_rate', 'fr_t_val', 'fr_p_val', 'place_info',\n",
       "       'place_p_val', 'place_z_score', 'target_info', 'target_p_val',\n",
       "       'target_z_score', 'hd_z_val', 'hd_p_val', 'hd_surr_p', 'hd_surr_z',\n",
       "       'fr_p_val_all', 'fr_p_val_empt', 'fr_p_val_full', 'fr_t_val_all',\n",
       "       'fr_t_val_empt', 'fr_t_val_full', 'sp_p_val_0', 'sp_p_val_1',\n",
       "       'sp_p_val_2', 'sp_p_val_3', 'sp_z_score_0', 'sp_z_score_1',\n",
       "       'sp_z_score_2', 'sp_z_score_3'],\n",
       "      dtype='object')"
      ]
     },
     "execution_count": 11,
     "metadata": {},
     "output_type": "execute_result"
    }
   ],
   "source": [
    "# Check the columns\n",
    "all_results.columns"
   ]
  },
  {
   "cell_type": "code",
   "execution_count": 12,
   "id": "df60560e",
   "metadata": {},
   "outputs": [
    {
     "data": {
      "text/html": [
       "<div>\n",
       "<style scoped>\n",
       "    .dataframe tbody tr th:only-of-type {\n",
       "        vertical-align: middle;\n",
       "    }\n",
       "\n",
       "    .dataframe tbody tr th {\n",
       "        vertical-align: top;\n",
       "    }\n",
       "\n",
       "    .dataframe thead th {\n",
       "        text-align: right;\n",
       "    }\n",
       "</style>\n",
       "<table border=\"1\" class=\"dataframe\">\n",
       "  <thead>\n",
       "    <tr style=\"text-align: right;\">\n",
       "      <th></th>\n",
       "      <th>session</th>\n",
       "      <th>uid</th>\n",
       "      <th>wvID</th>\n",
       "      <th>keep</th>\n",
       "      <th>cluster</th>\n",
       "      <th>channel</th>\n",
       "      <th>location</th>\n",
       "      <th>n_spikes</th>\n",
       "      <th>firing_rate</th>\n",
       "      <th>fr_t_val</th>\n",
       "      <th>...</th>\n",
       "      <th>fr_t_val_empt</th>\n",
       "      <th>fr_t_val_full</th>\n",
       "      <th>sp_p_val_0</th>\n",
       "      <th>sp_p_val_1</th>\n",
       "      <th>sp_p_val_2</th>\n",
       "      <th>sp_p_val_3</th>\n",
       "      <th>sp_z_score_0</th>\n",
       "      <th>sp_z_score_1</th>\n",
       "      <th>sp_z_score_2</th>\n",
       "      <th>sp_z_score_3</th>\n",
       "    </tr>\n",
       "  </thead>\n",
       "  <tbody>\n",
       "    <tr>\n",
       "      <th>0</th>\n",
       "      <td>THF_wv001_session_0</td>\n",
       "      <td>10</td>\n",
       "      <td>11</td>\n",
       "      <td>1</td>\n",
       "      <td>1571</td>\n",
       "      <td>A16</td>\n",
       "      <td>LAH</td>\n",
       "      <td>2291</td>\n",
       "      <td>1838.756007</td>\n",
       "      <td>-0.335561</td>\n",
       "      <td>...</td>\n",
       "      <td>NaN</td>\n",
       "      <td>NaN</td>\n",
       "      <td>NaN</td>\n",
       "      <td>NaN</td>\n",
       "      <td>NaN</td>\n",
       "      <td>NaN</td>\n",
       "      <td>NaN</td>\n",
       "      <td>NaN</td>\n",
       "      <td>NaN</td>\n",
       "      <td>NaN</td>\n",
       "    </tr>\n",
       "    <tr>\n",
       "      <th>1</th>\n",
       "      <td>THF_wv001_session_0</td>\n",
       "      <td>11</td>\n",
       "      <td>12</td>\n",
       "      <td>1</td>\n",
       "      <td>2044</td>\n",
       "      <td>A17</td>\n",
       "      <td>LPH</td>\n",
       "      <td>1400</td>\n",
       "      <td>1110.418593</td>\n",
       "      <td>-0.204255</td>\n",
       "      <td>...</td>\n",
       "      <td>NaN</td>\n",
       "      <td>NaN</td>\n",
       "      <td>NaN</td>\n",
       "      <td>NaN</td>\n",
       "      <td>NaN</td>\n",
       "      <td>NaN</td>\n",
       "      <td>NaN</td>\n",
       "      <td>NaN</td>\n",
       "      <td>NaN</td>\n",
       "      <td>NaN</td>\n",
       "    </tr>\n",
       "    <tr>\n",
       "      <th>2</th>\n",
       "      <td>THF_wv001_session_0</td>\n",
       "      <td>12</td>\n",
       "      <td>13</td>\n",
       "      <td>1</td>\n",
       "      <td>2130</td>\n",
       "      <td>A17</td>\n",
       "      <td>LPH</td>\n",
       "      <td>702</td>\n",
       "      <td>555.959172</td>\n",
       "      <td>-0.448272</td>\n",
       "      <td>...</td>\n",
       "      <td>NaN</td>\n",
       "      <td>NaN</td>\n",
       "      <td>NaN</td>\n",
       "      <td>NaN</td>\n",
       "      <td>NaN</td>\n",
       "      <td>NaN</td>\n",
       "      <td>NaN</td>\n",
       "      <td>NaN</td>\n",
       "      <td>NaN</td>\n",
       "      <td>NaN</td>\n",
       "    </tr>\n",
       "    <tr>\n",
       "      <th>3</th>\n",
       "      <td>THF_wv001_session_0</td>\n",
       "      <td>13</td>\n",
       "      <td>14</td>\n",
       "      <td>1</td>\n",
       "      <td>2195</td>\n",
       "      <td>A17</td>\n",
       "      <td>LPH</td>\n",
       "      <td>635</td>\n",
       "      <td>502.897181</td>\n",
       "      <td>0.360277</td>\n",
       "      <td>...</td>\n",
       "      <td>NaN</td>\n",
       "      <td>NaN</td>\n",
       "      <td>NaN</td>\n",
       "      <td>NaN</td>\n",
       "      <td>NaN</td>\n",
       "      <td>NaN</td>\n",
       "      <td>NaN</td>\n",
       "      <td>NaN</td>\n",
       "      <td>NaN</td>\n",
       "      <td>NaN</td>\n",
       "    </tr>\n",
       "    <tr>\n",
       "      <th>4</th>\n",
       "      <td>THF_wv001_session_0</td>\n",
       "      <td>14</td>\n",
       "      <td>15</td>\n",
       "      <td>1</td>\n",
       "      <td>2207</td>\n",
       "      <td>A17</td>\n",
       "      <td>LPH</td>\n",
       "      <td>1135</td>\n",
       "      <td>898.879457</td>\n",
       "      <td>-3.039444</td>\n",
       "      <td>...</td>\n",
       "      <td>NaN</td>\n",
       "      <td>NaN</td>\n",
       "      <td>NaN</td>\n",
       "      <td>NaN</td>\n",
       "      <td>NaN</td>\n",
       "      <td>NaN</td>\n",
       "      <td>NaN</td>\n",
       "      <td>NaN</td>\n",
       "      <td>NaN</td>\n",
       "      <td>NaN</td>\n",
       "    </tr>\n",
       "  </tbody>\n",
       "</table>\n",
       "<p>5 rows × 35 columns</p>\n",
       "</div>"
      ],
      "text/plain": [
       "               session  uid  wvID  keep  cluster channel location  n_spikes  \\\n",
       "0  THF_wv001_session_0   10    11     1     1571     A16      LAH      2291   \n",
       "1  THF_wv001_session_0   11    12     1     2044     A17      LPH      1400   \n",
       "2  THF_wv001_session_0   12    13     1     2130     A17      LPH       702   \n",
       "3  THF_wv001_session_0   13    14     1     2195     A17      LPH       635   \n",
       "4  THF_wv001_session_0   14    15     1     2207     A17      LPH      1135   \n",
       "\n",
       "   firing_rate  fr_t_val  ...  fr_t_val_empt  fr_t_val_full  sp_p_val_0  \\\n",
       "0  1838.756007 -0.335561  ...            NaN            NaN         NaN   \n",
       "1  1110.418593 -0.204255  ...            NaN            NaN         NaN   \n",
       "2   555.959172 -0.448272  ...            NaN            NaN         NaN   \n",
       "3   502.897181  0.360277  ...            NaN            NaN         NaN   \n",
       "4   898.879457 -3.039444  ...            NaN            NaN         NaN   \n",
       "\n",
       "   sp_p_val_1  sp_p_val_2  sp_p_val_3  sp_z_score_0  sp_z_score_1  \\\n",
       "0         NaN         NaN         NaN           NaN           NaN   \n",
       "1         NaN         NaN         NaN           NaN           NaN   \n",
       "2         NaN         NaN         NaN           NaN           NaN   \n",
       "3         NaN         NaN         NaN           NaN           NaN   \n",
       "4         NaN         NaN         NaN           NaN           NaN   \n",
       "\n",
       "   sp_z_score_2  sp_z_score_3  \n",
       "0           NaN           NaN  \n",
       "1           NaN           NaN  \n",
       "2           NaN           NaN  \n",
       "3           NaN           NaN  \n",
       "4           NaN           NaN  \n",
       "\n",
       "[5 rows x 35 columns]"
      ]
     },
     "execution_count": 12,
     "metadata": {},
     "output_type": "execute_result"
    }
   ],
   "source": [
    "# Check the head of the results\n",
    "all_results.head()"
   ]
  },
  {
   "cell_type": "markdown",
   "id": "ec813f2d",
   "metadata": {},
   "source": [
    "### Firing Rate Checks"
   ]
  },
  {
   "cell_type": "code",
   "execution_count": 13,
   "id": "63ee9111",
   "metadata": {},
   "outputs": [],
   "source": [
    "# Add a marker for firing rate threshold in our task\n",
    "all_results['fr_keep_th'] = (all_results['firing_rate'] < 0.5).values"
   ]
  },
  {
   "cell_type": "markdown",
   "id": "dcb9e8b4",
   "metadata": {},
   "source": [
    "### Binary labels"
   ]
  },
  {
   "cell_type": "code",
   "execution_count": 14,
   "id": "fa6acef8",
   "metadata": {},
   "outputs": [],
   "source": [
    "# Set significance level\n",
    "ALPHA_LEVEL = 0.05"
   ]
  },
  {
   "cell_type": "code",
   "execution_count": 15,
   "id": "82809db3",
   "metadata": {},
   "outputs": [],
   "source": [
    "# Add columns \n",
    "all_results['is_place_cell'] = all_results['place_p_val'] < ALPHA_LEVEL\n",
    "all_results['is_target_cell'] = all_results['target_p_val'] < ALPHA_LEVEL\n",
    "all_results['is_face_fr_cell'] = all_results['fr_t_val'] < ALPHA_LEVEL\n",
    "all_results['is_head_direction_cell'] = all_results['hd_p_val'] < ALPHA_LEVEL"
   ]
  },
  {
   "cell_type": "markdown",
   "id": "62b53e5b",
   "metadata": {},
   "source": [
    "### Check numbers"
   ]
  },
  {
   "cell_type": "code",
   "execution_count": 16,
   "id": "a47918ce",
   "metadata": {},
   "outputs": [
    {
     "name": "stdout",
     "output_type": "stream",
     "text": [
      "Total number of cells: 72\n"
     ]
    }
   ],
   "source": [
    "# Check the total number of cells\n",
    "print('Total number of cells: {}'.format(n_files))"
   ]
  },
  {
   "cell_type": "markdown",
   "id": "acbab1b8",
   "metadata": {},
   "source": [
    "## Check Results"
   ]
  },
  {
   "cell_type": "code",
   "execution_count": 17,
   "id": "2083a365",
   "metadata": {},
   "outputs": [
    {
     "data": {
      "image/png": "[encoded data removed]",
      "text/plain": [
       "<Figure size 1080x288 with 3 Axes>"
      ]
     },
     "metadata": {
      "needs_background": "light"
     },
     "output_type": "display_data"
    }
   ],
   "source": [
    "# Plot the distributions of measured values\n",
    "axes = make_axes(3, 3, figsize=(15, 4))\n",
    "plot_hist(all_results.fr_t_val.values, title='Chest - t-values', ax=axes[0])\n",
    "plot_hist(all_results.place_info.values, title='Place - info values', ax=axes[1])\n",
    "plot_hist(all_results.target_info.values, title='Target - info values', ax=axes[2])"
   ]
  },
  {
   "cell_type": "markdown",
   "id": "702c2040",
   "metadata": {},
   "source": [
    "## Save out results"
   ]
  },
  {
   "cell_type": "code",
   "execution_count": 18,
   "id": "928207ef",
   "metadata": {},
   "outputs": [],
   "source": [
    "# Save out of CSV\n",
    "#all_results.to_csv(task + '_all_results.csv')"
   ]
  }
 ],
 "metadata": {
  "kernelspec": {
   "display_name": "Python 3 (ipykernel)",
   "language": "python",
   "name": "python3"
  },
  "language_info": {
   "codemirror_mode": {
    "name": "ipython",
    "version": 3
   },
   "file_extension": ".py",
   "mimetype": "text/x-python",
   "name": "python",
   "nbconvert_exporter": "python",
   "pygments_lexer": "ipython3",
   "version": "3.8.11"
  }
 },
 "nbformat": 4,
 "nbformat_minor": 5
}
