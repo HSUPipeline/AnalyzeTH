{
 "cells": [
  {
   "cell_type": "markdown",
   "id": "short-kentucky",
   "metadata": {},
   "source": [
    "# Place Cell Analyses\n",
    "\n",
    "Analyze TH data for place cells."
   ]
  },
  {
   "cell_type": "code",
   "execution_count": 1,
   "id": "based-lobby",
   "metadata": {},
   "outputs": [],
   "source": [
    "%config Completer.use_jedi = False"
   ]
  },
  {
   "cell_type": "code",
   "execution_count": 2,
   "id": "democratic-twelve",
   "metadata": {},
   "outputs": [],
   "source": [
    "import warnings\n",
    "from pathlib import Path\n",
    "\n",
    "import numpy as np\n",
    "import pandas as pd\n",
    "import matplotlib.pyplot as plt\n",
    "\n",
    "import statsmodels.formula.api as smf\n",
    "from statsmodels.stats.anova import anova_lm\n",
    "\n",
    "from pynwb import NWBHDF5IO\n",
    "\n",
    "from spiketools.spatial.occupancy import (compute_occupancy, compute_spatial_bin_edges,\n",
    "                                          compute_spatial_bin_assignment, compute_bin_time)\n",
    "from spiketools.spatial.utils import get_pos_ranges, get_bin_width\n",
    "from spiketools.stats.shuffle import shuffle_spikes\n",
    "from spiketools.stats.permutations import (zscore_to_surrogates, compute_empirical_pvalue, \n",
    "                                           compute_surrogate_stats)\n",
    "from spiketools.plts.space import plot_positions, plot_heatmap\n",
    "from spiketools.plts.stats import plot_surrogates\n",
    "from spiketools.plts.utils import make_axes\n",
    "from spiketools.plts.annotate import color_pval\n",
    "from spiketools.utils import restrict_range, get_value_by_time_range, set_random_seed\n",
    "from spiketools.utils.trials import epoch_data_by_range, epoch_spikes_by_range"
   ]
  },
  {
   "cell_type": "code",
   "execution_count": 3,
   "id": "final-justice",
   "metadata": {},
   "outputs": [],
   "source": [
    "import seaborn as sns\n",
    "sns.set_context('talk')"
   ]
  },
  {
   "cell_type": "code",
   "execution_count": 4,
   "id": "8c5c1e74",
   "metadata": {},
   "outputs": [],
   "source": [
    "import sys\n",
    "sys.path.append('../code')\n",
    "from analysis import get_spike_positions, compute_bin_firing\n",
    "from place import get_trial_place, compute_place_bins"
   ]
  },
  {
   "cell_type": "code",
   "execution_count": 5,
   "id": "8f48fe8f",
   "metadata": {},
   "outputs": [],
   "source": [
    "from functools import partial\n",
    "from spiketools.stats.anova import create_dataframe, fit_anova\n",
    "create_df_place = partial(create_dataframe, columns=['bin', 'fr'])\n",
    "fit_anova_place = partial(fit_anova, formula='fr ~ C(bin)', feature='C(bin)')"
   ]
  },
  {
   "cell_type": "markdown",
   "id": "exclusive-quest",
   "metadata": {},
   "source": [
    "## Settings"
   ]
  },
  {
   "cell_type": "code",
   "execution_count": 6,
   "id": "90454d00",
   "metadata": {},
   "outputs": [],
   "source": [
    "# Set random seed, for consistency shuffling\n",
    "set_random_seed(101)"
   ]
  },
  {
   "cell_type": "code",
   "execution_count": 7,
   "id": "98d6504b",
   "metadata": {},
   "outputs": [],
   "source": [
    "# Define the base data folder\n",
    "#data_folder = Path('/Users/Claire_han/Documents/Data/JacobsLab/TH')\n",
    "data_folder = Path('/Users/tom/Documents/Data/JacobsLab/TH/')"
   ]
  },
  {
   "cell_type": "code",
   "execution_count": 8,
   "id": "d05eb3ec",
   "metadata": {},
   "outputs": [],
   "source": [
    "# Define subject information\n",
    "task = 'THF'\n",
    "subj = 'wv001'\n",
    "session = 2"
   ]
  },
  {
   "cell_type": "code",
   "execution_count": 9,
   "id": "baking-tattoo",
   "metadata": {},
   "outputs": [],
   "source": [
    "# Define bins to use\n",
    "bins = [6, 10]\n",
    "n_bins = bins[0] * bins[1]\n",
    "\n",
    "# Define minimum required occupancy (in seconds)\n",
    "min_occ = 1"
   ]
  },
  {
   "cell_type": "code",
   "execution_count": 10,
   "id": "28b91e38",
   "metadata": {},
   "outputs": [],
   "source": [
    "# Shuffle Settings\n",
    "shuffle_approach = 'CIRCULAR'\n",
    "# shuffle_approach = 'BINCIRC'\n",
    "n_surrogates = 1000\n",
    "\n",
    "if shuffle_approach == 'CIRCULAR':\n",
    "    shuffle_kwargs = {}\n",
    "if shuffle_approach == 'BINCIRC':\n",
    "    shuffle_kwargs = {'shuffle_min' : 20000}"
   ]
  },
  {
   "cell_type": "code",
   "execution_count": 11,
   "id": "096f2f36",
   "metadata": {},
   "outputs": [],
   "source": [
    "# Set example unit to analyze\n",
    "uind = 36"
   ]
  },
  {
   "cell_type": "markdown",
   "id": "magnetic-partition",
   "metadata": {},
   "source": [
    "## Load Data"
   ]
  },
  {
   "cell_type": "code",
   "execution_count": 12,
   "id": "9e6e8329",
   "metadata": {},
   "outputs": [],
   "source": [
    "# Define expected NWB file name & full path\n",
    "file_name = '_'.join([task, subj, 'session_' + str(session)]) + '.nwb'\n",
    "full_path = data_folder / 'NWB' / file_name"
   ]
  },
  {
   "cell_type": "code",
   "execution_count": 13,
   "id": "demographic-blood",
   "metadata": {},
   "outputs": [],
   "source": [
    "# Load NWB file\n",
    "io = NWBHDF5IO(str(full_path), 'r')\n",
    "nwbfile = io.read()"
   ]
  },
  {
   "cell_type": "markdown",
   "id": "ccb33277",
   "metadata": {},
   "source": [
    "#### Extract Time Definitions"
   ]
  },
  {
   "cell_type": "code",
   "execution_count": 14,
   "id": "f8513242",
   "metadata": {},
   "outputs": [],
   "source": [
    "# Get the navigation time ranges\n",
    "nav_starts = nwbfile.trials.navigation_start[:]\n",
    "nav_stops = nwbfile.trials.navigation_stop[:]"
   ]
  },
  {
   "cell_type": "markdown",
   "id": "d40b20bd",
   "metadata": {},
   "source": [
    "#### Extract Position Data"
   ]
  },
  {
   "cell_type": "code",
   "execution_count": 15,
   "id": "varied-librarian",
   "metadata": {},
   "outputs": [],
   "source": [
    "# Extract the position data\n",
    "ptimes = nwbfile.acquisition['position']['player_position'].timestamps[:]\n",
    "positions = nwbfile.acquisition['position']['player_position'].data[:].T\n",
    "stimes = nwbfile.processing['position_measures']['speed'].timestamps[:]\n",
    "speed = nwbfile.processing['position_measures']['speed'].data[:]"
   ]
  },
  {
   "cell_type": "code",
   "execution_count": 16,
   "id": "76f72546",
   "metadata": {},
   "outputs": [],
   "source": [
    "# Get boundary ranges\n",
    "x_boundary = nwbfile.acquisition['boundaries']['x_range'].data[:]\n",
    "z_boundary = nwbfile.acquisition['boundaries']['z_range'].data[:]\n",
    "\n",
    "# Add a buffer to the z-range (for tower transport)\n",
    "z_boundary = z_boundary + np.array([-15, 15])"
   ]
  },
  {
   "cell_type": "markdown",
   "id": "0fd6e3ac",
   "metadata": {},
   "source": [
    "#### Extract Boundaries"
   ]
  },
  {
   "cell_type": "code",
   "execution_count": 17,
   "id": "9ab2f894",
   "metadata": {},
   "outputs": [
    {
     "name": "stdout",
     "output_type": "stream",
     "text": [
      "X boundary range:  [349.8549 419.8549]\n",
      "Z boundary range:  [293.     424.3358]\n"
     ]
    }
   ],
   "source": [
    "# Collect together boundary ranges\n",
    "area_range = [x_boundary, z_boundary]\n",
    "print('X boundary range: ', x_boundary)\n",
    "print('Z boundary range: ', z_boundary)"
   ]
  },
  {
   "cell_type": "markdown",
   "id": "bbed94e3",
   "metadata": {},
   "source": [
    "#### Select position traces from navigation periods"
   ]
  },
  {
   "cell_type": "code",
   "execution_count": 18,
   "id": "e9d1bdd3",
   "metadata": {},
   "outputs": [],
   "source": [
    "# Get position data for navigation segments\n",
    "ptimes_trials, positions_trials = epoch_data_by_range(ptimes, positions, nav_starts, nav_stops)\n",
    "stimes_trials, speed_trials = epoch_data_by_range(stimes, speed, nav_starts, nav_stops)"
   ]
  },
  {
   "cell_type": "code",
   "execution_count": 19,
   "id": "504ac8c0",
   "metadata": {},
   "outputs": [],
   "source": [
    "# Recombine position data across selected navigation trials\n",
    "ptimes = np.hstack(ptimes_trials)\n",
    "positions = np.hstack(positions_trials)\n",
    "stimes = np.hstack(stimes_trials)\n",
    "speed = np.hstack(speed_trials)"
   ]
  },
  {
   "cell_type": "markdown",
   "id": "37009c79",
   "metadata": {},
   "source": [
    "#### Extract Spike Data"
   ]
  },
  {
   "cell_type": "code",
   "execution_count": 20,
   "id": "7dc4bd31",
   "metadata": {},
   "outputs": [
    {
     "name": "stdout",
     "output_type": "stream",
     "text": [
      "Number of units: 81\n",
      "Number to keep:  57\n"
     ]
    }
   ],
   "source": [
    "# Check the number of units & keep indices\n",
    "n_units = len(nwbfile.units)\n",
    "keep_inds = np.where(nwbfile.units.keep[:])[0]\n",
    "n_keep = len(keep_inds)\n",
    "print('Number of units: {}'.format(n_units))\n",
    "print('Number to keep:  {}'.format(n_keep))"
   ]
  },
  {
   "cell_type": "code",
   "execution_count": 21,
   "id": "neither-enemy",
   "metadata": {},
   "outputs": [],
   "source": [
    "# Extract spikes for a unit of interest\n",
    "spikes = nwbfile.units.get_unit_spike_times(uind)"
   ]
  },
  {
   "cell_type": "markdown",
   "id": "fc001ae5",
   "metadata": {},
   "source": [
    "## Position Data"
   ]
  },
  {
   "cell_type": "code",
   "execution_count": 22,
   "id": "42880bfd",
   "metadata": {},
   "outputs": [],
   "source": [
    "# Compute position ranges\n",
    "x_range, z_range = get_pos_ranges(positions)"
   ]
  },
  {
   "cell_type": "code",
   "execution_count": 23,
   "id": "706329ea",
   "metadata": {},
   "outputs": [
    {
     "name": "stdout",
     "output_type": "stream",
     "text": [
      "Position X-range:  365.40 - 404.59 (39.18)\n",
      "Position Z-range:  302.87 - 411.54 (108.67)\n"
     ]
    }
   ],
   "source": [
    "# Check ranges of positon\n",
    "print('Position X-range:  {:1.2f} - {:1.2f} ({:1.2f})'.format(*x_range, x_range[1] - x_range[0]))\n",
    "print('Position Z-range:  {:1.2f} - {:1.2f} ({:1.2f})'.format(*z_range, z_range[1] - z_range[0]))"
   ]
  },
  {
   "cell_type": "code",
   "execution_count": 24,
   "id": "983ae317",
   "metadata": {},
   "outputs": [],
   "source": [
    "# Get position values for each spike\n",
    "spike_xs, spike_ys = get_spike_positions(spikes, ptimes, positions, threshold=0.1)\n",
    "spike_positions = np.array([spike_xs, spike_ys])"
   ]
  },
  {
   "cell_type": "code",
   "execution_count": 25,
   "id": "907ffe60",
   "metadata": {},
   "outputs": [],
   "source": [
    "# Check binning\n",
    "x_bin_edges, y_bin_edges = compute_spatial_bin_edges(positions, bins, area_range)"
   ]
  },
  {
   "cell_type": "code",
   "execution_count": 26,
   "id": "bb363cc4",
   "metadata": {},
   "outputs": [
    {
     "name": "stdout",
     "output_type": "stream",
     "text": [
      "Bin widths: 11.67, 13.13\n"
     ]
    }
   ],
   "source": [
    "# Check bin sizes\n",
    "print('Bin widths: {:1.2f}, {:1.2f}'.format(get_bin_width(x_bin_edges), get_bin_width(y_bin_edges)))"
   ]
  },
  {
   "cell_type": "markdown",
   "id": "22ab93c9",
   "metadata": {},
   "source": [
    "### Occupancy"
   ]
  },
  {
   "cell_type": "code",
   "execution_count": 27,
   "id": "662229cd",
   "metadata": {
    "scrolled": true
   },
   "outputs": [],
   "source": [
    "# Compute occupancy\n",
    "occ = compute_occupancy(positions, ptimes, bins, speed, minimum=min_occ,\n",
    "                        area_range=area_range, set_nan=True)"
   ]
  },
  {
   "cell_type": "code",
   "execution_count": 28,
   "id": "8f174c51",
   "metadata": {},
   "outputs": [
    {
     "data": {
      "image/png": "[encoded data removed]",
      "text/plain": [
       "<Figure size 360x504 with 1 Axes>"
      ]
     },
     "metadata": {},
     "output_type": "display_data"
    }
   ],
   "source": [
    "# Plot occupancy\n",
    "plot_heatmap(occ, transpose=True, ignore_zero=False, figsize=(5, 7))"
   ]
  },
  {
   "cell_type": "markdown",
   "id": "67315be9",
   "metadata": {},
   "source": [
    "## Check spike locations"
   ]
  },
  {
   "cell_type": "code",
   "execution_count": 29,
   "id": "078256e6",
   "metadata": {},
   "outputs": [
    {
     "data": {
      "image/png": "[encoded data removed]",
      "text/plain": [
       "<Figure size 360x504 with 1 Axes>"
      ]
     },
     "metadata": {
      "needs_background": "light"
     },
     "output_type": "display_data"
    }
   ],
   "source": [
    "# Plot the map across all position traces (plotted per trial)\n",
    "plot_positions(positions_trials, spike_positions,\n",
    "               x_bins=x_bin_edges, y_bins=y_bin_edges,\n",
    "               xlim=list(x_boundary), ylim=list(z_boundary),\n",
    "               figsize=(5, 7))"
   ]
  },
  {
   "cell_type": "markdown",
   "id": "0697a92c",
   "metadata": {},
   "source": [
    "## Compute Binned Spatial Firing"
   ]
  },
  {
   "cell_type": "code",
   "execution_count": 30,
   "id": "046afaa6",
   "metadata": {},
   "outputs": [],
   "source": [
    "# Compute spatial bin assignments for each spike\n",
    "x_binl, y_binl = compute_spatial_bin_assignment(spike_positions, x_bin_edges, y_bin_edges)"
   ]
  },
  {
   "cell_type": "code",
   "execution_count": 31,
   "id": "a26c522a",
   "metadata": {},
   "outputs": [],
   "source": [
    "# Compute summary map of bin firing\n",
    "bin_firing = compute_bin_firing(x_binl, y_binl, bins)"
   ]
  },
  {
   "cell_type": "code",
   "execution_count": 32,
   "id": "285f9d34",
   "metadata": {},
   "outputs": [
    {
     "data": {
      "image/png": "[encoded data removed]",
      "text/plain": [
       "<Figure size 432x288 with 1 Axes>"
      ]
     },
     "metadata": {},
     "output_type": "display_data"
    }
   ],
   "source": [
    "# Check the firing map\n",
    "plot_heatmap(bin_firing, transpose=True)"
   ]
  },
  {
   "cell_type": "code",
   "execution_count": 33,
   "id": "7f8b7b54",
   "metadata": {},
   "outputs": [],
   "source": [
    "# Normalize bin firing by occupancy\n",
    "#with warnings.catch_warnings():\n",
    "#    warnings.simplefilter(\"ignore\")\n",
    "normed_bin_firing = bin_firing / occ"
   ]
  },
  {
   "cell_type": "code",
   "execution_count": 34,
   "id": "0b7ba9b3",
   "metadata": {},
   "outputs": [
    {
     "data": {
      "image/png": "[encoded data removed]",
      "text/plain": [
       "<Figure size 432x288 with 1 Axes>"
      ]
     },
     "metadata": {},
     "output_type": "display_data"
    }
   ],
   "source": [
    "# Plot occupancy-normalized spatial firing\n",
    "plot_heatmap(normed_bin_firing, transpose=True)"
   ]
  },
  {
   "cell_type": "markdown",
   "id": "f890449e",
   "metadata": {},
   "source": [
    "## Place coding per trial"
   ]
  },
  {
   "cell_type": "code",
   "execution_count": 35,
   "id": "aeda2dca",
   "metadata": {},
   "outputs": [
    {
     "name": "stdout",
     "output_type": "stream",
     "text": [
      "Number of trials: 24\n"
     ]
    }
   ],
   "source": [
    "# Get the number of trials\n",
    "n_trials = len(nwbfile.trials)\n",
    "print('Number of trials: {}'.format(n_trials))\n",
    "\n",
    "# Set a trial index to get data for\n",
    "t_ind = 5"
   ]
  },
  {
   "cell_type": "code",
   "execution_count": 36,
   "id": "c9a74eb1",
   "metadata": {},
   "outputs": [],
   "source": [
    "# Get the navigation time ranges\n",
    "nav_starts_trial = nwbfile.trials.navigation_start[t_ind]\n",
    "nav_stops_trial = nwbfile.trials.navigation_stop[t_ind]"
   ]
  },
  {
   "cell_type": "code",
   "execution_count": 37,
   "id": "c139877d",
   "metadata": {},
   "outputs": [],
   "source": [
    "# Get data for selected trial: trial positions, spikes, and spike positions\n",
    "trial_times, trial_pos = get_value_by_time_range(ptimes, positions,\n",
    "                                                 nav_starts_trial, nav_stops_trial)\n",
    "trial_spikes = restrict_range(spikes, nav_starts_trial, nav_stops_trial)\n",
    "trial_spike_pos_x, trial_spike_pos_y = get_spike_positions(trial_spikes, trial_times, trial_pos)\n",
    "spike_positions_trial = np.array([trial_spike_pos_x, trial_spike_pos_y])"
   ]
  },
  {
   "cell_type": "code",
   "execution_count": 38,
   "id": "e3414d8b",
   "metadata": {},
   "outputs": [],
   "source": [
    "# Compute spatial bin assignments for each spike\n",
    "x_binl_trial, y_binl_trial = compute_spatial_bin_assignment(spike_positions_trial, x_bin_edges, y_bin_edges)"
   ]
  },
  {
   "cell_type": "code",
   "execution_count": 39,
   "id": "02cc5b57",
   "metadata": {},
   "outputs": [],
   "source": [
    "# Compute summary map of bin firing for one selected trial\n",
    "bin_firing_trial = (compute_bin_firing(x_binl_trial, y_binl_trial, bins)).flatten()"
   ]
  },
  {
   "cell_type": "markdown",
   "id": "004ad356",
   "metadata": {},
   "source": [
    "# ANOVA TEST"
   ]
  },
  {
   "cell_type": "markdown",
   "id": "31fcc3d7",
   "metadata": {},
   "source": [
    "### Use fr ~ C(bin),  real data"
   ]
  },
  {
   "cell_type": "code",
   "execution_count": 40,
   "id": "7e18f5b4",
   "metadata": {},
   "outputs": [],
   "source": [
    "# OLD:\n",
    "# get firing rate per bin, per trial\n",
    "bin_firing_trial = np.zeros([n_trials, n_bins])\n",
    "bin_firing_trial_norm = np.zeros([n_trials, n_bins])\n",
    "\n",
    "for ind in range(n_trials):\n",
    "    nav_starts_trial = nwbfile.trials.navigation_start[ind]\n",
    "    nav_stops_trial = nwbfile.trials.navigation_stop[ind]\n",
    "    \n",
    "    # Get data for selected trial: trial positions, spikes, and spike positions\n",
    "    trial_times, trial_pos = get_value_by_time_range(ptimes, positions, nav_starts_trial, nav_stops_trial)\n",
    "    trial_spikes = restrict_range(spikes, nav_starts_trial, nav_stops_trial)\n",
    "    trial_speed = restrict_range(speed, nav_starts_trial, nav_stops_trial)\n",
    "    trial_spike_pos_x, trial_spike_pos_y = get_spike_positions(trial_spikes, trial_times, trial_pos)\n",
    "    spike_positions_trial = np.array([trial_spike_pos_x, trial_spike_pos_y])\n",
    "    \n",
    "    # Compute spatial bin assignments for each spike\n",
    "    x_binl_trial, y_binl_trial = compute_spatial_bin_assignment(\\\n",
    "        spike_positions_trial, x_bin_edges, y_bin_edges)\n",
    "    \n",
    "    # Compute occupancy\n",
    "    tocc = compute_occupancy(trial_pos, trial_times, bins, trial_speed, minimum=min_occ,\n",
    "                             area_range=area_range, set_nan=True)\n",
    "\n",
    "    # Compute summary map of bin firing for one selected trial\n",
    "    bin_firing_trial[ind, :] = (compute_bin_firing(x_binl_trial, y_binl_trial, bins)).flatten()\n",
    "    bin_firing_trial_norm[ind, :] = bin_firing_trial[ind, :] / tocc.flatten()"
   ]
  },
  {
   "cell_type": "code",
   "execution_count": 41,
   "id": "b311dc25",
   "metadata": {
    "scrolled": true
   },
   "outputs": [],
   "source": [
    "# OLD\n",
    "# create bin labels\n",
    "bin_firing_trial=bin_firing_trial.flatten()\n",
    "bin_firing_trial_norm = bin_firing_trial_norm.flatten()\n",
    "\n",
    "bin_label = np.array(range(0, n_bins))\n",
    "bin_label = np.tile(bin_label, n_trials)"
   ]
  },
  {
   "cell_type": "code",
   "execution_count": 42,
   "id": "b1bb3b05",
   "metadata": {},
   "outputs": [],
   "source": [
    "# OLD\n",
    "# create dataframe for ANOVA\n",
    "merged_array = np.transpose(np.vstack([bin_label, bin_firing_trial_norm]))\n",
    "df = pd.DataFrame(merged_array, columns=['bin', 'fr'] )\n",
    "df = df.dropna()"
   ]
  },
  {
   "cell_type": "code",
   "execution_count": 43,
   "id": "bfaadca0",
   "metadata": {},
   "outputs": [
    {
     "data": {
      "text/html": [
       "<div>\n",
       "<style scoped>\n",
       "    .dataframe tbody tr th:only-of-type {\n",
       "        vertical-align: middle;\n",
       "    }\n",
       "\n",
       "    .dataframe tbody tr th {\n",
       "        vertical-align: top;\n",
       "    }\n",
       "\n",
       "    .dataframe thead th {\n",
       "        text-align: right;\n",
       "    }\n",
       "</style>\n",
       "<table border=\"1\" class=\"dataframe\">\n",
       "  <thead>\n",
       "    <tr style=\"text-align: right;\">\n",
       "      <th></th>\n",
       "      <th>bin</th>\n",
       "      <th>fr</th>\n",
       "    </tr>\n",
       "  </thead>\n",
       "  <tbody>\n",
       "    <tr>\n",
       "      <th>17</th>\n",
       "      <td>17.0</td>\n",
       "      <td>1.920604</td>\n",
       "    </tr>\n",
       "    <tr>\n",
       "      <th>28</th>\n",
       "      <td>28.0</td>\n",
       "      <td>10.266315</td>\n",
       "    </tr>\n",
       "    <tr>\n",
       "      <th>36</th>\n",
       "      <td>36.0</td>\n",
       "      <td>2.122487</td>\n",
       "    </tr>\n",
       "    <tr>\n",
       "      <th>43</th>\n",
       "      <td>43.0</td>\n",
       "      <td>1.389203</td>\n",
       "    </tr>\n",
       "    <tr>\n",
       "      <th>85</th>\n",
       "      <td>25.0</td>\n",
       "      <td>3.292163</td>\n",
       "    </tr>\n",
       "    <tr>\n",
       "      <th>87</th>\n",
       "      <td>27.0</td>\n",
       "      <td>1.036264</td>\n",
       "    </tr>\n",
       "    <tr>\n",
       "      <th>88</th>\n",
       "      <td>28.0</td>\n",
       "      <td>7.833643</td>\n",
       "    </tr>\n",
       "    <tr>\n",
       "      <th>107</th>\n",
       "      <td>47.0</td>\n",
       "      <td>2.511498</td>\n",
       "    </tr>\n",
       "    <tr>\n",
       "      <th>134</th>\n",
       "      <td>14.0</td>\n",
       "      <td>3.000984</td>\n",
       "    </tr>\n",
       "    <tr>\n",
       "      <th>136</th>\n",
       "      <td>16.0</td>\n",
       "      <td>3.303947</td>\n",
       "    </tr>\n",
       "  </tbody>\n",
       "</table>\n",
       "</div>"
      ],
      "text/plain": [
       "      bin         fr\n",
       "17   17.0   1.920604\n",
       "28   28.0  10.266315\n",
       "36   36.0   2.122487\n",
       "43   43.0   1.389203\n",
       "85   25.0   3.292163\n",
       "87   27.0   1.036264\n",
       "88   28.0   7.833643\n",
       "107  47.0   2.511498\n",
       "134  14.0   3.000984\n",
       "136  16.0   3.303947"
      ]
     },
     "execution_count": 43,
     "metadata": {},
     "output_type": "execute_result"
    }
   ],
   "source": [
    "df.head(10)"
   ]
  },
  {
   "cell_type": "code",
   "execution_count": 44,
   "id": "718951db",
   "metadata": {
    "scrolled": true
   },
   "outputs": [
    {
     "data": {
      "text/plain": [
       "2.4564650097039515"
      ]
     },
     "execution_count": 44,
     "metadata": {},
     "output_type": "execute_result"
    }
   ],
   "source": [
    "# OLD:\n",
    "# build the ANOVA model\n",
    "model = smf.ols('fr ~ C(bin)', data=df).fit()\n",
    "aov_table = anova_lm(model, typ=2)\n",
    "#print(aov_table)\n",
    "#model.summary()\n",
    "\n",
    "# get the f-value from ANOVA model\n",
    "f_val = aov_table['F']['C(bin)']\n",
    "f_val"
   ]
  },
  {
   "cell_type": "code",
   "execution_count": null,
   "id": "3ab8ed76",
   "metadata": {},
   "outputs": [],
   "source": []
  },
  {
   "cell_type": "code",
   "execution_count": 45,
   "id": "268a8867",
   "metadata": {},
   "outputs": [],
   "source": [
    "# Collect settings for occupancy\n",
    "occ_kwargs = {'minimum' : min_occ, 'area_range' : area_range, 'set_nan' : True}"
   ]
  },
  {
   "cell_type": "code",
   "execution_count": 46,
   "id": "05b9f4dd",
   "metadata": {},
   "outputs": [],
   "source": [
    "# Collect place firing, organized per trial\n",
    "place_trial = get_trial_place(spikes, nwbfile.trials, bins, ptimes, positions,\n",
    "                              speed, x_bin_edges, y_bin_edges, occ_kwargs)"
   ]
  },
  {
   "cell_type": "code",
   "execution_count": 47,
   "id": "1b5f7e9f",
   "metadata": {},
   "outputs": [],
   "source": [
    "# Create the dataframe\n",
    "df = create_df_place(place_trial, drop_na=True)"
   ]
  },
  {
   "cell_type": "code",
   "execution_count": 48,
   "id": "16ba1f2d",
   "metadata": {},
   "outputs": [
    {
     "data": {
      "text/html": [
       "<div>\n",
       "<style scoped>\n",
       "    .dataframe tbody tr th:only-of-type {\n",
       "        vertical-align: middle;\n",
       "    }\n",
       "\n",
       "    .dataframe tbody tr th {\n",
       "        vertical-align: top;\n",
       "    }\n",
       "\n",
       "    .dataframe thead th {\n",
       "        text-align: right;\n",
       "    }\n",
       "</style>\n",
       "<table border=\"1\" class=\"dataframe\">\n",
       "  <thead>\n",
       "    <tr style=\"text-align: right;\">\n",
       "      <th></th>\n",
       "      <th>bin</th>\n",
       "      <th>fr</th>\n",
       "    </tr>\n",
       "  </thead>\n",
       "  <tbody>\n",
       "    <tr>\n",
       "      <th>17</th>\n",
       "      <td>17.0</td>\n",
       "      <td>1.920604</td>\n",
       "    </tr>\n",
       "    <tr>\n",
       "      <th>28</th>\n",
       "      <td>28.0</td>\n",
       "      <td>10.266315</td>\n",
       "    </tr>\n",
       "    <tr>\n",
       "      <th>36</th>\n",
       "      <td>36.0</td>\n",
       "      <td>2.122487</td>\n",
       "    </tr>\n",
       "    <tr>\n",
       "      <th>43</th>\n",
       "      <td>43.0</td>\n",
       "      <td>1.389203</td>\n",
       "    </tr>\n",
       "    <tr>\n",
       "      <th>85</th>\n",
       "      <td>25.0</td>\n",
       "      <td>3.292163</td>\n",
       "    </tr>\n",
       "    <tr>\n",
       "      <th>87</th>\n",
       "      <td>27.0</td>\n",
       "      <td>1.036264</td>\n",
       "    </tr>\n",
       "    <tr>\n",
       "      <th>88</th>\n",
       "      <td>28.0</td>\n",
       "      <td>7.833643</td>\n",
       "    </tr>\n",
       "    <tr>\n",
       "      <th>107</th>\n",
       "      <td>47.0</td>\n",
       "      <td>2.511498</td>\n",
       "    </tr>\n",
       "    <tr>\n",
       "      <th>134</th>\n",
       "      <td>14.0</td>\n",
       "      <td>3.000984</td>\n",
       "    </tr>\n",
       "    <tr>\n",
       "      <th>136</th>\n",
       "      <td>16.0</td>\n",
       "      <td>3.303947</td>\n",
       "    </tr>\n",
       "  </tbody>\n",
       "</table>\n",
       "</div>"
      ],
      "text/plain": [
       "      bin         fr\n",
       "17   17.0   1.920604\n",
       "28   28.0  10.266315\n",
       "36   36.0   2.122487\n",
       "43   43.0   1.389203\n",
       "85   25.0   3.292163\n",
       "87   27.0   1.036264\n",
       "88   28.0   7.833643\n",
       "107  47.0   2.511498\n",
       "134  14.0   3.000984\n",
       "136  16.0   3.303947"
      ]
     },
     "execution_count": 48,
     "metadata": {},
     "output_type": "execute_result"
    }
   ],
   "source": [
    "df.head(10)"
   ]
  },
  {
   "cell_type": "code",
   "execution_count": 49,
   "id": "20d4e36d",
   "metadata": {},
   "outputs": [
    {
     "data": {
      "text/plain": [
       "2.4564650097039515"
      ]
     },
     "execution_count": 49,
     "metadata": {},
     "output_type": "execute_result"
    }
   ],
   "source": [
    "# Fit the ANOVA, and get the f-value\n",
    "f_val = fit_anova_place(df)\n",
    "f_val"
   ]
  },
  {
   "cell_type": "markdown",
   "id": "966391ff",
   "metadata": {},
   "source": [
    "# ANOVA Surrogate"
   ]
  },
  {
   "cell_type": "markdown",
   "id": "f6fa15cd",
   "metadata": {},
   "source": [
    "### fr ~ C(bin), 100 surrogates"
   ]
  },
  {
   "cell_type": "code",
   "execution_count": 50,
   "id": "4f288344",
   "metadata": {},
   "outputs": [],
   "source": [
    "# Create shuffles\n",
    "times_shuffle = shuffle_spikes(spikes, shuffle_approach, n_surrogates, **shuffle_kwargs)"
   ]
  },
  {
   "cell_type": "code",
   "execution_count": 51,
   "id": "28844da1",
   "metadata": {},
   "outputs": [],
   "source": [
    "# OLD\n",
    "# get firing rate per bin, per trial, for shuffled data\n",
    "surrogates = []\n",
    "for i, j in enumerate(times_shuffle):\n",
    "    \n",
    "    bin_firing_trial = np.zeros([n_trials, n_bins])\n",
    "    bin_firing_trial_norm = np.zeros([n_trials, n_bins])\n",
    "    \n",
    "    for ind in range(n_trials):\n",
    "    \n",
    "        nav_starts_trial = nwbfile.trials.navigation_start[ind]\n",
    "        nav_stops_trial = nwbfile.trials.navigation_stop[ind]\n",
    "\n",
    "        # Get data for selected trial: trial positions, spikes, and spike positions\n",
    "        trial_times, trial_pos = get_value_by_time_range(ptimes, positions,\n",
    "                                                         nav_starts_trial, nav_stops_trial)\n",
    "        trial_spikes = restrict_range(times_shuffle[i], nav_starts_trial, nav_stops_trial)\n",
    "        trial_speed = restrict_range(speed, nav_starts_trial, nav_stops_trial)\n",
    "        trial_spike_pos_x, trial_spike_pos_y = get_spike_positions(trial_spikes, trial_times, trial_pos)\n",
    "        spike_positions_trial = np.array([trial_spike_pos_x, trial_spike_pos_y])\n",
    "\n",
    "        # Compute spatial bin assignments for each spike\n",
    "        x_binl_trial, y_binl_trial = compute_spatial_bin_assignment(spike_positions_trial, x_bin_edges, y_bin_edges)\n",
    "\n",
    "        # Compute occupancy\n",
    "        tocc = compute_occupancy(trial_pos, trial_times, bins, trial_speed, minimum=min_occ,\n",
    "                                 area_range=area_range, set_nan=True)\n",
    "\n",
    "        # Compute summary map of bin firing for one selected trial\n",
    "        bin_firing_trial[ind,:] = (compute_bin_firing(x_binl_trial, y_binl_trial, bins)).flatten()\n",
    "        bin_firing_trial_norm[ind,:] = bin_firing_trial[ind,:] / tocc.flatten()\n",
    "\n",
    "    bin_firing_trial=bin_firing_trial.flatten()\n",
    "\n",
    "    bin_firing_trial_norm = bin_firing_trial_norm.flatten()\n",
    "    bin_label = np.array(range(0, n_bins))\n",
    "    bin_label = np.tile(bin_label,n_trials)\n",
    "\n",
    "    merged_array = np.transpose(np.vstack([bin_label,bin_firing_trial_norm]))\n",
    "    df = pd.DataFrame(merged_array,columns=['bin', 'fr'] )\n",
    "    df = df.dropna()\n",
    "\n",
    "    model = smf.ols('fr ~ C(bin)', data=df).fit()\n",
    "    aov_table = anova_lm(model, typ=2)\n",
    "    f_val_surrs = aov_table['F']['C(bin)']\n",
    "\n",
    "    surrogates.append(f_val_surrs)"
   ]
  },
  {
   "cell_type": "code",
   "execution_count": 52,
   "id": "9615810b",
   "metadata": {},
   "outputs": [
    {
     "name": "stdout",
     "output_type": "stream",
     "text": [
      "p-value: 0.54\n",
      "z-score: -0.25\n"
     ]
    },
    {
     "data": {
      "image/png": "[encoded data removed]",
      "text/plain": [
       "<Figure size 432x288 with 1 Axes>"
      ]
     },
     "metadata": {
      "needs_background": "light"
     },
     "output_type": "display_data"
    }
   ],
   "source": [
    "# OLD:\n",
    "# Compute the empirical p-value based on surrogates\n",
    "surr_p_val = compute_empirical_pvalue(f_val, surrogates)\n",
    "\n",
    "# Compute z-score of the real F-value compared to surrogates\n",
    "z_score = zscore_to_surrogates(f_val, surrogates)\n",
    "\n",
    "# Print out the compute p-value and z-scored information\n",
    "print('p-value: {:4.2f}'.format(surr_p_val))\n",
    "print('z-score: {:4.2f}'.format(z_score))\n",
    "\n",
    "# Plot the distribution of surrogates, comparing to real F-value\n",
    "plot_surrogates(surrogates, f_val, surr_p_val)"
   ]
  },
  {
   "cell_type": "code",
   "execution_count": null,
   "id": "c2d49d85",
   "metadata": {},
   "outputs": [],
   "source": []
  },
  {
   "cell_type": "code",
   "execution_count": 53,
   "id": "358b3fbc",
   "metadata": {},
   "outputs": [],
   "source": [
    "# NEW"
   ]
  },
  {
   "cell_type": "code",
   "execution_count": 54,
   "id": "f8e0a328",
   "metadata": {},
   "outputs": [],
   "source": [
    "# Compute measures on surrogates\n",
    "surrogates = np.zeros(n_surrogates)\n",
    "for ind, shuffle in enumerate(times_shuffle):\n",
    "    \n",
    "    place_trial = get_trial_place(shuffle, nwbfile.trials, bins, ptimes, positions,\n",
    "                                 speed, x_bin_edges, y_bin_edges, occ_kwargs)\n",
    "    df = create_df_place(place_trial)\n",
    "    surrogates[ind] = fit_anova_place(df)"
   ]
  },
  {
   "cell_type": "code",
   "execution_count": 55,
   "id": "138f8de2",
   "metadata": {},
   "outputs": [
    {
     "name": "stdout",
     "output_type": "stream",
     "text": [
      "p-value: 0.54\n",
      "z-score: -0.25\n"
     ]
    },
    {
     "data": {
      "image/png": "[encoded data removed]",
      "text/plain": [
       "<Figure size 432x288 with 1 Axes>"
      ]
     },
     "metadata": {
      "needs_background": "light"
     },
     "output_type": "display_data"
    }
   ],
   "source": [
    "# Compute statistics on the surrogates\n",
    "p_val, z_score = compute_surrogate_stats(f_val, surrogates)"
   ]
  },
  {
   "cell_type": "markdown",
   "id": "5e49b09c",
   "metadata": {},
   "source": [
    "## All Cells"
   ]
  },
  {
   "cell_type": "code",
   "execution_count": 64,
   "id": "166ed551",
   "metadata": {},
   "outputs": [],
   "source": [
    "n_surrogates = 10\n",
    "set_random_seed(101)"
   ]
  },
  {
   "cell_type": "code",
   "execution_count": 65,
   "id": "9be03c56",
   "metadata": {
    "scrolled": false
   },
   "outputs": [
    {
     "data": {
      "image/png": "[encoded data removed]",
      "text/plain": [
       "<Figure size 1296x288 with 5 Axes>"
      ]
     },
     "metadata": {
      "needs_background": "light"
     },
     "output_type": "display_data"
    }
   ],
   "source": [
    "# OLD:\n",
    "# Examine spatial firing across all cells\n",
    "for ii, ax in zip(keep_inds[0:5], make_axes(5)):\n",
    "    \n",
    "    spikes = nwbfile.units.get_unit_spike_times(ii)\n",
    "    times_shuffle = shuffle_spikes(spikes, shuffle_approach, n_surrogates, shuffle_min=20000)\n",
    "    #times_shuffle = shuffle_spikes(spikes, shuffle_approach, n_surrogates)\n",
    "    \n",
    "    surrogates = []\n",
    "    for i, j in enumerate (times_shuffle):\n",
    "        bin_firing_trial = np.zeros([n_trials, n_bins])\n",
    "        bin_firing_trial_norm = np.zeros([n_trials, n_bins])\n",
    "        for ind in range(n_trials):\n",
    "            nav_starts_trial = nwbfile.trials.navigation_start[ind]\n",
    "            nav_stops_trial = nwbfile.trials.navigation_stop[ind]\n",
    "\n",
    "            # Get data for selected trial: trial positions, spikes, and spike positions\n",
    "            trial_times, trial_pos = get_value_by_time_range(ptimes, positions,\n",
    "                                                             nav_starts_trial, nav_stops_trial)\n",
    "            trial_spikes = restrict_range(times_shuffle[i], nav_starts_trial, nav_stops_trial)\n",
    "            trial_speed = restrict_range(speed, nav_starts_trial, nav_stops_trial)\n",
    "            trial_spike_pos_x, trial_spike_pos_y = get_spike_positions(trial_spikes, trial_times, trial_pos)\n",
    "            spike_positions_trial = np.array([trial_spike_pos_x, trial_spike_pos_y])\n",
    "\n",
    "            # Compute spatial bin assignments for each spike\n",
    "            x_binl_trial, y_binl_trial = compute_spatial_bin_assignment(spike_positions_trial, x_bin_edges, y_bin_edges)\n",
    "\n",
    "            # Compute occupancy\n",
    "            tocc = compute_occupancy(trial_pos, trial_times, bins, trial_speed, minimum=min_occ,\n",
    "                                     area_range=area_range, set_nan=True)\n",
    "\n",
    "            # Compute summary map of bin firing for one selected trial\n",
    "            bin_firing_trial[ind,:] = (compute_bin_firing(x_binl_trial, y_binl_trial, bins)).flatten()\n",
    "            bin_firing_trial_norm[ind,:] = bin_firing_trial[ind,:] / tocc.flatten()\n",
    "            \n",
    "        bin_firing_trial=bin_firing_trial.flatten()\n",
    "        bin_firing_trial_norm_1d = bin_firing_trial_norm.flatten()\n",
    "        \n",
    "        bin_label = np.array(range(0, n_bins))\n",
    "        bin_label = np.tile(bin_label, n_trials)\n",
    "\n",
    "        merged_array = np.transpose(np.vstack([bin_label, bin_firing_trial_norm_1d]))\n",
    "        df = pd.DataFrame(merged_array,columns=['bin', 'fr'] )\n",
    "        df = df.dropna()\n",
    "\n",
    "        model = smf.ols('fr ~ C(bin)', data=df).fit()\n",
    "        aov_table = anova_lm(model)\n",
    "        f_val_surrs = aov_table['F']['C(bin)']\n",
    "\n",
    "        surrogates.append(f_val_surrs)\n",
    "        \n",
    "    # Compute the empirical p-value based on surrogates\n",
    "    surr_p_val = compute_empirical_pvalue(f_val, surrogates)\n",
    "\n",
    "    # Compute z-score of the real F-value compared to surrogates\n",
    "    z_score = zscore_to_surrogates(f_val, surrogates)\n",
    "\n",
    "    # Plot the distribution of surrogates, comparing to real F-value\n",
    "    plot_surrogates(surrogates, f_val, surr_p_val, ax=ax)\n",
    "    \n",
    "    color = 'red' if surr_p_val < 0.05 else 'black'\n",
    "    title = 'U{} \\n z-{:1.2f}, p-{:1.2f}'.format(ii, z_score, surr_p_val)\n",
    "    ax.set_title(title, fontdict={'fontsize' : 12}, color=color)"
   ]
  },
  {
   "cell_type": "code",
   "execution_count": null,
   "id": "a622899d",
   "metadata": {},
   "outputs": [],
   "source": []
  },
  {
   "cell_type": "code",
   "execution_count": 61,
   "id": "fd82dddc",
   "metadata": {},
   "outputs": [],
   "source": [
    "n_surrogates = 10\n",
    "set_random_seed(101)"
   ]
  },
  {
   "cell_type": "code",
   "execution_count": 62,
   "id": "e0a476fb",
   "metadata": {
    "scrolled": false
   },
   "outputs": [
    {
     "data": {
      "image/png": "[encoded data removed]",
      "text/plain": [
       "<Figure size 1296x288 with 5 Axes>"
      ]
     },
     "metadata": {
      "needs_background": "light"
     },
     "output_type": "display_data"
    }
   ],
   "source": [
    "# Examine spatial firing across all cells\n",
    "for ii, ax in zip(keep_inds[0:5], make_axes(5)):\n",
    "    \n",
    "    spikes = nwbfile.units.get_unit_spike_times(ii)\n",
    "    times_shuffle = shuffle_spikes(spikes, shuffle_approach, n_surrogates, **shuffle_kwargs)\n",
    "    \n",
    "    surrogates = np.zeros(n_surrogates)\n",
    "    for ind, shuffle in enumerate(times_shuffle):\n",
    "        place_trial = get_trial_place(shuffle, nwbfile.trials, bins, ptimes, positions,\n",
    "                                      speed, x_bin_edges, y_bin_edges, occ_kwargs)\n",
    "        df = create_df_place(place_trial)\n",
    "        surrogates[ind] = fit_anova_place(df)\n",
    "        \n",
    "    p_val, z_score = compute_surrogate_stats(f_val, surrogates, plot=True, verbose=False, ax=ax)\n",
    "\n",
    "    bin_firing = compute_place_bins(spikes, bins, ptimes, positions, speed,\n",
    "                                    x_bin_edges, y_bin_edges, **occ_kwargs)\n",
    "    minb, maxb = np.nanmin(bin_firing), np.nanmax(bin_firing)\n",
    "    #plot_heatmap(bin_firing, transpose=True, ax=ax)\n",
    "    ax.set_title('U{} - ({:1.2f}-{:1.2f}) \\n z-{:1.2f}, p-{:1.2f}'.format(ii, minb, maxb, z_score, p_val),\n",
    "                 fontdict={'fontsize' : 12}, color=color_pval(p_val))"
   ]
  },
  {
   "cell_type": "code",
   "execution_count": null,
   "id": "28f76dc9",
   "metadata": {},
   "outputs": [],
   "source": []
  }
 ],
 "metadata": {
  "kernelspec": {
   "display_name": "Python 3 (ipykernel)",
   "language": "python",
   "name": "python3"
  },
  "language_info": {
   "codemirror_mode": {
    "name": "ipython",
    "version": 3
   },
   "file_extension": ".py",
   "mimetype": "text/x-python",
   "name": "python",
   "nbconvert_exporter": "python",
   "pygments_lexer": "ipython3",
   "version": "3.8.11"
  }
 },
 "nbformat": 4,
 "nbformat_minor": 5
}
