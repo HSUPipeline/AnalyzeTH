{
 "cells": [
  {
   "cell_type": "markdown",
   "id": "short-kentucky",
   "metadata": {},
   "source": [
    "# Place Cell Analyses\n",
    "\n",
    "Analyze TH data for place cells.\n",
    "\n",
    "Notes:\n",
    "- ToCheck: firing bins with zero firing"
   ]
  },
  {
   "cell_type": "code",
   "execution_count": 1,
   "id": "based-lobby",
   "metadata": {},
   "outputs": [],
   "source": [
    "%config Completer.use_jedi = False"
   ]
  },
  {
   "cell_type": "code",
   "execution_count": 2,
   "id": "democratic-twelve",
   "metadata": {},
   "outputs": [],
   "source": [
    "import numpy as np\n",
    "\n",
    "from convnwb.io import load_nwbfile\n",
    "\n",
    "from spiketools.measures.collections import detect_empty_time_ranges\n",
    "from spiketools.spatial.occupancy import (compute_occupancy, compute_bin_edges, compute_bin_assignment,\n",
    "                                          compute_bin_counts_pos, normalize_bin_counts)\n",
    "from spiketools.spatial.utils import compute_pos_ranges, compute_bin_width\n",
    "from spiketools.spatial.information import compute_spatial_information\n",
    "from spiketools.spatial.place import compute_place_bins, compute_trial_place_bins\n",
    "from spiketools.stats.shuffle import shuffle_spikes\n",
    "from spiketools.stats.permutations import compute_surrogate_stats\n",
    "from spiketools.plts.spatial import plot_positions, plot_heatmap, create_heat_title\n",
    "from spiketools.plts.utils import make_axes\n",
    "from spiketools.plts.annotate import color_pvalue\n",
    "from spiketools.utils import set_random_seed\n",
    "from spiketools.utils.trials import recombine_trial_data\n",
    "from spiketools.utils.extract import get_range, get_values_by_time_range, get_values_by_times"
   ]
  },
  {
   "cell_type": "code",
   "execution_count": 3,
   "id": "final-justice",
   "metadata": {},
   "outputs": [],
   "source": [
    "import seaborn as sns\n",
    "sns.set_context('talk')"
   ]
  },
  {
   "cell_type": "code",
   "execution_count": 4,
   "id": "8c5c1e74",
   "metadata": {},
   "outputs": [],
   "source": [
    "import sys\n",
    "sys.path.append('../code')\n",
    "from utils import select_navigation\n",
    "from models import create_df_place, fit_anova_place"
   ]
  },
  {
   "cell_type": "markdown",
   "id": "exclusive-quest",
   "metadata": {},
   "source": [
    "## Settings"
   ]
  },
  {
   "cell_type": "code",
   "execution_count": 5,
   "id": "d13ceab9",
   "metadata": {},
   "outputs": [],
   "source": [
    "# Set random seed, for consistency shuffling\n",
    "set_random_seed(101)"
   ]
  },
  {
   "cell_type": "code",
   "execution_count": 6,
   "id": "98d6504b",
   "metadata": {},
   "outputs": [],
   "source": [
    "# Define the base data folder\n",
    "#data_folder = '/Users/tom/Data/JacobsLab/WVTH/nwb'\n",
    "data_folder = '/data12/jacobs_lab/WVTH/nwb'"
   ]
  },
  {
   "cell_type": "code",
   "execution_count": 7,
   "id": "d05eb3ec",
   "metadata": {},
   "outputs": [],
   "source": [
    "# Define session information\n",
    "session = {\n",
    "    'experiment' : 'THF',\n",
    "    'subject' : 'wv001',\n",
    "    'session' : 0  \n",
    "}"
   ]
  },
  {
   "cell_type": "code",
   "execution_count": 8,
   "id": "f0959f50-daaa-4a13-9652-e8d4e474fdc6",
   "metadata": {},
   "outputs": [],
   "source": [
    "# Define bins to use\n",
    "#bins = [7, 21]\n",
    "#bins = [9, 12]\n",
    "#bins = [6, 10]\n",
    "bins = [5, 7]"
   ]
  },
  {
   "cell_type": "code",
   "execution_count": 9,
   "id": "baking-tattoo",
   "metadata": {},
   "outputs": [],
   "source": [
    "# Define occupancy settings: minimum required occupancy (in seconds) & speed threshold\n",
    "min_occ = 1\n",
    "occ_setnan = True\n",
    "speed_thresh = 5e-6\n",
    "time_thresh = 0.25\n",
    "\n",
    "# Collect settings for occupancy\n",
    "occ_kwargs = {'minimum' : min_occ,\n",
    "              'set_nan' : occ_setnan}"
   ]
  },
  {
   "cell_type": "code",
   "execution_count": 10,
   "id": "28b91e38",
   "metadata": {},
   "outputs": [],
   "source": [
    "# Shuffle Settings\n",
    "shuffle_approach = 'CIRCULAR'\n",
    "# shuffle_approach = 'BINCIRC'\n",
    "n_surrogates = 25\n",
    "\n",
    "if shuffle_approach == 'CIRCULAR':\n",
    "    shuffle_kwargs = {}\n",
    "if shuffle_approach == 'BINCIRC':\n",
    "    shuffle_kwargs = {'shuffle_min' : 20000}"
   ]
  },
  {
   "cell_type": "code",
   "execution_count": 11,
   "id": "6e0bcdc2-a0cb-4caf-96f9-76e9639b0b7a",
   "metadata": {},
   "outputs": [],
   "source": [
    "# Define any quality measures\n",
    "empty_time_bin = 0.25"
   ]
  },
  {
   "cell_type": "code",
   "execution_count": 12,
   "id": "096f2f36",
   "metadata": {},
   "outputs": [],
   "source": [
    "# Set example unit to analyze\n",
    "uind = 0"
   ]
  },
  {
   "cell_type": "code",
   "execution_count": 13,
   "id": "8212946f",
   "metadata": {},
   "outputs": [],
   "source": [
    "# Set which analysis method to run\n",
    "METHOD = 'ANOVA'"
   ]
  },
  {
   "cell_type": "markdown",
   "id": "magnetic-partition",
   "metadata": {},
   "source": [
    "## Load Data"
   ]
  },
  {
   "cell_type": "code",
   "execution_count": 14,
   "id": "956610cc",
   "metadata": {},
   "outputs": [],
   "source": [
    "# Load NWB file\n",
    "nwbfile = load_nwbfile(session, data_folder)"
   ]
  },
  {
   "cell_type": "markdown",
   "id": "ccb33277",
   "metadata": {},
   "source": [
    "#### Extract Time Definitions"
   ]
  },
  {
   "cell_type": "code",
   "execution_count": 15,
   "id": "bd947520-a926-4511-ad37-2f8350531694",
   "metadata": {},
   "outputs": [],
   "source": [
    "# Get task time range\n",
    "task_range = [0, nwbfile.trials.stop_time[-1]]"
   ]
  },
  {
   "cell_type": "code",
   "execution_count": 16,
   "id": "f8513242",
   "metadata": {},
   "outputs": [],
   "source": [
    "# Get the navigation time ranges\n",
    "nav_starts = nwbfile.trials.navigation_start[:]\n",
    "nav_stops = nwbfile.trials.navigation_stop[:]"
   ]
  },
  {
   "cell_type": "markdown",
   "id": "7b04283c",
   "metadata": {},
   "source": [
    "#### Extract Boundaries"
   ]
  },
  {
   "cell_type": "code",
   "execution_count": 17,
   "id": "76f72546",
   "metadata": {},
   "outputs": [],
   "source": [
    "# Get boundary ranges\n",
    "x_boundary = nwbfile.acquisition['boundaries']['x_range'].data[:]\n",
    "z_boundary = nwbfile.acquisition['boundaries']['z_range'].data[:]\n",
    "\n",
    "# Add a buffer to the z-range (for tower transport)\n",
    "z_boundary = z_boundary + np.array([-15, 15])"
   ]
  },
  {
   "cell_type": "code",
   "execution_count": 18,
   "id": "9ab2f894",
   "metadata": {},
   "outputs": [
    {
     "name": "stdout",
     "output_type": "stream",
     "text": [
      "X boundary range:  [349.8549 419.8549]\n",
      "Z boundary range:  [293.     424.3358]\n"
     ]
    }
   ],
   "source": [
    "# Collect together boundary ranges\n",
    "area_range = [x_boundary, z_boundary]\n",
    "print('X boundary range: ', x_boundary)\n",
    "print('Z boundary range: ', z_boundary)"
   ]
  },
  {
   "cell_type": "markdown",
   "id": "fb2e5ffb",
   "metadata": {},
   "source": [
    "#### Extract Position Data\n",
    "\n",
    "Also, select position traces from navigation periods"
   ]
  },
  {
   "cell_type": "code",
   "execution_count": 19,
   "id": "9b63199d",
   "metadata": {},
   "outputs": [],
   "source": [
    "# Get position data, selecting from navigation periods, and recombine across trials\n",
    "ptimes_trials, positions_trials = select_navigation(\\\n",
    "    nwbfile.acquisition['position']['player_position'], nav_starts, nav_stops, False)\n",
    "ptimes, positions = recombine_trial_data(ptimes_trials, positions_trials)"
   ]
  },
  {
   "cell_type": "code",
   "execution_count": 20,
   "id": "82669c4b",
   "metadata": {},
   "outputs": [],
   "source": [
    "# Get speed data, selecting from navigation periods, and recombining across trials\n",
    "stimes, speed = select_navigation(nwbfile.processing['position_measures']['speed'], nav_starts, nav_stops)"
   ]
  },
  {
   "cell_type": "markdown",
   "id": "37009c79",
   "metadata": {},
   "source": [
    "#### Extract Spike Data"
   ]
  },
  {
   "cell_type": "code",
   "execution_count": 21,
   "id": "7dc4bd31",
   "metadata": {},
   "outputs": [
    {
     "name": "stdout",
     "output_type": "stream",
     "text": [
      "Number of units: 100\n",
      "Number to keep:  74\n"
     ]
    }
   ],
   "source": [
    "# Check the number of units & keep indices\n",
    "n_units = len(nwbfile.units)\n",
    "keep_inds = np.where(nwbfile.units.keep[:])[0]\n",
    "n_keep = len(keep_inds)\n",
    "print('Number of units: {}'.format(n_units))\n",
    "print('Number to keep:  {}'.format(n_keep))"
   ]
  },
  {
   "cell_type": "code",
   "execution_count": 22,
   "id": "5a89c3ef-9440-4fff-94e7-a872351d004f",
   "metadata": {},
   "outputs": [
    {
     "name": "stderr",
     "output_type": "stream",
     "text": [
      "/home1/tom.donoghue/.conda/envs/thproj/lib/python3.8/site-packages/spiketools/utils/checks.py:232: UserWarning: The data values extend beyond the given bin definition.\n",
      "  warnings.warn(msg)\n"
     ]
    }
   ],
   "source": [
    "# Detect any empty ranges in the recording, and add them to shuffle arguments\n",
    "empty_ranges = detect_empty_time_ranges(\\\n",
    "    [nwbfile.units.get_unit_spike_times(ii) for ii in keep_inds], empty_time_bin, task_range)\n",
    "shuffle_kwargs['drop_time_range'] = empty_ranges"
   ]
  },
  {
   "cell_type": "code",
   "execution_count": 23,
   "id": "neither-enemy",
   "metadata": {},
   "outputs": [],
   "source": [
    "# Extract spikes for a unit of interest\n",
    "spikes = nwbfile.units.get_unit_spike_times(uind)"
   ]
  },
  {
   "cell_type": "markdown",
   "id": "fc001ae5",
   "metadata": {},
   "source": [
    "## Position Data"
   ]
  },
  {
   "cell_type": "code",
   "execution_count": 24,
   "id": "42880bfd",
   "metadata": {},
   "outputs": [],
   "source": [
    "# Compute position ranges\n",
    "x_range, z_range = compute_pos_ranges(positions)"
   ]
  },
  {
   "cell_type": "code",
   "execution_count": 25,
   "id": "706329ea",
   "metadata": {},
   "outputs": [
    {
     "name": "stdout",
     "output_type": "stream",
     "text": [
      "Position X-range:  366.46 - 402.55 (36.08)\n",
      "Position Z-range:  302.65 - 412.85 (110.19)\n"
     ]
    }
   ],
   "source": [
    "# Check ranges of positon\n",
    "print('Position X-range:  {:1.2f} - {:1.2f} ({:1.2f})'.format(*x_range, x_range[1] - x_range[0]))\n",
    "print('Position Z-range:  {:1.2f} - {:1.2f} ({:1.2f})'.format(*z_range, z_range[1] - z_range[0]))"
   ]
  },
  {
   "cell_type": "code",
   "execution_count": 26,
   "id": "b8078ac5",
   "metadata": {},
   "outputs": [],
   "source": [
    "# Get position values for each spike\n",
    "spike_positions = get_values_by_times(ptimes, positions, spikes, threshold=0.1)"
   ]
  },
  {
   "cell_type": "code",
   "execution_count": 27,
   "id": "907ffe60",
   "metadata": {},
   "outputs": [],
   "source": [
    "# Check binning\n",
    "x_bin_edges, y_bin_edges = compute_bin_edges(positions, bins, area_range)"
   ]
  },
  {
   "cell_type": "code",
   "execution_count": 28,
   "id": "bb363cc4",
   "metadata": {},
   "outputs": [
    {
     "name": "stdout",
     "output_type": "stream",
     "text": [
      "Bin widths: 14.00, 18.76\n"
     ]
    }
   ],
   "source": [
    "# Check bin sizes\n",
    "print('Bin widths: {:1.2f}, {:1.2f}'.format(compute_bin_width(x_bin_edges), compute_bin_width(y_bin_edges)))"
   ]
  },
  {
   "cell_type": "markdown",
   "id": "22ab93c9",
   "metadata": {},
   "source": [
    "### Occupancy"
   ]
  },
  {
   "cell_type": "code",
   "execution_count": 29,
   "id": "662229cd",
   "metadata": {},
   "outputs": [],
   "source": [
    "# Compute occupancy\n",
    "occ = compute_occupancy(positions, ptimes, bins, area_range,\n",
    "                        speed, speed_thresh, time_thresh, **occ_kwargs)"
   ]
  },
  {
   "cell_type": "code",
   "execution_count": 30,
   "id": "8f174c51",
   "metadata": {},
   "outputs": [
    {
     "data": {
      "image/png": "[encoded data removed]",
      "text/plain": [
       "<Figure size 500x700 with 1 Axes>"
      ]
     },
     "metadata": {},
     "output_type": "display_data"
    }
   ],
   "source": [
    "# Plot occupancy\n",
    "plot_heatmap(occ, figsize=(5, 7), title=create_heat_title('Occupancy', occ))"
   ]
  },
  {
   "cell_type": "markdown",
   "id": "67315be9",
   "metadata": {},
   "source": [
    "## Check spike locations"
   ]
  },
  {
   "cell_type": "code",
   "execution_count": 31,
   "id": "078256e6",
   "metadata": {},
   "outputs": [
    {
     "data": {
      "image/png": "[encoded data removed]",
      "text/plain": [
       "<Figure size 500x700 with 1 Axes>"
      ]
     },
     "metadata": {},
     "output_type": "display_data"
    }
   ],
   "source": [
    "# Plot the map across all position traces (plotted per trial)\n",
    "plot_positions(positions_trials, spike_positions,\n",
    "               x_bins=x_bin_edges, y_bins=y_bin_edges,\n",
    "               xlim=list(x_boundary), ylim=list(z_boundary),\n",
    "               figsize=(5, 7))"
   ]
  },
  {
   "cell_type": "markdown",
   "id": "0697a92c",
   "metadata": {},
   "source": [
    "## Compute Binned Spatial Firing"
   ]
  },
  {
   "cell_type": "code",
   "execution_count": 32,
   "id": "046afaa6",
   "metadata": {},
   "outputs": [],
   "source": [
    "# # Compute spatial bin assignments for each spike\n",
    "#x_binl, y_binl = compute_bin_assignment(spike_positions, x_bin_edges, y_bin_edges)"
   ]
  },
  {
   "cell_type": "code",
   "execution_count": 33,
   "id": "a26c522a",
   "metadata": {},
   "outputs": [],
   "source": [
    "# Compute summary map of bin firing\n",
    "bin_firing = compute_bin_counts_pos(spike_positions, bins, area_range)"
   ]
  },
  {
   "cell_type": "code",
   "execution_count": 34,
   "id": "285f9d34",
   "metadata": {},
   "outputs": [
    {
     "data": {
      "image/png": "[encoded data removed]",
      "text/plain": [
       "<Figure size 640x480 with 1 Axes>"
      ]
     },
     "metadata": {},
     "output_type": "display_data"
    }
   ],
   "source": [
    "# Check the firing map\n",
    "plot_heatmap(bin_firing, title=create_heat_title('Spike Counts', bin_firing))"
   ]
  },
  {
   "cell_type": "code",
   "execution_count": 35,
   "id": "7f8b7b54",
   "metadata": {},
   "outputs": [],
   "source": [
    "# Normalize bin firing by occupancy\n",
    "normed_bin_firing = normalize_bin_counts(bin_firing, occ)"
   ]
  },
  {
   "cell_type": "code",
   "execution_count": 36,
   "id": "0b7ba9b3",
   "metadata": {},
   "outputs": [
    {
     "data": {
      "image/png": "[encoded data removed]",
      "text/plain": [
       "<Figure size 640x480 with 1 Axes>"
      ]
     },
     "metadata": {},
     "output_type": "display_data"
    }
   ],
   "source": [
    "# Plot occupancy-normalized spatial firing\n",
    "plot_heatmap(normed_bin_firing, title=create_heat_title('Normed FR', normed_bin_firing))"
   ]
  },
  {
   "cell_type": "markdown",
   "id": "7094230d",
   "metadata": {},
   "source": [
    "## Individual trials"
   ]
  },
  {
   "cell_type": "code",
   "execution_count": 37,
   "id": "b87d7c35",
   "metadata": {},
   "outputs": [],
   "source": [
    "# Set a trial index to get data for\n",
    "t_ind = 5"
   ]
  },
  {
   "cell_type": "code",
   "execution_count": 38,
   "id": "ed9a3f4b",
   "metadata": {},
   "outputs": [
    {
     "name": "stdout",
     "output_type": "stream",
     "text": [
      "Number of trials: 14\n"
     ]
    }
   ],
   "source": [
    "# Get the number of trials\n",
    "n_trials = len(nwbfile.trials)\n",
    "assert t_ind < n_trials\n",
    "print('Number of trials: {}'.format(n_trials))"
   ]
  },
  {
   "cell_type": "code",
   "execution_count": 39,
   "id": "a52c8c30",
   "metadata": {},
   "outputs": [],
   "source": [
    "# Get the navigation time ranges\n",
    "t_st = nwbfile.trials.navigation_start[t_ind]\n",
    "t_en = nwbfile.trials.navigation_stop[t_ind]"
   ]
  },
  {
   "cell_type": "code",
   "execution_count": 40,
   "id": "7be7f0c9",
   "metadata": {},
   "outputs": [],
   "source": [
    "# Get data for selected trial: trial positions, spikes, and spike positions\n",
    "trial_times, trial_pos = get_values_by_time_range(ptimes, positions, t_st, t_en)\n",
    "trial_spikes = get_range(spikes, t_st, t_en)\n",
    "_, trial_speed = get_values_by_time_range(ptimes, speed, t_st, t_en)\n",
    "spike_positions_trial = get_values_by_times(trial_times, trial_pos, trial_spikes, threshold=0.25)"
   ]
  },
  {
   "cell_type": "code",
   "execution_count": 41,
   "id": "8714d2e5",
   "metadata": {},
   "outputs": [],
   "source": [
    "# Compute the trial level occupancy\n",
    "t_occ = compute_occupancy(trial_pos, trial_times, bins, area_range,\n",
    "                          trial_speed, speed_thresh, time_thresh, **occ_kwargs)"
   ]
  },
  {
   "cell_type": "code",
   "execution_count": 42,
   "id": "17ec9bc0",
   "metadata": {},
   "outputs": [],
   "source": [
    "# Compute the bin firing for the selected trial\n",
    "bin_firing_trial = compute_bin_counts_pos(spike_positions_trial, bins, area_range, occupancy=None)"
   ]
  },
  {
   "cell_type": "code",
   "execution_count": 43,
   "id": "fab92c42",
   "metadata": {},
   "outputs": [
    {
     "data": {
      "image/png": "[encoded data removed]",
      "text/plain": [
       "<Figure size 640x480 with 1 Axes>"
      ]
     },
     "metadata": {},
     "output_type": "display_data"
    }
   ],
   "source": [
    "# Plot firing heatmap of the example trial\n",
    "plot_heatmap(bin_firing_trial, title=create_heat_title('Trial Count', bin_firing_trial))"
   ]
  },
  {
   "cell_type": "markdown",
   "id": "aa783a63",
   "metadata": {},
   "source": [
    "## Statistical Analyses"
   ]
  },
  {
   "cell_type": "code",
   "execution_count": 44,
   "id": "edc59726",
   "metadata": {},
   "outputs": [],
   "source": [
    "# Create shuffled time series for comparison\n",
    "times_shuffle = shuffle_spikes(spikes, shuffle_approach, n_surrogates)"
   ]
  },
  {
   "cell_type": "markdown",
   "id": "a751ef6a",
   "metadata": {},
   "source": [
    "## Compute Spatial Information"
   ]
  },
  {
   "cell_type": "code",
   "execution_count": 45,
   "id": "ca0edfa0",
   "metadata": {},
   "outputs": [
    {
     "name": "stdout",
     "output_type": "stream",
     "text": [
      "0.26585693630322754\n"
     ]
    }
   ],
   "source": [
    "# Compute the spatial information\n",
    "spike_info = compute_spatial_information(normed_bin_firing, occ)\n",
    "print(spike_info)"
   ]
  },
  {
   "cell_type": "markdown",
   "id": "f1a05a0c",
   "metadata": {},
   "source": [
    "### Shuffle Comparisons"
   ]
  },
  {
   "cell_type": "code",
   "execution_count": 46,
   "id": "785b7ecd",
   "metadata": {},
   "outputs": [],
   "source": [
    "# Compute spatial information measures on surrogates\n",
    "surrs = np.zeros(n_surrogates)\n",
    "for ind, stimes in enumerate(times_shuffle):\n",
    "    bin_firing = compute_place_bins(stimes, positions, ptimes, bins, \n",
    "                                    area_range, speed, speed_thresh, time_thresh)\n",
    "    surrs[ind] = compute_spatial_information(bin_firing, occ, normalize=True)"
   ]
  },
  {
   "cell_type": "code",
   "execution_count": 47,
   "id": "ee75aa30",
   "metadata": {},
   "outputs": [
    {
     "name": "stdout",
     "output_type": "stream",
     "text": [
      "p-value: 0.96\n",
      "z-score: -1.61\n"
     ]
    }
   ],
   "source": [
    "# Compute statistics on the surrogates\n",
    "p_val, z_score = compute_surrogate_stats(spike_info, surrs, verbose=True)"
   ]
  },
  {
   "cell_type": "markdown",
   "id": "7c90c490",
   "metadata": {},
   "source": [
    "## Compute ANOVA"
   ]
  },
  {
   "cell_type": "code",
   "execution_count": 48,
   "id": "e191066e",
   "metadata": {},
   "outputs": [],
   "source": [
    "# Collect place firing, organized per trial\n",
    "place_trial = compute_trial_place_bins(spikes, positions, ptimes, bins, nav_starts, nav_stops,\n",
    "                                       area_range, speed, speed_thresh, time_thresh,\n",
    "                                       normalize=True,\n",
    "                                       flatten=True, **occ_kwargs)"
   ]
  },
  {
   "cell_type": "code",
   "execution_count": 49,
   "id": "7b55185e",
   "metadata": {},
   "outputs": [],
   "source": [
    "# Create the dataframe\n",
    "df = create_df_place(place_trial, dropna=True)"
   ]
  },
  {
   "cell_type": "code",
   "execution_count": 50,
   "id": "acb93e29",
   "metadata": {},
   "outputs": [
    {
     "data": {
      "text/plain": [
       "0.29656340664484565"
      ]
     },
     "execution_count": 50,
     "metadata": {},
     "output_type": "execute_result"
    }
   ],
   "source": [
    "# Fit the ANOVA, and get the f-value\n",
    "f_val = fit_anova_place(df)\n",
    "f_val"
   ]
  },
  {
   "cell_type": "markdown",
   "id": "31265806",
   "metadata": {},
   "source": [
    "### Shuffle Comparisons"
   ]
  },
  {
   "cell_type": "code",
   "execution_count": 51,
   "id": "a0277cfe",
   "metadata": {},
   "outputs": [],
   "source": [
    "# Create shuffles\n",
    "times_shuffle = shuffle_spikes(spikes, shuffle_approach, n_surrogates, **shuffle_kwargs)"
   ]
  },
  {
   "cell_type": "code",
   "execution_count": 52,
   "id": "7c98e76e",
   "metadata": {},
   "outputs": [
    {
     "ename": "NameError",
     "evalue": "name '_shuffle' is not defined",
     "output_type": "error",
     "traceback": [
      "\u001b[0;31m---------------------------------------------------------------------------\u001b[0m",
      "\u001b[0;31mNameError\u001b[0m                                 Traceback (most recent call last)",
      "\u001b[0;32m/tmp/3099946.1.jupyter.q/ipykernel_58830/3682072656.py\u001b[0m in \u001b[0;36m<module>\u001b[0;34m\u001b[0m\n\u001b[1;32m      6\u001b[0m         \u001b[0marea_range\u001b[0m\u001b[0;34m,\u001b[0m \u001b[0mspeed\u001b[0m\u001b[0;34m,\u001b[0m \u001b[0mspeed_thresh\u001b[0m\u001b[0;34m,\u001b[0m \u001b[0mtime_thresh\u001b[0m\u001b[0;34m,\u001b[0m\u001b[0;34m\u001b[0m\u001b[0;34m\u001b[0m\u001b[0m\n\u001b[1;32m      7\u001b[0m         flatten=True, **occ_kwargs)\n\u001b[0;32m----> 8\u001b[0;31m     \u001b[0msurrogates\u001b[0m\u001b[0;34m[\u001b[0m\u001b[0mind\u001b[0m\u001b[0;34m]\u001b[0m \u001b[0;34m=\u001b[0m \u001b[0mfit_anova_place\u001b[0m\u001b[0;34m(\u001b[0m\u001b[0mcreate_df_place\u001b[0m\u001b[0;34m(\u001b[0m\u001b[0m_shuffle\u001b[0m\u001b[0;34m)\u001b[0m\u001b[0;34m)\u001b[0m\u001b[0;34m\u001b[0m\u001b[0;34m\u001b[0m\u001b[0m\n\u001b[0m",
      "\u001b[0;31mNameError\u001b[0m: name '_shuffle' is not defined"
     ]
    }
   ],
   "source": [
    "# Compute measures on surrogates\n",
    "surrogates = np.zeros(n_surrogates)\n",
    "for ind, shuffle in enumerate(times_shuffle):\n",
    "    place_trial_shuffle = compute_trial_place_bins(\\\n",
    "        shuffle, positions, ptimes, bins, nav_starts, nav_stops,\n",
    "        area_range, speed, speed_thresh, time_thresh,\n",
    "        flatten=True, **occ_kwargs)\n",
    "    surrogates[ind] = fit_anova_place(create_df_place(_shuffle))"
   ]
  },
  {
   "cell_type": "code",
   "execution_count": null,
   "id": "e2f8731f",
   "metadata": {},
   "outputs": [],
   "source": [
    "# Compute statistics on the surrogates\n",
    "p_val, z_score = compute_surrogate_stats(f_val, surrogates, verbose=True)"
   ]
  },
  {
   "cell_type": "markdown",
   "id": "b43ed1d3",
   "metadata": {},
   "source": [
    "## All Cells"
   ]
  },
  {
   "cell_type": "code",
   "execution_count": null,
   "id": "55b62932",
   "metadata": {},
   "outputs": [],
   "source": [
    "# # Examine spatial firing across all cells\n",
    "# for ii, ax in zip(keep_inds, make_axes(n_keep)):\n",
    "#     spikes = nwbfile.units.get_unit_spike_times(ii)    \n",
    "#     spike_positions = get_values_by_times(ptimes, positions, spikes, threshold=0.25)\n",
    "#     plot_positions(positions_trials, spike_positions, title='Neuron #{}'.format(ii), ax=ax)"
   ]
  },
  {
   "cell_type": "code",
   "execution_count": null,
   "id": "56497b79",
   "metadata": {},
   "outputs": [],
   "source": [
    "# # Examine spatial firing across all cells\n",
    "# for ii, ax in zip(keep_inds, make_axes(n_keep)):\n",
    "\n",
    "#     uspikes = nwbfile.units.get_unit_spike_times(ii)\n",
    "\n",
    "#     # Compute spatially binned firing map\n",
    "#     bin_firing = compute_place_bins(uspikes, positions, ptimes, bins, area_range,\n",
    "#                                     speed, speed_thresh, time_thresh, occ)\n",
    "    \n",
    "#     # Compute real data value\n",
    "#     if METHOD == 'INFO':\n",
    "#         data_value = compute_spatial_information(bin_firing, occ, normalize=False)\n",
    "\n",
    "#     if METHOD == 'ANOVA':\n",
    "#         place_trial = compute_trial_place_bins(uspikes, positions, ptimes, bins, nav_starts, nav_stops,\n",
    "#                                                area_range, speed, speed_thresh, time_thresh,\n",
    "#                                                flatten=True, **occ_kwargs)\n",
    "#         df = create_df_place(place_trial)\n",
    "#         data_value = fit_anova_place(df)\n",
    "\n",
    "#     surrogates = np.zeros(n_surrogates)\n",
    "#     times_shuffle = shuffle_spikes(uspikes, shuffle_approach, n_surrogates, **shuffle_kwargs)\n",
    "#     for ind, shuffle in enumerate(times_shuffle):\n",
    "\n",
    "#         if METHOD == 'INFO':            \n",
    "#             bf_shuffle = compute_place_bins(shuffle, positions, ptimes, bins, area_range,\n",
    "#                                             speed, speed_thresh, time_thresh, occ)\n",
    "#             surrogates[ind] = compute_spatial_information(bf_shuffle, occ, normalize=False)\n",
    "\n",
    "#         if METHOD == 'ANOVA':\n",
    "#             place_trial = compute_trial_place_bins(shuffle, positions, ptimes, bins, nav_starts, nav_stops,\n",
    "#                                                    area_range, speed, speed_thresh, time_thresh,\n",
    "#                                                    flatten=True, **occ_kwargs)\n",
    "#             surrogates[ind] = fit_anova_place(create_df_place(place_trial))\n",
    "\n",
    "#     # Compute z-score & p-value based on surrogates\n",
    "#     p_val, z_score = compute_surrogate_stats(data_value, surrogates, plot=False, ax=ax)    \n",
    "\n",
    "#     # Plot occupancy-normalized spatial firing\n",
    "#     plot_heatmap(bin_firing, title=create_heat_title('U{}'.format(ii), bin_firing, z_score, p_val),\n",
    "#                  title_color=color_pvalue(p_val), title_fontsize=12, ax=ax)"
   ]
  }
 ],
 "metadata": {
  "kernelspec": {
   "display_name": "thproj",
   "language": "python",
   "name": "thproj"
  },
  "language_info": {
   "codemirror_mode": {
    "name": "ipython",
    "version": 3
   },
   "file_extension": ".py",
   "mimetype": "text/x-python",
   "name": "python",
   "nbconvert_exporter": "python",
   "pygments_lexer": "ipython3",
   "version": "3.8.13"
  }
 },
 "nbformat": 4,
 "nbformat_minor": 5
}
