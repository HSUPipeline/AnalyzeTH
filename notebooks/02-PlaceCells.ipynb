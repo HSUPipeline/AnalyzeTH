{
 "cells": [
  {
   "cell_type": "markdown",
   "id": "short-kentucky",
   "metadata": {},
   "source": [
    "# Place Cell Analyses\n",
    "\n",
    "Analyze TH data for place cells.\n",
    "\n",
    "Cells of interest:\n",
    "- No cells show clear / traditional place cell responses"
   ]
  },
  {
   "cell_type": "code",
   "execution_count": 1,
   "id": "based-lobby",
   "metadata": {},
   "outputs": [],
   "source": [
    "%config Completer.use_jedi = False"
   ]
  },
  {
   "cell_type": "code",
   "execution_count": 2,
   "id": "democratic-twelve",
   "metadata": {},
   "outputs": [],
   "source": [
    "import warnings\n",
    "from pathlib import Path\n",
    "\n",
    "import numpy as np\n",
    "import matplotlib.pyplot as plt\n",
    "\n",
    "from pynwb import NWBHDF5IO\n",
    "\n",
    "from spiketools.spatial.occupancy import (compute_occupancy, compute_spatial_bin_edges,\n",
    "                                          compute_spatial_bin_assignment)\n",
    "from spiketools.spatial.utils import get_pos_ranges, get_bin_width\n",
    "from spiketools.spatial.information import compute_spatial_information_2d\n",
    "\n",
    "from spiketools.stats.shuffle import shuffle_spikes\n",
    "from spiketools.stats.permutations import zscore_to_surrogates, compute_empirical_pvalue\n",
    "\n",
    "from spiketools.plts.space import plot_positions, plot_heatmap\n",
    "from spiketools.plts.stats import plot_surrogates\n",
    "from spiketools.plts.utils import make_axes\n",
    "\n",
    "from spiketools.utils import restrict_range"
   ]
  },
  {
   "cell_type": "code",
   "execution_count": 3,
   "id": "final-justice",
   "metadata": {},
   "outputs": [],
   "source": [
    "import seaborn as sns\n",
    "sns.set_context('talk')"
   ]
  },
  {
   "cell_type": "code",
   "execution_count": 4,
   "id": "8c5c1e74",
   "metadata": {},
   "outputs": [],
   "source": [
    "import sys\n",
    "sys.path.append('../code')\n",
    "from analysis import get_spike_positions, compute_bin_firing"
   ]
  },
  {
   "cell_type": "markdown",
   "id": "exclusive-quest",
   "metadata": {},
   "source": [
    "## Settings"
   ]
  },
  {
   "cell_type": "code",
   "execution_count": 5,
   "id": "c1a6fc2d",
   "metadata": {},
   "outputs": [],
   "source": [
    "# Set which task to analyze\n",
    "task = 'THF'"
   ]
  },
  {
   "cell_type": "code",
   "execution_count": 6,
   "id": "98d6504b",
   "metadata": {},
   "outputs": [],
   "source": [
    "# Define the base data folder\n",
    "data_folder = Path('/Users/tom/Documents/Data/JacobsLab/TH/' + task)"
   ]
  },
  {
   "cell_type": "code",
   "execution_count": 7,
   "id": "d05eb3ec",
   "metadata": {},
   "outputs": [],
   "source": [
    "# Define subject information\n",
    "subj = 'wv001'\n",
    "session = 2"
   ]
  },
  {
   "cell_type": "code",
   "execution_count": 8,
   "id": "8d10be97",
   "metadata": {},
   "outputs": [],
   "source": [
    "# Set which example unit to extract\n",
    "uind = 49"
   ]
  },
  {
   "cell_type": "code",
   "execution_count": 9,
   "id": "baking-tattoo",
   "metadata": {},
   "outputs": [],
   "source": [
    "# Define bins to use\n",
    "bins = [7, 21]"
   ]
  },
  {
   "cell_type": "code",
   "execution_count": 10,
   "id": "28b91e38",
   "metadata": {},
   "outputs": [],
   "source": [
    "# Shuffle Settings\n",
    "shuffle_approach = 'BINCIRC'\n",
    "n_surrogates = 100"
   ]
  },
  {
   "cell_type": "markdown",
   "id": "magnetic-partition",
   "metadata": {},
   "source": [
    "## Load Data"
   ]
  },
  {
   "cell_type": "code",
   "execution_count": 11,
   "id": "9e6e8329",
   "metadata": {},
   "outputs": [],
   "source": [
    "# Define expected NWB file name & full path\n",
    "file_name = '_'.join([subj, 'session_' + str(session)]) + '.nwb'\n",
    "full_path = data_folder / 'NWB' / file_name"
   ]
  },
  {
   "cell_type": "code",
   "execution_count": 12,
   "id": "demographic-blood",
   "metadata": {},
   "outputs": [],
   "source": [
    "# Load NWB file\n",
    "io = NWBHDF5IO(str(full_path), 'r')\n",
    "nwbfile = io.read()"
   ]
  },
  {
   "cell_type": "code",
   "execution_count": 13,
   "id": "varied-librarian",
   "metadata": {},
   "outputs": [],
   "source": [
    "# Extract the position data\n",
    "pos = nwbfile.acquisition['position']['xy_position']\n",
    "ptimes = pos.timestamps[:]\n",
    "positions = pos.data[:]\n",
    "speed = nwbfile.processing['position_measures']['speed'].data[:]"
   ]
  },
  {
   "cell_type": "code",
   "execution_count": 14,
   "id": "1892205e",
   "metadata": {},
   "outputs": [
    {
     "name": "stdout",
     "output_type": "stream",
     "text": [
      "Number of units: 81\n"
     ]
    }
   ],
   "source": [
    "# Check how many units are available\n",
    "n_units = len(nwbfile.units)\n",
    "print('Number of units: {}'.format(n_units))"
   ]
  },
  {
   "cell_type": "code",
   "execution_count": 15,
   "id": "neither-enemy",
   "metadata": {},
   "outputs": [],
   "source": [
    "# Extract spikes for a unit of interest\n",
    "spikes = nwbfile.units.get_unit_spike_times(uind)\n",
    "spikes = spikes / 1000"
   ]
  },
  {
   "cell_type": "code",
   "execution_count": 16,
   "id": "3fa9208c",
   "metadata": {},
   "outputs": [],
   "source": [
    "# Drop spikes until task time\n",
    "st = nwbfile.trials['start_time'][0]\n",
    "en = nwbfile.trials['stop_time'][-1]\n",
    "spikes = restrict_range(spikes, st, en)"
   ]
  },
  {
   "cell_type": "markdown",
   "id": "fc001ae5",
   "metadata": {},
   "source": [
    "## Position Data"
   ]
  },
  {
   "cell_type": "code",
   "execution_count": 17,
   "id": "42880bfd",
   "metadata": {},
   "outputs": [],
   "source": [
    "# Compute position ranges\n",
    "x_range, y_range = get_pos_ranges(positions)"
   ]
  },
  {
   "cell_type": "code",
   "execution_count": 18,
   "id": "706329ea",
   "metadata": {},
   "outputs": [
    {
     "name": "stdout",
     "output_type": "stream",
     "text": [
      "Position X-range:  365.40 - 404.59 (39.18)\n",
      "Position Y-range:  285.00 - 433.00 (148.00)\n"
     ]
    }
   ],
   "source": [
    "# Check ranges of positon\n",
    "print('Position X-range:  {:1.2f} - {:1.2f} ({:1.2f})'.format(*x_range, x_range[1] - x_range[0]))\n",
    "print('Position Y-range:  {:1.2f} - {:1.2f} ({:1.2f})'.format(*y_range, y_range[1] - y_range[0]))"
   ]
  },
  {
   "cell_type": "code",
   "execution_count": 19,
   "id": "983ae317",
   "metadata": {},
   "outputs": [],
   "source": [
    "# Get position values for each spike\n",
    "spike_xs, spike_ys = get_spike_positions(spikes, ptimes, positions)\n",
    "spike_positions = np.array([spike_xs, spike_ys])"
   ]
  },
  {
   "cell_type": "code",
   "execution_count": 20,
   "id": "907ffe60",
   "metadata": {},
   "outputs": [],
   "source": [
    "# Check binning\n",
    "x_bin_edges, y_bin_edges = compute_spatial_bin_edges(positions, bins)"
   ]
  },
  {
   "cell_type": "code",
   "execution_count": 21,
   "id": "bb363cc4",
   "metadata": {},
   "outputs": [
    {
     "name": "stdout",
     "output_type": "stream",
     "text": [
      "Bin widths: 5.60, 7.05\n"
     ]
    }
   ],
   "source": [
    "# Check bin sizes\n",
    "print('Bin widths: {:1.2f}, {:1.2f}'.format(get_bin_width(x_bin_edges), get_bin_width(y_bin_edges)))"
   ]
  },
  {
   "cell_type": "markdown",
   "id": "22ab93c9",
   "metadata": {},
   "source": [
    "### Occupancy"
   ]
  },
  {
   "cell_type": "code",
   "execution_count": 22,
   "id": "662229cd",
   "metadata": {},
   "outputs": [],
   "source": [
    "# Compute occupancy\n",
    "occ = compute_occupancy(positions, ptimes, bins, speed)"
   ]
  },
  {
   "cell_type": "code",
   "execution_count": 37,
   "id": "8f174c51",
   "metadata": {},
   "outputs": [
    {
     "data": {
      "image/png": "[encoded data removed]",
      "text/plain": [
       "<Figure size 360x504 with 1 Axes>"
      ]
     },
     "metadata": {},
     "output_type": "display_data"
    }
   ],
   "source": [
    "# Plot occupancy\n",
    "plot_heatmap(occ, transpose=True, ignore_zero=False, figsize=(5, 7))"
   ]
  },
  {
   "cell_type": "markdown",
   "id": "67315be9",
   "metadata": {},
   "source": [
    "## Check spike locations"
   ]
  },
  {
   "cell_type": "code",
   "execution_count": 24,
   "id": "08adc47c",
   "metadata": {},
   "outputs": [
    {
     "data": {
      "image/png": "[encoded data removed]",
      "text/plain": [
       "<Figure size 360x504 with 1 Axes>"
      ]
     },
     "metadata": {
      "needs_background": "light"
     },
     "output_type": "display_data"
    }
   ],
   "source": [
    "# Plot the map across all position traces\n",
    "plot_positions(positions, spike_positions,\n",
    "               x_bins=x_bin_edges, y_bins=y_bin_edges,\n",
    "               figsize=(5, 7))"
   ]
  },
  {
   "cell_type": "markdown",
   "id": "0697a92c",
   "metadata": {},
   "source": [
    "## Compute Binned Spatial Firing"
   ]
  },
  {
   "cell_type": "code",
   "execution_count": 25,
   "id": "046afaa6",
   "metadata": {},
   "outputs": [],
   "source": [
    "# Compute spatial bin assignments for each spike\n",
    "x_binl, y_binl = compute_spatial_bin_assignment(spike_positions, x_bin_edges, y_bin_edges)"
   ]
  },
  {
   "cell_type": "code",
   "execution_count": 26,
   "id": "a26c522a",
   "metadata": {},
   "outputs": [],
   "source": [
    "# Compute summary map of bin firing\n",
    "bin_firing = compute_bin_firing(x_binl, y_binl, bins)"
   ]
  },
  {
   "cell_type": "code",
   "execution_count": 27,
   "id": "285f9d34",
   "metadata": {},
   "outputs": [
    {
     "data": {
      "image/png": "[encoded data removed]",
      "text/plain": [
       "<Figure size 432x288 with 1 Axes>"
      ]
     },
     "metadata": {},
     "output_type": "display_data"
    }
   ],
   "source": [
    "# Check the firing map\n",
    "plot_heatmap(bin_firing, transpose=True)"
   ]
  },
  {
   "cell_type": "code",
   "execution_count": 28,
   "id": "7f8b7b54",
   "metadata": {},
   "outputs": [],
   "source": [
    "# Normalize bin firing by occupancy\n",
    "with warnings.catch_warnings():\n",
    "    warnings.simplefilter(\"ignore\")\n",
    "    normed_bin_firing = bin_firing / occ"
   ]
  },
  {
   "cell_type": "code",
   "execution_count": 29,
   "id": "0b7ba9b3",
   "metadata": {},
   "outputs": [
    {
     "data": {
      "image/png": "[encoded data removed]",
      "text/plain": [
       "<Figure size 432x288 with 1 Axes>"
      ]
     },
     "metadata": {},
     "output_type": "display_data"
    }
   ],
   "source": [
    "# Plot occupancy-normalized spatial firing\n",
    "plot_heatmap(normed_bin_firing, transpose=True)"
   ]
  },
  {
   "cell_type": "markdown",
   "id": "a751ef6a",
   "metadata": {},
   "source": [
    "## Compute Spatial Information"
   ]
  },
  {
   "cell_type": "code",
   "execution_count": 30,
   "id": "ca0edfa0",
   "metadata": {},
   "outputs": [
    {
     "name": "stdout",
     "output_type": "stream",
     "text": [
      "0.9895873220887538\n"
     ]
    }
   ],
   "source": [
    "# Compute the spatial information\n",
    "spike_info = compute_spatial_information_2d(spike_xs, spike_ys, [x_bin_edges, y_bin_edges], occ)\n",
    "print(spike_info)"
   ]
  },
  {
   "cell_type": "code",
   "execution_count": 31,
   "id": "6b39e304",
   "metadata": {},
   "outputs": [],
   "source": [
    "# Create shuffled time series for comparison\n",
    "#   Note: some temporary quirks here to deal with UNIX time\n",
    "temp = spikes - st\n",
    "times_shuffle = shuffle_spikes(temp, shuffle_approach, n_surrogates)\n",
    "times_shuffle = times_shuffle + st"
   ]
  },
  {
   "cell_type": "code",
   "execution_count": 32,
   "id": "785b7ecd",
   "metadata": {},
   "outputs": [],
   "source": [
    "# Compute spatial information measures on surrogates\n",
    "surrs = np.zeros(n_surrogates)\n",
    "for ind, stimes in enumerate(times_shuffle):    \n",
    "    \n",
    "    spike_xs, spike_ys = get_spike_positions(stimes, ptimes, positions)\n",
    "    surrs[ind] = compute_spatial_information_2d(spike_xs, spike_ys, [x_bin_edges, y_bin_edges], occ)"
   ]
  },
  {
   "cell_type": "code",
   "execution_count": 33,
   "id": "b30563c0",
   "metadata": {},
   "outputs": [],
   "source": [
    "# Compute the empirical p-value based on surrogates\n",
    "surr_p_val = compute_empirical_pvalue(spike_info, surrs)\n",
    "\n",
    "# Compute z-score of spatial information compared to surrogates\n",
    "z_score = zscore_to_surrogates(spike_info, surrs)"
   ]
  },
  {
   "cell_type": "code",
   "execution_count": 34,
   "id": "b32e5371",
   "metadata": {},
   "outputs": [
    {
     "data": {
      "image/png": "[encoded data removed]",
      "text/plain": [
       "<Figure size 432x288 with 1 Axes>"
      ]
     },
     "metadata": {
      "needs_background": "light"
     },
     "output_type": "display_data"
    }
   ],
   "source": [
    "# Plot distribution of surrogates with measured empirical value\n",
    "plot_surrogates(surrs, spike_info, surr_p_val)"
   ]
  },
  {
   "cell_type": "markdown",
   "id": "5e49b09c",
   "metadata": {},
   "source": [
    "## All Cells"
   ]
  },
  {
   "cell_type": "code",
   "execution_count": 35,
   "id": "09f73ce8",
   "metadata": {
    "scrolled": false
   },
   "outputs": [],
   "source": [
    "# # Examine spatial firing across all cells\n",
    "# for ii, ax in zip(range(n_units), make_axes(n_units)):\n",
    "    \n",
    "#     spikes = nwbfile.units.get_unit_spike_times(ii) / 1000\n",
    "#     spikes = restrict_range(spikes, st, en)\n",
    "    \n",
    "#     spike_xs, spike_ys = get_spike_positions(spikes, ptimes, positions)\n",
    "    \n",
    "#     plot_positions(positions, np.array([spike_xs, spike_ys]), ax=ax)\n",
    "#     ax.set_title(ii)"
   ]
  },
  {
   "cell_type": "code",
   "execution_count": 36,
   "id": "9be03c56",
   "metadata": {},
   "outputs": [],
   "source": [
    "# # Examine spatial firing across all cells\n",
    "# for ii, ax in zip(range(n_units), make_axes(n_units)):\n",
    "    \n",
    "#     spikes = nwbfile.units.get_unit_spike_times(ii) / 1000\n",
    "#     spikes = restrict_range(spikes, st, en)\n",
    "    \n",
    "#     spike_xs, spike_ys = get_spike_positions(spikes, ptimes, positions)\n",
    "#     spike_positions = np.array([spike_xs, spike_ys])\n",
    "    \n",
    "#     # Compute spatial bin assignments for each spike, and compute normalized bin firing\n",
    "#     x_binl, y_binl = compute_spatial_bin_assignment(spike_positions, x_bin_edges, y_bin_edges)\n",
    "#     bin_firing = compute_bin_firing(x_binl, y_binl, bins)\n",
    "#     with warnings.catch_warnings():\n",
    "#         warnings.simplefilter(\"ignore\")\n",
    "#         normed_bin_firing = bin_firing / occ\n",
    "    \n",
    "#     # Compute spatial information\n",
    "#     spike_info = compute_spatial_information_2d(spike_xs, spike_ys, [x_bin_edges, y_bin_edges], occ)\n",
    "    \n",
    "#     # Create shuffled time series for comparison\n",
    "#     #   Note: some temporary quirks here to deal with UNIX time\n",
    "#     temp = spikes - st\n",
    "#     times_shuffle = shuffle_spikes(temp, shuffle_approach, n_surrogates)\n",
    "#     times_shuffle = times_shuffle + st\n",
    "    \n",
    "#     # Compute spatial information measures on surrogates\n",
    "#     surrs = np.zeros(n_surrogates)\n",
    "#     for ind, stimes in enumerate(times_shuffle):    \n",
    "\n",
    "#         spike_xs, spike_ys = get_spike_positions(stimes, ptimes, positions)\n",
    "#         surrs[ind] = compute_spatial_information_2d(spike_xs, spike_ys, [x_bin_edges, y_bin_edges], occ)\n",
    "        \n",
    "#     # Compute z-score & p-value based on surrogates\n",
    "#     z_score = zscore_to_surrogates(spike_info, surrs)\n",
    "#     surr_p_val = compute_empirical_pvalue(spike_info, surrs)\n",
    "\n",
    "#     # Plot occupancy-normalized spatial firing\n",
    "#     plot_heatmap(normed_bin_firing, transpose=True, ax=ax)\n",
    "    \n",
    "#     color = 'red' if surr_p_val < 0.5 else 'black'\n",
    "#     title = 'U{} \\n ({:1.2f}-{:1.2f}) \\n z-{:1.2f}, p-{:1.2f}'.format(\\\n",
    "#         ii, np.min(normed_bin_firing), np.max(normed_bin_firing), z_score, surr_p_val)\n",
    "#     ax.set_title(title)"
   ]
  }
 ],
 "metadata": {
  "kernelspec": {
   "display_name": "Python 3 (ipykernel)",
   "language": "python",
   "name": "python3"
  },
  "language_info": {
   "codemirror_mode": {
    "name": "ipython",
    "version": 3
   },
   "file_extension": ".py",
   "mimetype": "text/x-python",
   "name": "python",
   "nbconvert_exporter": "python",
   "pygments_lexer": "ipython3",
   "version": "3.8.11"
  }
 },
 "nbformat": 4,
 "nbformat_minor": 5
}
