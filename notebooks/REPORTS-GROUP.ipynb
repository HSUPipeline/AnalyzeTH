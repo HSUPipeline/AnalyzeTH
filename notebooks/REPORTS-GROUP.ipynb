{
 "cells": [
  {
   "cell_type": "markdown",
   "id": "96d3ad4c",
   "metadata": {},
   "source": [
    "# Create Group Report\n",
    "\n",
    "Notes on data files:\n",
    "- THO: 5 additional sessions not converted\n",
    "- THF: 3 additional sessions not converted"
   ]
  },
  {
   "cell_type": "code",
   "execution_count": 1,
   "id": "5451e39c",
   "metadata": {},
   "outputs": [],
   "source": [
    "%config Completer.use_jedi = False"
   ]
  },
  {
   "cell_type": "code",
   "execution_count": 2,
   "id": "eae35efd",
   "metadata": {},
   "outputs": [],
   "source": [
    "from pathlib import Path\n",
    "\n",
    "import numpy as np\n",
    "\n",
    "from pynwb import NWBHDF5IO\n",
    "from convnwb.io import get_files\n",
    "\n",
    "from spiketools.plts.data import plot_hist\n",
    "from spiketools.plts.utils import make_axes"
   ]
  },
  {
   "cell_type": "code",
   "execution_count": 3,
   "id": "e29c47c2",
   "metadata": {},
   "outputs": [],
   "source": [
    "import seaborn as sns\n",
    "sns.set_context('talk')"
   ]
  },
  {
   "cell_type": "markdown",
   "id": "9ad69876",
   "metadata": {},
   "source": [
    "## Settings"
   ]
  },
  {
   "cell_type": "code",
   "execution_count": 4,
   "id": "721a84f5",
   "metadata": {},
   "outputs": [],
   "source": [
    "# Set which task to analyze\n",
    "task = 'THO'"
   ]
  },
  {
   "cell_type": "code",
   "execution_count": 5,
   "id": "f7bff701",
   "metadata": {},
   "outputs": [],
   "source": [
    "# Define the base data folder\n",
    "data_folder = Path('/Users/tom/Documents/Data/JacobsLab/TH/' + task)"
   ]
  },
  {
   "cell_type": "code",
   "execution_count": 6,
   "id": "dd926359",
   "metadata": {},
   "outputs": [],
   "source": [
    "# Get the list of \n",
    "nwbfiles = get_files(data_folder / 'NWB')"
   ]
  },
  {
   "cell_type": "markdown",
   "id": "0a64201b",
   "metadata": {},
   "source": [
    "## Collect Summary Information"
   ]
  },
  {
   "cell_type": "code",
   "execution_count": 7,
   "id": "a07c8c1f",
   "metadata": {},
   "outputs": [],
   "source": [
    "# Define summary data to collect\n",
    "summary = {\n",
    "    'ids' : [],\n",
    "    'n_trials' : [],\n",
    "    'n_units' : [],\n",
    "    'error' : [],\n",
    "    'correct' : []\n",
    "}"
   ]
  },
  {
   "cell_type": "code",
   "execution_count": 8,
   "id": "1f86dbd9",
   "metadata": {},
   "outputs": [],
   "source": [
    "for nwbfile in nwbfiles:\n",
    "    \n",
    "    # Load NWB file\n",
    "    io = NWBHDF5IO(str(data_folder / 'NWB' / nwbfile), 'r')\n",
    "    nwbfile = io.read()\n",
    "\n",
    "    # Get the subject & session ID from file\n",
    "    subj_id = nwbfile.subject.subject_id\n",
    "    session_id = nwbfile.session_id\n",
    "    \n",
    "    # Collect summary information\n",
    "    summary['ids'].append(session_id)\n",
    "    summary['n_trials'].append(len(nwbfile.trials))\n",
    "    summary['n_units'].append(len(nwbfile.units))\n",
    "    \n",
    "    summary['error'].append(np.mean(nwbfile.trials.error[:]))\n",
    "    summary['correct'].append(np.mean(nwbfile.trials.correct[:]))"
   ]
  },
  {
   "cell_type": "markdown",
   "id": "df1234fc",
   "metadata": {},
   "source": [
    "## Reports"
   ]
  },
  {
   "cell_type": "code",
   "execution_count": 9,
   "id": "1c4c07ec",
   "metadata": {},
   "outputs": [
    {
     "name": "stdout",
     "output_type": "stream",
     "text": [
      "Number of available sessions: 8\n"
     ]
    }
   ],
   "source": [
    "n_sessions = len(summary['ids'])\n",
    "print('Number of available sessions: {}'.format(n_sessions))"
   ]
  },
  {
   "cell_type": "code",
   "execution_count": 10,
   "id": "eface1b4",
   "metadata": {},
   "outputs": [
    {
     "data": {
      "image/png": "[encoded data removed]",
      "text/plain": [
       "<Figure size 432x288 with 1 Axes>"
      ]
     },
     "metadata": {
      "needs_background": "light"
     },
     "output_type": "display_data"
    }
   ],
   "source": [
    "plot_hist(summary['n_units'], title='Number of Units')"
   ]
  },
  {
   "cell_type": "code",
   "execution_count": 11,
   "id": "f68f066e",
   "metadata": {},
   "outputs": [
    {
     "data": {
      "image/png": "[encoded data removed]",
      "text/plain": [
       "<Figure size 1080x288 with 3 Axes>"
      ]
     },
     "metadata": {
      "needs_background": "light"
     },
     "output_type": "display_data"
    }
   ],
   "source": [
    "axes = make_axes(3, 3, figsize=(15, 4), wspace=0.5)\n",
    "plot_hist(summary['n_trials'], title='Number of trials', ax=axes[0])\n",
    "plot_hist(summary['correct'], title='Percent', ax=axes[1])\n",
    "plot_hist(summary['error'], title='Average Error', ax=axes[2])"
   ]
  },
  {
   "cell_type": "markdown",
   "id": "0e0c72b1",
   "metadata": {},
   "source": [
    "## Check individual sessions"
   ]
  },
  {
   "cell_type": "code",
   "execution_count": 12,
   "id": "8e783f1e",
   "metadata": {},
   "outputs": [
    {
     "name": "stdout",
     "output_type": "stream",
     "text": [
      "wv001-session_0: 111 units,  23 trials (53.45% correct, average error of 15.80)\n",
      "wv001-session_2: 118 units,  23 trials (46.55% correct, average error of 18.20)\n",
      "wv002-session_2:  59 units,  23 trials (21.05% correct, average error of 32.28)\n",
      "wv003-session_0:  39 units,  23 trials (8.77% correct, average error of 34.85)\n",
      "wv003-session_1:  47 units,  23 trials (22.41% correct, average error of 29.95)\n",
      "wv004-session_0: 138 units,  31 trials (55.84% correct, average error of 16.81)\n",
      "wv004-session_1:  78 units,  23 trials (70.69% correct, average error of 13.33)\n",
      "wv004-session_2:  83 units,  23 trials (45.61% correct, average error of 21.13)\n"
     ]
    }
   ],
   "source": [
    "# Print out detailed information for each session\n",
    "strtemp = \"{}: {:3d} units, {:3d} trials ({:1.2f}% correct, average error of {:2.2f})\"\n",
    "for ind in range(n_sessions):\n",
    "    print(strtemp.format(summary['ids'][ind], summary['n_units'][ind],\n",
    "                         summary['n_trials'][ind], summary['correct'][ind] * 100,\n",
    "                         summary['error'][ind]))"
   ]
  },
  {
   "cell_type": "code",
   "execution_count": null,
   "id": "3ae3d40d",
   "metadata": {},
   "outputs": [],
   "source": []
  }
 ],
 "metadata": {
  "kernelspec": {
   "display_name": "Python 3 (ipykernel)",
   "language": "python",
   "name": "python3"
  },
  "language_info": {
   "codemirror_mode": {
    "name": "ipython",
    "version": 3
   },
   "file_extension": ".py",
   "mimetype": "text/x-python",
   "name": "python",
   "nbconvert_exporter": "python",
   "pygments_lexer": "ipython3",
   "version": "3.8.11"
  }
 },
 "nbformat": 4,
 "nbformat_minor": 5
}
