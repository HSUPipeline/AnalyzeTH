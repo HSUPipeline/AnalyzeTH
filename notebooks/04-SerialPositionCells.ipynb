{
 "cells": [
  {
   "cell_type": "markdown",
   "id": "be2a4891",
   "metadata": {},
   "source": [
    "# Serial Position Cell Analysis"
   ]
  },
  {
   "cell_type": "markdown",
   "id": "f000beec",
   "metadata": {},
   "source": [
    "Analyze TH data for serial positon cells. \n",
    "\n",
    "Cells of interest:\n",
    "- 74 looks to be a serial position cell (not sure which session...)"
   ]
  },
  {
   "cell_type": "code",
   "execution_count": 1,
   "id": "2708f16b",
   "metadata": {},
   "outputs": [],
   "source": [
    "%config Completer.use_jedi = False"
   ]
  },
  {
   "cell_type": "code",
   "execution_count": 2,
   "id": "ad74661d",
   "metadata": {},
   "outputs": [],
   "source": [
    "from pathlib import Path\n",
    "from collections import Counter\n",
    "\n",
    "import numpy as np\n",
    "from scipy.stats import sem\n",
    "import matplotlib.pyplot as plt\n",
    "\n",
    "from pynwb import NWBHDF5IO\n",
    "\n",
    "from spiketools.stats.shuffle import shuffle_spikes\n",
    "from spiketools.stats.permutations import zscore_to_surrogates, compute_empirical_pvalue\n",
    "from spiketools.plts.space import plot_positions\n",
    "from spiketools.plts.stats import plot_surrogates\n",
    "from spiketools.plts.utils import make_axes\n",
    "from spiketools.plts.data import plot_bar\n",
    "from spiketools.utils import restrict_range\n",
    "from spiketools.utils.data import get_value_by_time, get_value_by_time_range"
   ]
  },
  {
   "cell_type": "code",
   "execution_count": 3,
   "id": "f8e78125",
   "metadata": {},
   "outputs": [],
   "source": [
    "import seaborn as sns\n",
    "sns.set_context('talk')"
   ]
  },
  {
   "cell_type": "code",
   "execution_count": 4,
   "id": "2c5573e7",
   "metadata": {
    "scrolled": true
   },
   "outputs": [],
   "source": [
    "import sys\n",
    "sys.path.append('../code')\n",
    "from analysis import get_spike_positions\n",
    "from target import compute_serial_position_fr"
   ]
  },
  {
   "cell_type": "markdown",
   "id": "001d9c0d",
   "metadata": {},
   "source": [
    "# Settings"
   ]
  },
  {
   "cell_type": "code",
   "execution_count": 5,
   "id": "0f597e26",
   "metadata": {},
   "outputs": [],
   "source": [
    "# Define the base data folder\n",
    "data_folder = Path('/Users/tom/Documents/Data/JacobsLab/TH/')"
   ]
  },
  {
   "cell_type": "code",
   "execution_count": 6,
   "id": "c914bdee",
   "metadata": {},
   "outputs": [],
   "source": [
    "# Define subject information\n",
    "task = 'THO'\n",
    "subj = 'wv001'\n",
    "session = 2"
   ]
  },
  {
   "cell_type": "code",
   "execution_count": 7,
   "id": "a4768b1f",
   "metadata": {},
   "outputs": [],
   "source": [
    "# Shuffle Settings\n",
    "shuffle_approach = 'BINCIRC'\n",
    "n_surrogates = 50"
   ]
  },
  {
   "cell_type": "code",
   "execution_count": 8,
   "id": "00786cf5",
   "metadata": {},
   "outputs": [],
   "source": [
    "# Set example unit to analyze\n",
    "uind = 74"
   ]
  },
  {
   "cell_type": "markdown",
   "id": "e1d39784",
   "metadata": {},
   "source": [
    "# Load Data"
   ]
  },
  {
   "cell_type": "code",
   "execution_count": 9,
   "id": "2bbf7489",
   "metadata": {},
   "outputs": [],
   "source": [
    "# Define expected NWB file name & full path\n",
    "file_name = '_'.join([task, subj, 'session_' + str(session)]) + '.nwb'\n",
    "full_path = data_folder / 'NWB' / file_name"
   ]
  },
  {
   "cell_type": "code",
   "execution_count": 10,
   "id": "3142a31f",
   "metadata": {},
   "outputs": [],
   "source": [
    "# Load NWB file\n",
    "io = NWBHDF5IO(str(full_path), 'r')\n",
    "nwbfile = io.read()"
   ]
  },
  {
   "cell_type": "markdown",
   "id": "c36ca17f",
   "metadata": {},
   "source": [
    "#### Get Trial Data"
   ]
  },
  {
   "cell_type": "code",
   "execution_count": 11,
   "id": "94f0c03a",
   "metadata": {},
   "outputs": [
    {
     "name": "stdout",
     "output_type": "stream",
     "text": [
      "Number of trials: 24\n"
     ]
    }
   ],
   "source": [
    "# Get the number of trials\n",
    "n_trials = len(nwbfile.trials)\n",
    "print('Number of trials: {}'.format(n_trials))"
   ]
  },
  {
   "cell_type": "code",
   "execution_count": 12,
   "id": "26354040",
   "metadata": {},
   "outputs": [],
   "source": [
    "# Extract behavioural markers of interest\n",
    "#trial_starts = nwbfile.trials['start_time'].data[:]\n",
    "nav_starts = nwbfile.trials['navigation_start'].data[:]\n",
    "chest_openings = nwbfile.trials['chest_opening_time'][:]"
   ]
  },
  {
   "cell_type": "markdown",
   "id": "c377f6a8",
   "metadata": {},
   "source": [
    "#### Get Unit Data"
   ]
  },
  {
   "cell_type": "code",
   "execution_count": 13,
   "id": "0c25c622",
   "metadata": {},
   "outputs": [
    {
     "name": "stdout",
     "output_type": "stream",
     "text": [
      "Number of units: 118\n",
      "Number to keep:  85\n"
     ]
    }
   ],
   "source": [
    "# Check the number of units & keep indices\n",
    "n_units = len(nwbfile.units)\n",
    "keep_inds = np.where(nwbfile.units.keep[:])[0]\n",
    "n_keep = len(keep_inds)\n",
    "print('Number of units: {}'.format(n_units))\n",
    "print('Number to keep:  {}'.format(n_keep))"
   ]
  },
  {
   "cell_type": "code",
   "execution_count": 14,
   "id": "0a704dd6",
   "metadata": {},
   "outputs": [],
   "source": [
    "# Get spikes\n",
    "spikes = nwbfile.units.get_unit_spike_times(uind)"
   ]
  },
  {
   "cell_type": "markdown",
   "id": "3a2129b6",
   "metadata": {},
   "source": [
    "#### Get Position Data"
   ]
  },
  {
   "cell_type": "code",
   "execution_count": 15,
   "id": "9956705e",
   "metadata": {},
   "outputs": [],
   "source": [
    "# Extract the position data\n",
    "ptimes = nwbfile.acquisition['position']['player_position'].timestamps[:]\n",
    "positions = nwbfile.acquisition['position']['player_position'].data[:].T"
   ]
  },
  {
   "cell_type": "code",
   "execution_count": 16,
   "id": "805c75c6",
   "metadata": {},
   "outputs": [],
   "source": [
    "# Get the chest positions & trial indices\n",
    "chest_xs, chest_ys = nwbfile.acquisition['stimuli']['chest_positions'].data[:].T\n",
    "chest_trials = nwbfile.trials.chest_trials[:]"
   ]
  },
  {
   "cell_type": "markdown",
   "id": "c98bb323",
   "metadata": {},
   "source": [
    "# Single Trial"
   ]
  },
  {
   "cell_type": "code",
   "execution_count": 17,
   "id": "6ed0b976",
   "metadata": {},
   "outputs": [],
   "source": [
    "# Get trial information\n",
    "t_ind = 10\n",
    "#t_st = nwbfile.trials['start_time'][t_ind]\n",
    "t_st = nwbfile.trials['navigation_start'][t_ind]\n",
    "ch_openings = nwbfile.trials['chest_opening_time'][t_ind]\n",
    "t_en = ch_openings[-1]"
   ]
  },
  {
   "cell_type": "code",
   "execution_count": 18,
   "id": "fa8f7544",
   "metadata": {},
   "outputs": [],
   "source": [
    "# Get the chests for the current trial\n",
    "t_mask = chest_trials == t_ind"
   ]
  },
  {
   "cell_type": "code",
   "execution_count": 19,
   "id": "eb2d7e5c",
   "metadata": {},
   "outputs": [],
   "source": [
    "# Select chest openings for the current trial\n",
    "t_time, t_pos = get_value_by_time_range(ptimes, positions, t_st, t_en)\n",
    "ch_times = [get_value_by_time(t_time, t_pos, ch_op) for ch_op in ch_openings]"
   ]
  },
  {
   "cell_type": "code",
   "execution_count": 20,
   "id": "ae6729f9",
   "metadata": {},
   "outputs": [],
   "source": [
    "# Restrict spikes to the selected trial\n",
    "t_spikes = restrict_range(spikes, t_st, t_en)\n",
    "t_spike_xs, t_spike_ys = get_spike_positions(t_spikes, t_time, t_pos)\n",
    "spike_positions = np.array([t_spike_xs, t_spike_ys])"
   ]
  },
  {
   "cell_type": "code",
   "execution_count": 21,
   "id": "108357fd",
   "metadata": {},
   "outputs": [
    {
     "data": {
      "text/plain": [
       "[<matplotlib.lines.Line2D at 0x7fc7ce0cddf0>]"
      ]
     },
     "execution_count": 21,
     "metadata": {},
     "output_type": "execute_result"
    },
    {
     "data": {
      "image/png": "[encoded data removed]",
      "text/plain": [
       "<Figure size 360x504 with 1 Axes>"
      ]
     },
     "metadata": {
      "needs_background": "light"
     },
     "output_type": "display_data"
    }
   ],
   "source": [
    "# Plot an encoding trial: with traversals, chest locations, and spike firing\n",
    "plot_positions(t_pos, alpha=0.85, figsize=(5, 7))\n",
    "ax = plt.gca()\n",
    "ax.plot(*t_pos[:, 0], 'b.', ms=15)\n",
    "[ax.plot(*cht, 'y.', ms=15) for cht in ch_times];\n",
    "ax.plot(chest_xs[t_mask], chest_ys[t_mask], '.g', ms=50, alpha=0.25)\n",
    "ax.plot(t_spike_xs, t_spike_ys, '.r', alpha=0.75,)"
   ]
  },
  {
   "cell_type": "markdown",
   "id": "3d9708ec",
   "metadata": {},
   "source": [
    "# Serial Position"
   ]
  },
  {
   "cell_type": "code",
   "execution_count": 22,
   "id": "57b1ee99",
   "metadata": {},
   "outputs": [],
   "source": [
    "# Get the length of time between segments (chest openings)\n",
    "seg_times = np.diff(np.insert(ch_openings, 0, t_time[0]))"
   ]
  },
  {
   "cell_type": "code",
   "execution_count": 23,
   "id": "60f52a8b",
   "metadata": {},
   "outputs": [],
   "source": [
    "# Count firing in each segment, and compute firing rate\n",
    "count = Counter({0 : 0, 1 : 0, 2 : 0, 3 : 0})\n",
    "count.update(np.digitize(t_spikes, ch_openings))\n",
    "frs = np.array(list(count.values())) / seg_times"
   ]
  },
  {
   "cell_type": "code",
   "execution_count": 24,
   "id": "70522438",
   "metadata": {},
   "outputs": [
    {
     "data": {
      "image/png": "[encoded data removed]",
      "text/plain": [
       "<Figure size 432x288 with 1 Axes>"
      ]
     },
     "metadata": {
      "needs_background": "light"
     },
     "output_type": "display_data"
    }
   ],
   "source": [
    "# Plot firing rate per segment (single trial)\n",
    "plot_bar(frs, count.keys())"
   ]
  },
  {
   "cell_type": "code",
   "execution_count": 25,
   "id": "778c6a49",
   "metadata": {},
   "outputs": [],
   "source": [
    "# Compute firing rates per segment for all trials\n",
    "all_frs = compute_serial_position_fr(spikes, nav_starts, chest_openings, chest_trials, ptimes, positions)"
   ]
  },
  {
   "cell_type": "code",
   "execution_count": 26,
   "id": "45fe4bad",
   "metadata": {
    "scrolled": true
   },
   "outputs": [
    {
     "data": {
      "image/png": "[encoded data removed]",
      "text/plain": [
       "<Figure size 432x288 with 1 Axes>"
      ]
     },
     "metadata": {
      "needs_background": "light"
     },
     "output_type": "display_data"
    }
   ],
   "source": [
    "# Plot firing rates per segment across all trials\n",
    "plot_bar(all_frs.mean(0), count.keys(), yerr=sem(all_frs, 0))"
   ]
  },
  {
   "cell_type": "markdown",
   "id": "0346b976",
   "metadata": {},
   "source": [
    "### Shuffle Analysis"
   ]
  },
  {
   "cell_type": "code",
   "execution_count": 27,
   "id": "134ecd9e",
   "metadata": {},
   "outputs": [],
   "source": [
    "# Create shuffled time series for comparison\n",
    "times_shuffle = shuffle_spikes(spikes, shuffle_approach, n_surrogates)"
   ]
  },
  {
   "cell_type": "code",
   "execution_count": 28,
   "id": "1dd27f47",
   "metadata": {
    "scrolled": false
   },
   "outputs": [],
   "source": [
    "# compute the firing rate per segement across trials on surrogates\n",
    "all_surrs = np.zeros(shape=[n_surrogates, 4])\n",
    "for ind, stimes in enumerate(times_shuffle):\n",
    "    \n",
    "    # Get trial-level segment activity & take the mean firing rate per segment of each shuffle\n",
    "    surrs_frs = compute_serial_position_fr(\\\n",
    "        stimes, nav_starts, chest_openings, chest_trials, ptimes, positions) \n",
    "    all_surrs[ind] = np.mean(surrs_frs, 0)"
   ]
  },
  {
   "cell_type": "code",
   "execution_count": 29,
   "id": "02906f59",
   "metadata": {},
   "outputs": [],
   "source": [
    "# Compute the empirical p-values and z-scores for each segment\n",
    "surr_p_vals = [compute_empirical_pvalue(all_frs.mean(0)[ind], all_surrs[:, ind]) for ind in range(4)]\n",
    "z_scores = [zscore_to_surrogates(all_frs.mean(0)[ind], all_surrs[:, ind]) for ind in range(4)]"
   ]
  },
  {
   "cell_type": "code",
   "execution_count": 30,
   "id": "62aea4f6",
   "metadata": {
    "scrolled": true
   },
   "outputs": [
    {
     "data": {
      "image/png": "[encoded data removed]",
      "text/plain": [
       "<Figure size 1296x288 with 5 Axes>"
      ]
     },
     "metadata": {
      "needs_background": "light"
     },
     "output_type": "display_data"
    }
   ],
   "source": [
    "# Plot distribution of surrogates with measured empirical value for each segment (seg1, seg2, seg3, seg4)\n",
    "for ii, ax in zip(range(4), make_axes(4, wspace=0.4)):\n",
    "    plot_surrogates(all_surrs[:,ii], all_frs.mean(0)[ii], ax=ax)\n",
    "    color = 'red' if surr_p_vals[ii] < 0.05 else 'black'\n",
    "    title = 'Seg{}: z-{:1.2f}, p-{:1.2f}'.format(ii, z_scores[ii], surr_p_vals[ii])\n",
    "    ax.set_title(title, fontdict={'fontsize' : 15}, color=color);"
   ]
  },
  {
   "cell_type": "code",
   "execution_count": 31,
   "id": "07753720",
   "metadata": {},
   "outputs": [
    {
     "data": {
      "image/png": "[encoded data removed]",
      "text/plain": [
       "<Figure size 432x288 with 1 Axes>"
      ]
     },
     "metadata": {
      "needs_background": "light"
     },
     "output_type": "display_data"
    }
   ],
   "source": [
    "# Plot firing rates per segment across all trials, indicating shuffle significance\n",
    "plot_bar(all_frs.mean(0), count.keys(), yerr=sem(all_frs, 0))\n",
    "for ind, p_val in enumerate(surr_p_vals):\n",
    "    if p_val < 0.05:\n",
    "        ax=plt.gca()\n",
    "        ax.text(ind, ax.get_ylim()[1]-0.15*ax.get_ylim()[1],\n",
    "                '*', c='red', fontdict={'fontsize' : 25}, ha='center')"
   ]
  },
  {
   "cell_type": "markdown",
   "id": "c9759235",
   "metadata": {},
   "source": [
    "# All Cells"
   ]
  },
  {
   "cell_type": "code",
   "execution_count": 32,
   "id": "87d52b9d",
   "metadata": {
    "scrolled": false
   },
   "outputs": [],
   "source": [
    "# # Plot the firing rate per segment across trials for all units \n",
    "# for ii, ax in zip(keep_inds, make_axes(n_keep, hspace=0.4, wspace=0.4)):\n",
    "\n",
    "#     spikes = nwbfile.units.get_unit_spike_times(ii)\n",
    "    \n",
    "#     seg_times = np.diff(np.insert(ch_openings, 0, t_time[0]))\n",
    "        \n",
    "#     # Count firing in each segment, and compute firing rate\n",
    "#     count = Counter({0 : 0, 1 : 0, 2 : 0, 3 : 0})\n",
    "#     count.update(np.digitize(t_spikes, ch_openings))\n",
    "#     frs = np.array(list(count.values())) / seg_times\n",
    "    \n",
    "#     all_frs = compute_serial_position_fr(\\\n",
    "#         spikes, nav_starts, chest_openings, chest_trials, ptimes, positions)\n",
    "    \n",
    "#     # Compute the firing rate per segement across trials on surrogates\n",
    "#     times_shuffle = shuffle_spikes(spikes, shuffle_approach, n_surrogates)\n",
    "#     all_surrs = np.zeros(shape=[n_surrogates, 4])\n",
    "#     for ind, stimes in enumerate(times_shuffle):\n",
    "            \n",
    "#         # Get trial-level segment activity & take the mean firing rate per segment of each shuffle\n",
    "#         surrs_frs = compute_serial_position_fr(\\\n",
    "#             stimes, nav_starts, chest_openings, chest_trials, ptimes, positions) \n",
    "#         all_surrs[ind] = np.mean(surrs_frs, 0)\n",
    "                \n",
    "#     # Compute the empirical p-values and z-scores for each segment\n",
    "#     surr_p_vals = [compute_empirical_pvalue(all_frs.mean(0)[ind], all_surrs[:, ind]) for ind in range(4)]\n",
    "#     z_scores = [zscore_to_surrogates(all_frs.mean(0)[ind], all_surrs[:, ind]) for ind in range(4)]\n",
    "        \n",
    "#     # Plot firing rates per segment across all trials, and indicate significance\n",
    "#     plot_bar(all_frs.mean(0), count.keys(), yerr=sem(all_frs, 0), ax=ax)\n",
    "#     title = 'U{}'.format(ii)\n",
    "#     ax.set_title(title, fontdict={'fontsize' : 12})\n",
    "#     for ind, p_val in enumerate(surr_p_vals):\n",
    "#         if p_val < 0.05:\n",
    "#             ax.text(ind, ax.get_ylim()[1]-0.15*ax.get_ylim()[1],\n",
    "#                     '*', c='red', fontdict={'fontsize' : 25}, ha='center')"
   ]
  }
 ],
 "metadata": {
  "kernelspec": {
   "display_name": "Python 3 (ipykernel)",
   "language": "python",
   "name": "python3"
  },
  "language_info": {
   "codemirror_mode": {
    "name": "ipython",
    "version": 3
   },
   "file_extension": ".py",
   "mimetype": "text/x-python",
   "name": "python",
   "nbconvert_exporter": "python",
   "pygments_lexer": "ipython3",
   "version": "3.8.11"
  }
 },
 "nbformat": 4,
 "nbformat_minor": 5
}
