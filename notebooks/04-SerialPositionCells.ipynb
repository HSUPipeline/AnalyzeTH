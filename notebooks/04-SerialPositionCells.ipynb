{
 "cells": [
  {
   "cell_type": "markdown",
   "id": "be2a4891",
   "metadata": {},
   "source": [
    "# Serial Position Cell Analysis\n",
    "\n",
    "Analyze TH data for serial positon cells. "
   ]
  },
  {
   "cell_type": "code",
   "execution_count": 1,
   "id": "2708f16b",
   "metadata": {},
   "outputs": [],
   "source": [
    "%config Completer.use_jedi = False"
   ]
  },
  {
   "cell_type": "code",
   "execution_count": 2,
   "id": "ad74661d",
   "metadata": {},
   "outputs": [],
   "source": [
    "from pathlib import Path\n",
    "from collections import Counter\n",
    "\n",
    "import numpy as np\n",
    "from scipy.stats import sem\n",
    "import matplotlib.pyplot as plt\n",
    "\n",
    "from pynwb import NWBHDF5IO\n",
    "\n",
    "from spiketools.stats.shuffle import shuffle_spikes\n",
    "from spiketools.stats.permutations import compute_surrogate_stats, compute_empirical_pvalue, zscore_to_surrogates\n",
    "from spiketools.plts.space import plot_positions\n",
    "from spiketools.plts.stats import plot_surrogates\n",
    "from spiketools.plts.utils import make_axes\n",
    "from spiketools.plts.data import plot_bar\n",
    "from spiketools.plts.annotate import color_pval\n",
    "from spiketools.utils import set_random_seed\n",
    "from spiketools.utils.data import restrict_range, get_value_by_time, get_value_by_time_range"
   ]
  },
  {
   "cell_type": "code",
   "execution_count": 3,
   "id": "f8e78125",
   "metadata": {},
   "outputs": [],
   "source": [
    "import seaborn as sns\n",
    "sns.set_context('talk')"
   ]
  },
  {
   "cell_type": "code",
   "execution_count": 4,
   "id": "2c5573e7",
   "metadata": {
    "scrolled": true
   },
   "outputs": [],
   "source": [
    "import sys\n",
    "sys.path.append('../code')\n",
    "from analysis import get_spike_positions\n",
    "from serial import compute_serial_position_fr, create_df_serial, fit_anova_serial"
   ]
  },
  {
   "cell_type": "markdown",
   "id": "001d9c0d",
   "metadata": {},
   "source": [
    "# Settings"
   ]
  },
  {
   "cell_type": "code",
   "execution_count": 5,
   "id": "c41abc46",
   "metadata": {},
   "outputs": [],
   "source": [
    "# Set random seed, for consistency shuffling\n",
    "set_random_seed(101)"
   ]
  },
  {
   "cell_type": "code",
   "execution_count": 6,
   "id": "0f597e26",
   "metadata": {},
   "outputs": [],
   "source": [
    "# Define the base data folder\n",
    "#data_folder = Path('/Users/Claire_han/Documents/Data/JacobsLab/TH/')\n",
    "data_folder = Path('/Users/tom/Documents/Data/JacobsLab/TH/')\n",
    "#data_folder = Path('/scratch/tom.donoghue/TH/')"
   ]
  },
  {
   "cell_type": "code",
   "execution_count": 7,
   "id": "c914bdee",
   "metadata": {},
   "outputs": [],
   "source": [
    "# Define subject information\n",
    "task = 'THF'\n",
    "subj = 'wv001'\n",
    "session = 2"
   ]
  },
  {
   "cell_type": "code",
   "execution_count": 8,
   "id": "a4768b1f",
   "metadata": {},
   "outputs": [],
   "source": [
    "# Shuffle Settings\n",
    "shuffle_approach = 'CIRCULAR'  # 'CIRCULAR', 'BINCIRC'\n",
    "n_surrogates = 500\n",
    "\n",
    "if shuffle_approach == 'CIRCULAR':\n",
    "    shuffle_kwargs = {}\n",
    "if shuffle_approach == 'BINCIRC':\n",
    "    shuffle_kwargs = {}\n",
    "    #shuffle_kwargs = {'shuffle_min' : 20000}"
   ]
  },
  {
   "cell_type": "code",
   "execution_count": 9,
   "id": "00786cf5",
   "metadata": {},
   "outputs": [],
   "source": [
    "# Set example unit to analyze\n",
    "uind = 74"
   ]
  },
  {
   "cell_type": "code",
   "execution_count": 10,
   "id": "7c002bbf",
   "metadata": {},
   "outputs": [],
   "source": [
    "# Set which analysis method to run\n",
    "METHOD = 'ANOVA'  # 'SEGMENT' / 'ANOVA'"
   ]
  },
  {
   "cell_type": "markdown",
   "id": "e1d39784",
   "metadata": {},
   "source": [
    "# Load Data"
   ]
  },
  {
   "cell_type": "code",
   "execution_count": 11,
   "id": "2bbf7489",
   "metadata": {},
   "outputs": [],
   "source": [
    "# Define expected NWB file name & full path\n",
    "file_name = '_'.join([task, subj, 'session_' + str(session)]) + '.nwb'\n",
    "full_path = data_folder / 'NWB' / file_name"
   ]
  },
  {
   "cell_type": "code",
   "execution_count": 12,
   "id": "3142a31f",
   "metadata": {},
   "outputs": [],
   "source": [
    "# Load NWB file\n",
    "io = NWBHDF5IO(str(full_path), 'r')\n",
    "nwbfile = io.read()"
   ]
  },
  {
   "cell_type": "markdown",
   "id": "c36ca17f",
   "metadata": {},
   "source": [
    "#### Get Trial Data"
   ]
  },
  {
   "cell_type": "code",
   "execution_count": 13,
   "id": "94f0c03a",
   "metadata": {},
   "outputs": [
    {
     "name": "stdout",
     "output_type": "stream",
     "text": [
      "Number of trials: 24\n"
     ]
    }
   ],
   "source": [
    "# Get the number of trials\n",
    "n_trials = len(nwbfile.trials)\n",
    "print('Number of trials: {}'.format(n_trials))"
   ]
  },
  {
   "cell_type": "code",
   "execution_count": 14,
   "id": "26354040",
   "metadata": {},
   "outputs": [],
   "source": [
    "# Extract behavioural markers of interest\n",
    "nav_starts = nwbfile.trials['navigation_start'].data[:]\n",
    "chest_openings = nwbfile.trials['chest_opening_time'][:]"
   ]
  },
  {
   "cell_type": "markdown",
   "id": "c377f6a8",
   "metadata": {},
   "source": [
    "#### Get Unit Data"
   ]
  },
  {
   "cell_type": "code",
   "execution_count": 15,
   "id": "0c25c622",
   "metadata": {},
   "outputs": [
    {
     "name": "stdout",
     "output_type": "stream",
     "text": [
      "Number of units: 81\n",
      "Number to keep:  57\n"
     ]
    }
   ],
   "source": [
    "# Check the number of units & keep indices\n",
    "n_units = len(nwbfile.units)\n",
    "keep_inds = np.where(nwbfile.units.keep[:])[0]\n",
    "n_keep = len(keep_inds)\n",
    "print('Number of units: {}'.format(n_units))\n",
    "print('Number to keep:  {}'.format(n_keep))"
   ]
  },
  {
   "cell_type": "code",
   "execution_count": 16,
   "id": "0a704dd6",
   "metadata": {},
   "outputs": [],
   "source": [
    "# Get spikes\n",
    "spikes = nwbfile.units.get_unit_spike_times(uind)"
   ]
  },
  {
   "cell_type": "markdown",
   "id": "3a2129b6",
   "metadata": {},
   "source": [
    "#### Get Position Data"
   ]
  },
  {
   "cell_type": "code",
   "execution_count": 17,
   "id": "9956705e",
   "metadata": {},
   "outputs": [],
   "source": [
    "# Extract the position data\n",
    "ptimes = nwbfile.acquisition['position']['player_position'].timestamps[:]\n",
    "positions = nwbfile.acquisition['position']['player_position'].data[:].T"
   ]
  },
  {
   "cell_type": "code",
   "execution_count": 18,
   "id": "805c75c6",
   "metadata": {},
   "outputs": [],
   "source": [
    "# Get the chest positions & trial indices\n",
    "chest_xs, chest_ys = nwbfile.acquisition['stimuli']['chest_positions'].data[:].T\n",
    "chest_trials = nwbfile.trials.chest_trials[:]"
   ]
  },
  {
   "cell_type": "markdown",
   "id": "c98bb323",
   "metadata": {},
   "source": [
    "# Single Trial"
   ]
  },
  {
   "cell_type": "code",
   "execution_count": 19,
   "id": "6ed0b976",
   "metadata": {},
   "outputs": [],
   "source": [
    "# Get trial information\n",
    "t_ind = 10\n",
    "t_st = nwbfile.trials['navigation_start'][t_ind]\n",
    "ch_openings = nwbfile.trials['chest_opening_time'][t_ind]\n",
    "t_en = ch_openings[-1]"
   ]
  },
  {
   "cell_type": "code",
   "execution_count": 20,
   "id": "fa8f7544",
   "metadata": {},
   "outputs": [],
   "source": [
    "# Get the chests for the current trial\n",
    "t_mask = chest_trials == t_ind"
   ]
  },
  {
   "cell_type": "code",
   "execution_count": 21,
   "id": "eb2d7e5c",
   "metadata": {},
   "outputs": [],
   "source": [
    "# Select chest openings for the current trial\n",
    "t_time, t_pos = get_value_by_time_range(ptimes, positions, t_st, t_en)\n",
    "ch_times = [get_value_by_time(t_time, t_pos, ch_op) for ch_op in ch_openings]"
   ]
  },
  {
   "cell_type": "code",
   "execution_count": 22,
   "id": "ae6729f9",
   "metadata": {},
   "outputs": [],
   "source": [
    "# Restrict spikes to the selected trial\n",
    "t_spikes = restrict_range(spikes, t_st, t_en)\n",
    "t_spike_xs, t_spike_ys = get_spike_positions(t_spikes, t_time, t_pos)\n",
    "spike_positions = np.array([t_spike_xs, t_spike_ys])"
   ]
  },
  {
   "cell_type": "code",
   "execution_count": 23,
   "id": "460d2b59",
   "metadata": {},
   "outputs": [
    {
     "data": {
      "image/png": "[encoded data removed]",
      "text/plain": [
       "<Figure size 360x504 with 1 Axes>"
      ]
     },
     "metadata": {
      "needs_background": "light"
     },
     "output_type": "display_data"
    }
   ],
   "source": [
    "# Plot an encoding trial: with traversals, chest locations, and spike firing\n",
    "tspikes = {'positions' : np.array([t_spike_xs, t_spike_ys]), 'ms' : 10, 'alpha' : 0.6}\n",
    "landmarks = [{'positions' : np.array([chest_xs[t_mask], chest_ys[t_mask]]),\n",
    "              'color' : 'green', 'ms' : 50, 'alpha' : 0.25},\n",
    "             {'positions' : np.atleast_2d(t_pos[:, 0]).T, 'color' : 'blue', 'ms' : 15},\n",
    "             {'positions' : np.array(ch_times).T, 'color' : 'y', 'ms' : 15}]\n",
    "plot_positions(t_pos, tspikes, landmarks, alpha=0.75, figsize=(5, 7))"
   ]
  },
  {
   "cell_type": "markdown",
   "id": "3d9708ec",
   "metadata": {},
   "source": [
    "# Serial Position"
   ]
  },
  {
   "cell_type": "markdown",
   "id": "72bdd42d",
   "metadata": {},
   "source": [
    "### Single Trial"
   ]
  },
  {
   "cell_type": "code",
   "execution_count": 24,
   "id": "57b1ee99",
   "metadata": {},
   "outputs": [],
   "source": [
    "# Get the length of time between segments (chest openings)\n",
    "seg_times = np.diff(np.insert(ch_openings, 0, t_st))"
   ]
  },
  {
   "cell_type": "code",
   "execution_count": 25,
   "id": "60f52a8b",
   "metadata": {},
   "outputs": [],
   "source": [
    "# Count firing in each segment, and compute firing rate\n",
    "count = Counter({0 : 0, 1 : 0, 2 : 0, 3 : 0})\n",
    "count.update(np.digitize(t_spikes, ch_openings))\n",
    "frs = np.array(list(count.values())) / seg_times"
   ]
  },
  {
   "cell_type": "code",
   "execution_count": 26,
   "id": "70522438",
   "metadata": {},
   "outputs": [
    {
     "data": {
      "image/png": "[encoded data removed]",
      "text/plain": [
       "<Figure size 432x288 with 1 Axes>"
      ]
     },
     "metadata": {
      "needs_background": "light"
     },
     "output_type": "display_data"
    }
   ],
   "source": [
    "# Plot firing rate per segment (single trial)\n",
    "plot_bar(frs, count.keys())"
   ]
  },
  {
   "cell_type": "markdown",
   "id": "460641d7",
   "metadata": {},
   "source": [
    "### All Trials"
   ]
  },
  {
   "cell_type": "code",
   "execution_count": 27,
   "id": "778c6a49",
   "metadata": {},
   "outputs": [],
   "source": [
    "# Compute firing rates per segment for all trials\n",
    "all_frs = compute_serial_position_fr(spikes, nav_starts, chest_openings, chest_trials)"
   ]
  },
  {
   "cell_type": "code",
   "execution_count": 28,
   "id": "45fe4bad",
   "metadata": {
    "scrolled": true
   },
   "outputs": [
    {
     "data": {
      "image/png": "[encoded data removed]",
      "text/plain": [
       "<Figure size 432x288 with 1 Axes>"
      ]
     },
     "metadata": {
      "needs_background": "light"
     },
     "output_type": "display_data"
    }
   ],
   "source": [
    "# Plot firing rates per segment across all trials\n",
    "plot_bar(all_frs.mean(0), count.keys(), yerr=sem(all_frs, 0))"
   ]
  },
  {
   "cell_type": "markdown",
   "id": "7ebef8aa",
   "metadata": {},
   "source": [
    "## Statistical Analyses"
   ]
  },
  {
   "cell_type": "code",
   "execution_count": 29,
   "id": "7375c8be",
   "metadata": {},
   "outputs": [],
   "source": [
    "# Create shuffled time series for comparison\n",
    "times_shuffle = shuffle_spikes(spikes, shuffle_approach, n_surrogates, **shuffle_kwargs)"
   ]
  },
  {
   "cell_type": "markdown",
   "id": "c1cbc062",
   "metadata": {},
   "source": [
    "## Segment"
   ]
  },
  {
   "cell_type": "code",
   "execution_count": 30,
   "id": "3438dbda",
   "metadata": {},
   "outputs": [],
   "source": [
    "# compute the firing rate per segement across trials on surrogates\n",
    "all_surrs = np.zeros(shape=[n_surrogates, 4])\n",
    "for ind, stimes in enumerate(times_shuffle):\n",
    "    surrs_frs = compute_serial_position_fr(stimes, nav_starts, chest_openings, chest_trials) \n",
    "    all_surrs[ind] = np.mean(surrs_frs, 0)"
   ]
  },
  {
   "cell_type": "code",
   "execution_count": 31,
   "id": "8b17482b",
   "metadata": {},
   "outputs": [],
   "source": [
    "# Compute the empirical p-values and z-scores for each segment\n",
    "p_vals = [compute_empirical_pvalue(all_frs.mean(0)[ind], all_surrs[:, ind]) for ind in range(4)]\n",
    "z_scores = [zscore_to_surrogates(all_frs.mean(0)[ind], all_surrs[:, ind]) for ind in range(4)]"
   ]
  },
  {
   "cell_type": "code",
   "execution_count": 32,
   "id": "67adabcb",
   "metadata": {},
   "outputs": [
    {
     "data": {
      "image/png": "[encoded data removed]",
      "text/plain": [
       "<Figure size 1296x288 with 5 Axes>"
      ]
     },
     "metadata": {
      "needs_background": "light"
     },
     "output_type": "display_data"
    }
   ],
   "source": [
    "# Plot distribution of surrogates with measured empirical value for each segment (seg1, seg2, seg3, seg4)\n",
    "for ii, ax in zip(range(4), make_axes(4, wspace=0.4)):\n",
    "    plot_surrogates(all_surrs[:,ii], all_frs.mean(0)[ii], ax=ax)\n",
    "    title = 'Seg{}: z-{:1.2f}, p-{:1.2f}'.format(ii, z_scores[ii], p_vals[ii])\n",
    "    ax.set_title(title, fontdict={'fontsize' : 15}, color=color_pval(p_vals[ii]));"
   ]
  },
  {
   "cell_type": "code",
   "execution_count": 33,
   "id": "a44a0d63",
   "metadata": {},
   "outputs": [
    {
     "data": {
      "image/png": "[encoded data removed]",
      "text/plain": [
       "<Figure size 432x288 with 1 Axes>"
      ]
     },
     "metadata": {
      "needs_background": "light"
     },
     "output_type": "display_data"
    }
   ],
   "source": [
    "# Plot firing rates per segment across all trials, indicating shuffle significance\n",
    "plot_bar(all_frs.mean(0), count.keys(), yerr=sem(all_frs, 0))\n",
    "ax=plt.gca()\n",
    "for ind, p_val in enumerate(p_vals):\n",
    "    if p_val < 0.05:\n",
    "        ax.text(ind, ax.get_ylim()[1]-0.15*ax.get_ylim()[1],\n",
    "                '*', c='red', fontdict={'fontsize' : 25}, ha='center')"
   ]
  },
  {
   "cell_type": "markdown",
   "id": "34f71a55",
   "metadata": {},
   "source": [
    "## ANOVA Analysis"
   ]
  },
  {
   "cell_type": "code",
   "execution_count": 34,
   "id": "7bc7abc1",
   "metadata": {},
   "outputs": [],
   "source": [
    "# Create dataframe\n",
    "df = create_df_serial(all_frs)"
   ]
  },
  {
   "cell_type": "code",
   "execution_count": 35,
   "id": "6610c7b9",
   "metadata": {},
   "outputs": [
    {
     "data": {
      "text/plain": [
       "0.6402260571362254"
      ]
     },
     "execution_count": 35,
     "metadata": {},
     "output_type": "execute_result"
    }
   ],
   "source": [
    "# Fit the ANOVA, and get f-value\n",
    "f_val = fit_anova_serial(df)\n",
    "f_val"
   ]
  },
  {
   "cell_type": "code",
   "execution_count": 36,
   "id": "e00a70cc",
   "metadata": {},
   "outputs": [],
   "source": [
    "# Compute measures across shuffled time series for comparison\n",
    "surrogates = np.zeros(n_surrogates)\n",
    "for ind, shuffle in enumerate(times_shuffle):\n",
    "    all_frs = compute_serial_position_fr(shuffle, nav_starts, chest_openings, chest_trials)\n",
    "    df = create_df_serial(all_frs)\n",
    "    surrogates[ind] = fit_anova_serial(df)"
   ]
  },
  {
   "cell_type": "code",
   "execution_count": 37,
   "id": "1aa965b3",
   "metadata": {},
   "outputs": [
    {
     "name": "stdout",
     "output_type": "stream",
     "text": [
      "p-value: 0.26\n",
      "z-score: 0.43\n"
     ]
    },
    {
     "data": {
      "image/png": "[encoded data removed]",
      "text/plain": [
       "<Figure size 432x288 with 1 Axes>"
      ]
     },
     "metadata": {
      "needs_background": "light"
     },
     "output_type": "display_data"
    }
   ],
   "source": [
    "# Compute surrogate statistics\n",
    "p_val, z_score = compute_surrogate_stats(f_val, surrogates)"
   ]
  },
  {
   "cell_type": "markdown",
   "id": "c9759235",
   "metadata": {},
   "source": [
    "# All Cells"
   ]
  },
  {
   "cell_type": "code",
   "execution_count": 38,
   "id": "be530146",
   "metadata": {},
   "outputs": [],
   "source": [
    "# # Plot the firing rate per segment across trials for all units\n",
    "# p_val, z_score = '', ''\n",
    "# for ii, ax in zip(keep_inds, make_axes(n_keep, hspace=0.4, wspace=0.4)):\n",
    "\n",
    "#     spikes = nwbfile.units.get_unit_spike_times(ii)    \n",
    "    \n",
    "#     all_frs = compute_serial_position_fr(spikes, nav_starts, chest_openings, chest_trials)\n",
    "\n",
    "#     if METHOD == 'ANOVA':\n",
    "#         data_value = fit_anova_serial(create_df_serial(all_frs))\n",
    "    \n",
    "#     # Shuffle analysis\n",
    "#     if METHOD == 'SEGMENT':\n",
    "#         surrogates = np.zeros(shape=[n_surrogates, 4])\n",
    "#     if METHOD == 'ANOVA':\n",
    "#         surrogates = np.zeros(n_surrogates)\n",
    "#     times_shuffle = shuffle_spikes(spikes, shuffle_approach, n_surrogates, **shuffle_kwargs)\n",
    "#     for ind, shuffle in enumerate(times_shuffle):\n",
    "\n",
    "#         all_frs = compute_serial_position_fr(shuffle, nav_starts, chest_openings, chest_trials)\n",
    "        \n",
    "#         if METHOD == 'ANOVA':\n",
    "#             surrogates[ind] = fit_anova_serial(create_df_serial(all_frs))\n",
    "#         if METHOD == 'SEGMENT':\n",
    "#             surrs_frs = compute_serial_position_fr(shuffle, nav_starts, chest_openings, chest_trials) \n",
    "#             surrogates[ind] = np.mean(surrs_frs, 0)\n",
    "\n",
    "#     if METHOD == 'SEGMENT':\n",
    "#         p_vals = [compute_empirical_pvalue(all_frs.mean(0)[ind], surrogates[:, ind]) for ind in range(4)]\n",
    "#         z_scores = [zscore_to_surrogates(all_frs.mean(0)[ind], surrogates[:, ind]) for ind in range(4)]\n",
    "#         title = 'U{}'.format(ii)\n",
    "#         color = 'black'\n",
    "        \n",
    "#     if METHOD == 'ANOVA':\n",
    "#         p_val, z_score = compute_surrogate_stats(data_value, surrogates, plot=False, verbose=False)\n",
    "#         title = 'U{} \\n z-{:1.2f}, p-{:1.2f}'.format(ii, z_score, p_val)\n",
    "#         color = color_pval(p_val)\n",
    "\n",
    "#     plot_bar(all_frs.mean(0), count.keys(), yerr=sem(all_frs, 0), ax=ax)\n",
    "#     ax.set_title(title, fontdict={'fontsize' : 12}, color=color)\n",
    "    \n",
    "#     if METHOD == 'SEGMENT':\n",
    "#         for ind, p_val in enumerate(p_vals):\n",
    "#             if p_val < 0.05:\n",
    "#                 ax.text(ind, ax.get_ylim()[1]-0.15*ax.get_ylim()[1],\n",
    "#                         '*', c='red', fontdict={'fontsize' : 25}, ha='center')"
   ]
  }
 ],
 "metadata": {
  "kernelspec": {
   "display_name": "Python 3 (ipykernel)",
   "language": "python",
   "name": "python3"
  },
  "language_info": {
   "codemirror_mode": {
    "name": "ipython",
    "version": 3
   },
   "file_extension": ".py",
   "mimetype": "text/x-python",
   "name": "python",
   "nbconvert_exporter": "python",
   "pygments_lexer": "ipython3",
   "version": "3.8.11"
  }
 },
 "nbformat": 4,
 "nbformat_minor": 5
}
