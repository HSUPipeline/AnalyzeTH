{
 "cells": [
  {
   "cell_type": "code",
   "execution_count": 2,
   "id": "0a0529f2",
   "metadata": {},
   "outputs": [],
   "source": [
    "%config Completer.use_jedi = False"
   ]
  },
  {
   "cell_type": "code",
   "execution_count": 3,
   "id": "fbe460bd",
   "metadata": {},
   "outputs": [],
   "source": [
    "from pathlib import Path\n",
    "\n",
    "import numpy as np\n",
    "\n",
    "from convnwb.io import load_nwbfile\n",
    "\n",
    "from spiketools.measures.trials import compute_segment_frs\n",
    "from spiketools.measures.conversions import convert_times_to_rates\n",
    "from spiketools.spatial.occupancy import compute_bin_counts_assgn, compute_bin_edges, compute_bin_assignment\n",
    "from spiketools.spatial.information import compute_spatial_information\n",
    "from spiketools.spatial.utils import compute_nbins, compute_pos_ranges, convert_2dindices\n",
    "from spiketools.spatial.target import compute_target_bins\n",
    "from spiketools.stats.shuffle import shuffle_spikes\n",
    "from spiketools.stats.permutations import compute_surrogate_stats\n",
    "from spiketools.plts.data import plot_bar\n",
    "from spiketools.plts.spatial import plot_heatmap, plot_positions, create_heat_title\n",
    "from spiketools.plts.utils import make_axes\n",
    "# from spiketools.plts.annotate import color_pval\n",
    "from spiketools.utils import set_random_seed\n",
    "from spiketools.utils.data import compute_range\n",
    "from spiketools.utils.extract import (get_range, get_value_by_time, get_values_by_time_range,\n",
    "                                      get_values_by_times, threshold_spikes_by_times)\n",
    "from spiketools.utils.epoch import epoch_data_by_range, epoch_spikes_by_segment\n",
    "\n",
    "##################################################\n",
    "import matplotlib.pyplot as plt\n",
    "from convnwb.io import get_files, save_json\n",
    "from pynwb import NWBHDF5IO\n",
    "\n",
    "from spiketools.utils.base import select_from_list\n",
    "from spiketools.measures.spikes import compute_firing_rate\n",
    "from spiketools.plts.utils import make_axes, make_grid, get_grid_subplot, save_figure"
   ]
  },
  {
   "cell_type": "code",
   "execution_count": 4,
   "id": "fa5a21b1",
   "metadata": {},
   "outputs": [],
   "source": [
    "import seaborn as sns\n",
    "sns.set_context('talk')"
   ]
  },
  {
   "cell_type": "code",
   "execution_count": 5,
   "id": "f55e4925",
   "metadata": {},
   "outputs": [],
   "source": [
    "import sys\n",
    "sys.path.append('../code')\n",
    "from models import create_df_target, fit_anova_target\n",
    "from reports import *"
   ]
  },
  {
   "cell_type": "markdown",
   "id": "d2ccc526",
   "metadata": {},
   "source": [
    "## Settings"
   ]
  },
  {
   "cell_type": "code",
   "execution_count": 6,
   "id": "9074e6ed",
   "metadata": {},
   "outputs": [],
   "source": [
    "# Set random seed, for consistency shuffling\n",
    "set_random_seed(101)"
   ]
  },
  {
   "cell_type": "code",
   "execution_count": 7,
   "id": "8f016c78",
   "metadata": {},
   "outputs": [],
   "source": [
    "# Define the base data folder\n",
    "data_folder = Path('/Users/clairehan/Documents/Data/JacobsLab/WVTH/NWB')"
   ]
  },
  {
   "cell_type": "code",
   "execution_count": 8,
   "id": "76aba3d1",
   "metadata": {},
   "outputs": [],
   "source": [
    "# Define subject information\n",
    "session = {\n",
    "    'experiment' : 'THF',\n",
    "    'subject' : 'wv001',\n",
    "    'session' : 3\n",
    "}"
   ]
  },
  {
   "cell_type": "code",
   "execution_count": 9,
   "id": "9b60f38f",
   "metadata": {
    "scrolled": true
   },
   "outputs": [],
   "source": [
    "BASE_PATH = Path('/Users/clairehan/Documents/Data/JacobsLab/WVTH/')\n",
    "DATA_PATH = BASE_PATH / 'NWB'\n",
    "\n",
    "PATHS = {\n",
    "    'BASE' : BASE_PATH,\n",
    "    'DATA' : DATA_PATH\n",
    "}\n",
    "\n",
    "nwbfiles = get_files(PATHS['DATA'])"
   ]
  },
  {
   "cell_type": "code",
   "execution_count": 10,
   "id": "6e40d46f",
   "metadata": {},
   "outputs": [
    {
     "data": {
      "text/plain": [
       "array([12.77042155, 19.03389096, 14.59850223, 31.39324504, 13.38312127,\n",
       "       54.66060056, 29.50910417, 43.73788657, 39.57787423,  3.22612177,\n",
       "        3.63622814, 44.45746722, 41.46902835, 53.73914292,  8.85010014,\n",
       "       11.11199246, 10.42221368, 10.75640853, 22.71083231, 11.15706227,\n",
       "       18.15696471, 50.05502888, 33.39680329, 11.58630197,  5.93852116,\n",
       "       27.01795945, 20.0148335 , 23.47486754, 30.30194958, 44.71587078,\n",
       "       42.2831165 , 35.02711937, 46.89381935,  2.01517632,  0.82439529,\n",
       "        7.98830465,  5.88241333, 34.89175743, 15.36153381,  4.22376996,\n",
       "       14.01570125, 20.13369147, 16.08780763, 17.52439915, 22.75302541,\n",
       "       15.69265052,  9.26154382,  4.86023482, 10.1290374 ,  0.9958909 ,\n",
       "        5.36792788, 27.0396187 ,  8.93529611,  3.41321116,  9.58685217,\n",
       "       12.09173679, 19.47290041,  7.44742704,  4.71584394, 11.3708505 ])"
      ]
     },
     "execution_count": 10,
     "metadata": {},
     "output_type": "execute_result"
    }
   ],
   "source": [
    "# Load NWB file\n",
    "nwbfile = load_nwbfile(session, data_folder)\n",
    "error = nwbfile.trials.error[:]\n",
    "error"
   ]
  },
  {
   "cell_type": "markdown",
   "id": "5ebe4700",
   "metadata": {},
   "source": [
    "### All sessions"
   ]
  },
  {
   "cell_type": "code",
   "execution_count": 12,
   "id": "740e5ae6",
   "metadata": {
    "scrolled": true
   },
   "outputs": [
    {
     "data": {
      "text/plain": [
       "(['THF_wv001_session_0.nwb',\n",
       "  'THF_wv001_session_2.nwb',\n",
       "  'THF_wv001_session_3.nwb',\n",
       "  'THF_wv001_session_4.nwb',\n",
       "  'THF_wv002_session_0.nwb',\n",
       "  'THF_wv002_session_1.nwb',\n",
       "  'THF_wv003_session_0.nwb',\n",
       "  'THF_wv004_session_0.nwb',\n",
       "  'THF_wv004_session_1.nwb',\n",
       "  'THF_wv005_session_0.nwb'],\n",
       " ['THO_wv001_session_0.nwb',\n",
       "  'THO_wv001_session_2.nwb',\n",
       "  'THO_wv002_session_0.nwb',\n",
       "  'THO_wv002_session_2.nwb',\n",
       "  'THO_wv003_session_0.nwb',\n",
       "  'THO_wv003_session_1.nwb',\n",
       "  'THO_wv004_session_0.nwb',\n",
       "  'THO_wv004_session_1.nwb',\n",
       "  'THO_wv004_session_2.nwb',\n",
       "  'THO_wv004_session_3.nwb',\n",
       "  'THO_wv005_session_0.nwb'])"
      ]
     },
     "execution_count": 12,
     "metadata": {},
     "output_type": "execute_result"
    }
   ],
   "source": [
    "nwbfiles_THF = nwbfiles[0:10]\n",
    "nwbfiles_THO = nwbfiles[10:21]\n",
    "nwbfiles_THF, nwbfiles_THO"
   ]
  },
  {
   "cell_type": "markdown",
   "id": "bc8e70d0",
   "metadata": {},
   "source": [
    "## Significant overlap between tasks"
   ]
  },
  {
   "cell_type": "markdown",
   "id": "d20a60d2",
   "metadata": {},
   "source": [
    "## Group area proportions"
   ]
  },
  {
   "cell_type": "markdown",
   "id": "6f2a0a81",
   "metadata": {},
   "source": [
    "### Serial position cell distribution"
   ]
  },
  {
   "cell_type": "code",
   "execution_count": 36,
   "id": "7608dc6b",
   "metadata": {},
   "outputs": [],
   "source": [
    "serial_total_f = (121/643)*100\n",
    "serial_total_o = (101/609)*100\n",
    "# serial_total = 198\n",
    "\n",
    "amg_f = (61/332)*100\n",
    "amg_o = (74/338)*100\n",
    "amg_total = ((61+74)/(338+332))*100\n",
    "ah_f = (29/168)*100\n",
    "ah_o = (21/121)*100\n",
    "ah_total = ((29+21)/(168+121))*100\n",
    "ph_f = (18/143)*100\n",
    "ph_o = (21/150)*100\n",
    "ph_total = ((18+21)/(143+150))*100\n",
    "\n",
    "all_total = (222/1198)*100\n",
    "chance = 5"
   ]
  },
  {
   "cell_type": "code",
   "execution_count": 37,
   "id": "8b8dfd40",
   "metadata": {},
   "outputs": [],
   "source": [
    "THF_dic_area = {\n",
    "    'Total':'121/643',\n",
    "    'Amg':'61/332',\n",
    "    'Anterior Hippo':'29/168',\n",
    "    'Posterior Hippo':'18/143',\n",
    "}\n",
    "\n",
    "THO_dic_area = {\n",
    "    'Total':'101/609',\n",
    "    'Amg':'59/338',\n",
    "    'Anterior Hippo':'21/121',\n",
    "    'Posterior Hippo':'21/150',\n",
    "}\n",
    "\n",
    "THF_dic_percent = {\n",
    "    'total':serial_total_f,\n",
    "    'Amg':amg_f,\n",
    "    'Anterior Hippo':ah_f,\n",
    "    'Posterior Hippo':ph_f,\n",
    "}\n",
    "\n",
    "THO_dic_percent = {\n",
    "    'total': serial_total_o, \n",
    "    'Amg':amg_o,\n",
    "    'Anterior Hippo':ah_o,\n",
    "    'Posterior Hippo':ph_o,\n",
    "}\n",
    "\n",
    "# total_area = {\n",
    "#     'Total': '198/1190',\n",
    "#     'AMG':'106/616',\n",
    "#     'AH':'55/285',\n",
    "#     'PH':'37/289'\n",
    "# }\n",
    "\n",
    "# total_percent = {\n",
    "#     'Total':all_total,\n",
    "#     'AMG':amg_total,\n",
    "#     'AH':ah_total,\n",
    "#     'PH':ph_total\n",
    "# }"
   ]
  },
  {
   "cell_type": "code",
   "execution_count": 38,
   "id": "130a41f0",
   "metadata": {
    "scrolled": false
   },
   "outputs": [
    {
     "data": {
      "image/png": "[encoded data removed]",
      "text/plain": [
       "<Figure size 720x324 with 1 Axes>"
      ]
     },
     "metadata": {
      "needs_background": "light"
     },
     "output_type": "display_data"
    }
   ],
   "source": [
    "labels = ['TOTAL', 'AMG', 'AH', 'PH']\n",
    "THF_count = THF_dic_area.values()\n",
    "THO_count = THO_dic_area.values()\n",
    "\n",
    "THF_percent = THF_dic_percent.values()\n",
    "THO_percent = THO_dic_percent.values()\n",
    "\n",
    "x = np.arange(len(labels))  # the label locations\n",
    "width = 0.4  # the width of the bars\n",
    "\n",
    "fig = plt.figure(figsize = (10, 4.5))\n",
    "ax = fig.add_subplot(111)\n",
    "rects1 = ax.bar(x-width/2, THF_percent, width, label='Face', color='C0')\n",
    "rects2 = ax.bar(x + width/2, THO_percent, width, label='Object', color='C1')\n",
    "\n",
    "ax.set(ylabel='Significant cells (%)')\n",
    "ax.set_xticks(x)\n",
    "ax.set_xticklabels(labels) \n",
    "ax.legend()\n",
    "\n",
    "ax.bar_label(rects1, THF_count, label_type='center', fontsize=12, color='white')\n",
    "ax.bar_label(rects2, THO_count, label_type='center', fontsize=12, color='white')\n",
    "\n",
    "ax.spines.right.set_visible(False)\n",
    "ax.spines.top.set_visible(False)\n",
    "ax.yaxis.set_ticks_position('left')\n",
    "ax.xaxis.set_ticks_position('bottom')\n",
    "\n",
    "# horizontal line indicating the threshold\n",
    "plt.axhline(y=chance, color='k', linestyle='--')\n",
    "\n",
    "ax.text(-0.31, 19, '***')\n",
    "ax.text(0.08, 16.6, '***')\n",
    "ax.text(0.69, 18.5, '***')\n",
    "ax.text(1.08, 22, '***')\n",
    "ax.text(1.68, 17.3, '***')\n",
    "ax.text(2.08, 17.4, '***')\n",
    "ax.text(2.68, 12.6, '***')\n",
    "ax.text(3.08, 14, '***')\n",
    "\n",
    "plt.xticks(fontsize=25)\n",
    "plt.yticks(fontsize=25)\n",
    "plt.ylabel('Significant cells (%)', fontsize=25)\n",
    "\n",
    "save_figure('serial_population' + '.svg', '/Users/clairehan/Desktop', close=False, bbox_inches='tight')"
   ]
  },
  {
   "cell_type": "code",
   "execution_count": 52,
   "id": "14d8da58",
   "metadata": {},
   "outputs": [
    {
     "data": {
      "text/plain": [
       "0.0003021079545420941"
      ]
     },
     "execution_count": 52,
     "metadata": {},
     "output_type": "execute_result"
    }
   ],
   "source": [
    "from scipy import stats\n",
    "stats.binom_test(18, n=143, p=0.05, alternative='greater') "
   ]
  },
  {
   "cell_type": "code",
   "execution_count": 70,
   "id": "9f708c87",
   "metadata": {},
   "outputs": [
    {
     "data": {
      "text/plain": [
       "0.0003021079545420941"
      ]
     },
     "execution_count": 70,
     "metadata": {},
     "output_type": "execute_result"
    }
   ],
   "source": [
    "stats.binom_test(18, n=143, p=0.05, alternative='greater') "
   ]
  },
  {
   "cell_type": "markdown",
   "id": "98e38988",
   "metadata": {},
   "source": [
    "### Place cell distribution"
   ]
  },
  {
   "cell_type": "code",
   "execution_count": 47,
   "id": "3ef4315b",
   "metadata": {},
   "outputs": [],
   "source": [
    "place_total_f = (28/602)*100\n",
    "place_total_o = (36/516)*100\n",
    "place_total = 64\n",
    "\n",
    "amg_f = (12/332)*100\n",
    "amg_o = (16/284)*100\n",
    "# amg_total = ((69+37)/(332+284))*100\n",
    "ah_f = (8/168)*100\n",
    "ah_o = (7/117)*100\n",
    "# ah_total = ((30+25)/(168+117))*100\n",
    "ph_f = (8/146)*100\n",
    "ph_o = (13/143)*100\n",
    "# ph_total = ((19+18)/(146+143))*100\n",
    "\n",
    "all_total = (64/1190)*100\n",
    "chance = 5"
   ]
  },
  {
   "cell_type": "code",
   "execution_count": 104,
   "id": "154bd912",
   "metadata": {},
   "outputs": [
    {
     "ename": "NameError",
     "evalue": "name 'place_total_f' is not defined",
     "output_type": "error",
     "traceback": [
      "\u001b[0;31m---------------------------------------------------------------------------\u001b[0m",
      "\u001b[0;31mNameError\u001b[0m                                 Traceback (most recent call last)",
      "Input \u001b[0;32mIn [104]\u001b[0m, in \u001b[0;36m<cell line: 16>\u001b[0;34m()\u001b[0m\n\u001b[1;32m      1\u001b[0m THF_dic_area \u001b[38;5;241m=\u001b[39m {\n\u001b[1;32m      2\u001b[0m     \u001b[38;5;124m'\u001b[39m\u001b[38;5;124mTotal\u001b[39m\u001b[38;5;124m'\u001b[39m: \u001b[38;5;124m'\u001b[39m\u001b[38;5;124m28/602\u001b[39m\u001b[38;5;124m'\u001b[39m,\n\u001b[1;32m      3\u001b[0m     \u001b[38;5;124m'\u001b[39m\u001b[38;5;124mAmg\u001b[39m\u001b[38;5;124m'\u001b[39m:\u001b[38;5;124m'\u001b[39m\u001b[38;5;124m12/332\u001b[39m\u001b[38;5;124m'\u001b[39m,\n\u001b[1;32m      4\u001b[0m     \u001b[38;5;124m'\u001b[39m\u001b[38;5;124mAnterior Hippo\u001b[39m\u001b[38;5;124m'\u001b[39m:\u001b[38;5;124m'\u001b[39m\u001b[38;5;124m8/168\u001b[39m\u001b[38;5;124m'\u001b[39m,\n\u001b[1;32m      5\u001b[0m     \u001b[38;5;124m'\u001b[39m\u001b[38;5;124mPosterior Hippo\u001b[39m\u001b[38;5;124m'\u001b[39m:\u001b[38;5;124m'\u001b[39m\u001b[38;5;124m8/146\u001b[39m\u001b[38;5;124m'\u001b[39m,\n\u001b[1;32m      6\u001b[0m }\n\u001b[1;32m      8\u001b[0m THO_dic_area \u001b[38;5;241m=\u001b[39m {\n\u001b[1;32m      9\u001b[0m     \u001b[38;5;124m'\u001b[39m\u001b[38;5;124mTotal\u001b[39m\u001b[38;5;124m'\u001b[39m: \u001b[38;5;124m'\u001b[39m\u001b[38;5;124m36/516\u001b[39m\u001b[38;5;124m'\u001b[39m,\n\u001b[1;32m     10\u001b[0m     \u001b[38;5;124m'\u001b[39m\u001b[38;5;124mAmg\u001b[39m\u001b[38;5;124m'\u001b[39m:\u001b[38;5;124m'\u001b[39m\u001b[38;5;124m16/284\u001b[39m\u001b[38;5;124m'\u001b[39m,\n\u001b[1;32m     11\u001b[0m     \u001b[38;5;124m'\u001b[39m\u001b[38;5;124mAnterior Hippo\u001b[39m\u001b[38;5;124m'\u001b[39m:\u001b[38;5;124m'\u001b[39m\u001b[38;5;124m7/117\u001b[39m\u001b[38;5;124m'\u001b[39m,\n\u001b[1;32m     12\u001b[0m     \u001b[38;5;124m'\u001b[39m\u001b[38;5;124mPosterior Hippo\u001b[39m\u001b[38;5;124m'\u001b[39m:\u001b[38;5;124m'\u001b[39m\u001b[38;5;124m13/143\u001b[39m\u001b[38;5;124m'\u001b[39m,\n\u001b[1;32m     13\u001b[0m }\n\u001b[1;32m     15\u001b[0m THF_dic_percent \u001b[38;5;241m=\u001b[39m {\n\u001b[0;32m---> 16\u001b[0m     \u001b[38;5;124m'\u001b[39m\u001b[38;5;124mTotal\u001b[39m\u001b[38;5;124m'\u001b[39m:\u001b[43mplace_total_f\u001b[49m,\n\u001b[1;32m     17\u001b[0m     \u001b[38;5;124m'\u001b[39m\u001b[38;5;124mAmg\u001b[39m\u001b[38;5;124m'\u001b[39m:amg_f,\n\u001b[1;32m     18\u001b[0m     \u001b[38;5;124m'\u001b[39m\u001b[38;5;124mAnterior Hippo\u001b[39m\u001b[38;5;124m'\u001b[39m:ah_f,\n\u001b[1;32m     19\u001b[0m     \u001b[38;5;124m'\u001b[39m\u001b[38;5;124mPosterior Hippo\u001b[39m\u001b[38;5;124m'\u001b[39m:ph_f,\n\u001b[1;32m     20\u001b[0m }\n\u001b[1;32m     22\u001b[0m THO_dic_percent \u001b[38;5;241m=\u001b[39m {\n\u001b[1;32m     23\u001b[0m     \u001b[38;5;124m'\u001b[39m\u001b[38;5;124mTotal\u001b[39m\u001b[38;5;124m'\u001b[39m:place_total_o,\n\u001b[1;32m     24\u001b[0m     \u001b[38;5;124m'\u001b[39m\u001b[38;5;124mAmg\u001b[39m\u001b[38;5;124m'\u001b[39m:amg_o,\n\u001b[1;32m     25\u001b[0m     \u001b[38;5;124m'\u001b[39m\u001b[38;5;124mAnterior Hippo\u001b[39m\u001b[38;5;124m'\u001b[39m:ah_o,\n\u001b[1;32m     26\u001b[0m     \u001b[38;5;124m'\u001b[39m\u001b[38;5;124mPosterior Hippo\u001b[39m\u001b[38;5;124m'\u001b[39m:ph_o,\n\u001b[1;32m     27\u001b[0m }\n",
      "\u001b[0;31mNameError\u001b[0m: name 'place_total_f' is not defined"
     ]
    }
   ],
   "source": [
    "THF_dic_area = {\n",
    "    'Total': '28/602',\n",
    "    'Amg':'12/332',\n",
    "    'Anterior Hippo':'8/168',\n",
    "    'Posterior Hippo':'8/146',\n",
    "}\n",
    "\n",
    "THO_dic_area = {\n",
    "    'Total': '36/516',\n",
    "    'Amg':'16/284',\n",
    "    'Anterior Hippo':'7/117',\n",
    "    'Posterior Hippo':'13/143',\n",
    "}\n",
    "\n",
    "THF_dic_percent = {\n",
    "    'Total':place_total_f,\n",
    "    'Amg':amg_f,\n",
    "    'Anterior Hippo':ah_f,\n",
    "    'Posterior Hippo':ph_f,\n",
    "}\n",
    "\n",
    "THO_dic_percent = {\n",
    "    'Total':place_total_o,\n",
    "    'Amg':amg_o,\n",
    "    'Anterior Hippo':ah_o,\n",
    "    'Posterior Hippo':ph_o,\n",
    "}"
   ]
  },
  {
   "cell_type": "code",
   "execution_count": null,
   "id": "fd5b65b9",
   "metadata": {
    "scrolled": false
   },
   "outputs": [],
   "source": [
    "labels = ['TOTAL', 'AMG', 'AH', 'PH']\n",
    "THF_count = THF_dic_area.values()\n",
    "THO_count = THO_dic_area.values()\n",
    "\n",
    "THF_percent = THF_dic_percent.values()\n",
    "THO_percent = THO_dic_percent.values()\n",
    "\n",
    "x = np.arange(len(labels))  # the label locations\n",
    "width = 0.4  # the width of the bars\n",
    "\n",
    "fig = plt.figure(figsize = (7, 5))\n",
    "ax = fig.add_subplot(111)\n",
    "rects1 = ax.bar(x - width/2, THF_percent, width, label='THF', color='#1d2e58')\n",
    "rects2 = ax.bar(x + width/2, THO_percent, width, label='THO', color='darkred')\n",
    "\n",
    "ax.set(ylabel='Significant cells (%)')\n",
    "ax.set_xticks(x)\n",
    "ax.set_xticklabels(labels) \n",
    "ax.legend()\n",
    "\n",
    "ax.spines.right.set_visible(False)\n",
    "ax.spines.top.set_visible(False)\n",
    "\n",
    "ax.bar_label(rects1, THF_count, label_type='center', fontsize=10, color='white')\n",
    "ax.bar_label(rects2, THO_count, label_type='center', fontsize=10, color='white')\n",
    "\n",
    "# horizontal line indicating the threshold\n",
    "plt.axhline(y=chance, color='black', linestyle='--')\n",
    "ax.set(ylim=[0,10])\n",
    "# ax.text(-0.28, 4.5, '***')\n",
    "ax.text(0.14, 7, '*')\n",
    "# ax.text(0.72, 20.6, '***')\n",
    "# ax.text(1.06, 13, '***')\n",
    "# ax.text(1.73, 17.77, '***')\n",
    "# ax.text(2.07, 21.3, '***')\n",
    "# ax.text(2.72, 12.95, '***')\n",
    "ax.text(3.15, 9.1, '*')\n",
    "\n",
    "save_figure('place_population' + '.eps', '../figures', close=False, bbox_inches='tight')"
   ]
  },
  {
   "cell_type": "code",
   "execution_count": 138,
   "id": "932e25ab",
   "metadata": {},
   "outputs": [
    {
     "data": {
      "text/plain": [
       "0.02761734035189282"
      ]
     },
     "execution_count": 138,
     "metadata": {},
     "output_type": "execute_result"
    }
   ],
   "source": [
    "stats.binom_test(13, n=143, p=0.05, alternative='greater') "
   ]
  },
  {
   "cell_type": "markdown",
   "id": "0c7e5528",
   "metadata": {},
   "source": [
    "### Spatial target cell distribution"
   ]
  },
  {
   "cell_type": "code",
   "execution_count": 11,
   "id": "39e6f516",
   "metadata": {},
   "outputs": [],
   "source": [
    "target_total_f = (43/643)*100\n",
    "target_total_o = (43/609)*100\n",
    "amg_f = (24/332)*100\n",
    "amg_o = (29/338)*100\n",
    "ah_f = (12/168)*100\n",
    "ah_o = (6/121)*100\n",
    "ph_f = (7/143)*100\n",
    "ph_o = (8/150)*100\n",
    "\n",
    "chance = 5"
   ]
  },
  {
   "cell_type": "code",
   "execution_count": 12,
   "id": "67906993",
   "metadata": {},
   "outputs": [],
   "source": [
    "THF_dic_area = {\n",
    "    'total':'43/643',\n",
    "    'Amg':'24/332',\n",
    "    'Anterior Hippo':'12/168',\n",
    "    'Posterior Hippo':'7/143',\n",
    "}\n",
    "\n",
    "THO_dic_area = {\n",
    "    'total':'43/609',\n",
    "    'Amg':'29/338',\n",
    "    'Anterior Hippo':'6/121',\n",
    "    'Posterior Hippo':'8/150',\n",
    "}\n",
    "\n",
    "THF_dic_percent = {\n",
    "    'total':target_total_f,\n",
    "    'Amg':amg_f,\n",
    "    'Anterior Hippo':ah_f,\n",
    "    'Posterior Hippo':ph_f,\n",
    "}\n",
    "\n",
    "THO_dic_percent = {\n",
    "    'total':target_total_o,\n",
    "    'Amg':amg_o,\n",
    "    'Anterior Hippo':ah_o,\n",
    "    'Posterior Hippo':ph_o,\n",
    "}"
   ]
  },
  {
   "cell_type": "code",
   "execution_count": 15,
   "id": "8cbd7a02",
   "metadata": {
    "scrolled": false
   },
   "outputs": [
    {
     "data": {
      "image/png": "[encoded data removed]",
      "text/plain": [
       "<Figure size 720x324 with 1 Axes>"
      ]
     },
     "metadata": {
      "needs_background": "light"
     },
     "output_type": "display_data"
    }
   ],
   "source": [
    "labels = ['TOTAL','AMG', 'AH', 'PH']\n",
    "THF_count = THF_dic_area.values()\n",
    "THO_count = THO_dic_area.values()\n",
    "\n",
    "THF_percent = THF_dic_percent.values()\n",
    "THO_percent = THO_dic_percent.values()\n",
    "\n",
    "x = np.arange(len(labels))  # the label locations\n",
    "width = 0.4  # the width of the bars\n",
    "\n",
    "fig = plt.figure(figsize = (10, 4.5))\n",
    "ax = fig.add_subplot(111)\n",
    "rects1 = ax.bar(x - width/2, THF_percent, width, label='Face', color='C0')\n",
    "rects2 = ax.bar(x + width/2, THO_percent, width, label='Object', color='C1')\n",
    "\n",
    "ax.set(ylabel='Significant cells (%)')\n",
    "ax.set_xticks(x)\n",
    "ax.set_xticklabels(labels) \n",
    "ax.legend()\n",
    "\n",
    "ax.spines.right.set_visible(False)\n",
    "ax.spines.top.set_visible(False)\n",
    "ax.yaxis.set_ticks_position('left')\n",
    "ax.xaxis.set_ticks_position('bottom')\n",
    "\n",
    "ax.bar_label(rects1, THF_count, label_type='center', fontsize=12, color='white')\n",
    "ax.bar_label(rects2, THO_count, label_type='center', fontsize=12, color='white')\n",
    "\n",
    "# horizontal line indicating the threshold\n",
    "plt.axhline(y=chance, color='k', linestyle='--')\n",
    "ax.text(-0.25, 6.75, '*')\n",
    "ax.text(0.15, 7.05, '*')\n",
    "ax.text(0.75, 7.25, '*')\n",
    "ax.text(1.13, 8.6, '**')\n",
    "\n",
    "plt.xticks(fontsize=25)\n",
    "plt.yticks(fontsize=25)\n",
    "plt.ylabel('Significant cells (%)', fontsize=25)\n",
    "\n",
    "\n",
    "save_figure('target_population' + '.svg', '/Users/clairehan/Desktop', close=False, bbox_inches='tight')"
   ]
  },
  {
   "cell_type": "code",
   "execution_count": 75,
   "id": "641f66cf",
   "metadata": {},
   "outputs": [
    {
     "data": {
      "text/plain": [
       "0.13737173813245504"
      ]
     },
     "execution_count": 75,
     "metadata": {},
     "output_type": "execute_result"
    }
   ],
   "source": [
    "stats.binom_test(12, n=168, p=0.05, alternative='greater') "
   ]
  },
  {
   "cell_type": "code",
   "execution_count": 16,
   "id": "b3fa1957",
   "metadata": {},
   "outputs": [],
   "source": [
    "# full_total_f = 108\n",
    "# full_total_o = 57\n",
    "full_total_f = (108/643)*100\n",
    "full_total_o = (63/609)*100\n",
    "amg_f = (55/332)*100\n",
    "amg_o = (37/338)*100\n",
    "ah_f = (29/168)*100\n",
    "ah_o = (10/121)*100\n",
    "ph_f = (24/143)*100\n",
    "ph_o = (16/150)*100\n",
    "\n",
    "chance = 5"
   ]
  },
  {
   "cell_type": "code",
   "execution_count": 17,
   "id": "34ec9355",
   "metadata": {},
   "outputs": [],
   "source": [
    "THF_dic_area = {\n",
    "    'total': '108/643',\n",
    "    'Amg':'55/332',\n",
    "    'Anterior Hippo':'29/168',\n",
    "    'Posterior Hippo':'24/143',\n",
    "}\n",
    "\n",
    "THO_dic_area = {\n",
    "    'total':'63/609',\n",
    "    'Amg':'37/338',\n",
    "    'Anterior Hippo':'10/121',\n",
    "    'Posterior Hippo':'16/150',\n",
    "}\n",
    "\n",
    "THF_dic_percent = {\n",
    "    'total':full_total_f,\n",
    "    'Amg':amg_f,\n",
    "    'Anterior Hippo':ah_f,\n",
    "    'Posterior Hippo':ph_f,\n",
    "}\n",
    "\n",
    "THO_dic_percent = {\n",
    "    'total':full_total_o,\n",
    "    'Amg':amg_o,\n",
    "    'Anterior Hippo':ah_o,\n",
    "    'Posterior Hippo':ph_o,\n",
    "}"
   ]
  },
  {
   "cell_type": "code",
   "execution_count": 27,
   "id": "f32f12b8",
   "metadata": {
    "scrolled": false
   },
   "outputs": [
    {
     "data": {
      "image/png": "[encoded data removed]",
      "text/plain": [
       "<Figure size 720x324 with 1 Axes>"
      ]
     },
     "metadata": {
      "needs_background": "light"
     },
     "output_type": "display_data"
    }
   ],
   "source": [
    "labels = ['TOTAL','AMG', 'AH', 'PH']\n",
    "THF_count = THF_dic_area.values()\n",
    "THO_count = THO_dic_area.values()\n",
    "\n",
    "THF_percent = THF_dic_percent.values()\n",
    "THO_percent = THO_dic_percent.values()\n",
    "\n",
    "x = np.arange(len(labels))  # the label locations\n",
    "width = 0.4  # the width of the bars\n",
    "\n",
    "fig = plt.figure(figsize = (10, 4.5))\n",
    "ax = fig.add_subplot(111)\n",
    "rects1 = ax.bar(x - width/2, THF_percent, width, label='Face', color='C0')\n",
    "rects2 = ax.bar(x + width/2, THO_percent, width, label='Object', color='C1')\n",
    "\n",
    "ax.set(ylabel='Significant cells (%)')\n",
    "ax.set_xticks(x)\n",
    "ax.set_xticklabels(labels) \n",
    "ax.legend(loc='best')\n",
    "\n",
    "ax.spines.right.set_visible(False)\n",
    "ax.spines.top.set_visible(False)\n",
    "ax.yaxis.set_ticks_position('left')\n",
    "ax.xaxis.set_ticks_position('bottom')\n",
    "\n",
    "ax.bar_label(rects1, THF_count, label_type='center', fontsize=12, color='white')\n",
    "ax.bar_label(rects2, THO_count, label_type='center', fontsize=12, color='white')\n",
    "\n",
    "# horizontal line indicating the threshold\n",
    "plt.axhline(y=chance, color='k', linestyle='--')\n",
    "ax.set(ylim=(0,26),yticks=[0,5,10,15,20])\n",
    "ax.text(-0.31, 17, '***')\n",
    "ax.text(0.08, 10.5, '***')\n",
    "ax.text(0.69, 16.9, '***')\n",
    "ax.text(1.12, 11, '**')\n",
    "ax.text(1.67, 17.4, '***')\n",
    "\n",
    "ax.text(2.69, 17, '***')\n",
    "ax.text(3.12, 10.7, '**')\n",
    "\n",
    "plt.xticks(fontsize=25)\n",
    "plt.yticks(fontsize=25)\n",
    "plt.ylabel('Significant cells (%)', fontsize=25)\n",
    "\n",
    "\n",
    "save_figure('chest_population' + '.svg', '/Users/clairehan/Desktop', close=False, bbox_inches='tight')"
   ]
  },
  {
   "cell_type": "code",
   "execution_count": 39,
   "id": "9ee32197",
   "metadata": {},
   "outputs": [],
   "source": [
    "# full_total_f = 108\n",
    "# full_total_o = 57\n",
    "baseline_total_f = (106/643)*100\n",
    "baseline_total_o = (72/609)*100\n",
    "amg_f = (48/332)*100\n",
    "amg_o = (32/338)*100\n",
    "ah_f = (49/168)*100\n",
    "ah_o = (22/121)*100\n",
    "ph_f = (9/143)*100\n",
    "ph_o = (18/150)*100\n",
    "\n",
    "chance = 5"
   ]
  },
  {
   "cell_type": "code",
   "execution_count": 40,
   "id": "866eccbc",
   "metadata": {},
   "outputs": [],
   "source": [
    "THF_dic_area = {\n",
    "    'total': '106/643',\n",
    "    'Amg':'48/332',\n",
    "    'Anterior Hippo':'49/168',\n",
    "    'Posterior Hippo':'9/143',\n",
    "}\n",
    "\n",
    "THO_dic_area = {\n",
    "    'total':'72/609',\n",
    "    'Amg':'32/338',\n",
    "    'Anterior Hippo':'22/121',\n",
    "    'Posterior Hippo':'18/150',\n",
    "}\n",
    "\n",
    "THF_dic_percent = {\n",
    "    'total':baseline_total_f,\n",
    "    'Amg':amg_f,\n",
    "    'Anterior Hippo':ah_f,\n",
    "    'Posterior Hippo':ph_f,\n",
    "}\n",
    "\n",
    "THO_dic_percent = {\n",
    "    'total':baseline_total_o,\n",
    "    'Amg':amg_o,\n",
    "    'Anterior Hippo':ah_o,\n",
    "    'Posterior Hippo':ph_o,\n",
    "}"
   ]
  },
  {
   "cell_type": "code",
   "execution_count": 42,
   "id": "ebcb10f2",
   "metadata": {
    "scrolled": true
   },
   "outputs": [
    {
     "data": {
      "image/png": "[encoded data removed]",
      "text/plain": [
       "<Figure size 864x324 with 1 Axes>"
      ]
     },
     "metadata": {
      "needs_background": "light"
     },
     "output_type": "display_data"
    }
   ],
   "source": [
    "labels = ['TOTAL','AMG', 'AH', 'PH']\n",
    "THF_count = THF_dic_area.values()\n",
    "THO_count = THO_dic_area.values()\n",
    "\n",
    "THF_percent = THF_dic_percent.values()\n",
    "THO_percent = THO_dic_percent.values()\n",
    "\n",
    "x = np.arange(len(labels))  # the label locations\n",
    "width = 0.4  # the width of the bars\n",
    "\n",
    "fig = plt.figure(figsize = (12, 4.5))\n",
    "ax = fig.add_subplot(111)\n",
    "rects1 = ax.bar(x - width/2, THF_percent, width, label='Face', color='C0')\n",
    "rects2 = ax.bar(x + width/2, THO_percent, width, label='Object', color='C1')\n",
    "\n",
    "ax.set(ylabel='Significant cells (%)')\n",
    "ax.set_xticks(x)\n",
    "ax.set_xticklabels(labels) \n",
    "ax.legend(loc='best')\n",
    "\n",
    "ax.spines.right.set_visible(False)\n",
    "ax.spines.top.set_visible(False)\n",
    "ax.yaxis.set_ticks_position('left')\n",
    "ax.xaxis.set_ticks_position('bottom')\n",
    "\n",
    "ax.bar_label(rects1, THF_count, label_type='center', fontsize=12, color='white')\n",
    "ax.bar_label(rects2, THO_count, label_type='center', fontsize=12, color='white')\n",
    "\n",
    "# horizontal line indicating the threshold\n",
    "plt.axhline(y=chance, color='k', linestyle='--')\n",
    "# ax.set(ylim=[0,26], yticks=[0,5,10,15,20, 25])\n",
    "ax.text(-0.30, 16.8, '***')\n",
    "ax.text(0.10, 12, '***')\n",
    "ax.text(0.71, 14.8, '***')\n",
    "ax.text(1.1, 9.8, '***')\n",
    "ax.text(1.7, 29.5, '***')\n",
    "ax.text(2.09, 18.5, '***')\n",
    "# ax.text(2.68, 30, '***')\n",
    "ax.text(3.1, 12.3, '***')\n",
    "\n",
    "plt.xticks(fontsize=25)\n",
    "plt.yticks(fontsize=25)\n",
    "plt.ylabel('Significant cells (%)', fontsize=25)\n",
    "\n",
    "save_figure('baseline_population' + '.svg', '/Users/clairehan/Desktop', close=False, bbox_inches='tight')"
   ]
  },
  {
   "cell_type": "code",
   "execution_count": 9,
   "id": "bf705df8",
   "metadata": {},
   "outputs": [],
   "source": [
    "# full_total_f = 108\n",
    "# full_total_o = 57\n",
    "ID_total_f = (53/643)*100\n",
    "ID_total_o = (88/609)*100\n",
    "amg_f = (21/332)*100\n",
    "amg_o = (56/338)*100\n",
    "ah_f = (27/168)*100\n",
    "ah_o = (16/121)*100\n",
    "ph_f = (5/143)*100\n",
    "ph_o = (16/150)*100\n",
    "\n",
    "chance = 5"
   ]
  },
  {
   "cell_type": "code",
   "execution_count": 10,
   "id": "f99fc6c8",
   "metadata": {},
   "outputs": [],
   "source": [
    "THF_dic_area = {\n",
    "    'total': '53/643',\n",
    "    'Amg':'21/332',\n",
    "    'Anterior Hippo':'27/168',\n",
    "    'Posterior Hippo':'5/143',\n",
    "}\n",
    "\n",
    "THO_dic_area = {\n",
    "    'total':'88/609',\n",
    "    'Amg':'56/338',\n",
    "    'Anterior Hippo':'16/121',\n",
    "    'Posterior Hippo':'16/150',\n",
    "}\n",
    "\n",
    "THF_dic_percent = {\n",
    "    'total':ID_total_f,\n",
    "    'Amg':amg_f,\n",
    "    'Anterior Hippo':ah_f,\n",
    "    'Posterior Hippo':ph_f,\n",
    "}\n",
    "\n",
    "THO_dic_percent = {\n",
    "    'total':ID_total_o,\n",
    "    'Amg':amg_o,\n",
    "    'Anterior Hippo':ah_o,\n",
    "    'Posterior Hippo':ph_o,\n",
    "}"
   ]
  },
  {
   "cell_type": "code",
   "execution_count": 29,
   "id": "4436da1b",
   "metadata": {},
   "outputs": [
    {
     "data": {
      "image/png": "[encoded data removed]",
      "text/plain": [
       "<Figure size 1080x324 with 1 Axes>"
      ]
     },
     "metadata": {
      "needs_background": "light"
     },
     "output_type": "display_data"
    }
   ],
   "source": [
    "labels = ['TOTAL','AMG', 'AH', 'PH']\n",
    "THF_count = THF_dic_area.values()\n",
    "THO_count = THO_dic_area.values()\n",
    "\n",
    "THF_percent = THF_dic_percent.values()\n",
    "THO_percent = THO_dic_percent.values()\n",
    "\n",
    "x = np.arange(len(labels))  # the label locations\n",
    "width = 0.3  # the width of the bars\n",
    "\n",
    "fig = plt.figure(figsize = (15, 4.5))\n",
    "ax = fig.add_subplot(111)\n",
    "rects1 = ax.bar(x - width/2, THF_percent, width, label='Face', color='C0')\n",
    "rects2 = ax.bar(x + width/2, THO_percent, width, label='Object', color='C1')\n",
    "\n",
    "ax.set(ylabel='Significant cells (%)')\n",
    "ax.set_xticks(x)\n",
    "ax.set_xticklabels(labels) \n",
    "ax.legend(loc='best')\n",
    "\n",
    "ax.spines.right.set_visible(False)\n",
    "ax.spines.top.set_visible(False)\n",
    "ax.yaxis.set_ticks_position('left')\n",
    "ax.xaxis.set_ticks_position('bottom')\n",
    "\n",
    "ax.bar_label(rects1, THF_count, label_type='center', fontsize=12, color='white')\n",
    "ax.bar_label(rects2, THO_count, label_type='center', fontsize=12, color='white')\n",
    "\n",
    "# horizontal line indicating the threshold\n",
    "plt.axhline(y=chance, color='k', linestyle='--')\n",
    "ax.set(ylim=[0,20], yticks=[0,5,10,15,20])\n",
    "ax.text(-0.25, 8.5, '***')\n",
    "ax.text(0.14, 14.6, '***')\n",
    "ax.text(1.14, 16.8, '***')\n",
    "ax.text(1.74, 16.2, '***')\n",
    "ax.text(2.14, 13.3, '***')\n",
    "ax.text(3.14, 10.8, '***')\n",
    "\n",
    "plt.xticks(fontsize=25)\n",
    "plt.yticks(fontsize=25)\n",
    "plt.ylabel('Significant cells (%)', fontsize=25)\n",
    "\n",
    "save_figure('ID_population' + '.svg', '/Users/clairehan/Desktop', close=False, bbox_inches='tight')"
   ]
  },
  {
   "cell_type": "code",
   "execution_count": 190,
   "id": "78a77d2e",
   "metadata": {},
   "outputs": [
    {
     "data": {
      "text/plain": [
       "0.0036031440281856096"
      ]
     },
     "execution_count": 190,
     "metadata": {},
     "output_type": "execute_result"
    }
   ],
   "source": [
    "stats.binom_test(16, n=150, p=0.05, alternative='greater') "
   ]
  },
  {
   "cell_type": "markdown",
   "id": "b865df5e",
   "metadata": {},
   "source": [
    "## Cell type overlap"
   ]
  },
  {
   "cell_type": "markdown",
   "id": "11bba1ed",
   "metadata": {},
   "source": [
    "#### one cell identity only"
   ]
  },
  {
   "cell_type": "code",
   "execution_count": null,
   "id": "3462d354",
   "metadata": {},
   "outputs": [],
   "source": [
    "########################THF\n",
    "# chest_only = (67/108)*100\n",
    "# place_only = (19/28)*100\n",
    "# target_only = (57/89)*100\n",
    "# serial_only = (77/118)*100\n",
    "\n",
    "# one_id_count = {\n",
    "#     'full chest only': '67/108',\n",
    "#     'place only': '19/28',\n",
    "#     'target only': '57/89',\n",
    "#     'serial position only': '77/118'\n",
    "# }\n",
    "# one_id_percent = {\n",
    "#     'full chest only': chest_only,\n",
    "#     'place only': place_only,\n",
    "#     'target only': target_only,\n",
    "#     'serial position only': serial_only\n",
    "# }\n",
    "\n",
    "#########################THO\n",
    "chest_only = (37/57)*100\n",
    "place_only = (25/36)*100\n",
    "target_only = (35/65)*100\n",
    "serial_only = (43/80)*100\n",
    "\n",
    "one_id_count = {\n",
    "    'full chest only': '37/57',\n",
    "    'place only': '25/36',\n",
    "    'target only': '35/65',\n",
    "    'serial position only': '43/80'\n",
    "}\n",
    "one_id_percent = {\n",
    "    'full chest only': chest_only,\n",
    "    'place only': place_only,\n",
    "    'target only': target_only,\n",
    "    'serial position only': serial_only\n",
    "}"
   ]
  },
  {
   "cell_type": "code",
   "execution_count": null,
   "id": "b87a4431",
   "metadata": {},
   "outputs": [],
   "source": [
    "labels = ['full chest', 'place', 'target', 'serial position']\n",
    "one_count = one_id_count.values()\n",
    "one_percent = one_id_percent.values()\n",
    "\n",
    "x = np.arange(len(labels))  # the label locations\n",
    "width=0.7\n",
    "chance=5\n",
    "\n",
    "fig = plt.figure(figsize = (7, 5))\n",
    "ax = fig.add_subplot(111)\n",
    "rects1 = ax.bar(x, one_percent, width, color='silver')\n",
    "ax.bar_label(rects1, one_count, label_type='center', color='white', fontsize=14)\n",
    "\n",
    "ax.set(ylabel='Significant cells (%)', title='THO - Single identity cells')\n",
    "ax.set_xticks(x)\n",
    "ax.set_xticklabels(labels) \n",
    "\n",
    "ax.spines.right.set_visible(False)\n",
    "ax.spines.top.set_visible(False)\n",
    "ax.yaxis.set_ticks_position('left')\n",
    "ax.xaxis.set_ticks_position('bottom')\n",
    "\n",
    "# horizontal line indicating the threshold\n",
    "# plt.axhline(y=chance, color='k', linestyle='--')  "
   ]
  },
  {
   "cell_type": "markdown",
   "id": "7854b1e3",
   "metadata": {},
   "source": [
    "#### two cell identities only"
   ]
  },
  {
   "cell_type": "code",
   "execution_count": null,
   "id": "e1309846",
   "metadata": {},
   "outputs": [],
   "source": [
    "two_id_count = {\n",
    "    'full chest & place': '1/86',\n",
    "    'full chest & target': '12/124',\n",
    "    'full chest & serial position': '20/144',\n",
    "    'place & target': '3/76',\n",
    "    'place & serial position': '4/96',\n",
    "    'target & serial position': '10/134'\n",
    "}\n",
    "\n",
    "two_id_percent = {\n",
    "    'full chest & place': (1/86)*100,\n",
    "    'full chest & target': (12/124)*100,\n",
    "    'full chest & serial position': (20/144)*100,\n",
    "    'place & target': (3/76)*100,\n",
    "    'place & serial position': (4/96)*100,\n",
    "    'target & serial position': (10/134)*100\n",
    "}\n",
    "\n",
    "#############################THO\n",
    "# two_id_count = {\n",
    "#     'full chest & place': '3/62',\n",
    "#     'full chest & target': '5/72',\n",
    "#     'full chest & serial position': '9/80',\n",
    "#     'place & target': '1/60',\n",
    "#     'place & serial position': '4/68',\n",
    "#     'target & serial position': '21/78'\n",
    "# }\n",
    "\n",
    "# two_id_percent = {\n",
    "#     'full chest & place': (3/62)*100,\n",
    "#     'full chest & target': (5/72)*100,\n",
    "#     'full chest & serial position': (9/80)*100,\n",
    "#     'place & target': (1/60)*100,\n",
    "#     'place & serial position': (4/68)*100,\n",
    "#     'target & serial position': (21/78)*100\n",
    "# }"
   ]
  },
  {
   "cell_type": "code",
   "execution_count": null,
   "id": "f7fb4f40",
   "metadata": {},
   "outputs": [],
   "source": [
    "labels = ['chest+place', 'chest+target', 'chest+serial', 'place+target', 'place+serial', 'target+serial']\n",
    "two_count = two_id_count.values()\n",
    "two_percent = two_id_percent.values()\n",
    "\n",
    "x = np.arange(len(labels))  # the label locations\n",
    "width=0.7\n",
    "chance=5\n",
    "\n",
    "fig = plt.figure(figsize = (15, 5))\n",
    "ax = fig.add_subplot(111)\n",
    "rects1 = ax.bar(x, two_percent, width, color='silver')\n",
    "ax.bar_label(rects1, two_count, label_type='center', color='white', fontsize=14)\n",
    "\n",
    "ax.set(ylabel='Significant cells (%)', title='THF - Duo identity cells')\n",
    "ax.set_xticks(x)\n",
    "ax.set_xticklabels(labels) \n",
    "\n",
    "ax.spines.right.set_visible(False)\n",
    "ax.spines.top.set_visible(False)\n",
    "ax.yaxis.set_ticks_position('left')\n",
    "ax.xaxis.set_ticks_position('bottom')\n",
    "plt.axhline(y=chance, color='k', linestyle='--')  "
   ]
  },
  {
   "cell_type": "markdown",
   "id": "76a6ad11",
   "metadata": {},
   "source": [
    "#### three cell identites only "
   ]
  },
  {
   "cell_type": "code",
   "execution_count": null,
   "id": "83b68ef5",
   "metadata": {},
   "outputs": [],
   "source": [
    "three_id_count = {\n",
    "    'full chest & place & target': '1/97',\n",
    "    'full chest & place & serial position': '1/105',\n",
    "    'full chest & target & serial position': '1/115',\n",
    "    'place & target & serial position': '0/103',\n",
    "    'all type overlap': '0/140'\n",
    "}\n",
    "\n",
    "three_id_percent = {\n",
    "    'full chest & place & target': (1/97)*100,\n",
    "    'full chest & place & serial position': (1/105)*100,\n",
    "    'full chest & target & serial position': (1/115)*100,\n",
    "    'place & target & serial position': 0,\n",
    "    'all type overlap': 0\n",
    "}\n",
    "\n"
   ]
  },
  {
   "cell_type": "code",
   "execution_count": null,
   "id": "7e8be778",
   "metadata": {
    "scrolled": true
   },
   "outputs": [],
   "source": [
    "labels = ['chest+place+target', 'chest+place+serial', 'chest+target+serial', 'place+target+serial', 'all 4 types']\n",
    "three_count = three_id_count.values()\n",
    "three_percent = three_id_percent.values()\n",
    "\n",
    "x = np.arange(len(labels))  # the label locations\n",
    "width=0.7\n",
    "chance=5\n",
    "\n",
    "fig = plt.figure(figsize = (15, 5))\n",
    "ax = fig.add_subplot(111)\n",
    "rects1 = ax.bar(x, three_percent, width, color='silver')\n",
    "ax.bar_label(rects1, three_count, label_type='center', color='white', fontsize=14)\n",
    "\n",
    "ax.set(ylabel='Significant cells (%)', title='THO - All identity cells')\n",
    "ax.set_xticks(x)\n",
    "ax.set_xticklabels(labels) \n",
    "\n",
    "ax.spines.right.set_visible(False)\n",
    "ax.spines.top.set_visible(False)\n",
    "ax.yaxis.set_ticks_position('left')\n",
    "ax.xaxis.set_ticks_position('bottom')\n",
    "# plt.axhline(y=chance, color='k', linestyle='--')  "
   ]
  },
  {
   "cell_type": "markdown",
   "id": "88335a67",
   "metadata": {},
   "source": [
    "## THF significant cell distribution across subjects/sessions"
   ]
  },
  {
   "cell_type": "code",
   "execution_count": 20,
   "id": "30385ab9",
   "metadata": {},
   "outputs": [
    {
     "data": {
      "image/png": "[encoded data removed]",
      "text/plain": [
       "<Figure size 504x288 with 1 Axes>"
      ]
     },
     "metadata": {
      "needs_background": "light"
     },
     "output_type": "display_data"
    }
   ],
   "source": [
    "labels = ['P1', 'P2', 'P3', 'P4']\n",
    "s1_counts = [2, 5, 0, 3]\n",
    "s2_counts = [1, 1, 0, 3]\n",
    "s3_counts = [6,0,0,0]\n",
    "s4_counts = [7,0,0,0]\n",
    "width = 0.5       # the width of the bars: can also be len(x) sequence\n",
    "\n",
    "fig = plt.figure(figsize = (7, 4))\n",
    "ax = fig.add_subplot(111)\n",
    "\n",
    "ax.bar(labels, s1_counts, width, label='s1', color='black', bottom=s2_counts)\n",
    "ax.bar(labels, s2_counts, width, label='s2', color='dimgray', bottom=s3_counts) #bottom=men_means\n",
    "ax.bar(labels, s3_counts, width, label='s3', color='darkgray', bottom=s4_counts)\n",
    "ax.bar(labels, s4_counts, width, label='s4', color='lightgray')\n",
    "ax.set(ylabel='Significant cells count', title='THF - place cell')\n",
    "ax.legend(loc=0, prop={'size': 12})\n",
    "ax.spines.right.set_visible(False)\n",
    "ax.spines.top.set_visible(False)\n",
    "ax.yaxis.set_ticks_position('left')\n",
    "ax.xaxis.set_ticks_position('bottom')\n",
    "ax.set_ylim([0,17])\n",
    "plt.show()"
   ]
  },
  {
   "cell_type": "code",
   "execution_count": null,
   "id": "8a251d14",
   "metadata": {},
   "outputs": [],
   "source": [
    "# create data\n",
    "x = np.arange(4)\n",
    "labels = ['P1', 'P2', 'P3', 'P4']\n",
    "s1 = [6, 1, 1, 18]\n",
    "s2 = [0, 0, 3, 6]\n",
    "s3 = [9, 1, 0, 5]\n",
    "s4 = [0, 0, 0, 7]\n",
    "width = 0.2\n",
    "\n",
    "fig = plt.figure(figsize = (7, 4))\n",
    "ax = fig.add_subplot(111)\n",
    "  \n",
    "# plot data in grouped manner of bar type\n",
    "ax.bar(x-0.3, s1, width, label='s1',color='black')\n",
    "ax.bar(x-0.1, s2, width, label='s2',color='dimgray')\n",
    "ax.bar(x+0.1, s3, width, label='s3',color='darkgray')\n",
    "ax.bar(x+0.3, s3, width, label='s4',color='lightgray')\n",
    "plt.xticks(x, ['P1', 'P2', 'P3', 'P4'])\n",
    "ax.set(ylabel='Significant cells count', title='THO - full chest cell')\n",
    "\n",
    "ax.legend(loc=0, prop={'size': 12})\n",
    "ax.spines.right.set_visible(False)\n",
    "ax.spines.top.set_visible(False)\n",
    "ax.yaxis.set_ticks_position('left')\n",
    "ax.xaxis.set_ticks_position('bottom')\n",
    "plt.show()"
   ]
  },
  {
   "cell_type": "code",
   "execution_count": null,
   "id": "c596cd9a",
   "metadata": {},
   "outputs": [],
   "source": []
  },
  {
   "cell_type": "code",
   "execution_count": null,
   "id": "bfe45be4",
   "metadata": {},
   "outputs": [],
   "source": []
  },
  {
   "cell_type": "code",
   "execution_count": null,
   "id": "529397aa",
   "metadata": {},
   "outputs": [],
   "source": []
  },
  {
   "cell_type": "code",
   "execution_count": null,
   "id": "402ab407",
   "metadata": {},
   "outputs": [],
   "source": []
  },
  {
   "cell_type": "code",
   "execution_count": null,
   "id": "2ea4f458",
   "metadata": {},
   "outputs": [],
   "source": []
  },
  {
   "cell_type": "code",
   "execution_count": 117,
   "id": "41cc32b5",
   "metadata": {},
   "outputs": [],
   "source": [
    "import scipy.io\n",
    "import pandas as pd\n",
    "mat = scipy.io.loadmat('/Users/clairehan/Desktop/ID_object.mat')"
   ]
  },
  {
   "cell_type": "code",
   "execution_count": 131,
   "id": "5d6b4030",
   "metadata": {},
   "outputs": [
    {
     "data": {
      "text/plain": [
       "array([  1,  85, 178, 185, 276, 308, 324, 376, 398, 399, 428, 437, 446,\n",
       "       497, 504, 506, 530, 557, 594, 600, 647, 651, 670, 681, 687, 689,\n",
       "       734, 756, 765, 767, 872,  51,  64,  97, 133, 139, 150, 157, 161,\n",
       "       165, 177, 201, 236, 283, 374, 393, 400, 403, 433, 445, 455, 477,\n",
       "       483, 484, 491, 498, 512, 531, 532, 534, 546, 560, 568, 584, 585,\n",
       "       586, 601, 602, 613, 623, 627, 628, 652, 656, 661, 668, 688, 702,\n",
       "       705, 708, 769, 770, 772, 841, 844, 850, 852, 888], dtype=uint16)"
      ]
     },
     "execution_count": 131,
     "metadata": {},
     "output_type": "execute_result"
    }
   ],
   "source": [
    "mat['ID_neuron'][0]"
   ]
  },
  {
   "cell_type": "code",
   "execution_count": 119,
   "id": "cfac6194",
   "metadata": {},
   "outputs": [],
   "source": [
    "df_THO = pd.read_csv(\"/Users/clairehan/Desktop/THresults-nov3/THO_all_results_nov3.csv\")"
   ]
  },
  {
   "cell_type": "code",
   "execution_count": 136,
   "id": "cb15295f",
   "metadata": {},
   "outputs": [
    {
     "data": {
      "text/plain": [
       "(array([ 0,  1,  2,  3,  4,  5,  6,  7,  8,  9, 10, 11, 12, 13, 14, 15, 16,\n",
       "        17, 18, 19, 20, 21, 22, 23, 24, 25, 26, 27, 28, 29, 30, 31, 32, 33,\n",
       "        34, 35, 36, 37, 38, 39, 40, 41, 42, 43, 44, 45, 46, 47, 48, 49, 50,\n",
       "        51, 52, 53, 54, 55, 56, 57, 58, 59, 60, 61, 62, 63, 64, 65, 66, 67,\n",
       "        68, 69, 70, 71, 72, 73, 74, 75, 76, 77, 78, 79, 80, 81, 82, 83, 84,\n",
       "        85, 86, 87]),\n",
       " array([  0,  63, 132, 136, 187, 209, 222, 255, 266, 267, 282, 288, 292,\n",
       "        346, 348, 350, 364, 385, 329, 334, 424, 425, 439, 448, 453, 455,\n",
       "        490, 503, 510, 512, 590,  39,  48,  68,  99, 105, 112, 117, 120,\n",
       "        122, 131, 149, 160, 193, 253, 264, 268, 269, 285, 291, 298, 308,\n",
       "        313, 314, 343, 347, 355, 365, 366, 368, 376, 387, 391, 322, 323,\n",
       "        324, 335, 336, 398, 407, 409, 410, 426, 428, 432, 437, 454, 465,\n",
       "        468, 470, 513, 514, 516, 567, 569, 574, 576, 601]))"
      ]
     },
     "execution_count": 136,
     "metadata": {},
     "output_type": "execute_result"
    }
   ],
   "source": [
    "# for ind \n",
    "np.where([df_THO.wvID.values == mat['ID_neuron'][0][ind] for ind in range(88)])"
   ]
  },
  {
   "cell_type": "code",
   "execution_count": null,
   "id": "7a0e9dfa",
   "metadata": {},
   "outputs": [],
   "source": []
  }
 ],
 "metadata": {
  "kernelspec": {
   "display_name": "Python 3 (ipykernel)",
   "language": "python",
   "name": "python3"
  },
  "language_info": {
   "codemirror_mode": {
    "name": "ipython",
    "version": 3
   },
   "file_extension": ".py",
   "mimetype": "text/x-python",
   "name": "python",
   "nbconvert_exporter": "python",
   "pygments_lexer": "ipython3",
   "version": "3.9.12"
  }
 },
 "nbformat": 4,
 "nbformat_minor": 5
}
