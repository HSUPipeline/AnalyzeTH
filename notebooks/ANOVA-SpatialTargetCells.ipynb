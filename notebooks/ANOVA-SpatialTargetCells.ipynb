{
 "cells": [
  {
   "cell_type": "markdown",
   "id": "c875a9f2",
   "metadata": {},
   "source": [
    "# Spatial Target Cells\n",
    "\n",
    "Analyses for if cells care about the spatial target."
   ]
  },
  {
   "cell_type": "code",
   "execution_count": 1,
   "id": "7624dc7f",
   "metadata": {},
   "outputs": [],
   "source": [
    "%config Completer.use_jedi = False"
   ]
  },
  {
   "cell_type": "code",
   "execution_count": 2,
   "id": "b938bb8b",
   "metadata": {},
   "outputs": [],
   "source": [
    "import warnings\n",
    "from pathlib import Path\n",
    "\n",
    "import numpy as np\n",
    "import pandas as pd\n",
    "import matplotlib.pyplot as plt\n",
    "\n",
    "from pynwb import NWBHDF5IO\n",
    "\n",
    "from spiketools.spatial.occupancy import (compute_occupancy, compute_spatial_bin_edges,\n",
    "                                          compute_spatial_bin_assignment, compute_bin_time)\n",
    "from spiketools.spatial.utils import get_pos_ranges, get_bin_width\n",
    "from spiketools.spatial.information import compute_spatial_information_2d\n",
    "from spiketools.stats.shuffle import shuffle_spikes\n",
    "from spiketools.stats.permutations import zscore_to_surrogates, compute_empirical_pvalue\n",
    "from spiketools.plts.space import plot_positions, plot_heatmap\n",
    "from spiketools.plts.stats import plot_surrogates\n",
    "from spiketools.plts.utils import make_axes\n",
    "from spiketools.utils import restrict_range, get_value_by_time, get_value_by_time_range\n",
    "from spiketools.utils.trials import epoch_data_by_range, epoch_spikes_by_range\n",
    "\n",
    "# Import plot function\n",
    "from spiketools.plts.trials import plot_rasters\n",
    "from spiketools.plts.stats import plot_surrogates\n",
    "\n",
    "import pandas as pd\n",
    "# import scipy.stats as stats\n",
    "import statsmodels.api as sm\n",
    "import statsmodels.formula.api as smf\n",
    "from statsmodels.formula.api import ols\n",
    "from statsmodels.stats.anova import anova_lm\n",
    "\n",
    "from collections import Counter"
   ]
  },
  {
   "cell_type": "code",
   "execution_count": 3,
   "id": "acd47074",
   "metadata": {},
   "outputs": [],
   "source": [
    "import seaborn as sns\n",
    "sns.set_context('talk')"
   ]
  },
  {
   "cell_type": "code",
   "execution_count": 4,
   "id": "f0b8e4cd",
   "metadata": {},
   "outputs": [],
   "source": [
    "import sys\n",
    "sys.path.append('../code')\n",
    "from analysis import get_spike_positions, compute_bin_firing\n",
    "from target import compute_spatial_target_bins"
   ]
  },
  {
   "cell_type": "markdown",
   "id": "56d46ef5",
   "metadata": {},
   "source": [
    "## Settings"
   ]
  },
  {
   "cell_type": "code",
   "execution_count": 5,
   "id": "a7e8636f",
   "metadata": {},
   "outputs": [],
   "source": [
    "# Define the base data folder\n",
    "#data_folder = Path('/Users/Claire_han/Documents/Data/JacobsLab/TH')\n",
    "data_folder = Path('/Users/tom/Documents/Data/JacobsLab/TH/')"
   ]
  },
  {
   "cell_type": "code",
   "execution_count": 6,
   "id": "1e2d7214",
   "metadata": {},
   "outputs": [],
   "source": [
    "# Define subject information\n",
    "task = 'THF'\n",
    "subj = 'wv001'\n",
    "session = 2"
   ]
  },
  {
   "cell_type": "code",
   "execution_count": 7,
   "id": "d16ba88b",
   "metadata": {},
   "outputs": [],
   "source": [
    "# Define binning for chests (spatial target)\n",
    "chest_bins = [6, 8]\n",
    "\n",
    "# Define minimum required occupancy (in seconds)\n",
    "min_occ = 1"
   ]
  },
  {
   "cell_type": "code",
   "execution_count": 8,
   "id": "4ca7e4af",
   "metadata": {},
   "outputs": [],
   "source": [
    "# Shuffle Settings\n",
    "shuffle_approach = 'CIRCULAR'\n",
    "n_surrogates = 100"
   ]
  },
  {
   "cell_type": "code",
   "execution_count": 9,
   "id": "ef2e43a2",
   "metadata": {},
   "outputs": [],
   "source": [
    "# Set example unit to analyze\n",
    "uind = 36"
   ]
  },
  {
   "cell_type": "markdown",
   "id": "5c882a0d",
   "metadata": {},
   "source": [
    "## Load Data"
   ]
  },
  {
   "cell_type": "code",
   "execution_count": 10,
   "id": "fc8b1784",
   "metadata": {},
   "outputs": [],
   "source": [
    "# Define expected NWB file name & full path\n",
    "file_name = '_'.join([task, subj, 'session_' + str(session)]) + '.nwb'\n",
    "full_path = data_folder / 'NWB' / file_name"
   ]
  },
  {
   "cell_type": "code",
   "execution_count": 11,
   "id": "dc103590",
   "metadata": {},
   "outputs": [],
   "source": [
    "# Load NWB file\n",
    "io = NWBHDF5IO(str(full_path), 'r')\n",
    "nwbfile = io.read()"
   ]
  },
  {
   "cell_type": "markdown",
   "id": "de951ab2",
   "metadata": {},
   "source": [
    "#### Get Trial Data\n"
   ]
  },
  {
   "cell_type": "code",
   "execution_count": 12,
   "id": "20d46acf",
   "metadata": {},
   "outputs": [
    {
     "name": "stdout",
     "output_type": "stream",
     "text": [
      "Number of trials: 24\n"
     ]
    }
   ],
   "source": [
    "# Get the number of trials\n",
    "n_trials = len(nwbfile.trials)\n",
    "print('Number of trials: {}'.format(n_trials))"
   ]
  },
  {
   "cell_type": "code",
   "execution_count": 13,
   "id": "a07f5f46",
   "metadata": {},
   "outputs": [],
   "source": [
    "# Extract behavioural markers of interest\n",
    "nav_starts = nwbfile.trials['navigation_start'].data[:]\n",
    "chest_openings = nwbfile.trials['chest_opening_time'][:]"
   ]
  },
  {
   "cell_type": "markdown",
   "id": "988a507d",
   "metadata": {},
   "source": [
    "#### Extract Spike Data"
   ]
  },
  {
   "cell_type": "code",
   "execution_count": 14,
   "id": "2dfc055d",
   "metadata": {},
   "outputs": [
    {
     "name": "stdout",
     "output_type": "stream",
     "text": [
      "Number of units: 81\n",
      "Number to keep:  57\n"
     ]
    }
   ],
   "source": [
    "# Check the number of units & keep indices\n",
    "n_units = len(nwbfile.units)\n",
    "keep_inds = np.where(nwbfile.units.keep[:])[0]\n",
    "n_keep = len(keep_inds)\n",
    "print('Number of units: {}'.format(n_units))\n",
    "print('Number to keep:  {}'.format(n_keep))"
   ]
  },
  {
   "cell_type": "code",
   "execution_count": 15,
   "id": "771bbd69",
   "metadata": {},
   "outputs": [],
   "source": [
    "# Get spikes\n",
    "spikes = nwbfile.units.get_unit_spike_times(uind)"
   ]
  },
  {
   "cell_type": "markdown",
   "id": "a5989696",
   "metadata": {},
   "source": [
    "#### Extract Position Data"
   ]
  },
  {
   "cell_type": "code",
   "execution_count": 16,
   "id": "483ce754",
   "metadata": {},
   "outputs": [],
   "source": [
    "# Extract the position data\n",
    "ptimes = nwbfile.acquisition['position']['player_position'].timestamps[:]\n",
    "positions = nwbfile.acquisition['position']['player_position'].data[:].T\n",
    "stimes = nwbfile.processing['position_measures']['speed'].timestamps[:]\n",
    "speed = nwbfile.processing['position_measures']['speed'].data[:]"
   ]
  },
  {
   "cell_type": "code",
   "execution_count": 18,
   "id": "d01ba0b4",
   "metadata": {},
   "outputs": [],
   "source": [
    "# Get the chest positions & trial indices\n",
    "chest_xs, chest_ys = nwbfile.acquisition['stimuli']['chest_positions'].data[:].T\n",
    "chest_trials = nwbfile.trials.chest_trials[:]"
   ]
  },
  {
   "cell_type": "markdown",
   "id": "91ef6366",
   "metadata": {},
   "source": [
    "## Chest Positions"
   ]
  },
  {
   "cell_type": "code",
   "execution_count": 19,
   "id": "49545afc",
   "metadata": {},
   "outputs": [
    {
     "name": "stdout",
     "output_type": "stream",
     "text": [
      "Chest X position range: 362.86 - 406.85\n",
      "Chest Y position range: 321.34 - 396.47\n"
     ]
    }
   ],
   "source": [
    "# Check chest position range\n",
    "print('Chest X position range: {:1.2f} - {:1.2f}'.format(np.min(chest_xs), np.max(chest_xs)))\n",
    "print('Chest Y position range: {:1.2f} - {:1.2f}'.format(np.min(chest_ys), np.max(chest_ys)))"
   ]
  },
  {
   "cell_type": "code",
   "execution_count": 20,
   "id": "821953c1",
   "metadata": {},
   "outputs": [
    {
     "name": "stdout",
     "output_type": "stream",
     "text": [
      "Position X range: 365.40 - 404.59\n",
      "Position X range: 285.00 - 433.00\n"
     ]
    }
   ],
   "source": [
    "# Check traversal position range\n",
    "print('Position X range: {:1.2f} - {:1.2f}'.format(np.min(positions[0, :]), np.max(positions[0, :])))\n",
    "print('Position X range: {:1.2f} - {:1.2f}'.format(np.min(positions[1, :]), np.max(positions[1, :])))"
   ]
  },
  {
   "cell_type": "code",
   "execution_count": 21,
   "id": "91603329",
   "metadata": {},
   "outputs": [],
   "source": [
    "# Select the position values for navigation periods\n",
    "_, positions_trials = epoch_data_by_range(ptimes, positions,\n",
    "                                          nwbfile.trials.navigation_start[:],\n",
    "                                          nwbfile.trials.navigation_stop[:])"
   ]
  },
  {
   "cell_type": "code",
   "execution_count": 22,
   "id": "fe47a751",
   "metadata": {},
   "outputs": [
    {
     "data": {
      "text/plain": [
       "[<matplotlib.lines.Line2D at 0x7f9de7444d60>]"
      ]
     },
     "execution_count": 22,
     "metadata": {},
     "output_type": "execute_result"
    },
    {
     "data": {
      "image/png": "[encoded data removed]",
      "text/plain": [
       "<Figure size 360x504 with 1 Axes>"
      ]
     },
     "metadata": {
      "needs_background": "light"
     },
     "output_type": "display_data"
    }
   ],
   "source": [
    "# Plot the subject positions, overlaid with chest positions\n",
    "plot_positions(positions_trials, figsize=(5, 7))\n",
    "plt.gca().plot(chest_xs, chest_ys, '.g')# Compute edges for chest binning"
   ]
  },
  {
   "cell_type": "code",
   "execution_count": 23,
   "id": "955b71b5",
   "metadata": {},
   "outputs": [],
   "source": [
    "# Compute edges for chest binning\n",
    "area_range = [[360, 410], [320, 400]]\n",
    "x_edges, y_edges = compute_spatial_bin_edges(positions, chest_bins, area_range=area_range)"
   ]
  },
  {
   "cell_type": "code",
   "execution_count": 24,
   "id": "f3ac02d3",
   "metadata": {},
   "outputs": [],
   "source": [
    "# Assign each chest to a bin\n",
    "chest_pos = np.array([chest_xs, chest_ys])\n",
    "\n",
    "ch_xbin, ch_ybin = compute_spatial_bin_assignment(chest_pos, x_edges, y_edges)\n",
    "\n",
    "# Fix offset of chest binning\n",
    "ch_xbin = ch_xbin - 1 \n",
    "ch_ybin = ch_ybin - 1 "
   ]
  },
  {
   "cell_type": "markdown",
   "id": "0e893998",
   "metadata": {},
   "source": [
    "## Single Trail"
   ]
  },
  {
   "cell_type": "code",
   "execution_count": 25,
   "id": "dfe2243d",
   "metadata": {},
   "outputs": [],
   "source": [
    "# Get trial information\n",
    "t_ind = 10\n",
    "\n",
    "t_st = nwbfile.trials['navigation_start'][t_ind]\n",
    "ch_openings = nwbfile.trials['chest_opening_time'][t_ind]\n",
    "t_en = ch_openings[-1]"
   ]
  },
  {
   "cell_type": "code",
   "execution_count": 26,
   "id": "01dfd073",
   "metadata": {},
   "outputs": [],
   "source": [
    "# Get the chests for the current trial\n",
    "t_mask = chest_trials == t_ind"
   ]
  },
  {
   "cell_type": "code",
   "execution_count": 27,
   "id": "f9a7a6e1",
   "metadata": {},
   "outputs": [],
   "source": [
    "# Select chest openings for the current trial\n",
    "t_time, t_pos = get_value_by_time_range(ptimes, positions, t_st, t_en)\n",
    "ch_times = [get_value_by_time(t_time, t_pos, ch_op) for ch_op in ch_openings]"
   ]
  },
  {
   "cell_type": "code",
   "execution_count": 28,
   "id": "2aff0200",
   "metadata": {},
   "outputs": [],
   "source": [
    "# Restrict spikes to the start of nav and the end of chest opening\n",
    "t_spikes = restrict_range(spikes, t_st, t_en)\n",
    "t_spike_xs, t_spike_ys = get_spike_positions(t_spikes, t_time, t_pos)"
   ]
  },
  {
   "cell_type": "code",
   "execution_count": 29,
   "id": "8b5f4e2d",
   "metadata": {},
   "outputs": [
    {
     "data": {
      "text/plain": [
       "[<matplotlib.lines.Line2D at 0x7f9de77fde20>]"
      ]
     },
     "execution_count": 29,
     "metadata": {},
     "output_type": "execute_result"
    },
    {
     "data": {
      "image/png": "[encoded data removed]",
      "text/plain": [
       "<Figure size 360x504 with 1 Axes>"
      ]
     },
     "metadata": {
      "needs_background": "light"
     },
     "output_type": "display_data"
    }
   ],
   "source": [
    "# Plot an encoding trial: with traversals, chest locations, and spike firing\n",
    "plot_positions(t_pos, alpha=0.75, figsize=(5, 7))\n",
    "ax = plt.gca()\n",
    "ax.plot(*t_pos[:, 0], 'b.', ms=15)\n",
    "ax.plot(t_spike_xs, t_spike_ys, '.r')\n",
    "[ax.plot(*cht, 'y.', ms=15) for cht in ch_times];\n",
    "ax.plot(chest_xs[t_mask], chest_ys[t_mask], '.g', ms=50, alpha=0.25)"
   ]
  },
  {
   "cell_type": "markdown",
   "id": "8621c93c",
   "metadata": {},
   "source": [
    "## Spatial Target Bins"
   ]
  },
  {
   "cell_type": "code",
   "execution_count": 30,
   "id": "bc7fb07f",
   "metadata": {},
   "outputs": [],
   "source": [
    "# Compute chest occupancy\n",
    "chest_occupancy = compute_bin_firing(ch_xbin, ch_ybin, chest_bins)"
   ]
  },
  {
   "cell_type": "code",
   "execution_count": 31,
   "id": "2146cd6d",
   "metadata": {},
   "outputs": [
    {
     "name": "stdout",
     "output_type": "stream",
     "text": [
      "Range of chests per bin: 0 - 5\n"
     ]
    }
   ],
   "source": [
    "# Check the number of chests per bin\n",
    "print(\"Range of chests per bin: {:1.0f} - {:1.0f}\".format(\\\n",
    "    np.min(chest_occupancy), np.max(chest_occupancy)))"
   ]
  },
  {
   "cell_type": "code",
   "execution_count": 32,
   "id": "a2c5fb1e",
   "metadata": {
    "scrolled": true
   },
   "outputs": [
    {
     "data": {
      "image/png": "[encoded data removed]",
      "text/plain": [
       "<Figure size 432x288 with 1 Axes>"
      ]
     },
     "metadata": {},
     "output_type": "display_data"
    }
   ],
   "source": [
    "# Plot chest occupancy\n",
    "plot_heatmap(chest_occupancy, transpose=True)"
   ]
  },
  {
   "cell_type": "code",
   "execution_count": 33,
   "id": "b116b512",
   "metadata": {},
   "outputs": [],
   "source": [
    "# Collect firing per chest location across all trials\n",
    "target_bins = compute_spatial_target_bins(spikes, nav_starts, chest_openings, chest_trials, \n",
    "                                          ptimes, positions, chest_bins, ch_xbin, ch_ybin)"
   ]
  },
  {
   "cell_type": "code",
   "execution_count": 34,
   "id": "6ffd221f",
   "metadata": {},
   "outputs": [
    {
     "data": {
      "text/plain": [
       "(0.0, 23.715288894873463)"
      ]
     },
     "execution_count": 34,
     "metadata": {},
     "output_type": "execute_result"
    }
   ],
   "source": [
    "# Check range of firing across spatial target bins\n",
    "np.min(target_bins), np.max(target_bins)"
   ]
  },
  {
   "cell_type": "code",
   "execution_count": 35,
   "id": "121a45ed",
   "metadata": {},
   "outputs": [
    {
     "data": {
      "image/png": "[encoded data removed]",
      "text/plain": [
       "<Figure size 432x288 with 1 Axes>"
      ]
     },
     "metadata": {},
     "output_type": "display_data"
    }
   ],
   "source": [
    "# Check the firing rate per spatial destination for an example neuron\n",
    "plot_heatmap(target_bins, transpose=True,\n",
    "             title='Neuron #{} - ({:1.2f}-{:1.2f})'.format(uind, np.min(target_bins), np.max(target_bins)))"
   ]
  },
  {
   "cell_type": "markdown",
   "id": "8a99838d",
   "metadata": {},
   "source": [
    "# ANOVA TEST"
   ]
  },
  {
   "cell_type": "markdown",
   "id": "798976c3",
   "metadata": {},
   "source": [
    "### Use fr ~ C(target_bin), real data"
   ]
  },
  {
   "cell_type": "markdown",
   "id": "441b92ae",
   "metadata": {},
   "source": [
    "#### Single Trial"
   ]
  },
  {
   "cell_type": "code",
   "execution_count": 36,
   "id": "452ca415",
   "metadata": {
    "scrolled": true
   },
   "outputs": [],
   "source": [
    "# Collect firing per chest location for one selected trial\n",
    "target_bins = np.zeros(chest_bins)\n",
    "\n",
    "t_ind= 6\n",
    "t_st = nav_starts[t_ind]\n",
    "ch_openings = chest_openings[t_ind]\n",
    "t_en = ch_openings[-1]\n",
    "\n",
    "t_mask = chest_trials == t_ind\n",
    "\n",
    "t_time, t_pos = get_value_by_time_range(ptimes, positions, t_st, t_en)\n",
    "ch_times = [get_value_by_time(t_time, t_pos, ch_op) for ch_op in ch_openings]\n",
    "\n",
    "t_spikes = restrict_range(spikes, t_st, t_en)\n",
    "t_spike_xs, t_spike_ys = get_spike_positions(t_spikes, t_time, t_pos)\n",
    "\n",
    "seg_times = np.diff(np.insert(ch_openings, 0, t_time[0]))\n",
    "count = Counter({0 : 0, 1 : 0, 2 : 0, 3 : 0})\n",
    "count.update(np.digitize(t_spikes, ch_openings))\n",
    "\n",
    "frs = np.array(list(count.values())) / seg_times\n",
    "\n",
    "cur_ch_xbin = ch_xbin[t_mask]\n",
    "cur_ch_ybin = ch_ybin[t_mask]\n",
    "\n",
    "for fr, xbin, ybin in zip(frs, cur_ch_xbin, cur_ch_ybin):\n",
    "    target_bins[xbin, ybin] = fr"
   ]
  },
  {
   "cell_type": "code",
   "execution_count": 37,
   "id": "382b76a9",
   "metadata": {},
   "outputs": [],
   "source": [
    "# Collect firing per chest location for each trial\n",
    "\n",
    "target_bins_1d = np.zeros([n_trials, 48])\n",
    "for t_ind in range(n_trials):\n",
    "    \n",
    "    # Get trial information\n",
    "    t_st = nav_starts[t_ind]\n",
    "    ch_openings = chest_openings[t_ind]\n",
    "    t_en = ch_openings[-1]\n",
    "\n",
    "    t_mask = chest_trials == t_ind\n",
    "    \n",
    "    # Select chest openings for the current trial\n",
    "    t_time, t_pos = get_value_by_time_range(ptimes, positions, t_st, t_en)\n",
    "    ch_times = [get_value_by_time(t_time, t_pos, ch_op) for ch_op in ch_openings]\n",
    "    \n",
    "    # Restrict spikes to the chest-opening period\n",
    "    t_spikes = restrict_range(spikes, t_st, t_en)\n",
    "    t_spike_xs, t_spike_ys = get_spike_positions(t_spikes, t_time, t_pos)\n",
    "    \n",
    "    # compute firing rate per bin per trial\n",
    "    seg_times = np.diff(np.insert(ch_openings, 0, t_time[0]))\n",
    "    count = Counter({0 : 0, 1 : 0, 2 : 0, 3 : 0})\n",
    "    count.update(np.digitize(t_spikes, ch_openings))\n",
    "\n",
    "    frs = np.array(list(count.values())) / seg_times\n",
    "\n",
    "    cur_ch_xbin = ch_xbin[t_mask]\n",
    "    cur_ch_ybin = ch_ybin[t_mask]\n",
    "    \n",
    "    target_bins = np.zeros(chest_bins)\n",
    "    for fr, xbin, ybin in zip(frs, cur_ch_xbin, cur_ch_ybin):\n",
    "        target_bins[xbin, ybin] = fr\n",
    "        \n",
    "    target_bins_1d[t_ind,:] = target_bins.flatten()"
   ]
  },
  {
   "cell_type": "code",
   "execution_count": 38,
   "id": "99e59db5",
   "metadata": {},
   "outputs": [],
   "source": [
    "# create the bin label\n",
    "target_bins_trial=target_bins_1d.flatten()\n",
    "\n",
    "target_bin_label = np.array(range(0, 48))\n",
    "target_bin_label = np.tile(target_bin_label,n_trials)"
   ]
  },
  {
   "cell_type": "code",
   "execution_count": 39,
   "id": "4f51dd43",
   "metadata": {},
   "outputs": [
    {
     "data": {
      "text/html": [
       "<div>\n",
       "<style scoped>\n",
       "    .dataframe tbody tr th:only-of-type {\n",
       "        vertical-align: middle;\n",
       "    }\n",
       "\n",
       "    .dataframe tbody tr th {\n",
       "        vertical-align: top;\n",
       "    }\n",
       "\n",
       "    .dataframe thead th {\n",
       "        text-align: right;\n",
       "    }\n",
       "</style>\n",
       "<table border=\"1\" class=\"dataframe\">\n",
       "  <thead>\n",
       "    <tr style=\"text-align: right;\">\n",
       "      <th></th>\n",
       "      <th>target_bin</th>\n",
       "      <th>fr</th>\n",
       "    </tr>\n",
       "  </thead>\n",
       "  <tbody>\n",
       "    <tr>\n",
       "      <th>0</th>\n",
       "      <td>0.0</td>\n",
       "      <td>0.000000</td>\n",
       "    </tr>\n",
       "    <tr>\n",
       "      <th>1</th>\n",
       "      <td>1.0</td>\n",
       "      <td>8.527265</td>\n",
       "    </tr>\n",
       "    <tr>\n",
       "      <th>2</th>\n",
       "      <td>2.0</td>\n",
       "      <td>0.000000</td>\n",
       "    </tr>\n",
       "    <tr>\n",
       "      <th>3</th>\n",
       "      <td>3.0</td>\n",
       "      <td>0.000000</td>\n",
       "    </tr>\n",
       "    <tr>\n",
       "      <th>4</th>\n",
       "      <td>4.0</td>\n",
       "      <td>0.000000</td>\n",
       "    </tr>\n",
       "    <tr>\n",
       "      <th>5</th>\n",
       "      <td>5.0</td>\n",
       "      <td>0.000000</td>\n",
       "    </tr>\n",
       "    <tr>\n",
       "      <th>6</th>\n",
       "      <td>6.0</td>\n",
       "      <td>13.692304</td>\n",
       "    </tr>\n",
       "    <tr>\n",
       "      <th>7</th>\n",
       "      <td>7.0</td>\n",
       "      <td>0.000000</td>\n",
       "    </tr>\n",
       "    <tr>\n",
       "      <th>8</th>\n",
       "      <td>8.0</td>\n",
       "      <td>0.000000</td>\n",
       "    </tr>\n",
       "    <tr>\n",
       "      <th>9</th>\n",
       "      <td>9.0</td>\n",
       "      <td>0.000000</td>\n",
       "    </tr>\n",
       "  </tbody>\n",
       "</table>\n",
       "</div>"
      ],
      "text/plain": [
       "   target_bin         fr\n",
       "0         0.0   0.000000\n",
       "1         1.0   8.527265\n",
       "2         2.0   0.000000\n",
       "3         3.0   0.000000\n",
       "4         4.0   0.000000\n",
       "5         5.0   0.000000\n",
       "6         6.0  13.692304\n",
       "7         7.0   0.000000\n",
       "8         8.0   0.000000\n",
       "9         9.0   0.000000"
      ]
     },
     "execution_count": 39,
     "metadata": {},
     "output_type": "execute_result"
    }
   ],
   "source": [
    "# create the dataframe for ANOVA\n",
    "merged_array = np.transpose(np.vstack([target_bin_label,target_bins_trial]))\n",
    "df = pd.DataFrame(merged_array,columns=['target_bin', 'fr'] )\n",
    "\n",
    "df.head(10)"
   ]
  },
  {
   "cell_type": "code",
   "execution_count": 40,
   "id": "918cb583",
   "metadata": {
    "scrolled": true
   },
   "outputs": [
    {
     "name": "stdout",
     "output_type": "stream",
     "text": [
      "                    sum_sq      df         F    PR(>F)\n",
      "C(target_bin)   587.351090    47.0  1.533305  0.012842\n",
      "Residual       8997.882963  1104.0       NaN       NaN\n"
     ]
    }
   ],
   "source": [
    "# build the ANOVA model\n",
    "model = smf.ols('fr ~ C(target_bin)', data=df).fit()\n",
    "aov_table = anova_lm(model, typ=2)\n",
    "print(aov_table)"
   ]
  },
  {
   "cell_type": "code",
   "execution_count": 41,
   "id": "79dd3ee6",
   "metadata": {
    "scrolled": false
   },
   "outputs": [
    {
     "name": "stdout",
     "output_type": "stream",
     "text": [
      "1.5333053630663758\n"
     ]
    },
    {
     "data": {
      "text/html": [
       "<table class=\"simpletable\">\n",
       "<caption>OLS Regression Results</caption>\n",
       "<tr>\n",
       "  <th>Dep. Variable:</th>           <td>fr</td>        <th>  R-squared:         </th> <td>   0.061</td>\n",
       "</tr>\n",
       "<tr>\n",
       "  <th>Model:</th>                   <td>OLS</td>       <th>  Adj. R-squared:    </th> <td>   0.021</td>\n",
       "</tr>\n",
       "<tr>\n",
       "  <th>Method:</th>             <td>Least Squares</td>  <th>  F-statistic:       </th> <td>   1.533</td>\n",
       "</tr>\n",
       "<tr>\n",
       "  <th>Date:</th>             <td>Mon, 25 Apr 2022</td> <th>  Prob (F-statistic):</th>  <td>0.0128</td> \n",
       "</tr>\n",
       "<tr>\n",
       "  <th>Time:</th>                 <td>10:35:42</td>     <th>  Log-Likelihood:    </th> <td> -2818.6</td>\n",
       "</tr>\n",
       "<tr>\n",
       "  <th>No. Observations:</th>      <td>  1152</td>      <th>  AIC:               </th> <td>   5733.</td>\n",
       "</tr>\n",
       "<tr>\n",
       "  <th>Df Residuals:</th>          <td>  1104</td>      <th>  BIC:               </th> <td>   5976.</td>\n",
       "</tr>\n",
       "<tr>\n",
       "  <th>Df Model:</th>              <td>    47</td>      <th>                     </th>     <td> </td>   \n",
       "</tr>\n",
       "<tr>\n",
       "  <th>Covariance Type:</th>      <td>nonrobust</td>    <th>                     </th>     <td> </td>   \n",
       "</tr>\n",
       "</table>\n",
       "<table class=\"simpletable\">\n",
       "<tr>\n",
       "            <td></td>               <th>coef</th>     <th>std err</th>      <th>t</th>      <th>P>|t|</th>  <th>[0.025</th>    <th>0.975]</th>  \n",
       "</tr>\n",
       "<tr>\n",
       "  <th>Intercept</th>             <td>    0.2700</td> <td>    0.583</td> <td>    0.463</td> <td> 0.643</td> <td>   -0.873</td> <td>    1.413</td>\n",
       "</tr>\n",
       "<tr>\n",
       "  <th>C(target_bin)[T.1.0]</th>  <td>    1.5563</td> <td>    0.824</td> <td>    1.888</td> <td> 0.059</td> <td>   -0.061</td> <td>    3.173</td>\n",
       "</tr>\n",
       "<tr>\n",
       "  <th>C(target_bin)[T.2.0]</th>  <td>   -0.0310</td> <td>    0.824</td> <td>   -0.038</td> <td> 0.970</td> <td>   -1.648</td> <td>    1.586</td>\n",
       "</tr>\n",
       "<tr>\n",
       "  <th>C(target_bin)[T.3.0]</th>  <td>   -0.2700</td> <td>    0.824</td> <td>   -0.328</td> <td> 0.743</td> <td>   -1.887</td> <td>    1.347</td>\n",
       "</tr>\n",
       "<tr>\n",
       "  <th>C(target_bin)[T.4.0]</th>  <td>    0.9491</td> <td>    0.824</td> <td>    1.152</td> <td> 0.250</td> <td>   -0.668</td> <td>    2.566</td>\n",
       "</tr>\n",
       "<tr>\n",
       "  <th>C(target_bin)[T.5.0]</th>  <td>   -0.0958</td> <td>    0.824</td> <td>   -0.116</td> <td> 0.907</td> <td>   -1.713</td> <td>    1.521</td>\n",
       "</tr>\n",
       "<tr>\n",
       "  <th>C(target_bin)[T.6.0]</th>  <td>    1.4894</td> <td>    0.824</td> <td>    1.807</td> <td> 0.071</td> <td>   -0.128</td> <td>    3.106</td>\n",
       "</tr>\n",
       "<tr>\n",
       "  <th>C(target_bin)[T.7.0]</th>  <td>   -0.2700</td> <td>    0.824</td> <td>   -0.328</td> <td> 0.743</td> <td>   -1.887</td> <td>    1.347</td>\n",
       "</tr>\n",
       "<tr>\n",
       "  <th>C(target_bin)[T.8.0]</th>  <td>    0.3294</td> <td>    0.824</td> <td>    0.400</td> <td> 0.689</td> <td>   -1.288</td> <td>    1.946</td>\n",
       "</tr>\n",
       "<tr>\n",
       "  <th>C(target_bin)[T.9.0]</th>  <td>    0.3454</td> <td>    0.824</td> <td>    0.419</td> <td> 0.675</td> <td>   -1.272</td> <td>    1.962</td>\n",
       "</tr>\n",
       "<tr>\n",
       "  <th>C(target_bin)[T.10.0]</th> <td>    0.0895</td> <td>    0.824</td> <td>    0.109</td> <td> 0.914</td> <td>   -1.528</td> <td>    1.707</td>\n",
       "</tr>\n",
       "<tr>\n",
       "  <th>C(target_bin)[T.11.0]</th> <td>    0.0723</td> <td>    0.824</td> <td>    0.088</td> <td> 0.930</td> <td>   -1.545</td> <td>    1.689</td>\n",
       "</tr>\n",
       "<tr>\n",
       "  <th>C(target_bin)[T.12.0]</th> <td>    0.9871</td> <td>    0.824</td> <td>    1.198</td> <td> 0.231</td> <td>   -0.630</td> <td>    2.604</td>\n",
       "</tr>\n",
       "<tr>\n",
       "  <th>C(target_bin)[T.13.0]</th> <td>    0.0371</td> <td>    0.824</td> <td>    0.045</td> <td> 0.964</td> <td>   -1.580</td> <td>    1.654</td>\n",
       "</tr>\n",
       "<tr>\n",
       "  <th>C(target_bin)[T.14.0]</th> <td>    0.2584</td> <td>    0.824</td> <td>    0.314</td> <td> 0.754</td> <td>   -1.359</td> <td>    1.875</td>\n",
       "</tr>\n",
       "<tr>\n",
       "  <th>C(target_bin)[T.15.0]</th> <td>    2.7445</td> <td>    0.824</td> <td>    3.330</td> <td> 0.001</td> <td>    1.127</td> <td>    4.362</td>\n",
       "</tr>\n",
       "<tr>\n",
       "  <th>C(target_bin)[T.16.0]</th> <td>    1.2929</td> <td>    0.824</td> <td>    1.569</td> <td> 0.117</td> <td>   -0.324</td> <td>    2.910</td>\n",
       "</tr>\n",
       "<tr>\n",
       "  <th>C(target_bin)[T.17.0]</th> <td>    2.0357</td> <td>    0.824</td> <td>    2.470</td> <td> 0.014</td> <td>    0.419</td> <td>    3.653</td>\n",
       "</tr>\n",
       "<tr>\n",
       "  <th>C(target_bin)[T.18.0]</th> <td>   -0.2700</td> <td>    0.824</td> <td>   -0.328</td> <td> 0.743</td> <td>   -1.887</td> <td>    1.347</td>\n",
       "</tr>\n",
       "<tr>\n",
       "  <th>C(target_bin)[T.19.0]</th> <td>   -0.0747</td> <td>    0.824</td> <td>   -0.091</td> <td> 0.928</td> <td>   -1.692</td> <td>    1.542</td>\n",
       "</tr>\n",
       "<tr>\n",
       "  <th>C(target_bin)[T.20.0]</th> <td>    0.0385</td> <td>    0.824</td> <td>    0.047</td> <td> 0.963</td> <td>   -1.579</td> <td>    1.655</td>\n",
       "</tr>\n",
       "<tr>\n",
       "  <th>C(target_bin)[T.21.0]</th> <td>    0.4994</td> <td>    0.824</td> <td>    0.606</td> <td> 0.545</td> <td>   -1.118</td> <td>    2.116</td>\n",
       "</tr>\n",
       "<tr>\n",
       "  <th>C(target_bin)[T.22.0]</th> <td>    1.1217</td> <td>    0.824</td> <td>    1.361</td> <td> 0.174</td> <td>   -0.495</td> <td>    2.739</td>\n",
       "</tr>\n",
       "<tr>\n",
       "  <th>C(target_bin)[T.23.0]</th> <td>   -0.2700</td> <td>    0.824</td> <td>   -0.328</td> <td> 0.743</td> <td>   -1.887</td> <td>    1.347</td>\n",
       "</tr>\n",
       "<tr>\n",
       "  <th>C(target_bin)[T.24.0]</th> <td>    0.3422</td> <td>    0.824</td> <td>    0.415</td> <td> 0.678</td> <td>   -1.275</td> <td>    1.959</td>\n",
       "</tr>\n",
       "<tr>\n",
       "  <th>C(target_bin)[T.25.0]</th> <td>    0.2533</td> <td>    0.824</td> <td>    0.307</td> <td> 0.759</td> <td>   -1.364</td> <td>    1.870</td>\n",
       "</tr>\n",
       "<tr>\n",
       "  <th>C(target_bin)[T.26.0]</th> <td>    0.3663</td> <td>    0.824</td> <td>    0.445</td> <td> 0.657</td> <td>   -1.251</td> <td>    1.983</td>\n",
       "</tr>\n",
       "<tr>\n",
       "  <th>C(target_bin)[T.27.0]</th> <td>   -0.0459</td> <td>    0.824</td> <td>   -0.056</td> <td> 0.956</td> <td>   -1.663</td> <td>    1.571</td>\n",
       "</tr>\n",
       "<tr>\n",
       "  <th>C(target_bin)[T.28.0]</th> <td>    0.2656</td> <td>    0.824</td> <td>    0.322</td> <td> 0.747</td> <td>   -1.351</td> <td>    1.883</td>\n",
       "</tr>\n",
       "<tr>\n",
       "  <th>C(target_bin)[T.29.0]</th> <td>   -0.2700</td> <td>    0.824</td> <td>   -0.328</td> <td> 0.743</td> <td>   -1.887</td> <td>    1.347</td>\n",
       "</tr>\n",
       "<tr>\n",
       "  <th>C(target_bin)[T.30.0]</th> <td>    1.7358</td> <td>    0.824</td> <td>    2.106</td> <td> 0.035</td> <td>    0.119</td> <td>    3.353</td>\n",
       "</tr>\n",
       "<tr>\n",
       "  <th>C(target_bin)[T.31.0]</th> <td>    0.2520</td> <td>    0.824</td> <td>    0.306</td> <td> 0.760</td> <td>   -1.365</td> <td>    1.869</td>\n",
       "</tr>\n",
       "<tr>\n",
       "  <th>C(target_bin)[T.32.0]</th> <td>    1.7756</td> <td>    0.824</td> <td>    2.155</td> <td> 0.031</td> <td>    0.159</td> <td>    3.393</td>\n",
       "</tr>\n",
       "<tr>\n",
       "  <th>C(target_bin)[T.33.0]</th> <td>    0.9237</td> <td>    0.824</td> <td>    1.121</td> <td> 0.263</td> <td>   -0.693</td> <td>    2.541</td>\n",
       "</tr>\n",
       "<tr>\n",
       "  <th>C(target_bin)[T.34.0]</th> <td>    0.1357</td> <td>    0.824</td> <td>    0.165</td> <td> 0.869</td> <td>   -1.481</td> <td>    1.753</td>\n",
       "</tr>\n",
       "<tr>\n",
       "  <th>C(target_bin)[T.35.0]</th> <td>    0.1203</td> <td>    0.824</td> <td>    0.146</td> <td> 0.884</td> <td>   -1.497</td> <td>    1.737</td>\n",
       "</tr>\n",
       "<tr>\n",
       "  <th>C(target_bin)[T.36.0]</th> <td>   -0.2700</td> <td>    0.824</td> <td>   -0.328</td> <td> 0.743</td> <td>   -1.887</td> <td>    1.347</td>\n",
       "</tr>\n",
       "<tr>\n",
       "  <th>C(target_bin)[T.37.0]</th> <td>    1.3411</td> <td>    0.824</td> <td>    1.627</td> <td> 0.104</td> <td>   -0.276</td> <td>    2.958</td>\n",
       "</tr>\n",
       "<tr>\n",
       "  <th>C(target_bin)[T.38.0]</th> <td>    0.6525</td> <td>    0.824</td> <td>    0.792</td> <td> 0.429</td> <td>   -0.965</td> <td>    2.270</td>\n",
       "</tr>\n",
       "<tr>\n",
       "  <th>C(target_bin)[T.39.0]</th> <td>   -0.0459</td> <td>    0.824</td> <td>   -0.056</td> <td> 0.956</td> <td>   -1.663</td> <td>    1.571</td>\n",
       "</tr>\n",
       "<tr>\n",
       "  <th>C(target_bin)[T.40.0]</th> <td>    0.2762</td> <td>    0.824</td> <td>    0.335</td> <td> 0.738</td> <td>   -1.341</td> <td>    1.893</td>\n",
       "</tr>\n",
       "<tr>\n",
       "  <th>C(target_bin)[T.41.0]</th> <td>   -0.2700</td> <td>    0.824</td> <td>   -0.328</td> <td> 0.743</td> <td>   -1.887</td> <td>    1.347</td>\n",
       "</tr>\n",
       "<tr>\n",
       "  <th>C(target_bin)[T.42.0]</th> <td>   -0.0542</td> <td>    0.824</td> <td>   -0.066</td> <td> 0.948</td> <td>   -1.671</td> <td>    1.563</td>\n",
       "</tr>\n",
       "<tr>\n",
       "  <th>C(target_bin)[T.43.0]</th> <td>    1.1171</td> <td>    0.824</td> <td>    1.355</td> <td> 0.176</td> <td>   -0.500</td> <td>    2.734</td>\n",
       "</tr>\n",
       "<tr>\n",
       "  <th>C(target_bin)[T.44.0]</th> <td>    0.4355</td> <td>    0.824</td> <td>    0.528</td> <td> 0.597</td> <td>   -1.182</td> <td>    2.053</td>\n",
       "</tr>\n",
       "<tr>\n",
       "  <th>C(target_bin)[T.45.0]</th> <td>   -0.2700</td> <td>    0.824</td> <td>   -0.328</td> <td> 0.743</td> <td>   -1.887</td> <td>    1.347</td>\n",
       "</tr>\n",
       "<tr>\n",
       "  <th>C(target_bin)[T.46.0]</th> <td>    1.2065</td> <td>    0.824</td> <td>    1.464</td> <td> 0.143</td> <td>   -0.410</td> <td>    2.824</td>\n",
       "</tr>\n",
       "<tr>\n",
       "  <th>C(target_bin)[T.47.0]</th> <td>   -0.0718</td> <td>    0.824</td> <td>   -0.087</td> <td> 0.931</td> <td>   -1.689</td> <td>    1.545</td>\n",
       "</tr>\n",
       "</table>\n",
       "<table class=\"simpletable\">\n",
       "<tr>\n",
       "  <th>Omnibus:</th>       <td>1130.323</td> <th>  Durbin-Watson:     </th> <td>   2.128</td> \n",
       "</tr>\n",
       "<tr>\n",
       "  <th>Prob(Omnibus):</th>  <td> 0.000</td>  <th>  Jarque-Bera (JB):  </th> <td>45674.437</td>\n",
       "</tr>\n",
       "<tr>\n",
       "  <th>Skew:</th>           <td> 4.686</td>  <th>  Prob(JB):          </th> <td>    0.00</td> \n",
       "</tr>\n",
       "<tr>\n",
       "  <th>Kurtosis:</th>       <td>32.389</td>  <th>  Cond. No.          </th> <td>    49.0</td> \n",
       "</tr>\n",
       "</table><br/><br/>Notes:<br/>[1] Standard Errors assume that the covariance matrix of the errors is correctly specified."
      ],
      "text/plain": [
       "<class 'statsmodels.iolib.summary.Summary'>\n",
       "\"\"\"\n",
       "                            OLS Regression Results                            \n",
       "==============================================================================\n",
       "Dep. Variable:                     fr   R-squared:                       0.061\n",
       "Model:                            OLS   Adj. R-squared:                  0.021\n",
       "Method:                 Least Squares   F-statistic:                     1.533\n",
       "Date:                Mon, 25 Apr 2022   Prob (F-statistic):             0.0128\n",
       "Time:                        10:35:42   Log-Likelihood:                -2818.6\n",
       "No. Observations:                1152   AIC:                             5733.\n",
       "Df Residuals:                    1104   BIC:                             5976.\n",
       "Df Model:                          47                                         \n",
       "Covariance Type:            nonrobust                                         \n",
       "=========================================================================================\n",
       "                            coef    std err          t      P>|t|      [0.025      0.975]\n",
       "-----------------------------------------------------------------------------------------\n",
       "Intercept                 0.2700      0.583      0.463      0.643      -0.873       1.413\n",
       "C(target_bin)[T.1.0]      1.5563      0.824      1.888      0.059      -0.061       3.173\n",
       "C(target_bin)[T.2.0]     -0.0310      0.824     -0.038      0.970      -1.648       1.586\n",
       "C(target_bin)[T.3.0]     -0.2700      0.824     -0.328      0.743      -1.887       1.347\n",
       "C(target_bin)[T.4.0]      0.9491      0.824      1.152      0.250      -0.668       2.566\n",
       "C(target_bin)[T.5.0]     -0.0958      0.824     -0.116      0.907      -1.713       1.521\n",
       "C(target_bin)[T.6.0]      1.4894      0.824      1.807      0.071      -0.128       3.106\n",
       "C(target_bin)[T.7.0]     -0.2700      0.824     -0.328      0.743      -1.887       1.347\n",
       "C(target_bin)[T.8.0]      0.3294      0.824      0.400      0.689      -1.288       1.946\n",
       "C(target_bin)[T.9.0]      0.3454      0.824      0.419      0.675      -1.272       1.962\n",
       "C(target_bin)[T.10.0]     0.0895      0.824      0.109      0.914      -1.528       1.707\n",
       "C(target_bin)[T.11.0]     0.0723      0.824      0.088      0.930      -1.545       1.689\n",
       "C(target_bin)[T.12.0]     0.9871      0.824      1.198      0.231      -0.630       2.604\n",
       "C(target_bin)[T.13.0]     0.0371      0.824      0.045      0.964      -1.580       1.654\n",
       "C(target_bin)[T.14.0]     0.2584      0.824      0.314      0.754      -1.359       1.875\n",
       "C(target_bin)[T.15.0]     2.7445      0.824      3.330      0.001       1.127       4.362\n",
       "C(target_bin)[T.16.0]     1.2929      0.824      1.569      0.117      -0.324       2.910\n",
       "C(target_bin)[T.17.0]     2.0357      0.824      2.470      0.014       0.419       3.653\n",
       "C(target_bin)[T.18.0]    -0.2700      0.824     -0.328      0.743      -1.887       1.347\n",
       "C(target_bin)[T.19.0]    -0.0747      0.824     -0.091      0.928      -1.692       1.542\n",
       "C(target_bin)[T.20.0]     0.0385      0.824      0.047      0.963      -1.579       1.655\n",
       "C(target_bin)[T.21.0]     0.4994      0.824      0.606      0.545      -1.118       2.116\n",
       "C(target_bin)[T.22.0]     1.1217      0.824      1.361      0.174      -0.495       2.739\n",
       "C(target_bin)[T.23.0]    -0.2700      0.824     -0.328      0.743      -1.887       1.347\n",
       "C(target_bin)[T.24.0]     0.3422      0.824      0.415      0.678      -1.275       1.959\n",
       "C(target_bin)[T.25.0]     0.2533      0.824      0.307      0.759      -1.364       1.870\n",
       "C(target_bin)[T.26.0]     0.3663      0.824      0.445      0.657      -1.251       1.983\n",
       "C(target_bin)[T.27.0]    -0.0459      0.824     -0.056      0.956      -1.663       1.571\n",
       "C(target_bin)[T.28.0]     0.2656      0.824      0.322      0.747      -1.351       1.883\n",
       "C(target_bin)[T.29.0]    -0.2700      0.824     -0.328      0.743      -1.887       1.347\n",
       "C(target_bin)[T.30.0]     1.7358      0.824      2.106      0.035       0.119       3.353\n",
       "C(target_bin)[T.31.0]     0.2520      0.824      0.306      0.760      -1.365       1.869\n",
       "C(target_bin)[T.32.0]     1.7756      0.824      2.155      0.031       0.159       3.393\n",
       "C(target_bin)[T.33.0]     0.9237      0.824      1.121      0.263      -0.693       2.541\n",
       "C(target_bin)[T.34.0]     0.1357      0.824      0.165      0.869      -1.481       1.753\n",
       "C(target_bin)[T.35.0]     0.1203      0.824      0.146      0.884      -1.497       1.737\n",
       "C(target_bin)[T.36.0]    -0.2700      0.824     -0.328      0.743      -1.887       1.347\n",
       "C(target_bin)[T.37.0]     1.3411      0.824      1.627      0.104      -0.276       2.958\n",
       "C(target_bin)[T.38.0]     0.6525      0.824      0.792      0.429      -0.965       2.270\n",
       "C(target_bin)[T.39.0]    -0.0459      0.824     -0.056      0.956      -1.663       1.571\n",
       "C(target_bin)[T.40.0]     0.2762      0.824      0.335      0.738      -1.341       1.893\n",
       "C(target_bin)[T.41.0]    -0.2700      0.824     -0.328      0.743      -1.887       1.347\n",
       "C(target_bin)[T.42.0]    -0.0542      0.824     -0.066      0.948      -1.671       1.563\n",
       "C(target_bin)[T.43.0]     1.1171      0.824      1.355      0.176      -0.500       2.734\n",
       "C(target_bin)[T.44.0]     0.4355      0.824      0.528      0.597      -1.182       2.053\n",
       "C(target_bin)[T.45.0]    -0.2700      0.824     -0.328      0.743      -1.887       1.347\n",
       "C(target_bin)[T.46.0]     1.2065      0.824      1.464      0.143      -0.410       2.824\n",
       "C(target_bin)[T.47.0]    -0.0718      0.824     -0.087      0.931      -1.689       1.545\n",
       "==============================================================================\n",
       "Omnibus:                     1130.323   Durbin-Watson:                   2.128\n",
       "Prob(Omnibus):                  0.000   Jarque-Bera (JB):            45674.437\n",
       "Skew:                           4.686   Prob(JB):                         0.00\n",
       "Kurtosis:                      32.389   Cond. No.                         49.0\n",
       "==============================================================================\n",
       "\n",
       "Notes:\n",
       "[1] Standard Errors assume that the covariance matrix of the errors is correctly specified.\n",
       "\"\"\""
      ]
     },
     "execution_count": 41,
     "metadata": {},
     "output_type": "execute_result"
    }
   ],
   "source": [
    "# get the F-value from ANOVA model\n",
    "f_val = aov_table['F']['C(target_bin)']\n",
    "print(f_val)\n",
    "\n",
    "model.summary()"
   ]
  },
  {
   "cell_type": "markdown",
   "id": "75364227",
   "metadata": {},
   "source": [
    "# ANOVA Surrogate"
   ]
  },
  {
   "cell_type": "markdown",
   "id": "8fb80bef",
   "metadata": {},
   "source": [
    "### fr ~ C(target_bin), 100 surrogates"
   ]
  },
  {
   "cell_type": "code",
   "execution_count": 42,
   "id": "f942169a",
   "metadata": {},
   "outputs": [],
   "source": [
    "# get firing rate per bin, per trial, for shuffled data\n",
    "\n",
    "times_shuffle = shuffle_spikes(spikes, shuffle_approach, n_surrogates, shuffle_min=20000) #regular circ\n",
    "surrogates = []\n",
    "\n",
    "for i, j in enumerate (times_shuffle):\n",
    "    target_bins_1d = np.zeros([n_trials, 48])\n",
    "    \n",
    "    for t_ind in range(n_trials):\n",
    "    # t_ind= 5\n",
    "        t_st = nav_starts[t_ind]\n",
    "        ch_openings = chest_openings[t_ind]\n",
    "        t_en = ch_openings[-1]\n",
    "\n",
    "        t_mask = chest_trials == t_ind\n",
    "\n",
    "        t_time, t_pos = get_value_by_time_range(ptimes, positions, t_st, t_en)\n",
    "        ch_times = [get_value_by_time(t_time, t_pos, ch_op) for ch_op in ch_openings]\n",
    "\n",
    "        t_spikes = restrict_range(times_shuffle[i], t_st, t_en)\n",
    "        t_spike_xs, t_spike_ys = get_spike_positions(t_spikes, t_time, t_pos)\n",
    "\n",
    "        seg_times = np.diff(np.insert(ch_openings, 0, t_time[0]))\n",
    "        count = Counter({0 : 0, 1 : 0, 2 : 0, 3 : 0})\n",
    "        count.update(np.digitize(t_spikes, ch_openings))\n",
    "\n",
    "        frs = np.array(list(count.values())) / seg_times\n",
    "\n",
    "        cur_ch_xbin = ch_xbin[t_mask]\n",
    "        cur_ch_ybin = ch_ybin[t_mask]\n",
    "\n",
    "        target_bins = np.zeros(chest_bins)\n",
    "        for fr, xbin, ybin in zip(frs, cur_ch_xbin, cur_ch_ybin):\n",
    "            target_bins[xbin, ybin] = fr\n",
    "\n",
    "        target_bins_1d[t_ind,:] = target_bins.flatten()\n",
    "        \n",
    "    target_bins_trial=target_bins_1d.flatten()\n",
    "\n",
    "    target_bin_label = np.array(range(0, 48))\n",
    "    target_bin_label = np.tile(target_bin_label,n_trials)\n",
    "\n",
    "    merged_array = np.transpose(np.vstack([target_bin_label,target_bins_trial]))\n",
    "    df = pd.DataFrame(merged_array,columns=['target_bin', 'fr'])\n",
    "    \n",
    "    model = smf.ols('fr ~ C(target_bin)', data=df).fit()\n",
    "    aov_table = anova_lm(model, typ=2)\n",
    "    f_val_surrs = aov_table['F']['C(target_bin)']\n",
    "    \n",
    "    surrogates.append(f_val_surrs)"
   ]
  },
  {
   "cell_type": "code",
   "execution_count": 43,
   "id": "637558ef",
   "metadata": {
    "scrolled": false
   },
   "outputs": [
    {
     "data": {
      "text/html": [
       "<table class=\"simpletable\">\n",
       "<caption>OLS Regression Results</caption>\n",
       "<tr>\n",
       "  <th>Dep. Variable:</th>           <td>fr</td>        <th>  R-squared:         </th> <td>   0.055</td>\n",
       "</tr>\n",
       "<tr>\n",
       "  <th>Model:</th>                   <td>OLS</td>       <th>  Adj. R-squared:    </th> <td>   0.014</td>\n",
       "</tr>\n",
       "<tr>\n",
       "  <th>Method:</th>             <td>Least Squares</td>  <th>  F-statistic:       </th> <td>   1.355</td>\n",
       "</tr>\n",
       "<tr>\n",
       "  <th>Date:</th>             <td>Mon, 25 Apr 2022</td> <th>  Prob (F-statistic):</th>  <td>0.0579</td> \n",
       "</tr>\n",
       "<tr>\n",
       "  <th>Time:</th>                 <td>10:35:50</td>     <th>  Log-Likelihood:    </th> <td> -2792.4</td>\n",
       "</tr>\n",
       "<tr>\n",
       "  <th>No. Observations:</th>      <td>  1152</td>      <th>  AIC:               </th> <td>   5681.</td>\n",
       "</tr>\n",
       "<tr>\n",
       "  <th>Df Residuals:</th>          <td>  1104</td>      <th>  BIC:               </th> <td>   5923.</td>\n",
       "</tr>\n",
       "<tr>\n",
       "  <th>Df Model:</th>              <td>    47</td>      <th>                     </th>     <td> </td>   \n",
       "</tr>\n",
       "<tr>\n",
       "  <th>Covariance Type:</th>      <td>nonrobust</td>    <th>                     </th>     <td> </td>   \n",
       "</tr>\n",
       "</table>\n",
       "<table class=\"simpletable\">\n",
       "<tr>\n",
       "            <td></td>               <th>coef</th>     <th>std err</th>      <th>t</th>      <th>P>|t|</th>  <th>[0.025</th>    <th>0.975]</th>  \n",
       "</tr>\n",
       "<tr>\n",
       "  <th>Intercept</th>             <td>    0.3075</td> <td>    0.570</td> <td>    0.540</td> <td> 0.589</td> <td>   -0.810</td> <td>    1.425</td>\n",
       "</tr>\n",
       "<tr>\n",
       "  <th>C(target_bin)[T.1.0]</th>  <td>    2.0154</td> <td>    0.806</td> <td>    2.502</td> <td> 0.012</td> <td>    0.435</td> <td>    3.596</td>\n",
       "</tr>\n",
       "<tr>\n",
       "  <th>C(target_bin)[T.2.0]</th>  <td>   -0.1112</td> <td>    0.806</td> <td>   -0.138</td> <td> 0.890</td> <td>   -1.692</td> <td>    1.469</td>\n",
       "</tr>\n",
       "<tr>\n",
       "  <th>C(target_bin)[T.3.0]</th>  <td>   -0.3075</td> <td>    0.806</td> <td>   -0.382</td> <td> 0.703</td> <td>   -1.888</td> <td>    1.273</td>\n",
       "</tr>\n",
       "<tr>\n",
       "  <th>C(target_bin)[T.4.0]</th>  <td>    0.6452</td> <td>    0.806</td> <td>    0.801</td> <td> 0.423</td> <td>   -0.935</td> <td>    2.226</td>\n",
       "</tr>\n",
       "<tr>\n",
       "  <th>C(target_bin)[T.5.0]</th>  <td>   -0.0378</td> <td>    0.806</td> <td>   -0.047</td> <td> 0.963</td> <td>   -1.618</td> <td>    1.543</td>\n",
       "</tr>\n",
       "<tr>\n",
       "  <th>C(target_bin)[T.6.0]</th>  <td>    0.9913</td> <td>    0.806</td> <td>    1.230</td> <td> 0.219</td> <td>   -0.589</td> <td>    2.572</td>\n",
       "</tr>\n",
       "<tr>\n",
       "  <th>C(target_bin)[T.7.0]</th>  <td>   -0.3075</td> <td>    0.806</td> <td>   -0.382</td> <td> 0.703</td> <td>   -1.888</td> <td>    1.273</td>\n",
       "</tr>\n",
       "<tr>\n",
       "  <th>C(target_bin)[T.8.0]</th>  <td>    0.1662</td> <td>    0.806</td> <td>    0.206</td> <td> 0.837</td> <td>   -1.414</td> <td>    1.747</td>\n",
       "</tr>\n",
       "<tr>\n",
       "  <th>C(target_bin)[T.9.0]</th>  <td>    0.2263</td> <td>    0.806</td> <td>    0.281</td> <td> 0.779</td> <td>   -1.354</td> <td>    1.807</td>\n",
       "</tr>\n",
       "<tr>\n",
       "  <th>C(target_bin)[T.10.0]</th> <td>    0.2579</td> <td>    0.806</td> <td>    0.320</td> <td> 0.749</td> <td>   -1.323</td> <td>    1.839</td>\n",
       "</tr>\n",
       "<tr>\n",
       "  <th>C(target_bin)[T.11.0]</th> <td>   -0.0399</td> <td>    0.806</td> <td>   -0.050</td> <td> 0.961</td> <td>   -1.621</td> <td>    1.541</td>\n",
       "</tr>\n",
       "<tr>\n",
       "  <th>C(target_bin)[T.12.0]</th> <td>    0.6682</td> <td>    0.806</td> <td>    0.829</td> <td> 0.407</td> <td>   -0.912</td> <td>    2.249</td>\n",
       "</tr>\n",
       "<tr>\n",
       "  <th>C(target_bin)[T.13.0]</th> <td>    0.0259</td> <td>    0.806</td> <td>    0.032</td> <td> 0.974</td> <td>   -1.555</td> <td>    1.607</td>\n",
       "</tr>\n",
       "<tr>\n",
       "  <th>C(target_bin)[T.14.0]</th> <td>    0.1369</td> <td>    0.806</td> <td>    0.170</td> <td> 0.865</td> <td>   -1.444</td> <td>    1.718</td>\n",
       "</tr>\n",
       "<tr>\n",
       "  <th>C(target_bin)[T.15.0]</th> <td>    2.4112</td> <td>    0.806</td> <td>    2.993</td> <td> 0.003</td> <td>    0.831</td> <td>    3.992</td>\n",
       "</tr>\n",
       "<tr>\n",
       "  <th>C(target_bin)[T.16.0]</th> <td>    1.0663</td> <td>    0.806</td> <td>    1.324</td> <td> 0.186</td> <td>   -0.514</td> <td>    2.647</td>\n",
       "</tr>\n",
       "<tr>\n",
       "  <th>C(target_bin)[T.17.0]</th> <td>    1.7786</td> <td>    0.806</td> <td>    2.208</td> <td> 0.027</td> <td>    0.198</td> <td>    3.359</td>\n",
       "</tr>\n",
       "<tr>\n",
       "  <th>C(target_bin)[T.18.0]</th> <td>   -0.3075</td> <td>    0.806</td> <td>   -0.382</td> <td> 0.703</td> <td>   -1.888</td> <td>    1.273</td>\n",
       "</tr>\n",
       "<tr>\n",
       "  <th>C(target_bin)[T.19.0]</th> <td>   -0.1308</td> <td>    0.806</td> <td>   -0.162</td> <td> 0.871</td> <td>   -1.711</td> <td>    1.450</td>\n",
       "</tr>\n",
       "<tr>\n",
       "  <th>C(target_bin)[T.20.0]</th> <td>   -0.1799</td> <td>    0.806</td> <td>   -0.223</td> <td> 0.823</td> <td>   -1.761</td> <td>    1.401</td>\n",
       "</tr>\n",
       "<tr>\n",
       "  <th>C(target_bin)[T.21.0]</th> <td>    0.4490</td> <td>    0.806</td> <td>    0.557</td> <td> 0.577</td> <td>   -1.132</td> <td>    2.030</td>\n",
       "</tr>\n",
       "<tr>\n",
       "  <th>C(target_bin)[T.22.0]</th> <td>    0.7315</td> <td>    0.806</td> <td>    0.908</td> <td> 0.364</td> <td>   -0.849</td> <td>    2.312</td>\n",
       "</tr>\n",
       "<tr>\n",
       "  <th>C(target_bin)[T.23.0]</th> <td>   -0.3075</td> <td>    0.806</td> <td>   -0.382</td> <td> 0.703</td> <td>   -1.888</td> <td>    1.273</td>\n",
       "</tr>\n",
       "<tr>\n",
       "  <th>C(target_bin)[T.24.0]</th> <td>    0.7638</td> <td>    0.806</td> <td>    0.948</td> <td> 0.343</td> <td>   -0.817</td> <td>    2.344</td>\n",
       "</tr>\n",
       "<tr>\n",
       "  <th>C(target_bin)[T.25.0]</th> <td>    0.2656</td> <td>    0.806</td> <td>    0.330</td> <td> 0.742</td> <td>   -1.315</td> <td>    1.846</td>\n",
       "</tr>\n",
       "<tr>\n",
       "  <th>C(target_bin)[T.26.0]</th> <td>    0.6478</td> <td>    0.806</td> <td>    0.804</td> <td> 0.421</td> <td>   -0.933</td> <td>    2.228</td>\n",
       "</tr>\n",
       "<tr>\n",
       "  <th>C(target_bin)[T.27.0]</th> <td>    0.0185</td> <td>    0.806</td> <td>    0.023</td> <td> 0.982</td> <td>   -1.562</td> <td>    1.599</td>\n",
       "</tr>\n",
       "<tr>\n",
       "  <th>C(target_bin)[T.28.0]</th> <td>    0.0928</td> <td>    0.806</td> <td>    0.115</td> <td> 0.908</td> <td>   -1.488</td> <td>    1.673</td>\n",
       "</tr>\n",
       "<tr>\n",
       "  <th>C(target_bin)[T.29.0]</th> <td>   -0.3075</td> <td>    0.806</td> <td>   -0.382</td> <td> 0.703</td> <td>   -1.888</td> <td>    1.273</td>\n",
       "</tr>\n",
       "<tr>\n",
       "  <th>C(target_bin)[T.30.0]</th> <td>    1.2531</td> <td>    0.806</td> <td>    1.556</td> <td> 0.120</td> <td>   -0.328</td> <td>    2.834</td>\n",
       "</tr>\n",
       "<tr>\n",
       "  <th>C(target_bin)[T.31.0]</th> <td>    0.2113</td> <td>    0.806</td> <td>    0.262</td> <td> 0.793</td> <td>   -1.369</td> <td>    1.792</td>\n",
       "</tr>\n",
       "<tr>\n",
       "  <th>C(target_bin)[T.32.0]</th> <td>    1.7439</td> <td>    0.806</td> <td>    2.165</td> <td> 0.031</td> <td>    0.163</td> <td>    3.325</td>\n",
       "</tr>\n",
       "<tr>\n",
       "  <th>C(target_bin)[T.33.0]</th> <td>    0.7313</td> <td>    0.806</td> <td>    0.908</td> <td> 0.364</td> <td>   -0.849</td> <td>    2.312</td>\n",
       "</tr>\n",
       "<tr>\n",
       "  <th>C(target_bin)[T.34.0]</th> <td>    0.1277</td> <td>    0.806</td> <td>    0.158</td> <td> 0.874</td> <td>   -1.453</td> <td>    1.708</td>\n",
       "</tr>\n",
       "<tr>\n",
       "  <th>C(target_bin)[T.35.0]</th> <td>    0.3544</td> <td>    0.806</td> <td>    0.440</td> <td> 0.660</td> <td>   -1.226</td> <td>    1.935</td>\n",
       "</tr>\n",
       "<tr>\n",
       "  <th>C(target_bin)[T.36.0]</th> <td>   -0.3075</td> <td>    0.806</td> <td>   -0.382</td> <td> 0.703</td> <td>   -1.888</td> <td>    1.273</td>\n",
       "</tr>\n",
       "<tr>\n",
       "  <th>C(target_bin)[T.37.0]</th> <td>    1.1877</td> <td>    0.806</td> <td>    1.474</td> <td> 0.141</td> <td>   -0.393</td> <td>    2.768</td>\n",
       "</tr>\n",
       "<tr>\n",
       "  <th>C(target_bin)[T.38.0]</th> <td>    0.5077</td> <td>    0.806</td> <td>    0.630</td> <td> 0.529</td> <td>   -1.073</td> <td>    2.088</td>\n",
       "</tr>\n",
       "<tr>\n",
       "  <th>C(target_bin)[T.39.0]</th> <td>   -0.0761</td> <td>    0.806</td> <td>   -0.095</td> <td> 0.925</td> <td>   -1.657</td> <td>    1.505</td>\n",
       "</tr>\n",
       "<tr>\n",
       "  <th>C(target_bin)[T.40.0]</th> <td>    0.3916</td> <td>    0.806</td> <td>    0.486</td> <td> 0.627</td> <td>   -1.189</td> <td>    1.972</td>\n",
       "</tr>\n",
       "<tr>\n",
       "  <th>C(target_bin)[T.41.0]</th> <td>   -0.3075</td> <td>    0.806</td> <td>   -0.382</td> <td> 0.703</td> <td>   -1.888</td> <td>    1.273</td>\n",
       "</tr>\n",
       "<tr>\n",
       "  <th>C(target_bin)[T.42.0]</th> <td>   -0.0673</td> <td>    0.806</td> <td>   -0.084</td> <td> 0.933</td> <td>   -1.648</td> <td>    1.513</td>\n",
       "</tr>\n",
       "<tr>\n",
       "  <th>C(target_bin)[T.43.0]</th> <td>    1.0091</td> <td>    0.806</td> <td>    1.253</td> <td> 0.211</td> <td>   -0.572</td> <td>    2.590</td>\n",
       "</tr>\n",
       "<tr>\n",
       "  <th>C(target_bin)[T.44.0]</th> <td>    0.0746</td> <td>    0.806</td> <td>    0.093</td> <td> 0.926</td> <td>   -1.506</td> <td>    1.655</td>\n",
       "</tr>\n",
       "<tr>\n",
       "  <th>C(target_bin)[T.45.0]</th> <td>   -0.3075</td> <td>    0.806</td> <td>   -0.382</td> <td> 0.703</td> <td>   -1.888</td> <td>    1.273</td>\n",
       "</tr>\n",
       "<tr>\n",
       "  <th>C(target_bin)[T.46.0]</th> <td>    0.9993</td> <td>    0.806</td> <td>    1.240</td> <td> 0.215</td> <td>   -0.581</td> <td>    2.580</td>\n",
       "</tr>\n",
       "<tr>\n",
       "  <th>C(target_bin)[T.47.0]</th> <td>   -0.0527</td> <td>    0.806</td> <td>   -0.065</td> <td> 0.948</td> <td>   -1.633</td> <td>    1.528</td>\n",
       "</tr>\n",
       "</table>\n",
       "<table class=\"simpletable\">\n",
       "<tr>\n",
       "  <th>Omnibus:</th>       <td>1214.382</td> <th>  Durbin-Watson:     </th> <td>   2.118</td> \n",
       "</tr>\n",
       "<tr>\n",
       "  <th>Prob(Omnibus):</th>  <td> 0.000</td>  <th>  Jarque-Bera (JB):  </th> <td>64165.761</td>\n",
       "</tr>\n",
       "<tr>\n",
       "  <th>Skew:</th>           <td> 5.165</td>  <th>  Prob(JB):          </th> <td>    0.00</td> \n",
       "</tr>\n",
       "<tr>\n",
       "  <th>Kurtosis:</th>       <td>38.072</td>  <th>  Cond. No.          </th> <td>    49.0</td> \n",
       "</tr>\n",
       "</table><br/><br/>Notes:<br/>[1] Standard Errors assume that the covariance matrix of the errors is correctly specified."
      ],
      "text/plain": [
       "<class 'statsmodels.iolib.summary.Summary'>\n",
       "\"\"\"\n",
       "                            OLS Regression Results                            \n",
       "==============================================================================\n",
       "Dep. Variable:                     fr   R-squared:                       0.055\n",
       "Model:                            OLS   Adj. R-squared:                  0.014\n",
       "Method:                 Least Squares   F-statistic:                     1.355\n",
       "Date:                Mon, 25 Apr 2022   Prob (F-statistic):             0.0579\n",
       "Time:                        10:35:50   Log-Likelihood:                -2792.4\n",
       "No. Observations:                1152   AIC:                             5681.\n",
       "Df Residuals:                    1104   BIC:                             5923.\n",
       "Df Model:                          47                                         \n",
       "Covariance Type:            nonrobust                                         \n",
       "=========================================================================================\n",
       "                            coef    std err          t      P>|t|      [0.025      0.975]\n",
       "-----------------------------------------------------------------------------------------\n",
       "Intercept                 0.3075      0.570      0.540      0.589      -0.810       1.425\n",
       "C(target_bin)[T.1.0]      2.0154      0.806      2.502      0.012       0.435       3.596\n",
       "C(target_bin)[T.2.0]     -0.1112      0.806     -0.138      0.890      -1.692       1.469\n",
       "C(target_bin)[T.3.0]     -0.3075      0.806     -0.382      0.703      -1.888       1.273\n",
       "C(target_bin)[T.4.0]      0.6452      0.806      0.801      0.423      -0.935       2.226\n",
       "C(target_bin)[T.5.0]     -0.0378      0.806     -0.047      0.963      -1.618       1.543\n",
       "C(target_bin)[T.6.0]      0.9913      0.806      1.230      0.219      -0.589       2.572\n",
       "C(target_bin)[T.7.0]     -0.3075      0.806     -0.382      0.703      -1.888       1.273\n",
       "C(target_bin)[T.8.0]      0.1662      0.806      0.206      0.837      -1.414       1.747\n",
       "C(target_bin)[T.9.0]      0.2263      0.806      0.281      0.779      -1.354       1.807\n",
       "C(target_bin)[T.10.0]     0.2579      0.806      0.320      0.749      -1.323       1.839\n",
       "C(target_bin)[T.11.0]    -0.0399      0.806     -0.050      0.961      -1.621       1.541\n",
       "C(target_bin)[T.12.0]     0.6682      0.806      0.829      0.407      -0.912       2.249\n",
       "C(target_bin)[T.13.0]     0.0259      0.806      0.032      0.974      -1.555       1.607\n",
       "C(target_bin)[T.14.0]     0.1369      0.806      0.170      0.865      -1.444       1.718\n",
       "C(target_bin)[T.15.0]     2.4112      0.806      2.993      0.003       0.831       3.992\n",
       "C(target_bin)[T.16.0]     1.0663      0.806      1.324      0.186      -0.514       2.647\n",
       "C(target_bin)[T.17.0]     1.7786      0.806      2.208      0.027       0.198       3.359\n",
       "C(target_bin)[T.18.0]    -0.3075      0.806     -0.382      0.703      -1.888       1.273\n",
       "C(target_bin)[T.19.0]    -0.1308      0.806     -0.162      0.871      -1.711       1.450\n",
       "C(target_bin)[T.20.0]    -0.1799      0.806     -0.223      0.823      -1.761       1.401\n",
       "C(target_bin)[T.21.0]     0.4490      0.806      0.557      0.577      -1.132       2.030\n",
       "C(target_bin)[T.22.0]     0.7315      0.806      0.908      0.364      -0.849       2.312\n",
       "C(target_bin)[T.23.0]    -0.3075      0.806     -0.382      0.703      -1.888       1.273\n",
       "C(target_bin)[T.24.0]     0.7638      0.806      0.948      0.343      -0.817       2.344\n",
       "C(target_bin)[T.25.0]     0.2656      0.806      0.330      0.742      -1.315       1.846\n",
       "C(target_bin)[T.26.0]     0.6478      0.806      0.804      0.421      -0.933       2.228\n",
       "C(target_bin)[T.27.0]     0.0185      0.806      0.023      0.982      -1.562       1.599\n",
       "C(target_bin)[T.28.0]     0.0928      0.806      0.115      0.908      -1.488       1.673\n",
       "C(target_bin)[T.29.0]    -0.3075      0.806     -0.382      0.703      -1.888       1.273\n",
       "C(target_bin)[T.30.0]     1.2531      0.806      1.556      0.120      -0.328       2.834\n",
       "C(target_bin)[T.31.0]     0.2113      0.806      0.262      0.793      -1.369       1.792\n",
       "C(target_bin)[T.32.0]     1.7439      0.806      2.165      0.031       0.163       3.325\n",
       "C(target_bin)[T.33.0]     0.7313      0.806      0.908      0.364      -0.849       2.312\n",
       "C(target_bin)[T.34.0]     0.1277      0.806      0.158      0.874      -1.453       1.708\n",
       "C(target_bin)[T.35.0]     0.3544      0.806      0.440      0.660      -1.226       1.935\n",
       "C(target_bin)[T.36.0]    -0.3075      0.806     -0.382      0.703      -1.888       1.273\n",
       "C(target_bin)[T.37.0]     1.1877      0.806      1.474      0.141      -0.393       2.768\n",
       "C(target_bin)[T.38.0]     0.5077      0.806      0.630      0.529      -1.073       2.088\n",
       "C(target_bin)[T.39.0]    -0.0761      0.806     -0.095      0.925      -1.657       1.505\n",
       "C(target_bin)[T.40.0]     0.3916      0.806      0.486      0.627      -1.189       1.972\n",
       "C(target_bin)[T.41.0]    -0.3075      0.806     -0.382      0.703      -1.888       1.273\n",
       "C(target_bin)[T.42.0]    -0.0673      0.806     -0.084      0.933      -1.648       1.513\n",
       "C(target_bin)[T.43.0]     1.0091      0.806      1.253      0.211      -0.572       2.590\n",
       "C(target_bin)[T.44.0]     0.0746      0.806      0.093      0.926      -1.506       1.655\n",
       "C(target_bin)[T.45.0]    -0.3075      0.806     -0.382      0.703      -1.888       1.273\n",
       "C(target_bin)[T.46.0]     0.9993      0.806      1.240      0.215      -0.581       2.580\n",
       "C(target_bin)[T.47.0]    -0.0527      0.806     -0.065      0.948      -1.633       1.528\n",
       "==============================================================================\n",
       "Omnibus:                     1214.382   Durbin-Watson:                   2.118\n",
       "Prob(Omnibus):                  0.000   Jarque-Bera (JB):            64165.761\n",
       "Skew:                           5.165   Prob(JB):                         0.00\n",
       "Kurtosis:                      38.072   Cond. No.                         49.0\n",
       "==============================================================================\n",
       "\n",
       "Notes:\n",
       "[1] Standard Errors assume that the covariance matrix of the errors is correctly specified.\n",
       "\"\"\""
      ]
     },
     "execution_count": 43,
     "metadata": {},
     "output_type": "execute_result"
    }
   ],
   "source": [
    "model.summary()"
   ]
  },
  {
   "cell_type": "code",
   "execution_count": 44,
   "id": "afd75098",
   "metadata": {},
   "outputs": [
    {
     "name": "stdout",
     "output_type": "stream",
     "text": [
      "p-value: 0.00\n",
      "z-score: 2.48\n"
     ]
    },
    {
     "data": {
      "image/png": "[encoded data removed]",
      "text/plain": [
       "<Figure size 432x288 with 1 Axes>"
      ]
     },
     "metadata": {
      "needs_background": "light"
     },
     "output_type": "display_data"
    }
   ],
   "source": [
    "# Compute the empirical p-value based on surrogates\n",
    "surr_p_val = compute_empirical_pvalue(f_val, surrogates)\n",
    "\n",
    "# Compute z-score of the real F-value compared to surrogates\n",
    "z_score = zscore_to_surrogates(f_val, surrogates)\n",
    "\n",
    "# Print out the compute p-value and z-scored information\n",
    "print('p-value: {:4.2f}'.format(surr_p_val))\n",
    "print('z-score: {:4.2f}'.format(z_score))\n",
    "\n",
    "# Plot the distribution of surrogates, comparing to real F-value\n",
    "plot_surrogates(surrogates, f_val, surr_p_val)"
   ]
  },
  {
   "cell_type": "markdown",
   "id": "ca467f8f",
   "metadata": {},
   "source": [
    "## All Cells"
   ]
  },
  {
   "cell_type": "code",
   "execution_count": 45,
   "id": "1cd18b6e",
   "metadata": {
    "scrolled": false
   },
   "outputs": [],
   "source": [
    "# for ii, ax in zip(keep_inds, make_axes(n_keep, hspace=0.4, wspace=0.4)):\n",
    "    \n",
    "#     spikes = nwbfile.units.get_unit_spike_times(ii)\n",
    "#     times_shuffle = shuffle_spikes(spikes, shuffle_approach, n_surrogates, shuffle_min=20000) \n",
    "#     surrogates = []\n",
    "\n",
    "#     for i, j in enumerate (times_shuffle):\n",
    "#         target_bins_1d = np.zeros([n_trials, 48])\n",
    "\n",
    "#         for t_ind in range(n_trials):\n",
    "            \n",
    "#             t_st = nav_starts[t_ind]\n",
    "#             ch_openings = chest_openings[t_ind]\n",
    "#             t_en = ch_openings[-1]\n",
    "\n",
    "#             t_mask = chest_trials == t_ind\n",
    "\n",
    "#             t_time, t_pos = get_value_by_time_range(ptimes, positions, t_st, t_en)\n",
    "#             ch_times = [get_value_by_time(t_time, t_pos, ch_op) for ch_op in ch_openings]\n",
    "\n",
    "#             t_spikes = restrict_range(times_shuffle[i], t_st, t_en)\n",
    "#             t_spike_xs, t_spike_ys = get_spike_positions(t_spikes, t_time, t_pos)\n",
    "\n",
    "#             seg_times = np.diff(np.insert(ch_openings, 0, t_time[0]))\n",
    "#             count = Counter({0 : 0, 1 : 0, 2 : 0, 3 : 0})\n",
    "#             count.update(np.digitize(t_spikes, ch_openings))\n",
    "\n",
    "#             frs = np.array(list(count.values())) / seg_times\n",
    "\n",
    "#             cur_ch_xbin = ch_xbin[t_mask]\n",
    "#             cur_ch_ybin = ch_ybin[t_mask]\n",
    "\n",
    "#             target_bins = np.zeros(chest_bins)\n",
    "            \n",
    "#             for fr, xbin, ybin in zip(frs, cur_ch_xbin, cur_ch_ybin):\n",
    "#                 target_bins[xbin, ybin] = fr\n",
    "\n",
    "#             target_bins_1d[t_ind,:] = target_bins.flatten()\n",
    "\n",
    "#         target_bins_trial=target_bins_1d.flatten()\n",
    "\n",
    "#         target_bin_label = np.array(range(0, 48))\n",
    "#         target_bin_label = np.tile(target_bin_label,n_trials)\n",
    "\n",
    "#         merged_array = np.transpose(np.vstack([target_bin_label,target_bins_trial]))\n",
    "#         df = pd.DataFrame(merged_array,columns=['target_bin', 'fr'])\n",
    "\n",
    "#         model = smf.ols('fr ~ C(target_bin)', data=df).fit()\n",
    "#         aov_table = anova_lm(model, typ=2)\n",
    "#         f_val_surrs = aov_table['F']['C(target_bin)']\n",
    "\n",
    "#         surrogates.append(f_val_surrs)\n",
    "        \n",
    "#     # Compute the empirical p-value based on surrogates\n",
    "#     surr_p_val = compute_empirical_pvalue(f_val, surrogates)\n",
    "\n",
    "#     # Compute z-score of the real F-value compared to surrogates\n",
    "#     z_score = zscore_to_surrogates(f_val, surrogates)\n",
    "\n",
    "#     # Plot the distribution of surrogates, comparing to real F-value\n",
    "#     plot_surrogates(surrogates, f_val, surr_p_val, ax=ax)\n",
    "    \n",
    "#     color = 'red' if surr_p_val < 0.05 else 'black'\n",
    "#     title = 'U{} \\n z-{:1.2f}, p-{:1.2f}'.format(ii, z_score, surr_p_val)\n",
    "#     ax.set_title(title, fontdict={'fontsize' : 12}, color=color)"
   ]
  },
  {
   "cell_type": "code",
   "execution_count": 46,
   "id": "f7c12be2",
   "metadata": {
    "scrolled": false
   },
   "outputs": [],
   "source": [
    "# # Plot spatial target heat maps for all cells\n",
    "# for ii, ax in zip(keep_inds, make_axes(n_keep, hspace=0.4)):\n",
    "    \n",
    "#     spikes = nwbfile.units.get_unit_spike_times(ii)\n",
    "\n",
    "#     # Collect firing per chest location across all trials    \n",
    "#     target_bins = compute_spatial_target_bins(spikes, nav_starts, chest_openings, chest_trials, \n",
    "#                                               ptimes, positions, chest_bins, ch_xbin, ch_ybin)\n",
    "\n",
    "#     plot_heatmap(target_bins, transpose=True, ax=ax) \n",
    "    \n",
    "#     color = 'red' if surr_p_val < 0.05 else 'black'\n",
    "#     title = 'U{} \\n ({:1.2f}-{:1.2f})'.format(\\\n",
    "#         ii, np.min(target_bins), np.max(target_bins))\n",
    "    \n",
    "#     ax.set_title(title, fontdict={'fontsize' : 12});"
   ]
  }
 ],
 "metadata": {
  "kernelspec": {
   "display_name": "Python 3 (ipykernel)",
   "language": "python",
   "name": "python3"
  },
  "language_info": {
   "codemirror_mode": {
    "name": "ipython",
    "version": 3
   },
   "file_extension": ".py",
   "mimetype": "text/x-python",
   "name": "python",
   "nbconvert_exporter": "python",
   "pygments_lexer": "ipython3",
   "version": "3.8.11"
  }
 },
 "nbformat": 4,
 "nbformat_minor": 5
}
