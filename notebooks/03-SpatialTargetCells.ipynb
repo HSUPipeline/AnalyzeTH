{
 "cells": [
  {
   "cell_type": "markdown",
   "id": "93dcbef4",
   "metadata": {},
   "source": [
    "# Spatial Target Cells\n",
    "\n",
    "Analyses for if cells care about the spatial target."
   ]
  },
  {
   "cell_type": "code",
   "execution_count": 1,
   "id": "63f81c0b",
   "metadata": {},
   "outputs": [],
   "source": [
    "%config Completer.use_jedi = False"
   ]
  },
  {
   "cell_type": "code",
   "execution_count": 2,
   "id": "d73effdb",
   "metadata": {},
   "outputs": [],
   "source": [
    "from pathlib import Path\n",
    "\n",
    "import numpy as np\n",
    "\n",
    "from pynwb import NWBHDF5IO\n",
    "\n",
    "from spiketools.spatial.occupancy import compute_nbins, compute_spatial_bin_edges, compute_spatial_bin_assignment\n",
    "from spiketools.spatial.information import _compute_spatial_information\n",
    "from spiketools.stats.shuffle import shuffle_spikes\n",
    "from spiketools.stats.permutations import compute_surrogate_stats\n",
    "from spiketools.plts.data import plot_bar\n",
    "from spiketools.plts.space import plot_heatmap, plot_positions\n",
    "from spiketools.plts.utils import make_axes\n",
    "from spiketools.plts.annotate import color_pval\n",
    "from spiketools.utils import set_random_seed\n",
    "from spiketools.utils.data import get_range, restrict_range, get_value_by_time, get_value_by_time_range\n",
    "from spiketools.utils.trials import epoch_data_by_range"
   ]
  },
  {
   "cell_type": "code",
   "execution_count": 3,
   "id": "93f3f0c6",
   "metadata": {},
   "outputs": [],
   "source": [
    "import seaborn as sns\n",
    "sns.set_context('talk')"
   ]
  },
  {
   "cell_type": "code",
   "execution_count": 4,
   "id": "d14c1fa5",
   "metadata": {},
   "outputs": [],
   "source": [
    "import sys\n",
    "sys.path.append('../code')\n",
    "from analysis import get_spike_positions, compute_bin_firing\n",
    "from target import compute_spatial_target_bins, get_trial_target, create_df_target, fit_anova_target"
   ]
  },
  {
   "cell_type": "markdown",
   "id": "108817a9",
   "metadata": {},
   "source": [
    "## Settings"
   ]
  },
  {
   "cell_type": "code",
   "execution_count": 5,
   "id": "2268a79d",
   "metadata": {},
   "outputs": [],
   "source": [
    "# Set random seed, for consistency shuffling\n",
    "set_random_seed(101)"
   ]
  },
  {
   "cell_type": "code",
   "execution_count": 6,
   "id": "fdfe1440",
   "metadata": {},
   "outputs": [],
   "source": [
    "# Define the base data folder\n",
    "#data_folder = Path('/Users/Claire_han/Documents/Data/JacobsLab/TH')\n",
    "data_folder = Path('/Users/tom/Documents/Data/JacobsLab/TH/')\n",
    "#data_folder = Path('/scratch/tom.donoghue/TH/')"
   ]
  },
  {
   "cell_type": "code",
   "execution_count": 7,
   "id": "e49f13ca",
   "metadata": {},
   "outputs": [],
   "source": [
    "# Define subject information\n",
    "task = 'THF'\n",
    "subj = 'wv001'\n",
    "session = 2"
   ]
  },
  {
   "cell_type": "code",
   "execution_count": 8,
   "id": "9d5eeba5",
   "metadata": {},
   "outputs": [],
   "source": [
    "# Define binning for chests (spatial target)\n",
    "chest_bins = [5, 7]\n",
    "#chest_bins = [6, 8]\n",
    "n_bins = compute_nbins(chest_bins)"
   ]
  },
  {
   "cell_type": "code",
   "execution_count": 9,
   "id": "dff84474",
   "metadata": {},
   "outputs": [],
   "source": [
    "# Shuffle Settings\n",
    "shuffle_approach = 'BINCIRC'  # 'CIRCULAR', 'BINCIRC'\n",
    "n_surrogates = 500\n",
    "\n",
    "if shuffle_approach == 'CIRCULAR':\n",
    "    shuffle_kwargs = {}\n",
    "    #shuffle_kwargs = {'shuffle_min' : 20000}\n",
    "if shuffle_approach == 'BINCIRC':\n",
    "    shuffle_kwargs = {}"
   ]
  },
  {
   "cell_type": "code",
   "execution_count": 10,
   "id": "04075dcb",
   "metadata": {},
   "outputs": [],
   "source": [
    "# Set example unit to analyze\n",
    "uind = 36"
   ]
  },
  {
   "cell_type": "code",
   "execution_count": 11,
   "id": "a3870052",
   "metadata": {},
   "outputs": [],
   "source": [
    "# Set which analysis method to run\n",
    "METHOD = 'ANOVA'  # 'INFO' / 'ANOVA'"
   ]
  },
  {
   "cell_type": "markdown",
   "id": "6d87e524",
   "metadata": {},
   "source": [
    "## Load Data"
   ]
  },
  {
   "cell_type": "code",
   "execution_count": 12,
   "id": "eb882acd",
   "metadata": {},
   "outputs": [],
   "source": [
    "# Define expected NWB file name & full path\n",
    "file_name = '_'.join([task, subj, 'session_' + str(session)]) + '.nwb'\n",
    "full_path = data_folder / 'NWB' / file_name"
   ]
  },
  {
   "cell_type": "code",
   "execution_count": 13,
   "id": "026b7a40",
   "metadata": {},
   "outputs": [],
   "source": [
    "# Load NWB file\n",
    "io = NWBHDF5IO(str(full_path), 'r')\n",
    "nwbfile = io.read()"
   ]
  },
  {
   "cell_type": "markdown",
   "id": "79da05eb",
   "metadata": {},
   "source": [
    "#### Get Trial Data"
   ]
  },
  {
   "cell_type": "code",
   "execution_count": 14,
   "id": "463aa243",
   "metadata": {},
   "outputs": [
    {
     "name": "stdout",
     "output_type": "stream",
     "text": [
      "Number of trials: 24\n"
     ]
    }
   ],
   "source": [
    "# Get the number of trials\n",
    "n_trials = len(nwbfile.trials)\n",
    "print('Number of trials: {}'.format(n_trials))"
   ]
  },
  {
   "cell_type": "code",
   "execution_count": 15,
   "id": "53139fd5",
   "metadata": {},
   "outputs": [],
   "source": [
    "# Extract behavioural markers of interest\n",
    "nav_starts = nwbfile.trials['navigation_start'].data[:]\n",
    "chest_openings = nwbfile.trials['chest_opening_time'][:]"
   ]
  },
  {
   "cell_type": "markdown",
   "id": "0bbb0a56",
   "metadata": {},
   "source": [
    "#### Get Spiking Data"
   ]
  },
  {
   "cell_type": "code",
   "execution_count": 16,
   "id": "86d44df3",
   "metadata": {},
   "outputs": [
    {
     "name": "stdout",
     "output_type": "stream",
     "text": [
      "Number of units: 81\n",
      "Number to keep:  57\n"
     ]
    }
   ],
   "source": [
    "# Check the number of units & keep indices\n",
    "n_units = len(nwbfile.units)\n",
    "keep_inds = np.where(nwbfile.units.keep[:])[0]\n",
    "n_keep = len(keep_inds)\n",
    "print('Number of units: {}'.format(n_units))\n",
    "print('Number to keep:  {}'.format(n_keep))"
   ]
  },
  {
   "cell_type": "code",
   "execution_count": 17,
   "id": "b73921d1",
   "metadata": {},
   "outputs": [],
   "source": [
    "# Get spikes\n",
    "spikes = nwbfile.units.get_unit_spike_times(uind)"
   ]
  },
  {
   "cell_type": "markdown",
   "id": "6dbb3999",
   "metadata": {},
   "source": [
    "#### Get Position Data"
   ]
  },
  {
   "cell_type": "code",
   "execution_count": 18,
   "id": "5dbd1a86",
   "metadata": {},
   "outputs": [],
   "source": [
    "# Extract the position data\n",
    "ptimes = nwbfile.acquisition['position']['player_position'].timestamps[:] \n",
    "positions = nwbfile.acquisition['position']['player_position'].data[:].T"
   ]
  },
  {
   "cell_type": "code",
   "execution_count": 19,
   "id": "643663b7",
   "metadata": {},
   "outputs": [],
   "source": [
    "# Get the chest positions & trial indices\n",
    "chest_xs, chest_ys = nwbfile.acquisition['stimuli']['chest_positions'].data[:].T\n",
    "chest_trials = nwbfile.trials.chest_trials[:]"
   ]
  },
  {
   "cell_type": "markdown",
   "id": "1b167e7e",
   "metadata": {},
   "source": [
    "## Chest Positions"
   ]
  },
  {
   "cell_type": "code",
   "execution_count": 20,
   "id": "136ec689",
   "metadata": {},
   "outputs": [
    {
     "name": "stdout",
     "output_type": "stream",
     "text": [
      "Chest X position range: 362.86 - 406.85\n",
      "Chest Y position range: 321.34 - 396.47\n"
     ]
    }
   ],
   "source": [
    "# Check chest position range\n",
    "print('Chest X position range: {:1.2f} - {:1.2f}'.format(np.min(chest_xs), np.max(chest_xs)))\n",
    "print('Chest Y position range: {:1.2f} - {:1.2f}'.format(np.min(chest_ys), np.max(chest_ys)))"
   ]
  },
  {
   "cell_type": "code",
   "execution_count": 21,
   "id": "4a5e4346",
   "metadata": {},
   "outputs": [
    {
     "name": "stdout",
     "output_type": "stream",
     "text": [
      "Position X range: 365.40 - 404.59\n",
      "Position X range: 285.00 - 433.00\n"
     ]
    }
   ],
   "source": [
    "# Check traversal position range\n",
    "print('Position X range: {:1.2f} - {:1.2f}'.format(np.min(positions[0, :]), np.max(positions[0, :])))\n",
    "print('Position X range: {:1.2f} - {:1.2f}'.format(np.min(positions[1, :]), np.max(positions[1, :])))"
   ]
  },
  {
   "cell_type": "code",
   "execution_count": 22,
   "id": "801345e2",
   "metadata": {},
   "outputs": [],
   "source": [
    "# Select the position values for navigation periods\n",
    "_, positions_trials = epoch_data_by_range(ptimes, positions,\n",
    "                                          nwbfile.trials.navigation_start[:],\n",
    "                                          nwbfile.trials.navigation_stop[:])"
   ]
  },
  {
   "cell_type": "code",
   "execution_count": 23,
   "id": "ff030e9a",
   "metadata": {},
   "outputs": [
    {
     "data": {
      "image/png": "[encoded data removed]",
      "text/plain": [
       "<Figure size 360x504 with 1 Axes>"
      ]
     },
     "metadata": {
      "needs_background": "light"
     },
     "output_type": "display_data"
    }
   ],
   "source": [
    "# Plot the subject positions, overlaid with chest positions\n",
    "landmarks = {'positions' : np.array([chest_xs, chest_ys]), 'color' : 'green'}\n",
    "plot_positions(positions_trials, landmarks=landmarks, figsize=(5, 7))"
   ]
  },
  {
   "cell_type": "code",
   "execution_count": 24,
   "id": "0520499c",
   "metadata": {},
   "outputs": [],
   "source": [
    "# Compute edges for chest binning\n",
    "area_range = [[360, 410], [320, 400]]\n",
    "x_edges, y_edges = compute_spatial_bin_edges(positions, chest_bins, area_range=area_range)"
   ]
  },
  {
   "cell_type": "code",
   "execution_count": 25,
   "id": "a47fefff",
   "metadata": {},
   "outputs": [],
   "source": [
    "# Assign each chest to a bin\n",
    "chest_pos = np.array([chest_xs, chest_ys])\n",
    "ch_xbin, ch_ybin = compute_spatial_bin_assignment(chest_pos, x_edges, y_edges)\n",
    "\n",
    "# Fix offset of chest binning\n",
    "ch_xbin = ch_xbin - 1 \n",
    "ch_ybin = ch_ybin - 1 "
   ]
  },
  {
   "cell_type": "markdown",
   "id": "defbb6c0",
   "metadata": {},
   "source": [
    "## Single Trial"
   ]
  },
  {
   "cell_type": "code",
   "execution_count": 26,
   "id": "7969d30a",
   "metadata": {},
   "outputs": [],
   "source": [
    "# Get trial information\n",
    "t_ind = 2\n",
    "t_st = nwbfile.trials['navigation_start'][t_ind]\n",
    "ch_openings = nwbfile.trials['chest_opening_time'][t_ind]\n",
    "t_en = ch_openings[-1]"
   ]
  },
  {
   "cell_type": "code",
   "execution_count": 27,
   "id": "0cc5963f",
   "metadata": {},
   "outputs": [],
   "source": [
    "# Get the chests for the current trial\n",
    "t_mask = chest_trials == t_ind"
   ]
  },
  {
   "cell_type": "code",
   "execution_count": 28,
   "id": "6ee851a3",
   "metadata": {},
   "outputs": [],
   "source": [
    "# Select chest openings for the current trial\n",
    "t_time, t_pos = get_value_by_time_range(ptimes, positions, t_st, t_en)\n",
    "ch_times = [get_value_by_time(t_time, t_pos, ch_op) for ch_op in ch_openings]"
   ]
  },
  {
   "cell_type": "code",
   "execution_count": 29,
   "id": "6d0f015e",
   "metadata": {},
   "outputs": [],
   "source": [
    "# Restrict spikes to the \n",
    "t_spikes = restrict_range(spikes, t_st, t_en)\n",
    "t_spike_xs, t_spike_ys = get_spike_positions(t_spikes, t_time, t_pos)"
   ]
  },
  {
   "cell_type": "code",
   "execution_count": 30,
   "id": "da24688c",
   "metadata": {},
   "outputs": [
    {
     "data": {
      "image/png": "[encoded data removed]",
      "text/plain": [
       "<Figure size 360x504 with 1 Axes>"
      ]
     },
     "metadata": {
      "needs_background": "light"
     },
     "output_type": "display_data"
    }
   ],
   "source": [
    "# Plot an encoding trial: with traversals, chest locations, and spike firing\n",
    "tspikes = {'positions' : np.array([t_spike_xs, t_spike_ys]), 'ms' : 10, 'alpha' : 0.6}\n",
    "landmarks = [{'positions' : np.array([chest_xs[t_mask], chest_ys[t_mask]]),\n",
    "              'color' : 'green', 'ms' : 50, 'alpha' : 0.25},\n",
    "             {'positions' : np.atleast_2d(t_pos[:, 0]).T, 'color' : 'blue', 'ms' : 15},\n",
    "             {'positions' : np.array(ch_times).T, 'color' : 'y', 'ms' : 15}]\n",
    "plot_positions(t_pos, tspikes, landmarks, alpha=0.75, figsize=(5, 7))"
   ]
  },
  {
   "cell_type": "markdown",
   "id": "b5d330a0",
   "metadata": {},
   "source": [
    "## Spatial Target Bins"
   ]
  },
  {
   "cell_type": "code",
   "execution_count": 31,
   "id": "5b117efd",
   "metadata": {},
   "outputs": [],
   "source": [
    "# Compute chest occupancy\n",
    "chest_occupancy = compute_bin_firing(ch_xbin, ch_ybin, chest_bins)"
   ]
  },
  {
   "cell_type": "code",
   "execution_count": 32,
   "id": "46c7c49a",
   "metadata": {},
   "outputs": [
    {
     "name": "stdout",
     "output_type": "stream",
     "text": [
      "Range of chests per bin: 0 - 6\n"
     ]
    }
   ],
   "source": [
    "# Check the number of chests per bin\n",
    "print(\"Range of chests per bin: {:1.0f} - {:1.0f}\".format(*get_range(chest_occupancy)))"
   ]
  },
  {
   "cell_type": "code",
   "execution_count": 33,
   "id": "d7e59beb",
   "metadata": {},
   "outputs": [
    {
     "data": {
      "image/png": "[encoded data removed]",
      "text/plain": [
       "<Figure size 432x288 with 1 Axes>"
      ]
     },
     "metadata": {},
     "output_type": "display_data"
    }
   ],
   "source": [
    "# Plot chest occupancy\n",
    "plot_heatmap(chest_occupancy, transpose=True)"
   ]
  },
  {
   "cell_type": "code",
   "execution_count": 34,
   "id": "5779de94",
   "metadata": {},
   "outputs": [],
   "source": [
    "# Collect firing per chest location across all trials\n",
    "target_bins = compute_spatial_target_bins(spikes, nav_starts, chest_openings, chest_trials, \n",
    "                                          ptimes, positions, chest_bins, ch_xbin, ch_ybin)"
   ]
  },
  {
   "cell_type": "code",
   "execution_count": 35,
   "id": "c15388c2",
   "metadata": {},
   "outputs": [
    {
     "data": {
      "text/plain": [
       "(0.0, 8.98198735960069)"
      ]
     },
     "execution_count": 35,
     "metadata": {},
     "output_type": "execute_result"
    }
   ],
   "source": [
    "# Check range of firing across spatial target bins\n",
    "get_range(target_bins)"
   ]
  },
  {
   "cell_type": "code",
   "execution_count": 36,
   "id": "059ffe55",
   "metadata": {},
   "outputs": [
    {
     "data": {
      "image/png": "[encoded data removed]",
      "text/plain": [
       "<Figure size 432x288 with 1 Axes>"
      ]
     },
     "metadata": {},
     "output_type": "display_data"
    }
   ],
   "source": [
    "# Check the firing rate per spatial destination for an example neuron\n",
    "plot_heatmap(target_bins, transpose=True,\n",
    "             title='Neuron #{} - ({:1.2f}-{:1.2f})'.format(uind, *get_range(target_bins)))"
   ]
  },
  {
   "cell_type": "markdown",
   "id": "529676c3",
   "metadata": {},
   "source": [
    "## Statistical Analyses"
   ]
  },
  {
   "cell_type": "code",
   "execution_count": 37,
   "id": "82014118",
   "metadata": {},
   "outputs": [],
   "source": [
    "# Create shuffles\n",
    "times_shuffle = shuffle_spikes(spikes, shuffle_approach, n_surrogates, **shuffle_kwargs)"
   ]
  },
  {
   "cell_type": "markdown",
   "id": "57f52bbb",
   "metadata": {},
   "source": [
    "## Spatial Information"
   ]
  },
  {
   "cell_type": "code",
   "execution_count": 38,
   "id": "6281bb13",
   "metadata": {},
   "outputs": [
    {
     "name": "stdout",
     "output_type": "stream",
     "text": [
      "0.1646880544249277\n"
     ]
    }
   ],
   "source": [
    "# Compute spatial information for the target firing\n",
    "spike_info = _compute_spatial_information(target_bins, chest_occupancy)\n",
    "print(spike_info)"
   ]
  },
  {
   "cell_type": "code",
   "execution_count": 39,
   "id": "c2117dee",
   "metadata": {},
   "outputs": [],
   "source": [
    "# Compute spatial information measures on surrogates\n",
    "surrs = np.zeros(n_surrogates)\n",
    "for ind, stimes in enumerate(times_shuffle):\n",
    "    target_bins = compute_spatial_target_bins(stimes, nav_starts, chest_openings, chest_trials, \n",
    "                                              ptimes, positions, chest_bins, ch_xbin, ch_ybin)         \n",
    "    surrs[ind] = _compute_spatial_information(target_bins, chest_occupancy)"
   ]
  },
  {
   "cell_type": "code",
   "execution_count": 40,
   "id": "5151a6cd",
   "metadata": {},
   "outputs": [
    {
     "name": "stdout",
     "output_type": "stream",
     "text": [
      "p-value: 0.23\n",
      "z-score: 0.74\n"
     ]
    },
    {
     "data": {
      "image/png": "[encoded data removed]",
      "text/plain": [
       "<Figure size 432x288 with 1 Axes>"
      ]
     },
     "metadata": {
      "needs_background": "light"
     },
     "output_type": "display_data"
    }
   ],
   "source": [
    "# Compute surrogate statistics\n",
    "p_val, z_score = compute_surrogate_stats(spike_info, surrs)"
   ]
  },
  {
   "cell_type": "markdown",
   "id": "a1078e12",
   "metadata": {},
   "source": [
    "## ANOVA"
   ]
  },
  {
   "cell_type": "code",
   "execution_count": 41,
   "id": "8b1c0932",
   "metadata": {},
   "outputs": [],
   "source": [
    "# Get the target related firing per trial\n",
    "target_trial = get_trial_target(spikes, nav_starts, chest_bins, chest_openings,\n",
    "                                chest_trials, ch_xbin, ch_ybin, ptimes, positions)"
   ]
  },
  {
   "cell_type": "code",
   "execution_count": 42,
   "id": "33dacee4",
   "metadata": {},
   "outputs": [],
   "source": [
    "# Create the dataframe\n",
    "df = create_df_target(target_trial)"
   ]
  },
  {
   "cell_type": "code",
   "execution_count": 43,
   "id": "38d11414",
   "metadata": {},
   "outputs": [
    {
     "data": {
      "text/plain": [
       "1.1149266535099964"
      ]
     },
     "execution_count": 43,
     "metadata": {},
     "output_type": "execute_result"
    }
   ],
   "source": [
    "# Fit the ANOVA, and get the f-value\n",
    "f_val = fit_anova_target(df)\n",
    "f_val"
   ]
  },
  {
   "cell_type": "code",
   "execution_count": 44,
   "id": "0d8467ec",
   "metadata": {},
   "outputs": [],
   "source": [
    "# Compute measures on surrogates\n",
    "surrogates = np.zeros(n_surrogates)\n",
    "for ind, shuffle in enumerate(times_shuffle):\n",
    "    \n",
    "    data = get_trial_target(shuffle, nav_starts, chest_bins, chest_openings,\n",
    "                            chest_trials, ch_xbin, ch_ybin, ptimes, positions)\n",
    "    df = create_df_target(data)\n",
    "    surrogates[ind] = fit_anova_target(df)"
   ]
  },
  {
   "cell_type": "code",
   "execution_count": 45,
   "id": "8d2c1345",
   "metadata": {},
   "outputs": [
    {
     "name": "stdout",
     "output_type": "stream",
     "text": [
      "p-value: 0.20\n",
      "z-score: 0.86\n"
     ]
    },
    {
     "data": {
      "image/png": "[encoded data removed]",
      "text/plain": [
       "<Figure size 432x288 with 1 Axes>"
      ]
     },
     "metadata": {
      "needs_background": "light"
     },
     "output_type": "display_data"
    }
   ],
   "source": [
    "# Compute statistics on the surrogates\n",
    "p_val, z_score = compute_surrogate_stats(f_val, surrogates)"
   ]
  },
  {
   "cell_type": "markdown",
   "id": "07aee4b3",
   "metadata": {},
   "source": [
    "## All Cells"
   ]
  },
  {
   "cell_type": "code",
   "execution_count": 46,
   "id": "e57a919d",
   "metadata": {},
   "outputs": [],
   "source": [
    "# # Plot spatial target heat maps for all cells\n",
    "# for ii, ax in zip(keep_inds, make_axes(n_keep, hspace=0.4, wspace=0.4)):\n",
    "    \n",
    "#     spikes = nwbfile.units.get_unit_spike_times(ii)\n",
    "    \n",
    "#     # Compute overall target binning (need for spatial info & plots)\n",
    "#     target_bins = compute_spatial_target_bins(spikes, nav_starts, chest_openings, chest_trials, \n",
    "#                                               ptimes, positions, chest_bins, ch_xbin, ch_ybin)\n",
    "    \n",
    "#     # Compute real data value\n",
    "#     if METHOD == 'INFO':\n",
    "#         data_value = _compute_spatial_information(target_bins, chest_occupancy)\n",
    "    \n",
    "#     if METHOD == 'ANOVA':\n",
    "#         data = get_trial_target(shuffle, nav_starts, chest_bins, chest_openings,\n",
    "#                                 chest_trials, ch_xbin, ch_ybin, ptimes, positions)\n",
    "#         data_value = fit_anova_target(create_df_target(data))\n",
    "    \n",
    "#     # Compute measures on surrogates\n",
    "#     surrogates = np.zeros(n_surrogates)\n",
    "#     times_shuffle = shuffle_spikes(spikes, shuffle_approach, n_surrogates, **shuffle_kwargs)\n",
    "#     for ind, shuffle in enumerate(times_shuffle):\n",
    "        \n",
    "#         if METHOD == 'INFO':\n",
    "#             starget_bins = compute_spatial_target_bins(shuffle, nav_starts, chest_openings, chest_trials, \n",
    "#                                                       ptimes, positions, chest_bins, ch_xbin, ch_ybin)        \n",
    "#             surrogates[ind] = _compute_spatial_information(starget_bins, chest_occupancy)\n",
    "            \n",
    "#         if METHOD == 'ANOVA':\n",
    "#             data = get_trial_target(shuffle, nav_starts, chest_bins, chest_openings,\n",
    "#                                     chest_trials, ch_xbin, ch_ybin, ptimes, positions)\n",
    "#             surrogates[ind] = fit_anova_target(create_df_target(data))\n",
    "\n",
    "#     # Compute z-score & p-value based on surrogates\n",
    "#     p_val, z_score = compute_surrogate_stats(data_value, surrogates, plot=False, verbose=False, ax=ax)\n",
    "\n",
    "#     # Plot target location heatmap\n",
    "#     plot_heatmap(target_bins, transpose=True, ax=ax)    \n",
    "#     ax.set_title('U{} ({:1.2f}-{:1.2f}) \\n z-{:1.2f}, p-{:1.2f}'.format(\n",
    "#                      ii, *get_range(target_bins), z_score, p_val),\n",
    "#                  fontdict={'fontsize' : 12}, color=color_pval(p_val))"
   ]
  }
 ],
 "metadata": {
  "kernelspec": {
   "display_name": "Python 3 (ipykernel)",
   "language": "python",
   "name": "python3"
  },
  "language_info": {
   "codemirror_mode": {
    "name": "ipython",
    "version": 3
   },
   "file_extension": ".py",
   "mimetype": "text/x-python",
   "name": "python",
   "nbconvert_exporter": "python",
   "pygments_lexer": "ipython3",
   "version": "3.8.11"
  }
 },
 "nbformat": 4,
 "nbformat_minor": 5
}
