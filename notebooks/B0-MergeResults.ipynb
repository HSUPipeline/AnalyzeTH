{
 "cells": [
  {
   "cell_type": "markdown",
   "id": "244f9149-5d1d-470d-8a2c-83cf03756cc2",
   "metadata": {},
   "source": [
    "# Merge Results"
   ]
  },
  {
   "cell_type": "code",
   "execution_count": 1,
   "id": "57102b88-7411-4da1-b3b7-e3862a4660cb",
   "metadata": {},
   "outputs": [],
   "source": [
    "%matplotlib inline\n",
    "\n",
    "from pathlib import Path\n",
    "\n",
    "import numpy as np\n",
    "import pandas as pd\n",
    "\n",
    "from convnwb.paths import Paths\n",
    "from convnwb.io import get_files, load_jsons_to_df, load_matfile\n",
    "\n",
    "from spiketools.plts.data import plot_hist\n",
    "from spiketools.plts.utils import make_axes"
   ]
  },
  {
   "cell_type": "code",
   "execution_count": 2,
   "id": "e47535fa-5683-4a0b-8332-458ab5996262",
   "metadata": {},
   "outputs": [],
   "source": [
    "import sys\n",
    "sys.path.append('../code')\n",
    "from maps import LOC_MAP, SIDE_MAP"
   ]
  },
  {
   "cell_type": "code",
   "execution_count": 3,
   "id": "8cea3a95-7f9c-413c-8103-4332ef27d90a",
   "metadata": {},
   "outputs": [],
   "source": [
    "import seaborn as sns\n",
    "sns.set_context('talk', font_scale=0.9)"
   ]
  },
  {
   "cell_type": "markdown",
   "id": "cae0e33a-ad90-43bc-b003-1200072c4676",
   "metadata": {},
   "source": [
    "## Settings"
   ]
  },
  {
   "cell_type": "code",
   "execution_count": 4,
   "id": "498bd3c8-5f4f-4d5a-b065-5cddaf87d7c5",
   "metadata": {},
   "outputs": [],
   "source": [
    "# Set which experiment version to run\n",
    "stimulus_version = 'face'   # 'face', 'object'"
   ]
  },
  {
   "cell_type": "code",
   "execution_count": 5,
   "id": "4854414b-ec49-40c8-afea-ee031ee1eb40",
   "metadata": {},
   "outputs": [],
   "source": [
    "# Define project paths, and create paths object\n",
    "results_path = Path('../results/units/')\n",
    "project_path = '/data12/jacobs_lab/WVTH/'\n",
    "paths = Paths(project_path)"
   ]
  },
  {
   "cell_type": "code",
   "execution_count": 6,
   "id": "7d640527-3043-4d03-af26-d9e357fd2b9b",
   "metadata": {},
   "outputs": [],
   "source": [
    "# Define the list of TH versions\n",
    "TH_VERSIONS = {\n",
    "    'face' : 'THF',\n",
    "    'object' : 'THO',\n",
    "}"
   ]
  },
  {
   "cell_type": "code",
   "execution_count": 7,
   "id": "578830e4-4809-41a9-85cc-32efc596c452",
   "metadata": {},
   "outputs": [],
   "source": [
    "# Set significance level\n",
    "ALPHA_LEVEL = 0.05"
   ]
  },
  {
   "cell_type": "code",
   "execution_count": 8,
   "id": "d6a73627-a7ae-4896-8eee-d8d0250dbc72",
   "metadata": {},
   "outputs": [],
   "source": [
    "# Define a list of analyses\n",
    "analyses = ['baseline', 'id', 'chest', 'place', 'target', 'serial']"
   ]
  },
  {
   "cell_type": "code",
   "execution_count": 9,
   "id": "02dfdc3c-eb8e-4b24-8ba7-e428136c97be",
   "metadata": {},
   "outputs": [],
   "source": [
    "# Get the current version of the TH data\n",
    "th_experiment = TH_VERSIONS[stimulus_version]"
   ]
  },
  {
   "cell_type": "markdown",
   "id": "9e492b65-c095-4a1a-b391-f3c1c80ec802",
   "metadata": {},
   "source": [
    "### Treasure Hunt Results"
   ]
  },
  {
   "cell_type": "code",
   "execution_count": 10,
   "id": "b873cb59-88be-48de-b05c-b3b3cfa3e74c",
   "metadata": {},
   "outputs": [],
   "source": [
    "# Get the list of files\n",
    "res_files = get_files(results_path / th_experiment, select='session')"
   ]
  },
  {
   "cell_type": "code",
   "execution_count": 11,
   "id": "c5507a91-f4b6-4c21-b737-b90bcf4bc0a4",
   "metadata": {},
   "outputs": [],
   "source": [
    "# Collect all unit results together into a dataframe\n",
    "all_results = load_jsons_to_df(res_files, folder=results_path / th_experiment)"
   ]
  },
  {
   "cell_type": "code",
   "execution_count": 12,
   "id": "59c92f1f-894b-47ad-9bf4-99c8eebd4b66",
   "metadata": {},
   "outputs": [
    {
     "data": {
      "text/plain": [
       "Index(['uid', 'session_id', 'subject_id', 'wvID', 'keep', 'n_spikes',\n",
       "       'firing_rate', 'presence_ratio', 'cluster', 'channel', 'location',\n",
       "       'fr_t_val_all', 'fr_p_val_all', 'fr_t_val_empt', 'fr_p_val_empt',\n",
       "       'fr_t_val_full', 'fr_p_val_full', 'place_anova', 'target_anova',\n",
       "       'serial_anova', 'place_anova_surr_p_val', 'place_anova_surr_z_score',\n",
       "       'target_anova_surr_p_val', 'target_anova_surr_z_score',\n",
       "       'serial_anova_surr_p_val', 'serial_anova_surr_z_score'],\n",
       "      dtype='object')"
      ]
     },
     "execution_count": 12,
     "metadata": {},
     "output_type": "execute_result"
    }
   ],
   "source": [
    "# Check the columns\n",
    "all_results.columns"
   ]
  },
  {
   "cell_type": "markdown",
   "id": "5bf321eb-e851-4bb6-adf5-b41dfc4cbc6a",
   "metadata": {},
   "source": [
    "### Update & add columns for TH related info"
   ]
  },
  {
   "cell_type": "code",
   "execution_count": 13,
   "id": "3cbcfc07-b113-41d4-969c-f874c2cd21ac",
   "metadata": {},
   "outputs": [],
   "source": [
    "# Add binary labels for statistical tests\n",
    "all_results['is_chest'] = all_results['fr_p_val_full'] < ALPHA_LEVEL\n",
    "all_results['is_place'] = all_results['place_anova_surr_p_val'] < ALPHA_LEVEL\n",
    "all_results['is_target'] = all_results['target_anova_surr_p_val'] < ALPHA_LEVEL\n",
    "all_results['is_serial'] = all_results['serial_anova_surr_p_val'] < ALPHA_LEVEL"
   ]
  },
  {
   "cell_type": "markdown",
   "id": "167cfac9-9f6a-4d89-aac6-c0c7c56b0807",
   "metadata": {},
   "source": [
    "### Update Region Information"
   ]
  },
  {
   "cell_type": "code",
   "execution_count": 14,
   "id": "efa67e81-5705-40d5-af1e-381291349e5b",
   "metadata": {},
   "outputs": [],
   "source": [
    "# Set and collect which area each unit it is\n",
    "all_results['region'] = all_results['location'].map(LOC_MAP)\n",
    "all_results['side'] = all_results['location'].map(SIDE_MAP)"
   ]
  },
  {
   "cell_type": "markdown",
   "id": "fb3ddf95-202b-4002-ae5f-6ff0ea91468d",
   "metadata": {},
   "source": [
    "## Load 1-back Data Files"
   ]
  },
  {
   "cell_type": "markdown",
   "id": "c1633a18-2d4c-42a8-84b0-a0250a15219b",
   "metadata": {},
   "source": [
    "### FILE 1: Unit Labels\n",
    "\n",
    "The first file contains information on the labels that each unit received from analyses in the 1-back task.\n",
    "\n",
    "Identity neuron fields:\n",
    "- ID_neuron: identity neuron\n",
    "- MI_neuron: multiple identity neuron\n",
    "- SI_neuron: single identity neuron"
   ]
  },
  {
   "cell_type": "code",
   "execution_count": 15,
   "id": "27412a5b-1a05-4975-ab94-1165bcfe9e9a",
   "metadata": {},
   "outputs": [],
   "source": [
    "# Define the file path for the relevant nback results file\n",
    "if stimulus_version == 'face':\n",
    "    id_file_name = 'ID neuron CelebA_NavSelect MeanResponse 2SD.mat'\n",
    "if stimulus_version == 'object':\n",
    "    id_file_name = 'ID neuron ImageNet_NavSelect MeanResponse 2SD.mat'"
   ]
  },
  {
   "cell_type": "code",
   "execution_count": 16,
   "id": "4fc500de-c355-4fbe-b93e-5a907d257fbb",
   "metadata": {},
   "outputs": [],
   "source": [
    "# Load nback results data\n",
    "nback_data = load_matfile(id_file_name, folder=paths.info / 'nback', squeeze_me=True)"
   ]
  },
  {
   "cell_type": "code",
   "execution_count": 17,
   "id": "56acfd96-43ee-4a3e-99fc-2d7e861a8f4b",
   "metadata": {},
   "outputs": [
    {
     "data": {
      "text/plain": [
       "['CodeID', 'CodeIDNum', 'ID_neuron', 'MI_neuron', 'SI_neuron', 'selMethod']"
      ]
     },
     "execution_count": 17,
     "metadata": {},
     "output_type": "execute_result"
    }
   ],
   "source": [
    "# Check the available keys in the loaded nback data\n",
    "keys = [key for key in nback_data.keys() if key[0] != '_']\n",
    "keys"
   ]
  },
  {
   "cell_type": "code",
   "execution_count": 18,
   "id": "5f318be2-7c41-4d7c-84b3-987e2f86d135",
   "metadata": {},
   "outputs": [],
   "source": [
    "# Define a list of variables we can drop\n",
    "drop_vars = ['CodeID', 'selMethod', 'CodeIDNum']\n",
    "\n",
    "# Get a list of underscore variables that we can drop\n",
    "f_dunders = [key for key in nback_data.keys() if key[0] == '_']"
   ]
  },
  {
   "cell_type": "code",
   "execution_count": 19,
   "id": "fab2c0b1-cb66-4fd4-9fd6-88a57b91c59e",
   "metadata": {},
   "outputs": [],
   "source": [
    "# Drop some data that we are not using here\n",
    "for field in [*drop_vars, *f_dunders]:\n",
    "    nback_data.pop(field, None)"
   ]
  },
  {
   "cell_type": "markdown",
   "id": "600014dc-7417-4c9c-b099-011703011ece",
   "metadata": {},
   "source": [
    "### FILE 2\n",
    "\n",
    "Words, words, words."
   ]
  },
  {
   "cell_type": "code",
   "execution_count": 20,
   "id": "adeffae2-b91c-4cdd-8dd8-40617a757aa2",
   "metadata": {},
   "outputs": [],
   "source": [
    "# Define the file path for the relevant nback results file\n",
    "if stimulus_version == 'face':\n",
    "    file_name = 'SortedFRCelebA_Nav.mat'\n",
    "if stimulus_version == 'object':\n",
    "    file_name = 'SortedFRImageNet_Nav.mat'"
   ]
  },
  {
   "cell_type": "code",
   "execution_count": 21,
   "id": "712b12e5-677d-4a26-a17e-fb5bbe107fb6",
   "metadata": {},
   "outputs": [],
   "source": [
    "# Load the data file\n",
    "fr_data = load_matfile(file_name, folder=paths.info / 'nback', squeeze_me=True)"
   ]
  },
  {
   "cell_type": "code",
   "execution_count": 22,
   "id": "9168e80a-50ef-4d04-b9a8-79d583dcb68e",
   "metadata": {},
   "outputs": [
    {
     "name": "stdout",
     "output_type": "stream",
     "text": [
      "['sessions', 'timestampsOfCellAll', 'vCell', 'areaCell', 'vCh', 'vClusterID', 'vWire', 'periodsAll', 'binW', 'binStep', 'FR', 'beh', 'FR_sort', 'vReject', 'vKeep', 'pBase', 'pAnova', 'vAnova', 'vBase']\n"
     ]
    }
   ],
   "source": [
    "# Check the available keys in the metadata file\n",
    "print([el for el in fr_data.keys() if el[0] != '_'])"
   ]
  },
  {
   "cell_type": "code",
   "execution_count": 23,
   "id": "dff6ae7c-34a2-460c-926c-ed528d86f0e0",
   "metadata": {},
   "outputs": [],
   "source": [
    "# Add the baseline response firing analysis to collection of analyses\n",
    "nback_data['vBase'] = fr_data['vBase']"
   ]
  },
  {
   "cell_type": "code",
   "execution_count": 24,
   "id": "fd8e5bca-2c12-42d0-a44e-b588ea192d11",
   "metadata": {},
   "outputs": [
    {
     "data": {
      "text/plain": [
       "{'ID_neuron': array([ 11,  67,  75, 158, 159, 208, 223, 281, 401, 420, 505, 537, 598,\n",
       "        628, 630, 787,  24,  44,  49,  60,  64,  69,  77,  95, 102, 156,\n",
       "        162, 261, 266, 268, 274, 283, 293, 373, 494, 525, 545, 602, 614,\n",
       "        620, 681, 682, 694, 725, 734, 748, 750, 772, 791, 814, 840, 842,\n",
       "        902], dtype=uint16),\n",
       " 'MI_neuron': array([ 24,  44,  49,  60,  64,  69,  77,  95, 102, 156, 162, 261, 266,\n",
       "        268, 274, 283, 293, 373, 494, 525, 545, 602, 614, 620, 681, 682,\n",
       "        694, 725, 734, 748, 750, 772, 791, 814, 840, 842, 902],\n",
       "       dtype=uint16),\n",
       " 'SI_neuron': array([ 11,  67,  75, 158, 159, 208, 223, 281, 401, 420, 505, 537, 598,\n",
       "        628, 630, 787], dtype=uint16),\n",
       " 'vBase': array([  4,  24,  26,  48,  54,  64,  65,  67,  69,  70,  81,  85,  96,\n",
       "         98, 100, 103, 107, 122, 129, 140, 152, 156, 158, 159, 162, 164,\n",
       "        168, 169, 170, 171, 177, 181, 191, 217, 221, 241, 250, 252, 253,\n",
       "        264, 266, 286, 289, 298, 305, 308, 325, 353, 355, 357, 381, 383,\n",
       "        388, 399, 411, 425, 440, 442, 450, 458, 464, 492, 503, 505, 517,\n",
       "        529, 536, 546, 596, 597, 598, 599, 601, 602, 605, 619, 625, 628,\n",
       "        630, 650, 675, 681, 724, 728, 733, 734, 736, 738, 739, 744, 747,\n",
       "        748, 752, 756, 757, 766, 802, 840, 848, 856, 882, 906, 917, 927,\n",
       "        929, 932], dtype=uint16)}"
      ]
     },
     "execution_count": 24,
     "metadata": {},
     "output_type": "execute_result"
    }
   ],
   "source": [
    "# Check the collected n-back label data\n",
    "nback_data"
   ]
  },
  {
   "cell_type": "markdown",
   "id": "f9515227-4bd3-4b99-b10a-549772c50d05",
   "metadata": {},
   "source": [
    "### FILE 3"
   ]
  },
  {
   "cell_type": "code",
   "execution_count": 25,
   "id": "306faf71-5bad-4404-b261-ca17ed4e7f94",
   "metadata": {},
   "outputs": [],
   "source": [
    "# Define the file path for the relevant nback results file\n",
    "if stimulus_version == 'face':\n",
    "    stats_filename = 'vID_vBase_Selection_CelebA_Nav.csv'\n",
    "if stimulus_version == 'object':\n",
    "    stats_filename = 'vID_vBase_Selection_ImageNet_Nav.csv'"
   ]
  },
  {
   "cell_type": "code",
   "execution_count": 26,
   "id": "d758294c-ed70-4ffb-af26-0a7b3188ff75",
   "metadata": {},
   "outputs": [],
   "source": [
    "# Load n-back stats\n",
    "nback_stats = pd.read_csv(paths.info / 'nback' / stats_filename)"
   ]
  },
  {
   "cell_type": "code",
   "execution_count": 27,
   "id": "2eef090b-80e1-4d29-a8af-5926ec7b3a4d",
   "metadata": {},
   "outputs": [],
   "source": [
    "# Rename the columns\n",
    "new_names = {'CellIndex' : 'wvID',\n",
    "             'Fvalue-anova' : 'id_fvalue',\n",
    "             'TValue-baseline' : 'baseline_tvalue', \n",
    "             'IDNeuron' : 'is_id', \n",
    "             'vBaseline' : 'is_baseline'}\n",
    "nback_stats.rename(columns=new_names, inplace=True)"
   ]
  },
  {
   "cell_type": "code",
   "execution_count": 28,
   "id": "f6e8d185-e819-4f62-8da0-a2049207efb7",
   "metadata": {},
   "outputs": [],
   "source": [
    "# Sub-select only stats columns\n",
    "nback_stats = nback_stats[['wvID', 'id_fvalue', 'baseline_tvalue', 'is_id', 'is_baseline']]"
   ]
  },
  {
   "cell_type": "code",
   "execution_count": 29,
   "id": "89feb44c-45d5-40a6-a074-2951b88cd336",
   "metadata": {},
   "outputs": [],
   "source": [
    "# Check that the information from different n-back files is consistent\n",
    "assert set(nback_stats[nback_stats['is_id'] == 1].wvID.values) == set(nback_data['ID_neuron'])\n",
    "assert set(nback_stats[nback_stats['is_baseline'] == 1].wvID.values) == set(nback_data['vBase'])"
   ]
  },
  {
   "cell_type": "code",
   "execution_count": 30,
   "id": "4160188d-341b-4b6f-8e65-d98fb5511757",
   "metadata": {},
   "outputs": [],
   "source": [
    "# Set type of indicator columns to bool\n",
    "nback_stats['is_id'] = nback_stats['is_id'].astype(bool)\n",
    "nback_stats['is_baseline'] = nback_stats['is_baseline'].astype(bool)"
   ]
  },
  {
   "cell_type": "markdown",
   "id": "f491e72e-7132-4cd2-865d-e7bf95930d63",
   "metadata": {},
   "source": [
    "## Merge Data"
   ]
  },
  {
   "cell_type": "code",
   "execution_count": 31,
   "id": "62189290-4f95-4e8e-92d8-4df05e4f1cf4",
   "metadata": {},
   "outputs": [],
   "source": [
    "# Create merged df\n",
    "all_results = all_results.merge(nback_stats)"
   ]
  },
  {
   "cell_type": "code",
   "execution_count": 32,
   "id": "53b8ff2a-a8dc-4b99-b2ab-d7d3d79a6c8f",
   "metadata": {},
   "outputs": [],
   "source": [
    "# Add single & multi ID labels to DF\n",
    "all_results['id_type'] = None\n",
    "for sid in nback_data['SI_neuron']:\n",
    "    all_results.loc[all_results['wvID'] == sid, 'id_type'] = 'single'\n",
    "for mid in nback_data['MI_neuron']:\n",
    "    all_results.loc[all_results['wvID'] == mid, 'id_type'] = 'multi'\n",
    "\n",
    "# Check this worked\n",
    "assert set(all_results[all_results.id_type == 'single'].wvID) == set(nback_data['SI_neuron'])\n",
    "assert set(all_results[all_results.id_type == 'multi'].wvID) == set(nback_data['MI_neuron'])"
   ]
  },
  {
   "cell_type": "code",
   "execution_count": 33,
   "id": "998ba1f4-9c55-48b8-8d6c-d2dab2104c2c",
   "metadata": {},
   "outputs": [],
   "source": [
    "# Create absolute value'd version of t-distributions\n",
    "all_results['baseline_tvalue_abs'] = np.abs(all_results['baseline_tvalue'])\n",
    "all_results['fr_t_val_full_abs'] = np.abs(all_results['fr_t_val_full'])"
   ]
  },
  {
   "cell_type": "markdown",
   "id": "6ab9955a-165a-4a41-8875-1c2658491d8c",
   "metadata": {},
   "source": [
    "## Check Unit Quality Measures"
   ]
  },
  {
   "cell_type": "code",
   "execution_count": 34,
   "id": "c524c497-b273-4a86-a554-56d56add0784",
   "metadata": {},
   "outputs": [
    {
     "name": "stdout",
     "output_type": "stream",
     "text": [
      "# neurons fr < 0.15: \t 35\n"
     ]
    }
   ],
   "source": [
    "# Firing rate threshold checks\n",
    "print('# neurons fr < 0.15: \\t', sum(all_results.firing_rate < 0.15))\n",
    "#print('# neurons fr < 0.50: \\t', sum(all_results.firing_rate < 0.50))"
   ]
  },
  {
   "cell_type": "code",
   "execution_count": 35,
   "id": "ada1a53e-b943-4821-92b2-bf22494f00d7",
   "metadata": {},
   "outputs": [
    {
     "data": {
      "image/png": "[encoded data removed]",
      "text/plain": [
       "<Figure size 800x300 with 2 Axes>"
      ]
     },
     "metadata": {},
     "output_type": "display_data"
    }
   ],
   "source": [
    "# Plot distribution of unit measures\n",
    "axes = make_axes(2, 2, figsize=(8, 3), wspace=0.3)\n",
    "plot_hist(all_results['firing_rate'].values, title='Firing Rates', ax=axes[0])\n",
    "plot_hist(all_results['presence_ratio'].values, title='Presence Ratios', ax=axes[1])"
   ]
  },
  {
   "cell_type": "code",
   "execution_count": 36,
   "id": "3fcd00c5-ec8e-4433-95cb-254d0fedc256",
   "metadata": {},
   "outputs": [],
   "source": [
    "# Check similarity of low firing rate & low presence ratio\n",
    "low_frs = (all_results['firing_rate'] < 0.15).values\n",
    "low_prs = (all_results['presence_ratio'] < 0.4).values\n",
    "low_both = np.logical_and(low_frs, low_prs)"
   ]
  },
  {
   "cell_type": "code",
   "execution_count": 37,
   "id": "4a40db76-2c9d-499a-820f-eeb5465ed4f4",
   "metadata": {},
   "outputs": [
    {
     "name": "stdout",
     "output_type": "stream",
     "text": [
      "# low fr: \t35\n",
      "# low pr: \t38\n",
      "# low both: \t31\n"
     ]
    }
   ],
   "source": [
    "# Check the numbers of units for each measure\n",
    "print('# low fr: \\t{}'.format(sum(low_frs)))\n",
    "print('# low pr: \\t{}'.format(sum(low_prs)))\n",
    "print('# low both: \\t{}'.format(sum(low_both)))"
   ]
  },
  {
   "cell_type": "code",
   "execution_count": 38,
   "id": "40e57a34-bc18-4227-a37d-fc84cc164ea4",
   "metadata": {},
   "outputs": [],
   "source": [
    "# Add a marker for firing rate threshold in the TH experiment\n",
    "all_results['keep_th'] = (all_results['firing_rate'] > 0.15).values"
   ]
  },
  {
   "cell_type": "markdown",
   "id": "5368972c-f0f2-4d8c-8403-336567c75b9e",
   "metadata": {},
   "source": [
    "### Dropped Neurons"
   ]
  },
  {
   "cell_type": "code",
   "execution_count": 39,
   "id": "2247b9ed-37bd-4253-bbaa-7f73c40edb0c",
   "metadata": {},
   "outputs": [],
   "source": [
    "# Extract dropped neurons\n",
    "dropped = all_results[~all_results['keep_th']]"
   ]
  },
  {
   "cell_type": "code",
   "execution_count": 40,
   "id": "1c1d1354-edcd-4916-b6a1-fb092e0176bb",
   "metadata": {},
   "outputs": [
    {
     "name": "stdout",
     "output_type": "stream",
     "text": [
      "# of dropped units: \t35\n"
     ]
    }
   ],
   "source": [
    "# Check number of dropped neurons\n",
    "n_dropped = len(dropped)\n",
    "print('# of dropped units: \\t{}'.format(n_dropped))"
   ]
  },
  {
   "cell_type": "code",
   "execution_count": 41,
   "id": "5289a1f9-537b-4e7c-85f7-069cd4e977ea",
   "metadata": {},
   "outputs": [
    {
     "name": "stdout",
     "output_type": "stream",
     "text": [
      "face - dropped:\n",
      "\tbaseline (4 sig dropped): \n",
      "\t\tTHF_wv001_session_3_U9  wvID:191\n",
      "\t\tTHF_wv001_session_4_U55  wvID:357\n",
      "\t\tTHF_wv004_session_0_U31  wvID:625\n",
      "\t\tTHF_wv004_session_1_U8  wvID:744\n",
      "\tid (2 sig dropped): \n",
      "\t\tTHF_wv001_session_0_U76  wvID:77\n",
      "\t\tTHF_wv002_session_1_U41  wvID:537\n",
      "\tchest (0 sig dropped): \n",
      "\tplace (6 sig dropped): \n",
      "\t\tTHF_wv001_session_3_U9  wvID:191\n",
      "\t\tTHF_wv001_session_3_U60  wvID:242\n",
      "\t\tTHF_wv001_session_3_U67  wvID:249\n",
      "\t\tTHF_wv001_session_4_U55  wvID:357\n",
      "\t\tTHF_wv002_session_1_U63  wvID:559\n",
      "\t\tTHF_wv004_session_1_U23  wvID:759\n",
      "\ttarget (0 sig dropped): \n",
      "\tserial (4 sig dropped): \n",
      "\t\tTHF_wv001_session_3_U60  wvID:242\n",
      "\t\tTHF_wv001_session_4_U55  wvID:357\n",
      "\t\tTHF_wv004_session_1_U8  wvID:744\n",
      "\t\tTHF_wv004_session_1_U72  wvID:808\n"
     ]
    }
   ],
   "source": [
    "# Check dropped neurons\n",
    "print(stimulus_version + ' - dropped:')\n",
    "for analysis in analyses:\n",
    "    temp = dropped[dropped['is_' + analysis]]\n",
    "    print('\\t{} ({} sig dropped): '.format(analysis, len(temp)))\n",
    "    for _, row in temp.iterrows():\n",
    "        print('\\t\\t' + row.session_id + '_U' + str(row.uid) + '  wvID:' + str(row.wvID))"
   ]
  },
  {
   "cell_type": "code",
   "execution_count": 42,
   "id": "02f2c022-9701-4d21-a3d0-445e0299f9d7",
   "metadata": {},
   "outputs": [],
   "source": [
    "# Sub-select main results file to keep neurons\n",
    "all_results = all_results[all_results['keep_th']]"
   ]
  },
  {
   "cell_type": "code",
   "execution_count": 43,
   "id": "30df9b93-179c-4cf9-935a-ddff1d3dada5",
   "metadata": {},
   "outputs": [
    {
     "name": "stdout",
     "output_type": "stream",
     "text": [
      "# neurons:  608\n"
     ]
    }
   ],
   "source": [
    "# Check number of neurons\n",
    "n_units = len(all_results)\n",
    "print('# neurons: ', n_units)"
   ]
  },
  {
   "cell_type": "markdown",
   "id": "a1ddcd0c-d93d-4d0d-8887-979c1b6b0832",
   "metadata": {},
   "source": [
    "## Save Out Results"
   ]
  },
  {
   "cell_type": "code",
   "execution_count": 44,
   "id": "6b878ba6-fd49-455b-8e93-fbcbfc844505",
   "metadata": {},
   "outputs": [],
   "source": [
    "# Save out of CSV\n",
    "results_fname = 'all_results-' + stimulus_version + '.csv'\n",
    "all_results.to_csv(results_path / 'all' / results_fname , index=False)"
   ]
  }
 ],
 "metadata": {
  "kernelspec": {
   "display_name": "thproj",
   "language": "python",
   "name": "thproj"
  },
  "language_info": {
   "codemirror_mode": {
    "name": "ipython",
    "version": 3
   },
   "file_extension": ".py",
   "mimetype": "text/x-python",
   "name": "python",
   "nbconvert_exporter": "python",
   "pygments_lexer": "ipython3",
   "version": "3.8.13"
  }
 },
 "nbformat": 4,
 "nbformat_minor": 5
}
