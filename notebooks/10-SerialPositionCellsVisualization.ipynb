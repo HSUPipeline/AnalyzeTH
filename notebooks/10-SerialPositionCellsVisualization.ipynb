{
 "cells": [
  {
   "cell_type": "markdown",
   "id": "66344a3f",
   "metadata": {},
   "source": [
    "# Example Serial Position Cells Visualization\n",
    "\n",
    "This notebook contains plots of example cells from the serial position analysis. "
   ]
  },
  {
   "cell_type": "code",
   "execution_count": 155,
   "id": "45745120",
   "metadata": {},
   "outputs": [],
   "source": [
    "%config Completer.use_jedi = False"
   ]
  },
  {
   "cell_type": "code",
   "execution_count": 156,
   "id": "ed3c83e6",
   "metadata": {},
   "outputs": [],
   "source": [
    "import warnings\n",
    "warnings.filterwarnings(\"ignore\")\n",
    "\n",
    "import numpy as np\n",
    "import pandas as pd\n",
    "import matplotlib.pyplot as plt\n",
    "\n",
    "from collections import Counter\n",
    "from scipy.stats import sem, ttest_rel\n",
    "\n",
    "from convnwb.io import load_nwbfile\n",
    "from convnwb.io import get_files\n",
    "\n",
    "from spiketools.measures.trials import compute_segment_frs\n",
    "from spiketools.measures.spikes import compute_firing_rate\n",
    "from spiketools.measures.conversions import convert_times_to_rates\n",
    "from spiketools.stats.shuffle import shuffle_spikes\n",
    "from spiketools.stats.permutations import compute_surrogate_stats\n",
    "from spiketools.utils import set_random_seed\n",
    "from spiketools.utils.base import select_from_list\n",
    "from spiketools.utils.data import compute_range\n",
    "from spiketools.utils.extract import (get_range, get_value_by_time, get_values_by_time_range,\n",
    "                                      get_values_by_times, threshold_spikes_by_times)\n",
    "from spiketools.utils.epoch import (epoch_data_by_range, epoch_spikes_by_segment, \n",
    "                                    epoch_spikes_by_range, epoch_spikes_by_event)\n",
    "\n",
    "from spiketools.plts.data import plot_bar\n",
    "from spiketools.plts.trials import plot_rasters\n",
    "from spiketools.plts.stats import plot_surrogates\n",
    "from spiketools.plts.style import drop_spines\n",
    "from spiketools.plts.utils import make_axes, save_figure, make_grid, get_grid_subplot"
   ]
  },
  {
   "cell_type": "code",
   "execution_count": 157,
   "id": "6fe48a18",
   "metadata": {},
   "outputs": [],
   "source": [
    "import sys\n",
    "sys.path.append('../code')\n",
    "\n",
    "from models import *\n",
    "from utils import *\n",
    "from plts import *"
   ]
  },
  {
   "cell_type": "code",
   "execution_count": 158,
   "id": "46bbd799",
   "metadata": {},
   "outputs": [],
   "source": [
    "import seaborn as sns\n",
    "sns.set_context('talk')"
   ]
  },
  {
   "cell_type": "markdown",
   "id": "01e52d23",
   "metadata": {},
   "source": [
    "## Settings"
   ]
  },
  {
   "cell_type": "code",
   "execution_count": 159,
   "id": "b2497c65",
   "metadata": {},
   "outputs": [],
   "source": [
    "# Define the base data folder\n",
    "# data_folder = '/Users/Claire_han/Documents/Data/JacobsLab/WVTH/nwb'\n",
    "data_folder = '/Users/clairehan/Documents/Data/JacobsLab/WVTH/nwb'"
   ]
  },
  {
   "cell_type": "code",
   "execution_count": 187,
   "id": "c0a09521",
   "metadata": {},
   "outputs": [],
   "source": [
    "# Define session information\n",
    "session = {\n",
    "    'experiment' : 'THF',\n",
    "    'subject' : 'wv001',\n",
    "    'session' : 2\n",
    "}"
   ]
  },
  {
   "cell_type": "code",
   "execution_count": 188,
   "id": "a6d49ccb",
   "metadata": {},
   "outputs": [],
   "source": [
    "# Set which example unit to extract\n",
    "uind = 68"
   ]
  },
  {
   "cell_type": "code",
   "execution_count": 189,
   "id": "8e131050",
   "metadata": {},
   "outputs": [],
   "source": [
    "# Define occupancy settings: minimum required occupancy (in seconds) & speed threshold\n",
    "min_occ = 1\n",
    "speed_thresh = 5e-6\n",
    "time_thresh = 0.25"
   ]
  },
  {
   "cell_type": "code",
   "execution_count": 190,
   "id": "aa7235bd",
   "metadata": {},
   "outputs": [],
   "source": [
    "# Shuffle Settings\n",
    "shuffle_approach = 'CIRCULAR'  # 'CIRCULAR', 'BINCIRC'\n",
    "n_surrogates = 1000\n",
    "\n",
    "if shuffle_approach == 'CIRCULAR':\n",
    "    shuffle_kwargs = {}\n",
    "if shuffle_approach == 'BINCIRC':\n",
    "    shuffle_kwargs = {}\n",
    "    #shuffle_kwargs = {'shuffle_min' : 20000}"
   ]
  },
  {
   "cell_type": "code",
   "execution_count": 191,
   "id": "1adb5ffb",
   "metadata": {},
   "outputs": [],
   "source": [
    "# Set which analysis method to run\n",
    "METHOD = 'ANOVA'  # 'SEGMENT' / 'ANOVA'"
   ]
  },
  {
   "cell_type": "markdown",
   "id": "947a4caf",
   "metadata": {},
   "source": [
    "## Load data"
   ]
  },
  {
   "cell_type": "code",
   "execution_count": 192,
   "id": "174dc71a",
   "metadata": {},
   "outputs": [],
   "source": [
    "# Get the list of NWB files\n",
    "nwbfiles = get_files(data_folder)"
   ]
  },
  {
   "cell_type": "code",
   "execution_count": 193,
   "id": "d95fffd7",
   "metadata": {},
   "outputs": [],
   "source": [
    "# Load example NWB file\n",
    "nwbfile = load_nwbfile(session, data_folder)"
   ]
  },
  {
   "cell_type": "code",
   "execution_count": 194,
   "id": "0a7020f7",
   "metadata": {},
   "outputs": [],
   "source": [
    "# Get the list of NWB files running THO, THF respectively\n",
    "nwbfiles_THF = get_files(data_folder, select='THF')\n",
    "nwbfiles_THO = get_files(data_folder, select='THO')"
   ]
  },
  {
   "cell_type": "markdown",
   "id": "8617b611",
   "metadata": {},
   "source": [
    "### Get trial data"
   ]
  },
  {
   "cell_type": "code",
   "execution_count": 195,
   "id": "aa61bc15",
   "metadata": {},
   "outputs": [
    {
     "name": "stdout",
     "output_type": "stream",
     "text": [
      "Number of trials: 24\n"
     ]
    }
   ],
   "source": [
    "# Get the number of trials\n",
    "n_trials = len(nwbfile.trials)\n",
    "print('Number of trials: {}'.format(n_trials))"
   ]
  },
  {
   "cell_type": "code",
   "execution_count": 196,
   "id": "2065883c",
   "metadata": {},
   "outputs": [],
   "source": [
    "nav_starts = nwbfile.trials.navigation_start[:]\n",
    "nav_stops = nwbfile.trials.navigation_stop[:]\n",
    "chest_openings = nwbfile.trials['chest_opening_time'][:]\n",
    "ch_openings_all = np.array(chest_openings).reshape(-1,1)"
   ]
  },
  {
   "cell_type": "markdown",
   "id": "83ce7468",
   "metadata": {},
   "source": [
    "### Get spike data"
   ]
  },
  {
   "cell_type": "code",
   "execution_count": 197,
   "id": "23b99178",
   "metadata": {},
   "outputs": [
    {
     "name": "stdout",
     "output_type": "stream",
     "text": [
      "Number of units: 81\n",
      "Number to keep:  57\n"
     ]
    }
   ],
   "source": [
    "# Check the number of units & keep indices\n",
    "n_units = len(nwbfile.units)\n",
    "keep_inds = np.where(nwbfile.units.keep[:])[0]\n",
    "n_keep = len(keep_inds)\n",
    "print('Number of units: {}'.format(n_units))\n",
    "print('Number to keep:  {}'.format(n_keep))"
   ]
  },
  {
   "cell_type": "code",
   "execution_count": 198,
   "id": "d5829ac5",
   "metadata": {},
   "outputs": [],
   "source": [
    "# Get spikes\n",
    "spikes = nwbfile.units.get_unit_spike_times(uind)"
   ]
  },
  {
   "cell_type": "code",
   "execution_count": 199,
   "id": "1b150c7e",
   "metadata": {},
   "outputs": [],
   "source": [
    "# Define the segment times of interest\n",
    "seg_times = np.insert(np.array(chest_openings), 0, nav_starts, axis=1)\n",
    "# chest_trial_number = np.array(list(range(len(chest_trials)))).reshape(n_trials,4)"
   ]
  },
  {
   "cell_type": "markdown",
   "id": "f61ef45c",
   "metadata": {},
   "source": [
    "## One example serial position cell"
   ]
  },
  {
   "cell_type": "code",
   "execution_count": 200,
   "id": "295366f2",
   "metadata": {
    "scrolled": true
   },
   "outputs": [],
   "source": [
    "# Compute the time duration in each serial position\n",
    "segment_frs = compute_segment_frs(spikes, seg_times)\n",
    "seg_interval = np.zeros([seg_times.shape[0], 4])\n",
    "for ind in range(seg_times.shape[0]):\n",
    "    seg_interval[ind, :] = (np.diff(seg_times[ind])).tolist()"
   ]
  },
  {
   "cell_type": "code",
   "execution_count": 201,
   "id": "54b07fc5",
   "metadata": {},
   "outputs": [
    {
     "data": {
      "image/png": "[encoded data removed]",
      "text/plain": [
       "<Figure size 432x288 with 1 Axes>"
      ]
     },
     "metadata": {
      "needs_background": "light"
     },
     "output_type": "display_data"
    }
   ],
   "source": [
    "plot_bar(seg_interval.mean(0), [0, 1, 2, 3], xticks=[0,1,2,3], xticklabels=[1,2,3,4], \n",
    "         yerr=sem(seg_interval, 0), ylabel='Time (seconds)')"
   ]
  },
  {
   "cell_type": "code",
   "execution_count": 202,
   "id": "472d39e7",
   "metadata": {},
   "outputs": [],
   "source": [
    "# Compute spike count in each serial position segment\n",
    "tseg_count = np.zeros([seg_times.shape[0], 4])\n",
    "for ind, time in enumerate(seg_times):\n",
    "    segment_spikes = epoch_spikes_by_segment(spikes, time)\n",
    "    tseg_count[ind, :] = np.array([len(segment_spikes[0]), len(segment_spikes[1]), len(segment_spikes[2]), len(segment_spikes[3])])\n",
    "\n",
    "seg_counts = np.sum(tseg_count, 0)"
   ]
  },
  {
   "cell_type": "code",
   "execution_count": 203,
   "id": "8d8acd2a",
   "metadata": {},
   "outputs": [
    {
     "data": {
      "image/png": "[encoded data removed]",
      "text/plain": [
       "<Figure size 432x288 with 1 Axes>"
      ]
     },
     "metadata": {
      "needs_background": "light"
     },
     "output_type": "display_data"
    }
   ],
   "source": [
    "plot_bar(seg_counts, [0,1,2,3], xticks=[0,1,2,3], xticklabels=[1,2,3,4], ylabel='Spike count')"
   ]
  },
  {
   "cell_type": "markdown",
   "id": "d0f05af6",
   "metadata": {},
   "source": [
    "#### Normalized raster plot "
   ]
  },
  {
   "cell_type": "code",
   "execution_count": 204,
   "id": "1bb95e0d",
   "metadata": {},
   "outputs": [],
   "source": [
    "trials_sp = epoch_spikes_by_range(spikes, nav_starts, np.array(chest_openings)[:,3], reset=False)\n",
    "t_spikes = np.concatenate(trials_sp).ravel()"
   ]
  },
  {
   "cell_type": "code",
   "execution_count": 205,
   "id": "3e491a4e",
   "metadata": {},
   "outputs": [],
   "source": [
    "ts_s0 = normalize_spikes_by_segment(t_spikes, nav_starts, np.array(chest_openings)[:,0], (0, 1))\n",
    "ts_s1 = normalize_spikes_by_segment(t_spikes, np.array(chest_openings)[:,0], np.array(chest_openings)[:,1], (1, 2))\n",
    "ts_s2 = normalize_spikes_by_segment(t_spikes, np.array(chest_openings)[:,1], np.array(chest_openings)[:,2], (2, 3))\n",
    "ts_s3 = normalize_spikes_by_segment(t_spikes, np.array(chest_openings)[:,2], np.array(chest_openings)[:,3], (3, 4))"
   ]
  },
  {
   "cell_type": "code",
   "execution_count": 206,
   "id": "c82ded40",
   "metadata": {},
   "outputs": [],
   "source": [
    "spikes_trial = [np.hstack([ts_s0[ind], ts_s1[ind], ts_s2[ind], ts_s3[ind]]) for ind in range(n_trials)]"
   ]
  },
  {
   "cell_type": "markdown",
   "id": "fa902bc3",
   "metadata": {},
   "source": [
    "#### Surrogate Distribution"
   ]
  },
  {
   "cell_type": "code",
   "execution_count": 207,
   "id": "61359914",
   "metadata": {},
   "outputs": [],
   "source": [
    "# Create shuffled time series for comparison\n",
    "times_shuffle = shuffle_spikes(spikes, shuffle_approach, n_surrogates, **shuffle_kwargs)"
   ]
  },
  {
   "cell_type": "code",
   "execution_count": 208,
   "id": "c08a234c",
   "metadata": {},
   "outputs": [],
   "source": [
    "# Create dataframe\n",
    "df = create_df_serial(segment_frs)"
   ]
  },
  {
   "cell_type": "code",
   "execution_count": 209,
   "id": "6a13bd20",
   "metadata": {},
   "outputs": [],
   "source": [
    "# Fit the ANOVA, and get f-value\n",
    "f_val = fit_anova_serial(df)"
   ]
  },
  {
   "cell_type": "code",
   "execution_count": 210,
   "id": "9ccd6a1d",
   "metadata": {},
   "outputs": [],
   "source": [
    "# Compute measures across shuffled time series for comparison\n",
    "surrogates = np.zeros(n_surrogates)\n",
    "for ind, shuffle in enumerate(times_shuffle):\n",
    "    surr_segment_frs = compute_segment_frs(shuffle, seg_times)\n",
    "    df = create_df_serial(surr_segment_frs)\n",
    "    surrogates[ind] = fit_anova_serial(df)"
   ]
  },
  {
   "cell_type": "code",
   "execution_count": 211,
   "id": "fb52d089",
   "metadata": {},
   "outputs": [
    {
     "name": "stdout",
     "output_type": "stream",
     "text": [
      "p-value: 0.02\n",
      "z-score: 2.94\n"
     ]
    }
   ],
   "source": [
    "# Compute surrogate statistics\n",
    "p_val, z_score = compute_surrogate_stats(f_val, surrogates, verbose=True)"
   ]
  },
  {
   "cell_type": "markdown",
   "id": "769a088e",
   "metadata": {},
   "source": [
    "## Create report for significant cell"
   ]
  },
  {
   "cell_type": "code",
   "execution_count": 212,
   "id": "ba2a8842",
   "metadata": {},
   "outputs": [],
   "source": [
    "name = nwbfile.session_id + '_U' + str(uind).zfill(2)"
   ]
  },
  {
   "cell_type": "code",
   "execution_count": 216,
   "id": "6aa80d1e",
   "metadata": {
    "scrolled": false
   },
   "outputs": [
    {
     "data": {
      "image/png": "[encoded data removed]",
      "text/plain": [
       "<Figure size 720x576 with 3 Axes>"
      ]
     },
     "metadata": {
      "needs_background": "light"
     },
     "output_type": "display_data"
    }
   ],
   "source": [
    "grid = make_grid(3, 2, figsize=(10, 8), wspace=0.3)\n",
    "plot_rasters(spikes_trial, vline=[0, 1, 2, 3, 4], show_axis=True, ax=get_grid_subplot(grid, slice(0,2), slice(0,2)), \n",
    "             ylabel=\"Trial number\", colors='#0F7AC0', xticks=[0.5, 1.5, 2.5, 3.5], \n",
    "             yticks=[0, len(spikes_trial)], xticklabels=[1,2,3,4], yticklabels=[1, len(spikes_trial)])\n",
    "\n",
    "plt.title(name, fontsize=25)\n",
    "plot_bar(segment_frs.mean(0), [0, 1, 2, 3], yerr=sem(segment_frs, 0), alpha=0.95, color=\"#0F7AC0\", \n",
    "         ax=get_grid_subplot(grid, 2, 0), xlabel='Serial position', ylabel='Firing rate (Hz)')\n",
    "\n",
    "for ind in range(len(segment_frs[:,0])): \n",
    "    get_grid_subplot(grid, 2, 0).plot(['1','2','3','4'], segment_frs[ind], color='#0F7AC0', alpha=0.2)\n",
    "\n",
    "plot_surrogates(surrogates, 50, f_val, p_val, ax=get_grid_subplot(grid, 2, 1))\n",
    "get_grid_subplot(grid, 2, 1).set(xlabel='F-statistics')\n",
    "\n",
    "drop_spines(get_grid_subplot(grid, slice(0,2), slice(0,2)), ['top', 'right'])\n",
    "drop_spines(get_grid_subplot(grid, 2, 0), ['top', 'right'])\n",
    "drop_spines(get_grid_subplot(grid, 2, 1), ['top', 'right'])\n",
    "\n",
    "save_figure('fig2_serial_face'+'.svg','/Users/clairehan/Desktop/paper_fig', close=False, bbox_inches='tight')"
   ]
  },
  {
   "cell_type": "markdown",
   "id": "5505db26",
   "metadata": {},
   "source": [
    "## All significant target cells"
   ]
  },
  {
   "cell_type": "code",
   "execution_count": null,
   "id": "cfb85dc6",
   "metadata": {
    "scrolled": true
   },
   "outputs": [],
   "source": [
    "# Load & merge the results sheets of THF & THO\n",
    "df_THF = pd.read_csv(\"/Users/clairehan/Desktop/THF_combined_all_results.csv\")\n",
    "# df_THO = pd.read_excel(\"/Users/Claire_han/Desktop/research/WVTH/THO_all_results.xlsx\")\n",
    "# df = df_THF.append(df_THO)"
   ]
  },
  {
   "cell_type": "code",
   "execution_count": null,
   "id": "bbd7d019",
   "metadata": {
    "scrolled": true
   },
   "outputs": [],
   "source": [
    "# Create a dataframe for significant spatial target cells\n",
    "df_sp = df_THF[df_THF.is_sp_cell]\n",
    "df_overlap = df_sp[df_sp.is_baseline_cell]\n",
    "df_overlap"
   ]
  },
  {
   "cell_type": "code",
   "execution_count": null,
   "id": "49a0b3a6",
   "metadata": {
    "scrolled": false
   },
   "outputs": [],
   "source": [
    "for nwbfile in nwbfiles:\n",
    "    nwbfile, io = load_nwbfile(nwbfile, data_folder, return_io=True)\n",
    "    name = nwbfile.session_id\n",
    "    \n",
    "    # Get indices of significant target cell from each session\n",
    "    inds = np.where(df_overlap.session_id == name)[0]\n",
    "    inds_uid = df_overlap.uid.iloc[inds].values\n",
    "    \n",
    "    # Get trial information \n",
    "    n_trials = len(nwbfile.trials)\n",
    "    nav_starts = nwbfile.trials.navigation_start[:]\n",
    "    nav_stops = nwbfile.trials.navigation_stop[:]\n",
    "    chest_openings = nwbfile.trials['chest_opening_time'][:]\n",
    "    ch_openings_all = np.array(chest_openings).reshape(-1,1)\n",
    "    \n",
    "    # Define the segment times of interest\n",
    "    seg_times = np.insert(np.array(chest_openings), 0, nav_starts, axis=1)\n",
    "    \n",
    "    for ind in inds_uid: \n",
    "        name_ind = nwbfile.session_id + '_U' + str(ind).zfill(2)\n",
    "        \n",
    "        # Get spike data for each significant unit\n",
    "        spikes = nwbfile.units.get_unit_spike_times(ind)\n",
    "        \n",
    "        # Compute firing rate per spatial target bin\n",
    "        segment_frs = compute_segment_frs(spikes, seg_times)\n",
    "        \n",
    "        # Compute the time spent in each segment\n",
    "        seg_interval = np.zeros([seg_times.shape[0], 4])\n",
    "        for ind in range(seg_times.shape[0]):\n",
    "            seg_interval[ind, :] = (np.diff(seg_times[ind])).tolist()\n",
    "        \n",
    "        # Count the number of spikes in each segment\n",
    "        tseg_count = np.zeros([seg_times.shape[0], 4])\n",
    "        for ind, time in enumerate(seg_times):\n",
    "            segment_spikes = epoch_spikes_by_segment(spikes, time)\n",
    "            tseg_count[ind, :] = np.array([len(segment_spikes[0]), len(segment_spikes[1]), len(segment_spikes[2]), \n",
    "                                           len(segment_spikes[3])])\n",
    "        seg_counts = np.sum(tseg_count, 0)\n",
    "        \n",
    "        # Normalize the spikes in each segment in unit time\n",
    "        trials_sp = epoch_spikes_by_range(spikes, nav_starts, np.array(chest_openings)[:,3], reset=False)\n",
    "        t_spikes = np.concatenate(trials_sp).ravel()\n",
    "        \n",
    "        s0_spikes = normalize_segment_spikes(t_spikes, nav_starts, np.array(chest_openings)[:,0], (0, 1))\n",
    "        s1_spikes = normalize_segment_spikes(t_spikes, np.array(chest_openings)[:,0], \n",
    "                                             np.array(chest_openings)[:,1], (1, 2))\n",
    "        s2_spikes = normalize_segment_spikes(t_spikes, np.array(chest_openings)[:,1], \n",
    "                                             np.array(chest_openings)[:,2], (2, 3))\n",
    "        s3_spikes = normalize_segment_spikes(t_spikes, np.array(chest_openings)[:,2], \n",
    "                                             np.array(chest_openings)[:,3], (3, 4))\n",
    "        \n",
    "        spikes_trial = [np.hstack([s0_spikes[ind], s1_spikes[ind], s2_spikes[ind], s3_spikes[ind]])\n",
    "                    for ind in range(n_trials)]\n",
    "        \n",
    "        # Create shuffled time series for comparison\n",
    "        times_shuffle = shuffle_spikes(spikes, shuffle_approach, n_surrogates, **shuffle_kwargs)\n",
    "        \n",
    "        # Create dataframe\n",
    "        df = create_df_serial(segment_frs)\n",
    "        \n",
    "        # Fit the ANOVA, and get f-value\n",
    "        f_val = fit_anova_serial(df)\n",
    "        \n",
    "        # Compute measures across shuffled time series for comparison\n",
    "        surrogates = np.zeros(n_surrogates)\n",
    "        for ind, shuffle in enumerate(times_shuffle):\n",
    "            segment_frs = compute_segment_frs(shuffle, seg_times)\n",
    "            df = create_df_serial(segment_frs)\n",
    "            surrogates[ind] = fit_anova_serial(df)\n",
    "        \n",
    "        # Compute surrogate statistics\n",
    "        p_val, z_score = compute_surrogate_stats(f_val, surrogates, verbose=False)\n",
    "        \n",
    "        # Plot the example serial position cell\n",
    "        grid = make_grid(3, 2, figsize=(8, 12), wspace=0.3, )\n",
    "        plot_rasters(spikes_trial, vline=[0, 1, 2, 3, 4], show_axis=True, ax=get_grid_subplot(grid, slice(0,2), slice(0,2)),\n",
    "                          ylabel=\"Trial number\", colors='C0',\n",
    "                          xticks=[0.5, 1.5, 2.5, 3.5], yticks=range(0,len(spikes_trial)), xticklabels=[0,1,2,3])\n",
    "        plt.yticks(fontsize=15)\n",
    "        plt.title(name_ind)\n",
    "        plot_bar(segment_frs.mean(0), [0, 1, 2, 3], yerr=sem(segment_frs, 0), alpha=0.95, color=\"C0\", \n",
    "                 ax=get_grid_subplot(grid, 2, 0), xlabel='Serial position', ylabel='Firing rate (Hz)')\n",
    "        for ind in range(len(segment_frs[:,0])): \n",
    "            get_grid_subplot(grid, 2, 0).plot(['0','1','2','3'], segment_frs[ind], color='C0', alpha=0.2)\n",
    "        # get_grid_subplot(grid, 2, 0).set(ylim=[0,8])\n",
    "\n",
    "        plot_surr_stats(surrogates, f_val, p_val, 50, ax=get_grid_subplot(grid, 2, 1))\n",
    "        get_grid_subplot(grid, 2, 1).set(xlabel='F-statistics')\n",
    "\n",
    "        # Drop after spiketools update\n",
    "        get_grid_subplot(grid, slice(0,2), slice(0,2)).spines.right.set_visible(False)\n",
    "        get_grid_subplot(grid, slice(0,2), slice(0,2)).spines.top.set_visible(False)\n",
    "        get_grid_subplot(grid, 2, 0).spines.right.set_visible(False)\n",
    "        get_grid_subplot(grid, 2, 0).spines.top.set_visible(False)\n",
    "        get_grid_subplot(grid, 2, 1).spines.right.set_visible(False)\n",
    "        get_grid_subplot(grid, 2, 1).spines.top.set_visible(False)\n",
    "        \n",
    "        save_figure(name_ind + '.pdf', '/Users/clairehan/Desktop/poster_figures/THF_overall_serial&baseline', close=True, bbox_inches='tight')"
   ]
  }
 ],
 "metadata": {
  "kernelspec": {
   "display_name": "Python 3 (ipykernel)",
   "language": "python",
   "name": "python3"
  },
  "language_info": {
   "codemirror_mode": {
    "name": "ipython",
    "version": 3
   },
   "file_extension": ".py",
   "mimetype": "text/x-python",
   "name": "python",
   "nbconvert_exporter": "python",
   "pygments_lexer": "ipython3",
   "version": "3.9.12"
  }
 },
 "nbformat": 4,
 "nbformat_minor": 5
}
