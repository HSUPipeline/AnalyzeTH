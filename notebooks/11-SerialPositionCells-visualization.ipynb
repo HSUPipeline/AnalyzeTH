{
 "cells": [
  {
   "cell_type": "markdown",
   "id": "66344a3f",
   "metadata": {},
   "source": [
    "# Example Serial Position Cells Visualization\n",
    "\n",
    "This notebook contains plots of example cells from the spatial target analysis. "
   ]
  },
  {
   "cell_type": "code",
   "execution_count": 1,
   "id": "45745120",
   "metadata": {},
   "outputs": [],
   "source": [
    "%config Completer.use_jedi = False"
   ]
  },
  {
   "cell_type": "code",
   "execution_count": 2,
   "id": "ed3c83e6",
   "metadata": {},
   "outputs": [],
   "source": [
    "import warnings\n",
    "warnings.filterwarnings(\"ignore\")\n",
    "\n",
    "import numpy as np\n",
    "import pandas as pd\n",
    "import matplotlib.pyplot as plt\n",
    "\n",
    "from collections import Counter\n",
    "from scipy.stats import sem, ttest_rel\n",
    "\n",
    "from convnwb.io import load_nwbfile\n",
    "from convnwb.io import get_files, save_json\n",
    "\n",
    "from spiketools.measures.trials import compute_segment_frs\n",
    "from spiketools.measures.spikes import compute_firing_rate\n",
    "from spiketools.measures.conversions import convert_times_to_rates\n",
    "from spiketools.stats.shuffle import shuffle_spikes\n",
    "from spiketools.stats.permutations import compute_surrogate_stats\n",
    "from spiketools.utils import set_random_seed\n",
    "from spiketools.utils.base import select_from_list\n",
    "from spiketools.utils.data import compute_range\n",
    "from spiketools.utils.extract import (get_range, get_value_by_time, get_values_by_time_range,\n",
    "                                      get_values_by_times, threshold_spikes_by_times)\n",
    "from spiketools.utils.epoch import (epoch_data_by_range, epoch_spikes_by_segment, \n",
    "                                    epoch_spikes_by_range, epoch_spikes_by_event)\n",
    "\n",
    "from spiketools.plts.data import plot_bar\n",
    "from spiketools.plts.spatial import plot_heatmap, plot_positions, create_heat_title\n",
    "from spiketools.plts.trials import plot_rasters\n",
    "from spiketools.plts.stats import plot_surrogates\n",
    "from spiketools.plts.utils import make_axes, save_figure, make_grid, get_grid_subplot"
   ]
  },
  {
   "cell_type": "code",
   "execution_count": 3,
   "id": "6fe48a18",
   "metadata": {},
   "outputs": [],
   "source": [
    "import sys\n",
    "sys.path.append('../code')\n",
    "\n",
    "from models import *\n",
    "from utils import *\n",
    "from plts import *"
   ]
  },
  {
   "cell_type": "code",
   "execution_count": 4,
   "id": "46bbd799",
   "metadata": {},
   "outputs": [],
   "source": [
    "import seaborn as sns\n",
    "sns.set_context('talk')"
   ]
  },
  {
   "cell_type": "markdown",
   "id": "01e52d23",
   "metadata": {},
   "source": [
    "## Settings"
   ]
  },
  {
   "cell_type": "code",
   "execution_count": 5,
   "id": "b2497c65",
   "metadata": {},
   "outputs": [],
   "source": [
    "# Define the base data folder\n",
    "data_folder = '/Users/Claire_han/Documents/Data/JacobsLab/WVTH/nwb'\n",
    "# data_folder = '/Users/clairehan/Documents/Data/JacobsLab/WVTH/nwb'"
   ]
  },
  {
   "cell_type": "code",
   "execution_count": 6,
   "id": "c0a09521",
   "metadata": {},
   "outputs": [],
   "source": [
    "# Define session information\n",
    "session = {\n",
    "    'experiment' : 'THO',\n",
    "    'subject' : 'wv001',\n",
    "    'session' : 2\n",
    "}"
   ]
  },
  {
   "cell_type": "code",
   "execution_count": 7,
   "id": "a6d49ccb",
   "metadata": {},
   "outputs": [],
   "source": [
    "# Set which example unit to extract\n",
    "uind = 0"
   ]
  },
  {
   "cell_type": "code",
   "execution_count": 8,
   "id": "8e131050",
   "metadata": {},
   "outputs": [],
   "source": [
    "# Define occupancy settings: minimum required occupancy (in seconds) & speed threshold\n",
    "min_occ = 1\n",
    "speed_thresh = 5e-6\n",
    "time_thresh = 0.25"
   ]
  },
  {
   "cell_type": "code",
   "execution_count": 9,
   "id": "aa7235bd",
   "metadata": {},
   "outputs": [],
   "source": [
    "# Shuffle Settings\n",
    "shuffle_approach = 'CIRCULAR'  # 'CIRCULAR', 'BINCIRC'\n",
    "n_surrogates = 25\n",
    "\n",
    "if shuffle_approach == 'CIRCULAR':\n",
    "    shuffle_kwargs = {}\n",
    "if shuffle_approach == 'BINCIRC':\n",
    "    shuffle_kwargs = {}\n",
    "    #shuffle_kwargs = {'shuffle_min' : 20000}"
   ]
  },
  {
   "cell_type": "code",
   "execution_count": 10,
   "id": "1adb5ffb",
   "metadata": {},
   "outputs": [],
   "source": [
    "# Set which analysis method to run\n",
    "METHOD = 'ANOVA'  # 'SEGMENT' / 'ANOVA'"
   ]
  },
  {
   "cell_type": "markdown",
   "id": "947a4caf",
   "metadata": {},
   "source": [
    "## Load data"
   ]
  },
  {
   "cell_type": "code",
   "execution_count": 11,
   "id": "174dc71a",
   "metadata": {},
   "outputs": [],
   "source": [
    "# Get the list of NWB files\n",
    "nwbfiles = get_files(data_folder)"
   ]
  },
  {
   "cell_type": "code",
   "execution_count": 12,
   "id": "d95fffd7",
   "metadata": {},
   "outputs": [],
   "source": [
    "# Load example NWB file\n",
    "nwbfile = load_nwbfile(session, data_folder)"
   ]
  },
  {
   "cell_type": "markdown",
   "id": "8617b611",
   "metadata": {},
   "source": [
    "### Get trial data"
   ]
  },
  {
   "cell_type": "code",
   "execution_count": 13,
   "id": "aa61bc15",
   "metadata": {},
   "outputs": [
    {
     "name": "stdout",
     "output_type": "stream",
     "text": [
      "Number of trials: 24\n"
     ]
    }
   ],
   "source": [
    "# Get the number of trials\n",
    "n_trials = len(nwbfile.trials)\n",
    "print('Number of trials: {}'.format(n_trials))"
   ]
  },
  {
   "cell_type": "code",
   "execution_count": 14,
   "id": "2065883c",
   "metadata": {},
   "outputs": [],
   "source": [
    "nav_starts = nwbfile.trials.navigation_start[:]\n",
    "nav_stops = nwbfile.trials.navigation_stop[:]\n",
    "chest_openings = nwbfile.trials['chest_opening_time'][:]\n",
    "ch_openings_all = np.array(chest_openings).reshape(-1,1)"
   ]
  },
  {
   "cell_type": "markdown",
   "id": "83ce7468",
   "metadata": {},
   "source": [
    "### Get spike data"
   ]
  },
  {
   "cell_type": "code",
   "execution_count": 15,
   "id": "23b99178",
   "metadata": {},
   "outputs": [
    {
     "name": "stdout",
     "output_type": "stream",
     "text": [
      "Number of units: 118\n",
      "Number to keep:  85\n"
     ]
    }
   ],
   "source": [
    "# Check the number of units & keep indices\n",
    "n_units = len(nwbfile.units)\n",
    "keep_inds = np.where(nwbfile.units.keep[:])[0]\n",
    "n_keep = len(keep_inds)\n",
    "print('Number of units: {}'.format(n_units))\n",
    "print('Number to keep:  {}'.format(n_keep))"
   ]
  },
  {
   "cell_type": "code",
   "execution_count": 16,
   "id": "d5829ac5",
   "metadata": {},
   "outputs": [],
   "source": [
    "# Get spikes\n",
    "spikes = nwbfile.units.get_unit_spike_times(uind)"
   ]
  },
  {
   "cell_type": "code",
   "execution_count": 17,
   "id": "1b150c7e",
   "metadata": {},
   "outputs": [],
   "source": [
    "# Define the segment times of interest\n",
    "seg_times = np.insert(np.array(chest_openings), 0, nav_starts, axis=1)\n",
    "# chest_trial_number = np.array(list(range(len(chest_trials)))).reshape(n_trials,4)"
   ]
  },
  {
   "cell_type": "markdown",
   "id": "f61ef45c",
   "metadata": {},
   "source": [
    "## One example serial position cell"
   ]
  },
  {
   "cell_type": "markdown",
   "id": "a73d111d",
   "metadata": {},
   "source": [
    "#### Time spend in each serial position"
   ]
  },
  {
   "cell_type": "code",
   "execution_count": 18,
   "id": "295366f2",
   "metadata": {
    "scrolled": true
   },
   "outputs": [],
   "source": [
    "segment_frs = compute_segment_frs(spikes, seg_times)"
   ]
  },
  {
   "cell_type": "code",
   "execution_count": 19,
   "id": "8ab9bf7c",
   "metadata": {},
   "outputs": [],
   "source": [
    "seg_interval = np.zeros([seg_times.shape[0], 4])\n",
    "for ind in range(seg_times.shape[0]):\n",
    "    seg_interval[ind, :] = (np.diff(seg_times[ind])).tolist()"
   ]
  },
  {
   "cell_type": "markdown",
   "id": "f0bed929",
   "metadata": {},
   "source": [
    "#### Spike count in each serial position"
   ]
  },
  {
   "cell_type": "code",
   "execution_count": 20,
   "id": "472d39e7",
   "metadata": {},
   "outputs": [],
   "source": [
    "tseg_count = np.zeros([seg_times.shape[0], 4])\n",
    "for ind, time in enumerate(seg_times):\n",
    "    segment_spikes = epoch_spikes_by_segment(spikes, time)\n",
    "    tseg_count[ind, :] = np.array([len(segment_spikes[0]), len(segment_spikes[1]), len(segment_spikes[2]), len(segment_spikes[3])])\n",
    "\n",
    "seg_counts = np.sum(tseg_count, 0)"
   ]
  },
  {
   "cell_type": "markdown",
   "id": "d0f05af6",
   "metadata": {},
   "source": [
    "#### Normalized raster plot "
   ]
  },
  {
   "cell_type": "code",
   "execution_count": 21,
   "id": "1bb95e0d",
   "metadata": {},
   "outputs": [],
   "source": [
    "trials_sp = epoch_spikes_by_range(spikes, nav_starts, np.array(chest_openings)[:,3], reset=False)\n",
    "t_spikes = np.concatenate(trials_sp).ravel()"
   ]
  },
  {
   "cell_type": "code",
   "execution_count": 22,
   "id": "3e491a4e",
   "metadata": {},
   "outputs": [],
   "source": [
    "s0_spikes = normalize_segment_spikes(t_spikes, nav_starts, np.array(chest_openings)[:,0], (0, 1))\n",
    "s1_spikes = normalize_segment_spikes(t_spikes, np.array(chest_openings)[:,0], np.array(chest_openings)[:,1], (1, 2))\n",
    "s2_spikes = normalize_segment_spikes(t_spikes, np.array(chest_openings)[:,1], np.array(chest_openings)[:,2], (2, 3))\n",
    "s3_spikes = normalize_segment_spikes(t_spikes, np.array(chest_openings)[:,2], np.array(chest_openings)[:,3], (3, 4))"
   ]
  },
  {
   "cell_type": "code",
   "execution_count": 23,
   "id": "c82ded40",
   "metadata": {},
   "outputs": [],
   "source": [
    "spikes_trial = [np.hstack([s0_spikes[ind], s1_spikes[ind], s2_spikes[ind], s3_spikes[ind]])\n",
    "                    for ind in range(n_trials)]"
   ]
  },
  {
   "cell_type": "markdown",
   "id": "fa902bc3",
   "metadata": {},
   "source": [
    "#### Surrogate Distribution"
   ]
  },
  {
   "cell_type": "code",
   "execution_count": 24,
   "id": "61359914",
   "metadata": {},
   "outputs": [],
   "source": [
    "# Create shuffled time series for comparison\n",
    "times_shuffle = shuffle_spikes(spikes, shuffle_approach, n_surrogates, **shuffle_kwargs)"
   ]
  },
  {
   "cell_type": "code",
   "execution_count": 25,
   "id": "c08a234c",
   "metadata": {},
   "outputs": [],
   "source": [
    "# Create dataframe\n",
    "df = create_df_serial(segment_frs)"
   ]
  },
  {
   "cell_type": "code",
   "execution_count": 26,
   "id": "6a13bd20",
   "metadata": {},
   "outputs": [],
   "source": [
    "# Fit the ANOVA, and get f-value\n",
    "f_val = fit_anova_serial(df)"
   ]
  },
  {
   "cell_type": "code",
   "execution_count": 27,
   "id": "9ccd6a1d",
   "metadata": {},
   "outputs": [],
   "source": [
    "# Compute measures across shuffled time series for comparison\n",
    "surrogates = np.zeros(n_surrogates)\n",
    "for ind, shuffle in enumerate(times_shuffle):\n",
    "    segment_frs = compute_segment_frs(shuffle, seg_times)\n",
    "    df = create_df_serial(segment_frs)\n",
    "    surrogates[ind] = fit_anova_serial(df)"
   ]
  },
  {
   "cell_type": "code",
   "execution_count": 28,
   "id": "fb52d089",
   "metadata": {},
   "outputs": [],
   "source": [
    "# Compute surrogate statistics\n",
    "p_val, z_score = compute_surrogate_stats(f_val, surrogates, verbose=False)"
   ]
  },
  {
   "cell_type": "markdown",
   "id": "769a088e",
   "metadata": {},
   "source": [
    "## Create report for significant cell"
   ]
  },
  {
   "cell_type": "code",
   "execution_count": 29,
   "id": "ba2a8842",
   "metadata": {},
   "outputs": [],
   "source": [
    "name = nwbfile.session_id + '_U' + str(uind).zfill(2)"
   ]
  },
  {
   "cell_type": "code",
   "execution_count": 30,
   "id": "497922f7",
   "metadata": {},
   "outputs": [
    {
     "data": {
      "image/png": "[encoded data removed]",
      "text/plain": [
       "<Figure size 1440x1080 with 5 Axes>"
      ]
     },
     "metadata": {
      "needs_background": "light"
     },
     "output_type": "display_data"
    }
   ],
   "source": [
    "grid = make_grid(3, 4, figsize=(20, 15), wspace=0.4, hspace=0.3, title=name)\n",
    "\n",
    "plot_rasters(spikes_trial, vline=[0, 1, 2, 3, 4], show_axis=True,\n",
    "             ax=get_grid_subplot(grid, slice(0, 2), slice(0, 4)),\n",
    "                  title=\"Normalized Spike Times\", ylabel=\"Trial number\", \n",
    "                  xticks=[0.5, 1.5, 2.5, 3.5], yticks=range(0,len(spikes_trial)), xticklabels=[0,1,2,3])\n",
    "\n",
    "plot_bar(segment_frs.mean(0), [0, 1, 2, 3], yerr=sem(segment_frs, 0), alpha=0.7, color=\"lightgray\", \n",
    "         ax=get_grid_subplot(grid, 2, 0), ylabel='Firing rate')\n",
    "for ind in range(len(segment_frs[:,0])): \n",
    "    get_grid_subplot(grid, 2, 0).plot(['0','1','2','3'], segment_frs[ind], color='darkgray', alpha=0.2)\n",
    "plot_bar(seg_counts, [0,1,2,3], ax=get_grid_subplot(grid, 2, 1), color='lightgray', ylabel='Spike count')\n",
    "plot_bar(seg_interval.mean(0), [0, 1, 2, 3], yerr=sem(seg_interval, 0), color='lightgray',\n",
    "         ylabel='Time (seconds)', ax=get_grid_subplot(grid, 2, 2))\n",
    "plot_surr_stats(surrogates, f_val, p_val, 10, ax=get_grid_subplot(grid, 2, 3))\n",
    "\n",
    "# Drop after spiketools update\n",
    "get_grid_subplot(grid, slice(0, 2), slice(0, 4)).spines.right.set_visible(False)\n",
    "get_grid_subplot(grid, slice(0, 2), slice(0, 4)).spines.top.set_visible(False)\n",
    "get_grid_subplot(grid, 2, 0).spines.right.set_visible(False)\n",
    "get_grid_subplot(grid, 2, 0).spines.top.set_visible(False)\n",
    "get_grid_subplot(grid, 2, 1).spines.right.set_visible(False)\n",
    "get_grid_subplot(grid, 2, 1).spines.top.set_visible(False)\n",
    "get_grid_subplot(grid, 2, 2).spines.right.set_visible(False)\n",
    "get_grid_subplot(grid, 2, 2).spines.top.set_visible(False)\n",
    "get_grid_subplot(grid, 2, 3).spines.right.set_visible(False)\n",
    "get_grid_subplot(grid, 2, 3).spines.top.set_visible(False)"
   ]
  },
  {
   "cell_type": "markdown",
   "id": "5505db26",
   "metadata": {},
   "source": [
    "## All significant target cells"
   ]
  },
  {
   "cell_type": "code",
   "execution_count": 31,
   "id": "cfb85dc6",
   "metadata": {
    "scrolled": true
   },
   "outputs": [],
   "source": [
    "# Load & merge the results sheets of THF & THO\n",
    "# df_THF = pd.read_excel(\"/Users/clairehan/Desktop/THF_all_results.xlsx\")\n",
    "# df_THO = pd.read_excel(\"/Users/clairehan/Desktop/THO_all_results.xlsx\")\n",
    "df_THF = pd.read_excel(\"/Users/Claire_han/Desktop/research/WVTH/THF_all_results.xlsx\")\n",
    "df_THO = pd.read_excel(\"/Users/Claire_han/Desktop/research/WVTH/THO_all_results.xlsx\")\n",
    "df = df_THF.append(df_THO)"
   ]
  },
  {
   "cell_type": "code",
   "execution_count": 32,
   "id": "bbd7d019",
   "metadata": {},
   "outputs": [
    {
     "data": {
      "text/html": [
       "<div>\n",
       "<style scoped>\n",
       "    .dataframe tbody tr th:only-of-type {\n",
       "        vertical-align: middle;\n",
       "    }\n",
       "\n",
       "    .dataframe tbody tr th {\n",
       "        vertical-align: top;\n",
       "    }\n",
       "\n",
       "    .dataframe thead th {\n",
       "        text-align: right;\n",
       "    }\n",
       "</style>\n",
       "<table border=\"1\" class=\"dataframe\">\n",
       "  <thead>\n",
       "    <tr style=\"text-align: right;\">\n",
       "      <th></th>\n",
       "      <th>Unnamed: 0</th>\n",
       "      <th>session</th>\n",
       "      <th>uid</th>\n",
       "      <th>wvID</th>\n",
       "      <th>keep</th>\n",
       "      <th>cluster</th>\n",
       "      <th>channel</th>\n",
       "      <th>location</th>\n",
       "      <th>n_spikes</th>\n",
       "      <th>firing_rate</th>\n",
       "      <th>...</th>\n",
       "      <th>sp_p_val</th>\n",
       "      <th>sp_z_score</th>\n",
       "      <th>area</th>\n",
       "      <th>fr_keep_th</th>\n",
       "      <th>is_chest_cell</th>\n",
       "      <th>is_full_cell</th>\n",
       "      <th>is_empty_cell</th>\n",
       "      <th>is_place_cell</th>\n",
       "      <th>is_target_cell</th>\n",
       "      <th>is_sp_cell</th>\n",
       "    </tr>\n",
       "  </thead>\n",
       "  <tbody>\n",
       "    <tr>\n",
       "      <th>6</th>\n",
       "      <td>6</td>\n",
       "      <td>THF_wv001_session_0</td>\n",
       "      <td>8</td>\n",
       "      <td>9</td>\n",
       "      <td>1</td>\n",
       "      <td>2248</td>\n",
       "      <td>A15</td>\n",
       "      <td>LAH</td>\n",
       "      <td>1079</td>\n",
       "      <td>0.866408</td>\n",
       "      <td>...</td>\n",
       "      <td>0.028</td>\n",
       "      <td>2.382048</td>\n",
       "      <td>ant hipp</td>\n",
       "      <td>False</td>\n",
       "      <td>False</td>\n",
       "      <td>False</td>\n",
       "      <td>True</td>\n",
       "      <td>False</td>\n",
       "      <td>False</td>\n",
       "      <td>True</td>\n",
       "    </tr>\n",
       "    <tr>\n",
       "      <th>8</th>\n",
       "      <td>8</td>\n",
       "      <td>THF_wv001_session_0</td>\n",
       "      <td>10</td>\n",
       "      <td>11</td>\n",
       "      <td>1</td>\n",
       "      <td>1571</td>\n",
       "      <td>A16</td>\n",
       "      <td>LAH</td>\n",
       "      <td>2291</td>\n",
       "      <td>1.838756</td>\n",
       "      <td>...</td>\n",
       "      <td>0.018</td>\n",
       "      <td>2.884363</td>\n",
       "      <td>ant hipp</td>\n",
       "      <td>False</td>\n",
       "      <td>False</td>\n",
       "      <td>True</td>\n",
       "      <td>False</td>\n",
       "      <td>False</td>\n",
       "      <td>False</td>\n",
       "      <td>True</td>\n",
       "    </tr>\n",
       "    <tr>\n",
       "      <th>14</th>\n",
       "      <td>14</td>\n",
       "      <td>THF_wv001_session_0</td>\n",
       "      <td>16</td>\n",
       "      <td>17</td>\n",
       "      <td>1</td>\n",
       "      <td>2302</td>\n",
       "      <td>A17</td>\n",
       "      <td>LPH</td>\n",
       "      <td>1266</td>\n",
       "      <td>1.002627</td>\n",
       "      <td>...</td>\n",
       "      <td>0.000</td>\n",
       "      <td>5.875278</td>\n",
       "      <td>post hipp</td>\n",
       "      <td>False</td>\n",
       "      <td>False</td>\n",
       "      <td>False</td>\n",
       "      <td>False</td>\n",
       "      <td>False</td>\n",
       "      <td>False</td>\n",
       "      <td>True</td>\n",
       "    </tr>\n",
       "    <tr>\n",
       "      <th>61</th>\n",
       "      <td>61</td>\n",
       "      <td>THF_wv001_session_0</td>\n",
       "      <td>84</td>\n",
       "      <td>85</td>\n",
       "      <td>1</td>\n",
       "      <td>1471</td>\n",
       "      <td>A46</td>\n",
       "      <td>RPH</td>\n",
       "      <td>3622</td>\n",
       "      <td>2.867878</td>\n",
       "      <td>...</td>\n",
       "      <td>0.030</td>\n",
       "      <td>2.440854</td>\n",
       "      <td>post hipp</td>\n",
       "      <td>False</td>\n",
       "      <td>False</td>\n",
       "      <td>False</td>\n",
       "      <td>False</td>\n",
       "      <td>False</td>\n",
       "      <td>False</td>\n",
       "      <td>True</td>\n",
       "    </tr>\n",
       "    <tr>\n",
       "      <th>99</th>\n",
       "      <td>99</td>\n",
       "      <td>THF_wv001_session_2</td>\n",
       "      <td>40</td>\n",
       "      <td>141</td>\n",
       "      <td>1</td>\n",
       "      <td>2750</td>\n",
       "      <td>A29</td>\n",
       "      <td>RA</td>\n",
       "      <td>2359</td>\n",
       "      <td>1.406607</td>\n",
       "      <td>...</td>\n",
       "      <td>0.000</td>\n",
       "      <td>4.719226</td>\n",
       "      <td>amygdala</td>\n",
       "      <td>False</td>\n",
       "      <td>False</td>\n",
       "      <td>False</td>\n",
       "      <td>False</td>\n",
       "      <td>False</td>\n",
       "      <td>True</td>\n",
       "      <td>True</td>\n",
       "    </tr>\n",
       "  </tbody>\n",
       "</table>\n",
       "<p>5 rows × 33 columns</p>\n",
       "</div>"
      ],
      "text/plain": [
       "    Unnamed: 0              session  uid  wvID  keep  cluster channel  \\\n",
       "6            6  THF_wv001_session_0    8     9     1     2248     A15   \n",
       "8            8  THF_wv001_session_0   10    11     1     1571     A16   \n",
       "14          14  THF_wv001_session_0   16    17     1     2302     A17   \n",
       "61          61  THF_wv001_session_0   84    85     1     1471     A46   \n",
       "99          99  THF_wv001_session_2   40   141     1     2750     A29   \n",
       "\n",
       "   location  n_spikes  firing_rate  ...  sp_p_val  sp_z_score       area  \\\n",
       "6       LAH      1079     0.866408  ...     0.028    2.382048   ant hipp   \n",
       "8       LAH      2291     1.838756  ...     0.018    2.884363   ant hipp   \n",
       "14      LPH      1266     1.002627  ...     0.000    5.875278  post hipp   \n",
       "61      RPH      3622     2.867878  ...     0.030    2.440854  post hipp   \n",
       "99       RA      2359     1.406607  ...     0.000    4.719226   amygdala   \n",
       "\n",
       "    fr_keep_th  is_chest_cell  is_full_cell  is_empty_cell  is_place_cell  \\\n",
       "6        False          False         False           True          False   \n",
       "8        False          False          True          False          False   \n",
       "14       False          False         False          False          False   \n",
       "61       False          False         False          False          False   \n",
       "99       False          False         False          False          False   \n",
       "\n",
       "    is_target_cell  is_sp_cell  \n",
       "6            False        True  \n",
       "8            False        True  \n",
       "14           False        True  \n",
       "61           False        True  \n",
       "99            True        True  \n",
       "\n",
       "[5 rows x 33 columns]"
      ]
     },
     "execution_count": 32,
     "metadata": {},
     "output_type": "execute_result"
    }
   ],
   "source": [
    "# Create a dataframe for significant spatial target cells\n",
    "df_sp = df[df.is_sp_cell]\n",
    "df_sp.head()"
   ]
  },
  {
   "cell_type": "code",
   "execution_count": null,
   "id": "49a0b3a6",
   "metadata": {
    "scrolled": false
   },
   "outputs": [],
   "source": [
    "for nwbfile in nwbfiles:\n",
    "    nwbfile, io = load_nwbfile(nwbfile, data_folder, return_io=True)\n",
    "    name = nwbfile.session_id\n",
    "    \n",
    "    # Get indices of significant target cell from each session\n",
    "    inds = np.where(df_sp.session == name)[0]\n",
    "    inds_uid = df_sp.uid.iloc[inds].values\n",
    "    \n",
    "    # Get trial information \n",
    "    n_trials = len(nwbfile.trials)\n",
    "    nav_starts = nwbfile.trials.navigation_start[:]\n",
    "    nav_stops = nwbfile.trials.navigation_stop[:]\n",
    "    chest_openings = nwbfile.trials['chest_opening_time'][:]\n",
    "    ch_openings_all = np.array(chest_openings).reshape(-1,1)\n",
    "    \n",
    "    # Define the segment times of interest\n",
    "    seg_times = np.insert(np.array(chest_openings), 0, nav_starts, axis=1)\n",
    "    \n",
    "    for ind in inds_uid: \n",
    "        name_ind = nwbfile.session_id + '_U' + str(ind).zfill(2)\n",
    "        \n",
    "        # Get spike data for each significant unit\n",
    "        spikes = nwbfile.units.get_unit_spike_times(ind)\n",
    "        \n",
    "        # Compute firing rate per spatial target bin\n",
    "        segment_frs = compute_segment_frs(spikes, seg_times)\n",
    "        \n",
    "        # Compute the time spent in each segment\n",
    "        seg_interval = np.zeros([seg_times.shape[0], 4])\n",
    "        for ind in range(seg_times.shape[0]):\n",
    "            seg_interval[ind, :] = (np.diff(seg_times[ind])).tolist()\n",
    "        \n",
    "        # Count the number of spikes in each segment\n",
    "        tseg_count = np.zeros([seg_times.shape[0], 4])\n",
    "        for ind, time in enumerate(seg_times):\n",
    "            segment_spikes = epoch_spikes_by_segment(spikes, time)\n",
    "            tseg_count[ind, :] = np.array([len(segment_spikes[0]), len(segment_spikes[1]), len(segment_spikes[2]), \n",
    "                                           len(segment_spikes[3])])\n",
    "        seg_counts = np.sum(tseg_count, 0)\n",
    "        \n",
    "        # Normalize the spikes in each segment in unit time\n",
    "        trials_sp = epoch_spikes_by_range(spikes, nav_starts, np.array(chest_openings)[:,3], reset=False)\n",
    "        t_spikes = np.concatenate(trials_sp).ravel()\n",
    "        \n",
    "        s0_spikes = normalize_segment_spikes(t_spikes, nav_starts, np.array(chest_openings)[:,0], (0, 1))\n",
    "        s1_spikes = normalize_segment_spikes(t_spikes, np.array(chest_openings)[:,0], \n",
    "                                             np.array(chest_openings)[:,1], (1, 2))\n",
    "        s2_spikes = normalize_segment_spikes(t_spikes, np.array(chest_openings)[:,1], \n",
    "                                             np.array(chest_openings)[:,2], (2, 3))\n",
    "        s3_spikes = normalize_segment_spikes(t_spikes, np.array(chest_openings)[:,2], \n",
    "                                             np.array(chest_openings)[:,3], (3, 4))\n",
    "        \n",
    "        spikes_trial = [np.hstack([s0_spikes[ind], s1_spikes[ind], s2_spikes[ind], s3_spikes[ind]])\n",
    "                    for ind in range(n_trials)]\n",
    "        \n",
    "        # Create shuffled time series for comparison\n",
    "        times_shuffle = shuffle_spikes(spikes, shuffle_approach, n_surrogates, **shuffle_kwargs)\n",
    "        \n",
    "        # Create dataframe\n",
    "        df = create_df_serial(segment_frs)\n",
    "        \n",
    "        # Fit the ANOVA, and get f-value\n",
    "        f_val = fit_anova_serial(df)\n",
    "        \n",
    "        # Compute measures across shuffled time series for comparison\n",
    "        surrogates = np.zeros(n_surrogates)\n",
    "        for ind, shuffle in enumerate(times_shuffle):\n",
    "            segment_frs = compute_segment_frs(shuffle, seg_times)\n",
    "            df = create_df_serial(segment_frs)\n",
    "            surrogates[ind] = fit_anova_serial(df)\n",
    "        \n",
    "        # Compute surrogate statistics\n",
    "        p_val, z_score = compute_surrogate_stats(f_val, surrogates, verbose=False)\n",
    "        \n",
    "        # Plot the example serial position cell\n",
    "        grid = make_grid(3, 4, figsize=(20, 15), wspace=0.4, hspace=0.3, title=name)\n",
    "        plot_rasters(spikes_trial, vline=[0, 1, 2, 3, 4], show_axis=True,\n",
    "                     ax=get_grid_subplot(grid, slice(0, 2), slice(0, 4)),\n",
    "                          title=\"Normalized Spike Times\", ylabel=\"Trial number\", \n",
    "                          xticks=[0.5, 1.5, 2.5, 3.5], yticks=range(0,len(spikes_trial)), xticklabels=[0,1,2,3])\n",
    "\n",
    "        plot_bar(segment_frs.mean(0), [0, 1, 2, 3], yerr=sem(segment_frs, 0), alpha=0.7, color=\"lightgray\", \n",
    "                 ax=get_grid_subplot(grid, 2, 0), ylabel='Firing rate')\n",
    "        for ind in range(len(segment_frs[:,0])): \n",
    "            get_grid_subplot(grid, 2, 0).plot(['0','1','2','3'], segment_frs[ind], color='darkgray', alpha=0.2)\n",
    "        plot_bar(seg_counts, [0,1,2,3], ax=get_grid_subplot(grid, 2, 1), color='lightgray', ylabel='Spike count')\n",
    "        plot_bar(seg_interval.mean(0), [0, 1, 2, 3], yerr=sem(seg_interval, 0), color='lightgray',\n",
    "                 ylabel='Time (seconds)', ax=get_grid_subplot(grid, 2, 2))\n",
    "        plot_surr_stats(surrogates, f_val, p_val, 10, ax=get_grid_subplot(grid, 2, 3))\n",
    "\n",
    "        # Drop after spiketools update\n",
    "        get_grid_subplot(grid, slice(0, 2), slice(0, 4)).spines.right.set_visible(False)\n",
    "        get_grid_subplot(grid, slice(0, 2), slice(0, 4)).spines.top.set_visible(False)\n",
    "        get_grid_subplot(grid, 2, 0).spines.right.set_visible(False)\n",
    "        get_grid_subplot(grid, 2, 0).spines.top.set_visible(False)\n",
    "        get_grid_subplot(grid, 2, 1).spines.right.set_visible(False)\n",
    "        get_grid_subplot(grid, 2, 1).spines.top.set_visible(False)\n",
    "        get_grid_subplot(grid, 2, 2).spines.right.set_visible(False)\n",
    "        get_grid_subplot(grid, 2, 2).spines.top.set_visible(False)\n",
    "        get_grid_subplot(grid, 2, 3).spines.right.set_visible(False)\n",
    "        get_grid_subplot(grid, 2, 3).spines.top.set_visible(False)"
   ]
  }
 ],
 "metadata": {
  "kernelspec": {
   "display_name": "Python 3",
   "language": "python",
   "name": "python3"
  },
  "language_info": {
   "codemirror_mode": {
    "name": "ipython",
    "version": 3
   },
   "file_extension": ".py",
   "mimetype": "text/x-python",
   "name": "python",
   "nbconvert_exporter": "python",
   "pygments_lexer": "ipython3",
   "version": "3.8.8"
  }
 },
 "nbformat": 4,
 "nbformat_minor": 5
}
