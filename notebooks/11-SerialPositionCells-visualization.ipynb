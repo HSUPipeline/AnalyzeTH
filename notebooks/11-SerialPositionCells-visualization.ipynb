{
 "cells": [
  {
   "cell_type": "markdown",
   "id": "66344a3f",
   "metadata": {},
   "source": [
    "# Example Serial Position Cells Visualization\n",
    "\n",
    "This notebook contains plots of example cells from the spatial target analysis. "
   ]
  },
  {
   "cell_type": "code",
   "execution_count": 2,
   "id": "45745120",
   "metadata": {},
   "outputs": [],
   "source": [
    "%config Completer.use_jedi = False"
   ]
  },
  {
   "cell_type": "code",
   "execution_count": 24,
   "id": "ed3c83e6",
   "metadata": {},
   "outputs": [],
   "source": [
    "import warnings\n",
    "warnings.filterwarnings(\"ignore\")\n",
    "\n",
    "import numpy as np\n",
    "import pandas as pd\n",
    "import matplotlib.pyplot as plt\n",
    "\n",
    "from collections import Counter\n",
    "from scipy.stats import sem, ttest_rel\n",
    "from sklearn.preprocessing import MinMaxScaler\n",
    "\n",
    "from convnwb.io import load_nwbfile\n",
    "from convnwb.io import get_files, save_json\n",
    "\n",
    "from spiketools.measures.trials import compute_segment_frs\n",
    "from spiketools.measures.spikes import compute_firing_rate\n",
    "from spiketools.measures.conversions import convert_times_to_rates\n",
    "from spiketools.spatial.occupancy import (compute_bin_counts_assgn, compute_bin_edges, \n",
    "                                          compute_bin_assignment, normalize_bin_counts)\n",
    "from spiketools.spatial.information import compute_spatial_information\n",
    "from spiketools.spatial.place import compute_occupancy, compute_bin_counts_pos\n",
    "from spiketools.spatial.utils import compute_nbins, compute_pos_ranges, convert_2dindices\n",
    "from spiketools.spatial.target import compute_target_bins\n",
    "from spiketools.stats.shuffle import shuffle_spikes\n",
    "from spiketools.stats.permutations import compute_surrogate_stats\n",
    "from spiketools.utils import set_random_seed\n",
    "from spiketools.utils.base import select_from_list\n",
    "from spiketools.utils.data import compute_range\n",
    "from spiketools.utils.extract import (get_range, get_value_by_time, get_values_by_time_range,\n",
    "                                      get_values_by_times, threshold_spikes_by_times)\n",
    "from spiketools.utils.epoch import (epoch_data_by_range, epoch_spikes_by_segment, \n",
    "                                    epoch_spikes_by_range, epoch_spikes_by_event)\n",
    "\n",
    "from spiketools.plts.data import plot_bar\n",
    "from spiketools.plts.spatial import plot_heatmap, plot_positions, create_heat_title\n",
    "from spiketools.plts.trials import plot_rasters\n",
    "from spiketools.plts.stats import plot_surrogates\n",
    "from spiketools.plts.utils import make_axes, save_figure"
   ]
  },
  {
   "cell_type": "code",
   "execution_count": 4,
   "id": "6fe48a18",
   "metadata": {},
   "outputs": [],
   "source": [
    "import sys\n",
    "sys.path.append('../code')\n",
    "from utils import *\n",
    "from plts import *"
   ]
  },
  {
   "cell_type": "code",
   "execution_count": 5,
   "id": "46bbd799",
   "metadata": {},
   "outputs": [],
   "source": [
    "import seaborn as sns\n",
    "sns.set_context('talk')"
   ]
  },
  {
   "cell_type": "markdown",
   "id": "01e52d23",
   "metadata": {},
   "source": [
    "## Settings"
   ]
  },
  {
   "cell_type": "code",
   "execution_count": 6,
   "id": "b2497c65",
   "metadata": {},
   "outputs": [],
   "source": [
    "# Define the base data folder\n",
    "data_folder = '/Users/Claire_han/Documents/Data/JacobsLab/WVTH/nwb'"
   ]
  },
  {
   "cell_type": "code",
   "execution_count": 7,
   "id": "c0a09521",
   "metadata": {},
   "outputs": [],
   "source": [
    "# Define session information\n",
    "session = {\n",
    "    'experiment' : 'THO',\n",
    "    'subject' : 'wv001',\n",
    "    'session' : 2\n",
    "}"
   ]
  },
  {
   "cell_type": "code",
   "execution_count": 8,
   "id": "a6d49ccb",
   "metadata": {},
   "outputs": [],
   "source": [
    "# Set which example unit to extract\n",
    "uind = 0"
   ]
  },
  {
   "cell_type": "code",
   "execution_count": 9,
   "id": "6b7c4f44",
   "metadata": {},
   "outputs": [],
   "source": [
    "# Define binning for chests (spatial target)\n",
    "chest_bins = [3, 5]\n",
    "bins = [5, 7]\n",
    "\n",
    "n_bins = compute_nbins(chest_bins)"
   ]
  },
  {
   "cell_type": "code",
   "execution_count": 10,
   "id": "8e131050",
   "metadata": {},
   "outputs": [],
   "source": [
    "# Define occupancy settings: minimum required occupancy (in seconds) & speed threshold\n",
    "min_occ = 1\n",
    "speed_thresh = 5e-6\n",
    "time_thresh = 0.25"
   ]
  },
  {
   "cell_type": "markdown",
   "id": "947a4caf",
   "metadata": {},
   "source": [
    "## Load data"
   ]
  },
  {
   "cell_type": "code",
   "execution_count": 11,
   "id": "174dc71a",
   "metadata": {},
   "outputs": [],
   "source": [
    "# Get the list of NWB files\n",
    "nwbfiles = get_files(data_folder)"
   ]
  },
  {
   "cell_type": "code",
   "execution_count": 12,
   "id": "d95fffd7",
   "metadata": {},
   "outputs": [],
   "source": [
    "# Load example NWB file\n",
    "nwbfile = load_nwbfile(session, data_folder)"
   ]
  },
  {
   "cell_type": "markdown",
   "id": "8617b611",
   "metadata": {},
   "source": [
    "### Get trial data"
   ]
  },
  {
   "cell_type": "code",
   "execution_count": 13,
   "id": "aa61bc15",
   "metadata": {},
   "outputs": [
    {
     "name": "stdout",
     "output_type": "stream",
     "text": [
      "Number of trials: 24\n"
     ]
    }
   ],
   "source": [
    "# Get the number of trials\n",
    "n_trials = len(nwbfile.trials)\n",
    "print('Number of trials: {}'.format(n_trials))"
   ]
  },
  {
   "cell_type": "code",
   "execution_count": 14,
   "id": "2065883c",
   "metadata": {},
   "outputs": [],
   "source": [
    "nav_starts = nwbfile.trials.navigation_start[:]\n",
    "nav_stops = nwbfile.trials.navigation_stop[:]\n",
    "chest_openings = nwbfile.trials['chest_opening_time'][:]\n",
    "ch_openings_all = np.array(chest_openings).reshape(-1,1)"
   ]
  },
  {
   "cell_type": "markdown",
   "id": "83ce7468",
   "metadata": {},
   "source": [
    "### Get spike data"
   ]
  },
  {
   "cell_type": "code",
   "execution_count": 15,
   "id": "23b99178",
   "metadata": {},
   "outputs": [
    {
     "name": "stdout",
     "output_type": "stream",
     "text": [
      "Number of units: 118\n",
      "Number to keep:  85\n"
     ]
    }
   ],
   "source": [
    "# Check the number of units & keep indices\n",
    "n_units = len(nwbfile.units)\n",
    "keep_inds = np.where(nwbfile.units.keep[:])[0]\n",
    "n_keep = len(keep_inds)\n",
    "print('Number of units: {}'.format(n_units))\n",
    "print('Number to keep:  {}'.format(n_keep))"
   ]
  },
  {
   "cell_type": "code",
   "execution_count": 16,
   "id": "d5829ac5",
   "metadata": {},
   "outputs": [],
   "source": [
    "# Get spikes\n",
    "spikes = nwbfile.units.get_unit_spike_times(uind)"
   ]
  },
  {
   "cell_type": "markdown",
   "id": "38fcd407",
   "metadata": {},
   "source": [
    "### Get position data"
   ]
  },
  {
   "cell_type": "code",
   "execution_count": 17,
   "id": "1470f74b",
   "metadata": {},
   "outputs": [],
   "source": [
    "# Get area ranges, adding a buffer to the z-range (for tower transport)\n",
    "area_range = [nwbfile.acquisition['boundaries']['x_range'].data[:],\n",
    "              nwbfile.acquisition['boundaries']['z_range'].data[:] + np.array([-15, 15])]\n",
    "area_range = [[area_range[0][0], area_range[0][1]], [area_range[1][0], area_range[1][1]]]"
   ]
  },
  {
   "cell_type": "code",
   "execution_count": 18,
   "id": "bb5fdf94",
   "metadata": {},
   "outputs": [],
   "source": [
    "# Get position & speed information\n",
    "positions = nwbfile.acquisition['position']['player_position'].data[:].T\n",
    "ptimes = nwbfile.acquisition['position']['player_position'].timestamps[:]\n",
    "stimes = nwbfile.processing['position_measures']['speed'].timestamps[:]\n",
    "speed = nwbfile.processing['position_measures']['speed'].data[:]"
   ]
  },
  {
   "cell_type": "code",
   "execution_count": 19,
   "id": "80a58b8b",
   "metadata": {},
   "outputs": [],
   "source": [
    "# Get position data for navigation segments\n",
    "ptimes_trials, positions_trials = epoch_data_by_range(ptimes, positions, nav_starts, nav_stops)\n",
    "stimes_trials, speed_trials = epoch_data_by_range(stimes, speed, nav_starts, nav_stops)\n",
    "\n",
    "# Recombine position data across selected navigation trials\n",
    "ptimes = np.hstack(ptimes_trials)\n",
    "positions = np.hstack(positions_trials)\n",
    "stimes = np.hstack(stimes_trials)\n",
    "speed = np.hstack(speed_trials)\n",
    "\n",
    "spike_positions = get_values_by_times(ptimes, positions, spikes, threshold=0.1)"
   ]
  },
  {
   "cell_type": "markdown",
   "id": "c7fc2d0f",
   "metadata": {},
   "source": [
    "## Chest position"
   ]
  },
  {
   "cell_type": "code",
   "execution_count": 20,
   "id": "0c0655fb",
   "metadata": {},
   "outputs": [],
   "source": [
    "# Define the area range for chest appearance \n",
    "area_range_chest = [[360, 410], [320, 400]]\n",
    "\n",
    "# Get chest positions\n",
    "chest_xs, chest_ys = nwbfile.acquisition['stimuli']['chest_positions'].data[:].T\n",
    "chest_trials = nwbfile.trials.chest_trials[:]\n",
    "\n",
    "# Compute edges for chest binning\n",
    "x_edges, y_edges = compute_bin_edges(positions, chest_bins, area_range=area_range_chest)\n",
    "\n",
    "# Assign each chest to a bin\n",
    "chest_pos = np.array([chest_xs, chest_ys])\n",
    "ch_xbin, ch_ybin = compute_bin_assignment(chest_pos, x_edges, y_edges)\n",
    "\n",
    "# Compute the 1d equivalent of the 2d indices\n",
    "chbins = convert_2dindices(ch_xbin, ch_ybin, chest_bins)"
   ]
  },
  {
   "cell_type": "code",
   "execution_count": 21,
   "id": "1b150c7e",
   "metadata": {},
   "outputs": [],
   "source": [
    "# Define the segment times of interest\n",
    "seg_times = np.insert(np.array(chest_openings), 0, nav_starts, axis=1)\n",
    "chest_trial_number = np.array(list(range(len(chest_trials)))).reshape(n_trials,4)"
   ]
  },
  {
   "cell_type": "code",
   "execution_count": 22,
   "id": "c3cf8acd",
   "metadata": {
    "scrolled": true
   },
   "outputs": [],
   "source": [
    "# Compute chest occupancy\n",
    "chest_occupancy = compute_bin_counts_assgn(chest_bins, ch_xbin, ch_ybin)\n",
    "\n",
    "# Compute the segment firing rate per chest segment, per trial\n",
    "target_frs = compute_segment_frs(spikes, seg_times)"
   ]
  },
  {
   "cell_type": "markdown",
   "id": "f61ef45c",
   "metadata": {},
   "source": [
    "## One example target cell"
   ]
  },
  {
   "cell_type": "markdown",
   "id": "a73d111d",
   "metadata": {},
   "source": [
    "#### Time spend in each serial position"
   ]
  },
  {
   "cell_type": "code",
   "execution_count": 25,
   "id": "295366f2",
   "metadata": {
    "scrolled": true
   },
   "outputs": [
    {
     "data": {
      "image/png": "[encoded data removed]",
      "text/plain": [
       "<Figure size 432x288 with 1 Axes>"
      ]
     },
     "metadata": {
      "needs_background": "light"
     },
     "output_type": "display_data"
    }
   ],
   "source": [
    "\n",
    "seg_times = np.insert(np.array(chest_openings), 0, nav_starts, axis=1)\n",
    "segment_frs = compute_segment_frs(spikes, seg_times)\n",
    "seg_interval = np.zeros([seg_times.shape[0], 4])\n",
    "\n",
    "for ind in range(seg_times.shape[0]):\n",
    "    seg_interval[ind, :] = (np.diff(seg_times[ind])).tolist()\n",
    "plot_bar(seg_interval.mean(0), [0, 1, 2, 3], yerr=sem(seg_interval, 0), ylabel='time (seconds)')"
   ]
  },
  {
   "cell_type": "markdown",
   "id": "f0bed929",
   "metadata": {},
   "source": [
    "#### Spike count in each serial position"
   ]
  },
  {
   "cell_type": "code",
   "execution_count": 26,
   "id": "e31bc0f7",
   "metadata": {},
   "outputs": [],
   "source": [
    "def get_spikes_count(spikes, seg_times, nav_starts, chest_openings):\n",
    "    spikes = [get_range(spikes, segment[0], segment[-1]) for segment in seg_times]\n",
    "    spikes = np.concatenate(spikes).ravel()\n",
    "    \n",
    "    s0_spikes = epoch_spikes_by_range(spikes, nav_starts, np.array(chest_openings)[:,0], reset=True)\n",
    "    s1_spikes = epoch_spikes_by_range(spikes, np.array(chest_openings)[:,0], \n",
    "                                          np.array(chest_openings)[:,1], reset=True)\n",
    "    s2_spikes = epoch_spikes_by_range(spikes, np.array(chest_openings)[:,1], \n",
    "                                      np.array(chest_openings)[:,2], reset=True)\n",
    "    s3_spikes = epoch_spikes_by_range(spikes, np.array(chest_openings)[:,2], \n",
    "                                      np.array(chest_openings)[:,3], reset=True)\n",
    "    \n",
    "    s0_count = len(np.concatenate(s0_spikes).ravel())\n",
    "    s1_count = len(np.concatenate(s1_spikes).ravel())\n",
    "    s2_count = len(np.concatenate(s2_spikes).ravel())\n",
    "    s3_count = len(np.concatenate(s3_spikes).ravel())\n",
    "    \n",
    "    seg_count = [s0_count, s1_count, s2_count, s3_count]\n",
    "    \n",
    "    return seg_count"
   ]
  },
  {
   "cell_type": "code",
   "execution_count": 27,
   "id": "8e7ca70a",
   "metadata": {},
   "outputs": [],
   "source": [
    "seg_count = get_spikes_count(spikes, seg_times, nav_starts, chest_openings)"
   ]
  },
  {
   "cell_type": "code",
   "execution_count": 28,
   "id": "70b2b7fb",
   "metadata": {
    "scrolled": false
   },
   "outputs": [
    {
     "data": {
      "image/png": "[encoded data removed]",
      "text/plain": [
       "<Figure size 504x360 with 1 Axes>"
      ]
     },
     "metadata": {
      "needs_background": "light"
     },
     "output_type": "display_data"
    }
   ],
   "source": [
    "plot_bar(seg_count, [0,1,2,3], figsize=(7,5))"
   ]
  },
  {
   "cell_type": "markdown",
   "id": "d0f05af6",
   "metadata": {},
   "source": [
    "#### Normalized raster plot "
   ]
  },
  {
   "cell_type": "code",
   "execution_count": 30,
   "id": "965834c6",
   "metadata": {},
   "outputs": [],
   "source": [
    "def normalized_segment(t_spikes, nav_starts, chest_openings, n_trials):\n",
    "    s0_spikes_all, s1_spikes_all, s2_spikes_all, s3_spikes_all = [],[],[],[]\n",
    "    spikes_all = []\n",
    "\n",
    "    min_max_scaler0 = MinMaxScaler(feature_range=(0, 1))\n",
    "    min_max_scaler1 = MinMaxScaler(feature_range=(1, 2))\n",
    "    min_max_scaler2 = MinMaxScaler(feature_range=(2, 3))\n",
    "    min_max_scaler3 = MinMaxScaler(feature_range=(3, 4))\n",
    "\n",
    "    s0_spikes = epoch_spikes_by_range(t_spikes, nav_starts, np.array(chest_openings)[:,0], reset=True)\n",
    "    s0_spikes = [np.array(s0_spikes[ind]).reshape(-1, 1) for ind in range(n_trials)]\n",
    "\n",
    "    s1_spikes = epoch_spikes_by_range(t_spikes, np.array(chest_openings)[:,0], \n",
    "                                      np.array(chest_openings)[:,1], reset=True)\n",
    "    s1_spikes = [np.array(s1_spikes[ind]).reshape(-1, 1) for ind in range(n_trials)]\n",
    "\n",
    "    s2_spikes = epoch_spikes_by_range(t_spikes, np.array(chest_openings)[:,1], \n",
    "                                      np.array(chest_openings)[:,2], reset=True)\n",
    "    s2_spikes = [np.array(s2_spikes[ind]).reshape(-1, 1) for ind in range(n_trials)]\n",
    "\n",
    "    s3_spikes = epoch_spikes_by_range(t_spikes, np.array(chest_openings)[:,2], \n",
    "                                      np.array(chest_openings)[:,3], reset=True)\n",
    "    s3_spikes = [np.array(s3_spikes[ind]).reshape(-1, 1) for ind in range(n_trials)]\n",
    "\n",
    "    for ind in range(n_trials): \n",
    "        if s0_spikes[ind].size !=0 : \n",
    "            s0_scaled = min_max_scaler0.fit_transform(s0_spikes[ind])\n",
    "            s0_spikes_all.append(s0_scaled.flatten())\n",
    "        else: \n",
    "            s0_scaled = np.array([])\n",
    "            s0_spikes_all.append(s0_scaled)\n",
    "        if s1_spikes[ind].size !=0 : \n",
    "            s1_scaled = min_max_scaler1.fit_transform(s1_spikes[ind])\n",
    "            s1_spikes_all.append(s1_scaled.flatten())\n",
    "        else: \n",
    "            s1_scaled = np.array([])\n",
    "            s1_spikes_all.append(s1_scaled)\n",
    "        if s2_spikes[ind].size !=0 : \n",
    "            s2_scaled = min_max_scaler2.fit_transform(s2_spikes[ind])\n",
    "            s2_spikes_all.append(s2_scaled.flatten())\n",
    "        else: \n",
    "            s2_scaled = np.array([])\n",
    "            s2_spikes_all.append(s2_scaled)\n",
    "        if s3_spikes[ind].size !=0 : \n",
    "            s3_scaled = min_max_scaler3.fit_transform(s3_spikes[ind])\n",
    "            s3_spikes_all.append(s3_scaled.flatten())\n",
    "        else: \n",
    "            s3_scaled = np.array([])\n",
    "            s3_spikes_all.append(s3_scaled)\n",
    "\n",
    "    spikes_trial = [np.hstack([s0_spikes_all[ind], s1_spikes_all[ind], s2_spikes_all[ind], s3_spikes_all[ind]])\n",
    "                    for ind in range(n_trials)]\n",
    "    return spikes_trial"
   ]
  },
  {
   "cell_type": "code",
   "execution_count": 32,
   "id": "37aae569",
   "metadata": {},
   "outputs": [],
   "source": [
    "def plot_segement_rasters(spikes_trial, uind, labels):\n",
    "    \n",
    "    fig = plt.figure(figsize=(10,5))\n",
    "    ax = plt.subplot(1,1,1)\n",
    "    plot_rasters(spikes_trial, vline=[0, 1, 2, 3, 4], show_axis=True, figsize=(20, 10), ax=ax)\n",
    "\n",
    "    ax.set(title='SP Neuron #{}'.format(uind),\n",
    "                  xlabel=\"Normalized Spike Times\", ylabel=\"Trial number\", \n",
    "                  xticks=[0.5, 1.5, 2.5, 3.5], yticks=range(0,len(spikes_trial)))\n",
    "\n",
    "    ax.set_xticklabels(labels)\n",
    "    ax.tick_params(axis='x') "
   ]
  },
  {
   "cell_type": "code",
   "execution_count": 31,
   "id": "1bb95e0d",
   "metadata": {},
   "outputs": [],
   "source": [
    "trials_sp = epoch_spikes_by_range(spikes, nav_starts, np.array(chest_openings)[:,3], reset=False)\n",
    "t_spikes = np.concatenate(trials_sp).ravel()\n",
    "\n",
    "spikes_trial = normalized_segment(t_spikes, nav_starts, chest_openings, n_trials)\n",
    "segment_frs = compute_segment_frs(spikes_trial, seg_times)"
   ]
  },
  {
   "cell_type": "code",
   "execution_count": 33,
   "id": "019c3249",
   "metadata": {
    "scrolled": false
   },
   "outputs": [
    {
     "data": {
      "image/png": "[encoded data removed]",
      "text/plain": [
       "<Figure size 720x360 with 1 Axes>"
      ]
     },
     "metadata": {
      "needs_background": "light"
     },
     "output_type": "display_data"
    }
   ],
   "source": [
    "plot_segement_rasters(spikes_trial, 2, ['ch1','ch2','ch3','ch4'])"
   ]
  },
  {
   "cell_type": "markdown",
   "id": "2f085b8d",
   "metadata": {},
   "source": [
    "#### Fring rate in each serial position"
   ]
  },
  {
   "cell_type": "code",
   "execution_count": 36,
   "id": "3fa2c779",
   "metadata": {},
   "outputs": [
    {
     "data": {
      "image/png": "[encoded data removed]",
      "text/plain": [
       "<Figure size 720x360 with 1 Axes>"
      ]
     },
     "metadata": {
      "needs_background": "light"
     },
     "output_type": "display_data"
    }
   ],
   "source": [
    "segment_frs = compute_segment_frs(spikes, seg_times)\n",
    "\n",
    "fig = plt.figure(figsize=(10,5))\n",
    "ax = plt.subplot(1,1,1)\n",
    "plot_bar(segment_frs.mean(0), [0, 1, 2, 3], yerr=sem(segment_frs, 0), alpha=0.6, color=\"C0\", ax=ax)\n",
    "for ind in range(len(segment_frs[:,0])): \n",
    "    ax.plot(['0','1','2','3'], segment_frs[ind], color='C0', alpha=0.2)"
   ]
  },
  {
   "cell_type": "code",
   "execution_count": null,
   "id": "10204fe5",
   "metadata": {},
   "outputs": [],
   "source": []
  },
  {
   "cell_type": "markdown",
   "id": "5505db26",
   "metadata": {},
   "source": [
    "## All significant target cells"
   ]
  },
  {
   "cell_type": "code",
   "execution_count": 25,
   "id": "cfb85dc6",
   "metadata": {
    "scrolled": true
   },
   "outputs": [],
   "source": [
    "# Load & merge the results sheets of THF & THO\n",
    "df_THF = pd.read_excel(\"/Users/Claire_han/Desktop/THF_all_results.xlsx\")\n",
    "df_THO = pd.read_excel(\"/Users/Claire_han/Desktop/THO_all_results.xlsx\")\n",
    "df = df_THF.append(df_THO)"
   ]
  },
  {
   "cell_type": "code",
   "execution_count": 26,
   "id": "bbd7d019",
   "metadata": {},
   "outputs": [
    {
     "data": {
      "text/html": [
       "<div>\n",
       "<style scoped>\n",
       "    .dataframe tbody tr th:only-of-type {\n",
       "        vertical-align: middle;\n",
       "    }\n",
       "\n",
       "    .dataframe tbody tr th {\n",
       "        vertical-align: top;\n",
       "    }\n",
       "\n",
       "    .dataframe thead th {\n",
       "        text-align: right;\n",
       "    }\n",
       "</style>\n",
       "<table border=\"1\" class=\"dataframe\">\n",
       "  <thead>\n",
       "    <tr style=\"text-align: right;\">\n",
       "      <th></th>\n",
       "      <th>Unnamed: 0</th>\n",
       "      <th>session</th>\n",
       "      <th>uid</th>\n",
       "      <th>wvID</th>\n",
       "      <th>keep</th>\n",
       "      <th>cluster</th>\n",
       "      <th>channel</th>\n",
       "      <th>location</th>\n",
       "      <th>n_spikes</th>\n",
       "      <th>firing_rate</th>\n",
       "      <th>...</th>\n",
       "      <th>sp_p_val</th>\n",
       "      <th>sp_z_score</th>\n",
       "      <th>area</th>\n",
       "      <th>fr_keep_th</th>\n",
       "      <th>is_chest_cell</th>\n",
       "      <th>is_full_cell</th>\n",
       "      <th>is_empty_cell</th>\n",
       "      <th>is_place_cell</th>\n",
       "      <th>is_target_cell</th>\n",
       "      <th>is_sp_cell</th>\n",
       "    </tr>\n",
       "  </thead>\n",
       "  <tbody>\n",
       "    <tr>\n",
       "      <th>40</th>\n",
       "      <td>40</td>\n",
       "      <td>THF_wv001_session_0</td>\n",
       "      <td>56</td>\n",
       "      <td>57</td>\n",
       "      <td>1</td>\n",
       "      <td>3880</td>\n",
       "      <td>A2</td>\n",
       "      <td>LA</td>\n",
       "      <td>865</td>\n",
       "      <td>0.716115</td>\n",
       "      <td>...</td>\n",
       "      <td>0.122</td>\n",
       "      <td>1.106320</td>\n",
       "      <td>amygdala</td>\n",
       "      <td>False</td>\n",
       "      <td>False</td>\n",
       "      <td>False</td>\n",
       "      <td>False</td>\n",
       "      <td>False</td>\n",
       "      <td>True</td>\n",
       "      <td>False</td>\n",
       "    </tr>\n",
       "    <tr>\n",
       "      <th>55</th>\n",
       "      <td>55</td>\n",
       "      <td>THF_wv001_session_0</td>\n",
       "      <td>76</td>\n",
       "      <td>77</td>\n",
       "      <td>1</td>\n",
       "      <td>1843</td>\n",
       "      <td>A39</td>\n",
       "      <td>RAH</td>\n",
       "      <td>124</td>\n",
       "      <td>0.106832</td>\n",
       "      <td>...</td>\n",
       "      <td>0.544</td>\n",
       "      <td>-0.312780</td>\n",
       "      <td>ant hipp</td>\n",
       "      <td>True</td>\n",
       "      <td>False</td>\n",
       "      <td>False</td>\n",
       "      <td>False</td>\n",
       "      <td>False</td>\n",
       "      <td>True</td>\n",
       "      <td>False</td>\n",
       "    </tr>\n",
       "    <tr>\n",
       "      <th>58</th>\n",
       "      <td>58</td>\n",
       "      <td>THF_wv001_session_0</td>\n",
       "      <td>80</td>\n",
       "      <td>81</td>\n",
       "      <td>1</td>\n",
       "      <td>3031</td>\n",
       "      <td>A3</td>\n",
       "      <td>LA</td>\n",
       "      <td>569</td>\n",
       "      <td>0.457378</td>\n",
       "      <td>...</td>\n",
       "      <td>0.436</td>\n",
       "      <td>-0.142629</td>\n",
       "      <td>amygdala</td>\n",
       "      <td>True</td>\n",
       "      <td>False</td>\n",
       "      <td>False</td>\n",
       "      <td>False</td>\n",
       "      <td>False</td>\n",
       "      <td>True</td>\n",
       "      <td>False</td>\n",
       "    </tr>\n",
       "    <tr>\n",
       "      <th>95</th>\n",
       "      <td>95</td>\n",
       "      <td>THF_wv001_session_2</td>\n",
       "      <td>30</td>\n",
       "      <td>131</td>\n",
       "      <td>1</td>\n",
       "      <td>1208</td>\n",
       "      <td>A23</td>\n",
       "      <td>LPH</td>\n",
       "      <td>5056</td>\n",
       "      <td>3.017460</td>\n",
       "      <td>...</td>\n",
       "      <td>0.148</td>\n",
       "      <td>0.975862</td>\n",
       "      <td>post hipp</td>\n",
       "      <td>False</td>\n",
       "      <td>True</td>\n",
       "      <td>True</td>\n",
       "      <td>False</td>\n",
       "      <td>False</td>\n",
       "      <td>True</td>\n",
       "      <td>False</td>\n",
       "    </tr>\n",
       "    <tr>\n",
       "      <th>99</th>\n",
       "      <td>99</td>\n",
       "      <td>THF_wv001_session_2</td>\n",
       "      <td>40</td>\n",
       "      <td>141</td>\n",
       "      <td>1</td>\n",
       "      <td>2750</td>\n",
       "      <td>A29</td>\n",
       "      <td>RA</td>\n",
       "      <td>2359</td>\n",
       "      <td>1.406607</td>\n",
       "      <td>...</td>\n",
       "      <td>0.000</td>\n",
       "      <td>4.719226</td>\n",
       "      <td>amygdala</td>\n",
       "      <td>False</td>\n",
       "      <td>False</td>\n",
       "      <td>False</td>\n",
       "      <td>False</td>\n",
       "      <td>False</td>\n",
       "      <td>True</td>\n",
       "      <td>True</td>\n",
       "    </tr>\n",
       "  </tbody>\n",
       "</table>\n",
       "<p>5 rows × 33 columns</p>\n",
       "</div>"
      ],
      "text/plain": [
       "    Unnamed: 0              session  uid  wvID  keep  cluster channel  \\\n",
       "40          40  THF_wv001_session_0   56    57     1     3880      A2   \n",
       "55          55  THF_wv001_session_0   76    77     1     1843     A39   \n",
       "58          58  THF_wv001_session_0   80    81     1     3031      A3   \n",
       "95          95  THF_wv001_session_2   30   131     1     1208     A23   \n",
       "99          99  THF_wv001_session_2   40   141     1     2750     A29   \n",
       "\n",
       "   location  n_spikes  firing_rate  ...  sp_p_val  sp_z_score       area  \\\n",
       "40       LA       865     0.716115  ...     0.122    1.106320   amygdala   \n",
       "55      RAH       124     0.106832  ...     0.544   -0.312780   ant hipp   \n",
       "58       LA       569     0.457378  ...     0.436   -0.142629   amygdala   \n",
       "95      LPH      5056     3.017460  ...     0.148    0.975862  post hipp   \n",
       "99       RA      2359     1.406607  ...     0.000    4.719226   amygdala   \n",
       "\n",
       "    fr_keep_th  is_chest_cell  is_full_cell  is_empty_cell  is_place_cell  \\\n",
       "40       False          False         False          False          False   \n",
       "55        True          False         False          False          False   \n",
       "58        True          False         False          False          False   \n",
       "95       False           True          True          False          False   \n",
       "99       False          False         False          False          False   \n",
       "\n",
       "    is_target_cell  is_sp_cell  \n",
       "40            True       False  \n",
       "55            True       False  \n",
       "58            True       False  \n",
       "95            True       False  \n",
       "99            True        True  \n",
       "\n",
       "[5 rows x 33 columns]"
      ]
     },
     "execution_count": 26,
     "metadata": {},
     "output_type": "execute_result"
    }
   ],
   "source": [
    "# Create a dataframe for significant spatial target cells\n",
    "df_target = df[df.is_target_cell]\n",
    "df_target.head()"
   ]
  }
 ],
 "metadata": {
  "kernelspec": {
   "display_name": "Python 3",
   "language": "python",
   "name": "python3"
  },
  "language_info": {
   "codemirror_mode": {
    "name": "ipython",
    "version": 3
   },
   "file_extension": ".py",
   "mimetype": "text/x-python",
   "name": "python",
   "nbconvert_exporter": "python",
   "pygments_lexer": "ipython3",
   "version": "3.8.8"
  }
 },
 "nbformat": 4,
 "nbformat_minor": 5
}
