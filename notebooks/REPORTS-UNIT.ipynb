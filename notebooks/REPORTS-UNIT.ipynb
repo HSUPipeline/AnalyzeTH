{
 "cells": [
  {
   "cell_type": "markdown",
   "id": "2d7646ea",
   "metadata": {},
   "source": [
    "# Unit Reports\n",
    "\n",
    "ToDs:\n",
    "- add serial position surrogates plot."
   ]
  },
  {
   "cell_type": "code",
   "execution_count": 1,
   "id": "56c23897",
   "metadata": {},
   "outputs": [],
   "source": [
    "%config Completer.use_jedi = False"
   ]
  },
  {
   "cell_type": "code",
   "execution_count": 2,
   "id": "fd09c84a",
   "metadata": {},
   "outputs": [],
   "source": [
    "import warnings\n",
    "from pathlib import Path\n",
    "\n",
    "import numpy as np\n",
    "from scipy.stats import sem, ttest_rel\n",
    "import matplotlib.pyplot as plt\n",
    "from matplotlib import gridspec\n",
    "\n",
    "from pynwb import NWBHDF5IO\n",
    "#from pingouin import convert_angles, circ_rayleigh\n",
    "\n",
    "from spiketools.measures import compute_isis\n",
    "from spiketools.stats.shuffle import shuffle_spikes\n",
    "from spiketools.plts.spikes import plot_isis\n",
    "from spiketools.plts.space import plot_positions, plot_heatmap\n",
    "from spiketools.plts.trials import plot_rasters\n",
    "from spiketools.plts.data import plot_bar, plot_polar_hist, plot_text\n",
    "from spiketools.plts.stats import plot_surrogates\n",
    "from spiketools.plts.annotate import color_pval\n",
    "from spiketools.stats.permutations import compute_surrogate_stats, zscore_to_surrogates, compute_empirical_pvalue\n",
    "from spiketools.spatial.occupancy import (compute_occupancy, compute_spatial_bin_edges,\n",
    "                                          compute_spatial_bin_assignment)\n",
    "from spiketools.spatial.information import compute_spatial_information_2d, _compute_spatial_information\n",
    "from spiketools.utils.data import get_range\n",
    "from spiketools.utils.trials import epoch_spikes_by_event, epoch_spikes_by_range, epoch_data_by_range"
   ]
  },
  {
   "cell_type": "code",
   "execution_count": 3,
   "id": "445e6470",
   "metadata": {},
   "outputs": [],
   "source": [
    "import sys\n",
    "sys.path.append('../code')\n",
    "from utils import select_from_list\n",
    "from analysis import calc_trial_frs, get_spike_positions, compute_bin_firing, get_spike_heading\n",
    "from place import get_trial_place, compute_place_bins, create_df_place, fit_anova_place\n",
    "from target import compute_spatial_target_bins, get_trial_target, create_df_target, fit_anova_target\n",
    "from serial import compute_serial_position_fr, create_df_serial, fit_anova_serial\n",
    "from reports import *"
   ]
  },
  {
   "cell_type": "code",
   "execution_count": 4,
   "id": "8bc60d6c",
   "metadata": {},
   "outputs": [],
   "source": [
    "import seaborn as sns\n",
    "sns.set_context('talk')"
   ]
  },
  {
   "cell_type": "markdown",
   "id": "882ae240",
   "metadata": {},
   "source": [
    "## Settings"
   ]
  },
  {
   "cell_type": "code",
   "execution_count": 5,
   "id": "39c48d7e",
   "metadata": {},
   "outputs": [],
   "source": [
    "# Define the base data folder\n",
    "#data_folder = Path('/Users/tom/Documents/Data/JacobsLab/TH/')\n",
    "data_folder = Path('/scratch/tom.donoghue/TH/')"
   ]
  },
  {
   "cell_type": "code",
   "execution_count": 6,
   "id": "292ce08d",
   "metadata": {},
   "outputs": [],
   "source": [
    "# Define subject information\n",
    "task = 'THO'\n",
    "subj = 'wv001'\n",
    "session = 2"
   ]
  },
  {
   "cell_type": "code",
   "execution_count": 7,
   "id": "59ebe3eb",
   "metadata": {},
   "outputs": [],
   "source": [
    "# Set which example unit to extract\n",
    "uind = 84"
   ]
  },
  {
   "cell_type": "code",
   "execution_count": 8,
   "id": "f2037bdf",
   "metadata": {},
   "outputs": [],
   "source": [
    "# Define bins to use\n",
    "bins = [9, 12]\n",
    "chest_bins = [5, 7]\n",
    "\n",
    "# Define minimum occupancy\n",
    "min_occ = 1\n",
    "\n",
    "# Set the time range to analyze\n",
    "trial_range = [-1, 1]"
   ]
  },
  {
   "cell_type": "code",
   "execution_count": 9,
   "id": "6564ca9a",
   "metadata": {},
   "outputs": [],
   "source": [
    "# Shuffle Settings\n",
    "shuffle_approach = 'BINCIRC'\n",
    "n_surrogates = 25"
   ]
  },
  {
   "cell_type": "code",
   "execution_count": 10,
   "id": "d728a973",
   "metadata": {},
   "outputs": [],
   "source": [
    "# Set which methods to run\n",
    "PLACE_METHOD = 'ANOVA'\n",
    "TARGET_METHOD = 'ANOVA'"
   ]
  },
  {
   "cell_type": "markdown",
   "id": "50ddeb9c",
   "metadata": {},
   "source": [
    "## Load Data"
   ]
  },
  {
   "cell_type": "code",
   "execution_count": 11,
   "id": "0c745f15",
   "metadata": {},
   "outputs": [],
   "source": [
    "# Define expected NWB file name & full path\n",
    "file_name = '_'.join([task, subj, 'session_' + str(session)]) + '.nwb'\n",
    "full_path = data_folder / 'NWB' / file_name"
   ]
  },
  {
   "cell_type": "code",
   "execution_count": 12,
   "id": "24ed0730",
   "metadata": {},
   "outputs": [],
   "source": [
    "# Load NWB file\n",
    "io = NWBHDF5IO(str(full_path), 'r')\n",
    "nwbfile = io.read()"
   ]
  },
  {
   "cell_type": "code",
   "execution_count": 13,
   "id": "56f2aadf",
   "metadata": {},
   "outputs": [],
   "source": [
    "# Get the subject & session ID from file\n",
    "subj_id = nwbfile.subject.subject_id\n",
    "session_id = nwbfile.session_id"
   ]
  },
  {
   "cell_type": "markdown",
   "id": "009b513b",
   "metadata": {},
   "source": [
    "#### Trial Data"
   ]
  },
  {
   "cell_type": "code",
   "execution_count": 14,
   "id": "bff2d04d",
   "metadata": {},
   "outputs": [],
   "source": [
    "# Get start and stop time of trials\n",
    "trial_starts = nwbfile.trials['start_time'].data[:]\n",
    "trial_stops = nwbfile.trials['stop_time'].data[:]"
   ]
  },
  {
   "cell_type": "code",
   "execution_count": 15,
   "id": "0e55db2b",
   "metadata": {},
   "outputs": [],
   "source": [
    "# Get trial indices of interest\n",
    "chest_trials = nwbfile.trials.chest_trials[:]\n",
    "chest_openings = nwbfile.trials['chest_opening_time'][:]"
   ]
  },
  {
   "cell_type": "code",
   "execution_count": 16,
   "id": "56f7ce0b",
   "metadata": {},
   "outputs": [],
   "source": [
    "# Get masks for full and empty chest trials\n",
    "full_mask = nwbfile.trials.full_chest.data[:]\n",
    "empty_mask = np.invert(full_mask)"
   ]
  },
  {
   "cell_type": "code",
   "execution_count": 17,
   "id": "fc3451c4",
   "metadata": {},
   "outputs": [],
   "source": [
    "# Get the navigation time ranges\n",
    "nav_starts = nwbfile.trials.navigation_start[:]\n",
    "nav_stops = nwbfile.trials.navigation_stop[:]"
   ]
  },
  {
   "cell_type": "markdown",
   "id": "e3f23c12",
   "metadata": {},
   "source": [
    "#### Position data"
   ]
  },
  {
   "cell_type": "code",
   "execution_count": 18,
   "id": "9b9e7ecc",
   "metadata": {},
   "outputs": [],
   "source": [
    "# Get area ranges, adding a buffer to the z-range (for tower transport)\n",
    "area_range = [nwbfile.acquisition['boundaries']['x_range'].data[:], \n",
    "              nwbfile.acquisition['boundaries']['z_range'].data[:] + np.array([-15, 15])]"
   ]
  },
  {
   "cell_type": "code",
   "execution_count": 19,
   "id": "6c431777",
   "metadata": {},
   "outputs": [],
   "source": [
    "# Get the position data & speed data\n",
    "ptimes = nwbfile.acquisition['position']['player_position'].timestamps[:]\n",
    "positions = nwbfile.acquisition['position']['player_position'].data[:].T\n",
    "stimes = nwbfile.processing['position_measures']['speed'].timestamps[:]\n",
    "speed = nwbfile.processing['position_measures']['speed'].data[:]"
   ]
  },
  {
   "cell_type": "code",
   "execution_count": 20,
   "id": "56bb8145",
   "metadata": {},
   "outputs": [],
   "source": [
    "# Get position data for navigation segments\n",
    "ptimes_trials, positions_trials = epoch_data_by_range(ptimes, positions, nav_starts, nav_stops)\n",
    "stimes_trials, speed_trials = epoch_data_by_range(stimes, speed, nav_starts, nav_stops)\n",
    "\n",
    "# Recombine position data across selected navigation trials\n",
    "ptimes = np.hstack(ptimes_trials)\n",
    "positions = np.hstack(positions_trials)\n",
    "stimes = np.hstack(stimes_trials)\n",
    "speed = np.hstack(speed_trials)"
   ]
  },
  {
   "cell_type": "code",
   "execution_count": 21,
   "id": "ea7cf5ce",
   "metadata": {},
   "outputs": [],
   "source": [
    "# # Extract head position data\n",
    "# hd_times = nwbfile.acquisition['heading']['direction'].timestamps[:]\n",
    "# hd_degrees = nwbfile.acquisition['heading']['direction'].data[:]"
   ]
  },
  {
   "cell_type": "code",
   "execution_count": 22,
   "id": "6933316a",
   "metadata": {},
   "outputs": [],
   "source": [
    "# Get the chest positions\n",
    "chest_xs, chest_ys = nwbfile.acquisition['stimuli']['chest_positions'].data[:].T"
   ]
  },
  {
   "cell_type": "code",
   "execution_count": 23,
   "id": "a92775e6",
   "metadata": {},
   "outputs": [],
   "source": [
    "# Fix for extra chest position\n",
    "if len(chest_xs) > len(chest_trials):\n",
    "    chest_xs = chest_xs[:len(chest_trials)]\n",
    "    chest_ys = chest_ys[:len(chest_trials)]"
   ]
  },
  {
   "cell_type": "markdown",
   "id": "2f047844",
   "metadata": {},
   "source": [
    "#### Get Spikes"
   ]
  },
  {
   "cell_type": "code",
   "execution_count": 24,
   "id": "f850cc50",
   "metadata": {},
   "outputs": [],
   "source": [
    "# Extract spikes for a unit of interest\n",
    "spikes = nwbfile.units.get_unit_spike_times(uind)"
   ]
  },
  {
   "cell_type": "markdown",
   "id": "d87b358c",
   "metadata": {},
   "source": [
    "### Precompute Some Things"
   ]
  },
  {
   "cell_type": "code",
   "execution_count": 25,
   "id": "d2cf00f3",
   "metadata": {},
   "outputs": [],
   "source": [
    "# Get the spiking data for each trial\n",
    "all_trials = epoch_spikes_by_range(spikes, trial_starts, trial_stops, reset=True)"
   ]
  },
  {
   "cell_type": "code",
   "execution_count": 26,
   "id": "8f65bc79",
   "metadata": {},
   "outputs": [],
   "source": [
    "# Create shuffled time series for comparison\n",
    "times_shuffle = shuffle_spikes(spikes, shuffle_approach, n_surrogates)"
   ]
  },
  {
   "cell_type": "code",
   "execution_count": 27,
   "id": "d15951c4",
   "metadata": {},
   "outputs": [],
   "source": [
    "# Epoch around chest openings\n",
    "all_chests = epoch_spikes_by_event(spikes, np.concatenate(chest_openings), trial_range)\n",
    "empty_trials = select_from_list(all_chests, empty_mask)\n",
    "full_trials = select_from_list(all_chests, full_mask)"
   ]
  },
  {
   "cell_type": "code",
   "execution_count": 28,
   "id": "faebdefb",
   "metadata": {},
   "outputs": [],
   "source": [
    "# Compute firing rate around chest events\n",
    "fr_pre_all, fr_post_all = calc_trial_frs(all_chests)\n",
    "fr_pre_empt, fr_post_empt = calc_trial_frs(empty_trials)\n",
    "fr_pre_full, fr_post_full = calc_trial_frs(full_trials)"
   ]
  },
  {
   "cell_type": "code",
   "execution_count": 29,
   "id": "618425de",
   "metadata": {},
   "outputs": [],
   "source": [
    "# Compute bin edges\n",
    "x_bin_edges, y_bin_edges = compute_spatial_bin_edges(positions, bins, area_range=area_range)"
   ]
  },
  {
   "cell_type": "code",
   "execution_count": 30,
   "id": "bbf83dda",
   "metadata": {},
   "outputs": [],
   "source": [
    "# Get position values for each spike\n",
    "spike_xs, spike_ys = get_spike_positions(spikes, ptimes, positions)\n",
    "spike_positions = np.array([spike_xs, spike_ys])"
   ]
  },
  {
   "cell_type": "code",
   "execution_count": 31,
   "id": "ae9c35c2",
   "metadata": {},
   "outputs": [],
   "source": [
    "# Compute occupancy\n",
    "occ_kwargs = {'minimum' : min_occ, 'area_range' : area_range, 'set_nan' : True}\n",
    "occ = compute_occupancy(positions, ptimes, bins, speed, **occ_kwargs)"
   ]
  },
  {
   "cell_type": "code",
   "execution_count": 32,
   "id": "ecf791a4",
   "metadata": {},
   "outputs": [],
   "source": [
    "# Compute spatial bin assignments & binned firing, and normalize by occupancy\n",
    "x_binl, y_binl = compute_spatial_bin_assignment(spike_positions, x_bin_edges, y_bin_edges)\n",
    "bin_firing = compute_bin_firing(x_binl, y_binl, bins)\n",
    "#bin_firing = bin_firing / occ"
   ]
  },
  {
   "cell_type": "code",
   "execution_count": 33,
   "id": "1e2898d0",
   "metadata": {},
   "outputs": [],
   "source": [
    "# # Get head direction for each spike\n",
    "# spike_hds = get_spike_heading(spikes, hd_times, hd_degrees)"
   ]
  },
  {
   "cell_type": "code",
   "execution_count": 34,
   "id": "118c8897",
   "metadata": {},
   "outputs": [],
   "source": [
    "# Compute edges for chest binning\n",
    "ch_x_edges, ch_y_edges = compute_spatial_bin_edges(positions, chest_bins, area_range=area_range)\n",
    "\n",
    "# Assign each chest to a bin\n",
    "chest_pos = np.array([chest_xs, chest_ys])\n",
    "ch_xbin, ch_ybin = compute_spatial_bin_assignment(chest_pos, ch_x_edges, ch_y_edges)\n",
    "\n",
    "# Fix offset of chest binning\n",
    "ch_xbin = ch_xbin - 1\n",
    "ch_ybin = ch_ybin - 1\n",
    "\n",
    "# Compute chest occupancy\n",
    "chest_occupancy = compute_bin_firing(ch_xbin, ch_ybin, chest_bins)"
   ]
  },
  {
   "cell_type": "markdown",
   "id": "e5c05202",
   "metadata": {},
   "source": [
    "### Statistical Measures"
   ]
  },
  {
   "cell_type": "code",
   "execution_count": 35,
   "id": "3e565a9e",
   "metadata": {},
   "outputs": [],
   "source": [
    "# Compute t-test for chest related firing\n",
    "fr_t_val_all, fr_p_val_all = ttest_rel(*calc_trial_frs(all_chests, average=False))\n",
    "fr_t_val_full, fr_p_val_full = ttest_rel(*calc_trial_frs(full_trials, average=False))\n",
    "fr_t_val_empt, fr_p_val_empt = ttest_rel(*calc_trial_frs(empty_trials, average=False))"
   ]
  },
  {
   "cell_type": "code",
   "execution_count": 36,
   "id": "0bb2a01c",
   "metadata": {},
   "outputs": [],
   "source": [
    "# Place cell analysis\n",
    "if PLACE_METHOD == 'INFO':\n",
    "    place_value = compute_spatial_information_2d(spike_xs, spike_ys, [x_bin_edges, y_bin_edges], occ)\n",
    "if PLACE_METHOD == 'ANOVA':\n",
    "    place_trial = get_trial_place(spikes, nwbfile.trials, bins, ptimes, positions,\n",
    "                                  speed, x_bin_edges, y_bin_edges, occ_kwargs)\n",
    "    place_value = fit_anova_place(create_df_place(place_trial, drop_na=True))"
   ]
  },
  {
   "cell_type": "code",
   "execution_count": 37,
   "id": "27240dd5",
   "metadata": {},
   "outputs": [],
   "source": [
    "# Target cell analysis\n",
    "target_bins = compute_spatial_target_bins(spikes, nav_starts, chest_openings, chest_trials, \n",
    "                                          ptimes, positions, chest_bins, ch_xbin, ch_ybin)\n",
    "if TARGET_METHOD == 'INFO':\n",
    "    target_value = _compute_spatial_information(target_bins, chest_occupancy)\n",
    "if TARGET_METHOD == 'ANOVA':\n",
    "    target_trial = get_trial_target(spikes, nav_starts, chest_bins, chest_openings,\n",
    "                                    chest_trials, ch_xbin, ch_ybin, ptimes, positions)\n",
    "    target_value = fit_anova_target(create_df_target(target_trial))"
   ]
  },
  {
   "cell_type": "code",
   "execution_count": 38,
   "id": "f04853ff",
   "metadata": {},
   "outputs": [],
   "source": [
    "# Serial position analysis\n",
    "sp_all_frs = compute_serial_position_fr(spikes, nav_starts, chest_openings,\n",
    "                                        chest_trials, ptimes, positions)\n",
    "sp_value = fit_anova_serial(create_df_serial(sp_all_frs))"
   ]
  },
  {
   "cell_type": "code",
   "execution_count": 39,
   "id": "4f63b3f1",
   "metadata": {},
   "outputs": [],
   "source": [
    "# Head direction analysis\n",
    "# # Compute measures for head direction\n",
    "# hd_zstat, hd_pstat = circ_rayleigh(convert_angles(spike_hds))"
   ]
  },
  {
   "cell_type": "markdown",
   "id": "8fe5ecd9",
   "metadata": {},
   "source": [
    "### Surrogates"
   ]
  },
  {
   "cell_type": "code",
   "execution_count": 40,
   "id": "40413835",
   "metadata": {},
   "outputs": [],
   "source": [
    "# Compute surrogate measures\n",
    "place_surrs = np.zeros(n_surrogates)\n",
    "target_surrs = np.zeros(n_surrogates)\n",
    "sp_surrs = np.zeros(n_surrogates)\n",
    "#hd_surrs = np.zeros(n_surrogates)\n",
    "\n",
    "for ind, shuffle in enumerate(times_shuffle):    \n",
    "    \n",
    "    # PLACE\n",
    "    if PLACE_METHOD == 'INFO':\n",
    "        s_spike_xs, s_spike_ys = get_spike_positions(shuffle, ptimes, positions)\n",
    "        place_surrs[ind] = compute_spatial_information_2d(s_spike_xs, s_spike_ys,\n",
    "                                                          [x_bin_edges, y_bin_edges], occ)\n",
    "    if PLACE_METHOD == 'ANOVA':\n",
    "        s_place_trial = get_trial_place(shuffle, nwbfile.trials, bins, ptimes, positions,\n",
    "                                      speed, x_bin_edges, y_bin_edges, occ_kwargs)\n",
    "        place_surrs[ind] = fit_anova_place(create_df_place(s_place_trial, drop_na=True))\n",
    "    \n",
    "    # TARGET\n",
    "    if TARGET_METHOD == 'INFO':\n",
    "        s_target_bins = compute_spatial_target_bins(shuffle, nav_starts,\n",
    "                                                    chest_openings, chest_trials, \n",
    "                                                    ptimes, positions,\n",
    "                                                    chest_bins, ch_xbin, ch_ybin)         \n",
    "        target_surrs[ind] = _compute_spatial_information(s_target_bins, chest_occupancy)\n",
    "    if TARGET_METHOD == 'ANOVA':\n",
    "        s_target_trial = get_trial_target(shuffle, nav_starts, chest_bins, chest_openings,\n",
    "                                        chest_trials, ch_xbin, ch_ybin, ptimes, positions)\n",
    "        target_surrs[ind] = fit_anova_target(create_df_target(s_target_trial))\n",
    "    \n",
    "    # SERIAL POSITION\n",
    "    s_sp_all_frs = compute_serial_position_fr(shuffle, nav_starts, chest_openings, \n",
    "                                              chest_trials, ptimes, positions)\n",
    "    sp_surrs[ind] = fit_anova_serial(create_df_serial(s_sp_all_frs))\n",
    "\n",
    "#     # HEAD DIRECTION\n",
    "#     s_spike_hds = get_spike_heading(shuffle, hd_times, hd_degrees)\n",
    "#     hd_surrs[ind] = circ_rayleigh(convert_angles(s_spike_hds))[0]"
   ]
  },
  {
   "cell_type": "code",
   "execution_count": 41,
   "id": "8dd0bd2b",
   "metadata": {},
   "outputs": [],
   "source": [
    "# Compute surrogate statistics\n",
    "place_p_val, place_z_score = compute_surrogate_stats(place_value, place_surrs, False, False)\n",
    "target_p_val, target_z_score = compute_surrogate_stats(target_value, target_surrs, False, False)\n",
    "sp_p_val, sp_z_score = compute_surrogate_stats(sp_value, sp_surrs, False, False)\n",
    "# hd_p_val, hd_z_score = compute_surrogate_stats(hd_zstat, hd_surrs, False, False)"
   ]
  },
  {
   "cell_type": "markdown",
   "id": "ba0b9f70",
   "metadata": {},
   "source": [
    "## Create Report"
   ]
  },
  {
   "cell_type": "code",
   "execution_count": 42,
   "id": "0a04e7cc",
   "metadata": {},
   "outputs": [
    {
     "data": {
      "image/png": "[encoded data removed]",
      "text/plain": [
       "<Figure size 1080x1296 with 12 Axes>"
      ]
     },
     "metadata": {
      "needs_background": "light"
     },
     "output_type": "display_data"
    }
   ],
   "source": [
    "# Initialize figure\n",
    "_ = plt.figure(figsize=(15, 18))\n",
    "grid = gridspec.GridSpec(6, 3, wspace=0.4, hspace=1.)\n",
    "\n",
    "# 00: plot rasters across all trials\n",
    "ax00 = plt.subplot(grid[0, 0])\n",
    "plot_rasters(all_trials, ax=ax00, title='All Trials')\n",
    "\n",
    "# 01: unit information\n",
    "ax01 = plt.subplot(grid[0, 1])\n",
    "plot_text(create_unit_str(create_unit_info(nwbfile.units[uind])), ax=ax01)\n",
    "ax01.set_title(\"Unit Information\", fontdict={'fontsize' : 16}, y=1.2)\n",
    "\n",
    "# 02: inter-spike intervals\n",
    "ax02 = plt.subplot(grid[0, 2])\n",
    "isis = compute_isis(spikes)\n",
    "plot_isis(isis, bins=100, range=(0, 2), ax=ax02)\n",
    "\n",
    "# 10: chest related firing\n",
    "title_str = '{} - Pre: {:1.2f} - Pos: {:1.2f}  (t:{:1.2f}, p:{:1.2f})'\n",
    "ax10 = plt.subplot(grid[1:3, 0:2])\n",
    "plot_rasters(all_chests, xlim=trial_range, vline=0, figsize=(10, 7), ax=ax10)\n",
    "ax10.set_title(title_str.format('All Chests', fr_pre_all, fr_post_all, fr_t_val_all, fr_p_val_all),\n",
    "               color=color_pval(fr_p_val_all))\n",
    "\n",
    "# 12&22: Compare Empty & Full chest trials\n",
    "# Empty chest trials\n",
    "ax12 = plt.subplot(grid[1, 2])\n",
    "plot_rasters(empty_trials, xlim=trial_range, vline=0, ax=ax12)\n",
    "ax12.set_title(title_str.format('Empty', fr_pre_empt, fr_post_empt, fr_t_val_empt, fr_p_val_empt),\n",
    "               color=color_pval(fr_p_val_empt), fontdict={'fontsize' : 14})\n",
    "\n",
    "# Full chest trials\n",
    "ax22 = plt.subplot(grid[2, 2])\n",
    "plot_rasters(full_trials, xlim=trial_range, vline=0, ax=ax22)\n",
    "ax22.set_title(title_str.format('Full', fr_pre_full, fr_post_full, fr_t_val_full, fr_p_val_full),\n",
    "               color=color_pval(fr_p_val_full), fontdict={'fontsize' : 14})\n",
    "\n",
    "# ax30: positional firing\n",
    "ax30 = plt.subplot(grid[3:5, 0])\n",
    "plot_positions(positions, spike_positions,\n",
    "               x_bins=x_bin_edges, y_bins=y_bin_edges, ax=ax30,\n",
    "               title='Firing Across Positions')\n",
    "\n",
    "# ax31: positional heatmap\n",
    "ax31 = plt.subplot(grid[3:5, 1])\n",
    "plot_heatmap(bin_firing, transpose=True, ax=ax31, \n",
    "             title='Range: {:1.2f}-{:1.2f}'.format(*get_range(bin_firing)))\n",
    "\n",
    "# # ax32: head direction of spike firing\n",
    "# ax32 = plt.subplot(grid[3, 2], polar=True)\n",
    "# plot_polar_hist(spike_hds, ax=ax32)\n",
    "# ax32.set(xticklabels=[], yticklabels=[])\n",
    "# ax32.set_title('Head Direction', color=color_pval(hd_p_val))\n",
    "\n",
    "# ax42: place surrogates\n",
    "ax42 = plt.subplot(grid[4, 2])\n",
    "plot_surrogates(place_surrs, place_value, place_p_val, ax=ax42)\n",
    "ax42.set_title('Place Surrogates', color=color_pval(place_p_val))\n",
    "\n",
    "# ax50: serial position\n",
    "ax50 = plt.subplot(grid[5, 0])\n",
    "plot_bar(sp_all_frs.mean(0), [0, 1, 2, 3], yerr=sem(sp_all_frs, 0), ax=ax50)\n",
    "ax50.set_title('Serial Position', color=color_pval(sp_p_val))\n",
    "\n",
    "# ax51: spatial target firing\n",
    "ax51 = plt.subplot(grid[5, 1])\n",
    "plot_heatmap(target_bins, transpose=True, ax=ax51,\n",
    "             title='Range: {:1.2f}-{:1.2f}'.format(*get_range(target_bins)))\n",
    "\n",
    "# ax52: target surrogates\n",
    "ax52 = plt.subplot(grid[5, 2])\n",
    "plot_surrogates(target_surrs, target_value, target_p_val, ax=ax52)\n",
    "ax52.set_title('Target Surrogates', color=color_pval(target_p_val))\n",
    "\n",
    "# Add super title to the report\n",
    "suptitle = 'Unit Report: {}-U{}'.format(session_id, uind)\n",
    "plt.suptitle(suptitle, fontsize=24, y=0.95);"
   ]
  }
 ],
 "metadata": {
  "kernelspec": {
   "display_name": "spike",
   "language": "python",
   "name": "spike"
  },
  "language_info": {
   "codemirror_mode": {
    "name": "ipython",
    "version": 3
   },
   "file_extension": ".py",
   "mimetype": "text/x-python",
   "name": "python",
   "nbconvert_exporter": "python",
   "pygments_lexer": "ipython3",
   "version": "3.8.12"
  }
 },
 "nbformat": 4,
 "nbformat_minor": 5
}
