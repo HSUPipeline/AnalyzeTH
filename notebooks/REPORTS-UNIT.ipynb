{
 "cells": [
  {
   "cell_type": "markdown",
   "id": "2d7646ea",
   "metadata": {},
   "source": [
    "# Unit Reports\n",
    "\n",
    "Create a report analyzing an individual unit."
   ]
  },
  {
   "cell_type": "code",
   "execution_count": null,
   "id": "56c23897",
   "metadata": {},
   "outputs": [],
   "source": [
    "%config Completer.use_jedi = False"
   ]
  },
  {
   "cell_type": "code",
   "execution_count": null,
   "id": "fd09c84a",
   "metadata": {},
   "outputs": [],
   "source": [
    "import numpy as np\n",
    "from scipy.stats import sem\n",
    "\n",
    "from convnwb.io import load_nwbfile\n",
    "\n",
    "from spiketools.measures.spikes import compute_isis\n",
    "from spiketools.measures.trials import compute_segment_frs\n",
    "from spiketools.stats.shuffle import shuffle_spikes\n",
    "from spiketools.stats.trials import compare_pre_post_activity\n",
    "from spiketools.stats.permutations import compute_surrogate_stats\n",
    "from spiketools.spatial.occupancy import (compute_occupancy, compute_bin_edges, compute_bin_assignment,\n",
    "                                          compute_bin_counts_pos, compute_bin_counts_assgn)\n",
    "from spiketools.spatial.place import compute_place_bins, compute_trial_place_bins\n",
    "from spiketools.spatial.target import compute_target_bins\n",
    "from spiketools.spatial.information import compute_spatial_information\n",
    "from spiketools.spatial.utils import convert_2dindices\n",
    "from spiketools.utils.extract import get_values_by_times\n",
    "from spiketools.utils.base import select_from_list\n",
    "from spiketools.utils.run import create_methods_list\n",
    "from spiketools.utils.epoch import epoch_spikes_by_event, epoch_spikes_by_range\n",
    "from spiketools.plts.spikes import plot_isis\n",
    "from spiketools.plts.spatial import plot_positions, plot_heatmap, create_heat_title\n",
    "from spiketools.plts.trials import plot_rasters, create_raster_title\n",
    "from spiketools.plts.data import plot_bar, plot_polar_hist, plot_text\n",
    "from spiketools.plts.stats import plot_surrogates\n",
    "from spiketools.plts.utils import make_grid, get_grid_subplot\n",
    "from spiketools.plts.annotate import color_pvalue"
   ]
  },
  {
   "cell_type": "code",
   "execution_count": null,
   "id": "445e6470",
   "metadata": {},
   "outputs": [],
   "source": [
    "import sys\n",
    "sys.path.append('../code')\n",
    "from utils import select_navigation, stack_trials\n",
    "from models import (create_df_place, fit_anova_place,\n",
    "                    create_df_target, fit_anova_target,\n",
    "                    create_df_serial, fit_anova_serial)\n",
    "from reports import create_unit_info, create_unit_str"
   ]
  },
  {
   "cell_type": "code",
   "execution_count": null,
   "id": "8bc60d6c",
   "metadata": {},
   "outputs": [],
   "source": [
    "import seaborn as sns\n",
    "sns.set_context('talk')"
   ]
  },
  {
   "cell_type": "markdown",
   "id": "882ae240",
   "metadata": {},
   "source": [
    "## Settings"
   ]
  },
  {
   "cell_type": "code",
   "execution_count": null,
   "id": "39c48d7e",
   "metadata": {},
   "outputs": [],
   "source": [
    "# Define the base data folder\n",
    "#data_folder = '/Users/tom/Data/JacobsLab/WVTH/nwb'\n",
    "data_folder = '/data12/jacobs_lab/WVTH/nwb'"
   ]
  },
  {
   "cell_type": "code",
   "execution_count": null,
   "id": "292ce08d",
   "metadata": {},
   "outputs": [],
   "source": [
    "# Define session information\n",
    "session = {\n",
    "    'experiment' : 'THO',\n",
    "    'subject' : 'wv001',\n",
    "    'session' : 2\n",
    "}"
   ]
  },
  {
   "cell_type": "code",
   "execution_count": null,
   "id": "59ebe3eb",
   "metadata": {},
   "outputs": [],
   "source": [
    "# Set which example unit to extract\n",
    "#uind = 84\n",
    "uind = 0"
   ]
  },
  {
   "cell_type": "code",
   "execution_count": null,
   "id": "f2037bdf",
   "metadata": {},
   "outputs": [],
   "source": [
    "# Define bins to use\n",
    "bins = [9, 12]\n",
    "chest_bins = [5, 7]\n",
    "\n",
    "# Define minimum occupancy\n",
    "min_occ = 1\n",
    "speed_thresh = 5e-6\n",
    "time_thresh = 0.25\n",
    "\n",
    "# TEMP:\n",
    "speed_thresh = 0\n",
    "\n",
    "# Set the time range to analyze\n",
    "trial_range = [-1, 1]\n",
    "pre_window = [-1, 0]\n",
    "post_window = [0, 1]"
   ]
  },
  {
   "cell_type": "code",
   "execution_count": null,
   "id": "6564ca9a",
   "metadata": {},
   "outputs": [],
   "source": [
    "# Shuffle Settings\n",
    "shuffle_approach = 'BINCIRC'\n",
    "n_surrogates = 25"
   ]
  },
  {
   "cell_type": "code",
   "execution_count": null,
   "id": "d728a973",
   "metadata": {},
   "outputs": [],
   "source": [
    "# Set which methods to run\n",
    "METHODS = {\n",
    "    'PLACE' : ['ANOVA', 'INFO'],\n",
    "    'TARGET' : ['ANOVA', 'INFO'],\n",
    "    'SERIAL' : ['ANOVA']\n",
    "}"
   ]
  },
  {
   "cell_type": "markdown",
   "id": "50ddeb9c",
   "metadata": {},
   "source": [
    "## Load Data"
   ]
  },
  {
   "cell_type": "code",
   "execution_count": null,
   "id": "90af51fd",
   "metadata": {},
   "outputs": [],
   "source": [
    "# Load NWB file\n",
    "nwbfile = load_nwbfile(session, data_folder)"
   ]
  },
  {
   "cell_type": "markdown",
   "id": "009b513b",
   "metadata": {},
   "source": [
    "#### Trial Data"
   ]
  },
  {
   "cell_type": "code",
   "execution_count": null,
   "id": "bff2d04d",
   "metadata": {},
   "outputs": [],
   "source": [
    "# Get start and stop time of trials\n",
    "trial_starts = nwbfile.trials['start_time'].data[:]\n",
    "trial_stops = nwbfile.trials['stop_time'].data[:]"
   ]
  },
  {
   "cell_type": "code",
   "execution_count": null,
   "id": "554b9df6",
   "metadata": {},
   "outputs": [],
   "source": [
    "# Get the navigation time ranges\n",
    "nav_starts = nwbfile.trials.navigation_start[:]\n",
    "nav_stops = nwbfile.trials.navigation_stop[:]"
   ]
  },
  {
   "cell_type": "code",
   "execution_count": null,
   "id": "0e55db2b",
   "metadata": {},
   "outputs": [],
   "source": [
    "# Get trial indices of interest\n",
    "chest_trials = nwbfile.trials.chest_trials[:]\n",
    "chest_openings = nwbfile.trials['chest_opening_time'][:]"
   ]
  },
  {
   "cell_type": "code",
   "execution_count": null,
   "id": "56f7ce0b",
   "metadata": {},
   "outputs": [],
   "source": [
    "# Get masks for full and empty chest trials\n",
    "full_mask = nwbfile.trials.full_chest.data[:]\n",
    "empty_mask = np.invert(full_mask)"
   ]
  },
  {
   "cell_type": "code",
   "execution_count": null,
   "id": "5376662c",
   "metadata": {},
   "outputs": [],
   "source": [
    "# Define the segment times of interest\n",
    "seg_times = np.insert(np.array(chest_openings), 0, nav_starts, axis=1)"
   ]
  },
  {
   "cell_type": "markdown",
   "id": "e3f23c12",
   "metadata": {},
   "source": [
    "#### Position data"
   ]
  },
  {
   "cell_type": "code",
   "execution_count": null,
   "id": "9b9e7ecc",
   "metadata": {},
   "outputs": [],
   "source": [
    "# Get area ranges, adding a buffer to the z-range (for tower transport)\n",
    "area_range = [nwbfile.acquisition['boundaries']['x_range'].data[:], \n",
    "              nwbfile.acquisition['boundaries']['z_range'].data[:] + np.array([-15, 15])]"
   ]
  },
  {
   "cell_type": "code",
   "execution_count": null,
   "id": "23f5f601",
   "metadata": {},
   "outputs": [],
   "source": [
    "# Get position data, selecting from navigation periods, and recombine across trials\n",
    "ptimes_trials, positions_trials = select_navigation(\\\n",
    "    nwbfile.acquisition['position']['player_position'], nav_starts, nav_stops)\n",
    "ptimes, positions = stack_trials(ptimes_trials, positions_trials)"
   ]
  },
  {
   "cell_type": "code",
   "execution_count": null,
   "id": "c3b03081",
   "metadata": {},
   "outputs": [],
   "source": [
    "# Get speed data, selecting from navigation periods, and recombining across trials\n",
    "stimes, speed = stack_trials(*select_navigation(\\\n",
    "    nwbfile.processing['position_measures']['speed'], nav_starts, nav_stops))"
   ]
  },
  {
   "cell_type": "code",
   "execution_count": null,
   "id": "6933316a",
   "metadata": {},
   "outputs": [],
   "source": [
    "# Get the chest positions\n",
    "chest_xs, chest_ys = nwbfile.acquisition['stimuli']['chest_positions'].data[:].T"
   ]
  },
  {
   "cell_type": "markdown",
   "id": "2f047844",
   "metadata": {},
   "source": [
    "#### Get Spikes"
   ]
  },
  {
   "cell_type": "code",
   "execution_count": null,
   "id": "f850cc50",
   "metadata": {},
   "outputs": [],
   "source": [
    "# Extract spikes for a unit of interest\n",
    "spikes = nwbfile.units.get_unit_spike_times(uind)"
   ]
  },
  {
   "cell_type": "markdown",
   "id": "d87b358c",
   "metadata": {},
   "source": [
    "### Precompute Some Things"
   ]
  },
  {
   "cell_type": "code",
   "execution_count": null,
   "id": "d2cf00f3",
   "metadata": {},
   "outputs": [],
   "source": [
    "# Get the spiking data for each trial\n",
    "all_trials = epoch_spikes_by_range(spikes, trial_starts, trial_stops, reset=True)"
   ]
  },
  {
   "cell_type": "code",
   "execution_count": null,
   "id": "8f65bc79",
   "metadata": {},
   "outputs": [],
   "source": [
    "# Create shuffled time series for comparison\n",
    "times_shuffle = shuffle_spikes(spikes, shuffle_approach, n_surrogates)"
   ]
  },
  {
   "cell_type": "code",
   "execution_count": null,
   "id": "d15951c4",
   "metadata": {},
   "outputs": [],
   "source": [
    "# Epoch around chest openings\n",
    "all_chests = epoch_spikes_by_event(spikes, np.concatenate(chest_openings), trial_range)\n",
    "empty_trials = select_from_list(all_chests, empty_mask)\n",
    "full_trials = select_from_list(all_chests, full_mask)"
   ]
  },
  {
   "cell_type": "code",
   "execution_count": null,
   "id": "618425de",
   "metadata": {},
   "outputs": [],
   "source": [
    "# Compute bin edges\n",
    "x_bin_edges, y_bin_edges = compute_bin_edges(positions, bins, area_range=area_range)"
   ]
  },
  {
   "cell_type": "code",
   "execution_count": null,
   "id": "bbf83dda",
   "metadata": {},
   "outputs": [],
   "source": [
    "# Get position values for each spike\n",
    "spike_positions = get_values_by_times(ptimes, positions, spikes, threshold=time_thresh)"
   ]
  },
  {
   "cell_type": "code",
   "execution_count": null,
   "id": "ae9c35c2",
   "metadata": {},
   "outputs": [],
   "source": [
    "# Compute occupancy\n",
    "occ_kwargs = {'minimum' : min_occ, 'set_nan' : True}\n",
    "occ = compute_occupancy(positions, ptimes, bins, area_range,\n",
    "                        speed, speed_thresh, time_thresh, **occ_kwargs)"
   ]
  },
  {
   "cell_type": "code",
   "execution_count": null,
   "id": "ecf791a4",
   "metadata": {},
   "outputs": [],
   "source": [
    "# Compute spatial bin assignments & binned firing, and normalize by occupancy\n",
    "place_bins = compute_bin_counts_pos(spike_positions, bins, area_range, occ)"
   ]
  },
  {
   "cell_type": "code",
   "execution_count": null,
   "id": "118c8897",
   "metadata": {},
   "outputs": [],
   "source": [
    "# Compute edges for chest binning\n",
    "ch_x_edges, ch_y_edges = compute_bin_edges(positions, chest_bins, area_range)\n",
    "\n",
    "# Assign each chest to a bin & compute equivalent 1d indices\n",
    "chest_pos = np.array([chest_xs, chest_ys])\n",
    "ch_xbin, ch_ybin = compute_bin_assignment(chest_pos, ch_x_edges, ch_y_edges)\n",
    "chbins = convert_2dindices(ch_xbin, ch_ybin, chest_bins)\n",
    "\n",
    "# Compute chest occupancy\n",
    "chest_occupancy = compute_bin_counts_assgn(chest_bins, ch_xbin, ch_ybin)"
   ]
  },
  {
   "cell_type": "markdown",
   "id": "e5c05202",
   "metadata": {},
   "source": [
    "### Statistical Measures"
   ]
  },
  {
   "cell_type": "code",
   "execution_count": null,
   "id": "919c4683",
   "metadata": {},
   "outputs": [],
   "source": [
    "# Initialize results store\n",
    "results = {}"
   ]
  },
  {
   "cell_type": "code",
   "execution_count": null,
   "id": "abe58ea9",
   "metadata": {},
   "outputs": [],
   "source": [
    "# Compare pre/post chest events, computing firing rates & t-test comparison\n",
    "fr_pre_all, fr_post_all, results['fr_t_val_all'], results['fr_p_val_all'] = \\\n",
    "    compare_pre_post_activity(all_chests, pre_window, post_window)\n",
    "fr_pre_empt, fr_post_empt, results['fr_t_val_empt'], results['fr_p_val_empt'] = \\\n",
    "    compare_pre_post_activity(empty_trials, pre_window, post_window)\n",
    "fr_pre_full, fr_post_full, results['fr_t_val_full'], results['fr_p_val_full'] = \\\n",
    "    compare_pre_post_activity(full_trials, pre_window, post_window)"
   ]
  },
  {
   "cell_type": "code",
   "execution_count": null,
   "id": "0bb2a01c",
   "metadata": {},
   "outputs": [],
   "source": [
    "# Place cell analysis\n",
    "if 'INFO' in METHODS['PLACE']:\n",
    "    results['place_info'] = compute_spatial_information(place_bins, occ)\n",
    "if 'ANOVA' in METHODS['PLACE']:\n",
    "    place_trial = compute_trial_place_bins(spikes, positions, ptimes, bins, nav_starts, nav_stops, \n",
    "                                           area_range, speed, speed_thresh, time_thresh,\n",
    "                                           flatten=True, **occ_kwargs)\n",
    "    results['place_anova'] = fit_anova_place(create_df_place(place_trial))"
   ]
  },
  {
   "cell_type": "code",
   "execution_count": null,
   "id": "27240dd5",
   "metadata": {},
   "outputs": [],
   "source": [
    "# Target cell analysis\n",
    "target_frs = compute_segment_frs(spikes, seg_times)\n",
    "target_bins = compute_target_bins(target_frs, chest_bins, ch_xbin, ch_ybin, chest_occupancy)\n",
    "\n",
    "if 'INFO' in METHODS['TARGET']:\n",
    "    results['target_info'] = compute_spatial_information(target_bins, chest_occupancy)\n",
    "if 'ANOVA' in METHODS['TARGET']:\n",
    "    target_df = create_df_target({'trial' : chest_trials, 'target_bin' : chbins,\n",
    "                                  'fr' : target_frs.flatten()})\n",
    "    results['target_anova'] = fit_anova_target(target_df)"
   ]
  },
  {
   "cell_type": "code",
   "execution_count": null,
   "id": "f04853ff",
   "metadata": {},
   "outputs": [],
   "source": [
    "# Serial position analysis\n",
    "sp_all_frs = compute_segment_frs(spikes, seg_times)\n",
    "results['serial_anova'] = fit_anova_serial(create_df_serial(sp_all_frs))"
   ]
  },
  {
   "cell_type": "markdown",
   "id": "8fe5ecd9",
   "metadata": {},
   "source": [
    "### Surrogates"
   ]
  },
  {
   "cell_type": "code",
   "execution_count": null,
   "id": "c5cb4245",
   "metadata": {},
   "outputs": [],
   "source": [
    "# Collect list of which analyses are being run for surrogates, and initialize surrogate stores\n",
    "surr_analyses = create_methods_list(METHODS)\n",
    "surrs = {analysis : np.zeros(n_surrogates) for analysis in surr_analyses}"
   ]
  },
  {
   "cell_type": "code",
   "execution_count": null,
   "id": "40413835",
   "metadata": {},
   "outputs": [],
   "source": [
    "# Compute surrogate measures\n",
    "for ind, shuffle in enumerate(times_shuffle):    \n",
    "    \n",
    "    # PLACE\n",
    "    if 'INFO' in METHODS['PLACE']:\n",
    "        surr_place_bins = compute_place_bins(shuffle, positions, ptimes, bins, \n",
    "                                             area_range, speed, speed_thresh, time_thresh)\n",
    "        surrs['place_info'][ind] = compute_spatial_information(surr_place_bins, occ, normalize=True)\n",
    "    if 'ANOVA' in METHODS['PLACE']:\n",
    "        surr_place_trial = compute_trial_place_bins(shuffle, positions, ptimes, bins,\n",
    "                                                    nav_starts, nav_stops, area_range,\n",
    "                                                    speed, speed_thresh, time_thresh,\n",
    "                                                    flatten=True, **occ_kwargs)\n",
    "        surrs['place_anova'][ind] = fit_anova_place(create_df_place(surr_place_trial))\n",
    "    \n",
    "    # TARGET\n",
    "    if 'INFO' in METHODS['TARGET']:\n",
    "        surr_target_frs = compute_segment_frs(shuffle, seg_times)\n",
    "        surr_target_bins = compute_target_bins(surr_target_frs, chest_bins, ch_xbin, ch_ybin, chest_occupancy)\n",
    "        surrs['target_info'][ind] = compute_spatial_information(surr_target_bins, chest_occupancy)\n",
    "\n",
    "    if 'ANOVA' in METHODS['TARGET']:\n",
    "        surr_target_df = create_df_target({'trial' : chest_trials, 'target_bin' : chbins,\n",
    "                                           'fr' : compute_segment_frs(shuffle, seg_times).flatten()})\n",
    "        surrs['target_anova'][ind] = fit_anova_target(surr_target_df)\n",
    "    \n",
    "    # SERIAL POSITION\n",
    "    if 'ANOVA' in METHODS['SERIAL']:\n",
    "        surr_sp_all_frs = compute_segment_frs(shuffle, seg_times)\n",
    "        surrs['serial_anova'][ind] = fit_anova_serial(create_df_serial(surr_sp_all_frs))"
   ]
  },
  {
   "cell_type": "code",
   "execution_count": null,
   "id": "8dd0bd2b",
   "metadata": {},
   "outputs": [],
   "source": [
    "# Compute surrogate statistics\n",
    "for analysis in surr_analyses:\n",
    "    results[analysis + '_surr_p_val'], results[analysis + '_surr_z_score'] = \\\n",
    "        compute_surrogate_stats(results[analysis], surrs[analysis])"
   ]
  },
  {
   "cell_type": "markdown",
   "id": "ba0b9f70",
   "metadata": {},
   "source": [
    "## Create Report"
   ]
  },
  {
   "cell_type": "code",
   "execution_count": null,
   "id": "0a04e7cc",
   "metadata": {},
   "outputs": [],
   "source": [
    "# Initialize figure with grid layout\n",
    "grid = make_grid(7, 3, figsize=(15, 20), wspace=0.4, hspace=1.,\n",
    "                 title='Unit Report: {}-U{}'.format(nwbfile.session_id, uind))\n",
    "\n",
    "# 00: plot rasters across all trials\n",
    "plot_rasters(all_trials, title='All Trials', ax=get_grid_subplot(grid, 0, 0))\n",
    "\n",
    "# 01: unit information\n",
    "plot_text(create_unit_str(create_unit_info(nwbfile.units[uind])),\n",
    "          title='Unit Information', ax=get_grid_subplot(grid, 0, 1))\n",
    "\n",
    "# 02: inter-spike intervals\n",
    "plot_isis(compute_isis(spikes), bins=100, range=(0, 2), ax=get_grid_subplot(grid, 0, 2))\n",
    "\n",
    "# 10: chest related firing\n",
    "plot_rasters(all_chests, xlim=trial_range, vline=0, \n",
    "             title=create_raster_title('All Chests', fr_pre_all, fr_post_all, \n",
    "                 results['fr_t_val_all'], results['fr_p_val_all']),\n",
    "             title_color=color_pvalue(results['fr_p_val_all']),\n",
    "             ax=get_grid_subplot(grid, slice(1, 3), slice(0, 2)))\n",
    "\n",
    "# 12&22: Compare Empty & Full chest trials\n",
    "plot_rasters(empty_trials, xlim=trial_range, vline=0,\n",
    "             title=create_raster_title('Empty', fr_pre_empt, fr_post_empt,\n",
    "                 results['fr_t_val_empt'], results['fr_p_val_empt']),\n",
    "             title_color=color_pvalue(results['fr_p_val_empt']), title_fontsize=14,\n",
    "             ax=get_grid_subplot(grid, 1, 2))\n",
    "plot_rasters(full_trials, xlim=trial_range, vline=0, \n",
    "             title=create_raster_title('Full', fr_pre_full, fr_post_full,\n",
    "                 results['fr_t_val_full'], results['fr_p_val_full']),\n",
    "             title_color=color_pvalue(results['fr_p_val_full']), title_fontsize=14,\n",
    "             ax=get_grid_subplot(grid, 2, 2))\n",
    "\n",
    "# ax30: positional firing\n",
    "plot_positions(positions_trials, spike_positions,\n",
    "               x_bins=x_bin_edges, y_bins=y_bin_edges,\n",
    "               title='Firing Across Positions', \n",
    "               ax=get_grid_subplot(grid, slice(3, 5), 0))\n",
    "\n",
    "# ax31: positional heatmap\n",
    "plot_heatmap(place_bins, ax=get_grid_subplot(grid, slice(3, 5), 1), \n",
    "             title=create_heat_title('Place Bins', place_bins))\n",
    "\n",
    "# ax32: place surrogates (info)\n",
    "if 'INFO' in METHODS['PLACE']:\n",
    "    plot_surrogates(surrs['place_info'], results['place_info'], results['place_info_surr_p_val'],\n",
    "                    title='Place Surrogates (INFO)',\n",
    "                    title_color=color_pvalue(results['place_info_surr_p_val']),\n",
    "                    ax=get_grid_subplot(grid, 3, 2))\n",
    "\n",
    "# ax42: place surrogates (anova)\n",
    "if 'ANOVA' in METHODS['PLACE']:\n",
    "    plot_surrogates(surrs['place_anova'], results['place_anova'], results['place_anova_surr_p_val'],\n",
    "                    title='Place Surrogates (ANOVA)',\n",
    "                    title_color=color_pvalue(results['place_anova_surr_p_val']),\n",
    "                    ax=get_grid_subplot(grid, 4, 2))\n",
    "\n",
    "# ax50: serial position\n",
    "plot_bar(sp_all_frs.mean(0), [0, 1, 2, 3], yerr=sem(sp_all_frs, 0),\n",
    "         title='Serial Position', ax=get_grid_subplot(grid, 5, 0))\n",
    "\n",
    "# ax51: spatial target firing\n",
    "plot_heatmap(target_bins, ax=get_grid_subplot(grid, slice(5, 7), 1),\n",
    "             title=create_heat_title('Target Bins', target_bins))\n",
    "\n",
    "# ax52: target surrogates (info)\n",
    "if 'INFO' in METHODS['TARGET']:\n",
    "    plot_surrogates(surrs['target_info'], results['target_info'],\n",
    "                    results['target_info_surr_p_val'],\n",
    "                    title='Target Surrogates (INFO)',\n",
    "                    title_color=color_pvalue(results['target_info_surr_p_val']),\n",
    "                    ax=get_grid_subplot(grid, 5, 2))\n",
    "\n",
    "# ax60: serial position surrogates\n",
    "if 'ANOVA' in METHODS['SERIAL']:\n",
    "    plot_surrogates(surrs['serial_anova'], results['serial_anova'],\n",
    "                    results['serial_anova_surr_p_val'],\n",
    "                    title='Serial Surrogates (ANOVA)',\n",
    "                    title_color=color_pvalue(results['serial_anova_surr_p_val']),\n",
    "                    ax=get_grid_subplot(grid, 6, 0))\n",
    "    \n",
    "# ax62: target surrogates (anova)\n",
    "if 'ANOVA' in METHODS['TARGET']:\n",
    "    plot_surrogates(surrs['target_anova'], results['target_anova'],\n",
    "                    results['target_anova_surr_p_val'],\n",
    "                    title='Target Surrogates (ANOVA)',\n",
    "                    title_color=color_pvalue(results['target_anova_surr_p_val']),\n",
    "                    ax=get_grid_subplot(grid, 6, 2))"
   ]
  }
 ],
 "metadata": {
  "kernelspec": {
   "display_name": "thproj",
   "language": "python",
   "name": "thproj"
  },
  "language_info": {
   "codemirror_mode": {
    "name": "ipython",
    "version": 3
   },
   "file_extension": ".py",
   "mimetype": "text/x-python",
   "name": "python",
   "nbconvert_exporter": "python",
   "pygments_lexer": "ipython3",
   "version": "3.9.7"
  }
 },
 "nbformat": 4,
 "nbformat_minor": 5
}
