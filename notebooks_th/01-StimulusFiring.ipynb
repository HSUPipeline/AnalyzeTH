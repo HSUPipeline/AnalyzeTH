{
 "cells": [
  {
   "cell_type": "markdown",
   "id": "friendly-caution",
   "metadata": {},
   "source": [
    "# Stimulus Response Analyses\n",
    "\n",
    "This notebook explores stimulus response analysis to stimuli & events of interest. \n",
    "\n",
    "Investigated events:\n",
    "- chest opening, including splitting by full and empty chests\n",
    "- recall confidence prompt, which includes the image of the stimuli\n",
    "- button response\n",
    "\n",
    "#### Cells of interest \n",
    "\n",
    "THF-wv001-session_2:\n",
    "- Neuron 51: maybe cares about full chests (non-specifically)"
   ]
  },
  {
   "cell_type": "code",
   "execution_count": 1,
   "id": "positive-yield",
   "metadata": {},
   "outputs": [],
   "source": [
    "%config Completer.use_jedi = False"
   ]
  },
  {
   "cell_type": "code",
   "execution_count": 2,
   "id": "fluid-march",
   "metadata": {},
   "outputs": [],
   "source": [
    "import numpy as np\n",
    "import matplotlib.pyplot as plt\n",
    "\n",
    "from scipy import stats\n",
    "from matplotlib.lines import Line2D\n",
    "\n",
    "from convnwb.io import load_nwbfile\n",
    "\n",
    "from spiketools.plts.trials import plot_rate_by_time\n",
    "from spiketools.plts.annotate import add_vlines\n",
    "from spiketools.plts.style import drop_spines\n",
    "from spiketools.plts.trials import plot_rasters, create_raster_title\n",
    "from spiketools.plts.utils import make_axes, save_figure, make_grid, get_grid_subplot\n",
    "from spiketools.utils.epoch import epoch_spikes_by_event\n",
    "from spiketools.utils.base import select_from_list\n",
    "from spiketools.measures.trials import compute_trial_frs\n",
    "from spiketools.stats.trials import compare_pre_post_activity"
   ]
  },
  {
   "cell_type": "code",
   "execution_count": 3,
   "id": "d75aca74",
   "metadata": {},
   "outputs": [],
   "source": [
    "import seaborn as sns\n",
    "sns.set_context('talk')"
   ]
  },
  {
   "cell_type": "markdown",
   "id": "748e8322",
   "metadata": {},
   "source": [
    "## Settings"
   ]
  },
  {
   "cell_type": "code",
   "execution_count": 4,
   "id": "81d08fb8",
   "metadata": {},
   "outputs": [],
   "source": [
    "# Define the base data folder\n",
    "# data_folder = '/Users/tom/Data/JacobsLab/WVTH/nwb'\n",
    "data_folder = '/Users/Claire_han/Documents/Data/JacobsLab/WVTH/nwb'\n",
    "#data_folder = '/data12/jacobs_lab/WVTH/nwb'"
   ]
  },
  {
   "cell_type": "code",
   "execution_count": 5,
   "id": "a9b3d4e8",
   "metadata": {},
   "outputs": [],
   "source": [
    "# Define session information\n",
    "session = {\n",
    "    'experiment' : 'THO',\n",
    "    'subject' : 'wv004',\n",
    "    'session' : 0\n",
    "}"
   ]
  },
  {
   "cell_type": "code",
   "execution_count": 6,
   "id": "ab196c2e",
   "metadata": {},
   "outputs": [],
   "source": [
    "# Set a unit of interest to select\n",
    "uind = 60"
   ]
  },
  {
   "cell_type": "code",
   "execution_count": 27,
   "id": "067697af",
   "metadata": {},
   "outputs": [],
   "source": [
    "# Set the time range to analyze, and pre & post trial windows (in seconds)\n",
    "trial_range = [-0.5, 1]\n",
    "pre_window = [-0.5, 0]\n",
    "post_window = [0, 1]"
   ]
  },
  {
   "cell_type": "markdown",
   "id": "signal-ladder",
   "metadata": {},
   "source": [
    "## Load Data"
   ]
  },
  {
   "cell_type": "code",
   "execution_count": 28,
   "id": "b9bd1b47",
   "metadata": {},
   "outputs": [],
   "source": [
    "# Load NWB file\n",
    "nwbfile = load_nwbfile(session, data_folder)"
   ]
  },
  {
   "cell_type": "code",
   "execution_count": 29,
   "id": "2e334766",
   "metadata": {},
   "outputs": [],
   "source": [
    "# Get the chest trial indices & stimuli information\n",
    "chest_trials = nwbfile.trials.chest_trials[:]"
   ]
  },
  {
   "cell_type": "code",
   "execution_count": 30,
   "id": "d0598ebd",
   "metadata": {},
   "outputs": [
    {
     "name": "stdout",
     "output_type": "stream",
     "text": [
      "Number of units: 138\n",
      "Number to keep:  90\n"
     ]
    }
   ],
   "source": [
    "# Check the number of units & keep indices\n",
    "n_units = len(nwbfile.units)\n",
    "keep_inds = np.where(nwbfile.units.keep[:])[0]\n",
    "n_keep = len(keep_inds)\n",
    "print('Number of units: {}'.format(n_units))\n",
    "print('Number to keep:  {}'.format(n_keep))"
   ]
  },
  {
   "cell_type": "code",
   "execution_count": 31,
   "id": "1fd5e80a",
   "metadata": {},
   "outputs": [],
   "source": [
    "# Get spikes for unit of interest\n",
    "spikes = nwbfile.units.get_unit_spike_times(uind)"
   ]
  },
  {
   "cell_type": "markdown",
   "id": "be4b4ebb",
   "metadata": {},
   "source": [
    "## Chest Opening"
   ]
  },
  {
   "cell_type": "code",
   "execution_count": 32,
   "id": "53224c09",
   "metadata": {},
   "outputs": [],
   "source": [
    "# Get times of chest opening\n",
    "openings = nwbfile.trials.chest_opening_time[:]"
   ]
  },
  {
   "cell_type": "code",
   "execution_count": 33,
   "id": "b4557ae9",
   "metadata": {},
   "outputs": [
    {
     "name": "stdout",
     "output_type": "stream",
     "text": [
      "Number of chests: 128\n"
     ]
    }
   ],
   "source": [
    "# Check the number of chests\n",
    "n_chests = len(openings)\n",
    "print('Number of chests: {}'.format(n_chests))"
   ]
  },
  {
   "cell_type": "code",
   "execution_count": 34,
   "id": "21a06ccd",
   "metadata": {},
   "outputs": [],
   "source": [
    "# Gather neural data around trials of interest\n",
    "all_trials_chest = epoch_spikes_by_event(spikes, openings, trial_range)"
   ]
  },
  {
   "cell_type": "code",
   "execution_count": 35,
   "id": "437679ba",
   "metadata": {},
   "outputs": [],
   "source": [
    "# Compute averages & statistical comparison of pre / post window firing rates\n",
    "avg_pre, avg_post, t_val, p_val = compare_pre_post_activity(all_trials_chest, pre_window, post_window)"
   ]
  },
  {
   "cell_type": "markdown",
   "id": "505dd02a",
   "metadata": {},
   "source": [
    "## Chest Opening - Split by Stimulus Content"
   ]
  },
  {
   "cell_type": "code",
   "execution_count": 36,
   "id": "2faab08a",
   "metadata": {},
   "outputs": [],
   "source": [
    "# Create masks to sub-select full & empty chests\n",
    "full_mask = nwbfile.trials.full_chest.data[:]\n",
    "empty_mask = np.invert(full_mask)"
   ]
  },
  {
   "cell_type": "code",
   "execution_count": 37,
   "id": "b3445e70",
   "metadata": {},
   "outputs": [],
   "source": [
    "# Calculate how many full/empty chests there are\n",
    "n_empty = sum(empty_mask)\n",
    "n_full = sum(full_mask)"
   ]
  },
  {
   "cell_type": "code",
   "execution_count": 38,
   "id": "c712dd77",
   "metadata": {},
   "outputs": [
    {
     "name": "stdout",
     "output_type": "stream",
     "text": [
      "Number of empty chests: \t48\n",
      "Number of full chests: \t\t80\n"
     ]
    }
   ],
   "source": [
    "# Check how many full/empty chests there are\n",
    "print('Number of empty chests: \\t{}'.format(n_empty))\n",
    "print('Number of full chests: \\t\\t{}'.format(n_full))"
   ]
  },
  {
   "cell_type": "code",
   "execution_count": 39,
   "id": "8a082647",
   "metadata": {},
   "outputs": [],
   "source": [
    "# Sub-select full & empty chest trials\n",
    "empty_trials = select_from_list(all_trials_chest, empty_mask)\n",
    "full_trials = select_from_list(all_trials_chest, full_mask)"
   ]
  },
  {
   "cell_type": "code",
   "execution_count": 40,
   "id": "c84ffd08",
   "metadata": {},
   "outputs": [],
   "source": [
    "# Compute averages & statistical comparison of pre / post window firing rates\n",
    "avg_pre_e, avg_post_e, t_val_e, p_val_e = compare_pre_post_activity(empty_trials, pre_window, post_window)\n",
    "avg_pre_f, avg_post_f, t_val_f, p_val_f = compare_pre_post_activity(full_trials, pre_window, post_window)"
   ]
  },
  {
   "cell_type": "code",
   "execution_count": 41,
   "id": "89d4288a",
   "metadata": {},
   "outputs": [],
   "source": [
    "# Compute the continuous firing rates across trials\n",
    "bin_times, full_frs_trial = compute_trial_frs(full_trials, 0.1, time_range=[-1,1])\n",
    "bin_times, empty_frs_trial = compute_trial_frs(empty_trials, 0.1, time_range=[-1,1])"
   ]
  },
  {
   "cell_type": "code",
   "execution_count": 51,
   "id": "2fcb4c53",
   "metadata": {
    "scrolled": false
   },
   "outputs": [
    {
     "data": {
      "image/png": "[encoded data removed]",
      "text/plain": [
       "<Figure size 300x400 with 2 Axes>"
      ]
     },
     "metadata": {},
     "output_type": "display_data"
    }
   ],
   "source": [
    "# Plot a comparison of full and empty trials\n",
    "grid = make_grid(3, 1, figsize=(3, 4), hspace=0)\n",
    "plot_rasters([full_trials, empty_trials], xlim=trial_range, ax=get_grid_subplot(grid, slice(0, 2), 0), \n",
    "             colors=['#D95319', 'silver'])\n",
    "add_vlines(0, ax=get_grid_subplot(grid, slice(0,2),0), color='green', alpha=0.5)\n",
    "plot_rate_by_time(bin_times, [full_frs_trial.mean(0), empty_frs_trial.mean(0)], shade='sem', \n",
    "                  ax=get_grid_subplot(grid, 2, 0), colors=['#D95319', 'silver'], xlabel='Time (s)', \n",
    "                  ylabel='Firing rate (Hz)', xlim=[-0.5,1], xticks=[-0.5, 0, 0.5, 1])\n",
    "add_vlines(0, ax=get_grid_subplot(grid, 2,0), color='green', alpha=0.5)\n",
    "legend_elements = [Line2D([0], [0], color='#D95319', lw=2, label='Full Chests'),\n",
    "                  Line2D([0], [0], color='silver', lw=2, label='Empty Chests')]\n",
    "plt.legend(handles=legend_elements, loc='best', ncol=1, fontsize=10)\n",
    "drop_spines(['top', 'right'], ax=get_grid_subplot(grid, 2, 0))\n",
    "\n",
    "# save_figure('fig2_chestface'+'.svg','/Users/clairehan/Desktop/paper_fig', close=False, bbox_inches='tight')"
   ]
  },
  {
   "cell_type": "markdown",
   "id": "f58dafec",
   "metadata": {},
   "source": [
    "## Recall Events"
   ]
  },
  {
   "cell_type": "code",
   "execution_count": 23,
   "id": "ee123a19",
   "metadata": {},
   "outputs": [],
   "source": [
    "# Get the response times of interest\n",
    "prompts = nwbfile.trials.confidence_prompt_time[:]\n",
    "responses = nwbfile.trials.response_time[:]"
   ]
  },
  {
   "cell_type": "code",
   "execution_count": 24,
   "id": "5546a083",
   "metadata": {},
   "outputs": [
    {
     "name": "stdout",
     "output_type": "stream",
     "text": [
      "Number of recall events: 80\n"
     ]
    }
   ],
   "source": [
    "# Check the number of recall events\n",
    "assert len(prompts) == len(responses)\n",
    "n_recalls = len(prompts)\n",
    "print('Number of recall events: {}'.format(n_recalls))"
   ]
  },
  {
   "cell_type": "markdown",
   "id": "f1dfa60e",
   "metadata": {},
   "source": [
    "### Response Prompt"
   ]
  },
  {
   "cell_type": "code",
   "execution_count": 25,
   "id": "174c5102",
   "metadata": {},
   "outputs": [],
   "source": [
    "# Gather neural data around trials of interest\n",
    "all_trials_prompt = epoch_spikes_by_event(spikes, prompts, trial_range)"
   ]
  },
  {
   "cell_type": "code",
   "execution_count": 26,
   "id": "ad28d4f3",
   "metadata": {},
   "outputs": [],
   "source": [
    "# Compute averages & statistical comparison of pre / post window firing rates\n",
    "avg_pre, avg_post, t_val, p_val = compare_pre_post_activity(all_trials_prompt, pre_window, post_window)"
   ]
  },
  {
   "cell_type": "code",
   "execution_count": 27,
   "id": "d8f2a766",
   "metadata": {},
   "outputs": [
    {
     "data": {
      "image/png": "[encoded data removed]",
      "text/plain": [
       "<Figure size 720x504 with 1 Axes>"
      ]
     },
     "metadata": {
      "needs_background": "light"
     },
     "output_type": "display_data"
    }
   ],
   "source": [
    "# Plot raster across all response prompts\n",
    "plot_rasters(all_trials_prompt, xlim=trial_range, vline=0, figsize=(10, 7), \n",
    "             title=create_raster_title('All Trials', avg_pre, avg_post, t_val, p_val))"
   ]
  },
  {
   "cell_type": "markdown",
   "id": "c89fc70e",
   "metadata": {},
   "source": [
    "### Response Button Press"
   ]
  },
  {
   "cell_type": "code",
   "execution_count": 28,
   "id": "b0e7858e",
   "metadata": {},
   "outputs": [],
   "source": [
    "# Gather neural data around trials of interest\n",
    "all_trials_response = epoch_spikes_by_event(spikes, responses, trial_range)"
   ]
  },
  {
   "cell_type": "code",
   "execution_count": 29,
   "id": "30bc5594",
   "metadata": {},
   "outputs": [],
   "source": [
    "# Compute averages & statistical comparison of pre / post window firing rates\n",
    "avg_pre, avg_post, t_val, p_val = compare_pre_post_activity(all_trials_response, pre_window, post_window)"
   ]
  },
  {
   "cell_type": "code",
   "execution_count": 30,
   "id": "16d7dac5",
   "metadata": {},
   "outputs": [
    {
     "data": {
      "image/png": "[encoded data removed]",
      "text/plain": [
       "<Figure size 720x504 with 1 Axes>"
      ]
     },
     "metadata": {
      "needs_background": "light"
     },
     "output_type": "display_data"
    }
   ],
   "source": [
    "# Plot raster across all response button presses\n",
    "plot_rasters(all_trials_response, xlim=trial_range, vline=0, figsize=(10, 7), \n",
    "             title=create_raster_title('All Trials', avg_pre, avg_post, t_val, p_val))"
   ]
  },
  {
   "cell_type": "markdown",
   "id": "560a0692",
   "metadata": {},
   "source": [
    "### Check All Cells"
   ]
  },
  {
   "cell_type": "code",
   "execution_count": 31,
   "id": "6f644bd0",
   "metadata": {},
   "outputs": [],
   "source": [
    "# Set which set of events to run\n",
    "event_label = 'openings' # 'openings', 'prompts', 'responses'"
   ]
  },
  {
   "cell_type": "code",
   "execution_count": 32,
   "id": "433686ba",
   "metadata": {
    "scrolled": false
   },
   "outputs": [],
   "source": [
    "# # Run across all cells\n",
    "# events = {'openings' : openings, 'prompts' : prompts, 'responses' : responses}[event_label]\n",
    "# for uind in keep_inds:\n",
    "\n",
    "#     spikes = nwbfile.units.get_unit_spike_times(uind)        \n",
    "#     all_trials = epoch_spikes_by_event(spikes, events, trial_range)\n",
    "    \n",
    "#     avg_pre, avg_post, t_val, p_val = compare_pre_post_activity(all_trials, pre_window, post_window)\n",
    "    \n",
    "#     # Plot all trials together\n",
    "#     plot_rasters(all_trials, xlim=trial_range, vline=0, figsize=(10, 7),\n",
    "#                  title=create_raster_title(f'Neuron #{uind}', avg_pre, avg_post, t_val, p_val))\n",
    "\n",
    "#     # Plot separate rasters for full and empty trials\n",
    "#     if event_label == 'openings':\n",
    "#         axes = make_axes(2, 2, wspace=0.1, figsize=(16, 5),\n",
    "#                          title='Neuron #{}'.format(uind), title_y=1.05)\n",
    "        \n",
    "#         empty_trials = select_from_list(all_trials, empty_mask)\n",
    "#         avg_pre_e, avg_post_e, t_val_e, p_val_e = compare_pre_post_activity(empty_trials, pre_window, post_window)\n",
    "#         plot_rasters(empty_trials, xlim=trial_range, vline=0, ax=axes[0],\n",
    "#                      title=create_raster_title(f'Neuron #{uind}', avg_pre_e, avg_post_e, t_val_e, p_val_e))\n",
    "        \n",
    "#         full_trials = select_from_list(all_trials, full_mask)\n",
    "#         avg_pre_f, avg_post_f, t_val_f, p_val_f = compare_pre_post_activity(full_trials, pre_window, post_window)\n",
    "#         plot_rasters(full_trials, xlim=trial_range, vline=0, ax=axes[1],\n",
    "#                      title=create_raster_title(f'Neuron #{uind}', avg_pre_f, avg_post_f, t_val_f, p_val_f))"
   ]
  }
 ],
 "metadata": {
  "kernelspec": {
   "display_name": "Python 3 (ipykernel)",
   "language": "python",
   "name": "python3"
  },
  "language_info": {
   "codemirror_mode": {
    "name": "ipython",
    "version": 3
   },
   "file_extension": ".py",
   "mimetype": "text/x-python",
   "name": "python",
   "nbconvert_exporter": "python",
   "pygments_lexer": "ipython3",
   "version": "3.10.9"
  }
 },
 "nbformat": 4,
 "nbformat_minor": 5
}
