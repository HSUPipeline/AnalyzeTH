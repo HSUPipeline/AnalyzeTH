{
 "cells": [
  {
   "cell_type": "markdown",
   "id": "be2a4891",
   "metadata": {},
   "source": [
    "# Serial Position Cell Analysis\n",
    "\n",
    "Analyze TH data for serial positon cells. "
   ]
  },
  {
   "cell_type": "code",
   "execution_count": 1,
   "id": "2708f16b",
   "metadata": {},
   "outputs": [],
   "source": [
    "%config Completer.use_jedi = False"
   ]
  },
  {
   "cell_type": "code",
   "execution_count": 1,
   "id": "ad74661d",
   "metadata": {},
   "outputs": [],
   "source": [
    "import numpy as np\n",
    "import pandas as pd\n",
    "import matplotlib.pyplot as plt\n",
    "\n",
    "from scipy.stats import sem\n",
    "from convnwb.io import load_nwbfile\n",
    "\n",
    "from spiketools.stats.shuffle import shuffle_spikes\n",
    "from spiketools.stats.permutations import compute_surrogate_stats\n",
    "from spiketools.measures.collections import detect_empty_time_ranges\n",
    "from spiketools.measures.conversions import convert_times_to_rates\n",
    "from spiketools.measures.trials import compute_segment_frs\n",
    "from spiketools.plts.spatial import plot_positions\n",
    "from spiketools.plts.stats import plot_surrogates\n",
    "from spiketools.plts.utils import make_axes\n",
    "from spiketools.plts.data import plot_bar\n",
    "from spiketools.plts.annotate import color_pvalue\n",
    "from spiketools.plts.style import drop_spines\n",
    "from spiketools.utils import set_random_seed\n",
    "from spiketools.utils.extract import (get_range, get_value_by_time,\n",
    "                                      get_values_by_time_range, get_values_by_times)"
   ]
  },
  {
   "cell_type": "code",
   "execution_count": 2,
   "id": "f8e78125",
   "metadata": {},
   "outputs": [],
   "source": [
    "import seaborn as sns\n",
    "sns.set_context('talk')"
   ]
  },
  {
   "cell_type": "code",
   "execution_count": 3,
   "id": "2c5573e7",
   "metadata": {
    "scrolled": true
   },
   "outputs": [],
   "source": [
    "import sys\n",
    "sys.path.append('../code')\n",
    "from models import create_df_serial, fit_anova_serial"
   ]
  },
  {
   "cell_type": "markdown",
   "id": "001d9c0d",
   "metadata": {},
   "source": [
    "# Settings"
   ]
  },
  {
   "cell_type": "code",
   "execution_count": 5,
   "id": "c41abc46",
   "metadata": {},
   "outputs": [],
   "source": [
    "# Set random seed, for consistency shuffling\n",
    "set_random_seed(101)"
   ]
  },
  {
   "cell_type": "code",
   "execution_count": 6,
   "id": "0f597e26",
   "metadata": {},
   "outputs": [],
   "source": [
    "# Define the base data folder\n",
    "#data_folder = '/Users/tom/Data/JacobsLab/WVTH/nwb'\n",
    "data_folder = '/data12/jacobs_lab/WVTH/nwb'"
   ]
  },
  {
   "cell_type": "code",
   "execution_count": 7,
   "id": "c914bdee",
   "metadata": {},
   "outputs": [],
   "source": [
    "# Define session information\n",
    "session = {\n",
    "    'experiment' : 'THF',\n",
    "    'subject' : 'wv001',\n",
    "    'session' : 2    \n",
    "}"
   ]
  },
  {
   "cell_type": "code",
   "execution_count": 8,
   "id": "a4768b1f",
   "metadata": {},
   "outputs": [],
   "source": [
    "# Shuffle Settings\n",
    "shuffle_approach = 'CIRCULAR'  # 'CIRCULAR', 'BINCIRC'\n",
    "n_surrogates = 25\n",
    "\n",
    "if shuffle_approach == 'CIRCULAR':\n",
    "    shuffle_kwargs = {}\n",
    "if shuffle_approach == 'BINCIRC':\n",
    "    shuffle_kwargs = {}\n",
    "    #shuffle_kwargs = {'shuffle_min' : 20000}"
   ]
  },
  {
   "cell_type": "code",
   "execution_count": 9,
   "id": "e9d95535-56c2-4cc6-9e5b-3437fbb7a1ec",
   "metadata": {},
   "outputs": [],
   "source": [
    "# Define any quality measures\n",
    "empty_time_bin = 0.25"
   ]
  },
  {
   "cell_type": "code",
   "execution_count": 10,
   "id": "00786cf5",
   "metadata": {},
   "outputs": [],
   "source": [
    "# Set example unit to analyze\n",
    "uind = 74"
   ]
  },
  {
   "cell_type": "code",
   "execution_count": 11,
   "id": "7c002bbf",
   "metadata": {},
   "outputs": [],
   "source": [
    "# Set which analysis method to run\n",
    "METHOD = 'ANOVA'  # 'SEGMENT' / 'ANOVA'"
   ]
  },
  {
   "cell_type": "markdown",
   "id": "e1d39784",
   "metadata": {},
   "source": [
    "# Load Data"
   ]
  },
  {
   "cell_type": "code",
   "execution_count": 12,
   "id": "dac906e0",
   "metadata": {},
   "outputs": [],
   "source": [
    "# Load NWB file\n",
    "nwbfile = load_nwbfile(session, data_folder)"
   ]
  },
  {
   "cell_type": "markdown",
   "id": "c36ca17f",
   "metadata": {},
   "source": [
    "#### Get Trial Data"
   ]
  },
  {
   "cell_type": "code",
   "execution_count": 13,
   "id": "94f0c03a",
   "metadata": {},
   "outputs": [
    {
     "name": "stdout",
     "output_type": "stream",
     "text": [
      "Number of trials: 24\n"
     ]
    }
   ],
   "source": [
    "# Get the number of trials\n",
    "n_trials = len(nwbfile.trials)\n",
    "print('Number of trials: {}'.format(n_trials))"
   ]
  },
  {
   "cell_type": "code",
   "execution_count": 14,
   "id": "d99f2a15-877b-456d-a59e-68ee261739a1",
   "metadata": {},
   "outputs": [],
   "source": [
    "# Get task time range\n",
    "task_range = [0, nwbfile.trials.stop_time[-1]]"
   ]
  },
  {
   "cell_type": "code",
   "execution_count": 15,
   "id": "26354040",
   "metadata": {},
   "outputs": [],
   "source": [
    "# Extract behavioural markers of interest\n",
    "nav_starts = nwbfile.trials['navigation_start'].data[:]\n",
    "chest_openings = nwbfile.trials['chest_opening_time'][:]"
   ]
  },
  {
   "cell_type": "code",
   "execution_count": 16,
   "id": "9a870520",
   "metadata": {},
   "outputs": [],
   "source": [
    "# Define the segment times of interest\n",
    "seg_times = np.insert(np.array(chest_openings), 0, nav_starts, axis=1)"
   ]
  },
  {
   "cell_type": "markdown",
   "id": "c377f6a8",
   "metadata": {},
   "source": [
    "#### Get Unit Data"
   ]
  },
  {
   "cell_type": "code",
   "execution_count": 17,
   "id": "0c25c622",
   "metadata": {},
   "outputs": [
    {
     "name": "stdout",
     "output_type": "stream",
     "text": [
      "Number of units: 81\n",
      "Number to keep:  57\n"
     ]
    }
   ],
   "source": [
    "# Check the number of units & keep indices\n",
    "n_units = len(nwbfile.units)\n",
    "keep_inds = np.where(nwbfile.units.keep[:])[0]\n",
    "n_keep = len(keep_inds)\n",
    "print('Number of units: {}'.format(n_units))\n",
    "print('Number to keep:  {}'.format(n_keep))"
   ]
  },
  {
   "cell_type": "code",
   "execution_count": 18,
   "id": "29c25417-1f5b-4e75-821e-5cd49ece3e6a",
   "metadata": {},
   "outputs": [
    {
     "name": "stderr",
     "output_type": "stream",
     "text": [
      "/home1/tom.donoghue/.conda/envs/thproj/lib/python3.8/site-packages/spiketools/utils/checks.py:232: UserWarning: The data values extend beyond the given bin definition.\n",
      "  warnings.warn(msg)\n"
     ]
    }
   ],
   "source": [
    "# Detect any empty ranges in the recording, and add them to shuffle arguments\n",
    "empty_ranges = detect_empty_time_ranges(\\\n",
    "    [nwbfile.units.get_unit_spike_times(ii) for ii in keep_inds], empty_time_bin, task_range)\n",
    "shuffle_kwargs['drop_time_range'] = empty_ranges"
   ]
  },
  {
   "cell_type": "code",
   "execution_count": 19,
   "id": "0a704dd6",
   "metadata": {},
   "outputs": [],
   "source": [
    "# Get spikes for example unit\n",
    "spikes = nwbfile.units.get_unit_spike_times(uind)"
   ]
  },
  {
   "cell_type": "markdown",
   "id": "3a2129b6",
   "metadata": {},
   "source": [
    "#### Get Position Data"
   ]
  },
  {
   "cell_type": "code",
   "execution_count": 20,
   "id": "9956705e",
   "metadata": {},
   "outputs": [],
   "source": [
    "# Extract the position data\n",
    "ptimes = nwbfile.acquisition['position']['player_position'].timestamps[:]\n",
    "positions = nwbfile.acquisition['position']['player_position'].data[:].T"
   ]
  },
  {
   "cell_type": "code",
   "execution_count": 21,
   "id": "805c75c6",
   "metadata": {},
   "outputs": [],
   "source": [
    "# Get the chest positions & trial indices\n",
    "chest_xs, chest_ys = nwbfile.acquisition['stimuli']['chest_positions'].data[:].T\n",
    "chest_trials = nwbfile.trials.chest_trials[:]"
   ]
  },
  {
   "cell_type": "markdown",
   "id": "c98bb323",
   "metadata": {},
   "source": [
    "# Single Trial"
   ]
  },
  {
   "cell_type": "code",
   "execution_count": 22,
   "id": "6ed0b976",
   "metadata": {},
   "outputs": [],
   "source": [
    "# Get trial information\n",
    "t_ind = 10\n",
    "t_st = nwbfile.trials['navigation_start'][t_ind]\n",
    "ch_openings = nwbfile.trials['chest_opening_time'][t_ind]\n",
    "t_en = ch_openings[-1]"
   ]
  },
  {
   "cell_type": "code",
   "execution_count": 23,
   "id": "fa8f7544",
   "metadata": {},
   "outputs": [],
   "source": [
    "# Get the chests for the current trial\n",
    "t_mask = chest_trials == t_ind"
   ]
  },
  {
   "cell_type": "code",
   "execution_count": 24,
   "id": "eb2d7e5c",
   "metadata": {},
   "outputs": [],
   "source": [
    "# Select chest openings for the current trial\n",
    "t_time, t_pos = get_values_by_time_range(ptimes, positions, t_st, t_en)\n",
    "ch_times = [get_value_by_time(t_time, t_pos, ch_op) for ch_op in ch_openings]"
   ]
  },
  {
   "cell_type": "code",
   "execution_count": 25,
   "id": "ae6729f9",
   "metadata": {},
   "outputs": [],
   "source": [
    "# Restrict spikes to the selected trial, and get spike positions\n",
    "t_spikes = get_range(spikes, t_st, t_en)\n",
    "spike_positions = get_values_by_times(t_time, t_pos, t_spikes, threshold=0.25)"
   ]
  },
  {
   "cell_type": "code",
   "execution_count": 26,
   "id": "460d2b59",
   "metadata": {},
   "outputs": [
    {
     "data": {
      "image/png": "[encoded data removed]",
      "text/plain": [
       "<Figure size 500x700 with 1 Axes>"
      ]
     },
     "metadata": {},
     "output_type": "display_data"
    }
   ],
   "source": [
    "# Plot an encoding trial: with traversals, chest locations, and spike firing\n",
    "tspikes = {'positions' : spike_positions, 'ms' : 10, 'alpha' : 0.6}\n",
    "landmarks = [{'positions' : np.array([chest_xs[t_mask], chest_ys[t_mask]]),\n",
    "              'color' : 'green', 'ms' : 50, 'alpha' : 0.25},\n",
    "             {'positions' : np.atleast_2d(t_pos[:, 0]).T, 'color' : 'blue', 'ms' : 15},\n",
    "             {'positions' : np.array(ch_times).T, 'color' : 'y', 'ms' : 15}]\n",
    "plot_positions(t_pos, tspikes, landmarks, alpha=0.75, figsize=(5, 7))"
   ]
  },
  {
   "cell_type": "markdown",
   "id": "3d9708ec",
   "metadata": {},
   "source": [
    "# Serial Position"
   ]
  },
  {
   "cell_type": "markdown",
   "id": "72bdd42d",
   "metadata": {},
   "source": [
    "### Single Trial"
   ]
  },
  {
   "cell_type": "code",
   "execution_count": 27,
   "id": "ae4549c1",
   "metadata": {},
   "outputs": [],
   "source": [
    "# Compute firing rate across each serial position segment\n",
    "frs = convert_times_to_rates(t_spikes, seg_times[t_ind, :])"
   ]
  },
  {
   "cell_type": "code",
   "execution_count": 28,
   "id": "46309989",
   "metadata": {},
   "outputs": [
    {
     "data": {
      "image/png": "[encoded data removed]",
      "text/plain": [
       "<Figure size 640x480 with 1 Axes>"
      ]
     },
     "metadata": {},
     "output_type": "display_data"
    }
   ],
   "source": [
    "# Plot firing rate per segment (single trial)\n",
    "plot_bar(frs, [0, 1, 2, 3])"
   ]
  },
  {
   "cell_type": "markdown",
   "id": "460641d7",
   "metadata": {},
   "source": [
    "### All Trials"
   ]
  },
  {
   "cell_type": "code",
   "execution_count": 29,
   "id": "778c6a49",
   "metadata": {},
   "outputs": [],
   "source": [
    "# Compute firing rates per segment for all trials\n",
    "all_frs = compute_segment_frs(spikes, seg_times)"
   ]
  },
  {
   "cell_type": "code",
   "execution_count": 30,
   "id": "8ae29bce",
   "metadata": {},
   "outputs": [
    {
     "data": {
      "image/png": "[encoded data removed]",
      "text/plain": [
       "<Figure size 640x480 with 1 Axes>"
      ]
     },
     "metadata": {},
     "output_type": "display_data"
    }
   ],
   "source": [
    "# Plot firing rates per segment across all trials\n",
    "plot_bar(all_frs.mean(0), [0, 1, 2, 3], yerr=sem(all_frs, 0))"
   ]
  },
  {
   "cell_type": "markdown",
   "id": "7ebef8aa",
   "metadata": {},
   "source": [
    "## Statistical Analyses"
   ]
  },
  {
   "cell_type": "code",
   "execution_count": 31,
   "id": "7375c8be",
   "metadata": {},
   "outputs": [],
   "source": [
    "# Create shuffled time series for comparison\n",
    "times_shuffle = shuffle_spikes(spikes, shuffle_approach, n_surrogates, **shuffle_kwargs)"
   ]
  },
  {
   "cell_type": "markdown",
   "id": "34f71a55",
   "metadata": {},
   "source": [
    "## ANOVA Analysis"
   ]
  },
  {
   "cell_type": "code",
   "execution_count": 32,
   "id": "7bc7abc1",
   "metadata": {},
   "outputs": [],
   "source": [
    "# Create dataframe\n",
    "df = create_df_serial(all_frs)"
   ]
  },
  {
   "cell_type": "code",
   "execution_count": 33,
   "id": "6610c7b9",
   "metadata": {},
   "outputs": [
    {
     "data": {
      "text/plain": [
       "0.6402260571362272"
      ]
     },
     "execution_count": 33,
     "metadata": {},
     "output_type": "execute_result"
    }
   ],
   "source": [
    "# Fit the ANOVA, and get f-value\n",
    "f_val = fit_anova_serial(df)\n",
    "f_val"
   ]
  },
  {
   "cell_type": "code",
   "execution_count": 34,
   "id": "e00a70cc",
   "metadata": {},
   "outputs": [],
   "source": [
    "# Compute measures across shuffled time series for comparison\n",
    "surrogates = np.zeros(n_surrogates)\n",
    "for ind, shuffle in enumerate(times_shuffle):\n",
    "    all_frs_shuffle = compute_segment_frs(shuffle, seg_times)\n",
    "    df_shuffle = create_df_serial(all_frs_shuffle)\n",
    "    surrogates[ind] = fit_anova_serial(df_shuffle)"
   ]
  },
  {
   "cell_type": "code",
   "execution_count": 35,
   "id": "1aa965b3",
   "metadata": {},
   "outputs": [
    {
     "name": "stdout",
     "output_type": "stream",
     "text": [
      "p-value: 0.16\n",
      "z-score: 0.36\n"
     ]
    }
   ],
   "source": [
    "# Compute surrogate statistics\n",
    "p_val, z_score = compute_surrogate_stats(f_val, surrogates, verbose=True)"
   ]
  },
  {
   "cell_type": "markdown",
   "id": "c9759235",
   "metadata": {},
   "source": [
    "# All Cells"
   ]
  },
  {
   "cell_type": "code",
   "execution_count": 36,
   "id": "be530146",
   "metadata": {},
   "outputs": [],
   "source": [
    "# # Plot the firing rate per segment across trials for all units\n",
    "# for ii, ax in zip(keep_inds, make_axes(n_keep, hspace=0.4, wspace=0.4)):\n",
    "\n",
    "#     uspikes = nwbfile.units.get_unit_spike_times(ii)\n",
    "\n",
    "#     seg_frs = compute_segment_frs(uspikes, seg_times)\n",
    "    \n",
    "#     # Compute real data value\n",
    "#     if METHOD == 'ANOVA':\n",
    "#         data_value = fit_anova_serial(create_df_serial(seg_frs))\n",
    "\n",
    "#     # Compute measures on surrogates\n",
    "#     surrogates = np.zeros(n_surrogates)\n",
    "#     times_shuffle = shuffle_spikes(uspikes, shuffle_approach, n_surrogates, **shuffle_kwargs)\n",
    "#     for ind, shuffle in enumerate(times_shuffle):\n",
    "\n",
    "#         surr_seg_frs = compute_segment_frs(shuffle, seg_times)\n",
    "\n",
    "#         if METHOD == 'ANOVA':\n",
    "#             surrogates[ind] = fit_anova_serial(create_df_serial(surr_seg_frs))\n",
    "\n",
    "#     # Compute z-score & p-value based on surrogates\n",
    "#     p_val, z_score = compute_surrogate_stats(data_value, surrogates)\n",
    "    \n",
    "#     # Plot firing across serial positions\n",
    "#     plot_bar(all_frs.mean(0), [0, 1, 2, 3], yerr=sem(all_frs, 0),\n",
    "#              title='U{} \\n z-{:1.2f}, p-{:1.2f}'.format(ii, z_score, p_val),\n",
    "#              title_color=color_pvalue(p_val),\n",
    "#              ax=ax)"
   ]
  },
  {
   "cell_type": "markdown",
   "id": "e94d4d79",
   "metadata": {},
   "source": [
    "## Group Results "
   ]
  },
  {
   "cell_type": "code",
   "execution_count": 4,
   "id": "f0e3af4f",
   "metadata": {},
   "outputs": [],
   "source": [
    "# Load & merge the results sheets of THF & THO\n",
    "df_THF = pd.read_csv(\"/Users/Claire_han/Desktop/research/WVTH/final_results/thf_all_results.csv\")\n",
    "df_THO = pd.read_csv(\"/Users/Claire_han/Desktop/research/WVTH/final_results/tho_all_results.csv\")"
   ]
  },
  {
   "cell_type": "code",
   "execution_count": 5,
   "id": "513b9830",
   "metadata": {},
   "outputs": [],
   "source": [
    "df_amy_face = df_THF[(df_THF.region == 'AMY') & (df_THF.is_serial)]\n",
    "df_ah_face = df_THF[(df_THF.region == 'AH') & (df_THF.is_serial)]\n",
    "df_ph_face = df_THF[(df_THF.region == 'PH') & (df_THF.is_serial)]\n",
    "\n",
    "df_amy_obj = df_THO[(df_THO.region == 'AMY') & (df_THO.is_serial)]\n",
    "df_ah_obj = df_THO[(df_THO.region == 'AH') & (df_THO.is_serial)]\n",
    "df_ph_obj = df_THO[(df_THO.region == 'PH') & (df_THO.is_serial)]"
   ]
  },
  {
   "cell_type": "code",
   "execution_count": 6,
   "id": "cf106698",
   "metadata": {},
   "outputs": [],
   "source": [
    "serial_face = (len(df_THF[df_THF.is_serial]) / len(df_THF)) * 100\n",
    "serial_obj = (len(df_THO[df_THO.is_serial]) / len(df_THO)) * 100\n",
    "\n",
    "serial_amy_face = (len(df_amy_face) / len(df_THF[df_THF.region == 'AMY'])) * 100\n",
    "serial_amy_obj = (len(df_amy_obj) / len(df_THO[df_THO.region == 'AMY'])) * 100\n",
    "\n",
    "serial_ah_face = (len(df_ah_face) / len(df_THF[df_THF.region == 'AH'])) * 100\n",
    "serial_ah_obj = (len(df_ah_obj) / len(df_THO[df_THO.region == 'AH'])) * 100\n",
    "\n",
    "serial_ph_face = (len(df_ph_face) / len(df_THF[df_THF.region == 'PH'])) * 100\n",
    "serial_ph_obj = (len(df_ph_obj) / len(df_THO[df_THO.region == 'PH'])) * 100\n",
    "\n",
    "chance = 5"
   ]
  },
  {
   "cell_type": "code",
   "execution_count": 7,
   "id": "769a6937",
   "metadata": {},
   "outputs": [],
   "source": [
    "THF_dic_area = {\n",
    "    'total':'43',\n",
    "    'Amg':'23',\n",
    "    'Anterior Hippo':'12',\n",
    "    'Posterior Hippo':'8',\n",
    "}\n",
    "\n",
    "THO_dic_area = {\n",
    "    'total':'40',\n",
    "    'Amg':'28',\n",
    "    'Anterior Hippo':'5',\n",
    "    'Posterior Hippo':'7',\n",
    "}\n",
    "\n",
    "THF_dic_percent = {\n",
    "    'total':serial_face,\n",
    "    'Amg':serial_amy_face,\n",
    "    'Anterior Hippo':serial_ah_face,\n",
    "    'Posterior Hippo':serial_ph_face,\n",
    "}\n",
    "\n",
    "THO_dic_percent = {\n",
    "    'total':serial_obj,\n",
    "    'Amg':serial_amy_obj,\n",
    "    'Anterior Hippo':serial_ah_obj,\n",
    "    'Posterior Hippo':serial_ph_obj,\n",
    "}"
   ]
  },
  {
   "cell_type": "code",
   "execution_count": 8,
   "id": "a22ba7ed",
   "metadata": {},
   "outputs": [
    {
     "data": {
      "image/png": "[encoded data removed]",
      "text/plain": [
       "<Figure size 500x300 with 1 Axes>"
      ]
     },
     "metadata": {},
     "output_type": "display_data"
    }
   ],
   "source": [
    "labels = ['TOTAL','AMG', 'AH', 'PH']\n",
    "THF_count = THF_dic_area.values()\n",
    "THO_count = THO_dic_area.values()\n",
    "\n",
    "THF_percent = THF_dic_percent.values()\n",
    "THO_percent = THO_dic_percent.values()\n",
    "\n",
    "x = np.arange(len(labels))  # the label locations\n",
    "width = 0.4  # the width of the bars\n",
    "\n",
    "_, ax = plt.subplots(figsize=(5,3))\n",
    "rects1 = ax.bar(x - width/2, THF_percent, width, label='Face', color='#0F7AC0')\n",
    "rects2 = ax.bar(x + width/2, THO_percent, width, label='Object', color='#D95319')\n",
    "\n",
    "ax.set(ylabel='Significant cells (%)', title='serial cell group results', \n",
    "       xticks=x, xticklabels=labels)\n",
    "ax.legend(loc='best')\n",
    "\n",
    "ax.bar_label(rects1, THF_count, label_type='center', color='white')\n",
    "ax.bar_label(rects2, THO_count, label_type='center', color='white')\n",
    "\n",
    "plt.axhline(y=chance, color='k', linestyle='--')\n",
    "drop_spines(['top', 'right'], ax=ax)"
   ]
  }
 ],
 "metadata": {
  "kernelspec": {
   "display_name": "Python 3 (ipykernel)",
   "language": "python",
   "name": "python3"
  },
  "language_info": {
   "codemirror_mode": {
    "name": "ipython",
    "version": 3
   },
   "file_extension": ".py",
   "mimetype": "text/x-python",
   "name": "python",
   "nbconvert_exporter": "python",
   "pygments_lexer": "ipython3",
   "version": "3.10.9"
  }
 },
 "nbformat": 4,
 "nbformat_minor": 5
}
